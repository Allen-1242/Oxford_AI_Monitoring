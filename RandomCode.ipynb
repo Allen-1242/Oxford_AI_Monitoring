{
 "cells": [
  {
   "cell_type": "code",
   "execution_count": null,
   "id": "6e0ff685-d2c4-4601-b327-99e414610e77",
   "metadata": {},
   "outputs": [],
   "source": [
    "#Tunnel through the proxy server \n",
    "def fetch_page_with_retry(url, proxies, max_retries=5, backoff_factor=1):\n",
    "    \"\"\"\n",
    "    Fetches a page using a rotating proxy and retries on HTTP 429 (rate limit exceeded) errors using exponential backoff.\n",
    "    \n",
    "    :param url: URL to fetch.\n",
    "    :param proxies: List of proxy servers to use.\n",
    "    :param max_retries: Maximum number of retries.\n",
    "    :param backoff_factor: Factor by which to multiply the delay for each retry.\n",
    "    :return: The page source if successful, None otherwise.\n",
    "    \"\"\"\n",
    "    for attempt in range(max_retries):\n",
    "        proxy = random.choice(proxies)  # Select a random proxy\n",
    "        proxy_dict = {\"http\": proxy, \"https\": proxy}\n",
    "        \n",
    "        try:\n",
    "            response = requests.get(url, proxies=proxy_dict)\n",
    "            response.raise_for_status()  # Raises exception for HTTP errors\n",
    "            \n",
    "            if response.status_code == 200:\n",
    "                return response.text\n",
    "            else:\n",
    "                print(f\"Failed to retrieve {url}: Status code {response.status_code}\")\n",
    "                return None\n",
    "        except requests.exceptions.HTTPError as e:\n",
    "            if e.response.status_code == 429:\n",
    "                sleep_time = backoff_factor * (2 ** attempt)\n",
    "                print(f\"Rate limit exceeded with proxy {proxy}, waiting {sleep_time} seconds before retrying...\")\n",
    "                sleep(sleep_time)\n",
    "            else:\n",
    "                print(f\"HTTP error encountered with proxy {proxy}: {e}\")\n",
    "                return None\n",
    "        except Exception as e:\n",
    "            print(f\"An error occurred while fetching {url} with proxy {proxy}: {e}\")\n",
    "            return None\n",
    "    print(f\"Max retries exceeded for {url}.\")\n",
    "    return None"
   ]
  },
  {
   "cell_type": "code",
   "execution_count": null,
   "id": "bd68b114-b618-412b-8faa-f38e05ca2644",
   "metadata": {},
   "outputs": [],
   "source": [
    "#Sleep timer activated to build exceptions\n",
    "        except requests.exceptions.HTTPError as e:\n",
    "            if e.response.status_code == 429:\n",
    "                print(\"Rate limit exceeded, waiting before retrying...\")\n",
    "                time.sleep(10)\n",
    "                continue \n",
    "        \n",
    "        #General exception\n",
    "        except Exception as e:\n",
    "            print(f\"An error occurred while processing {url}: {e}\")"
   ]
  },
  {
   "cell_type": "code",
   "execution_count": null,
   "id": "41f82947-a410-4648-9bb0-0954d5862d9a",
   "metadata": {},
   "outputs": [],
   "source": [
    "#Getting the list of companies\n",
    "with open('/Users/allensunny/Downloads/Company_list.txt', 'r') as file:\n",
    "    content = file.read()\n",
    "\n",
    "#Cleaning the company names \n",
    "def clean_company_name(name):\n",
    "    \n",
    "    # Remove common corporate designations\n",
    "    cleaned_name = re.sub(r'\\s*(Inc\\.|Co\\.|Corp\\.|Corporation|Company|Incorporated|LLC|Group|Corp|Enterprises|International|Co\\.\\,|L\\.P\\.|Holdings|Inc|Co)\\.?$', '', name, flags=re.IGNORECASE)\n",
    "    return cleaned_name.strip()\n",
    "\n",
    "# Split the cleaned text into a list based on multiple spaces as a separator\n",
    "company_list = content.split('    ')  # Adjust the number of spaces based on how the original text is structured\n",
    "company_list = [company.strip() for company in company_list if company.strip()]\n",
    "\n",
    "# Further cleaning to ensure no leading/trailing spaces in company names\n",
    "company_list = [company.strip() for company in company_list]\n",
    "\n",
    "# Apply the cleaning function to each company name\n",
    "cleaned_companies = [clean_company_name(company) for company in company_list]"
   ]
  }
 ],
 "metadata": {
  "kernelspec": {
   "display_name": "Python 3 (ipykernel)",
   "language": "python",
   "name": "python3"
  },
  "language_info": {
   "codemirror_mode": {
    "name": "ipython",
    "version": 3
   },
   "file_extension": ".py",
   "mimetype": "text/x-python",
   "name": "python",
   "nbconvert_exporter": "python",
   "pygments_lexer": "ipython3",
   "version": "3.12.1"
  }
 },
 "nbformat": 4,
 "nbformat_minor": 5
}
