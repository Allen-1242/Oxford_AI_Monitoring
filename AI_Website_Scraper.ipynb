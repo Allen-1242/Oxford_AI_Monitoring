{
 "cells": [
  {
   "cell_type": "code",
   "execution_count": 33,
   "id": "cdebbb2d-017f-4771-a3ab-13f3bbc84de3",
   "metadata": {
    "collapsed": true,
    "jupyter": {
     "outputs_hidden": true
    },
    "scrolled": true
   },
   "outputs": [
    {
     "ename": "MaxRetryError",
     "evalue": "HTTPConnectionPool(host='localhost', port=53702): Max retries exceeded with url: /session/2125c982-bf8c-45dc-8a4a-c137bebdd0e3/window (Caused by NewConnectionError('<urllib3.connection.HTTPConnection object at 0x28fa05f70>: Failed to establish a new connection: [Errno 61] Connection refused'))",
     "output_type": "error",
     "traceback": [
      "\u001b[0;31m---------------------------------------------------------------------------\u001b[0m",
      "\u001b[0;31mConnectionRefusedError\u001b[0m                    Traceback (most recent call last)",
      "File \u001b[0;32m~/anaconda3/envs/oxford_new/lib/python3.12/site-packages/urllib3/connection.py:198\u001b[0m, in \u001b[0;36mHTTPConnection._new_conn\u001b[0;34m(self)\u001b[0m\n\u001b[1;32m    197\u001b[0m \u001b[38;5;28;01mtry\u001b[39;00m:\n\u001b[0;32m--> 198\u001b[0m     sock \u001b[38;5;241m=\u001b[39m \u001b[43mconnection\u001b[49m\u001b[38;5;241;43m.\u001b[39;49m\u001b[43mcreate_connection\u001b[49m\u001b[43m(\u001b[49m\n\u001b[1;32m    199\u001b[0m \u001b[43m        \u001b[49m\u001b[43m(\u001b[49m\u001b[38;5;28;43mself\u001b[39;49m\u001b[38;5;241;43m.\u001b[39;49m\u001b[43m_dns_host\u001b[49m\u001b[43m,\u001b[49m\u001b[43m \u001b[49m\u001b[38;5;28;43mself\u001b[39;49m\u001b[38;5;241;43m.\u001b[39;49m\u001b[43mport\u001b[49m\u001b[43m)\u001b[49m\u001b[43m,\u001b[49m\n\u001b[1;32m    200\u001b[0m \u001b[43m        \u001b[49m\u001b[38;5;28;43mself\u001b[39;49m\u001b[38;5;241;43m.\u001b[39;49m\u001b[43mtimeout\u001b[49m\u001b[43m,\u001b[49m\n\u001b[1;32m    201\u001b[0m \u001b[43m        \u001b[49m\u001b[43msource_address\u001b[49m\u001b[38;5;241;43m=\u001b[39;49m\u001b[38;5;28;43mself\u001b[39;49m\u001b[38;5;241;43m.\u001b[39;49m\u001b[43msource_address\u001b[49m\u001b[43m,\u001b[49m\n\u001b[1;32m    202\u001b[0m \u001b[43m        \u001b[49m\u001b[43msocket_options\u001b[49m\u001b[38;5;241;43m=\u001b[39;49m\u001b[38;5;28;43mself\u001b[39;49m\u001b[38;5;241;43m.\u001b[39;49m\u001b[43msocket_options\u001b[49m\u001b[43m,\u001b[49m\n\u001b[1;32m    203\u001b[0m \u001b[43m    \u001b[49m\u001b[43m)\u001b[49m\n\u001b[1;32m    204\u001b[0m \u001b[38;5;28;01mexcept\u001b[39;00m socket\u001b[38;5;241m.\u001b[39mgaierror \u001b[38;5;28;01mas\u001b[39;00m e:\n",
      "File \u001b[0;32m~/anaconda3/envs/oxford_new/lib/python3.12/site-packages/urllib3/util/connection.py:85\u001b[0m, in \u001b[0;36mcreate_connection\u001b[0;34m(address, timeout, source_address, socket_options)\u001b[0m\n\u001b[1;32m     84\u001b[0m \u001b[38;5;28;01mtry\u001b[39;00m:\n\u001b[0;32m---> 85\u001b[0m     \u001b[38;5;28;01mraise\u001b[39;00m err\n\u001b[1;32m     86\u001b[0m \u001b[38;5;28;01mfinally\u001b[39;00m:\n\u001b[1;32m     87\u001b[0m     \u001b[38;5;66;03m# Break explicitly a reference cycle\u001b[39;00m\n",
      "File \u001b[0;32m~/anaconda3/envs/oxford_new/lib/python3.12/site-packages/urllib3/util/connection.py:73\u001b[0m, in \u001b[0;36mcreate_connection\u001b[0;34m(address, timeout, source_address, socket_options)\u001b[0m\n\u001b[1;32m     72\u001b[0m     sock\u001b[38;5;241m.\u001b[39mbind(source_address)\n\u001b[0;32m---> 73\u001b[0m \u001b[43msock\u001b[49m\u001b[38;5;241;43m.\u001b[39;49m\u001b[43mconnect\u001b[49m\u001b[43m(\u001b[49m\u001b[43msa\u001b[49m\u001b[43m)\u001b[49m\n\u001b[1;32m     74\u001b[0m \u001b[38;5;66;03m# Break explicitly a reference cycle\u001b[39;00m\n",
      "\u001b[0;31mConnectionRefusedError\u001b[0m: [Errno 61] Connection refused",
      "\nThe above exception was the direct cause of the following exception:\n",
      "\u001b[0;31mNewConnectionError\u001b[0m                        Traceback (most recent call last)",
      "File \u001b[0;32m~/anaconda3/envs/oxford_new/lib/python3.12/site-packages/urllib3/connectionpool.py:793\u001b[0m, in \u001b[0;36mHTTPConnectionPool.urlopen\u001b[0;34m(self, method, url, body, headers, retries, redirect, assert_same_host, timeout, pool_timeout, release_conn, chunked, body_pos, preload_content, decode_content, **response_kw)\u001b[0m\n\u001b[1;32m    792\u001b[0m \u001b[38;5;66;03m# Make the request on the HTTPConnection object\u001b[39;00m\n\u001b[0;32m--> 793\u001b[0m response \u001b[38;5;241m=\u001b[39m \u001b[38;5;28;43mself\u001b[39;49m\u001b[38;5;241;43m.\u001b[39;49m\u001b[43m_make_request\u001b[49m\u001b[43m(\u001b[49m\n\u001b[1;32m    794\u001b[0m \u001b[43m    \u001b[49m\u001b[43mconn\u001b[49m\u001b[43m,\u001b[49m\n\u001b[1;32m    795\u001b[0m \u001b[43m    \u001b[49m\u001b[43mmethod\u001b[49m\u001b[43m,\u001b[49m\n\u001b[1;32m    796\u001b[0m \u001b[43m    \u001b[49m\u001b[43murl\u001b[49m\u001b[43m,\u001b[49m\n\u001b[1;32m    797\u001b[0m \u001b[43m    \u001b[49m\u001b[43mtimeout\u001b[49m\u001b[38;5;241;43m=\u001b[39;49m\u001b[43mtimeout_obj\u001b[49m\u001b[43m,\u001b[49m\n\u001b[1;32m    798\u001b[0m \u001b[43m    \u001b[49m\u001b[43mbody\u001b[49m\u001b[38;5;241;43m=\u001b[39;49m\u001b[43mbody\u001b[49m\u001b[43m,\u001b[49m\n\u001b[1;32m    799\u001b[0m \u001b[43m    \u001b[49m\u001b[43mheaders\u001b[49m\u001b[38;5;241;43m=\u001b[39;49m\u001b[43mheaders\u001b[49m\u001b[43m,\u001b[49m\n\u001b[1;32m    800\u001b[0m \u001b[43m    \u001b[49m\u001b[43mchunked\u001b[49m\u001b[38;5;241;43m=\u001b[39;49m\u001b[43mchunked\u001b[49m\u001b[43m,\u001b[49m\n\u001b[1;32m    801\u001b[0m \u001b[43m    \u001b[49m\u001b[43mretries\u001b[49m\u001b[38;5;241;43m=\u001b[39;49m\u001b[43mretries\u001b[49m\u001b[43m,\u001b[49m\n\u001b[1;32m    802\u001b[0m \u001b[43m    \u001b[49m\u001b[43mresponse_conn\u001b[49m\u001b[38;5;241;43m=\u001b[39;49m\u001b[43mresponse_conn\u001b[49m\u001b[43m,\u001b[49m\n\u001b[1;32m    803\u001b[0m \u001b[43m    \u001b[49m\u001b[43mpreload_content\u001b[49m\u001b[38;5;241;43m=\u001b[39;49m\u001b[43mpreload_content\u001b[49m\u001b[43m,\u001b[49m\n\u001b[1;32m    804\u001b[0m \u001b[43m    \u001b[49m\u001b[43mdecode_content\u001b[49m\u001b[38;5;241;43m=\u001b[39;49m\u001b[43mdecode_content\u001b[49m\u001b[43m,\u001b[49m\n\u001b[1;32m    805\u001b[0m \u001b[43m    \u001b[49m\u001b[38;5;241;43m*\u001b[39;49m\u001b[38;5;241;43m*\u001b[39;49m\u001b[43mresponse_kw\u001b[49m\u001b[43m,\u001b[49m\n\u001b[1;32m    806\u001b[0m \u001b[43m\u001b[49m\u001b[43m)\u001b[49m\n\u001b[1;32m    808\u001b[0m \u001b[38;5;66;03m# Everything went great!\u001b[39;00m\n",
      "File \u001b[0;32m~/anaconda3/envs/oxford_new/lib/python3.12/site-packages/urllib3/connectionpool.py:496\u001b[0m, in \u001b[0;36mHTTPConnectionPool._make_request\u001b[0;34m(self, conn, method, url, body, headers, retries, timeout, chunked, response_conn, preload_content, decode_content, enforce_content_length)\u001b[0m\n\u001b[1;32m    495\u001b[0m \u001b[38;5;28;01mtry\u001b[39;00m:\n\u001b[0;32m--> 496\u001b[0m     \u001b[43mconn\u001b[49m\u001b[38;5;241;43m.\u001b[39;49m\u001b[43mrequest\u001b[49m\u001b[43m(\u001b[49m\n\u001b[1;32m    497\u001b[0m \u001b[43m        \u001b[49m\u001b[43mmethod\u001b[49m\u001b[43m,\u001b[49m\n\u001b[1;32m    498\u001b[0m \u001b[43m        \u001b[49m\u001b[43murl\u001b[49m\u001b[43m,\u001b[49m\n\u001b[1;32m    499\u001b[0m \u001b[43m        \u001b[49m\u001b[43mbody\u001b[49m\u001b[38;5;241;43m=\u001b[39;49m\u001b[43mbody\u001b[49m\u001b[43m,\u001b[49m\n\u001b[1;32m    500\u001b[0m \u001b[43m        \u001b[49m\u001b[43mheaders\u001b[49m\u001b[38;5;241;43m=\u001b[39;49m\u001b[43mheaders\u001b[49m\u001b[43m,\u001b[49m\n\u001b[1;32m    501\u001b[0m \u001b[43m        \u001b[49m\u001b[43mchunked\u001b[49m\u001b[38;5;241;43m=\u001b[39;49m\u001b[43mchunked\u001b[49m\u001b[43m,\u001b[49m\n\u001b[1;32m    502\u001b[0m \u001b[43m        \u001b[49m\u001b[43mpreload_content\u001b[49m\u001b[38;5;241;43m=\u001b[39;49m\u001b[43mpreload_content\u001b[49m\u001b[43m,\u001b[49m\n\u001b[1;32m    503\u001b[0m \u001b[43m        \u001b[49m\u001b[43mdecode_content\u001b[49m\u001b[38;5;241;43m=\u001b[39;49m\u001b[43mdecode_content\u001b[49m\u001b[43m,\u001b[49m\n\u001b[1;32m    504\u001b[0m \u001b[43m        \u001b[49m\u001b[43menforce_content_length\u001b[49m\u001b[38;5;241;43m=\u001b[39;49m\u001b[43menforce_content_length\u001b[49m\u001b[43m,\u001b[49m\n\u001b[1;32m    505\u001b[0m \u001b[43m    \u001b[49m\u001b[43m)\u001b[49m\n\u001b[1;32m    507\u001b[0m \u001b[38;5;66;03m# We are swallowing BrokenPipeError (errno.EPIPE) since the server is\u001b[39;00m\n\u001b[1;32m    508\u001b[0m \u001b[38;5;66;03m# legitimately able to close the connection after sending a valid response.\u001b[39;00m\n\u001b[1;32m    509\u001b[0m \u001b[38;5;66;03m# With this behaviour, the received response is still readable.\u001b[39;00m\n",
      "File \u001b[0;32m~/anaconda3/envs/oxford_new/lib/python3.12/site-packages/urllib3/connection.py:400\u001b[0m, in \u001b[0;36mHTTPConnection.request\u001b[0;34m(self, method, url, body, headers, chunked, preload_content, decode_content, enforce_content_length)\u001b[0m\n\u001b[1;32m    399\u001b[0m     \u001b[38;5;28mself\u001b[39m\u001b[38;5;241m.\u001b[39mputheader(header, value)\n\u001b[0;32m--> 400\u001b[0m \u001b[38;5;28;43mself\u001b[39;49m\u001b[38;5;241;43m.\u001b[39;49m\u001b[43mendheaders\u001b[49m\u001b[43m(\u001b[49m\u001b[43m)\u001b[49m\n\u001b[1;32m    402\u001b[0m \u001b[38;5;66;03m# If we're given a body we start sending that in chunks.\u001b[39;00m\n",
      "File \u001b[0;32m~/anaconda3/envs/oxford_new/lib/python3.12/http/client.py:1322\u001b[0m, in \u001b[0;36mHTTPConnection.endheaders\u001b[0;34m(self, message_body, encode_chunked)\u001b[0m\n\u001b[1;32m   1321\u001b[0m     \u001b[38;5;28;01mraise\u001b[39;00m CannotSendHeader()\n\u001b[0;32m-> 1322\u001b[0m \u001b[38;5;28;43mself\u001b[39;49m\u001b[38;5;241;43m.\u001b[39;49m\u001b[43m_send_output\u001b[49m\u001b[43m(\u001b[49m\u001b[43mmessage_body\u001b[49m\u001b[43m,\u001b[49m\u001b[43m \u001b[49m\u001b[43mencode_chunked\u001b[49m\u001b[38;5;241;43m=\u001b[39;49m\u001b[43mencode_chunked\u001b[49m\u001b[43m)\u001b[49m\n",
      "File \u001b[0;32m~/anaconda3/envs/oxford_new/lib/python3.12/http/client.py:1081\u001b[0m, in \u001b[0;36mHTTPConnection._send_output\u001b[0;34m(self, message_body, encode_chunked)\u001b[0m\n\u001b[1;32m   1080\u001b[0m \u001b[38;5;28;01mdel\u001b[39;00m \u001b[38;5;28mself\u001b[39m\u001b[38;5;241m.\u001b[39m_buffer[:]\n\u001b[0;32m-> 1081\u001b[0m \u001b[38;5;28;43mself\u001b[39;49m\u001b[38;5;241;43m.\u001b[39;49m\u001b[43msend\u001b[49m\u001b[43m(\u001b[49m\u001b[43mmsg\u001b[49m\u001b[43m)\u001b[49m\n\u001b[1;32m   1083\u001b[0m \u001b[38;5;28;01mif\u001b[39;00m message_body \u001b[38;5;129;01mis\u001b[39;00m \u001b[38;5;129;01mnot\u001b[39;00m \u001b[38;5;28;01mNone\u001b[39;00m:\n\u001b[1;32m   1084\u001b[0m \n\u001b[1;32m   1085\u001b[0m     \u001b[38;5;66;03m# create a consistent interface to message_body\u001b[39;00m\n",
      "File \u001b[0;32m~/anaconda3/envs/oxford_new/lib/python3.12/http/client.py:1025\u001b[0m, in \u001b[0;36mHTTPConnection.send\u001b[0;34m(self, data)\u001b[0m\n\u001b[1;32m   1024\u001b[0m \u001b[38;5;28;01mif\u001b[39;00m \u001b[38;5;28mself\u001b[39m\u001b[38;5;241m.\u001b[39mauto_open:\n\u001b[0;32m-> 1025\u001b[0m     \u001b[38;5;28;43mself\u001b[39;49m\u001b[38;5;241;43m.\u001b[39;49m\u001b[43mconnect\u001b[49m\u001b[43m(\u001b[49m\u001b[43m)\u001b[49m\n\u001b[1;32m   1026\u001b[0m \u001b[38;5;28;01melse\u001b[39;00m:\n",
      "File \u001b[0;32m~/anaconda3/envs/oxford_new/lib/python3.12/site-packages/urllib3/connection.py:238\u001b[0m, in \u001b[0;36mHTTPConnection.connect\u001b[0;34m(self)\u001b[0m\n\u001b[1;32m    237\u001b[0m \u001b[38;5;28;01mdef\u001b[39;00m \u001b[38;5;21mconnect\u001b[39m(\u001b[38;5;28mself\u001b[39m) \u001b[38;5;241m-\u001b[39m\u001b[38;5;241m>\u001b[39m \u001b[38;5;28;01mNone\u001b[39;00m:\n\u001b[0;32m--> 238\u001b[0m     \u001b[38;5;28mself\u001b[39m\u001b[38;5;241m.\u001b[39msock \u001b[38;5;241m=\u001b[39m \u001b[38;5;28;43mself\u001b[39;49m\u001b[38;5;241;43m.\u001b[39;49m\u001b[43m_new_conn\u001b[49m\u001b[43m(\u001b[49m\u001b[43m)\u001b[49m\n\u001b[1;32m    239\u001b[0m     \u001b[38;5;28;01mif\u001b[39;00m \u001b[38;5;28mself\u001b[39m\u001b[38;5;241m.\u001b[39m_tunnel_host:\n\u001b[1;32m    240\u001b[0m         \u001b[38;5;66;03m# If we're tunneling it means we're connected to our proxy.\u001b[39;00m\n",
      "File \u001b[0;32m~/anaconda3/envs/oxford_new/lib/python3.12/site-packages/urllib3/connection.py:213\u001b[0m, in \u001b[0;36mHTTPConnection._new_conn\u001b[0;34m(self)\u001b[0m\n\u001b[1;32m    212\u001b[0m \u001b[38;5;28;01mexcept\u001b[39;00m \u001b[38;5;167;01mOSError\u001b[39;00m \u001b[38;5;28;01mas\u001b[39;00m e:\n\u001b[0;32m--> 213\u001b[0m     \u001b[38;5;28;01mraise\u001b[39;00m NewConnectionError(\n\u001b[1;32m    214\u001b[0m         \u001b[38;5;28mself\u001b[39m, \u001b[38;5;124mf\u001b[39m\u001b[38;5;124m\"\u001b[39m\u001b[38;5;124mFailed to establish a new connection: \u001b[39m\u001b[38;5;132;01m{\u001b[39;00me\u001b[38;5;132;01m}\u001b[39;00m\u001b[38;5;124m\"\u001b[39m\n\u001b[1;32m    215\u001b[0m     ) \u001b[38;5;28;01mfrom\u001b[39;00m \u001b[38;5;21;01me\u001b[39;00m\n\u001b[1;32m    217\u001b[0m \u001b[38;5;66;03m# Audit hooks are only available in Python 3.8+\u001b[39;00m\n",
      "\u001b[0;31mNewConnectionError\u001b[0m: <urllib3.connection.HTTPConnection object at 0x28fa05f70>: Failed to establish a new connection: [Errno 61] Connection refused",
      "\nThe above exception was the direct cause of the following exception:\n",
      "\u001b[0;31mMaxRetryError\u001b[0m                             Traceback (most recent call last)",
      "Cell \u001b[0;32mIn[33], line 1\u001b[0m\n\u001b[0;32m----> 1\u001b[0m \u001b[43mdriver\u001b[49m\u001b[38;5;241;43m.\u001b[39;49m\u001b[43mclose\u001b[49m\u001b[43m(\u001b[49m\u001b[43m)\u001b[49m\n",
      "File \u001b[0;32m~/anaconda3/envs/oxford_new/lib/python3.12/site-packages/selenium/webdriver/remote/webdriver.py:458\u001b[0m, in \u001b[0;36mWebDriver.close\u001b[0;34m(self)\u001b[0m\n\u001b[1;32m    450\u001b[0m \u001b[38;5;28;01mdef\u001b[39;00m \u001b[38;5;21mclose\u001b[39m(\u001b[38;5;28mself\u001b[39m) \u001b[38;5;241m-\u001b[39m\u001b[38;5;241m>\u001b[39m \u001b[38;5;28;01mNone\u001b[39;00m:\n\u001b[1;32m    451\u001b[0m \u001b[38;5;250m    \u001b[39m\u001b[38;5;124;03m\"\"\"Closes the current window.\u001b[39;00m\n\u001b[1;32m    452\u001b[0m \n\u001b[1;32m    453\u001b[0m \u001b[38;5;124;03m    :Usage:\u001b[39;00m\n\u001b[0;32m   (...)\u001b[0m\n\u001b[1;32m    456\u001b[0m \u001b[38;5;124;03m            driver.close()\u001b[39;00m\n\u001b[1;32m    457\u001b[0m \u001b[38;5;124;03m    \"\"\"\u001b[39;00m\n\u001b[0;32m--> 458\u001b[0m     \u001b[38;5;28;43mself\u001b[39;49m\u001b[38;5;241;43m.\u001b[39;49m\u001b[43mexecute\u001b[49m\u001b[43m(\u001b[49m\u001b[43mCommand\u001b[49m\u001b[38;5;241;43m.\u001b[39;49m\u001b[43mCLOSE\u001b[49m\u001b[43m)\u001b[49m\n",
      "File \u001b[0;32m~/anaconda3/envs/oxford_new/lib/python3.12/site-packages/selenium/webdriver/remote/webdriver.py:345\u001b[0m, in \u001b[0;36mWebDriver.execute\u001b[0;34m(self, driver_command, params)\u001b[0m\n\u001b[1;32m    342\u001b[0m     \u001b[38;5;28;01melif\u001b[39;00m \u001b[38;5;124m\"\u001b[39m\u001b[38;5;124msessionId\u001b[39m\u001b[38;5;124m\"\u001b[39m \u001b[38;5;129;01mnot\u001b[39;00m \u001b[38;5;129;01min\u001b[39;00m params:\n\u001b[1;32m    343\u001b[0m         params[\u001b[38;5;124m\"\u001b[39m\u001b[38;5;124msessionId\u001b[39m\u001b[38;5;124m\"\u001b[39m] \u001b[38;5;241m=\u001b[39m \u001b[38;5;28mself\u001b[39m\u001b[38;5;241m.\u001b[39msession_id\n\u001b[0;32m--> 345\u001b[0m response \u001b[38;5;241m=\u001b[39m \u001b[38;5;28;43mself\u001b[39;49m\u001b[38;5;241;43m.\u001b[39;49m\u001b[43mcommand_executor\u001b[49m\u001b[38;5;241;43m.\u001b[39;49m\u001b[43mexecute\u001b[49m\u001b[43m(\u001b[49m\u001b[43mdriver_command\u001b[49m\u001b[43m,\u001b[49m\u001b[43m \u001b[49m\u001b[43mparams\u001b[49m\u001b[43m)\u001b[49m\n\u001b[1;32m    346\u001b[0m \u001b[38;5;28;01mif\u001b[39;00m response:\n\u001b[1;32m    347\u001b[0m     \u001b[38;5;28mself\u001b[39m\u001b[38;5;241m.\u001b[39merror_handler\u001b[38;5;241m.\u001b[39mcheck_response(response)\n",
      "File \u001b[0;32m~/anaconda3/envs/oxford_new/lib/python3.12/site-packages/selenium/webdriver/remote/remote_connection.py:302\u001b[0m, in \u001b[0;36mRemoteConnection.execute\u001b[0;34m(self, command, params)\u001b[0m\n\u001b[1;32m    300\u001b[0m trimmed \u001b[38;5;241m=\u001b[39m \u001b[38;5;28mself\u001b[39m\u001b[38;5;241m.\u001b[39m_trim_large_entries(params)\n\u001b[1;32m    301\u001b[0m LOGGER\u001b[38;5;241m.\u001b[39mdebug(\u001b[38;5;124m\"\u001b[39m\u001b[38;5;132;01m%s\u001b[39;00m\u001b[38;5;124m \u001b[39m\u001b[38;5;132;01m%s\u001b[39;00m\u001b[38;5;124m \u001b[39m\u001b[38;5;132;01m%s\u001b[39;00m\u001b[38;5;124m\"\u001b[39m, command_info[\u001b[38;5;241m0\u001b[39m], url, \u001b[38;5;28mstr\u001b[39m(trimmed))\n\u001b[0;32m--> 302\u001b[0m \u001b[38;5;28;01mreturn\u001b[39;00m \u001b[38;5;28;43mself\u001b[39;49m\u001b[38;5;241;43m.\u001b[39;49m\u001b[43m_request\u001b[49m\u001b[43m(\u001b[49m\u001b[43mcommand_info\u001b[49m\u001b[43m[\u001b[49m\u001b[38;5;241;43m0\u001b[39;49m\u001b[43m]\u001b[49m\u001b[43m,\u001b[49m\u001b[43m \u001b[49m\u001b[43murl\u001b[49m\u001b[43m,\u001b[49m\u001b[43m \u001b[49m\u001b[43mbody\u001b[49m\u001b[38;5;241;43m=\u001b[39;49m\u001b[43mdata\u001b[49m\u001b[43m)\u001b[49m\n",
      "File \u001b[0;32m~/anaconda3/envs/oxford_new/lib/python3.12/site-packages/selenium/webdriver/remote/remote_connection.py:322\u001b[0m, in \u001b[0;36mRemoteConnection._request\u001b[0;34m(self, method, url, body)\u001b[0m\n\u001b[1;32m    319\u001b[0m     body \u001b[38;5;241m=\u001b[39m \u001b[38;5;28;01mNone\u001b[39;00m\n\u001b[1;32m    321\u001b[0m \u001b[38;5;28;01mif\u001b[39;00m \u001b[38;5;28mself\u001b[39m\u001b[38;5;241m.\u001b[39mkeep_alive:\n\u001b[0;32m--> 322\u001b[0m     response \u001b[38;5;241m=\u001b[39m \u001b[38;5;28;43mself\u001b[39;49m\u001b[38;5;241;43m.\u001b[39;49m\u001b[43m_conn\u001b[49m\u001b[38;5;241;43m.\u001b[39;49m\u001b[43mrequest\u001b[49m\u001b[43m(\u001b[49m\u001b[43mmethod\u001b[49m\u001b[43m,\u001b[49m\u001b[43m \u001b[49m\u001b[43murl\u001b[49m\u001b[43m,\u001b[49m\u001b[43m \u001b[49m\u001b[43mbody\u001b[49m\u001b[38;5;241;43m=\u001b[39;49m\u001b[43mbody\u001b[49m\u001b[43m,\u001b[49m\u001b[43m \u001b[49m\u001b[43mheaders\u001b[49m\u001b[38;5;241;43m=\u001b[39;49m\u001b[43mheaders\u001b[49m\u001b[43m)\u001b[49m\n\u001b[1;32m    323\u001b[0m     statuscode \u001b[38;5;241m=\u001b[39m response\u001b[38;5;241m.\u001b[39mstatus\n\u001b[1;32m    324\u001b[0m \u001b[38;5;28;01melse\u001b[39;00m:\n",
      "File \u001b[0;32m~/anaconda3/envs/oxford_new/lib/python3.12/site-packages/urllib3/_request_methods.py:136\u001b[0m, in \u001b[0;36mRequestMethods.request\u001b[0;34m(self, method, url, body, fields, headers, json, **urlopen_kw)\u001b[0m\n\u001b[1;32m    133\u001b[0m     urlopen_kw[\u001b[38;5;124m\"\u001b[39m\u001b[38;5;124mbody\u001b[39m\u001b[38;5;124m\"\u001b[39m] \u001b[38;5;241m=\u001b[39m body\n\u001b[1;32m    135\u001b[0m \u001b[38;5;28;01mif\u001b[39;00m method \u001b[38;5;129;01min\u001b[39;00m \u001b[38;5;28mself\u001b[39m\u001b[38;5;241m.\u001b[39m_encode_url_methods:\n\u001b[0;32m--> 136\u001b[0m     \u001b[38;5;28;01mreturn\u001b[39;00m \u001b[38;5;28;43mself\u001b[39;49m\u001b[38;5;241;43m.\u001b[39;49m\u001b[43mrequest_encode_url\u001b[49m\u001b[43m(\u001b[49m\n\u001b[1;32m    137\u001b[0m \u001b[43m        \u001b[49m\u001b[43mmethod\u001b[49m\u001b[43m,\u001b[49m\n\u001b[1;32m    138\u001b[0m \u001b[43m        \u001b[49m\u001b[43murl\u001b[49m\u001b[43m,\u001b[49m\n\u001b[1;32m    139\u001b[0m \u001b[43m        \u001b[49m\u001b[43mfields\u001b[49m\u001b[38;5;241;43m=\u001b[39;49m\u001b[43mfields\u001b[49m\u001b[43m,\u001b[49m\u001b[43m  \u001b[49m\u001b[38;5;66;43;03m# type: ignore[arg-type]\u001b[39;49;00m\n\u001b[1;32m    140\u001b[0m \u001b[43m        \u001b[49m\u001b[43mheaders\u001b[49m\u001b[38;5;241;43m=\u001b[39;49m\u001b[43mheaders\u001b[49m\u001b[43m,\u001b[49m\n\u001b[1;32m    141\u001b[0m \u001b[43m        \u001b[49m\u001b[38;5;241;43m*\u001b[39;49m\u001b[38;5;241;43m*\u001b[39;49m\u001b[43murlopen_kw\u001b[49m\u001b[43m,\u001b[49m\n\u001b[1;32m    142\u001b[0m \u001b[43m    \u001b[49m\u001b[43m)\u001b[49m\n\u001b[1;32m    143\u001b[0m \u001b[38;5;28;01melse\u001b[39;00m:\n\u001b[1;32m    144\u001b[0m     \u001b[38;5;28;01mreturn\u001b[39;00m \u001b[38;5;28mself\u001b[39m\u001b[38;5;241m.\u001b[39mrequest_encode_body(\n\u001b[1;32m    145\u001b[0m         method, url, fields\u001b[38;5;241m=\u001b[39mfields, headers\u001b[38;5;241m=\u001b[39mheaders, \u001b[38;5;241m*\u001b[39m\u001b[38;5;241m*\u001b[39murlopen_kw\n\u001b[1;32m    146\u001b[0m     )\n",
      "File \u001b[0;32m~/anaconda3/envs/oxford_new/lib/python3.12/site-packages/urllib3/_request_methods.py:183\u001b[0m, in \u001b[0;36mRequestMethods.request_encode_url\u001b[0;34m(self, method, url, fields, headers, **urlopen_kw)\u001b[0m\n\u001b[1;32m    180\u001b[0m \u001b[38;5;28;01mif\u001b[39;00m fields:\n\u001b[1;32m    181\u001b[0m     url \u001b[38;5;241m+\u001b[39m\u001b[38;5;241m=\u001b[39m \u001b[38;5;124m\"\u001b[39m\u001b[38;5;124m?\u001b[39m\u001b[38;5;124m\"\u001b[39m \u001b[38;5;241m+\u001b[39m urlencode(fields)\n\u001b[0;32m--> 183\u001b[0m \u001b[38;5;28;01mreturn\u001b[39;00m \u001b[38;5;28;43mself\u001b[39;49m\u001b[38;5;241;43m.\u001b[39;49m\u001b[43murlopen\u001b[49m\u001b[43m(\u001b[49m\u001b[43mmethod\u001b[49m\u001b[43m,\u001b[49m\u001b[43m \u001b[49m\u001b[43murl\u001b[49m\u001b[43m,\u001b[49m\u001b[43m \u001b[49m\u001b[38;5;241;43m*\u001b[39;49m\u001b[38;5;241;43m*\u001b[39;49m\u001b[43mextra_kw\u001b[49m\u001b[43m)\u001b[49m\n",
      "File \u001b[0;32m~/anaconda3/envs/oxford_new/lib/python3.12/site-packages/urllib3/poolmanager.py:444\u001b[0m, in \u001b[0;36mPoolManager.urlopen\u001b[0;34m(self, method, url, redirect, **kw)\u001b[0m\n\u001b[1;32m    442\u001b[0m     response \u001b[38;5;241m=\u001b[39m conn\u001b[38;5;241m.\u001b[39murlopen(method, url, \u001b[38;5;241m*\u001b[39m\u001b[38;5;241m*\u001b[39mkw)\n\u001b[1;32m    443\u001b[0m \u001b[38;5;28;01melse\u001b[39;00m:\n\u001b[0;32m--> 444\u001b[0m     response \u001b[38;5;241m=\u001b[39m \u001b[43mconn\u001b[49m\u001b[38;5;241;43m.\u001b[39;49m\u001b[43murlopen\u001b[49m\u001b[43m(\u001b[49m\u001b[43mmethod\u001b[49m\u001b[43m,\u001b[49m\u001b[43m \u001b[49m\u001b[43mu\u001b[49m\u001b[38;5;241;43m.\u001b[39;49m\u001b[43mrequest_uri\u001b[49m\u001b[43m,\u001b[49m\u001b[43m \u001b[49m\u001b[38;5;241;43m*\u001b[39;49m\u001b[38;5;241;43m*\u001b[39;49m\u001b[43mkw\u001b[49m\u001b[43m)\u001b[49m\n\u001b[1;32m    446\u001b[0m redirect_location \u001b[38;5;241m=\u001b[39m redirect \u001b[38;5;129;01mand\u001b[39;00m response\u001b[38;5;241m.\u001b[39mget_redirect_location()\n\u001b[1;32m    447\u001b[0m \u001b[38;5;28;01mif\u001b[39;00m \u001b[38;5;129;01mnot\u001b[39;00m redirect_location:\n",
      "File \u001b[0;32m~/anaconda3/envs/oxford_new/lib/python3.12/site-packages/urllib3/connectionpool.py:877\u001b[0m, in \u001b[0;36mHTTPConnectionPool.urlopen\u001b[0;34m(self, method, url, body, headers, retries, redirect, assert_same_host, timeout, pool_timeout, release_conn, chunked, body_pos, preload_content, decode_content, **response_kw)\u001b[0m\n\u001b[1;32m    872\u001b[0m \u001b[38;5;28;01mif\u001b[39;00m \u001b[38;5;129;01mnot\u001b[39;00m conn:\n\u001b[1;32m    873\u001b[0m     \u001b[38;5;66;03m# Try again\u001b[39;00m\n\u001b[1;32m    874\u001b[0m     log\u001b[38;5;241m.\u001b[39mwarning(\n\u001b[1;32m    875\u001b[0m         \u001b[38;5;124m\"\u001b[39m\u001b[38;5;124mRetrying (\u001b[39m\u001b[38;5;132;01m%r\u001b[39;00m\u001b[38;5;124m) after connection broken by \u001b[39m\u001b[38;5;124m'\u001b[39m\u001b[38;5;132;01m%r\u001b[39;00m\u001b[38;5;124m'\u001b[39m\u001b[38;5;124m: \u001b[39m\u001b[38;5;132;01m%s\u001b[39;00m\u001b[38;5;124m\"\u001b[39m, retries, err, url\n\u001b[1;32m    876\u001b[0m     )\n\u001b[0;32m--> 877\u001b[0m     \u001b[38;5;28;01mreturn\u001b[39;00m \u001b[38;5;28;43mself\u001b[39;49m\u001b[38;5;241;43m.\u001b[39;49m\u001b[43murlopen\u001b[49m\u001b[43m(\u001b[49m\n\u001b[1;32m    878\u001b[0m \u001b[43m        \u001b[49m\u001b[43mmethod\u001b[49m\u001b[43m,\u001b[49m\n\u001b[1;32m    879\u001b[0m \u001b[43m        \u001b[49m\u001b[43murl\u001b[49m\u001b[43m,\u001b[49m\n\u001b[1;32m    880\u001b[0m \u001b[43m        \u001b[49m\u001b[43mbody\u001b[49m\u001b[43m,\u001b[49m\n\u001b[1;32m    881\u001b[0m \u001b[43m        \u001b[49m\u001b[43mheaders\u001b[49m\u001b[43m,\u001b[49m\n\u001b[1;32m    882\u001b[0m \u001b[43m        \u001b[49m\u001b[43mretries\u001b[49m\u001b[43m,\u001b[49m\n\u001b[1;32m    883\u001b[0m \u001b[43m        \u001b[49m\u001b[43mredirect\u001b[49m\u001b[43m,\u001b[49m\n\u001b[1;32m    884\u001b[0m \u001b[43m        \u001b[49m\u001b[43massert_same_host\u001b[49m\u001b[43m,\u001b[49m\n\u001b[1;32m    885\u001b[0m \u001b[43m        \u001b[49m\u001b[43mtimeout\u001b[49m\u001b[38;5;241;43m=\u001b[39;49m\u001b[43mtimeout\u001b[49m\u001b[43m,\u001b[49m\n\u001b[1;32m    886\u001b[0m \u001b[43m        \u001b[49m\u001b[43mpool_timeout\u001b[49m\u001b[38;5;241;43m=\u001b[39;49m\u001b[43mpool_timeout\u001b[49m\u001b[43m,\u001b[49m\n\u001b[1;32m    887\u001b[0m \u001b[43m        \u001b[49m\u001b[43mrelease_conn\u001b[49m\u001b[38;5;241;43m=\u001b[39;49m\u001b[43mrelease_conn\u001b[49m\u001b[43m,\u001b[49m\n\u001b[1;32m    888\u001b[0m \u001b[43m        \u001b[49m\u001b[43mchunked\u001b[49m\u001b[38;5;241;43m=\u001b[39;49m\u001b[43mchunked\u001b[49m\u001b[43m,\u001b[49m\n\u001b[1;32m    889\u001b[0m \u001b[43m        \u001b[49m\u001b[43mbody_pos\u001b[49m\u001b[38;5;241;43m=\u001b[39;49m\u001b[43mbody_pos\u001b[49m\u001b[43m,\u001b[49m\n\u001b[1;32m    890\u001b[0m \u001b[43m        \u001b[49m\u001b[43mpreload_content\u001b[49m\u001b[38;5;241;43m=\u001b[39;49m\u001b[43mpreload_content\u001b[49m\u001b[43m,\u001b[49m\n\u001b[1;32m    891\u001b[0m \u001b[43m        \u001b[49m\u001b[43mdecode_content\u001b[49m\u001b[38;5;241;43m=\u001b[39;49m\u001b[43mdecode_content\u001b[49m\u001b[43m,\u001b[49m\n\u001b[1;32m    892\u001b[0m \u001b[43m        \u001b[49m\u001b[38;5;241;43m*\u001b[39;49m\u001b[38;5;241;43m*\u001b[39;49m\u001b[43mresponse_kw\u001b[49m\u001b[43m,\u001b[49m\n\u001b[1;32m    893\u001b[0m \u001b[43m    \u001b[49m\u001b[43m)\u001b[49m\n\u001b[1;32m    895\u001b[0m \u001b[38;5;66;03m# Handle redirect?\u001b[39;00m\n\u001b[1;32m    896\u001b[0m redirect_location \u001b[38;5;241m=\u001b[39m redirect \u001b[38;5;129;01mand\u001b[39;00m response\u001b[38;5;241m.\u001b[39mget_redirect_location()\n",
      "File \u001b[0;32m~/anaconda3/envs/oxford_new/lib/python3.12/site-packages/urllib3/connectionpool.py:877\u001b[0m, in \u001b[0;36mHTTPConnectionPool.urlopen\u001b[0;34m(self, method, url, body, headers, retries, redirect, assert_same_host, timeout, pool_timeout, release_conn, chunked, body_pos, preload_content, decode_content, **response_kw)\u001b[0m\n\u001b[1;32m    872\u001b[0m \u001b[38;5;28;01mif\u001b[39;00m \u001b[38;5;129;01mnot\u001b[39;00m conn:\n\u001b[1;32m    873\u001b[0m     \u001b[38;5;66;03m# Try again\u001b[39;00m\n\u001b[1;32m    874\u001b[0m     log\u001b[38;5;241m.\u001b[39mwarning(\n\u001b[1;32m    875\u001b[0m         \u001b[38;5;124m\"\u001b[39m\u001b[38;5;124mRetrying (\u001b[39m\u001b[38;5;132;01m%r\u001b[39;00m\u001b[38;5;124m) after connection broken by \u001b[39m\u001b[38;5;124m'\u001b[39m\u001b[38;5;132;01m%r\u001b[39;00m\u001b[38;5;124m'\u001b[39m\u001b[38;5;124m: \u001b[39m\u001b[38;5;132;01m%s\u001b[39;00m\u001b[38;5;124m\"\u001b[39m, retries, err, url\n\u001b[1;32m    876\u001b[0m     )\n\u001b[0;32m--> 877\u001b[0m     \u001b[38;5;28;01mreturn\u001b[39;00m \u001b[38;5;28;43mself\u001b[39;49m\u001b[38;5;241;43m.\u001b[39;49m\u001b[43murlopen\u001b[49m\u001b[43m(\u001b[49m\n\u001b[1;32m    878\u001b[0m \u001b[43m        \u001b[49m\u001b[43mmethod\u001b[49m\u001b[43m,\u001b[49m\n\u001b[1;32m    879\u001b[0m \u001b[43m        \u001b[49m\u001b[43murl\u001b[49m\u001b[43m,\u001b[49m\n\u001b[1;32m    880\u001b[0m \u001b[43m        \u001b[49m\u001b[43mbody\u001b[49m\u001b[43m,\u001b[49m\n\u001b[1;32m    881\u001b[0m \u001b[43m        \u001b[49m\u001b[43mheaders\u001b[49m\u001b[43m,\u001b[49m\n\u001b[1;32m    882\u001b[0m \u001b[43m        \u001b[49m\u001b[43mretries\u001b[49m\u001b[43m,\u001b[49m\n\u001b[1;32m    883\u001b[0m \u001b[43m        \u001b[49m\u001b[43mredirect\u001b[49m\u001b[43m,\u001b[49m\n\u001b[1;32m    884\u001b[0m \u001b[43m        \u001b[49m\u001b[43massert_same_host\u001b[49m\u001b[43m,\u001b[49m\n\u001b[1;32m    885\u001b[0m \u001b[43m        \u001b[49m\u001b[43mtimeout\u001b[49m\u001b[38;5;241;43m=\u001b[39;49m\u001b[43mtimeout\u001b[49m\u001b[43m,\u001b[49m\n\u001b[1;32m    886\u001b[0m \u001b[43m        \u001b[49m\u001b[43mpool_timeout\u001b[49m\u001b[38;5;241;43m=\u001b[39;49m\u001b[43mpool_timeout\u001b[49m\u001b[43m,\u001b[49m\n\u001b[1;32m    887\u001b[0m \u001b[43m        \u001b[49m\u001b[43mrelease_conn\u001b[49m\u001b[38;5;241;43m=\u001b[39;49m\u001b[43mrelease_conn\u001b[49m\u001b[43m,\u001b[49m\n\u001b[1;32m    888\u001b[0m \u001b[43m        \u001b[49m\u001b[43mchunked\u001b[49m\u001b[38;5;241;43m=\u001b[39;49m\u001b[43mchunked\u001b[49m\u001b[43m,\u001b[49m\n\u001b[1;32m    889\u001b[0m \u001b[43m        \u001b[49m\u001b[43mbody_pos\u001b[49m\u001b[38;5;241;43m=\u001b[39;49m\u001b[43mbody_pos\u001b[49m\u001b[43m,\u001b[49m\n\u001b[1;32m    890\u001b[0m \u001b[43m        \u001b[49m\u001b[43mpreload_content\u001b[49m\u001b[38;5;241;43m=\u001b[39;49m\u001b[43mpreload_content\u001b[49m\u001b[43m,\u001b[49m\n\u001b[1;32m    891\u001b[0m \u001b[43m        \u001b[49m\u001b[43mdecode_content\u001b[49m\u001b[38;5;241;43m=\u001b[39;49m\u001b[43mdecode_content\u001b[49m\u001b[43m,\u001b[49m\n\u001b[1;32m    892\u001b[0m \u001b[43m        \u001b[49m\u001b[38;5;241;43m*\u001b[39;49m\u001b[38;5;241;43m*\u001b[39;49m\u001b[43mresponse_kw\u001b[49m\u001b[43m,\u001b[49m\n\u001b[1;32m    893\u001b[0m \u001b[43m    \u001b[49m\u001b[43m)\u001b[49m\n\u001b[1;32m    895\u001b[0m \u001b[38;5;66;03m# Handle redirect?\u001b[39;00m\n\u001b[1;32m    896\u001b[0m redirect_location \u001b[38;5;241m=\u001b[39m redirect \u001b[38;5;129;01mand\u001b[39;00m response\u001b[38;5;241m.\u001b[39mget_redirect_location()\n",
      "File \u001b[0;32m~/anaconda3/envs/oxford_new/lib/python3.12/site-packages/urllib3/connectionpool.py:877\u001b[0m, in \u001b[0;36mHTTPConnectionPool.urlopen\u001b[0;34m(self, method, url, body, headers, retries, redirect, assert_same_host, timeout, pool_timeout, release_conn, chunked, body_pos, preload_content, decode_content, **response_kw)\u001b[0m\n\u001b[1;32m    872\u001b[0m \u001b[38;5;28;01mif\u001b[39;00m \u001b[38;5;129;01mnot\u001b[39;00m conn:\n\u001b[1;32m    873\u001b[0m     \u001b[38;5;66;03m# Try again\u001b[39;00m\n\u001b[1;32m    874\u001b[0m     log\u001b[38;5;241m.\u001b[39mwarning(\n\u001b[1;32m    875\u001b[0m         \u001b[38;5;124m\"\u001b[39m\u001b[38;5;124mRetrying (\u001b[39m\u001b[38;5;132;01m%r\u001b[39;00m\u001b[38;5;124m) after connection broken by \u001b[39m\u001b[38;5;124m'\u001b[39m\u001b[38;5;132;01m%r\u001b[39;00m\u001b[38;5;124m'\u001b[39m\u001b[38;5;124m: \u001b[39m\u001b[38;5;132;01m%s\u001b[39;00m\u001b[38;5;124m\"\u001b[39m, retries, err, url\n\u001b[1;32m    876\u001b[0m     )\n\u001b[0;32m--> 877\u001b[0m     \u001b[38;5;28;01mreturn\u001b[39;00m \u001b[38;5;28;43mself\u001b[39;49m\u001b[38;5;241;43m.\u001b[39;49m\u001b[43murlopen\u001b[49m\u001b[43m(\u001b[49m\n\u001b[1;32m    878\u001b[0m \u001b[43m        \u001b[49m\u001b[43mmethod\u001b[49m\u001b[43m,\u001b[49m\n\u001b[1;32m    879\u001b[0m \u001b[43m        \u001b[49m\u001b[43murl\u001b[49m\u001b[43m,\u001b[49m\n\u001b[1;32m    880\u001b[0m \u001b[43m        \u001b[49m\u001b[43mbody\u001b[49m\u001b[43m,\u001b[49m\n\u001b[1;32m    881\u001b[0m \u001b[43m        \u001b[49m\u001b[43mheaders\u001b[49m\u001b[43m,\u001b[49m\n\u001b[1;32m    882\u001b[0m \u001b[43m        \u001b[49m\u001b[43mretries\u001b[49m\u001b[43m,\u001b[49m\n\u001b[1;32m    883\u001b[0m \u001b[43m        \u001b[49m\u001b[43mredirect\u001b[49m\u001b[43m,\u001b[49m\n\u001b[1;32m    884\u001b[0m \u001b[43m        \u001b[49m\u001b[43massert_same_host\u001b[49m\u001b[43m,\u001b[49m\n\u001b[1;32m    885\u001b[0m \u001b[43m        \u001b[49m\u001b[43mtimeout\u001b[49m\u001b[38;5;241;43m=\u001b[39;49m\u001b[43mtimeout\u001b[49m\u001b[43m,\u001b[49m\n\u001b[1;32m    886\u001b[0m \u001b[43m        \u001b[49m\u001b[43mpool_timeout\u001b[49m\u001b[38;5;241;43m=\u001b[39;49m\u001b[43mpool_timeout\u001b[49m\u001b[43m,\u001b[49m\n\u001b[1;32m    887\u001b[0m \u001b[43m        \u001b[49m\u001b[43mrelease_conn\u001b[49m\u001b[38;5;241;43m=\u001b[39;49m\u001b[43mrelease_conn\u001b[49m\u001b[43m,\u001b[49m\n\u001b[1;32m    888\u001b[0m \u001b[43m        \u001b[49m\u001b[43mchunked\u001b[49m\u001b[38;5;241;43m=\u001b[39;49m\u001b[43mchunked\u001b[49m\u001b[43m,\u001b[49m\n\u001b[1;32m    889\u001b[0m \u001b[43m        \u001b[49m\u001b[43mbody_pos\u001b[49m\u001b[38;5;241;43m=\u001b[39;49m\u001b[43mbody_pos\u001b[49m\u001b[43m,\u001b[49m\n\u001b[1;32m    890\u001b[0m \u001b[43m        \u001b[49m\u001b[43mpreload_content\u001b[49m\u001b[38;5;241;43m=\u001b[39;49m\u001b[43mpreload_content\u001b[49m\u001b[43m,\u001b[49m\n\u001b[1;32m    891\u001b[0m \u001b[43m        \u001b[49m\u001b[43mdecode_content\u001b[49m\u001b[38;5;241;43m=\u001b[39;49m\u001b[43mdecode_content\u001b[49m\u001b[43m,\u001b[49m\n\u001b[1;32m    892\u001b[0m \u001b[43m        \u001b[49m\u001b[38;5;241;43m*\u001b[39;49m\u001b[38;5;241;43m*\u001b[39;49m\u001b[43mresponse_kw\u001b[49m\u001b[43m,\u001b[49m\n\u001b[1;32m    893\u001b[0m \u001b[43m    \u001b[49m\u001b[43m)\u001b[49m\n\u001b[1;32m    895\u001b[0m \u001b[38;5;66;03m# Handle redirect?\u001b[39;00m\n\u001b[1;32m    896\u001b[0m redirect_location \u001b[38;5;241m=\u001b[39m redirect \u001b[38;5;129;01mand\u001b[39;00m response\u001b[38;5;241m.\u001b[39mget_redirect_location()\n",
      "File \u001b[0;32m~/anaconda3/envs/oxford_new/lib/python3.12/site-packages/urllib3/connectionpool.py:847\u001b[0m, in \u001b[0;36mHTTPConnectionPool.urlopen\u001b[0;34m(self, method, url, body, headers, retries, redirect, assert_same_host, timeout, pool_timeout, release_conn, chunked, body_pos, preload_content, decode_content, **response_kw)\u001b[0m\n\u001b[1;32m    844\u001b[0m \u001b[38;5;28;01melif\u001b[39;00m \u001b[38;5;28misinstance\u001b[39m(new_e, (\u001b[38;5;167;01mOSError\u001b[39;00m, HTTPException)):\n\u001b[1;32m    845\u001b[0m     new_e \u001b[38;5;241m=\u001b[39m ProtocolError(\u001b[38;5;124m\"\u001b[39m\u001b[38;5;124mConnection aborted.\u001b[39m\u001b[38;5;124m\"\u001b[39m, new_e)\n\u001b[0;32m--> 847\u001b[0m retries \u001b[38;5;241m=\u001b[39m \u001b[43mretries\u001b[49m\u001b[38;5;241;43m.\u001b[39;49m\u001b[43mincrement\u001b[49m\u001b[43m(\u001b[49m\n\u001b[1;32m    848\u001b[0m \u001b[43m    \u001b[49m\u001b[43mmethod\u001b[49m\u001b[43m,\u001b[49m\u001b[43m \u001b[49m\u001b[43murl\u001b[49m\u001b[43m,\u001b[49m\u001b[43m \u001b[49m\u001b[43merror\u001b[49m\u001b[38;5;241;43m=\u001b[39;49m\u001b[43mnew_e\u001b[49m\u001b[43m,\u001b[49m\u001b[43m \u001b[49m\u001b[43m_pool\u001b[49m\u001b[38;5;241;43m=\u001b[39;49m\u001b[38;5;28;43mself\u001b[39;49m\u001b[43m,\u001b[49m\u001b[43m \u001b[49m\u001b[43m_stacktrace\u001b[49m\u001b[38;5;241;43m=\u001b[39;49m\u001b[43msys\u001b[49m\u001b[38;5;241;43m.\u001b[39;49m\u001b[43mexc_info\u001b[49m\u001b[43m(\u001b[49m\u001b[43m)\u001b[49m\u001b[43m[\u001b[49m\u001b[38;5;241;43m2\u001b[39;49m\u001b[43m]\u001b[49m\n\u001b[1;32m    849\u001b[0m \u001b[43m\u001b[49m\u001b[43m)\u001b[49m\n\u001b[1;32m    850\u001b[0m retries\u001b[38;5;241m.\u001b[39msleep()\n\u001b[1;32m    852\u001b[0m \u001b[38;5;66;03m# Keep track of the error for the retry warning.\u001b[39;00m\n",
      "File \u001b[0;32m~/anaconda3/envs/oxford_new/lib/python3.12/site-packages/urllib3/util/retry.py:515\u001b[0m, in \u001b[0;36mRetry.increment\u001b[0;34m(self, method, url, response, error, _pool, _stacktrace)\u001b[0m\n\u001b[1;32m    513\u001b[0m \u001b[38;5;28;01mif\u001b[39;00m new_retry\u001b[38;5;241m.\u001b[39mis_exhausted():\n\u001b[1;32m    514\u001b[0m     reason \u001b[38;5;241m=\u001b[39m error \u001b[38;5;129;01mor\u001b[39;00m ResponseError(cause)\n\u001b[0;32m--> 515\u001b[0m     \u001b[38;5;28;01mraise\u001b[39;00m MaxRetryError(_pool, url, reason) \u001b[38;5;28;01mfrom\u001b[39;00m \u001b[38;5;21;01mreason\u001b[39;00m  \u001b[38;5;66;03m# type: ignore[arg-type]\u001b[39;00m\n\u001b[1;32m    517\u001b[0m log\u001b[38;5;241m.\u001b[39mdebug(\u001b[38;5;124m\"\u001b[39m\u001b[38;5;124mIncremented Retry for (url=\u001b[39m\u001b[38;5;124m'\u001b[39m\u001b[38;5;132;01m%s\u001b[39;00m\u001b[38;5;124m'\u001b[39m\u001b[38;5;124m): \u001b[39m\u001b[38;5;132;01m%r\u001b[39;00m\u001b[38;5;124m\"\u001b[39m, url, new_retry)\n\u001b[1;32m    519\u001b[0m \u001b[38;5;28;01mreturn\u001b[39;00m new_retry\n",
      "\u001b[0;31mMaxRetryError\u001b[0m: HTTPConnectionPool(host='localhost', port=53702): Max retries exceeded with url: /session/2125c982-bf8c-45dc-8a4a-c137bebdd0e3/window (Caused by NewConnectionError('<urllib3.connection.HTTPConnection object at 0x28fa05f70>: Failed to establish a new connection: [Errno 61] Connection refused'))"
     ]
    }
   ],
   "source": [
    "driver.close()"
   ]
  },
  {
   "cell_type": "code",
   "execution_count": 1,
   "id": "779f78cf-bc86-4646-9992-26fe1e12e8ff",
   "metadata": {},
   "outputs": [],
   "source": [
    "from selenium import webdriver\n",
    "from selenium.webdriver.firefox.service import Service\n",
    "from webdriver_manager.firefox import GeckoDriverManager\n",
    "from selenium.webdriver.firefox.options import Options as FirefoxOptions\n",
    "from requests.exceptions import Timeout, HTTPError\n",
    "\n",
    "\n",
    "# Initialize Firefox Options\n",
    "firefox_options = FirefoxOptions()\n",
    "\n",
    "# Create a new Firefox Profile for your extensions\n",
    "firefox_profile = webdriver.FirefoxProfile()\n",
    "\n",
    "# Convert the profile to a base64 string and add it to the options\n",
    "firefox_options.profile = firefox_profile"
   ]
  },
  {
   "cell_type": "code",
   "execution_count": 2,
   "id": "2c43447b-a3a5-49c8-a222-623cdfc1c1e7",
   "metadata": {},
   "outputs": [
    {
     "name": "stderr",
     "output_type": "stream",
     "text": [
      "[nltk_data] Downloading package punkt to\n",
      "[nltk_data]     /Users/allensunny/nltk_data...\n",
      "[nltk_data]   Package punkt is already up-to-date!\n"
     ]
    },
    {
     "data": {
      "text/plain": [
       "True"
      ]
     },
     "execution_count": 2,
     "metadata": {},
     "output_type": "execute_result"
    }
   ],
   "source": [
    "import nltk\n",
    "from nltk.tokenize import sent_tokenize\n",
    "nltk.download('punkt')"
   ]
  },
  {
   "cell_type": "code",
   "execution_count": 3,
   "id": "cdbdd281-6755-4302-9dda-2d2a14e12155",
   "metadata": {},
   "outputs": [],
   "source": [
    "import sys\n",
    "import yagooglesearch"
   ]
  },
  {
   "cell_type": "code",
   "execution_count": 4,
   "id": "8eaa1897-7853-4f26-a950-571e715a7456",
   "metadata": {},
   "outputs": [
    {
     "ename": "NameError",
     "evalue": "name 'get_random_proxy' is not defined",
     "output_type": "error",
     "traceback": [
      "\u001b[0;31m---------------------------------------------------------------------------\u001b[0m",
      "\u001b[0;31mNameError\u001b[0m                                 Traceback (most recent call last)",
      "Cell \u001b[0;32mIn[4], line 1\u001b[0m\n\u001b[0;32m----> 1\u001b[0m proxy \u001b[38;5;241m=\u001b[39m \u001b[43mget_random_proxy\u001b[49m()\n",
      "\u001b[0;31mNameError\u001b[0m: name 'get_random_proxy' is not defined"
     ]
    }
   ],
   "source": [
    "proxy = get_random_proxy()"
   ]
  },
  {
   "cell_type": "code",
   "execution_count": 5,
   "id": "6af5afcb-209d-47ab-a0ab-38547f80584a",
   "metadata": {},
   "outputs": [],
   "source": [
    "from concurrent.futures import ThreadPoolExecutor, TimeoutError"
   ]
  },
  {
   "cell_type": "code",
   "execution_count": 6,
   "id": "9a93393e-4cdc-461b-82b6-9d9bbdb6cedc",
   "metadata": {},
   "outputs": [
    {
     "data": {
      "text/plain": [
       "'magnolia@12.34'"
      ]
     },
     "execution_count": 6,
     "metadata": {},
     "output_type": "execute_result"
    }
   ],
   "source": [
    "# Set up the service with GeckoDriverManager\n",
    "service = Service(GeckoDriverManager().install())\n",
    "driver = webdriver.Firefox(service=service, options=firefox_options)\n",
    "\n",
    "driver.install_addon('/Users/allensunny/Downloads/Mozilla Scraper Tools/uBlock0_1.55.0.firefox.signed.xpi',  temporary=True)\n",
    "driver.install_addon('/Users/allensunny/Downloads/Mozilla Scraper Tools/bypass_paywalls_clean-3.5.5.0.xpi', temporary=True)"
   ]
  },
  {
   "cell_type": "code",
   "execution_count": 7,
   "id": "13498a62-0540-4724-a181-9cecac7cd4c1",
   "metadata": {},
   "outputs": [],
   "source": [
    "#Webscrpaing and request parsing \n",
    "import requests\n",
    "from bs4 import BeautifulSoup, Comment\n",
    "import time\n",
    "\n",
    "from lxml import etree\n",
    "from lxml.html import fromstring"
   ]
  },
  {
   "cell_type": "code",
   "execution_count": 8,
   "id": "6943639d-5433-4f47-839c-22574ab1eb7b",
   "metadata": {},
   "outputs": [
    {
     "name": "stderr",
     "output_type": "stream",
     "text": [
      "/Users/allensunny/anaconda3/envs/oxford_new/lib/python3.12/site-packages/tqdm/auto.py:21: TqdmWarning: IProgress not found. Please update jupyter and ipywidgets. See https://ipywidgets.readthedocs.io/en/stable/user_install.html\n",
      "  from .autonotebook import tqdm as notebook_tqdm\n"
     ]
    }
   ],
   "source": [
    "#Text summarizer intialization \n",
    "from transformers import pipeline\n",
    "summarizer = pipeline(\"summarization\", model=\"Falconsai/text_summarization\")"
   ]
  },
  {
   "cell_type": "code",
   "execution_count": 8,
   "id": "f4a64a11-85d8-40f9-a242-67502c6af8b3",
   "metadata": {},
   "outputs": [],
   "source": [
    "#Setting the toeknizer parallizsm explicityl \n",
    "import os\n",
    "# Enable parallelism in tokenizers for improved performance\n",
    "os.environ[\"TOKENIZERS_PARALLELISM\"] = \"true\""
   ]
  },
  {
   "cell_type": "code",
   "execution_count": 9,
   "id": "46aea03d-cccb-4979-9308-bcaaddd7b57d",
   "metadata": {},
   "outputs": [],
   "source": [
    "import time\n",
    "import re\n",
    "import random"
   ]
  },
  {
   "cell_type": "code",
   "execution_count": 10,
   "id": "0a71bb6a-3515-4607-8da3-bed4d836b1ba",
   "metadata": {},
   "outputs": [],
   "source": [
    "#Druid database dump\n",
    "import pydruid"
   ]
  },
  {
   "cell_type": "code",
   "execution_count": 11,
   "id": "c32ed46f-614f-4b65-943a-0868a75155f4",
   "metadata": {},
   "outputs": [
    {
     "name": "stderr",
     "output_type": "stream",
     "text": [
      "/var/folders/jq/vkbby4bd33xbf6kks2_zrswh0000gn/T/ipykernel_82501/3073400958.py:2: DeprecationWarning: \n",
      "Pyarrow will become a required dependency of pandas in the next major release of pandas (pandas 3.0),\n",
      "(to allow more performant data types, such as the Arrow string type, and better interoperability with other libraries)\n",
      "but was not found to be installed on your system.\n",
      "If this would cause problems for you,\n",
      "please provide us feedback at https://github.com/pandas-dev/pandas/issues/54466\n",
      "        \n",
      "  import pandas as pd\n"
     ]
    }
   ],
   "source": [
    "#Basic packages installation\n",
    "import pandas as pd\n",
    "import numpy as np"
   ]
  },
  {
   "cell_type": "code",
   "execution_count": 12,
   "id": "fd6d303e-1d35-4955-8b32-e2c4f45ffc2f",
   "metadata": {},
   "outputs": [],
   "source": [
    "import random\n",
    "import os"
   ]
  },
  {
   "cell_type": "code",
   "execution_count": 14,
   "id": "63bc50b1-8efa-45d6-bc6c-7a977c94207f",
   "metadata": {},
   "outputs": [],
   "source": [
    "#Proxy Function extraction \n",
    "def get_random_proxy():\n",
    "    return random.choice(proxies)"
   ]
  },
  {
   "cell_type": "code",
   "execution_count": 13,
   "id": "c5fde006-80aa-4573-8d5f-6f637f46c3a7",
   "metadata": {},
   "outputs": [],
   "source": [
    "#Consutructing the proxy farm \n",
    "with open('/Users/allensunny/Downloads/http.txt', 'r') as file:\n",
    "    content = file.read()\n",
    "\n",
    "#Converting to a list of proxies to fetch data\n",
    "proxies = content.strip().split('\\n')"
   ]
  },
  {
   "cell_type": "code",
   "execution_count": 14,
   "id": "47f8bcf9-3d66-4302-8ad7-2cfda3a92a3f",
   "metadata": {},
   "outputs": [],
   "source": [
    "#Reading the language file \n",
    "lang_df = pd.read_csv(\"Lang_lookup.csv\")"
   ]
  },
  {
   "cell_type": "code",
   "execution_count": 15,
   "id": "b7df7515-bdd5-4099-8740-a0c0d03caf7e",
   "metadata": {},
   "outputs": [],
   "source": [
    "def search_with_timeout(search_query, num_results, proxy, timeout, sleep_interval):\n",
    "    with ThreadPoolExecutor(max_workers=1) as executor:\n",
    "        future = executor.submit(search, search_query, num_results=num_results, proxy=proxy, timeout=timeout, sleep_interval=sleep_interval)\n",
    "        try:\n",
    "            return future.result(timeout=10)  \n",
    "        except TimeoutError:\n",
    "            print(\"Search function timed out\")\n",
    "            return None"
   ]
  },
  {
   "cell_type": "code",
   "execution_count": 16,
   "id": "569181d0-fae8-4796-81ce-291031c240e8",
   "metadata": {},
   "outputs": [],
   "source": [
    "#Companies list \n",
    "Companies_list = pd.read_csv('Companies_list_enhanced.csv')"
   ]
  },
  {
   "cell_type": "code",
   "execution_count": 17,
   "id": "dbe7c3f8-f2a4-4877-9068-e4e2e43f3b1f",
   "metadata": {},
   "outputs": [],
   "source": [
    "target_phrases = [\"Chatbot\", \"Generative AI\", \"LLM\", \"ChatGPT\", \"Llama-2\", \"BLOOMZ\", \"GPT-4\", \"GPT4\", \"Stable Diffusion 2\", \"PaLM 2\", \"Claude 2\", \"Jurrasic-2\", \"Inflection-1\", \"Titan Text\"]"
   ]
  },
  {
   "cell_type": "code",
   "execution_count": 18,
   "id": "5b23a6bb-f175-4bfb-abd0-5e986613a7f7",
   "metadata": {},
   "outputs": [],
   "source": [
    "#Function to take a funciton and summarize the AI usage \n",
    "def fetch_and_summarize_company_ai_usage(company_name, country, Supersector, lang):\n",
    "    \"\"\"\n",
    "    Fetch web pages related to the company's AI usage and print a summary of the content.\n",
    "\n",
    "    :param company_name: The name of the company to search for.\n",
    "    \"\"\"\n",
    "    results = []  # List to store result dictionaries\n",
    "    #Generate a random proxy \n",
    "    proxy = get_random_proxy()\n",
    "    \n",
    "    search_query = f'\"{company_name}\" usage of generative AI'\n",
    "    print(company_name)\n",
    "\n",
    "    #Initalize the search client\n",
    "    client = yagooglesearch.SearchClient(\n",
    "    search_query,\n",
    "    max_search_result_urls_to_return = 8,\n",
    "    http_429_cool_off_time_in_minutes=45,\n",
    "    http_429_cool_off_factor=1.5,\n",
    "    verbosity=0,\n",
    "    verbose_output=False,\n",
    "    lang_result=lang\n",
    "    # False (only URLs) or True (rank, title, description, and URL)\n",
    "    )\n",
    "    client.assign_random_user_agent()\n",
    "\n",
    "    try:\n",
    "        print(\"Calling the search\")\n",
    "        #Calling search function\n",
    "        #search_results = search_with_timeout(search_query, num_results=4, proxy=proxy, timeout=10, sleep_interval=20)\n",
    "        urls = client.search()\n",
    "        print(\"Search complete\")\n",
    "    \n",
    "    except Exception as e:\n",
    "        print(f\"Search failed for {company_name} with error: {e}\")\n",
    "        return pd.DataFrame([{\n",
    "            'URL': None,\n",
    "            'Company': company_name,\n",
    "            'Summary': 'Search failed or timed out',\n",
    "            'Keywords': [],\n",
    "            'Country': country,\n",
    "            'SuperSector': Supersector,\n",
    "            'Search Keywords': target_phrases\n",
    "        }])\n",
    "\n",
    "    #Creating a random delay\n",
    "    for url in urls:\n",
    "        \n",
    "        time.sleep(10)\n",
    "        if url.endswith('.pdf'):\n",
    "            continue  # Skip PDF files  \n",
    "        \n",
    "        try:\n",
    "            print(\"Response call\")\n",
    "\n",
    "            response = requests.get(url, timeout=10)\n",
    "            response.raise_for_status()  # This will directly raise an exception for HTTP errors\n",
    "            page_source = response.text\n",
    "            print(url)\n",
    "\n",
    "        except requests.exceptions.Timeout:\n",
    "            print(f\"Request timed out for {url}. Attempting with Selenium.\")\n",
    "            \n",
    "            # Initialize the driver and use Selenium as a fallback\n",
    "            driver.get(url)\n",
    "            page_source = driver.page_source\n",
    "            time.sleep(10)\n",
    "\n",
    "        #Raising the selinium exception logic \n",
    "        except requests.exceptions.RequestException:\n",
    "            print(f\"Failed to retrieve {url}: Status code {response.status_code}\")\n",
    "            \n",
    "            #Here I call the selium function to run it \n",
    "            driver.get(url)\n",
    "            page_source = driver.page_source\n",
    "            time.sleep(10)\n",
    "\n",
    "            #print(url)\n",
    "            \n",
    "        #Regular runtime with the requests logic libary \n",
    "        soup = BeautifulSoup(page_source, 'html.parser')\n",
    "\n",
    "        #Inital cleaning\n",
    "        for a_tag in soup.find_all('a'):\n",
    "            a_tag.decompose()  # This removes the tag and its content\n",
    "            \n",
    "        # Extract text from the modifiedBeautifulSoup object\n",
    "        text = soup.get_text(strip=True)\n",
    "\n",
    "        #Calling the summarization function\n",
    "        summarized_text, extracted_keywords = summarize_and_extract(text, target_phrases, summarizer, max_length=50, min_length=5, do_sample=False)\n",
    "        #print('Summarization over')\n",
    "        \n",
    "        # Append result to the list\n",
    "        results.append({\n",
    "            'URL': url,\n",
    "            'Company': company_name,\n",
    "            'Summary': summarized_text,\n",
    "            'Keywords': extracted_keywords,\n",
    "            'Country': country,\n",
    "            'SuperSector': Supersector,\n",
    "            'Search Keywords': target_phrases\n",
    "        })\n",
    "\n",
    "        \n",
    "        results_df = pd.DataFrame(results)\n",
    "        #print('Results over')\n",
    "    \n",
    "    return results_df        "
   ]
  },
  {
   "cell_type": "code",
   "execution_count": 19,
   "id": "862e4644-584f-4a93-bc19-9dc0574be3c4",
   "metadata": {},
   "outputs": [],
   "source": [
    "#Text keyword summarizer\n",
    "def summarize_and_extract(text, target_phrases, summarizer, max_length=100, min_length=5, do_sample=True):\n",
    "    \"\"\"\n",
    "    Summarize the given text and then extract sentences containing any of the target phrases.\n",
    "    \n",
    "    :param text: The text to summarize and extract sentences from.\n",
    "    :param target_phrases: A list of phrases to look for in the summarized text.\n",
    "    :param summarizer: The summarization function to use.\n",
    "    :param max_length: The maximum length of the summary.\n",
    "    :param min_length: The minimum length of the summary.\n",
    "    :param do_sample: Whether or not to sample in the summarization process.\n",
    "    :return: A string containing the extracted sentences from the summarized text.\n",
    "    \"\"\"\n",
    "    #Perform the text preprocessing \n",
    "    find_text = find_sentences_with_keywords(text, target_phrases)\n",
    "\n",
    "    # Extract only the sentences from the first tuple\n",
    "    extracted_sentences, keywords = find_text    \n",
    "    \n",
    "    # Join extracted sentences into a cohesive summary\n",
    "    extracted_summary = \" \".join(extracted_sentences)\n",
    "\n",
    "    # Perform summarization\n",
    "    summarized = summarizer(extracted_summary, max_length=max_length, min_length=min_length, do_sample=do_sample, early_stopping=True)\n",
    "    summarized_text = summarized[0]['summary_text']  # Assuming the summarizer returns a list of dictionariess\n",
    "    #print('extraction over')\n",
    "\n",
    "    return summarized_text, keywords"
   ]
  },
  {
   "cell_type": "code",
   "execution_count": 20,
   "id": "fce72e6c-c514-450f-bef8-ed33dd4fe67b",
   "metadata": {},
   "outputs": [],
   "source": [
    "#I like how this system takes the sentences, but Iwould like to improve the process by hitting the previous and next sentences to give the system more\n",
    "#Context \n",
    "\n",
    "#Key word extraction function \n",
    "def find_sentences_with_keywords(sentence_text, keywords):\n",
    "    \n",
    "    # Tokenize the text into sentences\n",
    "    sentences = sent_tokenize(sentence_text)\n",
    "    \n",
    "    sentence_list = []\n",
    "    keywords_set = set()  # Use a set to avoid duplicates\n",
    "    \n",
    "    # Loop through sentences\n",
    "    for sentence in sentences:\n",
    "        \n",
    "        # Find all keywords present as whole words in the sentence\n",
    "        found_keywords = [keyword for keyword in keywords if re.search(r'\\b' + re.escape(keyword) + r'\\b', sentence, re.IGNORECASE)]\n",
    "        \n",
    "        if found_keywords:\n",
    "            # Append the sentence to the sentence list\n",
    "            sentence_list.append(sentence)\n",
    "            # Add the found keywords to the set\n",
    "            keywords_set.update(found_keywords)\n",
    "    \n",
    "    # Convert the set to a tuple to remove duplicates\n",
    "    keywords_tuple = tuple(keywords_set)\n",
    "    print('sent extraction over')\n",
    "\n",
    "    return tuple(sentence_list), keywords_tuple"
   ]
  },
  {
   "cell_type": "code",
   "execution_count": null,
   "id": "d8d730ab-8071-44ad-928a-bef8832a1ccc",
   "metadata": {
    "scrolled": true
   },
   "outputs": [
    {
     "name": "stdout",
     "output_type": "stream",
     "text": [
      "Visa Inc. Cl A\n",
      "Calling the search\n",
      "Search complete\n",
      "Response call\n",
      "https://aiolux.com/reports/analytics-technical-indicators?symbol=V&tab_name=rsi\n",
      "sent extraction over\n",
      "Response call\n",
      "Failed to retrieve https://www.sec.gov/Archives/edgar/data/878719/000119312523291471/d621442dncsr.htm: Status code 403\n"
     ]
    },
    {
     "name": "stderr",
     "output_type": "stream",
     "text": [
      "Your max_length is set to 50, but your input_length is only 3. Since this is a summarization task, where outputs shorter than the input are typically wanted, you might consider decreasing max_length manually, e.g. summarizer('...', max_length=1)\n"
     ]
    },
    {
     "name": "stdout",
     "output_type": "stream",
     "text": [
      "sent extraction over\n",
      "Response call\n",
      "https://aiolux.com/contrasts/side-by-side?symbol_arr%5B%5D=V&symbol_arr%5B%5D=SPY\n",
      "sent extraction over\n",
      "Response call\n"
     ]
    },
    {
     "name": "stderr",
     "output_type": "stream",
     "text": [
      "Your max_length is set to 50, but your input_length is only 3. Since this is a summarization task, where outputs shorter than the input are typically wanted, you might consider decreasing max_length manually, e.g. summarizer('...', max_length=1)\n"
     ]
    },
    {
     "name": "stdout",
     "output_type": "stream",
     "text": [
      "https://fundresearch.fidelity.com/mutual-funds/view-all/316066208\n",
      "sent extraction over\n",
      "Response call\n"
     ]
    },
    {
     "name": "stderr",
     "output_type": "stream",
     "text": [
      "Your max_length is set to 50, but your input_length is only 3. Since this is a summarization task, where outputs shorter than the input are typically wanted, you might consider decreasing max_length manually, e.g. summarizer('...', max_length=1)\n"
     ]
    },
    {
     "name": "stdout",
     "output_type": "stream",
     "text": [
      "https://fundresearch.fidelity.com/mutual-funds/view-all/316184100\n",
      "sent extraction over\n",
      "Done\n",
      "Broadcom Inc.\n",
      "Calling the search\n",
      "Search complete\n",
      "Response call\n",
      "https://www.globenewswire.com/news-release/2024/03/13/2845468/19933/en/Broadcom-Extends-Technology-and-Volume-Leadership-on-AI-Optical-Components.html\n",
      "sent extraction over\n",
      "Response call\n"
     ]
    },
    {
     "name": "stderr",
     "output_type": "stream",
     "text": [
      "Your max_length is set to 50, but your input_length is only 12. Since this is a summarization task, where outputs shorter than the input are typically wanted, you might consider decreasing max_length manually, e.g. summarizer('...', max_length=6)\n"
     ]
    },
    {
     "name": "stdout",
     "output_type": "stream",
     "text": [
      "https://www.broadcom.com/blog/generative-ai-and-the-transformation-of-everything\n",
      "sent extraction over\n",
      "Response call\n"
     ]
    },
    {
     "name": "stderr",
     "output_type": "stream",
     "text": [
      "Your max_length is set to 50, but your input_length is only 3. Since this is a summarization task, where outputs shorter than the input are typically wanted, you might consider decreasing max_length manually, e.g. summarizer('...', max_length=1)\n"
     ]
    },
    {
     "name": "stdout",
     "output_type": "stream",
     "text": [
      "https://www.broadcom.com/company/news/product-releases/61426\n",
      "sent extraction over\n",
      "Response call\n",
      "https://investors.broadcom.com/news-releases/news-release-details/broadcom-partners-google-cloud-strengthen-gen-ai-powered\n",
      "sent extraction over\n",
      "Response call\n"
     ]
    },
    {
     "name": "stderr",
     "output_type": "stream",
     "text": [
      "Your max_length is set to 50, but your input_length is only 14. Since this is a summarization task, where outputs shorter than the input are typically wanted, you might consider decreasing max_length manually, e.g. summarizer('...', max_length=7)\n"
     ]
    },
    {
     "name": "stdout",
     "output_type": "stream",
     "text": [
      "https://www.broadcom.com/blog/implications-of-generative-ai-for-enterprise-security\n",
      "sent extraction over\n",
      "Response call\n"
     ]
    },
    {
     "name": "stderr",
     "output_type": "stream",
     "text": [
      "Your max_length is set to 50, but your input_length is only 3. Since this is a summarization task, where outputs shorter than the input are typically wanted, you might consider decreasing max_length manually, e.g. summarizer('...', max_length=1)\n"
     ]
    },
    {
     "name": "stdout",
     "output_type": "stream",
     "text": [
      "https://finance.yahoo.com/news/broadcom-avgo-beneficiary-generative-artificial-131038901.html\n",
      "sent extraction over\n",
      "Response call\n",
      "https://symantec-enterprise-blogs.security.com/blogs/feature-stories-broadcom-software/generative-ai-and-transformation-everything\n",
      "sent extraction over\n",
      "Response call\n",
      "https://www.globenewswire.com/news-release/2024/03/13/2845468/0/en/Broadcom-Extends-Technology-and-Volume-Leadership-on-AI-Optical-Components.html\n",
      "sent extraction over\n",
      "Done\n",
      "Novo Nordisk A/S ADR\n",
      "Calling the search\n",
      "Search complete\n",
      "Response call\n"
     ]
    },
    {
     "name": "stderr",
     "output_type": "stream",
     "text": [
      "Your max_length is set to 50, but your input_length is only 3. Since this is a summarization task, where outputs shorter than the input are typically wanted, you might consider decreasing max_length manually, e.g. summarizer('...', max_length=1)\n"
     ]
    },
    {
     "name": "stdout",
     "output_type": "stream",
     "text": [
      "https://www.theglobeandmail.com/investing/markets/stocks/NVO/pressreleases/23661206/2-rising-biotechs-that-could-become-the-next-novo-nordisk/\n",
      "sent extraction over\n",
      "Response call\n"
     ]
    },
    {
     "name": "stderr",
     "output_type": "stream",
     "text": [
      "Your max_length is set to 50, but your input_length is only 3. Since this is a summarization task, where outputs shorter than the input are typically wanted, you might consider decreasing max_length manually, e.g. summarizer('...', max_length=1)\n"
     ]
    },
    {
     "name": "stdout",
     "output_type": "stream",
     "text": [
      "https://www.theglobeandmail.com/investing/markets/stocks/NVO-N/pressreleases/23986347/novo-nordisk-just-gave-investors-165-billion-more-reasons-to-get-excited/\n",
      "sent extraction over\n",
      "Response call\n",
      "Failed to retrieve https://www.barchart.com/story/news/24001530/wall-streets-next-stock-split-stocks-are-liable-to-be-familiar-names: Status code 403\n",
      "sent extraction over\n",
      "Response call\n",
      "Request timed out for https://protech4you.pl/novo-learning.html. Attempting with Selenium.\n"
     ]
    },
    {
     "name": "stderr",
     "output_type": "stream",
     "text": [
      "Your max_length is set to 50, but your input_length is only 3. Since this is a summarization task, where outputs shorter than the input are typically wanted, you might consider decreasing max_length manually, e.g. summarizer('...', max_length=1)\n"
     ]
    },
    {
     "name": "stdout",
     "output_type": "stream",
     "text": [
      "sent extraction over\n",
      "Response call\n",
      "https://doc.morningstar.com/Document/29eb3e89b6c7fdf6c765f219c15bb596.msdoc/?key=8e4aae5472d794c04c8d626a6392f8dad15671ad50f836cb\n",
      "sent extraction over\n",
      "Response call\n",
      "Failed to retrieve https://www.sec.gov/Archives/edgar/data/1710607/000171060723000272/acetf83123n-csr.htm: Status code 403\n"
     ]
    },
    {
     "name": "stderr",
     "output_type": "stream",
     "text": [
      "Your max_length is set to 50, but your input_length is only 3. Since this is a summarization task, where outputs shorter than the input are typically wanted, you might consider decreasing max_length manually, e.g. summarizer('...', max_length=1)\n"
     ]
    },
    {
     "name": "stdout",
     "output_type": "stream",
     "text": [
      "sent extraction over\n",
      "Done\n",
      "Novo Resources Corp.\n",
      "Calling the search\n",
      "Search complete\n",
      "Response call\n"
     ]
    },
    {
     "name": "stderr",
     "output_type": "stream",
     "text": [
      "Your max_length is set to 50, but your input_length is only 3. Since this is a summarization task, where outputs shorter than the input are typically wanted, you might consider decreasing max_length manually, e.g. summarizer('...', max_length=1)\n"
     ]
    },
    {
     "name": "stdout",
     "output_type": "stream",
     "text": [
      "https://www.theglobeandmail.com/investing/markets/stocks/NVO-T/pressreleases/23933785/\n",
      "sent extraction over\n",
      "Response call\n",
      "Failed to retrieve https://ca.finance.yahoo.com/news/agm-management-presentation-details-163600117.html: Status code 404\n"
     ]
    },
    {
     "name": "stderr",
     "output_type": "stream",
     "text": [
      "Your max_length is set to 50, but your input_length is only 3. Since this is a summarization task, where outputs shorter than the input are typically wanted, you might consider decreasing max_length manually, e.g. summarizer('...', max_length=1)\n"
     ]
    },
    {
     "name": "stdout",
     "output_type": "stream",
     "text": [
      "sent extraction over\n",
      "Response call\n"
     ]
    },
    {
     "name": "stderr",
     "output_type": "stream",
     "text": [
      "Your max_length is set to 50, but your input_length is only 37. Since this is a summarization task, where outputs shorter than the input are typically wanted, you might consider decreasing max_length manually, e.g. summarizer('...', max_length=18)\n"
     ]
    },
    {
     "name": "stdout",
     "output_type": "stream",
     "text": [
      "https://www.linkedin.com/posts/proactive-investors_ai-boost-for-tech-stocks-has-all-but-evaporated-activity-7125491656287481857-rIzD\n",
      "sent extraction over\n",
      "Response call\n"
     ]
    },
    {
     "name": "stderr",
     "output_type": "stream",
     "text": [
      "Your max_length is set to 50, but your input_length is only 3. Since this is a summarization task, where outputs shorter than the input are typically wanted, you might consider decreasing max_length manually, e.g. summarizer('...', max_length=1)\n"
     ]
    },
    {
     "name": "stdout",
     "output_type": "stream",
     "text": [
      "https://www.spglobal.com/marketintelligence/en/news-insights/latest-news-headlines/novo-resources-acquires-millennium-minerals-to-fast-track-beatons-creek-59752649\n",
      "sent extraction over\n",
      "Response call\n"
     ]
    },
    {
     "name": "stderr",
     "output_type": "stream",
     "text": [
      "Your max_length is set to 50, but your input_length is only 3. Since this is a summarization task, where outputs shorter than the input are typically wanted, you might consider decreasing max_length manually, e.g. summarizer('...', max_length=1)\n"
     ]
    },
    {
     "name": "stdout",
     "output_type": "stream",
     "text": [
      "https://www.linkedin.com/posts/proactive-investors_novo-resources-corp-continues-gold-run-at-activity-7074219158313279488-_cJt\n",
      "sent extraction over\n",
      "Response call\n"
     ]
    },
    {
     "name": "stderr",
     "output_type": "stream",
     "text": [
      "Your max_length is set to 50, but your input_length is only 3. Since this is a summarization task, where outputs shorter than the input are typically wanted, you might consider decreasing max_length manually, e.g. summarizer('...', max_length=1)\n"
     ]
    },
    {
     "name": "stdout",
     "output_type": "stream",
     "text": [
      "https://www.theglobeandmail.com/investing/markets/stocks/NVO-T/pressreleases/22858828/\n",
      "sent extraction over\n",
      "Response call\n",
      "Failed to retrieve https://www.proactiveinvestors.co.uk/companies/news/1042028/novo-resources-renewing-board-and-leadership-team-to-drive-strategy-and-add-skills-1042028.html: Status code 403\n"
     ]
    },
    {
     "name": "stderr",
     "output_type": "stream",
     "text": [
      "Your max_length is set to 50, but your input_length is only 35. Since this is a summarization task, where outputs shorter than the input are typically wanted, you might consider decreasing max_length manually, e.g. summarizer('...', max_length=17)\n"
     ]
    },
    {
     "name": "stdout",
     "output_type": "stream",
     "text": [
      "sent extraction over\n",
      "Response call\n"
     ]
    },
    {
     "name": "stderr",
     "output_type": "stream",
     "text": [
      "Your max_length is set to 50, but your input_length is only 3. Since this is a summarization task, where outputs shorter than the input are typically wanted, you might consider decreasing max_length manually, e.g. summarizer('...', max_length=1)\n"
     ]
    },
    {
     "name": "stdout",
     "output_type": "stream",
     "text": [
      "https://www.spglobal.com/marketintelligence/en/news-insights/latest-news-headlines/novo-completes-millennium-minerals-acquisition-for-c-57-6m-60252092\n",
      "sent extraction over\n",
      "Done\n",
      "JPMorgan Chase & Co.\n",
      "Calling the search\n",
      "Search complete\n",
      "Response call\n",
      "https://do.linkedin.com/posts/krzysztof-muszelik-b1aa6031_jpmorgan-is-developing-a-chatgpt-like-ai-activity-7068858519109672960-Qjtt\n",
      "sent extraction over\n",
      "Response call\n",
      "https://ve.linkedin.com/posts/tonyhophd_ai-powered-marketing-and-sales-reach-new-activity-7071473243202703360-YgPZ\n",
      "sent extraction over\n",
      "Response call\n",
      "https://privatebank.jpmorgan.com/eur/es/insights/markets-and-investing/chatgpt-the-start-of-the-ai-revolution\n",
      "sent extraction over\n",
      "Response call\n"
     ]
    },
    {
     "name": "stderr",
     "output_type": "stream",
     "text": [
      "Your max_length is set to 50, but your input_length is only 3. Since this is a summarization task, where outputs shorter than the input are typically wanted, you might consider decreasing max_length manually, e.g. summarizer('...', max_length=1)\n"
     ]
    },
    {
     "name": "stdout",
     "output_type": "stream",
     "text": [
      "https://www.msn.com/en-us/money/other/samsung-bans-staff-s-ai-use-after-spotting-chatgpt-data-leak/ar-AA1aBBEp\n",
      "sent extraction over\n",
      "Response call\n"
     ]
    },
    {
     "name": "stderr",
     "output_type": "stream",
     "text": [
      "Your max_length is set to 50, but your input_length is only 3. Since this is a summarization task, where outputs shorter than the input are typically wanted, you might consider decreasing max_length manually, e.g. summarizer('...', max_length=1)\n"
     ]
    },
    {
     "name": "stdout",
     "output_type": "stream",
     "text": [
      "https://www.youtube.com/watch?v=SPrI_tTTxdc\n",
      "sent extraction over\n",
      "Response call\n",
      "Failed to retrieve https://es-us.finanzas.yahoo.com/news/tsmc-reclaims-spot-worlds-10-011851613.html: Status code 404\n",
      "sent extraction over\n",
      "Response call\n",
      "https://www.prevencionintegral.com/actualidad/noticias/2024/02/28/ai-could-make-four-day-workweek-inevitable\n",
      "sent extraction over\n",
      "Response call\n"
     ]
    },
    {
     "name": "stderr",
     "output_type": "stream",
     "text": [
      "Your max_length is set to 50, but your input_length is only 3. Since this is a summarization task, where outputs shorter than the input are typically wanted, you might consider decreasing max_length manually, e.g. summarizer('...', max_length=1)\n"
     ]
    },
    {
     "name": "stdout",
     "output_type": "stream",
     "text": [
      "https://bfaglobal.com/bio/david-del-ser/\n",
      "sent extraction over\n",
      "Done\n",
      "JPMorgan Chase & Co.\n",
      "Calling the search\n",
      "Search complete\n",
      "Response call\n",
      "https://www.jpmorgan.com/insights/global-research/artificial-intelligence/generative-ai\n",
      "sent extraction over\n",
      "Response call\n"
     ]
    },
    {
     "name": "stderr",
     "output_type": "stream",
     "text": [
      "Your max_length is set to 50, but your input_length is only 3. Since this is a summarization task, where outputs shorter than the input are typically wanted, you might consider decreasing max_length manually, e.g. summarizer('...', max_length=1)\n"
     ]
    },
    {
     "name": "stdout",
     "output_type": "stream",
     "text": [
      "https://www.bloomberg.com/news/articles/2023-11-09/jpmorgan-is-working-with-us-regulators-on-generative-ai-pilot-projects\n",
      "sent extraction over\n",
      "Response call\n",
      "https://www.jpmorgan.com/insights/payments/payments-optimization/ai-payments-efficiency-fraud-reduction\n",
      "sent extraction over\n",
      "Response call\n",
      "https://www.linkedin.com/pulse/disruptive-power-generative-ai-jpmorgan-chase-cos-cash-antoine-viale-jlpge\n",
      "sent extraction over\n",
      "Response call\n",
      "https://www.bnnbloomberg.ca/jpmorgan-is-working-with-us-regulators-on-generative-ai-pilot-projects-1.1996342\n",
      "sent extraction over\n",
      "Response call\n"
     ]
    },
    {
     "name": "stderr",
     "output_type": "stream",
     "text": [
      "Your max_length is set to 50, but your input_length is only 3. Since this is a summarization task, where outputs shorter than the input are typically wanted, you might consider decreasing max_length manually, e.g. summarizer('...', max_length=1)\n"
     ]
    },
    {
     "name": "stdout",
     "output_type": "stream",
     "text": [
      "https://www.bloomberg.com/news/articles/2024-03-04/jpmorgan-s-ai-aided-cashflow-model-can-cut-manual-work-by-90\n",
      "sent extraction over\n",
      "Response call\n",
      "Failed to retrieve https://finance.yahoo.com/news/jpmorgan-discussing-generative-ai-projects-180438733.html: Status code 404\n",
      "sent extraction over\n",
      "Response call\n",
      "https://www.techtarget.com/searchsecurity/news/366556897/JPMorgan-Chase-CISO-explains-why-hes-an-AI-optimist\n",
      "sent extraction over\n",
      "Done\n",
      "Tesla Inc.\n",
      "Calling the search\n",
      "Search complete\n",
      "Response call\n",
      "Failed to retrieve https://es-us.finanzas.yahoo.com/tesla-stock-rises-nearly-10-on-ai-mojo-140524891.html: Status code 404\n"
     ]
    },
    {
     "name": "stderr",
     "output_type": "stream",
     "text": [
      "Your max_length is set to 50, but your input_length is only 3. Since this is a summarization task, where outputs shorter than the input are typically wanted, you might consider decreasing max_length manually, e.g. summarizer('...', max_length=1)\n"
     ]
    },
    {
     "name": "stdout",
     "output_type": "stream",
     "text": [
      "sent extraction over\n",
      "Response call\n"
     ]
    },
    {
     "name": "stderr",
     "output_type": "stream",
     "text": [
      "Your max_length is set to 50, but your input_length is only 3. Since this is a summarization task, where outputs shorter than the input are typically wanted, you might consider decreasing max_length manually, e.g. summarizer('...', max_length=1)\n"
     ]
    },
    {
     "name": "stdout",
     "output_type": "stream",
     "text": [
      "https://naologic.com/terms/artificial-intelligence/q/how-does-tesla-use-ai/how-does-tesla-use-deep-learning\n",
      "sent extraction over\n",
      "Response call\n",
      "Failed to retrieve https://www.tipranks.com/stocks/gb:0r0x/forecast: Status code 503\n"
     ]
    },
    {
     "name": "stderr",
     "output_type": "stream",
     "text": [
      "Your max_length is set to 50, but your input_length is only 3. Since this is a summarization task, where outputs shorter than the input are typically wanted, you might consider decreasing max_length manually, e.g. summarizer('...', max_length=1)\n"
     ]
    },
    {
     "name": "stdout",
     "output_type": "stream",
     "text": [
      "sent extraction over\n",
      "Response call\n",
      "Failed to retrieve https://es.finance.yahoo.com/news/toyota-turns-ai-effort-catch-170349258.html: Status code 404\n"
     ]
    },
    {
     "name": "stderr",
     "output_type": "stream",
     "text": [
      "Your max_length is set to 50, but your input_length is only 3. Since this is a summarization task, where outputs shorter than the input are typically wanted, you might consider decreasing max_length manually, e.g. summarizer('...', max_length=1)\n"
     ]
    },
    {
     "name": "stdout",
     "output_type": "stream",
     "text": [
      "sent extraction over\n",
      "Response call\n",
      "Failed to retrieve http://blog.samicoventures.com/mihbgvaqnsej/: Status code 404\n"
     ]
    },
    {
     "name": "stderr",
     "output_type": "stream",
     "text": [
      "Your max_length is set to 50, but your input_length is only 3. Since this is a summarization task, where outputs shorter than the input are typically wanted, you might consider decreasing max_length manually, e.g. summarizer('...', max_length=1)\n"
     ]
    },
    {
     "name": "stdout",
     "output_type": "stream",
     "text": [
      "sent extraction over\n",
      "Response call\n",
      "https://j2t.com/es/solutions/newsview/125848/marketwatch/\n",
      "sent extraction over\n",
      "Response call\n",
      "Failed to retrieve https://enrique-llanes.medium.com/cheap-teslas-the-future-of-electric-cars-ea17f554f294: Status code 403\n"
     ]
    },
    {
     "name": "stderr",
     "output_type": "stream",
     "text": [
      "Your max_length is set to 50, but your input_length is only 3. Since this is a summarization task, where outputs shorter than the input are typically wanted, you might consider decreasing max_length manually, e.g. summarizer('...', max_length=1)\n"
     ]
    },
    {
     "name": "stdout",
     "output_type": "stream",
     "text": [
      "sent extraction over\n",
      "Response call\n",
      "Failed to retrieve https://techandtasty.com/elon-musks-vision-realized-teslas-dojo-supercomputer-begins-operations/: Status code 406\n"
     ]
    },
    {
     "name": "stderr",
     "output_type": "stream",
     "text": [
      "Your max_length is set to 50, but your input_length is only 3. Since this is a summarization task, where outputs shorter than the input are typically wanted, you might consider decreasing max_length manually, e.g. summarizer('...', max_length=1)\n"
     ]
    },
    {
     "name": "stdout",
     "output_type": "stream",
     "text": [
      "sent extraction over\n",
      "Done\n",
      "Tesla Inc.\n",
      "Calling the search\n",
      "Search complete\n",
      "Response call\n",
      "https://www.precedenceresearch.com/generative-ai-in-automotive-market\n",
      "sent extraction over\n",
      "Response call\n"
     ]
    },
    {
     "name": "stderr",
     "output_type": "stream",
     "text": [
      "Your max_length is set to 50, but your input_length is only 3. Since this is a summarization task, where outputs shorter than the input are typically wanted, you might consider decreasing max_length manually, e.g. summarizer('...', max_length=1)\n"
     ]
    },
    {
     "name": "stdout",
     "output_type": "stream",
     "text": [
      "https://www.linkedin.com/pulse/how-tesla-making-use-artificial-intelligence-its-udit-sharma\n",
      "sent extraction over\n",
      "Response call\n",
      "https://siliconangle.com/2023/07/12/elon-musk-leading-new-ai-startup-aims-understand-universe-compete-chatgpt/\n",
      "sent extraction over\n",
      "Response call\n",
      "Failed to retrieve https://priyankagavali.medium.com/how-tesla-system-uses-ai-a50970e82a09: Status code 403\n"
     ]
    },
    {
     "name": "stderr",
     "output_type": "stream",
     "text": [
      "Your max_length is set to 50, but your input_length is only 3. Since this is a summarization task, where outputs shorter than the input are typically wanted, you might consider decreasing max_length manually, e.g. summarizer('...', max_length=1)\n"
     ]
    },
    {
     "name": "stdout",
     "output_type": "stream",
     "text": [
      "sent extraction over\n",
      "Response call\n"
     ]
    },
    {
     "name": "stderr",
     "output_type": "stream",
     "text": [
      "Your max_length is set to 50, but your input_length is only 3. Since this is a summarization task, where outputs shorter than the input are typically wanted, you might consider decreasing max_length manually, e.g. summarizer('...', max_length=1)\n"
     ]
    },
    {
     "name": "stdout",
     "output_type": "stream",
     "text": [
      "https://www.bloomberg.com/news/articles/2024-02-27/apple-and-tesla-veterans-aim-to-help-japan-design-ai-chips\n",
      "sent extraction over\n",
      "Response call\n",
      "Failed to retrieve https://finance.yahoo.com/news/despite-elon-musks-warnings-ai-171450405.html: Status code 404\n",
      "sent extraction over\n",
      "Response call\n",
      "Failed to retrieve https://www.researchgate.net/publication/357178189_Application_of_Artificial_Intelligence_in_Tesla-_A_Case_Study: Status code 403\n"
     ]
    },
    {
     "name": "stderr",
     "output_type": "stream",
     "text": [
      "Your max_length is set to 50, but your input_length is only 3. Since this is a summarization task, where outputs shorter than the input are typically wanted, you might consider decreasing max_length manually, e.g. summarizer('...', max_length=1)\n"
     ]
    },
    {
     "name": "stdout",
     "output_type": "stream",
     "text": [
      "sent extraction over\n",
      "Response call\n",
      "https://www.linkedin.com/pulse/generative-ai-automotive-market-size-trends-exploring-alena-sharma-khulf?trk=article-ssr-frontend-pulse_more-articles_related-content-card\n",
      "sent extraction over\n",
      "Done\n",
      "Walmart Inc.\n",
      "Calling the search\n",
      "Search complete\n",
      "Response call\n",
      "Failed to retrieve https://es-us.finanzas.yahoo.com/news/walmart-sam-club-integrating-generative-011349535.html: Status code 404\n"
     ]
    },
    {
     "name": "stderr",
     "output_type": "stream",
     "text": [
      "Your max_length is set to 50, but your input_length is only 3. Since this is a summarization task, where outputs shorter than the input are typically wanted, you might consider decreasing max_length manually, e.g. summarizer('...', max_length=1)\n"
     ]
    },
    {
     "name": "stdout",
     "output_type": "stream",
     "text": [
      "sent extraction over\n",
      "Response call\n",
      "Failed to retrieve https://es.finance.yahoo.com/news/walmart-proved-worthy-opponent-both-151038368.html: Status code 404\n"
     ]
    },
    {
     "name": "stderr",
     "output_type": "stream",
     "text": [
      "Your max_length is set to 50, but your input_length is only 3. Since this is a summarization task, where outputs shorter than the input are typically wanted, you might consider decreasing max_length manually, e.g. summarizer('...', max_length=1)\n"
     ]
    },
    {
     "name": "stdout",
     "output_type": "stream",
     "text": [
      "sent extraction over\n",
      "Response call\n",
      "Failed to retrieve https://www.autonews.com/article/20181114/MOBILITY/181119900/ford-and-walmart-start-autonomous-vehicle-partnership: Status code 403\n"
     ]
    },
    {
     "name": "stderr",
     "output_type": "stream",
     "text": [
      "Your max_length is set to 50, but your input_length is only 3. Since this is a summarization task, where outputs shorter than the input are typically wanted, you might consider decreasing max_length manually, e.g. summarizer('...', max_length=1)\n"
     ]
    },
    {
     "name": "stdout",
     "output_type": "stream",
     "text": [
      "sent extraction over\n",
      "Response call\n",
      "https://bo.linkedin.com/posts/kendoyleire_how-ecommerce-brands-can-achieve-10x-growth-activity-7067441670992093185-45Rz\n",
      "sent extraction over\n",
      "Response call\n"
     ]
    },
    {
     "name": "stderr",
     "output_type": "stream",
     "text": [
      "Your max_length is set to 50, but your input_length is only 3. Since this is a summarization task, where outputs shorter than the input are typically wanted, you might consider decreasing max_length manually, e.g. summarizer('...', max_length=1)\n"
     ]
    },
    {
     "name": "stdout",
     "output_type": "stream",
     "text": [
      "https://www.prnewswire.com/news-releases/oracle-y-walmart-anuncian-una-aprobacion-provisional-del-gobierno-de-ee-uu--895970447.html\n",
      "sent extraction over\n",
      "Response call\n"
     ]
    },
    {
     "name": "stderr",
     "output_type": "stream",
     "text": [
      "Your max_length is set to 50, but your input_length is only 3. Since this is a summarization task, where outputs shorter than the input are typically wanted, you might consider decreasing max_length manually, e.g. summarizer('...', max_length=1)\n"
     ]
    },
    {
     "name": "stdout",
     "output_type": "stream",
     "text": [
      "https://es.slideshare.net/glenferry/walmart-1553273?next_slideshow=true\n",
      "sent extraction over\n",
      "Response call\n"
     ]
    },
    {
     "name": "stderr",
     "output_type": "stream",
     "text": [
      "Your max_length is set to 50, but your input_length is only 3. Since this is a summarization task, where outputs shorter than the input are typically wanted, you might consider decreasing max_length manually, e.g. summarizer('...', max_length=1)\n"
     ]
    },
    {
     "name": "stdout",
     "output_type": "stream",
     "text": [
      "https://ve.linkedin.com/posts/beeraajaah_twitter-algorithms-engagement-activity-7049035932422848512-sMvI\n",
      "sent extraction over\n",
      "Response call\n"
     ]
    },
    {
     "name": "stderr",
     "output_type": "stream",
     "text": [
      "Your max_length is set to 50, but your input_length is only 3. Since this is a summarization task, where outputs shorter than the input are typically wanted, you might consider decreasing max_length manually, e.g. summarizer('...', max_length=1)\n"
     ]
    },
    {
     "name": "stdout",
     "output_type": "stream",
     "text": [
      "https://walmart.wd5.myworkdayjobs.com/es/Non-WorkdayInternal/job/Staff--Product-Manager---Tech-Strategy_R-1710157\n",
      "sent extraction over\n",
      "Done\n",
      "UnitedHealth Group Inc.\n",
      "Calling the search\n",
      "Search complete\n",
      "Response call\n",
      "https://www.ccrif.org/es/aggregator?_exception_statuscode=404&destination=/es%3Fpage%3D9&page=5\n",
      "sent extraction over\n",
      "Response call\n",
      "Failed to retrieve https://es-us.finanzas.yahoo.com/news/14-most-profitable-large-cap-134400668.html: Status code 404\n"
     ]
    },
    {
     "name": "stderr",
     "output_type": "stream",
     "text": [
      "Your max_length is set to 50, but your input_length is only 3. Since this is a summarization task, where outputs shorter than the input are typically wanted, you might consider decreasing max_length manually, e.g. summarizer('...', max_length=1)\n"
     ]
    },
    {
     "name": "stdout",
     "output_type": "stream",
     "text": [
      "sent extraction over\n",
      "Response call\n",
      "Failed to retrieve https://es.finance.yahoo.com/news/14-most-profitable-large-cap-134400668.html: Status code 404\n"
     ]
    },
    {
     "name": "stderr",
     "output_type": "stream",
     "text": [
      "Your max_length is set to 50, but your input_length is only 3. Since this is a summarization task, where outputs shorter than the input are typically wanted, you might consider decreasing max_length manually, e.g. summarizer('...', max_length=1)\n"
     ]
    },
    {
     "name": "stdout",
     "output_type": "stream",
     "text": [
      "sent extraction over\n",
      "Response call\n"
     ]
    },
    {
     "name": "stderr",
     "output_type": "stream",
     "text": [
      "Your max_length is set to 50, but your input_length is only 3. Since this is a summarization task, where outputs shorter than the input are typically wanted, you might consider decreasing max_length manually, e.g. summarizer('...', max_length=1)\n"
     ]
    },
    {
     "name": "stdout",
     "output_type": "stream",
     "text": [
      "https://www.digitaljournal.com/pr/healthcare-edi-market-growth-size-and-trends-2022-cagr-status-qualitative-research-by-regional-developments-industry-revenue-and-top-key-players-forecast-by-2029\n",
      "sent extraction over\n",
      "Done\n",
      "UnitedHealth Group Inc.\n",
      "Calling the search\n",
      "Search complete\n",
      "Response call\n"
     ]
    },
    {
     "name": "stderr",
     "output_type": "stream",
     "text": [
      "Your max_length is set to 50, but your input_length is only 3. Since this is a summarization task, where outputs shorter than the input are typically wanted, you might consider decreasing max_length manually, e.g. summarizer('...', max_length=1)\n"
     ]
    },
    {
     "name": "stdout",
     "output_type": "stream",
     "text": [
      "https://news.bloomberglaw.com/health-law-and-business/unitedhealthcare-accused-of-using-ai-to-wrongfully-deny-claims\n",
      "sent extraction over\n",
      "Response call\n",
      "Failed to retrieve https://www.reuters.com/legal/lawsuit-claims-unitedhealth-ai-wrongfully-denies-elderly-extended-care-2023-11-14/: Status code 401\n"
     ]
    },
    {
     "name": "stderr",
     "output_type": "stream",
     "text": [
      "Your max_length is set to 50, but your input_length is only 3. Since this is a summarization task, where outputs shorter than the input are typically wanted, you might consider decreasing max_length manually, e.g. summarizer('...', max_length=1)\n"
     ]
    },
    {
     "name": "stdout",
     "output_type": "stream",
     "text": [
      "sent extraction over\n",
      "Response call\n",
      "Failed to retrieve https://emerj.com/ai-sector-overviews/artificial-intelligence-at-united-health/: Status code 403\n"
     ]
    },
    {
     "name": "stderr",
     "output_type": "stream",
     "text": [
      "Your max_length is set to 50, but your input_length is only 41. Since this is a summarization task, where outputs shorter than the input are typically wanted, you might consider decreasing max_length manually, e.g. summarizer('...', max_length=20)\n"
     ]
    },
    {
     "name": "stdout",
     "output_type": "stream",
     "text": [
      "sent extraction over\n",
      "Response call\n",
      "https://www.law360.com/articles/1774888/these-are-the-high-stakes-ai-legal-battles-to-watch-in-2024\n",
      "sent extraction over\n",
      "Response call\n",
      "https://www.hcinnovationgroup.com/population-health-management/article/53082653/unitedhealth-ceo-says-team-not-seeing-any-deviation-in-utilization-trends\n",
      "sent extraction over\n",
      "Response call\n"
     ]
    },
    {
     "name": "stderr",
     "output_type": "stream",
     "text": [
      "Your max_length is set to 50, but your input_length is only 3. Since this is a summarization task, where outputs shorter than the input are typically wanted, you might consider decreasing max_length manually, e.g. summarizer('...', max_length=1)\n"
     ]
    },
    {
     "name": "stdout",
     "output_type": "stream",
     "text": [
      "https://news.bloomberglaw.com/health-law-and-business/us-health-regulators-open-probe-in-unitedhealth-cyberattack\n",
      "sent extraction over\n",
      "Response call\n",
      "Failed to retrieve https://finance.yahoo.com/news/unitedhealths-unh-optum-rx-makes-171500324.html: Status code 404\n"
     ]
    },
    {
     "name": "stderr",
     "output_type": "stream",
     "text": [
      "Your max_length is set to 50, but your input_length is only 35. Since this is a summarization task, where outputs shorter than the input are typically wanted, you might consider decreasing max_length manually, e.g. summarizer('...', max_length=17)\n"
     ]
    },
    {
     "name": "stdout",
     "output_type": "stream",
     "text": [
      "sent extraction over\n",
      "Response call\n"
     ]
    },
    {
     "name": "stderr",
     "output_type": "stream",
     "text": [
      "Your max_length is set to 50, but your input_length is only 3. Since this is a summarization task, where outputs shorter than the input are typically wanted, you might consider decreasing max_length manually, e.g. summarizer('...', max_length=1)\n"
     ]
    },
    {
     "name": "stdout",
     "output_type": "stream",
     "text": [
      "https://www.law360.com/articles/1769453/debevoise-attys-on-ai-potential-in-health-iterative-mistakes\n",
      "sent extraction over\n",
      "Done\n",
      "Manila Mining Corp. A\n",
      "Calling the search\n",
      "Search complete\n",
      "Response call\n"
     ]
    },
    {
     "name": "stderr",
     "output_type": "stream",
     "text": [
      "Your max_length is set to 50, but your input_length is only 3. Since this is a summarization task, where outputs shorter than the input are typically wanted, you might consider decreasing max_length manually, e.g. summarizer('...', max_length=1)\n"
     ]
    },
    {
     "name": "stdout",
     "output_type": "stream",
     "text": [
      "https://ph.linkedin.com/company/techconnect-it-solutions?trk=public_profile_experience-item_profile-section-card_image-click\n",
      "sent extraction over\n",
      "Response call\n"
     ]
    },
    {
     "name": "stderr",
     "output_type": "stream",
     "text": [
      "Your max_length is set to 50, but your input_length is only 3. Since this is a summarization task, where outputs shorter than the input are typically wanted, you might consider decreasing max_length manually, e.g. summarizer('...', max_length=1)\n"
     ]
    },
    {
     "name": "stdout",
     "output_type": "stream",
     "text": [
      "https://ph.linkedin.com/company/techconnect-it-solutions\n",
      "sent extraction over\n",
      "Response call\n"
     ]
    },
    {
     "name": "stderr",
     "output_type": "stream",
     "text": [
      "Your max_length is set to 50, but your input_length is only 3. Since this is a summarization task, where outputs shorter than the input are typically wanted, you might consider decreasing max_length manually, e.g. summarizer('...', max_length=1)\n"
     ]
    },
    {
     "name": "stdout",
     "output_type": "stream",
     "text": [
      "https://www.facebook.com/InformaticsPH/\n",
      "sent extraction over\n",
      "Response call\n"
     ]
    },
    {
     "name": "stderr",
     "output_type": "stream",
     "text": [
      "Your max_length is set to 50, but your input_length is only 3. Since this is a summarization task, where outputs shorter than the input are typically wanted, you might consider decreasing max_length manually, e.g. summarizer('...', max_length=1)\n"
     ]
    },
    {
     "name": "stdout",
     "output_type": "stream",
     "text": [
      "https://m.facebook.com/ilsdoleofficial/videos/1556393408455585/\n",
      "sent extraction over\n",
      "Response call\n"
     ]
    },
    {
     "name": "stderr",
     "output_type": "stream",
     "text": [
      "Your max_length is set to 50, but your input_length is only 3. Since this is a summarization task, where outputs shorter than the input are typically wanted, you might consider decreasing max_length manually, e.g. summarizer('...', max_length=1)\n"
     ]
    },
    {
     "name": "stdout",
     "output_type": "stream",
     "text": [
      "https://www.facebook.com/uapsampaloc.chapter/?locale=en_GB\n",
      "sent extraction over\n",
      "Response call\n"
     ]
    },
    {
     "name": "stderr",
     "output_type": "stream",
     "text": [
      "Your max_length is set to 50, but your input_length is only 3. Since this is a summarization task, where outputs shorter than the input are typically wanted, you might consider decreasing max_length manually, e.g. summarizer('...', max_length=1)\n"
     ]
    },
    {
     "name": "stdout",
     "output_type": "stream",
     "text": [
      "https://www.facebook.com/globaltrendsbusinessleadersawards/videos/global-trends-business-leaders-awards/430187712791455/\n",
      "sent extraction over\n",
      "Response call\n"
     ]
    },
    {
     "name": "stderr",
     "output_type": "stream",
     "text": [
      "Your max_length is set to 50, but your input_length is only 3. Since this is a summarization task, where outputs shorter than the input are typically wanted, you might consider decreasing max_length manually, e.g. summarizer('...', max_length=1)\n"
     ]
    },
    {
     "name": "stdout",
     "output_type": "stream",
     "text": [
      "https://www.facebook.com/PSAgovph/videos/day-2-of-the-2nd-philippine-data-festival/796615879137090/\n",
      "sent extraction over\n",
      "Response call\n",
      "https://philarchive.org/s/Yong%20Sim%20Ng\n",
      "sent extraction over\n",
      "Done\n",
      "Mastercard Inc.\n",
      "Calling the search\n",
      "Search failed for Mastercard Inc. with error: ('Connection aborted.', RemoteDisconnected('Remote end closed connection without response'))\n",
      "Done\n",
      "Mastercard Inc.\n",
      "Calling the search\n",
      "Search complete\n",
      "Response call\n",
      "Failed to retrieve https://www.coinspeaker.com/mastercard-generative-ai-fraud/: Status code 403\n",
      "sent extraction over\n",
      "Response call\n",
      "https://www.mastercard.com/news/press/2024/february/mastercard-supercharges-consumer-protection-with-gen-ai/\n",
      "sent extraction over\n",
      "Response call\n",
      "https://itrexgroup.com/blog/generative-ai-use-cases-in-business/\n",
      "sent extraction over\n",
      "Response call\n",
      "Failed to retrieve https://www.americanbanker.com/news/how-mastercard-is-using-ai-to-boost-minority-business-owners: Status code 403\n",
      "sent extraction over\n",
      "Response call\n",
      "https://www.forbes.com/sites/bernardmarr/2024/03/05/the-future-of-generative-ai-6-predictions-everyone-should-know-about/\n",
      "sent extraction over\n",
      "Response call\n",
      "Failed to retrieve https://cryptodaily.co.uk/news-in-crypto/coinspeaker:mastercard-generative-ai-fraud: Status code 403\n",
      "sent extraction over\n",
      "Response call\n",
      "https://www.stocktitan.net/news/MA/mastercard-announces-development-of-inclusive-ai-tool-to-provide-2noxi5dx5sxa.html\n",
      "sent extraction over\n",
      "Response call\n",
      "https://markets.ft.com/data/announce/detail?dockey=600-202401110942BIZWIRE_USPRX____20240111_BW906678-1\n",
      "sent extraction over\n",
      "Done\n",
      "Exxon Mobil Corp.\n",
      "Calling the search\n",
      "Search complete\n",
      "Response call\n",
      "https://www.chemicalprocessing.com/industrynews/news/33036521/exxon-mobils-balancing-act-fossil-fuels-meet-low-carbon-solutions\n",
      "sent extraction over\n",
      "Response call\n"
     ]
    },
    {
     "name": "stderr",
     "output_type": "stream",
     "text": [
      "Your max_length is set to 50, but your input_length is only 3. Since this is a summarization task, where outputs shorter than the input are typically wanted, you might consider decreasing max_length manually, e.g. summarizer('...', max_length=1)\n"
     ]
    },
    {
     "name": "stdout",
     "output_type": "stream",
     "text": [
      "https://siliconangle.com/2023/06/29/exxon-mobil-breaks-down-silos-and-modernizes-systems-as-it-embraces-the-data-cloud-snowflakesummit/\n",
      "sent extraction over\n",
      "Response call\n",
      "https://www.hartenergy.com/exclusives/image-generative-ai-could-make-its-own-geoscience-discoveries-206344\n",
      "sent extraction over\n",
      "Response call\n",
      "https://www.shrm.org/topics-tools/news/inclusion-equity-diversity/exxon-mobil-corp-bans-lgbtq-flag-flying-outside-corporate-offices\n",
      "sent extraction over\n",
      "Response call\n",
      "https://www.theglobeandmail.com/investing/markets/stocks/XOM-N/pressreleases/19348589/prediction-these-2-artificial-intelligence-ai-growth-stocks-will-join-apple-and-microsoft-in-the-2-trillion-club-by-2033/\n",
      "sent extraction over\n",
      "Response call\n",
      "https://www.linkedin.com/posts/keisha-baltieri_the-ceo-and-ai-whats-ahead-in-2024-activity-7156031297981706240-fulV\n",
      "sent extraction over\n",
      "Response call\n",
      "Request timed out for https://www.seattletimes.com/business/microsoft-tops-apple-to-become-most-valuable-public-company/. Attempting with Selenium.\n",
      "sent extraction over\n",
      "Done\n",
      "Exxon Mobil Corp.\n",
      "Calling the search\n",
      "Search complete\n",
      "Response call\n",
      "Failed to retrieve https://es-us.finanzas.yahoo.com/news/billionaire-ray-dalio-insiders-love-130324479.html: Status code 404\n"
     ]
    },
    {
     "name": "stderr",
     "output_type": "stream",
     "text": [
      "Your max_length is set to 50, but your input_length is only 24. Since this is a summarization task, where outputs shorter than the input are typically wanted, you might consider decreasing max_length manually, e.g. summarizer('...', max_length=12)\n"
     ]
    },
    {
     "name": "stdout",
     "output_type": "stream",
     "text": [
      "sent extraction over\n",
      "Response call\n",
      "Failed to retrieve https://es.finance.yahoo.com/news/billionaire-ray-dalio-insiders-love-130324479.html: Status code 404\n"
     ]
    },
    {
     "name": "stderr",
     "output_type": "stream",
     "text": [
      "Your max_length is set to 50, but your input_length is only 3. Since this is a summarization task, where outputs shorter than the input are typically wanted, you might consider decreasing max_length manually, e.g. summarizer('...', max_length=1)\n"
     ]
    },
    {
     "name": "stdout",
     "output_type": "stream",
     "text": [
      "sent extraction over\n",
      "Response call\n"
     ]
    },
    {
     "name": "stderr",
     "output_type": "stream",
     "text": [
      "Your max_length is set to 50, but your input_length is only 3. Since this is a summarization task, where outputs shorter than the input are typically wanted, you might consider decreasing max_length manually, e.g. summarizer('...', max_length=1)\n"
     ]
    },
    {
     "name": "stdout",
     "output_type": "stream",
     "text": [
      "https://minee.online/blogs/vqaccmlnpp\n",
      "sent extraction over\n",
      "Done\n",
      "ASML Holding N.V.\n",
      "Calling the search\n",
      "Search complete\n",
      "Response call\n",
      "https://www.linkedin.com/posts/rickbouter_generative-ai-boom-cant-happen-without-asml-activity-7158378879471017984-FegY\n",
      "sent extraction over\n",
      "Response call\n"
     ]
    },
    {
     "name": "stderr",
     "output_type": "stream",
     "text": [
      "Your max_length is set to 50, but your input_length is only 3. Since this is a summarization task, where outputs shorter than the input are typically wanted, you might consider decreasing max_length manually, e.g. summarizer('...', max_length=1)\n"
     ]
    },
    {
     "name": "stdout",
     "output_type": "stream",
     "text": [
      "https://www.linkedin.com/posts/rickbouter_gartner-emergingtechnology-artificialintelligence-activity-7107352315430359041-8qJM\n",
      "sent extraction over\n",
      "Response call\n"
     ]
    },
    {
     "name": "stderr",
     "output_type": "stream",
     "text": [
      "Your max_length is set to 50, but your input_length is only 3. Since this is a summarization task, where outputs shorter than the input are typically wanted, you might consider decreasing max_length manually, e.g. summarizer('...', max_length=1)\n"
     ]
    },
    {
     "name": "stdout",
     "output_type": "stream",
     "text": [
      "https://simplywall.st/stocks/nl/capital-goods/ams-fur/fugro-shares/news/we-ran-a-stock-scan-for-earnings-growth-and-fugro-amsfur-pas\n",
      "sent extraction over\n",
      "Response call\n"
     ]
    },
    {
     "name": "stderr",
     "output_type": "stream",
     "text": [
      "Your max_length is set to 50, but your input_length is only 3. Since this is a summarization task, where outputs shorter than the input are typically wanted, you might consider decreasing max_length manually, e.g. summarizer('...', max_length=1)\n"
     ]
    },
    {
     "name": "stdout",
     "output_type": "stream",
     "text": [
      "https://simplywall.st/stocks/nl/capital-goods/ams-fur/fugro-shares/news/is-fugro-nvs-amsfur-recent-stock-performance-tethered-to-its\n",
      "sent extraction over\n",
      "Response call\n"
     ]
    },
    {
     "name": "stderr",
     "output_type": "stream",
     "text": [
      "Your max_length is set to 50, but your input_length is only 3. Since this is a summarization task, where outputs shorter than the input are typically wanted, you might consider decreasing max_length manually, e.g. summarizer('...', max_length=1)\n"
     ]
    },
    {
     "name": "stdout",
     "output_type": "stream",
     "text": [
      "https://semiwiki.com/lithography/285664-the-uncertain-phase-shifts-of-euv-masks/\n",
      "sent extraction over\n",
      "Response call\n",
      "Failed to retrieve https://nl.indeed.com/q-asml-security-l-eindhoven-airport-vacatures.html: Status code 403\n"
     ]
    },
    {
     "name": "stderr",
     "output_type": "stream",
     "text": [
      "Your max_length is set to 50, but your input_length is only 3. Since this is a summarization task, where outputs shorter than the input are typically wanted, you might consider decreasing max_length manually, e.g. summarizer('...', max_length=1)\n"
     ]
    },
    {
     "name": "stdout",
     "output_type": "stream",
     "text": [
      "sent extraction over\n",
      "Response call\n",
      "Failed to retrieve https://be.marketscreener.com/koers/aandeel/ACCENTURE-PLC-11521/nieuws-andere-talen/: Status code 403\n"
     ]
    },
    {
     "name": "stderr",
     "output_type": "stream",
     "text": [
      "Your max_length is set to 50, but your input_length is only 3. Since this is a summarization task, where outputs shorter than the input are typically wanted, you might consider decreasing max_length manually, e.g. summarizer('...', max_length=1)\n"
     ]
    },
    {
     "name": "stdout",
     "output_type": "stream",
     "text": [
      "sent extraction over\n",
      "Done\n",
      "ASML Holding N.V.\n",
      "Calling the search\n",
      "Search complete\n",
      "Response call\n",
      "https://www.livemint.com/news/generative-ai-boom-can-t-happen-without-asml-ceo-wenninksays-11706121183637.html\n",
      "sent extraction over\n",
      "Response call\n",
      "Failed to retrieve https://seekingalpha.com/article/4613746-asml-generative-ai-trend-makes-a-good-stock-even-better: Status code 403\n",
      "sent extraction over\n",
      "Response call\n"
     ]
    },
    {
     "name": "stderr",
     "output_type": "stream",
     "text": [
      "Your max_length is set to 50, but your input_length is only 3. Since this is a summarization task, where outputs shorter than the input are typically wanted, you might consider decreasing max_length manually, e.g. summarizer('...', max_length=1)\n"
     ]
    },
    {
     "name": "stdout",
     "output_type": "stream",
     "text": [
      "https://www.moomoo.com/news/post/32997633/this-film-wasn-t-filmed--asml-harnesses-generative-artificial-intelligence-to-make-its-latest-brand-film\n",
      "sent extraction over\n",
      "Response call\n",
      "https://www.bnnbloomberg.ca/asml-shows-off-380-million-165-ton-machine-behind-ai-shift-1.2033182\n",
      "sent extraction over\n",
      "Response call\n",
      "https://www.taipeitimes.com/News/biz/archives/2024/02/11/2003813373?ref=news.summarizely.ai\n",
      "sent extraction over\n",
      "Response call\n"
     ]
    },
    {
     "name": "stderr",
     "output_type": "stream",
     "text": [
      "Your max_length is set to 50, but your input_length is only 3. Since this is a summarization task, where outputs shorter than the input are typically wanted, you might consider decreasing max_length manually, e.g. summarizer('...', max_length=1)\n"
     ]
    },
    {
     "name": "stdout",
     "output_type": "stream",
     "text": [
      "https://www.bloomberg.com/news/articles/2023-05-31/asm-sees-impact-from-china-chip-curbs-offset-by-ai-driven-demand\n",
      "sent extraction over\n",
      "Response call\n",
      "Failed to retrieve https://medium.com/@chois2121/what-does-ai-and-euv-mean-for-asml-f2dcefb39339: Status code 403\n"
     ]
    },
    {
     "name": "stderr",
     "output_type": "stream",
     "text": [
      "Your max_length is set to 50, but your input_length is only 3. Since this is a summarization task, where outputs shorter than the input are typically wanted, you might consider decreasing max_length manually, e.g. summarizer('...', max_length=1)\n"
     ]
    },
    {
     "name": "stdout",
     "output_type": "stream",
     "text": [
      "sent extraction over\n",
      "Response call\n"
     ]
    },
    {
     "name": "stderr",
     "output_type": "stream",
     "text": [
      "Your max_length is set to 50, but your input_length is only 3. Since this is a summarization task, where outputs shorter than the input are typically wanted, you might consider decreasing max_length manually, e.g. summarizer('...', max_length=1)\n"
     ]
    },
    {
     "name": "stdout",
     "output_type": "stream",
     "text": [
      "https://www.insidermonkey.com/blog/is-asml-holding-n-v-asml-an-ai-enabler-1245248/\n",
      "sent extraction over\n",
      "Done\n",
      "Procter & Gamble Co.\n",
      "Calling the search\n",
      "Search complete\n",
      "Response call\n",
      "https://www.ciodive.com/news/procter-gamble-PG-chatgp-AI-openAI/697067/\n",
      "sent extraction over\n",
      "Response call\n"
     ]
    },
    {
     "name": "stderr",
     "output_type": "stream",
     "text": [
      "Your max_length is set to 50, but your input_length is only 3. Since this is a summarization task, where outputs shorter than the input are typically wanted, you might consider decreasing max_length manually, e.g. summarizer('...', max_length=1)\n"
     ]
    },
    {
     "name": "stdout",
     "output_type": "stream",
     "text": [
      "https://consumergoods.com/pg-leans-ai-dynamic-routing-and-sourcing-optimization\n",
      "sent extraction over\n",
      "Response call\n",
      "https://aws.amazon.com/generative-ai/use-cases/\n",
      "sent extraction over\n",
      "Response call\n",
      "Failed to retrieve https://www.upwork.com/resources/generative-ai-vs-chatgpt: Status code 403\n",
      "sent extraction over\n",
      "Response call\n"
     ]
    },
    {
     "name": "stderr",
     "output_type": "stream",
     "text": [
      "Your max_length is set to 50, but your input_length is only 3. Since this is a summarization task, where outputs shorter than the input are typically wanted, you might consider decreasing max_length manually, e.g. summarizer('...', max_length=1)\n"
     ]
    },
    {
     "name": "stdout",
     "output_type": "stream",
     "text": [
      "https://www.cio.com/article/408351/pg-turns-to-ai-to-create-digital-manufacturing-of-the-future.html\n",
      "sent extraction over\n",
      "Response call\n"
     ]
    },
    {
     "name": "stderr",
     "output_type": "stream",
     "text": [
      "Your max_length is set to 50, but your input_length is only 3. Since this is a summarization task, where outputs shorter than the input are typically wanted, you might consider decreasing max_length manually, e.g. summarizer('...', max_length=1)\n"
     ]
    },
    {
     "name": "stdout",
     "output_type": "stream",
     "text": [
      "https://www.cio.com/article/650197/pg-enlists-iot-predictive-analytics-to-perfect-pampers-diapers.html\n",
      "sent extraction over\n",
      "Response call\n",
      "Failed to retrieve https://adage.com/article/marketing-news-strategy/how-procter-gambles-media-strategy-changes-role-agencies/2473956: Status code 403\n"
     ]
    },
    {
     "name": "stderr",
     "output_type": "stream",
     "text": [
      "Your max_length is set to 50, but your input_length is only 3. Since this is a summarization task, where outputs shorter than the input are typically wanted, you might consider decreasing max_length manually, e.g. summarizer('...', max_length=1)\n"
     ]
    },
    {
     "name": "stdout",
     "output_type": "stream",
     "text": [
      "sent extraction over\n",
      "Done\n",
      "Procter & Gamble Co.\n",
      "Calling the search\n",
      "Search complete\n",
      "Response call\n"
     ]
    },
    {
     "name": "stderr",
     "output_type": "stream",
     "text": [
      "Your max_length is set to 50, but your input_length is only 3. Since this is a summarization task, where outputs shorter than the input are typically wanted, you might consider decreasing max_length manually, e.g. summarizer('...', max_length=1)\n"
     ]
    },
    {
     "name": "stdout",
     "output_type": "stream",
     "text": [
      "https://cr.linkedin.com/posts/procter-and-gamble_pg-tests-laundry-refill-product-activity-6534789390902837248-fd84?trk=public_profile_like_view\n",
      "sent extraction over\n",
      "Response call\n"
     ]
    },
    {
     "name": "stderr",
     "output_type": "stream",
     "text": [
      "Your max_length is set to 50, but your input_length is only 3. Since this is a summarization task, where outputs shorter than the input are typically wanted, you might consider decreasing max_length manually, e.g. summarizer('...', max_length=1)\n"
     ]
    },
    {
     "name": "stdout",
     "output_type": "stream",
     "text": [
      "https://es.slideshare.net/oliviahembrom/procter-gamble-61073645?next_slideshow=true\n",
      "sent extraction over\n",
      "Response call\n",
      "https://es.slideshare.net/debashismondal102/swot-analysis-pg-27183148?related=2\n"
     ]
    },
    {
     "name": "stderr",
     "output_type": "stream",
     "text": [
      "Your max_length is set to 50, but your input_length is only 3. Since this is a summarization task, where outputs shorter than the input are typically wanted, you might consider decreasing max_length manually, e.g. summarizer('...', max_length=1)\n"
     ]
    },
    {
     "name": "stdout",
     "output_type": "stream",
     "text": [
      "sent extraction over\n",
      "Response call\n",
      "Failed to retrieve https://es.finance.yahoo.com/news/15-highest-quality-makeup-brands-211144783.html: Status code 404\n"
     ]
    },
    {
     "name": "stderr",
     "output_type": "stream",
     "text": [
      "Your max_length is set to 50, but your input_length is only 3. Since this is a summarization task, where outputs shorter than the input are typically wanted, you might consider decreasing max_length manually, e.g. summarizer('...', max_length=1)\n"
     ]
    },
    {
     "name": "stdout",
     "output_type": "stream",
     "text": [
      "sent extraction over\n",
      "Response call\n"
     ]
    },
    {
     "name": "stderr",
     "output_type": "stream",
     "text": [
      "Your max_length is set to 50, but your input_length is only 3. Since this is a summarization task, where outputs shorter than the input are typically wanted, you might consider decreasing max_length manually, e.g. summarizer('...', max_length=1)\n"
     ]
    },
    {
     "name": "stdout",
     "output_type": "stream",
     "text": [
      "https://pe.linkedin.com/school/michiganross/\n",
      "sent extraction over\n",
      "Response call\n"
     ]
    },
    {
     "name": "stderr",
     "output_type": "stream",
     "text": [
      "Your max_length is set to 50, but your input_length is only 3. Since this is a summarization task, where outputs shorter than the input are typically wanted, you might consider decreasing max_length manually, e.g. summarizer('...', max_length=1)\n"
     ]
    },
    {
     "name": "stdout",
     "output_type": "stream",
     "text": [
      "https://www.digitaljournal.com/pr/body-lotion-market-trends-growth-revenue-2022-top-key-players-size-estimations-global-share-regional-developments-industry-segments-forecast-analysis-till-2025\n",
      "sent extraction over\n",
      "Response call\n"
     ]
    },
    {
     "name": "stderr",
     "output_type": "stream",
     "text": [
      "Your max_length is set to 50, but your input_length is only 3. Since this is a summarization task, where outputs shorter than the input are typically wanted, you might consider decreasing max_length manually, e.g. summarizer('...', max_length=1)\n"
     ]
    },
    {
     "name": "stdout",
     "output_type": "stream",
     "text": [
      "https://eulerpool.com/es/accion/Bentley-Systems-Acci%C3%B3n-US08265T2087\n",
      "sent extraction over\n",
      "Done\n",
      "People's Garment PCL\n",
      "Calling the search\n",
      "Search complete\n",
      "Response call\n",
      "https://th.jobsdb.com/th/e+business-plus-co.,-ltd.-jobs/in-%E0%B8%88%E0%B8%95%E0%B8%B8%E0%B8%88%E0%B8%B1%E0%B8%81%E0%B8%A3-%E0%B8%81%E0%B8%A3%E0%B8%B8%E0%B8%87%E0%B9%80%E0%B8%97%E0%B8%9E%E0%B8%A1%E0%B8%AB%E0%B8%B2%E0%B8%99%E0%B8%84%E0%B8%A3/full-time\n",
      "sent extraction over\n",
      "Response call\n",
      "Failed to retrieve https://issuu.com/mqdc/docs/msocietyissue21: Status code 406\n"
     ]
    },
    {
     "name": "stderr",
     "output_type": "stream",
     "text": [
      "Your max_length is set to 50, but your input_length is only 3. Since this is a summarization task, where outputs shorter than the input are typically wanted, you might consider decreasing max_length manually, e.g. summarizer('...', max_length=1)\n"
     ]
    },
    {
     "name": "stdout",
     "output_type": "stream",
     "text": [
      "sent extraction over\n",
      "Response call\n"
     ]
    },
    {
     "name": "stderr",
     "output_type": "stream",
     "text": [
      "Your max_length is set to 50, but your input_length is only 3. Since this is a summarization task, where outputs shorter than the input are typically wanted, you might consider decreasing max_length manually, e.g. summarizer('...', max_length=1)\n"
     ]
    },
    {
     "name": "stdout",
     "output_type": "stream",
     "text": [
      "https://www.lemon8-app.com/discover/the%20dilemma%20of%20this%20problem?region=th\n",
      "sent extraction over\n",
      "Response call\n"
     ]
    },
    {
     "name": "stderr",
     "output_type": "stream",
     "text": [
      "Your max_length is set to 50, but your input_length is only 3. Since this is a summarization task, where outputs shorter than the input are typically wanted, you might consider decreasing max_length manually, e.g. summarizer('...', max_length=1)\n"
     ]
    },
    {
     "name": "stdout",
     "output_type": "stream",
     "text": [
      "https://www.lemon8-app.com/discover/sustainable%20fall%20clothing%20for%20eco-conscious%20consumers?region=th\n",
      "sent extraction over\n",
      "Done\n",
      "Home Depot Inc.\n",
      "Calling the search\n",
      "Search complete\n",
      "Response call\n",
      "Failed to retrieve https://www.wsj.com/articles/home-depots-chief-information-officer-on-the-role-of-tech-after-pandemic-sales-boost-7903783d: Status code 403\n",
      "sent extraction over\n",
      "Response call\n",
      "https://www.linkedin.com/pulse/retails-ai-revolution-dwarf-previous-retail-greg-buzek\n",
      "sent extraction over\n",
      "Response call\n"
     ]
    },
    {
     "name": "stderr",
     "output_type": "stream",
     "text": [
      "Your max_length is set to 50, but your input_length is only 3. Since this is a summarization task, where outputs shorter than the input are typically wanted, you might consider decreasing max_length manually, e.g. summarizer('...', max_length=1)\n"
     ]
    },
    {
     "name": "stdout",
     "output_type": "stream",
     "text": [
      "https://simplywall.st/stocks/us/retail/nyse-hd/home-depot/news/a-look-at-the-fair-value-of-the-home-depot-inc-nysehd-1\n",
      "sent extraction over\n",
      "Response call\n",
      "https://www.ihlservices.com/news/analyst-corner/2023/04/retails-ai-revolution/\n",
      "sent extraction over\n",
      "Response call\n"
     ]
    },
    {
     "name": "stderr",
     "output_type": "stream",
     "text": [
      "Your max_length is set to 50, but your input_length is only 3. Since this is a summarization task, where outputs shorter than the input are typically wanted, you might consider decreasing max_length manually, e.g. summarizer('...', max_length=1)\n"
     ]
    },
    {
     "name": "stdout",
     "output_type": "stream",
     "text": [
      "https://www.theglobeandmail.com/investing/markets/indices/sren/pressreleases/11669812/home-depot-tops-expectations-again-but-sticks-by-outlook/\n",
      "sent extraction over\n",
      "Response call\n"
     ]
    },
    {
     "name": "stderr",
     "output_type": "stream",
     "text": [
      "Your max_length is set to 50, but your input_length is only 3. Since this is a summarization task, where outputs shorter than the input are typically wanted, you might consider decreasing max_length manually, e.g. summarizer('...', max_length=1)\n"
     ]
    },
    {
     "name": "stdout",
     "output_type": "stream",
     "text": [
      "https://www.inddist.com/technology-software/news/13768388/home-depot-probes-possible-credit-card-data-breach\n",
      "sent extraction over\n",
      "Done\n",
      "Home Depot Inc.\n",
      "Calling the search\n",
      "Search complete\n",
      "Response call\n",
      "Failed to retrieve https://es-us.finanzas.yahoo.com/news/3-stocks-10-plus-yield-172232171.html: Status code 404\n",
      "sent extraction over\n",
      "Response call\n",
      "Failed to retrieve https://es.finance.yahoo.com/news/3-stocks-10-plus-yield-172232171.html: Status code 404\n"
     ]
    },
    {
     "name": "stderr",
     "output_type": "stream",
     "text": [
      "Your max_length is set to 50, but your input_length is only 3. Since this is a summarization task, where outputs shorter than the input are typically wanted, you might consider decreasing max_length manually, e.g. summarizer('...', max_length=1)\n"
     ]
    },
    {
     "name": "stdout",
     "output_type": "stream",
     "text": [
      "sent extraction over\n",
      "Response call\n"
     ]
    },
    {
     "name": "stderr",
     "output_type": "stream",
     "text": [
      "Your max_length is set to 50, but your input_length is only 3. Since this is a summarization task, where outputs shorter than the input are typically wanted, you might consider decreasing max_length manually, e.g. summarizer('...', max_length=1)\n"
     ]
    },
    {
     "name": "stdout",
     "output_type": "stream",
     "text": [
      "https://pt.slideshare.net/finance2/morgan-stanley-10k-disclosure?next_slideshow=true\n",
      "sent extraction over\n",
      "Response call\n"
     ]
    },
    {
     "name": "stderr",
     "output_type": "stream",
     "text": [
      "Your max_length is set to 50, but your input_length is only 3. Since this is a summarization task, where outputs shorter than the input are typically wanted, you might consider decreasing max_length manually, e.g. summarizer('...', max_length=1)\n"
     ]
    },
    {
     "name": "stdout",
     "output_type": "stream",
     "text": [
      "https://www.slideshare.net/karlhennesey/resource-ch-9-of-introduction-to-businesscomplete-the-table-in-docx\n",
      "sent extraction over\n",
      "Response call\n"
     ]
    },
    {
     "name": "stderr",
     "output_type": "stream",
     "text": [
      "Your max_length is set to 50, but your input_length is only 3. Since this is a summarization task, where outputs shorter than the input are typically wanted, you might consider decreasing max_length manually, e.g. summarizer('...', max_length=1)\n"
     ]
    },
    {
     "name": "stdout",
     "output_type": "stream",
     "text": [
      "https://www.coursehero.com/file/114853096/Ejercicios-Tovar-Fuentesxlsx/\n",
      "sent extraction over\n",
      "Response call\n",
      "https://fintel.io/es/s/us\n"
     ]
    },
    {
     "name": "stderr",
     "output_type": "stream",
     "text": [
      "Your max_length is set to 50, but your input_length is only 3. Since this is a summarization task, where outputs shorter than the input are typically wanted, you might consider decreasing max_length manually, e.g. summarizer('...', max_length=1)\n"
     ]
    },
    {
     "name": "stdout",
     "output_type": "stream",
     "text": [
      "sent extraction over\n",
      "Response call\n"
     ]
    },
    {
     "name": "stderr",
     "output_type": "stream",
     "text": [
      "Your max_length is set to 50, but your input_length is only 3. Since this is a summarization task, where outputs shorter than the input are typically wanted, you might consider decreasing max_length manually, e.g. summarizer('...', max_length=1)\n"
     ]
    },
    {
     "name": "stdout",
     "output_type": "stream",
     "text": [
      "https://www.youtube.com/watch?v=-nD9EFvJS10\n",
      "sent extraction over\n",
      "Response call\n"
     ]
    },
    {
     "name": "stderr",
     "output_type": "stream",
     "text": [
      "Your max_length is set to 50, but your input_length is only 3. Since this is a summarization task, where outputs shorter than the input are typically wanted, you might consider decreasing max_length manually, e.g. summarizer('...', max_length=1)\n"
     ]
    },
    {
     "name": "stdout",
     "output_type": "stream",
     "text": [
      "https://psoul.fi/Sierra+Leone+ex-president+is+called+in+for+questioning+over+attacks+officials+say+was+a+failed+coup/\n",
      "sent extraction over\n",
      "Done\n",
      "Johnson & Johnson\n",
      "Calling the search\n",
      "Search complete\n",
      "Response call\n",
      "Failed to retrieve https://aibusiness.com/ml/how-johnson-johnson-uses-generative-ai-to-address-biases-in-health-care: Status code 403\n",
      "sent extraction over\n",
      "Response call\n"
     ]
    },
    {
     "name": "stderr",
     "output_type": "stream",
     "text": [
      "Your max_length is set to 50, but your input_length is only 3. Since this is a summarization task, where outputs shorter than the input are typically wanted, you might consider decreasing max_length manually, e.g. summarizer('...', max_length=1)\n"
     ]
    },
    {
     "name": "stdout",
     "output_type": "stream",
     "text": [
      "https://www.jnj.com/media-center/press-releases/johnson-johnson-medtech-working-with-nvidia-to-scale-ai-for-surgery\n",
      "sent extraction over\n",
      "Response call\n",
      "https://www.campaignlive.com/article/brands-agencies-actually-using-generative-ai/1860794\n",
      "sent extraction over\n",
      "Response call\n",
      "https://aws.amazon.com/generative-ai/use-cases/\n",
      "sent extraction over\n",
      "Response call\n"
     ]
    },
    {
     "name": "stderr",
     "output_type": "stream",
     "text": [
      "Your max_length is set to 50, but your input_length is only 3. Since this is a summarization task, where outputs shorter than the input are typically wanted, you might consider decreasing max_length manually, e.g. summarizer('...', max_length=1)\n"
     ]
    },
    {
     "name": "stdout",
     "output_type": "stream",
     "text": [
      "https://www.jnj.com/about-jnj/policies-and-positions/doing-the-right-thing-artificial-intelligence-and-ethics\n",
      "sent extraction over\n",
      "Response call\n",
      "https://www.cnbc.com/2024/03/18/nvidia-and-johnson-johnson-to-build-ai-applications-for-surgery-.html\n",
      "sent extraction over\n",
      "Response call\n"
     ]
    },
    {
     "name": "stderr",
     "output_type": "stream",
     "text": [
      "Your max_length is set to 50, but your input_length is only 3. Since this is a summarization task, where outputs shorter than the input are typically wanted, you might consider decreasing max_length manually, e.g. summarizer('...', max_length=1)\n"
     ]
    },
    {
     "name": "stdout",
     "output_type": "stream",
     "text": [
      "https://www.jnj.com/innovation/artificial-intelligence-in-healthcare\n",
      "sent extraction over\n",
      "Response call\n",
      "https://www.careers.jnj.com/careers/generative-ai-for-resumes-and-cover-letters-pros-and-cons\n",
      "sent extraction over\n",
      "Done\n",
      "Johnson & Johnson\n",
      "Calling the search\n",
      "Search complete\n",
      "Response call\n",
      "Failed to retrieve https://g-medtech.com/news/es/johnson-johnson-medtech-collaborates-with-nvidia-to-scale-ai-for-surgery/: Status code 403\n"
     ]
    },
    {
     "name": "stderr",
     "output_type": "stream",
     "text": [
      "Your max_length is set to 50, but your input_length is only 3. Since this is a summarization task, where outputs shorter than the input are typically wanted, you might consider decreasing max_length manually, e.g. summarizer('...', max_length=1)\n"
     ]
    },
    {
     "name": "stdout",
     "output_type": "stream",
     "text": [
      "sent extraction over\n",
      "Response call\n"
     ]
    },
    {
     "name": "stderr",
     "output_type": "stream",
     "text": [
      "Your max_length is set to 50, but your input_length is only 3. Since this is a summarization task, where outputs shorter than the input are typically wanted, you might consider decreasing max_length manually, e.g. summarizer('...', max_length=1)\n"
     ]
    },
    {
     "name": "stdout",
     "output_type": "stream",
     "text": [
      "https://www.linkedin.com/posts/arkangel-ai_artificial-intelligence-is-helping-revolutionize-activity-7123046674763038720-hTUg\n",
      "sent extraction over\n",
      "Response call\n"
     ]
    },
    {
     "name": "stderr",
     "output_type": "stream",
     "text": [
      "Your max_length is set to 50, but your input_length is only 3. Since this is a summarization task, where outputs shorter than the input are typically wanted, you might consider decreasing max_length manually, e.g. summarizer('...', max_length=1)\n"
     ]
    },
    {
     "name": "stdout",
     "output_type": "stream",
     "text": [
      "https://mx.linkedin.com/posts/johnson-%26-johnson_advancing-the-promise-of-data-science-in-activity-7042117517233770496-lkNe\n",
      "sent extraction over\n",
      "Response call\n",
      "https://jobs.jnj.com/es/trabajos/2406171828w/summer-data-science-intern-1-4/\n",
      "sent extraction over\n",
      "Response call\n",
      "Request timed out for https://jobs.jnj.com/es/trabajos/2406173346w/intern-co-op-graduate/. Attempting with Selenium.\n"
     ]
    },
    {
     "name": "stderr",
     "output_type": "stream",
     "text": [
      "Your max_length is set to 50, but your input_length is only 3. Since this is a summarization task, where outputs shorter than the input are typically wanted, you might consider decreasing max_length manually, e.g. summarizer('...', max_length=1)\n"
     ]
    },
    {
     "name": "stdout",
     "output_type": "stream",
     "text": [
      "sent extraction over\n",
      "Response call\n",
      "Failed to retrieve https://es-us.finanzas.yahoo.com/news/breakthrough-2024-speaker-lineup-announced-080000103.html: Status code 404\n",
      "sent extraction over\n",
      "Response call\n",
      "Failed to retrieve https://www.researchgate.net/figure/Outcomes-of-technology-supported-cooperative-learning_fig1_243671476: Status code 403\n",
      "sent extraction over\n",
      "Response call\n",
      "Failed to retrieve https://blog.nimbo-x.com/johnson-johnson-and-nimbo-collaborate-in-innovation-and-technology-to-benefit-more-than-7-000-34ffcecafb08: Status code 403\n"
     ]
    },
    {
     "name": "stderr",
     "output_type": "stream",
     "text": [
      "Your max_length is set to 50, but your input_length is only 3. Since this is a summarization task, where outputs shorter than the input are typically wanted, you might consider decreasing max_length manually, e.g. summarizer('...', max_length=1)\n"
     ]
    },
    {
     "name": "stdout",
     "output_type": "stream",
     "text": [
      "sent extraction over\n",
      "Done\n",
      "Oracle Corp.\n",
      "Calling the search\n",
      "Search complete\n",
      "Response call\n",
      "https://www.theaccountant-online.com/news/oracle-adds-new-generative-ai-capabilities-to-oracle-fusion-cloud-applications-suite/\n",
      "sent extraction over\n",
      "Response call\n",
      "Failed to retrieve https://www.reuters.com/technology/oracle-adds-generative-ai-its-human-resources-software-2023-06-28/: Status code 401\n",
      "sent extraction over\n",
      "Response call\n",
      "https://www.businesstoday.in/magazine/the-buzz/story/how-oracles-cloud-expertise-can-propel-its-push-in-generative-ai-402105-2023-10-16\n",
      "sent extraction over\n",
      "Response call\n",
      "https://www.verdict.co.uk/news/oracle-rolls-out-generative-ai-service-across-cloud-infrastructure/\n",
      "sent extraction over\n",
      "Response call\n",
      "https://siliconangle.com/2024/01/23/oracle-debuts-cloud-generative-ai-service-help-enterprises-deploy-fine-tune-large-language-models/\n",
      "sent extraction over\n",
      "Response call\n",
      "Request timed out for https://www.nasdaq.com/articles/oracle:-new-generative-ai-capabilities-available-in-oracle-fusion-cloud-applications-suite. Attempting with Selenium.\n",
      "sent extraction over\n",
      "Response call\n",
      "https://www.stocktitan.net/news/ORCL/oracle-adds-new-generative-ai-capabilities-to-oracle-fusion-cloud-r7rnfs6zbhk5.html\n",
      "sent extraction over\n",
      "Response call\n",
      "https://siliconangle.com/2024/03/14/oracle-boosts-gen-ai-support-fusion-cloud-suite/\n",
      "sent extraction over\n",
      "Done\n",
      "Oracle Corp.\n",
      "Calling the search\n",
      "Search complete\n",
      "Response call\n",
      "Failed to retrieve https://es.finance.yahoo.com/news/microsoft-targets-enterprise-application-players-213232709.html: Status code 404\n"
     ]
    },
    {
     "name": "stderr",
     "output_type": "stream",
     "text": [
      "Your max_length is set to 50, but your input_length is only 3. Since this is a summarization task, where outputs shorter than the input are typically wanted, you might consider decreasing max_length manually, e.g. summarizer('...', max_length=1)\n"
     ]
    },
    {
     "name": "stdout",
     "output_type": "stream",
     "text": [
      "sent extraction over\n",
      "Response call\n",
      "Failed to retrieve https://es.finance.yahoo.com/news/q2-2024-oracle-corp-earnings-121050493.html: Status code 404\n"
     ]
    },
    {
     "name": "stderr",
     "output_type": "stream",
     "text": [
      "Your max_length is set to 50, but your input_length is only 3. Since this is a summarization task, where outputs shorter than the input are typically wanted, you might consider decreasing max_length manually, e.g. summarizer('...', max_length=1)\n"
     ]
    },
    {
     "name": "stdout",
     "output_type": "stream",
     "text": [
      "sent extraction over\n",
      "Response call\n",
      "https://metadoro.com/es/analytics/market-research-review/stocks/673-stocks-losing-weight-quickly-oracle\n",
      "sent extraction over\n",
      "Response call\n",
      "https://www.linkedin.com/posts/odasosa_mesdeconcientizaci%C3%B3nsobrelaame-novartis-activity-7100641680470466560-Tsoo\n",
      "sent extraction over\n",
      "Response call\n"
     ]
    },
    {
     "name": "stderr",
     "output_type": "stream",
     "text": [
      "Your max_length is set to 50, but your input_length is only 3. Since this is a summarization task, where outputs shorter than the input are typically wanted, you might consider decreasing max_length manually, e.g. summarizer('...', max_length=1)\n"
     ]
    },
    {
     "name": "stdout",
     "output_type": "stream",
     "text": [
      "https://www.linkedin.com/posts/badreyfus_llms-activity-7168290302519148544-2Mx2\n",
      "sent extraction over\n",
      "Response call\n",
      "https://www.slideshare.net/Helenaharathi/oracle-ebs-web-services\n",
      "sent extraction over\n",
      "Response call\n",
      "https://es.slideshare.net/Helenaharathi/oracle-ebs-web-services?next_slideshow=true\n",
      "sent extraction over\n",
      "Response call\n"
     ]
    },
    {
     "name": "stderr",
     "output_type": "stream",
     "text": [
      "Your max_length is set to 50, but your input_length is only 3. Since this is a summarization task, where outputs shorter than the input are typically wanted, you might consider decreasing max_length manually, e.g. summarizer('...', max_length=1)\n"
     ]
    },
    {
     "name": "stdout",
     "output_type": "stream",
     "text": [
      "https://www.digitaljournal.com/pr/anti-money-laundering-solution-market-size-2023-research-report-by-growth-factors-major-challenges-pest-analysis-and-forecast-to-2026\n",
      "sent extraction over\n",
      "Done\n",
      "Tencent Holdings Ltd. ADR\n",
      "Calling the search\n",
      "Search complete\n",
      "Response call\n",
      "https://www.morningstar.com/funds/how-invest-future-generative-ai\n",
      "sent extraction over\n",
      "Response call\n",
      "https://sg.morningstar.com/sg/news/238069/3-cheap-china-stocks-to-consider.aspx\n",
      "sent extraction over\n",
      "Response call\n",
      "Request timed out for https://www.stockpulse.com/profile/TCEHY/Article/8694695185176368. Attempting with Selenium.\n",
      "An error occurred while processing Tencent Holdings Ltd. ADR(TCEHY): Message: Reached error page: about:neterror?e=netTimeout&u=https%3A//www.stockpulse.com/profile/TCEHY/Article/8694695185176368&c=UTF-8&d=The%20server%20at%20www.stockpulse.com%20is%20taking%20too%20long%20to%20respond.\n",
      "Stacktrace:\n",
      "RemoteError@chrome://remote/content/shared/RemoteError.sys.mjs:8:8\n",
      "WebDriverError@chrome://remote/content/shared/webdriver/Errors.sys.mjs:192:5\n",
      "UnknownError@chrome://remote/content/shared/webdriver/Errors.sys.mjs:816:5\n",
      "checkReadyState@chrome://remote/content/marionette/navigate.sys.mjs:58:24\n",
      "onNavigation@chrome://remote/content/marionette/navigate.sys.mjs:330:39\n",
      "emit@resource://gre/modules/EventEmitter.sys.mjs:148:20\n",
      "receiveMessage@chrome://remote/content/marionette/actors/MarionetteEventsParent.sys.mjs:33:25\n",
      "\n",
      "Toyota Motor Corp. ADR\n",
      "Calling the search\n",
      "Search complete\n",
      "Response call\n",
      "https://investorplace.com/2017/07/nvidia-corporation-nvda-welcome-to-the-era-of-ai/\n",
      "sent extraction over\n",
      "Response call\n",
      "https://investorplace.com/2017/08/blackberry-ltd-bbry-stock-turnaround-long/\n",
      "sent extraction over\n",
      "Response call\n",
      "Failed to retrieve https://www.marketwatch.com/amp/story/ford-motor-co-stock-rises-tuesday-outperforms-market-01617742374-2271ff0aaf74: Status code 401\n"
     ]
    },
    {
     "name": "stderr",
     "output_type": "stream",
     "text": [
      "Your max_length is set to 50, but your input_length is only 3. Since this is a summarization task, where outputs shorter than the input are typically wanted, you might consider decreasing max_length manually, e.g. summarizer('...', max_length=1)\n"
     ]
    },
    {
     "name": "stdout",
     "output_type": "stream",
     "text": [
      "sent extraction over\n",
      "Response call\n",
      "Failed to retrieve https://www.sec.gov/Archives/edgar/data/1020425/000114420414013698/v370468_ncsr.htm: Status code 403\n"
     ]
    },
    {
     "name": "stderr",
     "output_type": "stream",
     "text": [
      "Your max_length is set to 50, but your input_length is only 3. Since this is a summarization task, where outputs shorter than the input are typically wanted, you might consider decreasing max_length manually, e.g. summarizer('...', max_length=1)\n"
     ]
    },
    {
     "name": "stdout",
     "output_type": "stream",
     "text": [
      "sent extraction over\n",
      "Response call\n",
      "https://geier-landtechnik.de/new/nvidia-financial-statements.html\n",
      "sent extraction over\n",
      "Response call\n"
     ]
    },
    {
     "name": "stderr",
     "output_type": "stream",
     "text": [
      "Your max_length is set to 50, but your input_length is only 3. Since this is a summarization task, where outputs shorter than the input are typically wanted, you might consider decreasing max_length manually, e.g. summarizer('...', max_length=1)\n"
     ]
    },
    {
     "name": "stdout",
     "output_type": "stream",
     "text": [
      "https://pieknasztuka.pl/2892\n",
      "sent extraction over\n",
      "Response call\n",
      "Failed to retrieve https://www.sec.gov/Archives/edgar/data/939934/000119312520213733/d22402dncsr.htm: Status code 403\n"
     ]
    },
    {
     "name": "stderr",
     "output_type": "stream",
     "text": [
      "Your max_length is set to 50, but your input_length is only 3. Since this is a summarization task, where outputs shorter than the input are typically wanted, you might consider decreasing max_length manually, e.g. summarizer('...', max_length=1)\n"
     ]
    },
    {
     "name": "stdout",
     "output_type": "stream",
     "text": [
      "sent extraction over\n",
      "Done\n",
      "Techno Medical PCL\n",
      "Calling the search\n",
      "Search complete\n",
      "An error occurred while processing Techno Medical PCL(TM): cannot access local variable 'results_df' where it is not associated with a value\n",
      "Trigon Metals Inc.\n",
      "Calling the search\n",
      "Search complete\n",
      "Response call\n",
      "Failed to retrieve https://www.chronicle-tribune.com/news/wire/trigon-metals-announces-positive-feasibility-for-its-kombat-asis-west-underground-mine/article_977f850f-c26b-52d7-9e9e-5d33cb3c14f4.html: Status code 429\n"
     ]
    },
    {
     "name": "stderr",
     "output_type": "stream",
     "text": [
      "Your max_length is set to 50, but your input_length is only 3. Since this is a summarization task, where outputs shorter than the input are typically wanted, you might consider decreasing max_length manually, e.g. summarizer('...', max_length=1)\n"
     ]
    },
    {
     "name": "stdout",
     "output_type": "stream",
     "text": [
      "sent extraction over\n",
      "Response call\n"
     ]
    },
    {
     "name": "stderr",
     "output_type": "stream",
     "text": [
      "Your max_length is set to 50, but your input_length is only 3. Since this is a summarization task, where outputs shorter than the input are typically wanted, you might consider decreasing max_length manually, e.g. summarizer('...', max_length=1)\n"
     ]
    },
    {
     "name": "stdout",
     "output_type": "stream",
     "text": [
      "https://www.theglobeandmail.com/investing/markets/stocks/TM-X/pressreleases/24253708/closing-bell-trigon-metals-inc-down-on-wednesday-tm/\n",
      "sent extraction over\n",
      "Response call\n",
      "Request timed out for https://www.theglobeandmail.com/investing/markets/stocks/TM-X/pressreleases/2836905/trigon-signs-us5-million-project-finance-facility-with-ixm-and-agrees-offtake-terms/. Attempting with Selenium.\n"
     ]
    },
    {
     "name": "stderr",
     "output_type": "stream",
     "text": [
      "Your max_length is set to 50, but your input_length is only 3. Since this is a summarization task, where outputs shorter than the input are typically wanted, you might consider decreasing max_length manually, e.g. summarizer('...', max_length=1)\n"
     ]
    },
    {
     "name": "stdout",
     "output_type": "stream",
     "text": [
      "sent extraction over\n",
      "Response call\n"
     ]
    },
    {
     "name": "stderr",
     "output_type": "stream",
     "text": [
      "Your max_length is set to 50, but your input_length is only 3. Since this is a summarization task, where outputs shorter than the input are typically wanted, you might consider decreasing max_length manually, e.g. summarizer('...', max_length=1)\n"
     ]
    },
    {
     "name": "stdout",
     "output_type": "stream",
     "text": [
      "https://www.reddit.com/r/Canadianstockpicks/\n",
      "sent extraction over\n",
      "Response call\n"
     ]
    },
    {
     "name": "stderr",
     "output_type": "stream",
     "text": [
      "Your max_length is set to 50, but your input_length is only 3. Since this is a summarization task, where outputs shorter than the input are typically wanted, you might consider decreasing max_length manually, e.g. summarizer('...', max_length=1)\n"
     ]
    },
    {
     "name": "stdout",
     "output_type": "stream",
     "text": [
      "https://sg.finance.yahoo.com/calendar?from=2059-06-15&to=2059-06-21\n",
      "sent extraction over\n",
      "Response call\n",
      "Failed to retrieve https://wwworigin.businesswire.com/portal/site/home/template.PAGE/welcome/?javax.portlet.tpst=cf73395f6abf6d22dcfe35970d908a0c&javax.portlet.prp_cf73395f6abf6d22dcfe35970d908a0c_viewID=MY_PORTAL_VIEW&javax.portlet.prp_cf73395f6abf6d22dcfe35970d908a0c_ndmHsc=v2*A1694862000000*B1700080335966*DgroupByDate*G654*N1030604&javax.portlet.begCacheTok=com.vignette.cachetoken&javax.portlet.prp_9ee47ea3678ece48256bb762f04eca4a_viewID=MY_PORTAL_VIEW&javax.portlet.prp_9ee47ea3678ece48256bb762f04eca4a_ndmHsc=v2*A1697454000000*B1700077101268*DgroupByDate*G1230*N1010492&javax.portlet.endCacheTok=com.vignette.cachetoken: Status code 200\n",
      "An error occurred while processing Trigon Metals Inc.(TM): Message: Reached error page: about:neterror?e=nssFailure2&u=https%3A//wwworigin.businesswire.com/portal/site/home/template.PAGE/welcome/%3Fjavax.portlet.tpst%3Dcf73395f6abf6d22dcfe35970d908a0c%26javax.portlet.prp_cf73395f6abf6d22dcfe35970d908a0c_viewID%3DMY_PORTAL_VIEW%26javax.portlet.prp_cf73395f6abf6d22dcfe35970d908a0c_ndmHsc%3Dv2*A1694862000000*B1700080335966*DgroupByDate*G654*N1030604%26javax.portlet.begCacheTok%3Dcom.vignette.cachetoken%26javax.portlet.prp_9ee47ea3678ece48256bb762f04eca4a_viewID%3DMY_PORTAL_VIEW%26javax.portlet.prp_9ee47ea3678ece48256bb762f04eca4a_ndmHsc%3Dv2*A1697454000000*B1700077101268*DgroupByDate*G1230*N1010492%26javax.portlet.endCacheTok%3Dcom.vignette.cachetoken&c=UTF-8&d=The%20connection%20to%20the%20server%20was%20reset%20while%20the%20page%20was%20loading.\n",
      "Stacktrace:\n",
      "RemoteError@chrome://remote/content/shared/RemoteError.sys.mjs:8:8\n",
      "WebDriverError@chrome://remote/content/shared/webdriver/Errors.sys.mjs:192:5\n",
      "UnknownError@chrome://remote/content/shared/webdriver/Errors.sys.mjs:816:5\n",
      "checkReadyState@chrome://remote/content/marionette/navigate.sys.mjs:58:24\n",
      "onNavigation@chrome://remote/content/marionette/navigate.sys.mjs:330:39\n",
      "emit@resource://gre/modules/EventEmitter.sys.mjs:148:20\n",
      "receiveMessage@chrome://remote/content/marionette/actors/MarionetteEventsParent.sys.mjs:33:25\n",
      "\n",
      "Costco Wholesale Corp.\n",
      "Calling the search\n",
      "Search complete\n",
      "Response call\n",
      "Failed to retrieve https://issuu.com/thesanjuandailystar/docs/jan-9-23: Status code 406\n"
     ]
    },
    {
     "name": "stderr",
     "output_type": "stream",
     "text": [
      "Your max_length is set to 50, but your input_length is only 3. Since this is a summarization task, where outputs shorter than the input are typically wanted, you might consider decreasing max_length manually, e.g. summarizer('...', max_length=1)\n"
     ]
    },
    {
     "name": "stdout",
     "output_type": "stream",
     "text": [
      "sent extraction over\n",
      "Done\n",
      "Costain Group PLC\n",
      "Calling the search\n",
      "Search complete\n",
      "Response call\n"
     ]
    },
    {
     "name": "stderr",
     "output_type": "stream",
     "text": [
      "Your max_length is set to 50, but your input_length is only 3. Since this is a summarization task, where outputs shorter than the input are typically wanted, you might consider decreasing max_length manually, e.g. summarizer('...', max_length=1)\n"
     ]
    },
    {
     "name": "stdout",
     "output_type": "stream",
     "text": [
      "https://www.linkedin.com/posts/costain_ai-tech-trials-see-costain-playing-a-key-activity-7141012715291963392-DSFi\n",
      "sent extraction over\n",
      "Response call\n",
      "https://www.linkedin.com/posts/tonymallichan_how-did-companies-use-generative-ai-in-2023-activity-7151272451484651520-Qil2\n",
      "sent extraction over\n",
      "Response call\n"
     ]
    },
    {
     "name": "stderr",
     "output_type": "stream",
     "text": [
      "Your max_length is set to 50, but your input_length is only 3. Since this is a summarization task, where outputs shorter than the input are typically wanted, you might consider decreasing max_length manually, e.g. summarizer('...', max_length=1)\n"
     ]
    },
    {
     "name": "stdout",
     "output_type": "stream",
     "text": [
      "https://simplywall.st/stocks/gb/capital-goods/lse-cost/costain-group-shares/news/costain-group-plc-just-beat-analyst-forecasts-and-analysts-h\n",
      "sent extraction over\n",
      "Response call\n",
      "https://www.ventureradar.com/keyword/AI%20model%20development%20infrastructure\n",
      "sent extraction over\n",
      "Response call\n"
     ]
    },
    {
     "name": "stderr",
     "output_type": "stream",
     "text": [
      "Your max_length is set to 50, but your input_length is only 3. Since this is a summarization task, where outputs shorter than the input are typically wanted, you might consider decreasing max_length manually, e.g. summarizer('...', max_length=1)\n"
     ]
    },
    {
     "name": "stdout",
     "output_type": "stream",
     "text": [
      "https://simplywall.st/stocks/gb/capital-goods/lse-cost/costain-group-shares/news/costain-group-full-year-2023-earnings-eps-beats-expectations\n",
      "sent extraction over\n",
      "Response call\n",
      "Failed to retrieve https://www.proactiveinvestors.com/companies/news/1024208: Status code 403\n"
     ]
    },
    {
     "name": "stderr",
     "output_type": "stream",
     "text": [
      "Your max_length is set to 50, but your input_length is only 35. Since this is a summarization task, where outputs shorter than the input are typically wanted, you might consider decreasing max_length manually, e.g. summarizer('...', max_length=17)\n"
     ]
    },
    {
     "name": "stdout",
     "output_type": "stream",
     "text": [
      "sent extraction over\n",
      "Response call\n",
      "Failed to retrieve https://www.proactiveinvestors.co.uk/companies/news/1024322/costain-looks-to-restore-dividend-as-finances-improve-1024322.html: Status code 403\n"
     ]
    },
    {
     "name": "stderr",
     "output_type": "stream",
     "text": [
      "Your max_length is set to 50, but your input_length is only 35. Since this is a summarization task, where outputs shorter than the input are typically wanted, you might consider decreasing max_length manually, e.g. summarizer('...', max_length=17)\n"
     ]
    },
    {
     "name": "stdout",
     "output_type": "stream",
     "text": [
      "sent extraction over\n",
      "Response call\n"
     ]
    },
    {
     "name": "stderr",
     "output_type": "stream",
     "text": [
      "Your max_length is set to 50, but your input_length is only 3. Since this is a summarization task, where outputs shorter than the input are typically wanted, you might consider decreasing max_length manually, e.g. summarizer('...', max_length=1)\n"
     ]
    },
    {
     "name": "stdout",
     "output_type": "stream",
     "text": [
      "https://m.viktor.ai/ucode\n",
      "sent extraction over\n",
      "Done\n",
      "Merck & Co. Inc.\n",
      "Calling the search\n",
      "Search complete\n",
      "Response call\n",
      "https://aws.amazon.com/solutions/case-studies/merck-customer-video/\n",
      "sent extraction over\n",
      "Response call\n",
      "Failed to retrieve https://www.ino.com/blog/2024/02/buy-alert-mercks-ai-revolution-and-the-role-of-generative-ai-in-drug-research/: Status code 403\n",
      "sent extraction over\n",
      "Response call\n",
      "https://www.linkedin.com/pulse/ai-transformation-pharmaceuticals-sector-merck-co-via-joe-lin-q4qtc\n",
      "sent extraction over\n",
      "Response call\n"
     ]
    },
    {
     "name": "stderr",
     "output_type": "stream",
     "text": [
      "Your max_length is set to 50, but your input_length is only 27. Since this is a summarization task, where outputs shorter than the input are typically wanted, you might consider decreasing max_length manually, e.g. summarizer('...', max_length=13)\n"
     ]
    },
    {
     "name": "stdout",
     "output_type": "stream",
     "text": [
      "https://www.youtube.com/watch?v=Lpy5OkQHbwQ\n",
      "sent extraction over\n",
      "Response call\n"
     ]
    },
    {
     "name": "stderr",
     "output_type": "stream",
     "text": [
      "Your max_length is set to 50, but your input_length is only 3. Since this is a summarization task, where outputs shorter than the input are typically wanted, you might consider decreasing max_length manually, e.g. summarizer('...', max_length=1)\n"
     ]
    },
    {
     "name": "stdout",
     "output_type": "stream",
     "text": [
      "https://www.merck.com/news/merck-announces-the-launch-of-the-merck-digital-sciences-studio-to-help-healthcare-startups-quickly-bring-their-innovations-to-market/\n",
      "sent extraction over\n",
      "Response call\n",
      "https://aws.amazon.com/blogs/industries/executive-conversations-the-promise-of-generative-ai-for-the-commercial-pharma-value-chain/\n",
      "sent extraction over\n",
      "Response call\n",
      "Failed to retrieve https://in.marketscreener.com/quote/stock/MERCK-CO-INC-13611/news/Variational-AI-Announces-Generative-AI-Project-With-Merck-45812487/: Status code 403\n",
      "sent extraction over\n",
      "Response call\n"
     ]
    },
    {
     "name": "stderr",
     "output_type": "stream",
     "text": [
      "Your max_length is set to 50, but your input_length is only 3. Since this is a summarization task, where outputs shorter than the input are typically wanted, you might consider decreasing max_length manually, e.g. summarizer('...', max_length=1)\n"
     ]
    },
    {
     "name": "stdout",
     "output_type": "stream",
     "text": [
      "https://markets.ft.com/data/announce/full?dockey=600-202311290900BIZWIRE_USPRX____20231129_BW659525-1\n",
      "sent extraction over\n",
      "Done\n",
      "Marka S.A.\n",
      "Calling the search\n",
      "Search complete\n",
      "Response call\n",
      "Failed to retrieve https://www.researchgate.net/publication/372524088_Systemy_pojec_w_terminologii_i_slowniku: Status code 403\n"
     ]
    },
    {
     "name": "stderr",
     "output_type": "stream",
     "text": [
      "Your max_length is set to 50, but your input_length is only 3. Since this is a summarization task, where outputs shorter than the input are typically wanted, you might consider decreasing max_length manually, e.g. summarizer('...', max_length=1)\n"
     ]
    },
    {
     "name": "stdout",
     "output_type": "stream",
     "text": [
      "sent extraction over\n",
      "Response call\n",
      "https://ojs.academicon.pl/jezykoznawstwo/issue/download/420/83\n",
      "An error occurred while processing Marka S.A.(MRK): The markup you provided was rejected by the parser. Trying a different parser or a different encoding may help.\n",
      "\n",
      "Original exception(s) from parser:\n",
      " AssertionError: unknown status keyword 'k' in marked section\n",
      "Merck & Co. Inc.\n",
      "Calling the search\n",
      "Search complete\n",
      "Response call\n",
      "Failed to retrieve https://fr.finance.yahoo.com/news/top-research-reports-jpmorgan-chase-201700391.html: Status code 404\n"
     ]
    },
    {
     "name": "stderr",
     "output_type": "stream",
     "text": [
      "Your max_length is set to 50, but your input_length is only 3. Since this is a summarization task, where outputs shorter than the input are typically wanted, you might consider decreasing max_length manually, e.g. summarizer('...', max_length=1)\n"
     ]
    },
    {
     "name": "stdout",
     "output_type": "stream",
     "text": [
      "sent extraction over\n",
      "Response call\n"
     ]
    },
    {
     "name": "stderr",
     "output_type": "stream",
     "text": [
      "Your max_length is set to 50, but your input_length is only 3. Since this is a summarization task, where outputs shorter than the input are typically wanted, you might consider decreasing max_length manually, e.g. summarizer('...', max_length=1)\n"
     ]
    },
    {
     "name": "stdout",
     "output_type": "stream",
     "text": [
      "https://jobs.msd.com/fr/fr/job/R253950/AI-ML-Engineer\n",
      "sent extraction over\n",
      "Response call\n"
     ]
    },
    {
     "name": "stderr",
     "output_type": "stream",
     "text": [
      "Your max_length is set to 50, but your input_length is only 3. Since this is a summarization task, where outputs shorter than the input are typically wanted, you might consider decreasing max_length manually, e.g. summarizer('...', max_length=1)\n"
     ]
    },
    {
     "name": "stdout",
     "output_type": "stream",
     "text": [
      "https://aws.amazon.com/fr/solutions/case-studies/merck-customer-video/\n",
      "sent extraction over\n",
      "Response call\n",
      "Failed to retrieve https://fr.finance.yahoo.com/news/tcs-seeks-microsoft-ai-partnership-183000124.html: Status code 404\n"
     ]
    },
    {
     "name": "stderr",
     "output_type": "stream",
     "text": [
      "Your max_length is set to 50, but your input_length is only 3. Since this is a summarization task, where outputs shorter than the input are typically wanted, you might consider decreasing max_length manually, e.g. summarizer('...', max_length=1)\n"
     ]
    },
    {
     "name": "stdout",
     "output_type": "stream",
     "text": [
      "sent extraction over\n",
      "Response call\n",
      "Failed to retrieve https://www.zonebourse.com/cours/action/MERCK-CO-INC-13611/actualite/Merck-essai-positif-sur-Keytruda-en-usage-peri-operatoire-45114633/: Status code 403\n"
     ]
    },
    {
     "name": "stderr",
     "output_type": "stream",
     "text": [
      "Your max_length is set to 50, but your input_length is only 3. Since this is a summarization task, where outputs shorter than the input are typically wanted, you might consider decreasing max_length manually, e.g. summarizer('...', max_length=1)\n"
     ]
    },
    {
     "name": "stdout",
     "output_type": "stream",
     "text": [
      "sent extraction over\n",
      "Response call\n",
      "Request timed out for https://www.zonebourse.com/cours/action/MERCK-CO-INC-13611/actualite/Merck-Co-Inc-MSD-Animal-Health-recoit-une-autorisation-de-mise-sur-le-marche-par-la-Commiss-17957618/. Attempting with Selenium.\n"
     ]
    },
    {
     "name": "stderr",
     "output_type": "stream",
     "text": [
      "Your max_length is set to 50, but your input_length is only 3. Since this is a summarization task, where outputs shorter than the input are typically wanted, you might consider decreasing max_length manually, e.g. summarizer('...', max_length=1)\n"
     ]
    },
    {
     "name": "stdout",
     "output_type": "stream",
     "text": [
      "sent extraction over\n",
      "Response call\n",
      "https://worldwidescience.org/topicpages/t/topical+pour-on+ivermectin.html\n"
     ]
    },
    {
     "name": "stderr",
     "output_type": "stream",
     "text": [
      "Your max_length is set to 50, but your input_length is only 3. Since this is a summarization task, where outputs shorter than the input are typically wanted, you might consider decreasing max_length manually, e.g. summarizer('...', max_length=1)\n"
     ]
    },
    {
     "name": "stdout",
     "output_type": "stream",
     "text": [
      "sent extraction over\n",
      "Response call\n",
      "Request timed out for https://fintel.io/fr/s/us. Attempting with Selenium.\n"
     ]
    },
    {
     "name": "stderr",
     "output_type": "stream",
     "text": [
      "Your max_length is set to 50, but your input_length is only 3. Since this is a summarization task, where outputs shorter than the input are typically wanted, you might consider decreasing max_length manually, e.g. summarizer('...', max_length=1)\n"
     ]
    },
    {
     "name": "stdout",
     "output_type": "stream",
     "text": [
      "sent extraction over\n",
      "Done\n",
      "Merck & Co. Inc.\n",
      "Calling the search\n",
      "Search complete\n",
      "Response call\n",
      "Failed to retrieve https://es.finance.yahoo.com/news/top-research-reports-jpmorgan-chase-201700391.html: Status code 404\n"
     ]
    },
    {
     "name": "stderr",
     "output_type": "stream",
     "text": [
      "Your max_length is set to 50, but your input_length is only 3. Since this is a summarization task, where outputs shorter than the input are typically wanted, you might consider decreasing max_length manually, e.g. summarizer('...', max_length=1)\n"
     ]
    },
    {
     "name": "stdout",
     "output_type": "stream",
     "text": [
      "sent extraction over\n",
      "Response call\n"
     ]
    },
    {
     "name": "stderr",
     "output_type": "stream",
     "text": [
      "Your max_length is set to 50, but your input_length is only 3. Since this is a summarization task, where outputs shorter than the input are typically wanted, you might consider decreasing max_length manually, e.g. summarizer('...', max_length=1)\n"
     ]
    },
    {
     "name": "stdout",
     "output_type": "stream",
     "text": [
      "https://jobs.msd.com/es/es/job/R284966/Artificial-Intelligence-AI-Ethics-and-Governance-Analyst\n",
      "sent extraction over\n",
      "Response call\n"
     ]
    },
    {
     "name": "stderr",
     "output_type": "stream",
     "text": [
      "Your max_length is set to 50, but your input_length is only 3. Since this is a summarization task, where outputs shorter than the input are typically wanted, you might consider decreasing max_length manually, e.g. summarizer('...', max_length=1)\n"
     ]
    },
    {
     "name": "stdout",
     "output_type": "stream",
     "text": [
      "https://aws.amazon.com/es/solutions/case-studies/merck-customer-video/\n",
      "sent extraction over\n",
      "Response call\n",
      "Failed to retrieve https://es.finance.yahoo.com/news/zacks-analyst-blog-highlights-merck-100300838.html: Status code 404\n"
     ]
    },
    {
     "name": "stderr",
     "output_type": "stream",
     "text": [
      "Your max_length is set to 50, but your input_length is only 3. Since this is a summarization task, where outputs shorter than the input are typically wanted, you might consider decreasing max_length manually, e.g. summarizer('...', max_length=1)\n"
     ]
    },
    {
     "name": "stdout",
     "output_type": "stream",
     "text": [
      "sent extraction over\n",
      "Response call\n"
     ]
    },
    {
     "name": "stderr",
     "output_type": "stream",
     "text": [
      "Your max_length is set to 50, but your input_length is only 3. Since this is a summarization task, where outputs shorter than the input are typically wanted, you might consider decreasing max_length manually, e.g. summarizer('...', max_length=1)\n"
     ]
    },
    {
     "name": "stdout",
     "output_type": "stream",
     "text": [
      "https://ar.linkedin.com/company/manufacturing-leadership-council\n",
      "sent extraction over\n",
      "Response call\n",
      "Failed to retrieve https://news.microsoft.com/2003/10/27/microsoft-details-next-wave-of-software-innovation-to-developers-at-the-microsoft-professional-developers-conference-2003/: Status code 403\n"
     ]
    },
    {
     "name": "stderr",
     "output_type": "stream",
     "text": [
      "Your max_length is set to 50, but your input_length is only 3. Since this is a summarization task, where outputs shorter than the input are typically wanted, you might consider decreasing max_length manually, e.g. summarizer('...', max_length=1)\n"
     ]
    },
    {
     "name": "stdout",
     "output_type": "stream",
     "text": [
      "sent extraction over\n",
      "Response call\n"
     ]
    },
    {
     "name": "stderr",
     "output_type": "stream",
     "text": [
      "Your max_length is set to 50, but your input_length is only 3. Since this is a summarization task, where outputs shorter than the input are typically wanted, you might consider decreasing max_length manually, e.g. summarizer('...', max_length=1)\n"
     ]
    },
    {
     "name": "stdout",
     "output_type": "stream",
     "text": [
      "https://aws.amazon.com/marketplace/pp/prodview-euvgfcnlp7xhc\n",
      "sent extraction over\n",
      "Response call\n",
      "Failed to retrieve https://do.linkedin.com/jobs/view/senior-specialist-business-architect-hybrid-at-msd-3823665917?refId=XgNXXcsbzMbWBh6EV9qEYA%3D%3D&trackingId=t47eEGVjuRSmNCGLd%2Bc2MA%3D%3D&position=22&pageNum=0&trk=public_jobs_jserp-result_search-card: Status code 429\n",
      "sent extraction over\n",
      "Done\n",
      "Marks Electrical Group PLC\n",
      "Calling the search\n",
      "Search complete\n",
      "Response call\n",
      "Failed to retrieve https://www.proactiveinvestors.co.uk/companies/news/1037960/marks-electrical-plunges-on-profit-warning-due-to-price-conscious-consumers-1037960.html: Status code 403\n"
     ]
    },
    {
     "name": "stderr",
     "output_type": "stream",
     "text": [
      "Your max_length is set to 50, but your input_length is only 35. Since this is a summarization task, where outputs shorter than the input are typically wanted, you might consider decreasing max_length manually, e.g. summarizer('...', max_length=17)\n"
     ]
    },
    {
     "name": "stdout",
     "output_type": "stream",
     "text": [
      "sent extraction over\n",
      "Response call\n",
      "https://www.linkedin.com/posts/richard-lim-42527726_whats-been-happening-in-retail-this-week-activity-7076257259831349248-bC5y\n",
      "sent extraction over\n",
      "Response call\n"
     ]
    },
    {
     "name": "stderr",
     "output_type": "stream",
     "text": [
      "Your max_length is set to 50, but your input_length is only 24. Since this is a summarization task, where outputs shorter than the input are typically wanted, you might consider decreasing max_length manually, e.g. summarizer('...', max_length=12)\n"
     ]
    },
    {
     "name": "stdout",
     "output_type": "stream",
     "text": [
      "https://www.linkedin.com/posts/martinoxley_whats-been-happening-in-retail-this-week-activity-7076262477130285056-SzWU\n",
      "sent extraction over\n",
      "Response call\n",
      "https://www.davy.ie/research/public/article.htm?id=ST2_53257_1.xml.htm\n",
      "sent extraction over\n",
      "Response call\n",
      "Failed to retrieve https://www.proactiveinvestors.co.uk/companies/news/1033245/aviva-royal-mail-and-burberry-update-as-heavyweight-roll-call-continues-thursday-previews-1033245.html: Status code 403\n"
     ]
    },
    {
     "name": "stderr",
     "output_type": "stream",
     "text": [
      "Your max_length is set to 50, but your input_length is only 35. Since this is a summarization task, where outputs shorter than the input are typically wanted, you might consider decreasing max_length manually, e.g. summarizer('...', max_length=17)\n"
     ]
    },
    {
     "name": "stdout",
     "output_type": "stream",
     "text": [
      "sent extraction over\n",
      "Response call\n",
      "Failed to retrieve https://br.advfn.com/noticias/IHMARKETNEWS/2023/artigo/92326970: Status code 403\n",
      "sent extraction over\n",
      "Response call\n",
      "https://static.quandl.com/coverage/XSTU_tickers.csv\n",
      "sent extraction over\n",
      "Done\n",
      "AbbVie Inc.\n",
      "Calling the search\n",
      "Search complete\n",
      "Response call\n",
      "Failed to retrieve https://www.abbvie.com/science/areas-of-innovation/advanced-technologies.html: Status code 403\n"
     ]
    },
    {
     "name": "stderr",
     "output_type": "stream",
     "text": [
      "Your max_length is set to 50, but your input_length is only 3. Since this is a summarization task, where outputs shorter than the input are typically wanted, you might consider decreasing max_length manually, e.g. summarizer('...', max_length=1)\n"
     ]
    },
    {
     "name": "stdout",
     "output_type": "stream",
     "text": [
      "sent extraction over\n",
      "Response call\n",
      "Failed to retrieve https://careers.abbvie.com/en/job/united-states/generative-ai-architect/14/60941083440: Status code 403\n"
     ]
    },
    {
     "name": "stderr",
     "output_type": "stream",
     "text": [
      "Your max_length is set to 50, but your input_length is only 3. Since this is a summarization task, where outputs shorter than the input are typically wanted, you might consider decreasing max_length manually, e.g. summarizer('...', max_length=1)\n"
     ]
    },
    {
     "name": "stdout",
     "output_type": "stream",
     "text": [
      "sent extraction over\n",
      "Response call\n",
      "Failed to retrieve https://www.bio-itworldexpo.com/generative-ai: Status code 403\n",
      "sent extraction over\n",
      "Response call\n"
     ]
    },
    {
     "name": "stderr",
     "output_type": "stream",
     "text": [
      "Your max_length is set to 50, but your input_length is only 3. Since this is a summarization task, where outputs shorter than the input are typically wanted, you might consider decreasing max_length manually, e.g. summarizer('...', max_length=1)\n"
     ]
    },
    {
     "name": "stdout",
     "output_type": "stream",
     "text": [
      "https://www.prnewswire.com/news-releases/abbvie-and-bighat-biosciences-announce-research-collaboration-to-leverage-artificial-intelligence-and-machine-learning-to-discover-next-generation-therapeutic-antibodies-302006127.html\n",
      "sent extraction over\n",
      "Response call\n",
      "Failed to retrieve https://careers.abbvie.com/en/job/lake-county/dev-ops-engineer-ai-applications/14/60804141680: Status code 403\n"
     ]
    },
    {
     "name": "stderr",
     "output_type": "stream",
     "text": [
      "Your max_length is set to 50, but your input_length is only 3. Since this is a summarization task, where outputs shorter than the input are typically wanted, you might consider decreasing max_length manually, e.g. summarizer('...', max_length=1)\n"
     ]
    },
    {
     "name": "stdout",
     "output_type": "stream",
     "text": [
      "sent extraction over\n",
      "Response call\n",
      "https://www.talentify.io/job/generative-ai-architect---abbvie-inc-60941083440\n",
      "sent extraction over\n",
      "Response call\n"
     ]
    },
    {
     "name": "stderr",
     "output_type": "stream",
     "text": [
      "Your max_length is set to 50, but your input_length is only 3. Since this is a summarization task, where outputs shorter than the input are typically wanted, you might consider decreasing max_length manually, e.g. summarizer('...', max_length=1)\n"
     ]
    },
    {
     "name": "stdout",
     "output_type": "stream",
     "text": [
      "https://www.pharmexec.com/view/abbvie-to-acquire-immunogen-with-its-platinum-resistant-ovarian-cancer-drug-elahere\n",
      "sent extraction over\n",
      "Response call\n"
     ]
    },
    {
     "name": "stderr",
     "output_type": "stream",
     "text": [
      "Your max_length is set to 50, but your input_length is only 3. Since this is a summarization task, where outputs shorter than the input are typically wanted, you might consider decreasing max_length manually, e.g. summarizer('...', max_length=1)\n"
     ]
    },
    {
     "name": "stdout",
     "output_type": "stream",
     "text": [
      "https://www.theglobeandmail.com/investing/markets/indices/TTEN/pressreleases/22393991/drugmaker-abbvie-to-spend-over-10b-on-immunogen-to-juice-its-cancer-fighting-treatment-portfolio/\n",
      "sent extraction over\n",
      "Done\n",
      "Salesforce Inc.\n",
      "Calling the search\n",
      "Search complete\n",
      "Response call\n",
      "https://siliconangle.com/2023/11/01/salesforces-generative-ai-revolution-transforming-business-workflows-and-data-governance-supercloud4/\n",
      "sent extraction over\n",
      "Response call\n",
      "https://www.salesforce.com/blog/the-potential-of-generative-ai-for-salesforce-developers/\n",
      "sent extraction over\n",
      "Response call\n",
      "https://www.salesforce.com/news/stories/what-is-generative-ai/\n",
      "sent extraction over\n",
      "Response call\n",
      "https://www.salesforce.com/news/stories/generative-ai-statistics/\n",
      "sent extraction over\n",
      "Response call\n",
      "https://www.salesforce.com/news/stories/developing-ethical-ai/\n",
      "sent extraction over\n",
      "Response call\n",
      "https://www.salesforce.com/blog/generative-ai-for-business/\n",
      "sent extraction over\n",
      "Response call\n",
      "Failed to retrieve https://finance.yahoo.com/news/salesforce-crm-unveils-genai-powered-131000580.html: Status code 404\n",
      "sent extraction over\n",
      "Response call\n",
      "https://www.salesforce.com/products/ai-for-sales/\n",
      "sent extraction over\n",
      "Done\n",
      "Salesforce Inc.\n",
      "Calling the search\n",
      "Search complete\n",
      "Response call\n",
      "https://www.salesforce.com/news/stories/salesforce-accenture-generative-ai-partnership/\n",
      "sent extraction over\n",
      "Response call\n"
     ]
    },
    {
     "name": "stderr",
     "output_type": "stream",
     "text": [
      "Your max_length is set to 50, but your input_length is only 3. Since this is a summarization task, where outputs shorter than the input are typically wanted, you might consider decreasing max_length manually, e.g. summarizer('...', max_length=1)\n"
     ]
    },
    {
     "name": "stdout",
     "output_type": "stream",
     "text": [
      "https://www.salesforce.com/news/stories/nrf-retail-solutions/\n",
      "sent extraction over\n",
      "Response call\n"
     ]
    },
    {
     "name": "stderr",
     "output_type": "stream",
     "text": [
      "Your max_length is set to 50, but your input_length is only 3. Since this is a summarization task, where outputs shorter than the input are typically wanted, you might consider decreasing max_length manually, e.g. summarizer('...', max_length=1)\n"
     ]
    },
    {
     "name": "stdout",
     "output_type": "stream",
     "text": [
      "https://help.salesforce.com/s/articleView?language=es_MX&id=sf.generative_ai_about.htm&type=5\n",
      "sent extraction over\n",
      "Response call\n"
     ]
    },
    {
     "name": "stderr",
     "output_type": "stream",
     "text": [
      "Your max_length is set to 50, but your input_length is only 3. Since this is a summarization task, where outputs shorter than the input are typically wanted, you might consider decreasing max_length manually, e.g. summarizer('...', max_length=1)\n"
     ]
    },
    {
     "name": "stdout",
     "output_type": "stream",
     "text": [
      "https://help.salesforce.com/s/articleView?id=sf.generative_ai_about_container.htm&language=es_MX&type=5\n",
      "sent extraction over\n",
      "Response call\n",
      "https://www.moneycontroller.es/noticias-de-la-bolsa-espa%C3%B1ola/capgemini-se/capgemini-and-salesforce-collaborate-to-enable-a-new-era-of-generative-ai-powered-customer-experiences-1587493\n",
      "sent extraction over\n",
      "Response call\n"
     ]
    },
    {
     "name": "stderr",
     "output_type": "stream",
     "text": [
      "Your max_length is set to 50, but your input_length is only 3. Since this is a summarization task, where outputs shorter than the input are typically wanted, you might consider decreasing max_length manually, e.g. summarizer('...', max_length=1)\n"
     ]
    },
    {
     "name": "stdout",
     "output_type": "stream",
     "text": [
      "https://help.salesforce.com/s/articleView?id=sf.generative_ai_feedback.htm&language=es&type=5\n",
      "sent extraction over\n",
      "Response call\n",
      "https://www.nieveazul360.com/accenture-and-salesforce-collaborate-to-help-life-sciences-companies-create-differentiation-with-data-and-ai/\n",
      "sent extraction over\n",
      "Response call\n"
     ]
    },
    {
     "name": "stderr",
     "output_type": "stream",
     "text": [
      "Your max_length is set to 50, but your input_length is only 3. Since this is a summarization task, where outputs shorter than the input are typically wanted, you might consider decreasing max_length manually, e.g. summarizer('...', max_length=1)\n"
     ]
    },
    {
     "name": "stdout",
     "output_type": "stream",
     "text": [
      "https://help.salesforce.com/s/articleView?id=release-notes.rn_einstein_gen_ai_editions_support.htm&language=es&release=248&type=5\n",
      "sent extraction over\n",
      "Done\n",
      "PZ Cormay S.A.\n",
      "Calling the search\n",
      "Search complete\n",
      "Response call\n"
     ]
    },
    {
     "name": "stderr",
     "output_type": "stream",
     "text": [
      "Your max_length is set to 50, but your input_length is only 3. Since this is a summarization task, where outputs shorter than the input are typically wanted, you might consider decreasing max_length manually, e.g. summarizer('...', max_length=1)\n"
     ]
    },
    {
     "name": "stdout",
     "output_type": "stream",
     "text": [
      "https://pl.linkedin.com/in/pmisztal\n",
      "sent extraction over\n",
      "Done\n",
      "Advanced Micro Devices Inc.\n",
      "Calling the search\n",
      "Search complete\n",
      "Response call\n",
      "Request timed out for https://www.amd.com/en/solutions/ai.html. Attempting with Selenium.\n",
      "sent extraction over\n",
      "Response call\n",
      "https://naologic.com/terms/artificial-intelligence/q/genai/what-is-the-difference-between-generative-ai-and-chatgpt\n",
      "sent extraction over\n",
      "Response call\n",
      "https://www.xenonstack.com/blog/generative-ai-use-cases\n",
      "sent extraction over\n",
      "Response call\n"
     ]
    },
    {
     "name": "stderr",
     "output_type": "stream",
     "text": [
      "Your max_length is set to 50, but your input_length is only 3. Since this is a summarization task, where outputs shorter than the input are typically wanted, you might consider decreasing max_length manually, e.g. summarizer('...', max_length=1)\n"
     ]
    },
    {
     "name": "stdout",
     "output_type": "stream",
     "text": [
      "https://www.techradar.com/computing/laptops/microsoft-is-adding-support-for-amds-neural-processors-in-windows-heres-why-it-matters\n",
      "sent extraction over\n",
      "Response call\n",
      "Request timed out for https://www.amd.com/en/newsroom/press-releases/2023-12-6-amd-showcases-growing-momentum-for-amd-powered-ai-.html. Attempting with Selenium.\n",
      "sent extraction over\n",
      "Response call\n",
      "https://apnews.com/article/amd-generative-ai-chip-mi300x-nvidia-13e81c67d6ca5dea0c1ccc147feb6487\n",
      "sent extraction over\n",
      "Response call\n",
      "Failed to retrieve https://seekingalpha.com/article/4677974-ai-trends-support-advanced-micro-devices-for-the-long-term: Status code 403\n",
      "sent extraction over\n",
      "Response call\n",
      "https://www.linkedin.com/pulse/amd-generative-ai-boom-iscoming-chul-choi\n",
      "sent extraction over\n",
      "Done\n",
      "Advanced Micro Devices Inc.\n",
      "Calling the search\n",
      "Search complete\n",
      "Response call\n",
      "https://community.amd.com/t5/ai/a-discussion-of-terms-from-artificial-intelligence-to-generative/ba-p/664602\n",
      "sent extraction over\n",
      "Response call\n",
      "https://naologic.com/terms/artificial-intelligence/q/genai/what-is-the-difference-between-generative-ai-and-chatgpt\n",
      "sent extraction over\n",
      "Response call\n",
      "https://www.techtarget.com/searchenterpriseai/definition/generative-AI\n",
      "sent extraction over\n",
      "Response call\n",
      "https://aws.amazon.com/generative-ai/use-cases/\n",
      "sent extraction over\n",
      "Response call\n",
      "https://www.noupe.com/business-online/which-industry-is-likely-to-benefit-the-most-from-generative-ai.html\n",
      "sent extraction over\n",
      "Response call\n",
      "Failed to retrieve https://es.finance.yahoo.com/news/amd-promises-ai-chip-power-154320957.html: Status code 404\n"
     ]
    },
    {
     "name": "stderr",
     "output_type": "stream",
     "text": [
      "Your max_length is set to 50, but your input_length is only 3. Since this is a summarization task, where outputs shorter than the input are typically wanted, you might consider decreasing max_length manually, e.g. summarizer('...', max_length=1)\n"
     ]
    },
    {
     "name": "stdout",
     "output_type": "stream",
     "text": [
      "sent extraction over\n",
      "Response call\n"
     ]
    },
    {
     "name": "stderr",
     "output_type": "stream",
     "text": [
      "Your max_length is set to 50, but your input_length is only 3. Since this is a summarization task, where outputs shorter than the input are typically wanted, you might consider decreasing max_length manually, e.g. summarizer('...', max_length=1)\n"
     ]
    },
    {
     "name": "stdout",
     "output_type": "stream",
     "text": [
      "https://www.linkedin.com/pulse/artificial-intelligence-ai-hardware-market-size-regional-wvf5f\n",
      "sent extraction over\n",
      "Response call\n",
      "Failed to retrieve https://es-us.finanzas.yahoo.com/news/amd-debuts-ai-focused-ryzen-8000g-desktop-chips-at-ces-2024-153139652.html: Status code 404\n",
      "sent extraction over\n",
      "Done\n",
      "Arrow Minerals Ltd.\n",
      "Calling the search\n",
      "Search complete\n",
      "Response call\n",
      "An error occurred while processing Arrow Minerals Ltd.(AMD): cannot access local variable 'response' where it is not associated with a value\n",
      "Bank of America Corp.\n",
      "Calling the search\n",
      "Search complete\n",
      "Response call\n",
      "https://py.linkedin.com/posts/chart_navigating-an-investment-banking-sales-process-activity-7046152490089672705-R4mG\n",
      "sent extraction over\n",
      "Response call\n",
      "https://ve.linkedin.com/posts/chart_how-do-early-stage-services-businesses-raise-activity-7052332111382392832-URwI\n",
      "sent extraction over\n",
      "Response call\n",
      "Failed to retrieve https://es.finance.yahoo.com/news/40-accredited-online-business-degree-163823210.html: Status code 404\n"
     ]
    },
    {
     "name": "stderr",
     "output_type": "stream",
     "text": [
      "Your max_length is set to 50, but your input_length is only 3. Since this is a summarization task, where outputs shorter than the input are typically wanted, you might consider decreasing max_length manually, e.g. summarizer('...', max_length=1)\n"
     ]
    },
    {
     "name": "stdout",
     "output_type": "stream",
     "text": [
      "sent extraction over\n",
      "Response call\n"
     ]
    },
    {
     "name": "stderr",
     "output_type": "stream",
     "text": [
      "Your max_length is set to 50, but your input_length is only 3. Since this is a summarization task, where outputs shorter than the input are typically wanted, you might consider decreasing max_length manually, e.g. summarizer('...', max_length=1)\n"
     ]
    },
    {
     "name": "stdout",
     "output_type": "stream",
     "text": [
      "https://www.msn.com/en-us/money/other/samsung-bans-staff-s-ai-use-after-spotting-chatgpt-data-leak/ar-AA1aBBEp\n",
      "sent extraction over\n",
      "Response call\n"
     ]
    },
    {
     "name": "stderr",
     "output_type": "stream",
     "text": [
      "Your max_length is set to 50, but your input_length is only 3. Since this is a summarization task, where outputs shorter than the input are typically wanted, you might consider decreasing max_length manually, e.g. summarizer('...', max_length=1)\n"
     ]
    },
    {
     "name": "stdout",
     "output_type": "stream",
     "text": [
      "https://www.bloomberg.com/news/articles/2016-11-03/alphabet-reveals-hardware-inventory-numbers-for-the-first-time\n",
      "sent extraction over\n",
      "Response call\n",
      "Failed to retrieve https://medium.com/@aimara102001/samsung-proh%C3%ADbe-a-sus-empleados-el-uso-de-chat-gpt-25af148de0a5: Status code 403\n",
      "sent extraction over\n",
      "Response call\n",
      "Failed to retrieve https://es-us.finanzas.yahoo.com/news/25-best-online-economics-degree-002210134.html: Status code 404\n"
     ]
    },
    {
     "name": "stderr",
     "output_type": "stream",
     "text": [
      "Your max_length is set to 50, but your input_length is only 24. Since this is a summarization task, where outputs shorter than the input are typically wanted, you might consider decreasing max_length manually, e.g. summarizer('...', max_length=12)\n"
     ]
    },
    {
     "name": "stdout",
     "output_type": "stream",
     "text": [
      "sent extraction over\n",
      "Response call\n"
     ]
    },
    {
     "name": "stderr",
     "output_type": "stream",
     "text": [
      "Your max_length is set to 50, but your input_length is only 3. Since this is a summarization task, where outputs shorter than the input are typically wanted, you might consider decreasing max_length manually, e.g. summarizer('...', max_length=1)\n"
     ]
    },
    {
     "name": "stdout",
     "output_type": "stream",
     "text": [
      "https://fintel.io/es/so/us/ffie\n",
      "sent extraction over\n",
      "Done\n",
      "BacTech Environmental Corp.\n",
      "Calling the search\n",
      "Search complete\n",
      "Response call\n"
     ]
    },
    {
     "name": "stderr",
     "output_type": "stream",
     "text": [
      "Your max_length is set to 50, but your input_length is only 3. Since this is a summarization task, where outputs shorter than the input are typically wanted, you might consider decreasing max_length manually, e.g. summarizer('...', max_length=1)\n"
     ]
    },
    {
     "name": "stdout",
     "output_type": "stream",
     "text": [
      "https://www.theglobeandmail.com/investing/markets/stocks/BAC-CN/pressreleases/6985955/stocks-in-play-bactech-environmental-corp/\n",
      "sent extraction over\n",
      "Response call\n",
      "https://www.streetwisereports.com/article/2023/08/18/ai-company-sees-results-as-industry-booms.html\n",
      "sent extraction over\n",
      "Response call\n",
      "https://www.streetwisereports.com/article/2024/02/14/employment-opportunities-resilient-amid-ai-induced-cuts.html\n",
      "sent extraction over\n",
      "Response call\n",
      "https://www.solactive.com/ordinary-rebalance-several-solactive-indices-effective-date-1st-january-2024/\n"
     ]
    },
    {
     "name": "stderr",
     "output_type": "stream",
     "text": [
      "Your max_length is set to 50, but your input_length is only 3. Since this is a summarization task, where outputs shorter than the input are typically wanted, you might consider decreasing max_length manually, e.g. summarizer('...', max_length=1)\n"
     ]
    },
    {
     "name": "stdout",
     "output_type": "stream",
     "text": [
      "sent extraction over\n",
      "Response call\n"
     ]
    },
    {
     "name": "stderr",
     "output_type": "stream",
     "text": [
      "Your max_length is set to 50, but your input_length is only 3. Since this is a summarization task, where outputs shorter than the input are typically wanted, you might consider decreasing max_length manually, e.g. summarizer('...', max_length=1)\n"
     ]
    },
    {
     "name": "stdout",
     "output_type": "stream",
     "text": [
      "https://www.theresearchinsights.com/reports/global-environmental-remediation-technologies-market-size--trend--forecast-to-2031-513429\n",
      "sent extraction over\n",
      "Response call\n",
      "https://www.interactivebrokers.ie/en/index.php?f=40092&cntry=usa&tag=United%20States&ln=&asset=&b=A&e=FM\n"
     ]
    },
    {
     "name": "stderr",
     "output_type": "stream",
     "text": [
      "Your max_length is set to 50, but your input_length is only 3. Since this is a summarization task, where outputs shorter than the input are typically wanted, you might consider decreasing max_length manually, e.g. summarizer('...', max_length=1)\n"
     ]
    },
    {
     "name": "stdout",
     "output_type": "stream",
     "text": [
      "sent extraction over\n",
      "Response call\n",
      "https://www.prorealtime.com/en/financial-instruments/nasdaq-stocks-otcbb\n"
     ]
    },
    {
     "name": "stderr",
     "output_type": "stream",
     "text": [
      "Your max_length is set to 50, but your input_length is only 3. Since this is a summarization task, where outputs shorter than the input are typically wanted, you might consider decreasing max_length manually, e.g. summarizer('...', max_length=1)\n"
     ]
    },
    {
     "name": "stdout",
     "output_type": "stream",
     "text": [
      "sent extraction over\n",
      "Response call\n",
      "https://static.quandl.com/coverage/XSTU_tickers.csv\n",
      "sent extraction over\n",
      "Done\n",
      "Bank of America Corp.\n",
      "Calling the search\n",
      "Search complete\n",
      "Response call\n"
     ]
    },
    {
     "name": "stderr",
     "output_type": "stream",
     "text": [
      "Your max_length is set to 50, but your input_length is only 3. Since this is a summarization task, where outputs shorter than the input are typically wanted, you might consider decreasing max_length manually, e.g. summarizer('...', max_length=1)\n"
     ]
    },
    {
     "name": "stdout",
     "output_type": "stream",
     "text": [
      "https://www.bloomberg.com/news/articles/2023-07-13/bank-of-america-is-using-the-metaverse-ai-to-train-its-hires\n",
      "sent extraction over\n",
      "Response call\n",
      "https://www.linkedin.com/pulse/ai-powered-customer-experience-insights-from-bank-boaz-ashkenazy-6vkac\n",
      "sent extraction over\n",
      "Response call\n",
      "https://www.oracle.com/artificial-intelligence/banking-genai/\n",
      "sent extraction over\n",
      "Response call\n",
      "Failed to retrieve https://medium.com/@ayo.ogunde/bank-of-america-is-using-ai-and-metaverse-to-train-new-hires-471a6565df3e: Status code 403\n"
     ]
    },
    {
     "name": "stderr",
     "output_type": "stream",
     "text": [
      "Your max_length is set to 50, but your input_length is only 3. Since this is a summarization task, where outputs shorter than the input are typically wanted, you might consider decreasing max_length manually, e.g. summarizer('...', max_length=1)\n"
     ]
    },
    {
     "name": "stdout",
     "output_type": "stream",
     "text": [
      "sent extraction over\n",
      "Response call\n",
      "Failed to retrieve https://star-knowledge.com/blog/ai-in-banking/: Status code 403\n"
     ]
    },
    {
     "name": "stderr",
     "output_type": "stream",
     "text": [
      "Your max_length is set to 50, but your input_length is only 3. Since this is a summarization task, where outputs shorter than the input are typically wanted, you might consider decreasing max_length manually, e.g. summarizer('...', max_length=1)\n"
     ]
    },
    {
     "name": "stdout",
     "output_type": "stream",
     "text": [
      "sent extraction over\n",
      "Response call\n",
      "https://www.spglobal.com/marketintelligence/en/news-insights/research/smaller-banks-are-using-ai-too\n",
      "sent extraction over\n",
      "Response call\n"
     ]
    },
    {
     "name": "stderr",
     "output_type": "stream",
     "text": [
      "Your max_length is set to 50, but your input_length is only 3. Since this is a summarization task, where outputs shorter than the input are typically wanted, you might consider decreasing max_length manually, e.g. summarizer('...', max_length=1)\n"
     ]
    },
    {
     "name": "stdout",
     "output_type": "stream",
     "text": [
      "https://news.bloomberglaw.com/artificial-intelligence/bofa-boosts-its-ai-patents-as-lender-focuses-on-machine-learning\n",
      "sent extraction over\n",
      "Response call\n",
      "https://www.theglobeandmail.com/investing/markets/stocks/BAC-N/pressreleases/17920149/12-trillion-generative-ai-boom-in-3-industries-here-are-the-top-stocks-to-buy/\n",
      "sent extraction over\n",
      "Done\n",
      "Chevron Corp.\n",
      "Calling the search\n",
      "Search complete\n",
      "Response call\n",
      "Failed to retrieve https://es.finance.yahoo.com/news/zacks-analyst-blog-highlights-nvidia-105300346.html: Status code 404\n"
     ]
    },
    {
     "name": "stderr",
     "output_type": "stream",
     "text": [
      "Your max_length is set to 50, but your input_length is only 3. Since this is a summarization task, where outputs shorter than the input are typically wanted, you might consider decreasing max_length manually, e.g. summarizer('...', max_length=1)\n"
     ]
    },
    {
     "name": "stdout",
     "output_type": "stream",
     "text": [
      "sent extraction over\n",
      "Response call\n",
      "Failed to retrieve https://es-us.finanzas.yahoo.com/news/zacks-analyst-blog-highlights-nvidia-105300346.html: Status code 404\n",
      "sent extraction over\n",
      "Response call\n"
     ]
    },
    {
     "name": "stderr",
     "output_type": "stream",
     "text": [
      "Your max_length is set to 50, but your input_length is only 3. Since this is a summarization task, where outputs shorter than the input are typically wanted, you might consider decreasing max_length manually, e.g. summarizer('...', max_length=1)\n"
     ]
    },
    {
     "name": "stdout",
     "output_type": "stream",
     "text": [
      "https://www.digitaljournal.com/pr/Deepwater-Exploration-and-Production-Market-Business-Growth-Research-2023-Demand-Status-by-Future-Trends-Competitive-Landscape-and-Industry-Share-Forecast-to-2029\n",
      "sent extraction over\n",
      "Response call\n",
      "https://podtail.com/es/podcast/benzinga-daily-stocks-to-watch/ipo-of-the-year/\n",
      "sent extraction over\n",
      "Response call\n",
      "Failed to retrieve https://www.researchgate.net/publication/374030676_IArtificialnet: Status code 403\n"
     ]
    },
    {
     "name": "stderr",
     "output_type": "stream",
     "text": [
      "Your max_length is set to 50, but your input_length is only 3. Since this is a summarization task, where outputs shorter than the input are typically wanted, you might consider decreasing max_length manually, e.g. summarizer('...', max_length=1)\n"
     ]
    },
    {
     "name": "stdout",
     "output_type": "stream",
     "text": [
      "sent extraction over\n",
      "Response call\n"
     ]
    },
    {
     "name": "stderr",
     "output_type": "stream",
     "text": [
      "Your max_length is set to 50, but your input_length is only 3. Since this is a summarization task, where outputs shorter than the input are typically wanted, you might consider decreasing max_length manually, e.g. summarizer('...', max_length=1)\n"
     ]
    },
    {
     "name": "stdout",
     "output_type": "stream",
     "text": [
      "https://www.youtube.com/watch?v=-nD9EFvJS10\n",
      "sent extraction over\n",
      "Response call\n"
     ]
    },
    {
     "name": "stderr",
     "output_type": "stream",
     "text": [
      "Your max_length is set to 50, but your input_length is only 3. Since this is a summarization task, where outputs shorter than the input are typically wanted, you might consider decreasing max_length manually, e.g. summarizer('...', max_length=1)\n"
     ]
    },
    {
     "name": "stdout",
     "output_type": "stream",
     "text": [
      "https://www.collegesidekick.com/study-docs/2152200\n",
      "sent extraction over\n",
      "Response call\n",
      "Failed to retrieve https://www.ghm.com.ve/category/noticias/page/455/: Status code 406\n"
     ]
    },
    {
     "name": "stderr",
     "output_type": "stream",
     "text": [
      "Your max_length is set to 50, but your input_length is only 3. Since this is a summarization task, where outputs shorter than the input are typically wanted, you might consider decreasing max_length manually, e.g. summarizer('...', max_length=1)\n"
     ]
    },
    {
     "name": "stdout",
     "output_type": "stream",
     "text": [
      "sent extraction over\n",
      "Done\n",
      "Chevron Corp.\n",
      "Calling the search\n",
      "Search complete\n",
      "Response call\n"
     ]
    },
    {
     "name": "stderr",
     "output_type": "stream",
     "text": [
      "Your max_length is set to 50, but your input_length is only 3. Since this is a summarization task, where outputs shorter than the input are typically wanted, you might consider decreasing max_length manually, e.g. summarizer('...', max_length=1)\n"
     ]
    },
    {
     "name": "stdout",
     "output_type": "stream",
     "text": [
      "https://siliconangle.com/2021/10/12/chevron-sees-increasing-roi-after-automating-processes-back-office-well-drilling-uipathforward/\n",
      "sent extraction over\n",
      "Response call\n"
     ]
    },
    {
     "name": "stderr",
     "output_type": "stream",
     "text": [
      "Your max_length is set to 50, but your input_length is only 3. Since this is a summarization task, where outputs shorter than the input are typically wanted, you might consider decreasing max_length manually, e.g. summarizer('...', max_length=1)\n"
     ]
    },
    {
     "name": "stdout",
     "output_type": "stream",
     "text": [
      "https://www.arcweb.com/blog/chevron-launching-predictive-maintenance-cut-costs-improve-operations\n",
      "sent extraction over\n",
      "Response call\n",
      "https://www.hartenergy.com/exclusives/fallibility-generative-ai-when-computers-lie-steal-and-hallucinate-206579\n",
      "sent extraction over\n",
      "Response call\n"
     ]
    },
    {
     "name": "stderr",
     "output_type": "stream",
     "text": [
      "Your max_length is set to 50, but your input_length is only 3. Since this is a summarization task, where outputs shorter than the input are typically wanted, you might consider decreasing max_length manually, e.g. summarizer('...', max_length=1)\n"
     ]
    },
    {
     "name": "stdout",
     "output_type": "stream",
     "text": [
      "https://www.bizjournals.com/sanjose/news/2024/01/04/intel-launches-articul8-generative-ai.html\n",
      "sent extraction over\n",
      "Response call\n"
     ]
    },
    {
     "name": "stderr",
     "output_type": "stream",
     "text": [
      "Your max_length is set to 50, but your input_length is only 3. Since this is a summarization task, where outputs shorter than the input are typically wanted, you might consider decreasing max_length manually, e.g. summarizer('...', max_length=1)\n"
     ]
    },
    {
     "name": "stdout",
     "output_type": "stream",
     "text": [
      "https://www.computerworld.com/article/2553979/where-size-is-opportunity.html\n",
      "sent extraction over\n",
      "Response call\n",
      "https://www.neeley.tcu.edu/centers/lkcm-center-for-financial-studies/finance-conference/generative-ai\n",
      "sent extraction over\n",
      "Response call\n"
     ]
    },
    {
     "name": "stderr",
     "output_type": "stream",
     "text": [
      "Your max_length is set to 50, but your input_length is only 37. Since this is a summarization task, where outputs shorter than the input are typically wanted, you might consider decreasing max_length manually, e.g. summarizer('...', max_length=18)\n"
     ]
    },
    {
     "name": "stdout",
     "output_type": "stream",
     "text": [
      "https://www.industryintel.com/retail-and-omnichannel/news/samsung-showcasing-its-ecosystem-of-display-technologies-and-partner-solutions-at-nrf-2024-highlights-include-samsung-piloting-a-program-with-chevron-to-captivate-shoppers-at-chevron-extramile-convenience-stores-160416897024\n",
      "sent extraction over\n",
      "Done\n",
      "Cematrix Corp.\n",
      "Calling the search\n",
      "Search failed for Cematrix Corp. with error: ('Connection aborted.', RemoteDisconnected('Remote end closed connection without response'))\n",
      "Done\n",
      "Netflix Inc.\n",
      "Calling the search\n",
      "Search complete\n",
      "Response call\n",
      "https://www.spglobal.com/marketintelligence/en/news-insights/research/generative-ai-steps-into-starring-role-in-actor-writer-strikes\n",
      "sent extraction over\n",
      "Response call\n",
      "https://m.economictimes.com/tech/technology/netflix-says-generative-ai-can-adversely-impact-its-operations/articleshow/107198609.cms\n",
      "sent extraction over\n",
      "Response call\n",
      "Failed to retrieve https://www.argoid.ai/blog/netflix-ai: Status code 200\n",
      "An error occurred while processing Netflix Inc.(NFLX): Message: Navigation timed out after 300000 ms\n",
      "Stacktrace:\n",
      "RemoteError@chrome://remote/content/shared/RemoteError.sys.mjs:8:8\n",
      "WebDriverError@chrome://remote/content/shared/webdriver/Errors.sys.mjs:192:5\n",
      "TimeoutError@chrome://remote/content/shared/webdriver/Errors.sys.mjs:739:5\n",
      "bail@chrome://remote/content/marionette/sync.sys.mjs:211:19\n",
      "\n",
      "Netflix Inc.\n",
      "Calling the search\n",
      "Search complete\n",
      "Response call\n",
      "https://www.linkedin.com/posts/javier8a_netflix-will-use-microsoft-to-launch-ad-based-activity-6953587205529305088-UKfE?trk=public_profile_like_view\n",
      "sent extraction over\n",
      "Response call\n",
      "Failed to retrieve https://es-us.finanzas.yahoo.com/news/apple-shareholders-vote-down-request-172922955.html: Status code 404\n",
      "sent extraction over\n",
      "Response call\n",
      "Failed to retrieve https://es.finance.yahoo.com/news/apple-shareholders-vote-down-request-172922955.html: Status code 404\n"
     ]
    },
    {
     "name": "stderr",
     "output_type": "stream",
     "text": [
      "Your max_length is set to 50, but your input_length is only 3. Since this is a summarization task, where outputs shorter than the input are typically wanted, you might consider decreasing max_length manually, e.g. summarizer('...', max_length=1)\n"
     ]
    },
    {
     "name": "stdout",
     "output_type": "stream",
     "text": [
      "sent extraction over\n",
      "Response call\n"
     ]
    },
    {
     "name": "stderr",
     "output_type": "stream",
     "text": [
      "Your max_length is set to 50, but your input_length is only 3. Since this is a summarization task, where outputs shorter than the input are typically wanted, you might consider decreasing max_length manually, e.g. summarizer('...', max_length=1)\n"
     ]
    },
    {
     "name": "stdout",
     "output_type": "stream",
     "text": [
      "https://bo.linkedin.com/posts/anthony-duignan-cabrera_group-of-big-tech-companies-known-as-magnificent-activity-7069698279889850369-sNOi\n",
      "sent extraction over\n",
      "Response call\n",
      "Failed to retrieve https://www.redbubble.com/es/i/lamina/Stranger-Things-Netflix-Futuristic-Poster-AI-Generated-Generative-AI-Art-de-sophiasway/143689489.TR477: Status code 403\n",
      "sent extraction over\n",
      "Response call\n"
     ]
    },
    {
     "name": "stderr",
     "output_type": "stream",
     "text": [
      "Your max_length is set to 50, but your input_length is only 3. Since this is a summarization task, where outputs shorter than the input are typically wanted, you might consider decreasing max_length manually, e.g. summarizer('...', max_length=1)\n"
     ]
    },
    {
     "name": "stdout",
     "output_type": "stream",
     "text": [
      "https://m.facebook.com/AdAge/posts/the-charity-maisa-foundation-used-a-popular-social-media-trend-to-highlight-the-/10157152683095880/?locale=es_LA\n",
      "sent extraction over\n",
      "Response call\n",
      "Failed to retrieve https://www.jambalayanews.com/hollywood-actors-ratify-contract-to-formally-end-strike/article_1428f52d-41c2-56f7-b5ed-7346dc090537.html: Status code 429\n",
      "sent extraction over\n",
      "Response call\n"
     ]
    },
    {
     "name": "stderr",
     "output_type": "stream",
     "text": [
      "Your max_length is set to 50, but your input_length is only 3. Since this is a summarization task, where outputs shorter than the input are typically wanted, you might consider decreasing max_length manually, e.g. summarizer('...', max_length=1)\n"
     ]
    },
    {
     "name": "stdout",
     "output_type": "stream",
     "text": [
      "https://m.youtube.com/watch?v=-XqaPLWRqRY\n",
      "sent extraction over\n",
      "Done\n",
      "Coca-Cola Co.\n",
      "Calling the search\n",
      "Search complete\n",
      "Response call\n",
      "https://cl.linkedin.com/posts/selmancareaga_coca-cola-invites-fans-to-create-ai-art-with-activity-7043639967574605824-qGEX\n",
      "sent extraction over\n",
      "Response call\n"
     ]
    },
    {
     "name": "stderr",
     "output_type": "stream",
     "text": [
      "Your max_length is set to 50, but your input_length is only 3. Since this is a summarization task, where outputs shorter than the input are typically wanted, you might consider decreasing max_length manually, e.g. summarizer('...', max_length=1)\n"
     ]
    },
    {
     "name": "stdout",
     "output_type": "stream",
     "text": [
      "https://www.linkedin.com/pulse/how-coca-cola-used-ai-improve-operations-customer-julia-baranava\n",
      "sent extraction over\n",
      "Response call\n",
      "Failed to retrieve https://aibusiness.com/verticals/coca-cola-introduces-y3000-its-first-ever-ai-created-flavor: Status code 403\n"
     ]
    },
    {
     "name": "stderr",
     "output_type": "stream",
     "text": [
      "Your max_length is set to 50, but your input_length is only 3. Since this is a summarization task, where outputs shorter than the input are typically wanted, you might consider decreasing max_length manually, e.g. summarizer('...', max_length=1)\n"
     ]
    },
    {
     "name": "stdout",
     "output_type": "stream",
     "text": [
      "sent extraction over\n",
      "Response call\n",
      "Failed to retrieve https://es-us.finanzas.yahoo.com/news/nvidia-joins-150-million-funding-120000354.html: Status code 404\n",
      "sent extraction over\n",
      "Response call\n",
      "Failed to retrieve https://es.finance.yahoo.com/news/nvidia-joins-150-million-funding-120000354.html: Status code 404\n"
     ]
    },
    {
     "name": "stderr",
     "output_type": "stream",
     "text": [
      "Your max_length is set to 50, but your input_length is only 3. Since this is a summarization task, where outputs shorter than the input are typically wanted, you might consider decreasing max_length manually, e.g. summarizer('...', max_length=1)\n"
     ]
    },
    {
     "name": "stdout",
     "output_type": "stream",
     "text": [
      "sent extraction over\n",
      "Response call\n"
     ]
    },
    {
     "name": "stderr",
     "output_type": "stream",
     "text": [
      "Your max_length is set to 50, but your input_length is only 3. Since this is a summarization task, where outputs shorter than the input are typically wanted, you might consider decreasing max_length manually, e.g. summarizer('...', max_length=1)\n"
     ]
    },
    {
     "name": "stdout",
     "output_type": "stream",
     "text": [
      "https://es.slideshare.net/JosephHunter/share-a-coke-campaign-slideshare?next_slideshow=true\n",
      "sent extraction over\n",
      "Response call\n"
     ]
    },
    {
     "name": "stderr",
     "output_type": "stream",
     "text": [
      "Your max_length is set to 50, but your input_length is only 3. Since this is a summarization task, where outputs shorter than the input are typically wanted, you might consider decreasing max_length manually, e.g. summarizer('...', max_length=1)\n"
     ]
    },
    {
     "name": "stdout",
     "output_type": "stream",
     "text": [
      "https://es.linkedin.com/posts/oscarpena_wonder-studio-activity-7039942787588317186-2Uiv?trk=public_profile_like_view\n",
      "sent extraction over\n",
      "Response call\n"
     ]
    },
    {
     "name": "stderr",
     "output_type": "stream",
     "text": [
      "Your max_length is set to 50, but your input_length is only 3. Since this is a summarization task, where outputs shorter than the input are typically wanted, you might consider decreasing max_length manually, e.g. summarizer('...', max_length=1)\n"
     ]
    },
    {
     "name": "stdout",
     "output_type": "stream",
     "text": [
      "https://www.slideshare.net/CI.World.Congress.2007/fringe-food-silverglade-dump-soda\n",
      "sent extraction over\n",
      "Done\n",
      "Coca-Cola Co.\n",
      "Calling the search\n",
      "Search complete\n",
      "Response call\n",
      "https://www.just-drinks.com/news/coca-cola-launches-drink-co-created-with-ai/\n",
      "sent extraction over\n",
      "Response call\n",
      "https://www.emarketer.com/content/how-retailers-like-coca-cola-instacart-amazon-innovating-with-generative-ai\n",
      "sent extraction over\n",
      "Response call\n",
      "https://www.insiderintelligence.com/content/how-retailers-like-coca-cola-instacart-amazon-innovating-with-generative-ai\n",
      "sent extraction over\n",
      "Response call\n"
     ]
    },
    {
     "name": "stderr",
     "output_type": "stream",
     "text": [
      "Your max_length is set to 50, but your input_length is only 3. Since this is a summarization task, where outputs shorter than the input are typically wanted, you might consider decreasing max_length manually, e.g. summarizer('...', max_length=1)\n"
     ]
    },
    {
     "name": "stdout",
     "output_type": "stream",
     "text": [
      "https://progressivegrocer.com/how-coca-cola-used-ai-create-its-latest-beverage\n",
      "sent extraction over\n",
      "Response call\n",
      "https://www.just-drinks.com/news/the-coca-cola-co-pens-deal-to-explore-use-of-ai-tools-including-chatgpt/\n",
      "sent extraction over\n",
      "Response call\n",
      "Failed to retrieve https://adage.com/article/marketing-news-strategy/how-coke-using-ai-make-ads-artists-through-its-real-magic-creative-academy/2512046: Status code 403\n",
      "sent extraction over\n",
      "Response call\n",
      "https://www.emarketer.com/content/how-retailers-like-coca-cola-instacart-amazon-innovating-with-generative-ai/\n",
      "sent extraction over\n",
      "Response call\n",
      "https://analyticsindiamag.com/how-coca-cola-and-pepsico-use-ai-to-bubble-up-innovation/\n",
      "sent extraction over\n",
      "Done\n",
      "Accenture PLC Cl A\n",
      "Calling the search\n",
      "Search complete\n",
      "Response call\n",
      "Failed to retrieve https://www.wsj.com/market-data/quotes/ACN,INFY,WIT,CSC,GIB,SYNT,SAYCY,SAPE,CVG/company-people/executive-profile/58470658: Status code 403\n"
     ]
    },
    {
     "name": "stderr",
     "output_type": "stream",
     "text": [
      "Your max_length is set to 50, but your input_length is only 3. Since this is a summarization task, where outputs shorter than the input are typically wanted, you might consider decreasing max_length manually, e.g. summarizer('...', max_length=1)\n"
     ]
    },
    {
     "name": "stdout",
     "output_type": "stream",
     "text": [
      "sent extraction over\n",
      "Response call\n",
      "https://stocknews.com/news/acn-spmyy-rdcm-3-lucrative-tech-stocks-set-for-2024-success/\n",
      "sent extraction over\n",
      "Response call\n"
     ]
    },
    {
     "name": "stderr",
     "output_type": "stream",
     "text": [
      "Your max_length is set to 50, but your input_length is only 3. Since this is a summarization task, where outputs shorter than the input are typically wanted, you might consider decreasing max_length manually, e.g. summarizer('...', max_length=1)\n"
     ]
    },
    {
     "name": "stdout",
     "output_type": "stream",
     "text": [
      "https://www.chartmill.com/stock/quote/ACN/news\n",
      "sent extraction over\n",
      "Response call\n",
      "Failed to retrieve https://www.wsj.com/market-data/quotes/ACN/company-people/executive-profile/99283204: Status code 403\n",
      "An error occurred while processing Accenture PLC Cl A(ACN): Message: Navigation timed out after 300000 ms\n",
      "Stacktrace:\n",
      "RemoteError@chrome://remote/content/shared/RemoteError.sys.mjs:8:8\n",
      "WebDriverError@chrome://remote/content/shared/webdriver/Errors.sys.mjs:192:5\n",
      "TimeoutError@chrome://remote/content/shared/webdriver/Errors.sys.mjs:739:5\n",
      "bail@chrome://remote/content/marionette/sync.sys.mjs:211:19\n",
      "\n",
      "PepsiCo Inc.\n",
      "Calling the search\n",
      "Search complete\n",
      "Response call\n",
      "Failed to retrieve https://es-us.finanzas.yahoo.com/news/artificial-intelligence-2023-country-rankings-202312345.html: Status code 404\n",
      "sent extraction over\n",
      "Response call\n"
     ]
    },
    {
     "name": "stderr",
     "output_type": "stream",
     "text": [
      "Your max_length is set to 50, but your input_length is only 3. Since this is a summarization task, where outputs shorter than the input are typically wanted, you might consider decreasing max_length manually, e.g. summarizer('...', max_length=1)\n"
     ]
    },
    {
     "name": "stdout",
     "output_type": "stream",
     "text": [
      "https://wtop.com/news/2023/03/conoce-el-nuevo-logotipo-de-pepsi/\n",
      "sent extraction over\n",
      "Response call\n",
      "https://www.linkedin.com/posts/santiminguito_view-my-verified-achievement-from-isaca-activity-6753719300856672256--24h?trk=public_profile\n",
      "sent extraction over\n",
      "Response call\n",
      "Failed to retrieve https://es-us.finanzas.yahoo.com/news/13-most-promising-growth-stocks-160348027.html: Status code 404\n",
      "sent extraction over\n",
      "Response call\n",
      "https://mx.linkedin.com/in/davidhernandezpmp\n",
      "sent extraction over\n"
     ]
    },
    {
     "name": "stderr",
     "output_type": "stream",
     "text": [
      "Your max_length is set to 50, but your input_length is only 3. Since this is a summarization task, where outputs shorter than the input are typically wanted, you might consider decreasing max_length manually, e.g. summarizer('...', max_length=1)\n"
     ]
    },
    {
     "name": "stdout",
     "output_type": "stream",
     "text": [
      "Response call\n"
     ]
    },
    {
     "name": "stderr",
     "output_type": "stream",
     "text": [
      "Your max_length is set to 50, but your input_length is only 3. Since this is a summarization task, where outputs shorter than the input are typically wanted, you might consider decreasing max_length manually, e.g. summarizer('...', max_length=1)\n"
     ]
    },
    {
     "name": "stdout",
     "output_type": "stream",
     "text": [
      "https://es.adforum.com/award-organization/6650180/showcase/2023/ad/34688736\n",
      "sent extraction over\n",
      "Response call\n",
      "https://marketresearch.biz/report/fmcg-market/\n",
      "sent extraction over\n",
      "Response call\n"
     ]
    },
    {
     "name": "stderr",
     "output_type": "stream",
     "text": [
      "Your max_length is set to 50, but your input_length is only 3. Since this is a summarization task, where outputs shorter than the input are typically wanted, you might consider decreasing max_length manually, e.g. summarizer('...', max_length=1)\n"
     ]
    },
    {
     "name": "stdout",
     "output_type": "stream",
     "text": [
      "https://es.adforum.com/award-organization/6651677/showcase/winners?distinction_category=Generative%20Creative\n",
      "sent extraction over\n",
      "Done\n",
      "PepsiCo Inc.\n",
      "Calling the search\n",
      "Search complete\n",
      "Response call\n",
      "https://analyticsindiamag.com/how-coca-cola-and-pepsico-use-ai-to-bubble-up-innovation/\n",
      "sent extraction over\n",
      "Response call\n"
     ]
    },
    {
     "name": "stderr",
     "output_type": "stream",
     "text": [
      "Your max_length is set to 50, but your input_length is only 3. Since this is a summarization task, where outputs shorter than the input are typically wanted, you might consider decreasing max_length manually, e.g. summarizer('...', max_length=1)\n"
     ]
    },
    {
     "name": "stdout",
     "output_type": "stream",
     "text": [
      "https://www.foxbusiness.com/markets/pepsi-using-ai-track-consumer-demand-speed-up-product-development\n",
      "sent extraction over\n",
      "Response call\n",
      "https://www.prnewswire.com/news-releases/pepsico-collaborates-with-stanford-institute-for-human-centered-artificial-intelligence-to-shape-responsible-ai-standards-301867270.html\n"
     ]
    },
    {
     "name": "stderr",
     "output_type": "stream",
     "text": [
      "Your max_length is set to 50, but your input_length is only 3. Since this is a summarization task, where outputs shorter than the input are typically wanted, you might consider decreasing max_length manually, e.g. summarizer('...', max_length=1)\n"
     ]
    },
    {
     "name": "stdout",
     "output_type": "stream",
     "text": [
      "sent extraction over\n",
      "Response call\n"
     ]
    },
    {
     "name": "stderr",
     "output_type": "stream",
     "text": [
      "Your max_length is set to 50, but your input_length is only 3. Since this is a summarization task, where outputs shorter than the input are typically wanted, you might consider decreasing max_length manually, e.g. summarizer('...', max_length=1)\n"
     ]
    },
    {
     "name": "stdout",
     "output_type": "stream",
     "text": [
      "https://www.blockchain-council.org/news/pepsico-collaborates-with-stanford-hai-to-lead-the-way-in-responsible-ai-and-industrial-applications/\n",
      "sent extraction over\n",
      "Response call\n"
     ]
    },
    {
     "name": "stderr",
     "output_type": "stream",
     "text": [
      "Your max_length is set to 50, but your input_length is only 3. Since this is a summarization task, where outputs shorter than the input are typically wanted, you might consider decreasing max_length manually, e.g. summarizer('...', max_length=1)\n"
     ]
    },
    {
     "name": "stdout",
     "output_type": "stream",
     "text": [
      "https://siliconangle.com/2022/06/28/ai-machine-learning-critical-pepsicos-ecommerce-efforts-reinvent/\n",
      "sent extraction over\n",
      "Response call\n",
      "Failed to retrieve https://www.wsj.com/articles/predictive-maintenance-tech-is-taking-off-as-manufacturers-seek-more-efficiency-11662543000: Status code 403\n"
     ]
    },
    {
     "name": "stderr",
     "output_type": "stream",
     "text": [
      "Your max_length is set to 50, but your input_length is only 3. Since this is a summarization task, where outputs shorter than the input are typically wanted, you might consider decreasing max_length manually, e.g. summarizer('...', max_length=1)\n"
     ]
    },
    {
     "name": "stdout",
     "output_type": "stream",
     "text": [
      "sent extraction over\n",
      "Response call\n"
     ]
    },
    {
     "name": "stderr",
     "output_type": "stream",
     "text": [
      "Your max_length is set to 50, but your input_length is only 3. Since this is a summarization task, where outputs shorter than the input are typically wanted, you might consider decreasing max_length manually, e.g. summarizer('...', max_length=1)\n"
     ]
    },
    {
     "name": "stdout",
     "output_type": "stream",
     "text": [
      "https://www.ciodive.com/news/pepsico-prepares-technology-to-streamline-supply-chain-global-operations/548917/\n",
      "sent extraction over\n",
      "Response call\n"
     ]
    },
    {
     "name": "stderr",
     "output_type": "stream",
     "text": [
      "Your max_length is set to 50, but your input_length is only 3. Since this is a summarization task, where outputs shorter than the input are typically wanted, you might consider decreasing max_length manually, e.g. summarizer('...', max_length=1)\n"
     ]
    },
    {
     "name": "stdout",
     "output_type": "stream",
     "text": [
      "https://www.theglobeandmail.com/investing/markets/indices/IXHC/pressreleases/23960721/pepsico-profit-gets-a-bump-as-charges-fade-though-revenue-slips-in-fourth-quarter/\n",
      "sent extraction over\n",
      "Done\n",
      "PolEnergia S.A.\n",
      "Calling the search\n",
      "Search complete\n",
      "Response call\n"
     ]
    },
    {
     "name": "stderr",
     "output_type": "stream",
     "text": [
      "Your max_length is set to 50, but your input_length is only 3. Since this is a summarization task, where outputs shorter than the input are typically wanted, you might consider decreasing max_length manually, e.g. summarizer('...', max_length=1)\n"
     ]
    },
    {
     "name": "stdout",
     "output_type": "stream",
     "text": [
      "https://www.linkedin.com/posts/albert-chudyba-a5a41739_h2-hydrogen-wielkopolska-activity-6995033169490001920--5D5\n",
      "sent extraction over\n",
      "Response call\n"
     ]
    },
    {
     "name": "stderr",
     "output_type": "stream",
     "text": [
      "Your max_length is set to 50, but your input_length is only 3. Since this is a summarization task, where outputs shorter than the input are typically wanted, you might consider decreasing max_length manually, e.g. summarizer('...', max_length=1)\n"
     ]
    },
    {
     "name": "stdout",
     "output_type": "stream",
     "text": [
      "https://www.linkedin.com/posts/albert-chudyba-a5a41739_hy2infra-ipcei-h2silesia-activity-7166424084124311552-SnTg\n",
      "sent extraction over\n",
      "Done\n",
      "Adobe Inc.\n",
      "Calling the search\n",
      "Search complete\n",
      "Response call\n",
      "https://helpx.adobe.com/acrobat/using/generative-ai.html\n",
      "sent extraction over\n",
      "Response call\n",
      "https://helpx.adobe.com/creative-cloud/generative-ai-overview.html\n",
      "sent extraction over\n",
      "Response call\n",
      "https://www.adobe.com/sensei/generative-ai.html\n",
      "sent extraction over\n",
      "Response call\n",
      "https://www.adobe.com/gr_en/sensei/generative-ai.html\n",
      "sent extraction over\n",
      "Response call\n",
      "https://www.adobe.com/about-adobe/aiethics.html\n",
      "sent extraction over\n",
      "Response call\n",
      "https://blog.adobe.com/en/publish/2023/03/21/bringing-gen-ai-to-creative-cloud-adobe-firefly\n",
      "sent extraction over\n",
      "Response call\n",
      "Request timed out for https://business.adobe.com/products/sensei/adobe-sensei-genai.html. Attempting with Selenium.\n",
      "sent extraction over\n",
      "Response call\n",
      "https://www.adobe.com/products/firefly/discover/how-generative-ai-work.html\n",
      "sent extraction over\n",
      "Done\n",
      "Lindian Resources Ltd.\n",
      "Calling the search\n",
      "Search complete\n",
      "Response call\n",
      "Failed to retrieve https://www.proactiveinvestors.com/companies/news/1041198/lindian-resources-makes-high-grade-ree-discovery-1041198.html: Status code 403\n"
     ]
    },
    {
     "name": "stderr",
     "output_type": "stream",
     "text": [
      "Your max_length is set to 50, but your input_length is only 35. Since this is a summarization task, where outputs shorter than the input are typically wanted, you might consider decreasing max_length manually, e.g. summarizer('...', max_length=17)\n"
     ]
    },
    {
     "name": "stdout",
     "output_type": "stream",
     "text": [
      "sent extraction over\n",
      "Response call\n",
      "Failed to retrieve https://www.proactiveinvestors.co.uk/companies/news/1042598/lindian-resources-fields-more-broad-rare-earth-intersections-and-consistent-high-grades-at-kangankunde-1042598.html: Status code 403\n"
     ]
    },
    {
     "name": "stderr",
     "output_type": "stream",
     "text": [
      "Your max_length is set to 50, but your input_length is only 35. Since this is a summarization task, where outputs shorter than the input are typically wanted, you might consider decreasing max_length manually, e.g. summarizer('...', max_length=17)\n"
     ]
    },
    {
     "name": "stdout",
     "output_type": "stream",
     "text": [
      "sent extraction over\n",
      "Response call\n"
     ]
    },
    {
     "name": "stderr",
     "output_type": "stream",
     "text": [
      "Your max_length is set to 50, but your input_length is only 3. Since this is a summarization task, where outputs shorter than the input are typically wanted, you might consider decreasing max_length manually, e.g. summarizer('...', max_length=1)\n"
     ]
    },
    {
     "name": "stdout",
     "output_type": "stream",
     "text": [
      "https://www.spglobal.com/marketintelligence/en/news-insights/trending/klw5yqp2_gcacpnlx09mra2\n",
      "sent extraction over\n",
      "Response call\n",
      "Failed to retrieve https://www.snn.network/company/C-3DD32C4536551/news/7995461441384718: Status code 200\n"
     ]
    },
    {
     "name": "stderr",
     "output_type": "stream",
     "text": [
      "Your max_length is set to 50, but your input_length is only 3. Since this is a summarization task, where outputs shorter than the input are typically wanted, you might consider decreasing max_length manually, e.g. summarizer('...', max_length=1)\n"
     ]
    },
    {
     "name": "stdout",
     "output_type": "stream",
     "text": [
      "sent extraction over\n",
      "Response call\n",
      "Failed to retrieve https://uk.marketscreener.com/search/news?q=bet%20super,%20%5Bwww.inz9my.com%5D,%20nova88%20bet%20login,sky%20bet,nova88%20bet,spbo%20bet%20live%20score,lives%20bet,bet888%20free%20bet,big%20bet%20korean%20drama,bonus888%20bet,twc%20bet,%20%5Bwww.inz9my.com%5D.bwp: Status code 403\n"
     ]
    },
    {
     "name": "stderr",
     "output_type": "stream",
     "text": [
      "Your max_length is set to 50, but your input_length is only 3. Since this is a summarization task, where outputs shorter than the input are typically wanted, you might consider decreasing max_length manually, e.g. summarizer('...', max_length=1)\n"
     ]
    },
    {
     "name": "stdout",
     "output_type": "stream",
     "text": [
      "sent extraction over\n",
      "Response call\n",
      "https://static.quandl.com/coverage/XSTU_tickers.csv\n",
      "sent extraction over\n",
      "Response call\n",
      "Failed to retrieve https://www.kaiserresearch.com/s8/Education.asp?ReportID=924515: Status code 403\n"
     ]
    },
    {
     "name": "stderr",
     "output_type": "stream",
     "text": [
      "Your max_length is set to 50, but your input_length is only 3. Since this is a summarization task, where outputs shorter than the input are typically wanted, you might consider decreasing max_length manually, e.g. summarizer('...', max_length=1)\n"
     ]
    },
    {
     "name": "stdout",
     "output_type": "stream",
     "text": [
      "sent extraction over\n",
      "Response call\n",
      "https://www.newsfilecorp.com/sitemap-news.php\n"
     ]
    },
    {
     "name": "stderr",
     "output_type": "stream",
     "text": [
      "/Users/allensunny/anaconda3/envs/oxford_new/lib/python3.12/html/parser.py:171: XMLParsedAsHTMLWarning: It looks like you're parsing an XML document using an HTML parser. If this really is an HTML document (maybe it's XHTML?), you can ignore or filter this warning. If it's XML, you should know that using an XML parser will be more reliable. To parse this document as XML, make sure you have the lxml package installed, and pass the keyword argument `features=\"xml\"` into the BeautifulSoup constructor.\n",
      "  k = self.parse_starttag(i)\n"
     ]
    },
    {
     "name": "stdout",
     "output_type": "stream",
     "text": [
      "sent extraction over\n"
     ]
    }
   ],
   "source": [
    "results = []  # This will hold the results from all companies\n",
    "\n",
    "for index, row in Companies_list.iloc[20:].iterrows():\n",
    "    try:\n",
    "        # Fetch and summarize data for the current company\n",
    "        company_result = fetch_and_summarize_company_ai_usage(row['Company Name'], row['Country'], row['SuperSector'], row['Language Code'])\n",
    "        results.append(company_result)\n",
    "        print('Done')\n",
    "\n",
    "        # Convert the list of results to a DataFrame\n",
    "        interim_results_df = pd.concat(results, ignore_index=True)\n",
    "\n",
    "        # Save the interim results to a file after each successful iteration\n",
    "        # You can choose a different format like Excel (to_excel) or a database\n",
    "        interim_results_df.to_csv('interim_results_10.csv', index=False)\n",
    "        \n",
    "        delay = random.randint(45,65)\n",
    "        time.sleep(delay)\n",
    "    \n",
    "    except Exception as e:\n",
    "        print(f\"An error occurred while processing {row['Name']}: {e}\")\n",
    "        # You can choose to log the error or perform other error handling here\n",
    "\n",
    "# Once the loop is complete, load the saved data\n",
    "final_results_df = pd.read_csv('final_results.csv')"
   ]
  },
  {
   "cell_type": "code",
   "execution_count": null,
   "id": "9c7159c4-97d8-4183-b266-fb95cf54a1ff",
   "metadata": {},
   "outputs": [],
   "source": [
    "#Foundational model generators code: "
   ]
  },
  {
   "cell_type": "code",
   "execution_count": 105,
   "id": "f3cea676-97c5-4367-b626-df53a8301ed8",
   "metadata": {},
   "outputs": [
    {
     "data": {
      "text/html": [
       "<div>\n",
       "<style scoped>\n",
       "    .dataframe tbody tr th:only-of-type {\n",
       "        vertical-align: middle;\n",
       "    }\n",
       "\n",
       "    .dataframe tbody tr th {\n",
       "        vertical-align: top;\n",
       "    }\n",
       "\n",
       "    .dataframe thead th {\n",
       "        text-align: right;\n",
       "    }\n",
       "</style>\n",
       "<table border=\"1\" class=\"dataframe\">\n",
       "  <thead>\n",
       "    <tr style=\"text-align: right;\">\n",
       "      <th></th>\n",
       "      <th>Name</th>\n",
       "      <th>Exchange</th>\n",
       "      <th>SuperSector</th>\n",
       "      <th>Country</th>\n",
       "      <th>Rank</th>\n",
       "      <th>marketcap</th>\n",
       "      <th>Language Code</th>\n",
       "      <th>Language</th>\n",
       "    </tr>\n",
       "  </thead>\n",
       "  <tbody>\n",
       "    <tr>\n",
       "      <th>0</th>\n",
       "      <td>Microsoft Corp.(MSFT)</td>\n",
       "      <td>XMEX</td>\n",
       "      <td>Software</td>\n",
       "      <td>Mexico</td>\n",
       "      <td>1.0</td>\n",
       "      <td>3.159646e+12</td>\n",
       "      <td>lang_es</td>\n",
       "      <td>Spanish</td>\n",
       "    </tr>\n",
       "    <tr>\n",
       "      <th>1</th>\n",
       "      <td>Microsoft Corp.(MSFT)</td>\n",
       "      <td>XWBO</td>\n",
       "      <td>Software</td>\n",
       "      <td>Austria</td>\n",
       "      <td>1.0</td>\n",
       "      <td>3.159646e+12</td>\n",
       "      <td>lang_en</td>\n",
       "      <td>NaN</td>\n",
       "    </tr>\n",
       "    <tr>\n",
       "      <th>2</th>\n",
       "      <td>Apple Inc.(AAPL)</td>\n",
       "      <td>XLIM</td>\n",
       "      <td>Computers/Consumer Electronics</td>\n",
       "      <td>Peru</td>\n",
       "      <td>2.0</td>\n",
       "      <td>2.759004e+12</td>\n",
       "      <td>lang_es</td>\n",
       "      <td>Spanish</td>\n",
       "    </tr>\n",
       "    <tr>\n",
       "      <th>3</th>\n",
       "      <td>Apple Inc.(AAPL)</td>\n",
       "      <td>XWBO</td>\n",
       "      <td>Computers/Consumer Electronics</td>\n",
       "      <td>Austria</td>\n",
       "      <td>2.0</td>\n",
       "      <td>2.759004e+12</td>\n",
       "      <td>lang_en</td>\n",
       "      <td>NaN</td>\n",
       "    </tr>\n",
       "    <tr>\n",
       "      <th>4</th>\n",
       "      <td>NVIDIA Corp.(NVDA)</td>\n",
       "      <td>XNAS</td>\n",
       "      <td>Semiconductors</td>\n",
       "      <td>United States</td>\n",
       "      <td>3.0</td>\n",
       "      <td>2.259300e+12</td>\n",
       "      <td>lang_en</td>\n",
       "      <td>English</td>\n",
       "    </tr>\n",
       "  </tbody>\n",
       "</table>\n",
       "</div>"
      ],
      "text/plain": [
       "                    Name Exchange                     SuperSector  \\\n",
       "0  Microsoft Corp.(MSFT)     XMEX                        Software   \n",
       "1  Microsoft Corp.(MSFT)     XWBO                        Software   \n",
       "2       Apple Inc.(AAPL)     XLIM  Computers/Consumer Electronics   \n",
       "3       Apple Inc.(AAPL)     XWBO  Computers/Consumer Electronics   \n",
       "4     NVIDIA Corp.(NVDA)     XNAS                  Semiconductors   \n",
       "\n",
       "         Country  Rank     marketcap Language Code Language  \n",
       "0         Mexico   1.0  3.159646e+12       lang_es  Spanish  \n",
       "1        Austria   1.0  3.159646e+12       lang_en      NaN  \n",
       "2           Peru   2.0  2.759004e+12       lang_es  Spanish  \n",
       "3        Austria   2.0  2.759004e+12       lang_en      NaN  \n",
       "4  United States   3.0  2.259300e+12       lang_en  English  "
      ]
     },
     "execution_count": 105,
     "metadata": {},
     "output_type": "execute_result"
    }
   ],
   "source": [
    "Companies_list.head()"
   ]
  },
  {
   "cell_type": "code",
   "execution_count": 50,
   "id": "8b43cae1-4bb6-4548-b2be-0b30baf8eaff",
   "metadata": {
    "collapsed": true,
    "jupyter": {
     "outputs_hidden": true
    }
   },
   "outputs": [
    {
     "name": "stdout",
     "output_type": "stream",
     "text": [
      "Microsoft Corp.(MSFT)\n",
      "Calling the search\n",
      "Search complete\n"
     ]
    },
    {
     "ename": "KeyboardInterrupt",
     "evalue": "",
     "output_type": "error",
     "traceback": [
      "\u001b[0;31m---------------------------------------------------------------------------\u001b[0m",
      "\u001b[0;31mKeyboardInterrupt\u001b[0m                         Traceback (most recent call last)",
      "Cell \u001b[0;32mIn[50], line 1\u001b[0m\n\u001b[0;32m----> 1\u001b[0m company_result \u001b[38;5;241m=\u001b[39m \u001b[43mfetch_and_summarize_company_ai_usage\u001b[49m\u001b[43m(\u001b[49m\u001b[43mrow\u001b[49m\u001b[43m[\u001b[49m\u001b[38;5;124;43m'\u001b[39;49m\u001b[38;5;124;43mName\u001b[39;49m\u001b[38;5;124;43m'\u001b[39;49m\u001b[43m]\u001b[49m\u001b[43m,\u001b[49m\u001b[43m \u001b[49m\u001b[43mrow\u001b[49m\u001b[43m[\u001b[49m\u001b[38;5;124;43m'\u001b[39;49m\u001b[38;5;124;43mCountry\u001b[39;49m\u001b[38;5;124;43m'\u001b[39;49m\u001b[43m]\u001b[49m\u001b[43m,\u001b[49m\u001b[43m \u001b[49m\u001b[43mrow\u001b[49m\u001b[43m[\u001b[49m\u001b[38;5;124;43m'\u001b[39;49m\u001b[38;5;124;43mSuperSector\u001b[39;49m\u001b[38;5;124;43m'\u001b[39;49m\u001b[43m]\u001b[49m\u001b[43m,\u001b[49m\u001b[43m \u001b[49m\u001b[43mrow\u001b[49m\u001b[43m[\u001b[49m\u001b[38;5;124;43m'\u001b[39;49m\u001b[38;5;124;43mLanguage Code\u001b[39;49m\u001b[38;5;124;43m'\u001b[39;49m\u001b[43m]\u001b[49m\u001b[43m)\u001b[49m\n",
      "Cell \u001b[0;32mIn[49], line 59\u001b[0m, in \u001b[0;36mfetch_and_summarize_company_ai_usage\u001b[0;34m(company_name, country, Supersector, lang)\u001b[0m\n\u001b[1;32m     54\u001b[0m     \u001b[38;5;28;01mcontinue\u001b[39;00m  \u001b[38;5;66;03m# Skip PDF files  \u001b[39;00m\n\u001b[1;32m     56\u001b[0m \u001b[38;5;28;01mtry\u001b[39;00m:\n\u001b[1;32m     57\u001b[0m     \u001b[38;5;66;03m#print(\"Response call\")\u001b[39;00m\n\u001b[0;32m---> 59\u001b[0m     response \u001b[38;5;241m=\u001b[39m \u001b[43mrequests\u001b[49m\u001b[38;5;241;43m.\u001b[39;49m\u001b[43mget\u001b[49m\u001b[43m(\u001b[49m\u001b[43murl\u001b[49m\u001b[43m)\u001b[49m\n\u001b[1;32m     60\u001b[0m     response\u001b[38;5;241m.\u001b[39mraise_for_status()  \u001b[38;5;66;03m# This will directly raise an exception for HTTP errors\u001b[39;00m\n\u001b[1;32m     61\u001b[0m     page_source \u001b[38;5;241m=\u001b[39m response\u001b[38;5;241m.\u001b[39mtext\n",
      "File \u001b[0;32m~/anaconda3/envs/oxford_new/lib/python3.12/site-packages/requests/api.py:73\u001b[0m, in \u001b[0;36mget\u001b[0;34m(url, params, **kwargs)\u001b[0m\n\u001b[1;32m     62\u001b[0m \u001b[38;5;28;01mdef\u001b[39;00m \u001b[38;5;21mget\u001b[39m(url, params\u001b[38;5;241m=\u001b[39m\u001b[38;5;28;01mNone\u001b[39;00m, \u001b[38;5;241m*\u001b[39m\u001b[38;5;241m*\u001b[39mkwargs):\n\u001b[1;32m     63\u001b[0m \u001b[38;5;250m    \u001b[39m\u001b[38;5;124mr\u001b[39m\u001b[38;5;124;03m\"\"\"Sends a GET request.\u001b[39;00m\n\u001b[1;32m     64\u001b[0m \n\u001b[1;32m     65\u001b[0m \u001b[38;5;124;03m    :param url: URL for the new :class:`Request` object.\u001b[39;00m\n\u001b[0;32m   (...)\u001b[0m\n\u001b[1;32m     70\u001b[0m \u001b[38;5;124;03m    :rtype: requests.Response\u001b[39;00m\n\u001b[1;32m     71\u001b[0m \u001b[38;5;124;03m    \"\"\"\u001b[39;00m\n\u001b[0;32m---> 73\u001b[0m     \u001b[38;5;28;01mreturn\u001b[39;00m \u001b[43mrequest\u001b[49m\u001b[43m(\u001b[49m\u001b[38;5;124;43m\"\u001b[39;49m\u001b[38;5;124;43mget\u001b[39;49m\u001b[38;5;124;43m\"\u001b[39;49m\u001b[43m,\u001b[49m\u001b[43m \u001b[49m\u001b[43murl\u001b[49m\u001b[43m,\u001b[49m\u001b[43m \u001b[49m\u001b[43mparams\u001b[49m\u001b[38;5;241;43m=\u001b[39;49m\u001b[43mparams\u001b[49m\u001b[43m,\u001b[49m\u001b[43m \u001b[49m\u001b[38;5;241;43m*\u001b[39;49m\u001b[38;5;241;43m*\u001b[39;49m\u001b[43mkwargs\u001b[49m\u001b[43m)\u001b[49m\n",
      "File \u001b[0;32m~/anaconda3/envs/oxford_new/lib/python3.12/site-packages/requests/api.py:59\u001b[0m, in \u001b[0;36mrequest\u001b[0;34m(method, url, **kwargs)\u001b[0m\n\u001b[1;32m     55\u001b[0m \u001b[38;5;66;03m# By using the 'with' statement we are sure the session is closed, thus we\u001b[39;00m\n\u001b[1;32m     56\u001b[0m \u001b[38;5;66;03m# avoid leaving sockets open which can trigger a ResourceWarning in some\u001b[39;00m\n\u001b[1;32m     57\u001b[0m \u001b[38;5;66;03m# cases, and look like a memory leak in others.\u001b[39;00m\n\u001b[1;32m     58\u001b[0m \u001b[38;5;28;01mwith\u001b[39;00m sessions\u001b[38;5;241m.\u001b[39mSession() \u001b[38;5;28;01mas\u001b[39;00m session:\n\u001b[0;32m---> 59\u001b[0m     \u001b[38;5;28;01mreturn\u001b[39;00m \u001b[43msession\u001b[49m\u001b[38;5;241;43m.\u001b[39;49m\u001b[43mrequest\u001b[49m\u001b[43m(\u001b[49m\u001b[43mmethod\u001b[49m\u001b[38;5;241;43m=\u001b[39;49m\u001b[43mmethod\u001b[49m\u001b[43m,\u001b[49m\u001b[43m \u001b[49m\u001b[43murl\u001b[49m\u001b[38;5;241;43m=\u001b[39;49m\u001b[43murl\u001b[49m\u001b[43m,\u001b[49m\u001b[43m \u001b[49m\u001b[38;5;241;43m*\u001b[39;49m\u001b[38;5;241;43m*\u001b[39;49m\u001b[43mkwargs\u001b[49m\u001b[43m)\u001b[49m\n",
      "File \u001b[0;32m~/anaconda3/envs/oxford_new/lib/python3.12/site-packages/requests/sessions.py:589\u001b[0m, in \u001b[0;36mSession.request\u001b[0;34m(self, method, url, params, data, headers, cookies, files, auth, timeout, allow_redirects, proxies, hooks, stream, verify, cert, json)\u001b[0m\n\u001b[1;32m    584\u001b[0m send_kwargs \u001b[38;5;241m=\u001b[39m {\n\u001b[1;32m    585\u001b[0m     \u001b[38;5;124m\"\u001b[39m\u001b[38;5;124mtimeout\u001b[39m\u001b[38;5;124m\"\u001b[39m: timeout,\n\u001b[1;32m    586\u001b[0m     \u001b[38;5;124m\"\u001b[39m\u001b[38;5;124mallow_redirects\u001b[39m\u001b[38;5;124m\"\u001b[39m: allow_redirects,\n\u001b[1;32m    587\u001b[0m }\n\u001b[1;32m    588\u001b[0m send_kwargs\u001b[38;5;241m.\u001b[39mupdate(settings)\n\u001b[0;32m--> 589\u001b[0m resp \u001b[38;5;241m=\u001b[39m \u001b[38;5;28;43mself\u001b[39;49m\u001b[38;5;241;43m.\u001b[39;49m\u001b[43msend\u001b[49m\u001b[43m(\u001b[49m\u001b[43mprep\u001b[49m\u001b[43m,\u001b[49m\u001b[43m \u001b[49m\u001b[38;5;241;43m*\u001b[39;49m\u001b[38;5;241;43m*\u001b[39;49m\u001b[43msend_kwargs\u001b[49m\u001b[43m)\u001b[49m\n\u001b[1;32m    591\u001b[0m \u001b[38;5;28;01mreturn\u001b[39;00m resp\n",
      "File \u001b[0;32m~/anaconda3/envs/oxford_new/lib/python3.12/site-packages/requests/sessions.py:703\u001b[0m, in \u001b[0;36mSession.send\u001b[0;34m(self, request, **kwargs)\u001b[0m\n\u001b[1;32m    700\u001b[0m start \u001b[38;5;241m=\u001b[39m preferred_clock()\n\u001b[1;32m    702\u001b[0m \u001b[38;5;66;03m# Send the request\u001b[39;00m\n\u001b[0;32m--> 703\u001b[0m r \u001b[38;5;241m=\u001b[39m \u001b[43madapter\u001b[49m\u001b[38;5;241;43m.\u001b[39;49m\u001b[43msend\u001b[49m\u001b[43m(\u001b[49m\u001b[43mrequest\u001b[49m\u001b[43m,\u001b[49m\u001b[43m \u001b[49m\u001b[38;5;241;43m*\u001b[39;49m\u001b[38;5;241;43m*\u001b[39;49m\u001b[43mkwargs\u001b[49m\u001b[43m)\u001b[49m\n\u001b[1;32m    705\u001b[0m \u001b[38;5;66;03m# Total elapsed time of the request (approximately)\u001b[39;00m\n\u001b[1;32m    706\u001b[0m elapsed \u001b[38;5;241m=\u001b[39m preferred_clock() \u001b[38;5;241m-\u001b[39m start\n",
      "File \u001b[0;32m~/anaconda3/envs/oxford_new/lib/python3.12/site-packages/requests/adapters.py:486\u001b[0m, in \u001b[0;36mHTTPAdapter.send\u001b[0;34m(self, request, stream, timeout, verify, cert, proxies)\u001b[0m\n\u001b[1;32m    483\u001b[0m     timeout \u001b[38;5;241m=\u001b[39m TimeoutSauce(connect\u001b[38;5;241m=\u001b[39mtimeout, read\u001b[38;5;241m=\u001b[39mtimeout)\n\u001b[1;32m    485\u001b[0m \u001b[38;5;28;01mtry\u001b[39;00m:\n\u001b[0;32m--> 486\u001b[0m     resp \u001b[38;5;241m=\u001b[39m \u001b[43mconn\u001b[49m\u001b[38;5;241;43m.\u001b[39;49m\u001b[43murlopen\u001b[49m\u001b[43m(\u001b[49m\n\u001b[1;32m    487\u001b[0m \u001b[43m        \u001b[49m\u001b[43mmethod\u001b[49m\u001b[38;5;241;43m=\u001b[39;49m\u001b[43mrequest\u001b[49m\u001b[38;5;241;43m.\u001b[39;49m\u001b[43mmethod\u001b[49m\u001b[43m,\u001b[49m\n\u001b[1;32m    488\u001b[0m \u001b[43m        \u001b[49m\u001b[43murl\u001b[49m\u001b[38;5;241;43m=\u001b[39;49m\u001b[43murl\u001b[49m\u001b[43m,\u001b[49m\n\u001b[1;32m    489\u001b[0m \u001b[43m        \u001b[49m\u001b[43mbody\u001b[49m\u001b[38;5;241;43m=\u001b[39;49m\u001b[43mrequest\u001b[49m\u001b[38;5;241;43m.\u001b[39;49m\u001b[43mbody\u001b[49m\u001b[43m,\u001b[49m\n\u001b[1;32m    490\u001b[0m \u001b[43m        \u001b[49m\u001b[43mheaders\u001b[49m\u001b[38;5;241;43m=\u001b[39;49m\u001b[43mrequest\u001b[49m\u001b[38;5;241;43m.\u001b[39;49m\u001b[43mheaders\u001b[49m\u001b[43m,\u001b[49m\n\u001b[1;32m    491\u001b[0m \u001b[43m        \u001b[49m\u001b[43mredirect\u001b[49m\u001b[38;5;241;43m=\u001b[39;49m\u001b[38;5;28;43;01mFalse\u001b[39;49;00m\u001b[43m,\u001b[49m\n\u001b[1;32m    492\u001b[0m \u001b[43m        \u001b[49m\u001b[43massert_same_host\u001b[49m\u001b[38;5;241;43m=\u001b[39;49m\u001b[38;5;28;43;01mFalse\u001b[39;49;00m\u001b[43m,\u001b[49m\n\u001b[1;32m    493\u001b[0m \u001b[43m        \u001b[49m\u001b[43mpreload_content\u001b[49m\u001b[38;5;241;43m=\u001b[39;49m\u001b[38;5;28;43;01mFalse\u001b[39;49;00m\u001b[43m,\u001b[49m\n\u001b[1;32m    494\u001b[0m \u001b[43m        \u001b[49m\u001b[43mdecode_content\u001b[49m\u001b[38;5;241;43m=\u001b[39;49m\u001b[38;5;28;43;01mFalse\u001b[39;49;00m\u001b[43m,\u001b[49m\n\u001b[1;32m    495\u001b[0m \u001b[43m        \u001b[49m\u001b[43mretries\u001b[49m\u001b[38;5;241;43m=\u001b[39;49m\u001b[38;5;28;43mself\u001b[39;49m\u001b[38;5;241;43m.\u001b[39;49m\u001b[43mmax_retries\u001b[49m\u001b[43m,\u001b[49m\n\u001b[1;32m    496\u001b[0m \u001b[43m        \u001b[49m\u001b[43mtimeout\u001b[49m\u001b[38;5;241;43m=\u001b[39;49m\u001b[43mtimeout\u001b[49m\u001b[43m,\u001b[49m\n\u001b[1;32m    497\u001b[0m \u001b[43m        \u001b[49m\u001b[43mchunked\u001b[49m\u001b[38;5;241;43m=\u001b[39;49m\u001b[43mchunked\u001b[49m\u001b[43m,\u001b[49m\n\u001b[1;32m    498\u001b[0m \u001b[43m    \u001b[49m\u001b[43m)\u001b[49m\n\u001b[1;32m    500\u001b[0m \u001b[38;5;28;01mexcept\u001b[39;00m (ProtocolError, \u001b[38;5;167;01mOSError\u001b[39;00m) \u001b[38;5;28;01mas\u001b[39;00m err:\n\u001b[1;32m    501\u001b[0m     \u001b[38;5;28;01mraise\u001b[39;00m \u001b[38;5;167;01mConnectionError\u001b[39;00m(err, request\u001b[38;5;241m=\u001b[39mrequest)\n",
      "File \u001b[0;32m~/anaconda3/envs/oxford_new/lib/python3.12/site-packages/urllib3/connectionpool.py:793\u001b[0m, in \u001b[0;36mHTTPConnectionPool.urlopen\u001b[0;34m(self, method, url, body, headers, retries, redirect, assert_same_host, timeout, pool_timeout, release_conn, chunked, body_pos, preload_content, decode_content, **response_kw)\u001b[0m\n\u001b[1;32m    790\u001b[0m response_conn \u001b[38;5;241m=\u001b[39m conn \u001b[38;5;28;01mif\u001b[39;00m \u001b[38;5;129;01mnot\u001b[39;00m release_conn \u001b[38;5;28;01melse\u001b[39;00m \u001b[38;5;28;01mNone\u001b[39;00m\n\u001b[1;32m    792\u001b[0m \u001b[38;5;66;03m# Make the request on the HTTPConnection object\u001b[39;00m\n\u001b[0;32m--> 793\u001b[0m response \u001b[38;5;241m=\u001b[39m \u001b[38;5;28;43mself\u001b[39;49m\u001b[38;5;241;43m.\u001b[39;49m\u001b[43m_make_request\u001b[49m\u001b[43m(\u001b[49m\n\u001b[1;32m    794\u001b[0m \u001b[43m    \u001b[49m\u001b[43mconn\u001b[49m\u001b[43m,\u001b[49m\n\u001b[1;32m    795\u001b[0m \u001b[43m    \u001b[49m\u001b[43mmethod\u001b[49m\u001b[43m,\u001b[49m\n\u001b[1;32m    796\u001b[0m \u001b[43m    \u001b[49m\u001b[43murl\u001b[49m\u001b[43m,\u001b[49m\n\u001b[1;32m    797\u001b[0m \u001b[43m    \u001b[49m\u001b[43mtimeout\u001b[49m\u001b[38;5;241;43m=\u001b[39;49m\u001b[43mtimeout_obj\u001b[49m\u001b[43m,\u001b[49m\n\u001b[1;32m    798\u001b[0m \u001b[43m    \u001b[49m\u001b[43mbody\u001b[49m\u001b[38;5;241;43m=\u001b[39;49m\u001b[43mbody\u001b[49m\u001b[43m,\u001b[49m\n\u001b[1;32m    799\u001b[0m \u001b[43m    \u001b[49m\u001b[43mheaders\u001b[49m\u001b[38;5;241;43m=\u001b[39;49m\u001b[43mheaders\u001b[49m\u001b[43m,\u001b[49m\n\u001b[1;32m    800\u001b[0m \u001b[43m    \u001b[49m\u001b[43mchunked\u001b[49m\u001b[38;5;241;43m=\u001b[39;49m\u001b[43mchunked\u001b[49m\u001b[43m,\u001b[49m\n\u001b[1;32m    801\u001b[0m \u001b[43m    \u001b[49m\u001b[43mretries\u001b[49m\u001b[38;5;241;43m=\u001b[39;49m\u001b[43mretries\u001b[49m\u001b[43m,\u001b[49m\n\u001b[1;32m    802\u001b[0m \u001b[43m    \u001b[49m\u001b[43mresponse_conn\u001b[49m\u001b[38;5;241;43m=\u001b[39;49m\u001b[43mresponse_conn\u001b[49m\u001b[43m,\u001b[49m\n\u001b[1;32m    803\u001b[0m \u001b[43m    \u001b[49m\u001b[43mpreload_content\u001b[49m\u001b[38;5;241;43m=\u001b[39;49m\u001b[43mpreload_content\u001b[49m\u001b[43m,\u001b[49m\n\u001b[1;32m    804\u001b[0m \u001b[43m    \u001b[49m\u001b[43mdecode_content\u001b[49m\u001b[38;5;241;43m=\u001b[39;49m\u001b[43mdecode_content\u001b[49m\u001b[43m,\u001b[49m\n\u001b[1;32m    805\u001b[0m \u001b[43m    \u001b[49m\u001b[38;5;241;43m*\u001b[39;49m\u001b[38;5;241;43m*\u001b[39;49m\u001b[43mresponse_kw\u001b[49m\u001b[43m,\u001b[49m\n\u001b[1;32m    806\u001b[0m \u001b[43m\u001b[49m\u001b[43m)\u001b[49m\n\u001b[1;32m    808\u001b[0m \u001b[38;5;66;03m# Everything went great!\u001b[39;00m\n\u001b[1;32m    809\u001b[0m clean_exit \u001b[38;5;241m=\u001b[39m \u001b[38;5;28;01mTrue\u001b[39;00m\n",
      "File \u001b[0;32m~/anaconda3/envs/oxford_new/lib/python3.12/site-packages/urllib3/connectionpool.py:537\u001b[0m, in \u001b[0;36mHTTPConnectionPool._make_request\u001b[0;34m(self, conn, method, url, body, headers, retries, timeout, chunked, response_conn, preload_content, decode_content, enforce_content_length)\u001b[0m\n\u001b[1;32m    535\u001b[0m \u001b[38;5;66;03m# Receive the response from the server\u001b[39;00m\n\u001b[1;32m    536\u001b[0m \u001b[38;5;28;01mtry\u001b[39;00m:\n\u001b[0;32m--> 537\u001b[0m     response \u001b[38;5;241m=\u001b[39m \u001b[43mconn\u001b[49m\u001b[38;5;241;43m.\u001b[39;49m\u001b[43mgetresponse\u001b[49m\u001b[43m(\u001b[49m\u001b[43m)\u001b[49m\n\u001b[1;32m    538\u001b[0m \u001b[38;5;28;01mexcept\u001b[39;00m (BaseSSLError, \u001b[38;5;167;01mOSError\u001b[39;00m) \u001b[38;5;28;01mas\u001b[39;00m e:\n\u001b[1;32m    539\u001b[0m     \u001b[38;5;28mself\u001b[39m\u001b[38;5;241m.\u001b[39m_raise_timeout(err\u001b[38;5;241m=\u001b[39me, url\u001b[38;5;241m=\u001b[39murl, timeout_value\u001b[38;5;241m=\u001b[39mread_timeout)\n",
      "File \u001b[0;32m~/anaconda3/envs/oxford_new/lib/python3.12/site-packages/urllib3/connection.py:466\u001b[0m, in \u001b[0;36mHTTPConnection.getresponse\u001b[0;34m(self)\u001b[0m\n\u001b[1;32m    463\u001b[0m \u001b[38;5;28;01mfrom\u001b[39;00m \u001b[38;5;21;01m.\u001b[39;00m\u001b[38;5;21;01mresponse\u001b[39;00m \u001b[38;5;28;01mimport\u001b[39;00m HTTPResponse\n\u001b[1;32m    465\u001b[0m \u001b[38;5;66;03m# Get the response from http.client.HTTPConnection\u001b[39;00m\n\u001b[0;32m--> 466\u001b[0m httplib_response \u001b[38;5;241m=\u001b[39m \u001b[38;5;28;43msuper\u001b[39;49m\u001b[43m(\u001b[49m\u001b[43m)\u001b[49m\u001b[38;5;241;43m.\u001b[39;49m\u001b[43mgetresponse\u001b[49m\u001b[43m(\u001b[49m\u001b[43m)\u001b[49m\n\u001b[1;32m    468\u001b[0m \u001b[38;5;28;01mtry\u001b[39;00m:\n\u001b[1;32m    469\u001b[0m     assert_header_parsing(httplib_response\u001b[38;5;241m.\u001b[39mmsg)\n",
      "File \u001b[0;32m~/anaconda3/envs/oxford_new/lib/python3.12/http/client.py:1419\u001b[0m, in \u001b[0;36mHTTPConnection.getresponse\u001b[0;34m(self)\u001b[0m\n\u001b[1;32m   1417\u001b[0m \u001b[38;5;28;01mtry\u001b[39;00m:\n\u001b[1;32m   1418\u001b[0m     \u001b[38;5;28;01mtry\u001b[39;00m:\n\u001b[0;32m-> 1419\u001b[0m         \u001b[43mresponse\u001b[49m\u001b[38;5;241;43m.\u001b[39;49m\u001b[43mbegin\u001b[49m\u001b[43m(\u001b[49m\u001b[43m)\u001b[49m\n\u001b[1;32m   1420\u001b[0m     \u001b[38;5;28;01mexcept\u001b[39;00m \u001b[38;5;167;01mConnectionError\u001b[39;00m:\n\u001b[1;32m   1421\u001b[0m         \u001b[38;5;28mself\u001b[39m\u001b[38;5;241m.\u001b[39mclose()\n",
      "File \u001b[0;32m~/anaconda3/envs/oxford_new/lib/python3.12/http/client.py:331\u001b[0m, in \u001b[0;36mHTTPResponse.begin\u001b[0;34m(self)\u001b[0m\n\u001b[1;32m    329\u001b[0m \u001b[38;5;66;03m# read until we get a non-100 response\u001b[39;00m\n\u001b[1;32m    330\u001b[0m \u001b[38;5;28;01mwhile\u001b[39;00m \u001b[38;5;28;01mTrue\u001b[39;00m:\n\u001b[0;32m--> 331\u001b[0m     version, status, reason \u001b[38;5;241m=\u001b[39m \u001b[38;5;28;43mself\u001b[39;49m\u001b[38;5;241;43m.\u001b[39;49m\u001b[43m_read_status\u001b[49m\u001b[43m(\u001b[49m\u001b[43m)\u001b[49m\n\u001b[1;32m    332\u001b[0m     \u001b[38;5;28;01mif\u001b[39;00m status \u001b[38;5;241m!=\u001b[39m CONTINUE:\n\u001b[1;32m    333\u001b[0m         \u001b[38;5;28;01mbreak\u001b[39;00m\n",
      "File \u001b[0;32m~/anaconda3/envs/oxford_new/lib/python3.12/http/client.py:292\u001b[0m, in \u001b[0;36mHTTPResponse._read_status\u001b[0;34m(self)\u001b[0m\n\u001b[1;32m    291\u001b[0m \u001b[38;5;28;01mdef\u001b[39;00m \u001b[38;5;21m_read_status\u001b[39m(\u001b[38;5;28mself\u001b[39m):\n\u001b[0;32m--> 292\u001b[0m     line \u001b[38;5;241m=\u001b[39m \u001b[38;5;28mstr\u001b[39m(\u001b[38;5;28;43mself\u001b[39;49m\u001b[38;5;241;43m.\u001b[39;49m\u001b[43mfp\u001b[49m\u001b[38;5;241;43m.\u001b[39;49m\u001b[43mreadline\u001b[49m\u001b[43m(\u001b[49m\u001b[43m_MAXLINE\u001b[49m\u001b[43m \u001b[49m\u001b[38;5;241;43m+\u001b[39;49m\u001b[43m \u001b[49m\u001b[38;5;241;43m1\u001b[39;49m\u001b[43m)\u001b[49m, \u001b[38;5;124m\"\u001b[39m\u001b[38;5;124miso-8859-1\u001b[39m\u001b[38;5;124m\"\u001b[39m)\n\u001b[1;32m    293\u001b[0m     \u001b[38;5;28;01mif\u001b[39;00m \u001b[38;5;28mlen\u001b[39m(line) \u001b[38;5;241m>\u001b[39m _MAXLINE:\n\u001b[1;32m    294\u001b[0m         \u001b[38;5;28;01mraise\u001b[39;00m LineTooLong(\u001b[38;5;124m\"\u001b[39m\u001b[38;5;124mstatus line\u001b[39m\u001b[38;5;124m\"\u001b[39m)\n",
      "File \u001b[0;32m~/anaconda3/envs/oxford_new/lib/python3.12/socket.py:707\u001b[0m, in \u001b[0;36mSocketIO.readinto\u001b[0;34m(self, b)\u001b[0m\n\u001b[1;32m    705\u001b[0m \u001b[38;5;28;01mwhile\u001b[39;00m \u001b[38;5;28;01mTrue\u001b[39;00m:\n\u001b[1;32m    706\u001b[0m     \u001b[38;5;28;01mtry\u001b[39;00m:\n\u001b[0;32m--> 707\u001b[0m         \u001b[38;5;28;01mreturn\u001b[39;00m \u001b[38;5;28;43mself\u001b[39;49m\u001b[38;5;241;43m.\u001b[39;49m\u001b[43m_sock\u001b[49m\u001b[38;5;241;43m.\u001b[39;49m\u001b[43mrecv_into\u001b[49m\u001b[43m(\u001b[49m\u001b[43mb\u001b[49m\u001b[43m)\u001b[49m\n\u001b[1;32m    708\u001b[0m     \u001b[38;5;28;01mexcept\u001b[39;00m timeout:\n\u001b[1;32m    709\u001b[0m         \u001b[38;5;28mself\u001b[39m\u001b[38;5;241m.\u001b[39m_timeout_occurred \u001b[38;5;241m=\u001b[39m \u001b[38;5;28;01mTrue\u001b[39;00m\n",
      "File \u001b[0;32m~/anaconda3/envs/oxford_new/lib/python3.12/ssl.py:1253\u001b[0m, in \u001b[0;36mSSLSocket.recv_into\u001b[0;34m(self, buffer, nbytes, flags)\u001b[0m\n\u001b[1;32m   1249\u001b[0m     \u001b[38;5;28;01mif\u001b[39;00m flags \u001b[38;5;241m!=\u001b[39m \u001b[38;5;241m0\u001b[39m:\n\u001b[1;32m   1250\u001b[0m         \u001b[38;5;28;01mraise\u001b[39;00m \u001b[38;5;167;01mValueError\u001b[39;00m(\n\u001b[1;32m   1251\u001b[0m           \u001b[38;5;124m\"\u001b[39m\u001b[38;5;124mnon-zero flags not allowed in calls to recv_into() on \u001b[39m\u001b[38;5;132;01m%s\u001b[39;00m\u001b[38;5;124m\"\u001b[39m \u001b[38;5;241m%\u001b[39m\n\u001b[1;32m   1252\u001b[0m           \u001b[38;5;28mself\u001b[39m\u001b[38;5;241m.\u001b[39m\u001b[38;5;18m__class__\u001b[39m)\n\u001b[0;32m-> 1253\u001b[0m     \u001b[38;5;28;01mreturn\u001b[39;00m \u001b[38;5;28;43mself\u001b[39;49m\u001b[38;5;241;43m.\u001b[39;49m\u001b[43mread\u001b[49m\u001b[43m(\u001b[49m\u001b[43mnbytes\u001b[49m\u001b[43m,\u001b[49m\u001b[43m \u001b[49m\u001b[43mbuffer\u001b[49m\u001b[43m)\u001b[49m\n\u001b[1;32m   1254\u001b[0m \u001b[38;5;28;01melse\u001b[39;00m:\n\u001b[1;32m   1255\u001b[0m     \u001b[38;5;28;01mreturn\u001b[39;00m \u001b[38;5;28msuper\u001b[39m()\u001b[38;5;241m.\u001b[39mrecv_into(buffer, nbytes, flags)\n",
      "File \u001b[0;32m~/anaconda3/envs/oxford_new/lib/python3.12/ssl.py:1105\u001b[0m, in \u001b[0;36mSSLSocket.read\u001b[0;34m(self, len, buffer)\u001b[0m\n\u001b[1;32m   1103\u001b[0m \u001b[38;5;28;01mtry\u001b[39;00m:\n\u001b[1;32m   1104\u001b[0m     \u001b[38;5;28;01mif\u001b[39;00m buffer \u001b[38;5;129;01mis\u001b[39;00m \u001b[38;5;129;01mnot\u001b[39;00m \u001b[38;5;28;01mNone\u001b[39;00m:\n\u001b[0;32m-> 1105\u001b[0m         \u001b[38;5;28;01mreturn\u001b[39;00m \u001b[38;5;28;43mself\u001b[39;49m\u001b[38;5;241;43m.\u001b[39;49m\u001b[43m_sslobj\u001b[49m\u001b[38;5;241;43m.\u001b[39;49m\u001b[43mread\u001b[49m\u001b[43m(\u001b[49m\u001b[38;5;28;43mlen\u001b[39;49m\u001b[43m,\u001b[49m\u001b[43m \u001b[49m\u001b[43mbuffer\u001b[49m\u001b[43m)\u001b[49m\n\u001b[1;32m   1106\u001b[0m     \u001b[38;5;28;01melse\u001b[39;00m:\n\u001b[1;32m   1107\u001b[0m         \u001b[38;5;28;01mreturn\u001b[39;00m \u001b[38;5;28mself\u001b[39m\u001b[38;5;241m.\u001b[39m_sslobj\u001b[38;5;241m.\u001b[39mread(\u001b[38;5;28mlen\u001b[39m)\n",
      "\u001b[0;31mKeyboardInterrupt\u001b[0m: "
     ]
    }
   ],
   "source": [
    "company_result = fetch_and_summarize_company_ai_usage(row['Name'], row['Country'], row['SuperSector'], row['Language Code'])"
   ]
  },
  {
   "cell_type": "code",
   "execution_count": 92,
   "id": "9c0fa9e6-4c54-43bf-907a-2db9986a5ea3",
   "metadata": {},
   "outputs": [],
   "source": [
    "company_name = \"Amazon.com Inc.(AMZN)\""
   ]
  },
  {
   "cell_type": "code",
   "execution_count": 93,
   "id": "3eacb0d6-30e1-4404-86e6-3625dafddb06",
   "metadata": {},
   "outputs": [],
   "source": [
    "search_query = f'\"{company_name}\" usage of generative AI'"
   ]
  },
  {
   "cell_type": "code",
   "execution_count": 96,
   "id": "d6cb30e4-5fa4-4826-96ef-1e02816000ab",
   "metadata": {},
   "outputs": [
    {
     "data": {
      "text/plain": [
       "'Mozilla/5.0 (Windows NT 6.1; Win64; x64; rv:2.2a1pre) Gecko/20110323 Firefox/4.2a1pre'"
      ]
     },
     "execution_count": 96,
     "metadata": {},
     "output_type": "execute_result"
    }
   ],
   "source": [
    "#Initalize the search client\n",
    "client = yagooglesearch.SearchClient(\n",
    "search_query,\n",
    "max_search_result_urls_to_return = 5,\n",
    "http_429_cool_off_time_in_minutes=45,\n",
    "http_429_cool_off_factor=1.5,\n",
    "verbosity=1,\n",
    "verbose_output=False,  # False (only URLs) or True (rank, title, description, and URL)\n",
    ")\n",
    "client.assign_random_user_agent()"
   ]
  },
  {
   "cell_type": "code",
   "execution_count": 97,
   "id": "425521b2-b8b2-4b8b-9cc2-94101da9bb58",
   "metadata": {},
   "outputs": [],
   "source": [
    "urls = client.search()"
   ]
  },
  {
   "cell_type": "code",
   "execution_count": 98,
   "id": "a5d17e58-6696-4e60-93a6-2c5e90f02584",
   "metadata": {},
   "outputs": [
    {
     "data": {
      "text/plain": [
       "['https://finance.yahoo.com/news/amazons-amzn-generative-ai-efforts-155700037.html',\n",
       " 'https://risnews.com/how-amazon-leverages-generative-ai-boost-customer-engagement-and-store-experience',\n",
       " 'https://technologymagazine.com/articles/how-amazon-uses-ai-to-help-customers-shop-with-confidence',\n",
       " 'https://www.zdnet.com/article/alexa-just-got-three-new-generative-ai-skills-heres-how-to-try-them/',\n",
       " 'https://aws.amazon.com/lex/']"
      ]
     },
     "execution_count": 98,
     "metadata": {},
     "output_type": "execute_result"
    }
   ],
   "source": [
    "urls"
   ]
  },
  {
   "cell_type": "code",
   "execution_count": 21,
   "id": "d6a63020-6aa8-49c8-9cbd-142ada1e1247",
   "metadata": {},
   "outputs": [
    {
     "ename": "IndentationError",
     "evalue": "expected an indented block after function definition on line 16 (1990074514.py, line 17)",
     "output_type": "error",
     "traceback": [
      "\u001b[0;36m  Cell \u001b[0;32mIn[21], line 17\u001b[0;36m\u001b[0m\n\u001b[0;31m    with ThreadPoolExecutor(max_workers=1) as executor:\u001b[0m\n\u001b[0m    ^\u001b[0m\n\u001b[0;31mIndentationError\u001b[0m\u001b[0;31m:\u001b[0m expected an indented block after function definition on line 16\n"
     ]
    }
   ],
   "source": [
    "#Function to take a funciton and summarize the AI usage \n",
    "def Foundation_model_partners(company_name, products):\n",
    "    \"\"\"\n",
    "    Fetch web pages related to the company's AI usage and print a summary of the content.\n",
    "    \n",
    "    :param company_name: The name of the company to search for.\n",
    "    \"\"\"\n",
    "    results = []  # List to store result dictionaries\n",
    "\n",
    "    #Generate a random proxy \n",
    "    proxy = get_random_proxy()\n",
    "    \n",
    "    search_query = f\"Users or companies or partners or collaborators of {company_name} {products} list\"\n",
    "\n",
    "    #Search with timeout\n",
    "    def search_with_timeout(search_query, num_results, proxy, timeout, sleep_interval):\n",
    "    with ThreadPoolExecutor(max_workers=1) as executor:\n",
    "        future = executor.submit(search, search_query, num_results=num_results, proxy=proxy, timeout=timeout, sleep_interval=sleep_interval)\n",
    "        try:\n",
    "            return future.result(timeout=40)  \n",
    "        except TimeoutError:\n",
    "            print(\"Search function timed out\")\n",
    "            return None\n",
    "    \n",
    "    #Calling search function\n",
    "    search_results = search_with_timeout(search_query, num_results=4, proxy=proxy, timeout=10, sleep_interval=20)\n",
    "    \n",
    "    \n",
    "    for url in search_results:\n",
    "        try:\n",
    "            response = requests.get(url)\n",
    "            response.raise_for_status()  # This will directly raise an exception for HTTP errors\n",
    "            page_source = response.text\n",
    "\n",
    "            #print(url)\n",
    "\n",
    "        #Raising the selinium exception logic\n",
    "        except requests.exceptions.RequestException:\n",
    "            print(f\"Failed to retrieve {url}: Status code {response.status_code}\")\n",
    "            \n",
    "            #Here I call the selium function to run it \n",
    "            driver.get(url)\n",
    "            page_source = driver.page_source\n",
    "            page_source = response.text\n",
    "\n",
    "            #print(url)\n",
    "            \n",
    "        #Regular runtime with the requests logic libary \n",
    "        page_source = response.text\n",
    "        soup = BeautifulSoup(page_source, 'html.parser')\n",
    "\n",
    "        #Inital cleaning\n",
    "        for a_tag in soup.find_all('a'):\n",
    "            a_tag.decompose()  # This removes the tag and its content\n",
    "            \n",
    "        # Extract text from the modified BeautifulSoup object\n",
    "        text = soup.get_text(strip=True)\n",
    "\n",
    "        #Calling the summarization function\n",
    "        summarized_text = summarize_and_extract(text, target_phrases, summarizer, max_length=50, min_length=5, do_sample=False)\n",
    "        \n",
    "        # Append result to the list\n",
    "        results.append({'URL': url, 'Summary': summarized_text, 'Company': company_name})\n",
    "    \n",
    "        results_df = pd.DataFrame(results)\n",
    "    \n",
    "    return results_df    "
   ]
  },
  {
   "cell_type": "code",
   "execution_count": 22,
   "id": "0ff885c1-fc9f-47f0-87ca-5c44356579dd",
   "metadata": {},
   "outputs": [],
   "source": [
    "company_name = \"Stability AI\"\n",
    "products = \"Stable Diffusion 2\""
   ]
  },
  {
   "cell_type": "code",
   "execution_count": 23,
   "id": "0b267f68-7a68-4c30-9251-3daf4b2a2c4e",
   "metadata": {
    "scrolled": true
   },
   "outputs": [
    {
     "name": "stderr",
     "output_type": "stream",
     "text": [
      "Token indices sequence length is longer than the specified maximum sequence length for this model (643 > 512). Running this sequence through the model will result in indexing errors\n"
     ]
    },
    {
     "name": "stdout",
     "output_type": "stream",
     "text": [
      "https://stability.ai/news/stable-diffusion-v2-release\n",
      "https://github.com/Stability-AI/stablediffusion\n",
      "https://www.forbes.com/sites/kenrickcai/2023/06/04/stable-diffusion-emad-mostaque-stability-ai-exaggeration/\n",
      "https://www.assemblyai.com/blog/stable-diffusion-1-vs-2-what-you-need-to-know/\n",
      "Failed to retrieve https://www.cbinsights.com/investor/stability-ai: Status code 403\n"
     ]
    },
    {
     "name": "stderr",
     "output_type": "stream",
     "text": [
      "Your max_length is set to 50, but your input_length is only 3. Since this is a summarization task, where outputs shorter than the input are typically wanted, you might consider decreasing max_length manually, e.g. summarizer('...', max_length=1)\n"
     ]
    },
    {
     "name": "stdout",
     "output_type": "stream",
     "text": [
      "https://www.cbinsights.com/investor/stability-ai\n",
      "https://techcrunch.com/2023/07/26/stability-ai-releases-its-latest-image-generating-model-stable-diffusion-xl-1-0/\n"
     ]
    },
    {
     "name": "stderr",
     "output_type": "stream",
     "text": [
      "Your max_length is set to 50, but your input_length is only 3. Since this is a summarization task, where outputs shorter than the input are typically wanted, you might consider decreasing max_length manually, e.g. summarizer('...', max_length=1)\n"
     ]
    },
    {
     "name": "stdout",
     "output_type": "stream",
     "text": [
      "https://stability.ai/partners\n"
     ]
    }
   ],
   "source": [
    "results_df = Foundation_model_partners(company_name, products)"
   ]
  },
  {
   "cell_type": "code",
   "execution_count": null,
   "id": "5d840ff1-2d01-4c60-bad7-1447f11f181c",
   "metadata": {},
   "outputs": [],
   "source": [
    "#Company Site searching method\n",
    "\n",
    "#Get a list of all company emails \n",
    "\n",
    "#Extract all text and move it through as a dictionary \n",
    "\n",
    "#Extract all the links and move it as a dictionary \n",
    "\n",
    "\n",
    "\n",
    "\n"
   ]
  },
  {
   "cell_type": "code",
   "execution_count": 89,
   "id": "82bead21-987c-4868-8ca1-1af1e8459426",
   "metadata": {},
   "outputs": [
    {
     "data": {
      "text/plain": [
       "'Stable Diffusion 2.0 Release24 NovWritten ByWe are pleased to announce the open-source release of.The originalled bychanged the nature of open source AI models and spawned hundreds of other models and innovations worldwide'"
      ]
     },
     "execution_count": 89,
     "metadata": {},
     "output_type": "execute_result"
    }
   ],
   "source": [
    "results_df['Summary'][0]"
   ]
  },
  {
   "cell_type": "code",
   "execution_count": 90,
   "id": "abd28e29-ca7f-4fd5-88b8-26557b0b45f0",
   "metadata": {},
   "outputs": [
    {
     "data": {
      "text/plain": [
       "'https://stability.ai/news/stable-diffusion-v2-release'"
      ]
     },
     "execution_count": 90,
     "metadata": {},
     "output_type": "execute_result"
    }
   ],
   "source": [
    "results_df['URL'][0]"
   ]
  },
  {
   "cell_type": "code",
   "execution_count": 91,
   "id": "4e201e83-79aa-4bf0-89d1-225a6ef38bb6",
   "metadata": {},
   "outputs": [],
   "source": [
    "#final_df = pd.DataFrame()"
   ]
  },
  {
   "cell_type": "code",
   "execution_count": 92,
   "id": "b7920d37-3e2e-4f42-bb0a-d48628be65e4",
   "metadata": {},
   "outputs": [],
   "source": [
    "#Concating to the final output \n",
    "final_df = pd.concat([results_df, final_df], axis = 0)\n",
    "final_df.reset_index(inplace =True, drop = True)"
   ]
  },
  {
   "cell_type": "code",
   "execution_count": 93,
   "id": "e23be270-d50b-4be2-a15a-212055aece3e",
   "metadata": {},
   "outputs": [],
   "source": [
    "#Writing the final data out\n",
    "final_df.to_csv('output_final_new_2.csv', index=False)"
   ]
  }
 ],
 "metadata": {
  "kernelspec": {
   "display_name": "Python 3 (ipykernel)",
   "language": "python",
   "name": "python3"
  },
  "language_info": {
   "codemirror_mode": {
    "name": "ipython",
    "version": 3
   },
   "file_extension": ".py",
   "mimetype": "text/x-python",
   "name": "python",
   "nbconvert_exporter": "python",
   "pygments_lexer": "ipython3",
   "version": "3.12.1"
  }
 },
 "nbformat": 4,
 "nbformat_minor": 5
}
