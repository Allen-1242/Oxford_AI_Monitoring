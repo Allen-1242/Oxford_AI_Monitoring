{
 "cells": [
  {
   "cell_type": "code",
   "execution_count": 1,
   "id": "cdebbb2d-017f-4771-a3ab-13f3bbc84de3",
   "metadata": {
    "scrolled": true
   },
   "outputs": [
    {
     "ename": "NameError",
     "evalue": "name 'driver' is not defined",
     "output_type": "error",
     "traceback": [
      "\u001b[0;31m---------------------------------------------------------------------------\u001b[0m",
      "\u001b[0;31mNameError\u001b[0m                                 Traceback (most recent call last)",
      "Cell \u001b[0;32mIn[1], line 1\u001b[0m\n\u001b[0;32m----> 1\u001b[0m \u001b[43mdriver\u001b[49m\u001b[38;5;241m.\u001b[39mclose()\n",
      "\u001b[0;31mNameError\u001b[0m: name 'driver' is not defined"
     ]
    }
   ],
   "source": [
    "driver.close()"
   ]
  },
  {
   "cell_type": "code",
   "execution_count": 2,
   "id": "779f78cf-bc86-4646-9992-26fe1e12e8ff",
   "metadata": {},
   "outputs": [],
   "source": [
    "from selenium import webdriver\n",
    "from selenium.webdriver.firefox.service import Service\n",
    "from webdriver_manager.firefox import GeckoDriverManager\n",
    "from selenium.webdriver.firefox.options import Options as FirefoxOptions\n",
    "from requests.exceptions import Timeout, HTTPError\n",
    "\n",
    "\n",
    "# Initialize Firefox Options\n",
    "firefox_options = FirefoxOptions()\n",
    "\n",
    "# Create a new Firefox Profile for your extensions\n",
    "firefox_profile = webdriver.FirefoxProfile()\n",
    "\n",
    "# Convert the profile to a base64 string and add it to the options\n",
    "firefox_options.profile = firefox_profile"
   ]
  },
  {
   "cell_type": "code",
   "execution_count": 3,
   "id": "2c43447b-a3a5-49c8-a222-623cdfc1c1e7",
   "metadata": {},
   "outputs": [
    {
     "name": "stderr",
     "output_type": "stream",
     "text": [
      "[nltk_data] Downloading package punkt to\n",
      "[nltk_data]     /Users/allensunny/nltk_data...\n",
      "[nltk_data]   Package punkt is already up-to-date!\n"
     ]
    },
    {
     "data": {
      "text/plain": [
       "True"
      ]
     },
     "execution_count": 3,
     "metadata": {},
     "output_type": "execute_result"
    }
   ],
   "source": [
    "import nltk\n",
    "from nltk.tokenize import sent_tokenize\n",
    "nltk.download('punkt')"
   ]
  },
  {
   "cell_type": "code",
   "execution_count": 4,
   "id": "cdbdd281-6755-4302-9dda-2d2a14e12155",
   "metadata": {},
   "outputs": [],
   "source": [
    "import sys\n",
    "import yagooglesearch"
   ]
  },
  {
   "cell_type": "code",
   "execution_count": 5,
   "id": "6af5afcb-209d-47ab-a0ab-38547f80584a",
   "metadata": {},
   "outputs": [],
   "source": [
    "from concurrent.futures import ThreadPoolExecutor, TimeoutError"
   ]
  },
  {
   "cell_type": "code",
   "execution_count": 6,
   "id": "9a93393e-4cdc-461b-82b6-9d9bbdb6cedc",
   "metadata": {},
   "outputs": [
    {
     "data": {
      "text/plain": [
       "'magnolia@12.34'"
      ]
     },
     "execution_count": 6,
     "metadata": {},
     "output_type": "execute_result"
    }
   ],
   "source": [
    "# Set up the service with GeckoDriverManager\n",
    "service = Service(GeckoDriverManager().install())\n",
    "driver = webdriver.Firefox(service=service, options=firefox_options)\n",
    "\n",
    "driver.install_addon('/Users/allensunny/Downloads/Mozilla Scraper Tools/uBlock0_1.55.0.firefox.signed.xpi',  temporary=True)\n",
    "driver.install_addon('/Users/allensunny/Downloads/Mozilla Scraper Tools/bypass_paywalls_clean-3.5.5.0.xpi', temporary=True)"
   ]
  },
  {
   "cell_type": "code",
   "execution_count": 7,
   "id": "13498a62-0540-4724-a181-9cecac7cd4c1",
   "metadata": {},
   "outputs": [],
   "source": [
    "#Webscrpaing and request parsing \n",
    "import requests\n",
    "from bs4 import BeautifulSoup, Comment\n",
    "import time\n",
    "\n",
    "from lxml import etree\n",
    "from lxml.html import fromstring"
   ]
  },
  {
   "cell_type": "code",
   "execution_count": 8,
   "id": "6943639d-5433-4f47-839c-22574ab1eb7b",
   "metadata": {},
   "outputs": [
    {
     "name": "stderr",
     "output_type": "stream",
     "text": [
      "/Users/allensunny/anaconda3/envs/oxford_new/lib/python3.12/site-packages/tqdm/auto.py:21: TqdmWarning: IProgress not found. Please update jupyter and ipywidgets. See https://ipywidgets.readthedocs.io/en/stable/user_install.html\n",
      "  from .autonotebook import tqdm as notebook_tqdm\n"
     ]
    }
   ],
   "source": [
    "#Text summarizer intialization \n",
    "from transformers import pipeline\n",
    "summarizer = pipeline(\"summarization\", model=\"Falconsai/text_summarization\")"
   ]
  },
  {
   "cell_type": "code",
   "execution_count": 9,
   "id": "f4a64a11-85d8-40f9-a242-67502c6af8b3",
   "metadata": {},
   "outputs": [],
   "source": [
    "#Setting the toeknizer parallizsm explicityl \n",
    "import os\n",
    "# Enable parallelism in tokenizers for improved performance\n",
    "os.environ[\"TOKENIZERS_PARALLELISM\"] = \"true\""
   ]
  },
  {
   "cell_type": "code",
   "execution_count": 10,
   "id": "46aea03d-cccb-4979-9308-bcaaddd7b57d",
   "metadata": {},
   "outputs": [],
   "source": [
    "import time\n",
    "import re\n",
    "import random"
   ]
  },
  {
   "cell_type": "code",
   "execution_count": 11,
   "id": "0a71bb6a-3515-4607-8da3-bed4d836b1ba",
   "metadata": {},
   "outputs": [],
   "source": [
    "#Druid database dump\n",
    "import pydruid"
   ]
  },
  {
   "cell_type": "code",
   "execution_count": 12,
   "id": "c32ed46f-614f-4b65-943a-0868a75155f4",
   "metadata": {},
   "outputs": [
    {
     "name": "stderr",
     "output_type": "stream",
     "text": [
      "/var/folders/jq/vkbby4bd33xbf6kks2_zrswh0000gn/T/ipykernel_99621/3073400958.py:2: DeprecationWarning: \n",
      "Pyarrow will become a required dependency of pandas in the next major release of pandas (pandas 3.0),\n",
      "(to allow more performant data types, such as the Arrow string type, and better interoperability with other libraries)\n",
      "but was not found to be installed on your system.\n",
      "If this would cause problems for you,\n",
      "please provide us feedback at https://github.com/pandas-dev/pandas/issues/54466\n",
      "        \n",
      "  import pandas as pd\n"
     ]
    }
   ],
   "source": [
    "#Basic packages installation\n",
    "import pandas as pd\n",
    "import numpy as np"
   ]
  },
  {
   "cell_type": "code",
   "execution_count": 13,
   "id": "fd6d303e-1d35-4955-8b32-e2c4f45ffc2f",
   "metadata": {},
   "outputs": [],
   "source": [
    "import random\n",
    "import os"
   ]
  },
  {
   "cell_type": "code",
   "execution_count": 14,
   "id": "63bc50b1-8efa-45d6-bc6c-7a977c94207f",
   "metadata": {},
   "outputs": [],
   "source": [
    "#Proxy Function extraction \n",
    "def get_random_proxy():\n",
    "    return random.choice(proxies)"
   ]
  },
  {
   "cell_type": "code",
   "execution_count": 15,
   "id": "c5fde006-80aa-4573-8d5f-6f637f46c3a7",
   "metadata": {},
   "outputs": [],
   "source": [
    "#Consutructing the proxy farm \n",
    "with open('/Users/allensunny/Downloads/http.txt', 'r') as file:\n",
    "    content = file.read()\n",
    "\n",
    "#Converting to a list of proxies to fetch data\n",
    "proxies = content.strip().split('\\n')"
   ]
  },
  {
   "cell_type": "code",
   "execution_count": 16,
   "id": "47f8bcf9-3d66-4302-8ad7-2cfda3a92a3f",
   "metadata": {},
   "outputs": [],
   "source": [
    "#Reading the language file \n",
    "lang_df = pd.read_csv(\"Lang_lookup.csv\")"
   ]
  },
  {
   "cell_type": "code",
   "execution_count": 17,
   "id": "b7df7515-bdd5-4099-8740-a0c0d03caf7e",
   "metadata": {},
   "outputs": [],
   "source": [
    "def search_with_timeout(search_query, num_results, proxy, timeout, sleep_interval):\n",
    "    with ThreadPoolExecutor(max_workers=1) as executor:\n",
    "        future = executor.submit(search, search_query, num_results=num_results, proxy=proxy, timeout=timeout, sleep_interval=sleep_interval)\n",
    "        try:\n",
    "            return future.result(timeout=10)  \n",
    "        except TimeoutError:\n",
    "            print(\"Search function timed out\")\n",
    "            return None"
   ]
  },
  {
   "cell_type": "code",
   "execution_count": 18,
   "id": "569181d0-fae8-4796-81ce-291031c240e8",
   "metadata": {},
   "outputs": [],
   "source": [
    "#Companies list \n",
    "Companies_list = pd.read_csv('Fortune 500 2017 - Fortune 500 v2.csv')"
   ]
  },
  {
   "cell_type": "code",
   "execution_count": 19,
   "id": "dbe7c3f8-f2a4-4877-9068-e4e2e43f3b1f",
   "metadata": {},
   "outputs": [],
   "source": [
    "target_phrases = [\"OpenAI\", \"Chatbot\", \"Generative AI\", \"LLM\", \"ChatGPT\", \"Llama-2\", \"BLOOMZ\", \"GPT-4\", \"GPT4\", \"Stable Diffusion 2\", \"PaLM 2\", \"Claude 2\", \"Jurrasic-2\", \"Inflection-1\", \"Titan Text\"]"
   ]
  },
  {
   "cell_type": "code",
   "execution_count": 20,
   "id": "5b23a6bb-f175-4bfb-abd0-5e986613a7f7",
   "metadata": {},
   "outputs": [],
   "source": [
    "#Function to take a funciton and summarize the AI usage \n",
    "def fetch_and_summarize_company_ai_usage(company_name, country, Supersector, lang):\n",
    "    \"\"\"\n",
    "    Fetch web pages related to the company's AI usage and print a summary of the content.\n",
    "\n",
    "    :param company_name: The name of the company to search for.\n",
    "    \"\"\"\n",
    "    results = []  # List to store result dictionaries\n",
    "    #Generate a random proxy \n",
    "    proxy = get_random_proxy()\n",
    "    \n",
    "    search_query =  f'Does \"{company_name}\" use chatGPT or GPT'\n",
    "    print(company_name)\n",
    "\n",
    "    #Initalize the search client\n",
    "    client = yagooglesearch.SearchClient(\n",
    "    search_query,\n",
    "    max_search_result_urls_to_return = 8,\n",
    "    http_429_cool_off_time_in_minutes=45,\n",
    "    http_429_cool_off_factor=1.5,\n",
    "    verbosity=0,\n",
    "    verbose_output=False,\n",
    "    lang_result=lang\n",
    "    # False (only URLs) or True (rank, title, description, and URL)\n",
    "    )\n",
    "    client.assign_random_user_agent()\n",
    "\n",
    "    try:\n",
    "        print(\"Calling the search\")\n",
    "        #Calling search function\n",
    "        #search_results = search_with_timeout(search_query, num_results=4, proxy=proxy, timeout=10, sleep_interval=20)\n",
    "        urls = client.search()\n",
    "        print(\"Search complete\")\n",
    "    \n",
    "    except Exception as e:\n",
    "        print(f\"Search failed for {company_name} with error: {e}\")\n",
    "        return pd.DataFrame([{\n",
    "            'URL': None,\n",
    "            'Company': company_name,\n",
    "            'Summary': 'Search failed or timed out',\n",
    "            'Keywords': [],\n",
    "            'Country': country,\n",
    "            'SuperSector': Supersector,\n",
    "            'Search Keywords': target_phrases\n",
    "        }])\n",
    "\n",
    "    #Creating a random delay\n",
    "    for url in urls:\n",
    "        \n",
    "        time.sleep(10)\n",
    "        if url.endswith('.pdf'):\n",
    "            continue  # Skip PDF files  \n",
    "        \n",
    "        try:\n",
    "            print(\"Response call\")\n",
    "\n",
    "            response = requests.get(url, timeout=10)\n",
    "            response.raise_for_status()  # This will directly raise an exception for HTTP errors\n",
    "            page_source = response.text\n",
    "            print(url)\n",
    "\n",
    "        except requests.exceptions.Timeout:\n",
    "            print(f\"Request timed out for {url}. Attempting with Selenium.\")\n",
    "            \n",
    "            # Initialize the driver and use Selenium as a fallback\n",
    "            driver.get(url)\n",
    "            page_source = driver.page_source\n",
    "            time.sleep(10)\n",
    "\n",
    "        #Raising the selinium exception logic \n",
    "        except requests.exceptions.RequestException:\n",
    "            print(f\"Failed to retrieve {url}: Status code {response.status_code}\")\n",
    "            \n",
    "            #Here I call the selium function to run it \n",
    "            driver.get(url)\n",
    "            page_source = driver.page_source\n",
    "            time.sleep(10)\n",
    "\n",
    "            #print(url)\n",
    "            \n",
    "        #Regular runtime with the requests logic libary \n",
    "        soup = BeautifulSoup(page_source, 'html.parser')\n",
    "\n",
    "        #Inital cleaning\n",
    "        for a_tag in soup.find_all('a'):\n",
    "            a_tag.decompose()  # This removes the tag and its content\n",
    "            \n",
    "        # Extract text from the modifiedBeautifulSoup object\n",
    "        text = soup.get_text(strip=True)\n",
    "\n",
    "        #Calling the summarization function\n",
    "        summarized_text, extracted_keywords = summarize_and_extract(text, target_phrases, summarizer, max_length=50, min_length=5, do_sample=False)\n",
    "        #print('Summarization over')\n",
    "        \n",
    "        # Append result to the list\n",
    "        results.append({\n",
    "            'URL': url,\n",
    "            'Company': company_name,\n",
    "            'Summary': summarized_text,\n",
    "            'Keywords': extracted_keywords,\n",
    "            'Country': country,\n",
    "            'SuperSector': Supersector,\n",
    "            'Search Keywords': target_phrases\n",
    "        })\n",
    "\n",
    "        \n",
    "        results_df = pd.DataFrame(results)\n",
    "        #print('Results over')\n",
    "    \n",
    "    return results_df        "
   ]
  },
  {
   "cell_type": "code",
   "execution_count": 21,
   "id": "862e4644-584f-4a93-bc19-9dc0574be3c4",
   "metadata": {},
   "outputs": [],
   "source": [
    "#Text keyword summarizer\n",
    "def summarize_and_extract(text, target_phrases, summarizer, max_length=100, min_length=5, do_sample=True):\n",
    "    \"\"\"\n",
    "    Summarize the given text and then extract sentences containing any of the target phrases.\n",
    "    \n",
    "    :param text: The text to summarize and extract sentences from.\n",
    "    :param target_phrases: A list of phrases to look for in the summarized text.\n",
    "    :param summarizer: The summarization function to use.\n",
    "    :param max_length: The maximum length of the summary.\n",
    "    :param min_length: The minimum length of the summary.\n",
    "    :param do_sample: Whether or not to sample in the summarization process.\n",
    "    :return: A string containing the extracted sentences from the summarized text.\n",
    "    \"\"\"\n",
    "    #Perform the text preprocessing \n",
    "    find_text = find_sentences_with_keywords(text, target_phrases)\n",
    "\n",
    "    # Extract only the sentences from the first tuple\n",
    "    extracted_sentences, keywords = find_text    \n",
    "    \n",
    "    # Join extracted sentences into a cohesive summary\n",
    "    extracted_summary = \" \".join(extracted_sentences)\n",
    "\n",
    "    # Perform summarization\n",
    "    summarized = summarizer(extracted_summary, max_length=max_length, min_length=min_length, do_sample=do_sample, early_stopping=True)\n",
    "    summarized_text = summarized[0]['summary_text']  # Assuming the summarizer returns a list of dictionariess\n",
    "    #print('extraction over')\n",
    "\n",
    "    return summarized_text, keywords"
   ]
  },
  {
   "cell_type": "code",
   "execution_count": 22,
   "id": "fce72e6c-c514-450f-bef8-ed33dd4fe67b",
   "metadata": {},
   "outputs": [],
   "source": [
    "#I like how this system takes the sentences, but Iwould like to improve the process by hitting the previous and next sentences to give the system more\n",
    "#Context \n",
    "\n",
    "#Key word extraction function \n",
    "def find_sentences_with_keywords(sentence_text, keywords):\n",
    "    \n",
    "    # Tokenize the text into sentences\n",
    "    sentences = sent_tokenize(sentence_text)\n",
    "    \n",
    "    sentence_list = []\n",
    "    keywords_set = set()  # Use a set to avoid duplicates\n",
    "    \n",
    "    # Loop through sentences\n",
    "    for sentence in sentences:\n",
    "        \n",
    "        # Find all keywords present as whole words in the sentence\n",
    "        found_keywords = [keyword for keyword in keywords if re.search(r'\\b' + re.escape(keyword) + r'\\b', sentence, re.IGNORECASE)]\n",
    "        \n",
    "        if found_keywords:\n",
    "            # Append the sentence to the sentence list\n",
    "            sentence_list.append(sentence)\n",
    "            # Add the found keywords to the set\n",
    "            keywords_set.update(found_keywords)\n",
    "    \n",
    "    # Convert the set to a tuple to remove duplicates\n",
    "    keywords_tuple = tuple(keywords_set)\n",
    "    print('sent extraction over')\n",
    "\n",
    "    return tuple(sentence_list), keywords_tuple"
   ]
  },
  {
   "cell_type": "code",
   "execution_count": 23,
   "id": "f755863f-09a9-4f2b-a926-bdc3a99e6016",
   "metadata": {},
   "outputs": [],
   "source": [
    "Companies_list['Country'] = \"United States\"\n",
    "Companies_list['Language Code'] = \"lang_en\""
   ]
  },
  {
   "cell_type": "code",
   "execution_count": 24,
   "id": "d8d730ab-8071-44ad-928a-bef8832a1ccc",
   "metadata": {
    "scrolled": true
   },
   "outputs": [
    {
     "name": "stdout",
     "output_type": "stream",
     "text": [
      "Praxair\n",
      "Calling the search\n",
      "Search complete\n",
      "Response call\n"
     ]
    },
    {
     "name": "stderr",
     "output_type": "stream",
     "text": [
      "Your max_length is set to 50, but your input_length is only 3. Since this is a summarization task, where outputs shorter than the input are typically wanted, you might consider decreasing max_length manually, e.g. summarizer('...', max_length=1)\n"
     ]
    },
    {
     "name": "stdout",
     "output_type": "stream",
     "text": [
      "https://www.diagnosticimaging.com/view/praxair-boost-helium-supplies\n",
      "sent extraction over\n",
      "Response call\n"
     ]
    },
    {
     "name": "stderr",
     "output_type": "stream",
     "text": [
      "Your max_length is set to 50, but your input_length is only 3. Since this is a summarization task, where outputs shorter than the input are typically wanted, you might consider decreasing max_length manually, e.g. summarizer('...', max_length=1)\n"
     ]
    },
    {
     "name": "stdout",
     "output_type": "stream",
     "text": [
      "https://www.jdsupra.com/legalnews/ino-therapeutics-llc-v-praxair-79394/\n",
      "sent extraction over\n",
      "Response call\n"
     ]
    },
    {
     "name": "stderr",
     "output_type": "stream",
     "text": [
      "Your max_length is set to 50, but your input_length is only 3. Since this is a summarization task, where outputs shorter than the input are typically wanted, you might consider decreasing max_length manually, e.g. summarizer('...', max_length=1)\n"
     ]
    },
    {
     "name": "stdout",
     "output_type": "stream",
     "text": [
      "https://www.jdsupra.com/legalnews/praxair-distribution-inc-v-mallinckrodt-65838/\n",
      "sent extraction over\n",
      "Response call\n"
     ]
    },
    {
     "name": "stderr",
     "output_type": "stream",
     "text": [
      "Your max_length is set to 50, but your input_length is only 3. Since this is a summarization task, where outputs shorter than the input are typically wanted, you might consider decreasing max_length manually, e.g. summarizer('...', max_length=1)\n"
     ]
    },
    {
     "name": "stdout",
     "output_type": "stream",
     "text": [
      "https://www.linkedin.com/posts/richard-lebert-83900b33_thank-you-to-praxair-for-their-generous-donation-activity-6658511931000844289-fmIr?trk=public_profile_like_view\n",
      "sent extraction over\n",
      "Response call\n"
     ]
    },
    {
     "name": "stderr",
     "output_type": "stream",
     "text": [
      "Your max_length is set to 50, but your input_length is only 3. Since this is a summarization task, where outputs shorter than the input are typically wanted, you might consider decreasing max_length manually, e.g. summarizer('...', max_length=1)\n"
     ]
    },
    {
     "name": "stdout",
     "output_type": "stream",
     "text": [
      "https://www.taipeitimes.com/News/biz/archives/2017/06/03/2003671797\n",
      "sent extraction over\n",
      "Response call\n",
      "Failed to retrieve https://www.patentdocs.org/2019/09/ino-therapeutics-llc-v-praxair-distribution-inc-fed-cir-2019.html: Status code 403\n"
     ]
    },
    {
     "name": "stderr",
     "output_type": "stream",
     "text": [
      "Your max_length is set to 50, but your input_length is only 3. Since this is a summarization task, where outputs shorter than the input are typically wanted, you might consider decreasing max_length manually, e.g. summarizer('...', max_length=1)\n"
     ]
    },
    {
     "name": "stdout",
     "output_type": "stream",
     "text": [
      "sent extraction over\n",
      "Response call\n"
     ]
    },
    {
     "name": "stderr",
     "output_type": "stream",
     "text": [
      "Your max_length is set to 50, but your input_length is only 3. Since this is a summarization task, where outputs shorter than the input are typically wanted, you might consider decreasing max_length manually, e.g. summarizer('...', max_length=1)\n"
     ]
    },
    {
     "name": "stdout",
     "output_type": "stream",
     "text": [
      "https://www.linkedin.com/posts/linde-amt_nasas-new-3d-printed-superalloy-can-take-activity-7059531214159839232-5Z-6?trk=public_profile_like_view\n",
      "sent extraction over\n",
      "Response call\n",
      "Failed to retrieve https://www.hklaw.com/en/insights/publications/2023/01/something-new-ptab-tackles-section-101-patent-eligibility: Status code 403\n"
     ]
    },
    {
     "name": "stderr",
     "output_type": "stream",
     "text": [
      "Your max_length is set to 50, but your input_length is only 3. Since this is a summarization task, where outputs shorter than the input are typically wanted, you might consider decreasing max_length manually, e.g. summarizer('...', max_length=1)\n"
     ]
    },
    {
     "name": "stdout",
     "output_type": "stream",
     "text": [
      "sent extraction over\n",
      "Done\n",
      "Universal Health Services\n",
      "Calling the search\n",
      "Search complete\n",
      "Response call\n"
     ]
    },
    {
     "name": "stderr",
     "output_type": "stream",
     "text": [
      "Token indices sequence length is longer than the specified maximum sequence length for this model (900 > 512). Running this sequence through the model will result in indexing errors\n"
     ]
    },
    {
     "name": "stdout",
     "output_type": "stream",
     "text": [
      "https://www.theretirementgroup.com/featured-article/5448097/universal-health-services-employees-can-chatgpt-help-with-your-budget\n",
      "sent extraction over\n",
      "Response call\n",
      "Request timed out for https://www.nasdaq.com/articles/universal-health-services-uhs-up-12.4-since-last-earnings-report:-can-it-continue. Attempting with Selenium.\n",
      "sent extraction over\n",
      "Response call\n"
     ]
    },
    {
     "name": "stderr",
     "output_type": "stream",
     "text": [
      "Your max_length is set to 50, but your input_length is only 3. Since this is a summarization task, where outputs shorter than the input are typically wanted, you might consider decreasing max_length manually, e.g. summarizer('...', max_length=1)\n"
     ]
    },
    {
     "name": "stdout",
     "output_type": "stream",
     "text": [
      "https://spectrumlocalnews.com/nys/central-ny/news/2020/09/28/hospital-system-reportedly-targeted-in-cyber-attack\n",
      "sent extraction over\n",
      "Response call\n",
      "Request timed out for https://www.nasdaq.com/articles/universal-health-services-uhs-beats-q2-earnings-and-revenue-estimates-0. Attempting with Selenium.\n",
      "sent extraction over\n",
      "Response call\n"
     ]
    },
    {
     "name": "stderr",
     "output_type": "stream",
     "text": [
      "Your max_length is set to 50, but your input_length is only 3. Since this is a summarization task, where outputs shorter than the input are typically wanted, you might consider decreasing max_length manually, e.g. summarizer('...', max_length=1)\n"
     ]
    },
    {
     "name": "stdout",
     "output_type": "stream",
     "text": [
      "https://techcrunch.com/2020/09/28/universal-health-services-ransomware/\n",
      "sent extraction over\n",
      "Response call\n",
      "Failed to retrieve https://medium.com/@Munjal-Shah/hippocratic-ai-raises-15m-and-partners-with-3-health-systems-74d65a20a337: Status code 403\n"
     ]
    },
    {
     "name": "stderr",
     "output_type": "stream",
     "text": [
      "Your max_length is set to 50, but your input_length is only 3. Since this is a summarization task, where outputs shorter than the input are typically wanted, you might consider decreasing max_length manually, e.g. summarizer('...', max_length=1)\n"
     ]
    },
    {
     "name": "stdout",
     "output_type": "stream",
     "text": [
      "sent extraction over\n",
      "Response call\n",
      "https://www.properexpression.com/growth-marketing-blog/unveiling-2024-5-changes-in-the-healthcare-software-market\n",
      "sent extraction over\n",
      "Response call\n",
      "https://aiolux.com/reports/analytics-technical-indicators?symbol=UHS&tab_name=obv\n",
      "sent extraction over\n",
      "Done\n",
      "Discover Financial Services\n",
      "Calling the search\n",
      "Search complete\n",
      "Response call\n",
      "https://www.computerworld.com/article/3708629/how-discover-financial-services-created-ai-governance-council.html\n",
      "sent extraction over\n",
      "Response call\n",
      "Failed to retrieve https://www.crunchbase.com/organization/discover-financial-services/technology: Status code 403\n"
     ]
    },
    {
     "name": "stderr",
     "output_type": "stream",
     "text": [
      "Your max_length is set to 50, but your input_length is only 3. Since this is a summarization task, where outputs shorter than the input are typically wanted, you might consider decreasing max_length manually, e.g. summarizer('...', max_length=1)\n"
     ]
    },
    {
     "name": "stdout",
     "output_type": "stream",
     "text": [
      "sent extraction over\n",
      "Response call\n",
      "https://en.wikipedia.org/wiki/Discover_Card\n"
     ]
    },
    {
     "name": "stderr",
     "output_type": "stream",
     "text": [
      "Your max_length is set to 50, but your input_length is only 3. Since this is a summarization task, where outputs shorter than the input are typically wanted, you might consider decreasing max_length manually, e.g. summarizer('...', max_length=1)\n"
     ]
    },
    {
     "name": "stdout",
     "output_type": "stream",
     "text": [
      "sent extraction over\n",
      "Response call\n"
     ]
    },
    {
     "name": "stderr",
     "output_type": "stream",
     "text": [
      "Your max_length is set to 50, but your input_length is only 3. Since this is a summarization task, where outputs shorter than the input are typically wanted, you might consider decreasing max_length manually, e.g. summarizer('...', max_length=1)\n"
     ]
    },
    {
     "name": "stdout",
     "output_type": "stream",
     "text": [
      "https://www.globaldata.com/company-profile/discover-financial-services/\n",
      "sent extraction over\n",
      "Response call\n"
     ]
    },
    {
     "name": "stderr",
     "output_type": "stream",
     "text": [
      "Your max_length is set to 50, but your input_length is only 3. Since this is a summarization task, where outputs shorter than the input are typically wanted, you might consider decreasing max_length manually, e.g. summarizer('...', max_length=1)\n"
     ]
    },
    {
     "name": "stdout",
     "output_type": "stream",
     "text": [
      "https://www.investopedia.com/terms/d/discover-card.asp\n",
      "sent extraction over\n",
      "Response call\n",
      "https://www.linkedin.com/posts/jeremystanley_anomalo-why-discover-chose-anomalo-for-activity-7120072526252175361-T-oJ\n",
      "sent extraction over\n",
      "Response call\n"
     ]
    },
    {
     "name": "stderr",
     "output_type": "stream",
     "text": [
      "Your max_length is set to 50, but your input_length is only 3. Since this is a summarization task, where outputs shorter than the input are typically wanted, you might consider decreasing max_length manually, e.g. summarizer('...', max_length=1)\n"
     ]
    },
    {
     "name": "stdout",
     "output_type": "stream",
     "text": [
      "https://www.ciodive.com/news/Discover-Card-open-source-software-developer-website/643334/\n",
      "sent extraction over\n",
      "Response call\n"
     ]
    },
    {
     "name": "stderr",
     "output_type": "stream",
     "text": [
      "Your max_length is set to 50, but your input_length is only 3. Since this is a summarization task, where outputs shorter than the input are typically wanted, you might consider decreasing max_length manually, e.g. summarizer('...', max_length=1)\n"
     ]
    },
    {
     "name": "stdout",
     "output_type": "stream",
     "text": [
      "https://www.bankingdive.com/news/discover-acquisition-target-compliance-ceo-credit-cards-regional-bank/693158/\n",
      "sent extraction over\n",
      "Done\n",
      "Occidental Petroleum\n",
      "Calling the search\n",
      "Search complete\n",
      "Response call\n",
      "https://www.reddit.com/r/stocks/comments/16ltslv/occidental_petroleum_and_the_future_of_fuels/\n",
      "sent extraction over\n",
      "Response call\n",
      "https://www.theretirementgroup.com/featured-article/5448095/occidental-petroleum-employees-can-chatgpt-help-with-your-budget\n",
      "sent extraction over\n",
      "Response call\n",
      "Failed to retrieve https://www.reuters.com/business/sustainable-business/occidental-signs-four-year-deal-with-jet-maker-airbus-carbon-credits-2022-03-17/: Status code 401\n"
     ]
    },
    {
     "name": "stderr",
     "output_type": "stream",
     "text": [
      "Your max_length is set to 50, but your input_length is only 3. Since this is a summarization task, where outputs shorter than the input are typically wanted, you might consider decreasing max_length manually, e.g. summarizer('...', max_length=1)\n"
     ]
    },
    {
     "name": "stdout",
     "output_type": "stream",
     "text": [
      "sent extraction over\n",
      "Response call\n",
      "Request timed out for https://www.nasdaq.com/articles/occidental-petroleum-oxy-q4-earnings-match-estimates. Attempting with Selenium.\n",
      "sent extraction over\n",
      "Response call\n",
      "Failed to retrieve https://medium.com/the-future-is-electric/direct-air-capture-figleaf-carbon-engineering-stops-pretending-to-be-climate-solution-ab2746c8bd15: Status code 403\n"
     ]
    },
    {
     "name": "stderr",
     "output_type": "stream",
     "text": [
      "Your max_length is set to 50, but your input_length is only 3. Since this is a summarization task, where outputs shorter than the input are typically wanted, you might consider decreasing max_length manually, e.g. summarizer('...', max_length=1)\n"
     ]
    },
    {
     "name": "stdout",
     "output_type": "stream",
     "text": [
      "sent extraction over\n",
      "Response call\n",
      "Failed to retrieve https://6sense.com/company/occidental-petroleum-corporation/5b8916137c866675e5107542: Status code 403\n",
      "sent extraction over\n",
      "Response call\n",
      "Request timed out for https://www.nasdaq.com/articles/is-a-surprise-coming-for-occidental-petroleum-oxy-this-earnings-season. Attempting with Selenium.\n",
      "sent extraction over\n",
      "Response call\n",
      "Failed to retrieve https://www.moomoo.com/community/discuss?discussion_id=897059985: Status code 403\n",
      "sent extraction over\n",
      "Done\n",
      "United States Steel\n",
      "Calling the search\n",
      "Search complete\n",
      "Response call\n",
      "https://www.theretirementgroup.com/featured-article/5448097/united-states-steel-employees-can-chatgpt-help-with-your-budget\n",
      "sent extraction over\n",
      "Response call\n",
      "Request timed out for https://www.nasdaq.com/articles/united-states-steel-corporation-x-is-attracting-investor-attention:-here-is-what-you. Attempting with Selenium.\n",
      "sent extraction over\n",
      "Response call\n",
      "https://www.linkedin.com/posts/webappia_x-reimagining-the-future-of-united-states-activity-7095417324899315712-Iz6K\n",
      "sent extraction over\n",
      "Response call\n",
      "Request timed out for https://www.nasdaq.com/articles/united-states-steel-x-stock-sinks-as-market-gains:-heres-why-0. Attempting with Selenium.\n",
      "sent extraction over\n",
      "Response call\n"
     ]
    },
    {
     "name": "stderr",
     "output_type": "stream",
     "text": [
      "Your max_length is set to 50, but your input_length is only 3. Since this is a summarization task, where outputs shorter than the input are typically wanted, you might consider decreasing max_length manually, e.g. summarizer('...', max_length=1)\n"
     ]
    },
    {
     "name": "stdout",
     "output_type": "stream",
     "text": [
      "https://www.linkedin.com/posts/stevenbugajski_digital-cio-digitaltransformation-activity-6851944422834339841-Wuzg\n",
      "sent extraction over\n",
      "Response call\n",
      "Failed to retrieve https://www.tipranks.com/news/united-states-steel-corps-new-corporate-activity-and-growth-risk-a-cause-for-worry: Status code 503\n"
     ]
    },
    {
     "name": "stderr",
     "output_type": "stream",
     "text": [
      "Your max_length is set to 50, but your input_length is only 3. Since this is a summarization task, where outputs shorter than the input are typically wanted, you might consider decreasing max_length manually, e.g. summarizer('...', max_length=1)\n"
     ]
    },
    {
     "name": "stdout",
     "output_type": "stream",
     "text": [
      "sent extraction over\n",
      "Response call\n"
     ]
    },
    {
     "name": "stderr",
     "output_type": "stream",
     "text": [
      "Your max_length is set to 50, but your input_length is only 3. Since this is a summarization task, where outputs shorter than the input are typically wanted, you might consider decreasing max_length manually, e.g. summarizer('...', max_length=1)\n"
     ]
    },
    {
     "name": "stdout",
     "output_type": "stream",
     "text": [
      "https://www.marketbeat.com/instant-alerts/nyse-x-initiated-coverage-2024-03-04/\n",
      "sent extraction over\n",
      "Response call\n"
     ]
    },
    {
     "name": "stderr",
     "output_type": "stream",
     "text": [
      "Your max_length is set to 50, but your input_length is only 3. Since this is a summarization task, where outputs shorter than the input are typically wanted, you might consider decreasing max_length manually, e.g. summarizer('...', max_length=1)\n"
     ]
    },
    {
     "name": "stdout",
     "output_type": "stream",
     "text": [
      "https://investorplace.com/2015/11/trade-of-the-day-u-s-steel-x-3/\n",
      "sent extraction over\n",
      "Done\n",
      "Sempra Energy\n",
      "Calling the search\n",
      "Search complete\n",
      "Response call\n",
      "Request timed out for https://www.nasdaq.com/articles/reasons-to-add-sempra-energy-sre-to-your-portfolio-now-0. Attempting with Selenium.\n",
      "sent extraction over\n",
      "Response call\n"
     ]
    },
    {
     "name": "stderr",
     "output_type": "stream",
     "text": [
      "Your max_length is set to 50, but your input_length is only 3. Since this is a summarization task, where outputs shorter than the input are typically wanted, you might consider decreasing max_length manually, e.g. summarizer('...', max_length=1)\n"
     ]
    },
    {
     "name": "stdout",
     "output_type": "stream",
     "text": [
      "https://investorplace.com/2023/12/power-plays-3-utility-stocks-to-snap-up-before-the-new-year/\n",
      "sent extraction over\n",
      "Response call\n",
      "Request timed out for https://www.nasdaq.com/articles/sempra-sre-q1-earnings-beat-estimates-revenues-rise-y-y. Attempting with Selenium.\n",
      "sent extraction over\n",
      "Response call\n",
      "Failed to retrieve https://www.tipranks.com/stocks/sre/financials: Status code 503\n"
     ]
    },
    {
     "name": "stderr",
     "output_type": "stream",
     "text": [
      "Your max_length is set to 50, but your input_length is only 3. Since this is a summarization task, where outputs shorter than the input are typically wanted, you might consider decreasing max_length manually, e.g. summarizer('...', max_length=1)\n"
     ]
    },
    {
     "name": "stdout",
     "output_type": "stream",
     "text": [
      "sent extraction over\n",
      "Response call\n",
      "Failed to retrieve https://www.reuters.com/business/sustainable-business/socalgas-aims-net-zero-emissions-by-2045-2021-03-23/: Status code 401\n"
     ]
    },
    {
     "name": "stderr",
     "output_type": "stream",
     "text": [
      "Your max_length is set to 50, but your input_length is only 3. Since this is a summarization task, where outputs shorter than the input are typically wanted, you might consider decreasing max_length manually, e.g. summarizer('...', max_length=1)\n"
     ]
    },
    {
     "name": "stdout",
     "output_type": "stream",
     "text": [
      "sent extraction over\n",
      "Response call\n"
     ]
    },
    {
     "name": "stderr",
     "output_type": "stream",
     "text": [
      "Your max_length is set to 50, but your input_length is only 3. Since this is a summarization task, where outputs shorter than the input are typically wanted, you might consider decreasing max_length manually, e.g. summarizer('...', max_length=1)\n"
     ]
    },
    {
     "name": "stdout",
     "output_type": "stream",
     "text": [
      "https://www.youtube.com/watch?v=LEQjZVqv87Y\n",
      "sent extraction over\n",
      "Response call\n",
      "Failed to retrieve https://finance.yahoo.com/news/3-most-undervalued-utilities-stocks-182941038.html: Status code 404\n"
     ]
    },
    {
     "name": "stderr",
     "output_type": "stream",
     "text": [
      "Your max_length is set to 50, but your input_length is only 3. Since this is a summarization task, where outputs shorter than the input are typically wanted, you might consider decreasing max_length manually, e.g. summarizer('...', max_length=1)\n"
     ]
    },
    {
     "name": "stdout",
     "output_type": "stream",
     "text": [
      "sent extraction over\n",
      "Response call\n",
      "Failed to retrieve https://www.tipranks.com/stocks/sre/ownership: Status code 503\n"
     ]
    },
    {
     "name": "stderr",
     "output_type": "stream",
     "text": [
      "Your max_length is set to 50, but your input_length is only 3. Since this is a summarization task, where outputs shorter than the input are typically wanted, you might consider decreasing max_length manually, e.g. summarizer('...', max_length=1)\n"
     ]
    },
    {
     "name": "stdout",
     "output_type": "stream",
     "text": [
      "sent extraction over\n",
      "Done\n",
      "Baxter International\n",
      "Calling the search\n",
      "Search complete\n",
      "Response call\n"
     ]
    },
    {
     "name": "stderr",
     "output_type": "stream",
     "text": [
      "Your max_length is set to 50, but your input_length is only 33. Since this is a summarization task, where outputs shorter than the input are typically wanted, you might consider decreasing max_length manually, e.g. summarizer('...', max_length=16)\n"
     ]
    },
    {
     "name": "stdout",
     "output_type": "stream",
     "text": [
      "https://www.youtube.com/watch?v=h1QJyGLWNpU\n",
      "sent extraction over\n",
      "Response call\n"
     ]
    },
    {
     "name": "stderr",
     "output_type": "stream",
     "text": [
      "Your max_length is set to 50, but your input_length is only 3. Since this is a summarization task, where outputs shorter than the input are typically wanted, you might consider decreasing max_length manually, e.g. summarizer('...', max_length=1)\n"
     ]
    },
    {
     "name": "stdout",
     "output_type": "stream",
     "text": [
      "https://www.linkedin.com/posts/baxter-healthcare_digital-health-activity-6503325523740028928-juOI?trk=public_profile_like_view\n",
      "sent extraction over\n",
      "Response call\n"
     ]
    },
    {
     "name": "stderr",
     "output_type": "stream",
     "text": [
      "Your max_length is set to 50, but your input_length is only 3. Since this is a summarization task, where outputs shorter than the input are typically wanted, you might consider decreasing max_length manually, e.g. summarizer('...', max_length=1)\n"
     ]
    },
    {
     "name": "stdout",
     "output_type": "stream",
     "text": [
      "https://www.linkedin.com/posts/baxter-healthcare_help-reduce-manual-workflow-get-stat-ecgs-activity-7163913713534627841-_tis\n",
      "sent extraction over\n",
      "Response call\n",
      "https://podcasts.apple.com/us/podcast/chatgpt-ai-and-the-future-of-finance-an-fp-a-leaders-vision/id1614335680?i=1000596654153\n",
      "sent extraction over\n",
      "Response call\n",
      "Request timed out for https://www.nasdaq.com/articles/baxter-bax-to-report-q4-earnings:-whats-in-the-cards-0. Attempting with Selenium.\n",
      "sent extraction over\n",
      "Response call\n",
      "Failed to retrieve https://www.latimes.com/archives/la-xpm-2001-aug-08-fi-31798-story.html: Status code 403\n"
     ]
    },
    {
     "name": "stderr",
     "output_type": "stream",
     "text": [
      "Your max_length is set to 50, but your input_length is only 3. Since this is a summarization task, where outputs shorter than the input are typically wanted, you might consider decreasing max_length manually, e.g. summarizer('...', max_length=1)\n"
     ]
    },
    {
     "name": "stdout",
     "output_type": "stream",
     "text": [
      "sent extraction over\n",
      "Response call\n"
     ]
    },
    {
     "name": "stderr",
     "output_type": "stream",
     "text": [
      "Your max_length is set to 50, but your input_length is only 3. Since this is a summarization task, where outputs shorter than the input are typically wanted, you might consider decreasing max_length manually, e.g. summarizer('...', max_length=1)\n"
     ]
    },
    {
     "name": "stdout",
     "output_type": "stream",
     "text": [
      "https://www.cphi-online.com/baxter-to-expand-portfolio-of-essential-generic-news044274.html\n",
      "sent extraction over\n",
      "Response call\n",
      "Failed to retrieve https://golden.com/wiki/Baxter_International-VKGBM4: Status code 403\n"
     ]
    },
    {
     "name": "stderr",
     "output_type": "stream",
     "text": [
      "Your max_length is set to 50, but your input_length is only 3. Since this is a summarization task, where outputs shorter than the input are typically wanted, you might consider decreasing max_length manually, e.g. summarizer('...', max_length=1)\n"
     ]
    },
    {
     "name": "stdout",
     "output_type": "stream",
     "text": [
      "sent extraction over\n",
      "Done\n",
      "W.W. Grainger\n",
      "Calling the search\n",
      "Search complete\n",
      "Response call\n",
      "Request timed out for https://www.nasdaq.com/articles/w.w.-grainger-gww-is-a-great-momentum-stock:-should-you-buy. Attempting with Selenium.\n",
      "sent extraction over\n",
      "Response call\n"
     ]
    },
    {
     "name": "stderr",
     "output_type": "stream",
     "text": [
      "Your max_length is set to 50, but your input_length is only 3. Since this is a summarization task, where outputs shorter than the input are typically wanted, you might consider decreasing max_length manually, e.g. summarizer('...', max_length=1)\n"
     ]
    },
    {
     "name": "stdout",
     "output_type": "stream",
     "text": [
      "https://altindex.com/ticker/gww/ai-stock-analysis\n",
      "sent extraction over\n",
      "Response call\n"
     ]
    },
    {
     "name": "stderr",
     "output_type": "stream",
     "text": [
      "Your max_length is set to 50, but your input_length is only 32. Since this is a summarization task, where outputs shorter than the input are typically wanted, you might consider decreasing max_length manually, e.g. summarizer('...', max_length=16)\n"
     ]
    },
    {
     "name": "stdout",
     "output_type": "stream",
     "text": [
      "https://www.iit.edu/news/illinois-techs-grainger-computing-innovation-prize-awarded-infasafe-ai-powered-infant-health\n",
      "sent extraction over\n",
      "Response call\n",
      "Request timed out for https://www.nasdaq.com/articles/why-w.w.-grainger-gww-might-be-well-poised-for-a-surge. Attempting with Selenium.\n",
      "sent extraction over\n",
      "Response call\n"
     ]
    },
    {
     "name": "stderr",
     "output_type": "stream",
     "text": [
      "Your max_length is set to 50, but your input_length is only 3. Since this is a summarization task, where outputs shorter than the input are typically wanted, you might consider decreasing max_length manually, e.g. summarizer('...', max_length=1)\n"
     ]
    },
    {
     "name": "stdout",
     "output_type": "stream",
     "text": [
      "https://www.computerworld.com/article/2593478/erp-woes-cut-grainger-profits.html\n",
      "sent extraction over\n",
      "Response call\n"
     ]
    },
    {
     "name": "stderr",
     "output_type": "stream",
     "text": [
      "Your max_length is set to 50, but your input_length is only 3. Since this is a summarization task, where outputs shorter than the input are typically wanted, you might consider decreasing max_length manually, e.g. summarizer('...', max_length=1)\n"
     ]
    },
    {
     "name": "stdout",
     "output_type": "stream",
     "text": [
      "https://investorplace.com/2018/04/w-w-grainger-inc-reports-strong-earnings/\n",
      "sent extraction over\n",
      "Response call\n",
      "https://www.nae.edu/312832/NAE-Awards-The-Grainger-Foundation-Frontiers-of-Engineering-Grants-for-Advancement-of-Interdisciplinary-Research\n",
      "sent extraction over\n",
      "Response call\n"
     ]
    },
    {
     "name": "stderr",
     "output_type": "stream",
     "text": [
      "Your max_length is set to 50, but your input_length is only 3. Since this is a summarization task, where outputs shorter than the input are typically wanted, you might consider decreasing max_length manually, e.g. summarizer('...', max_length=1)\n"
     ]
    },
    {
     "name": "stdout",
     "output_type": "stream",
     "text": [
      "https://www.marketbeat.com/instant-alerts/nyse-gww-downgrade-2024-03-08/\n",
      "sent extraction over\n",
      "Done\n",
      "Autoliv\n",
      "Calling the search\n",
      "Search complete\n",
      "Response call\n",
      "https://www.theretirementgroup.com/featured-article/5448097/autoliv-employees-can-chatgpt-help-with-your-budget\n",
      "sent extraction over\n",
      "Response call\n",
      "https://www.linkedin.com/posts/daniel-c%C3%A1zarez-4415b411a_health-and-safety-at-autoliv-activity-7048907598942646272-2y9G?trk=public_profile_share_view\n",
      "sent extraction over\n",
      "Response call\n"
     ]
    },
    {
     "name": "stderr",
     "output_type": "stream",
     "text": [
      "Your max_length is set to 50, but your input_length is only 3. Since this is a summarization task, where outputs shorter than the input are typically wanted, you might consider decreasing max_length manually, e.g. summarizer('...', max_length=1)\n"
     ]
    },
    {
     "name": "stdout",
     "output_type": "stream",
     "text": [
      "https://www.just-auto.com/data-insights/autoliv-gets-grant-for-knee-airbag-device-for-vehicle-occupant-lower-extremity-restraint/\n",
      "sent extraction over\n",
      "Response call\n"
     ]
    },
    {
     "name": "stderr",
     "output_type": "stream",
     "text": [
      "Your max_length is set to 50, but your input_length is only 3. Since this is a summarization task, where outputs shorter than the input are typically wanted, you might consider decreasing max_length manually, e.g. summarizer('...', max_length=1)\n"
     ]
    },
    {
     "name": "stdout",
     "output_type": "stream",
     "text": [
      "https://www.euronews.com/next/2022/01/28/autoliv-results\n",
      "sent extraction over\n",
      "Response call\n"
     ]
    },
    {
     "name": "stderr",
     "output_type": "stream",
     "text": [
      "Your max_length is set to 50, but your input_length is only 3. Since this is a summarization task, where outputs shorter than the input are typically wanted, you might consider decreasing max_length manually, e.g. summarizer('...', max_length=1)\n"
     ]
    },
    {
     "name": "stdout",
     "output_type": "stream",
     "text": [
      "https://www.linkedin.com/pulse/autoliv-masters-quality-alis-gerben-de-haan\n",
      "sent extraction over\n",
      "Response call\n",
      "Request timed out for https://www.nasdaq.com/articles/are-investors-undervaluing-autoliv-alv-right-now. Attempting with Selenium.\n",
      "sent extraction over\n",
      "Response call\n",
      "Failed to retrieve https://www.reuters.com/article/autoliv-lawsuit/autoliv-agrees-to-settle-u-s-securities-class-action-idUSL6N0P81CQ20140627: Status code 401\n"
     ]
    },
    {
     "name": "stderr",
     "output_type": "stream",
     "text": [
      "Your max_length is set to 50, but your input_length is only 3. Since this is a summarization task, where outputs shorter than the input are typically wanted, you might consider decreasing max_length manually, e.g. summarizer('...', max_length=1)\n"
     ]
    },
    {
     "name": "stdout",
     "output_type": "stream",
     "text": [
      "sent extraction over\n",
      "Response call\n"
     ]
    },
    {
     "name": "stderr",
     "output_type": "stream",
     "text": [
      "Your max_length is set to 50, but your input_length is only 3. Since this is a summarization task, where outputs shorter than the input are typically wanted, you might consider decreasing max_length manually, e.g. summarizer('...', max_length=1)\n"
     ]
    },
    {
     "name": "stdout",
     "output_type": "stream",
     "text": [
      "https://www.lean.org/the-lean-post/articles/leadership-qa-thomas-hartman-senior-director-autoliv-americas/\n",
      "sent extraction over\n",
      "Done\n",
      "Norfolk Southern\n",
      "Calling the search\n",
      "Search complete\n",
      "Response call\n",
      "https://www.theretirementgroup.com/featured-article/5448097/norfolk-southern-employees-can-chatgpt-help-with-your-budget\n",
      "sent extraction over\n",
      "Response call\n",
      "https://www.reddit.com/r/ChatGPT/comments/11is0o0/chatgpt_knows_whats_up_with_norfolk_southern/\n",
      "sent extraction over\n",
      "Response call\n"
     ]
    },
    {
     "name": "stderr",
     "output_type": "stream",
     "text": [
      "Your max_length is set to 50, but your input_length is only 3. Since this is a summarization task, where outputs shorter than the input are typically wanted, you might consider decreasing max_length manually, e.g. summarizer('...', max_length=1)\n"
     ]
    },
    {
     "name": "stdout",
     "output_type": "stream",
     "text": [
      "https://www.linkedin.com/pulse/stock-story-norfolk-southern-magellanfinancialgroup-doxpe\n",
      "sent extraction over\n",
      "Response call\n"
     ]
    },
    {
     "name": "stderr",
     "output_type": "stream",
     "text": [
      "Your max_length is set to 50, but your input_length is only 3. Since this is a summarization task, where outputs shorter than the input are typically wanted, you might consider decreasing max_length manually, e.g. summarizer('...', max_length=1)\n"
     ]
    },
    {
     "name": "stdout",
     "output_type": "stream",
     "text": [
      "https://www.reddit.com/r/bing/comments/11powns/asked_bing_ai_about_the_dam_created_by_norfolk/\n",
      "sent extraction over\n",
      "Response call\n",
      "Request timed out for https://www.nasdaq.com/articles/heres-why-investors-should-avoid-norfolk-southern-nsc-now. Attempting with Selenium.\n",
      "sent extraction over\n",
      "Response call\n",
      "Failed to retrieve https://wgnradio.com/news/business-news/ap-derailment-costs-grow-for-norfolk-southern-but-railroads-trains-moving-more-smoothly/: Status code 429\n"
     ]
    },
    {
     "name": "stderr",
     "output_type": "stream",
     "text": [
      "Your max_length is set to 50, but your input_length is only 3. Since this is a summarization task, where outputs shorter than the input are typically wanted, you might consider decreasing max_length manually, e.g. summarizer('...', max_length=1)\n"
     ]
    },
    {
     "name": "stdout",
     "output_type": "stream",
     "text": [
      "sent extraction over\n",
      "Response call\n"
     ]
    },
    {
     "name": "stderr",
     "output_type": "stream",
     "text": [
      "Your max_length is set to 50, but your input_length is only 3. Since this is a summarization task, where outputs shorter than the input are typically wanted, you might consider decreasing max_length manually, e.g. summarizer('...', max_length=1)\n"
     ]
    },
    {
     "name": "stdout",
     "output_type": "stream",
     "text": [
      "https://leoncosgrove.com/news/mallory-v-norfolk-southern-railway-company-and-the-potential-rise-of-consent-based-jurisdiction/\n",
      "sent extraction over\n",
      "Response call\n",
      "https://qz.com/emails/daily-brief/1850144042/the-epa-steps-in\n",
      "sent extraction over\n",
      "Done\n",
      "Baker Hughes\n",
      "Calling the search\n",
      "Search complete\n",
      "Response call\n",
      "https://www.theretirementgroup.com/featured-article/5448097/baker-hughes-employees-can-chatgpt-help-with-your-budget\n",
      "sent extraction over\n",
      "Response call\n",
      "Failed to retrieve https://seekingalpha.com/article/4595225-chatgpt-the-death-of-c3ai: Status code 403\n",
      "sent extraction over\n",
      "Response call\n",
      "Failed to retrieve https://hyperight.com/how-data-analytics-helped-baker-hughes-transform-into-a-brilliant-factory/: Status code 403\n"
     ]
    },
    {
     "name": "stderr",
     "output_type": "stream",
     "text": [
      "Your max_length is set to 50, but your input_length is only 3. Since this is a summarization task, where outputs shorter than the input are typically wanted, you might consider decreasing max_length manually, e.g. summarizer('...', max_length=1)\n"
     ]
    },
    {
     "name": "stdout",
     "output_type": "stream",
     "text": [
      "sent extraction over\n",
      "Response call\n",
      "https://www.toolify.ai/ai-news/unlocking-the-secrets-of-c3ai-stock-ai-hype-chatgpt-and-revenue-growth-829692\n",
      "sent extraction over\n",
      "Response call\n",
      "https://www.linkedin.com/pulse/chatgpt-green-energy-behavioral-interviews-life-engineer-sharma\n",
      "sent extraction over\n",
      "Response call\n"
     ]
    },
    {
     "name": "stderr",
     "output_type": "stream",
     "text": [
      "Your max_length is set to 50, but your input_length is only 3. Since this is a summarization task, where outputs shorter than the input are typically wanted, you might consider decreasing max_length manually, e.g. summarizer('...', max_length=1)\n"
     ]
    },
    {
     "name": "stdout",
     "output_type": "stream",
     "text": [
      "https://www.youtube.com/watch?v=mREEJVBeyv4\n",
      "sent extraction over\n",
      "Response call\n",
      "https://www.linkedin.com/posts/praseel-ip-44a77255_ai-is-eating-the-world-how-to-lead-not-activity-7163942059614068738-cxmq\n",
      "sent extraction over\n",
      "Done\n",
      "Ally Financial\n",
      "Calling the search\n",
      "Search complete\n",
      "Response call\n",
      "Failed to retrieve https://thefinancialbrand.com/news/bank-marketing/digital-marketing-banking/ally-bank-tests-out-chatgpt-might-use-it-for-real-by-yearend-164004/: Status code 403\n",
      "sent extraction over\n",
      "Response call\n",
      "https://www.ally.com/tech/doing-it-right-with-ai-allys-foray-into-generative-ai/\n",
      "sent extraction over\n",
      "Response call\n",
      "Failed to retrieve https://www.americanbanker.com/news/ally-banks-foray-into-generative-ai-we-dont-want-to-stand-still: Status code 403\n",
      "sent extraction over\n"
     ]
    },
    {
     "name": "stderr",
     "output_type": "stream",
     "text": [
      "Your max_length is set to 50, but your input_length is only 3. Since this is a summarization task, where outputs shorter than the input are typically wanted, you might consider decreasing max_length manually, e.g. summarizer('...', max_length=1)\n"
     ]
    },
    {
     "name": "stdout",
     "output_type": "stream",
     "text": [
      "Response call\n",
      "https://www.bizjournals.com/charlotte/inno/stories/news/2023/09/01/ally-bank-generative-ai-platform-launch-microsoft.html\n",
      "sent extraction over\n",
      "Response call\n",
      "https://www.marketingdive.com/news/ally-bank-generative-AI-LLM-marketing-enterprise-workflows/700138/\n",
      "sent extraction over\n",
      "Response call\n",
      "Failed to retrieve https://thefinancialbrand.com/news/admin/feature/ally-set-to-push-on-genai-assisted-marketing-in-2024-172096/: Status code 403\n",
      "sent extraction over\n",
      "Response call\n",
      "Failed to retrieve https://www.nationalmortgagenews.com/news/ally-banks-foray-into-generative-ai-we-dont-want-to-stand-still: Status code 403\n",
      "sent extraction over\n",
      "Response call\n",
      "https://www.linkedin.com/posts/srober_ally-financial-collaborates-with-langchain-activity-7151349431617900545-v6Wg\n",
      "sent extraction over\n",
      "Done\n",
      "Sonic Automotive\n",
      "Calling the search\n",
      "Search complete\n",
      "Response call\n",
      "Request timed out for https://www.nasdaq.com/articles/sonic-automotive-sah-reports-q4-earnings:-what-key-metrics-have-to-say. Attempting with Selenium.\n",
      "sent extraction over\n",
      "Response call\n",
      "Request timed out for https://www.nasdaq.com/articles/sonic-automotive-sah-q4-earnings-miss-estimates. Attempting with Selenium.\n",
      "sent extraction over\n",
      "Response call\n",
      "https://www.linkedin.com/posts/karina-el-baze_instabase-selected-by-sonic-automotive-to-activity-6940829176492937216-sbAV?trk=public_profile_like_view\n",
      "sent extraction over\n",
      "Response call\n"
     ]
    },
    {
     "name": "stderr",
     "output_type": "stream",
     "text": [
      "Your max_length is set to 50, but your input_length is only 3. Since this is a summarization task, where outputs shorter than the input are typically wanted, you might consider decreasing max_length manually, e.g. summarizer('...', max_length=1)\n"
     ]
    },
    {
     "name": "stdout",
     "output_type": "stream",
     "text": [
      "https://www.marketbeat.com/instant-alerts/nyse-sah-analyst-earnings-estimates-2024-03-11/\n",
      "sent extraction over\n",
      "Response call\n",
      "Failed to retrieve https://www.latimes.com/archives/la-xpm-2008-may-08-fi-briefs8.s6-story.html: Status code 403\n"
     ]
    },
    {
     "name": "stderr",
     "output_type": "stream",
     "text": [
      "Your max_length is set to 50, but your input_length is only 3. Since this is a summarization task, where outputs shorter than the input are typically wanted, you might consider decreasing max_length manually, e.g. summarizer('...', max_length=1)\n"
     ]
    },
    {
     "name": "stdout",
     "output_type": "stream",
     "text": [
      "sent extraction over\n",
      "Response call\n",
      "Failed to retrieve https://www.tipranks.com/stocks/sah/forecast: Status code 503\n"
     ]
    },
    {
     "name": "stderr",
     "output_type": "stream",
     "text": [
      "Your max_length is set to 50, but your input_length is only 3. Since this is a summarization task, where outputs shorter than the input are typically wanted, you might consider decreasing max_length manually, e.g. summarizer('...', max_length=1)\n"
     ]
    },
    {
     "name": "stdout",
     "output_type": "stream",
     "text": [
      "sent extraction over\n",
      "Response call\n",
      "https://www.marketbeat.com/instant-alerts/nyse-sah-analyst-earnings-estimates-2024-03-08/\n"
     ]
    },
    {
     "name": "stderr",
     "output_type": "stream",
     "text": [
      "Your max_length is set to 50, but your input_length is only 3. Since this is a summarization task, where outputs shorter than the input are typically wanted, you might consider decreasing max_length manually, e.g. summarizer('...', max_length=1)\n"
     ]
    },
    {
     "name": "stdout",
     "output_type": "stream",
     "text": [
      "sent extraction over\n",
      "Response call\n",
      "https://www.linkedin.com/posts/managing-transitions-business-development_ai-carretail-customercentricity-activity-7175478509736185856-WG3x\n",
      "sent extraction over\n",
      "Done\n",
      "Owens & Minor\n",
      "Calling the search\n",
      "Search complete\n",
      "Response call\n",
      "https://www.linkedin.com/posts/paco-farias_chatgpt-llm-ai-activity-7120858231446409216-3mH1?trk=public_profile_like_view\n",
      "sent extraction over\n",
      "Response call\n"
     ]
    },
    {
     "name": "stderr",
     "output_type": "stream",
     "text": [
      "Your max_length is set to 50, but your input_length is only 3. Since this is a summarization task, where outputs shorter than the input are typically wanted, you might consider decreasing max_length manually, e.g. summarizer('...', max_length=1)\n"
     ]
    },
    {
     "name": "stdout",
     "output_type": "stream",
     "text": [
      "https://www.linkedin.com/posts/salimafshar_massive-26-billion-record-leak-dropbox-activity-7155390097981337601-DQtx\n",
      "sent extraction over\n",
      "Response call\n",
      "Failed to retrieve https://medicalxpress.com/news/2021-08-fda-eco-med-ultrasound-gels-lotions.html: Status code 400\n"
     ]
    },
    {
     "name": "stderr",
     "output_type": "stream",
     "text": [
      "Your max_length is set to 50, but your input_length is only 3. Since this is a summarization task, where outputs shorter than the input are typically wanted, you might consider decreasing max_length manually, e.g. summarizer('...', max_length=1)\n"
     ]
    },
    {
     "name": "stdout",
     "output_type": "stream",
     "text": [
      "sent extraction over\n",
      "Response call\n",
      "Failed to retrieve https://www.glassdoor.com/Salary/Owens-And-Minor-Distribution-Coordinator-1127121-Salaries-EJI_IE501.0,15_KO16,40_IL.41,48_IC1127121.htm: Status code 403\n"
     ]
    },
    {
     "name": "stderr",
     "output_type": "stream",
     "text": [
      "Your max_length is set to 50, but your input_length is only 3. Since this is a summarization task, where outputs shorter than the input are typically wanted, you might consider decreasing max_length manually, e.g. summarizer('...', max_length=1)\n"
     ]
    },
    {
     "name": "stdout",
     "output_type": "stream",
     "text": [
      "sent extraction over\n",
      "Response call\n"
     ]
    },
    {
     "name": "stderr",
     "output_type": "stream",
     "text": [
      "Your max_length is set to 50, but your input_length is only 3. Since this is a summarization task, where outputs shorter than the input are typically wanted, you might consider decreasing max_length manually, e.g. summarizer('...', max_length=1)\n"
     ]
    },
    {
     "name": "stdout",
     "output_type": "stream",
     "text": [
      "https://www.itprotoday.com/sql-server/medicalsurgical-supplier-wins-data-warehousing-award\n",
      "sent extraction over\n",
      "Response call\n",
      "Failed to retrieve https://www.tipranks.com/news/company-announcements/owens-minor-unveils-performance-based-stock-incentive-plan: Status code 503\n"
     ]
    },
    {
     "name": "stderr",
     "output_type": "stream",
     "text": [
      "Your max_length is set to 50, but your input_length is only 3. Since this is a summarization task, where outputs shorter than the input are typically wanted, you might consider decreasing max_length manually, e.g. summarizer('...', max_length=1)\n"
     ]
    },
    {
     "name": "stdout",
     "output_type": "stream",
     "text": [
      "sent extraction over\n",
      "Response call\n"
     ]
    },
    {
     "name": "stderr",
     "output_type": "stream",
     "text": [
      "Your max_length is set to 50, but your input_length is only 3. Since this is a summarization task, where outputs shorter than the input are typically wanted, you might consider decreasing max_length manually, e.g. summarizer('...', max_length=1)\n"
     ]
    },
    {
     "name": "stdout",
     "output_type": "stream",
     "text": [
      "https://www.auntminnie.com/clinical-news/ultrasound/article/15629088/fda-warns-against-use-of-echo-med-gels-and-lotions\n",
      "sent extraction over\n",
      "Response call\n",
      "Failed to retrieve https://www.tipranks.com/news/company-announcements/owens-minor-releases-new-financial-performance-insights: Status code 503\n"
     ]
    },
    {
     "name": "stderr",
     "output_type": "stream",
     "text": [
      "Your max_length is set to 50, but your input_length is only 3. Since this is a summarization task, where outputs shorter than the input are typically wanted, you might consider decreasing max_length manually, e.g. summarizer('...', max_length=1)\n"
     ]
    },
    {
     "name": "stdout",
     "output_type": "stream",
     "text": [
      "sent extraction over\n",
      "Done\n",
      "Huntsman\n",
      "Calling the search\n",
      "Search complete\n",
      "Response call\n",
      "Failed to retrieve https://huntsman.usu.edu/news/magazine/articles/2023/chessboard-of-humanity: Status code 403\n",
      "sent extraction over\n",
      "Response call\n",
      "https://healthcare.utah.edu/huntsmancancerinstitute/press-releases/2023/03/can-chatgpt-be-counted\n",
      "sent extraction over\n",
      "Response call\n"
     ]
    },
    {
     "name": "stderr",
     "output_type": "stream",
     "text": [
      "Your max_length is set to 50, but your input_length is only 31. Since this is a summarization task, where outputs shorter than the input are typically wanted, you might consider decreasing max_length manually, e.g. summarizer('...', max_length=15)\n"
     ]
    },
    {
     "name": "stdout",
     "output_type": "stream",
     "text": [
      "https://www.youtube.com/watch?v=yVQOas7Grok\n",
      "sent extraction over\n",
      "Response call\n",
      "Failed to retrieve https://www.sciencedaily.com/releases/2023/03/230317184934.htm: Status code 403\n",
      "sent extraction over\n",
      "Response call\n",
      "https://www.theretirementgroup.com/featured-article/5448097/huntsman-employees-can-chatgpt-help-with-your-budget\n",
      "sent extraction over\n",
      "Response call\n",
      "https://gephardtdaily.com/local/huntsman-cancer-institute-studies-use-of-chatgpt-in-evaluating-cancer-myths-misconceptions/\n",
      "sent extraction over\n",
      "Response call\n",
      "https://bioengineer.org/can-chatgpt-be-counted-on/\n",
      "sent extraction over\n",
      "Response call\n",
      "https://www.newswise.com/articles/can-chatgpt-be-counted-on\n",
      "sent extraction over\n",
      "Done\n",
      "Laboratory Corp. of America\n",
      "Calling the search\n",
      "Search complete\n",
      "Response call\n",
      "https://www.theretirementgroup.com/featured-article/5448097/laboratory-corp-of-america-employees-can-chatgpt-help-with-your-budget\n",
      "sent extraction over\n",
      "Response call\n",
      "https://aiolux.com/contrasts/side-by-side?symbol_arr=JNPR%2CLH&tab_name=technicals\n",
      "sent extraction over\n",
      "Response call\n",
      "https://www.linkedin.com/posts/denis-_chatgpt-openai-samaltman-activity-7089589384848584704-P1rH\n",
      "sent extraction over\n",
      "Response call\n",
      "Failed to retrieve https://www.tipranks.com/stocks/lh: Status code 503\n"
     ]
    },
    {
     "name": "stderr",
     "output_type": "stream",
     "text": [
      "Your max_length is set to 50, but your input_length is only 3. Since this is a summarization task, where outputs shorter than the input are typically wanted, you might consider decreasing max_length manually, e.g. summarizer('...', max_length=1)\n"
     ]
    },
    {
     "name": "stdout",
     "output_type": "stream",
     "text": [
      "sent extraction over\n",
      "Response call\n",
      "Failed to retrieve https://finance.yahoo.com/quote/PRPO?ltr=1: Status code 404\n"
     ]
    },
    {
     "name": "stderr",
     "output_type": "stream",
     "text": [
      "Your max_length is set to 50, but your input_length is only 3. Since this is a summarization task, where outputs shorter than the input are typically wanted, you might consider decreasing max_length manually, e.g. summarizer('...', max_length=1)\n"
     ]
    },
    {
     "name": "stdout",
     "output_type": "stream",
     "text": [
      "sent extraction over\n",
      "Response call\n"
     ]
    },
    {
     "name": "stderr",
     "output_type": "stream",
     "text": [
      "Your max_length is set to 50, but your input_length is only 3. Since this is a summarization task, where outputs shorter than the input are typically wanted, you might consider decreasing max_length manually, e.g. summarizer('...', max_length=1)\n"
     ]
    },
    {
     "name": "stdout",
     "output_type": "stream",
     "text": [
      "https://www.valuewalk.com/quest-diagnostics-inc-dgx-earnings-analysis/\n",
      "sent extraction over\n",
      "Response call\n",
      "https://www.zoonova.com/\n",
      "sent extraction over\n",
      "Done\n",
      "Murphy USA\n",
      "Calling the search\n",
      "Search complete\n",
      "Response call\n"
     ]
    },
    {
     "name": "stderr",
     "output_type": "stream",
     "text": [
      "Your max_length is set to 50, but your input_length is only 3. Since this is a summarization task, where outputs shorter than the input are typically wanted, you might consider decreasing max_length manually, e.g. summarizer('...', max_length=1)\n"
     ]
    },
    {
     "name": "stdout",
     "output_type": "stream",
     "text": [
      "https://www.pymnts.com/es/earnings/2022/murphy-usa-continues-growth-fuel-prices-up/\n",
      "sent extraction over\n",
      "Response call\n",
      "Request timed out for https://www.nasdaq.com/articles/3-reasons-growth-investors-will-love-murphy-usa-musa. Attempting with Selenium.\n",
      "sent extraction over\n",
      "Response call\n",
      "Failed to retrieve https://seekingalpha.com/article/4568674-murphy-usa-slowing-growth-affecting-share-price-appreciation: Status code 403\n"
     ]
    },
    {
     "name": "stderr",
     "output_type": "stream",
     "text": [
      "Your max_length is set to 50, but your input_length is only 3. Since this is a summarization task, where outputs shorter than the input are typically wanted, you might consider decreasing max_length manually, e.g. summarizer('...', max_length=1)\n"
     ]
    },
    {
     "name": "stdout",
     "output_type": "stream",
     "text": [
      "sent extraction over\n",
      "Response call\n",
      "https://www.linkedin.com/posts/daniel-p-burke_chatgpt-is-mercilessly-mocking-me-this-morning-activity-7160647031147892736-VP4l\n",
      "sent extraction over\n",
      "Response call\n",
      "https://stocknews.com/news/musa-odp-sbh-msft-3-retail-stocks-to-supercharge-your-portfolio-today/\n",
      "sent extraction over\n",
      "Response call\n",
      "Request timed out for https://www.nasdaq.com/articles/is-murphy-usa-musa-outperforming-other-oils-energy-stocks-this-year-0. Attempting with Selenium.\n",
      "sent extraction over\n",
      "Response call\n",
      "Failed to retrieve https://finance.yahoo.com/news/safe-havens-3-low-beta-110000386.html: Status code 404\n"
     ]
    },
    {
     "name": "stderr",
     "output_type": "stream",
     "text": [
      "Your max_length is set to 50, but your input_length is only 3. Since this is a summarization task, where outputs shorter than the input are typically wanted, you might consider decreasing max_length manually, e.g. summarizer('...', max_length=1)\n"
     ]
    },
    {
     "name": "stdout",
     "output_type": "stream",
     "text": [
      "sent extraction over\n",
      "Response call\n",
      "Failed to retrieve https://www.fox16.com/news/local-news/murphy-usa-raises-1-million-and-counting-for-boys-girls-clubs-of-america/: Status code 429\n"
     ]
    },
    {
     "name": "stderr",
     "output_type": "stream",
     "text": [
      "Your max_length is set to 50, but your input_length is only 3. Since this is a summarization task, where outputs shorter than the input are typically wanted, you might consider decreasing max_length manually, e.g. summarizer('...', max_length=1)\n"
     ]
    },
    {
     "name": "stdout",
     "output_type": "stream",
     "text": [
      "sent extraction over\n",
      "Done\n",
      "Advance Auto Parts\n",
      "Calling the search\n",
      "Search complete\n",
      "Response call\n",
      "https://speakai.co/advance-auto-parts-swot-analysis/\n",
      "sent extraction over\n",
      "Response call\n",
      "https://www.linkedin.com/posts/1charlesdowdell_in-looking-at-the-advance-auto-parts-career-activity-6891517345127313408-Zfyu\n",
      "sent extraction over\n",
      "Response call\n"
     ]
    },
    {
     "name": "stderr",
     "output_type": "stream",
     "text": [
      "Your max_length is set to 50, but your input_length is only 3. Since this is a summarization task, where outputs shorter than the input are typically wanted, you might consider decreasing max_length manually, e.g. summarizer('...', max_length=1)\n"
     ]
    },
    {
     "name": "stdout",
     "output_type": "stream",
     "text": [
      "https://racer.com/2023/02/22/indycar-advance-auto-parts-sign-new-partnership/\n",
      "sent extraction over\n",
      "Response call\n",
      "Failed to retrieve https://www.tipranks.com/news/the-fly/advance-auto-parts-put-volume-heavy-and-directionally-bearish-2: Status code 503\n"
     ]
    },
    {
     "name": "stderr",
     "output_type": "stream",
     "text": [
      "Your max_length is set to 50, but your input_length is only 3. Since this is a summarization task, where outputs shorter than the input are typically wanted, you might consider decreasing max_length manually, e.g. summarizer('...', max_length=1)\n"
     ]
    },
    {
     "name": "stdout",
     "output_type": "stream",
     "text": [
      "sent extraction over\n",
      "Response call\n",
      "Failed to retrieve https://medium.com/artificial-corner/using-chatgpt-to-generate-data-4-examples-918c7fce16ef: Status code 403\n",
      "sent extraction over\n",
      "Response call\n",
      "Failed to retrieve https://www.wsj.com/finance/investing/an-auto-parts-retailer-crashedit-can-be-fixed-5a70adfe: Status code 403\n"
     ]
    },
    {
     "name": "stderr",
     "output_type": "stream",
     "text": [
      "Your max_length is set to 50, but your input_length is only 3. Since this is a summarization task, where outputs shorter than the input are typically wanted, you might consider decreasing max_length manually, e.g. summarizer('...', max_length=1)\n"
     ]
    },
    {
     "name": "stdout",
     "output_type": "stream",
     "text": [
      "sent extraction over\n",
      "Response call\n"
     ]
    },
    {
     "name": "stderr",
     "output_type": "stream",
     "text": [
      "Your max_length is set to 50, but your input_length is only 3. Since this is a summarization task, where outputs shorter than the input are typically wanted, you might consider decreasing max_length manually, e.g. summarizer('...', max_length=1)\n"
     ]
    },
    {
     "name": "stdout",
     "output_type": "stream",
     "text": [
      "https://www.linkedin.com/posts/chad-tilley-6856571b5_advanceauto-autozone-oreilly-activity-7176240974224883713-etaH\n",
      "sent extraction over\n",
      "Response call\n",
      "Request timed out for https://www.nasdaq.com/articles/advance-auto-aap-q4-earnings-revenues-miss-estimates. Attempting with Selenium.\n",
      "sent extraction over\n",
      "Done\n",
      "Fidelity National Financial\n",
      "Calling the search\n",
      "Search complete\n",
      "Response call\n"
     ]
    },
    {
     "name": "stderr",
     "output_type": "stream",
     "text": [
      "Your max_length is set to 50, but your input_length is only 3. Since this is a summarization task, where outputs shorter than the input are typically wanted, you might consider decreasing max_length manually, e.g. summarizer('...', max_length=1)\n"
     ]
    },
    {
     "name": "stdout",
     "output_type": "stream",
     "text": [
      "https://www.cybersecuritydive.com/news/fidelity-national-financial-cyberattack/700703/\n",
      "sent extraction over\n",
      "Response call\n"
     ]
    },
    {
     "name": "stderr",
     "output_type": "stream",
     "text": [
      "Your max_length is set to 50, but your input_length is only 3. Since this is a summarization task, where outputs shorter than the input are typically wanted, you might consider decreasing max_length manually, e.g. summarizer('...', max_length=1)\n"
     ]
    },
    {
     "name": "stdout",
     "output_type": "stream",
     "text": [
      "https://www.cybersecuritydive.com/news/fidelity-national-financial-operations-cyberattack/701370/\n",
      "sent extraction over\n",
      "Response call\n"
     ]
    },
    {
     "name": "stderr",
     "output_type": "stream",
     "text": [
      "Your max_length is set to 50, but your input_length is only 3. Since this is a summarization task, where outputs shorter than the input are typically wanted, you might consider decreasing max_length manually, e.g. summarizer('...', max_length=1)\n"
     ]
    },
    {
     "name": "stdout",
     "output_type": "stream",
     "text": [
      "https://www.realestatenews.com/2023/11/21/hack-at-nations-largest-title-company-stalls-closings\n",
      "sent extraction over\n",
      "Response call\n"
     ]
    },
    {
     "name": "stderr",
     "output_type": "stream",
     "text": [
      "Your max_length is set to 50, but your input_length is only 3. Since this is a summarization task, where outputs shorter than the input are typically wanted, you might consider decreasing max_length manually, e.g. summarizer('...', max_length=1)\n"
     ]
    },
    {
     "name": "stdout",
     "output_type": "stream",
     "text": [
      "https://techcrunch.com/2023/11/22/fidelity-national-financial-shuts-down-network-in-wake-of-cybersecurity-incident/\n",
      "sent extraction over\n",
      "Response call\n"
     ]
    },
    {
     "name": "stderr",
     "output_type": "stream",
     "text": [
      "Your max_length is set to 50, but your input_length is only 3. Since this is a summarization task, where outputs shorter than the input are typically wanted, you might consider decreasing max_length manually, e.g. summarizer('...', max_length=1)\n"
     ]
    },
    {
     "name": "stdout",
     "output_type": "stream",
     "text": [
      "https://www.certifid.com/article/fidelity-national-financial-leaders-on-fraud-prevention\n",
      "sent extraction over\n"
     ]
    },
    {
     "name": "stderr",
     "output_type": "stream",
     "text": [
      "Your max_length is set to 50, but your input_length is only 3. Since this is a summarization task, where outputs shorter than the input are typically wanted, you might consider decreasing max_length manually, e.g. summarizer('...', max_length=1)\n"
     ]
    },
    {
     "name": "stdout",
     "output_type": "stream",
     "text": [
      "Response call\n",
      "https://www.realestatenews.com/2023/11/28/closings-inch-forward-as-agents-navigate-title-company-hack\n",
      "sent extraction over\n",
      "Response call\n"
     ]
    },
    {
     "name": "stderr",
     "output_type": "stream",
     "text": [
      "Your max_length is set to 50, but your input_length is only 3. Since this is a summarization task, where outputs shorter than the input are typically wanted, you might consider decreasing max_length manually, e.g. summarizer('...', max_length=1)\n"
     ]
    },
    {
     "name": "stdout",
     "output_type": "stream",
     "text": [
      "https://techcrunch.com/2023/11/27/ransomware-catastrophe-at-fidelity-national-financial-causes-panic-with-homeowners-and-buyers/\n",
      "sent extraction over\n",
      "Response call\n",
      "Request timed out for https://www.nasdaq.com/articles/why-should-fidelity-national-fnf-stock-be-in-your-portfolio. Attempting with Selenium.\n",
      "sent extraction over\n",
      "Done\n",
      "Air Products & Chemicals\n",
      "Calling the search\n",
      "Search complete\n",
      "Response call\n",
      "Failed to retrieve https://medium.com/artificial-corner/using-chatgpt-to-generate-data-4-examples-918c7fce16ef: Status code 403\n",
      "sent extraction over\n",
      "Response call\n",
      "https://investorplace.com/2023/04/3-stocks-to-buy-for-exposure-to-ai-and-generous-dividends/\n",
      "sent extraction over\n",
      "Response call\n",
      "Request timed out for https://www.nasdaq.com/articles/the-3-best-hydrogen-stocks-to-buy-in-january-2024. Attempting with Selenium.\n"
     ]
    },
    {
     "name": "stderr",
     "output_type": "stream",
     "text": [
      "Your max_length is set to 50, but your input_length is only 3. Since this is a summarization task, where outputs shorter than the input are typically wanted, you might consider decreasing max_length manually, e.g. summarizer('...', max_length=1)\n"
     ]
    },
    {
     "name": "stdout",
     "output_type": "stream",
     "text": [
      "sent extraction over\n",
      "Response call\n",
      "https://investorplace.com/2023/06/investing-in-hydrogen-7-top-stocks-poised-for-millionaire-status/\n",
      "sent extraction over\n",
      "Response call\n",
      "Failed to retrieve https://finance.yahoo.com/news/betting-big-3-hydrogen-stocks-194330491.html: Status code 404\n"
     ]
    },
    {
     "name": "stderr",
     "output_type": "stream",
     "text": [
      "Your max_length is set to 50, but your input_length is only 3. Since this is a summarization task, where outputs shorter than the input are typically wanted, you might consider decreasing max_length manually, e.g. summarizer('...', max_length=1)\n"
     ]
    },
    {
     "name": "stdout",
     "output_type": "stream",
     "text": [
      "sent extraction over\n",
      "Response call\n",
      "Failed to retrieve https://www.tipranks.com/stocks/apd: Status code 503\n"
     ]
    },
    {
     "name": "stderr",
     "output_type": "stream",
     "text": [
      "Your max_length is set to 50, but your input_length is only 3. Since this is a summarization task, where outputs shorter than the input are typically wanted, you might consider decreasing max_length manually, e.g. summarizer('...', max_length=1)\n"
     ]
    },
    {
     "name": "stdout",
     "output_type": "stream",
     "text": [
      "sent extraction over\n",
      "Response call\n",
      "Request timed out for https://www.nasdaq.com/articles/wall-street-favorites:-3-hydrogen-stocks-with-strong-buy-ratings-for-february-2024. Attempting with Selenium.\n"
     ]
    },
    {
     "name": "stderr",
     "output_type": "stream",
     "text": [
      "Your max_length is set to 50, but your input_length is only 3. Since this is a summarization task, where outputs shorter than the input are typically wanted, you might consider decreasing max_length manually, e.g. summarizer('...', max_length=1)\n"
     ]
    },
    {
     "name": "stdout",
     "output_type": "stream",
     "text": [
      "sent extraction over\n",
      "Response call\n",
      "https://www.linkedin.com/posts/torsten-michael-peschek-2042665_currently-everyone-is-excited-about-chat-activity-7053034514763120640-5Pvp\n",
      "sent extraction over\n",
      "Done\n",
      "Hormel Foods\n",
      "Calling the search\n",
      "Search complete\n",
      "Response call\n",
      "https://www.hormelfoods.com/inspired/story/tracking-the-ai-revolution/\n",
      "sent extraction over\n",
      "Response call\n",
      "Request timed out for https://www.nasdaq.com/articles/hormel-foods-hrl-q1-earnings-and-revenues-surpass-estimates-0. Attempting with Selenium.\n",
      "sent extraction over\n",
      "Response call\n",
      "https://www.linkedin.com/posts/angieelliott_generativeai-activity-7111154223702036480-Izf6\n",
      "sent extraction over\n",
      "Response call\n"
     ]
    },
    {
     "name": "stderr",
     "output_type": "stream",
     "text": [
      "Your max_length is set to 50, but your input_length is only 3. Since this is a summarization task, where outputs shorter than the input are typically wanted, you might consider decreasing max_length manually, e.g. summarizer('...', max_length=1)\n"
     ]
    },
    {
     "name": "stdout",
     "output_type": "stream",
     "text": [
      "https://www.reddit.com/r/recruiting/comments/105wt52/chat_gpt_for_recruting/\n",
      "sent extraction over\n",
      "Response call\n"
     ]
    },
    {
     "name": "stderr",
     "output_type": "stream",
     "text": [
      "Your max_length is set to 50, but your input_length is only 3. Since this is a summarization task, where outputs shorter than the input are typically wanted, you might consider decreasing max_length manually, e.g. summarizer('...', max_length=1)\n"
     ]
    },
    {
     "name": "stdout",
     "output_type": "stream",
     "text": [
      "https://investorplace.com/2011/08/hormel-foods-food-stocks-hrl/\n",
      "sent extraction over\n",
      "Response call\n",
      "Failed to retrieve https://www.reuters.com/business/sustainable-business/hormel-meat-labeling-case-shows-us-rules-need-reform-advocates-2022-11-15/: Status code 401\n"
     ]
    },
    {
     "name": "stderr",
     "output_type": "stream",
     "text": [
      "Your max_length is set to 50, but your input_length is only 3. Since this is a summarization task, where outputs shorter than the input are typically wanted, you might consider decreasing max_length manually, e.g. summarizer('...', max_length=1)\n"
     ]
    },
    {
     "name": "stdout",
     "output_type": "stream",
     "text": [
      "sent extraction over\n",
      "Response call\n",
      "Request timed out for https://www.nasdaq.com/articles/hormel-foods-hrl-rewards-investors-with-dividend-hike. Attempting with Selenium.\n",
      "sent extraction over\n",
      "Response call\n",
      "https://www.linkedin.com/posts/angieelliott_food-forward-thinking-is-in-our-dna-at-activity-7113495431011045376-VPqr?trk=public_profile_like_view\n",
      "sent extraction over\n",
      "Done\n",
      "Hertz Global Holdings\n",
      "Calling the search\n",
      "Search complete\n",
      "Response call\n",
      "Request timed out for https://www.nasdaq.com/articles/is-hertz-global-htz-stock-outpacing-its-transportation-peers-this-year. Attempting with Selenium.\n",
      "sent extraction over\n",
      "Response call\n",
      "Request timed out for https://www.nasdaq.com/articles/hertz-global-holdings-inc.-htz-q1-earnings-and-revenues-surpass-estimates. Attempting with Selenium.\n",
      "sent extraction over\n",
      "Response call\n",
      "Failed to retrieve https://nz.finance.yahoo.com/news/hertz-global-holdings-inc-htz-134003845.html: Status code 404\n"
     ]
    },
    {
     "name": "stderr",
     "output_type": "stream",
     "text": [
      "Your max_length is set to 50, but your input_length is only 3. Since this is a summarization task, where outputs shorter than the input are typically wanted, you might consider decreasing max_length manually, e.g. summarizer('...', max_length=1)\n"
     ]
    },
    {
     "name": "stdout",
     "output_type": "stream",
     "text": [
      "sent extraction over\n",
      "Response call\n",
      "https://investorplace.com/2014/03/htz-stock-pros-cons/\n",
      "sent extraction over\n",
      "Response call\n"
     ]
    },
    {
     "name": "stderr",
     "output_type": "stream",
     "text": [
      "Your max_length is set to 50, but your input_length is only 3. Since this is a summarization task, where outputs shorter than the input are typically wanted, you might consider decreasing max_length manually, e.g. summarizer('...', max_length=1)\n"
     ]
    },
    {
     "name": "stdout",
     "output_type": "stream",
     "text": [
      "https://www.pymnts.com/cpi_posts/u-s-bureau-of-economics-bureau-of-competition-clash-over-hertz-dollar-thrifty-merger/\n",
      "sent extraction over\n",
      "Response call\n",
      "https://www.linkedin.com/posts/paolo-ramondetti-07a31b4_rental-giant-hertz-dumps-evs-including-teslas-activity-7151457304524079104-MU4R\n",
      "sent extraction over\n",
      "Response call\n",
      "https://www.cnbc.com/2023/02/07/stocks-making-the-biggest-moves-midday-chgg-htz-and-osh.html\n",
      "sent extraction over\n",
      "Response call\n",
      "Failed to retrieve https://medium.com/@jamesphilipmccoy/web-scraping-hertz-car-inventory-with-python-35d5be7d405e: Status code 403\n"
     ]
    },
    {
     "name": "stderr",
     "output_type": "stream",
     "text": [
      "Your max_length is set to 50, but your input_length is only 3. Since this is a summarization task, where outputs shorter than the input are typically wanted, you might consider decreasing max_length manually, e.g. summarizer('...', max_length=1)\n"
     ]
    },
    {
     "name": "stdout",
     "output_type": "stream",
     "text": [
      "sent extraction over\n",
      "Done\n",
      "MGM Resorts International\n",
      "Calling the search\n",
      "Search complete\n",
      "Response call\n",
      "https://www.theretirementgroup.com/featured-article/5448097/mgm-resorts-international-employees-can-chatgpt-help-with-your-budget\n",
      "sent extraction over\n",
      "Response call\n"
     ]
    },
    {
     "name": "stderr",
     "output_type": "stream",
     "text": [
      "Your max_length is set to 50, but your input_length is only 3. Since this is a summarization task, where outputs shorter than the input are typically wanted, you might consider decreasing max_length manually, e.g. summarizer('...', max_length=1)\n"
     ]
    },
    {
     "name": "stdout",
     "output_type": "stream",
     "text": [
      "https://www.cybersecuritydive.com/news/mgm-resorts-investigates-cyberattack/693351/\n",
      "sent extraction over\n",
      "Response call\n",
      "Failed to retrieve https://www.axios.com/2023/09/15/mgm-fallout-cyberattack: Status code 403\n"
     ]
    },
    {
     "name": "stderr",
     "output_type": "stream",
     "text": [
      "Your max_length is set to 50, but your input_length is only 3. Since this is a summarization task, where outputs shorter than the input are typically wanted, you might consider decreasing max_length manually, e.g. summarizer('...', max_length=1)\n"
     ]
    },
    {
     "name": "stdout",
     "output_type": "stream",
     "text": [
      "sent extraction over\n",
      "Response call\n",
      "https://www.linkedin.com/posts/skyhighsecurity_mgm-resorts-cyberattackfrom-cloud-to-casino-activity-7120537033009197057-g4NH\n",
      "sent extraction over\n",
      "Response call\n"
     ]
    },
    {
     "name": "stderr",
     "output_type": "stream",
     "text": [
      "Your max_length is set to 50, but your input_length is only 3. Since this is a summarization task, where outputs shorter than the input are typically wanted, you might consider decreasing max_length manually, e.g. summarizer('...', max_length=1)\n"
     ]
    },
    {
     "name": "stdout",
     "output_type": "stream",
     "text": [
      "https://blog.morphisec.com/mgm-resorts-alphv-spider-ransomware-attack\n",
      "sent extraction over\n",
      "Response call\n"
     ]
    },
    {
     "name": "stderr",
     "output_type": "stream",
     "text": [
      "Your max_length is set to 50, but your input_length is only 3. Since this is a summarization task, where outputs shorter than the input are typically wanted, you might consider decreasing max_length manually, e.g. summarizer('...', max_length=1)\n"
     ]
    },
    {
     "name": "stdout",
     "output_type": "stream",
     "text": [
      "https://www.infosecurity-magazine.com/news/mgm-resorts-dollar100m-costs/\n",
      "sent extraction over\n",
      "Response call\n",
      "Request timed out for https://www.nasdaq.com/articles/are-investors-undervaluing-mgm-resorts-international-mgm-right-now. Attempting with Selenium.\n",
      "sent extraction over\n",
      "Response call\n",
      "Failed to retrieve https://thrivedx.com/resources/article/investigating-the-mgm-cyberattack-how-social-engineering-and-a-help-desk-put-the-whole-strip-at-risk: Status code 403\n"
     ]
    },
    {
     "name": "stderr",
     "output_type": "stream",
     "text": [
      "Your max_length is set to 50, but your input_length is only 3. Since this is a summarization task, where outputs shorter than the input are typically wanted, you might consider decreasing max_length manually, e.g. summarizer('...', max_length=1)\n"
     ]
    },
    {
     "name": "stdout",
     "output_type": "stream",
     "text": [
      "sent extraction over\n",
      "Done\n",
      "Corning\n",
      "Calling the search\n",
      "Search complete\n",
      "Response call\n",
      "https://www.corning.com/worldwide/en/the-progress-report/crystal-clear/ai-is-here-and-it-needs-glass\n",
      "sent extraction over\n",
      "Response call\n",
      "https://www.corning.com/optical-communications/worldwide/en/home/the-signal-network-blog/data-centers-and-artificial-intelligence.html\n",
      "sent extraction over\n",
      "Response call\n",
      "https://www.theretirementgroup.com/featured-article/5448097/corning-employees-can-chatgpt-help-with-your-budget\n",
      "sent extraction over\n",
      "Response call\n",
      "https://www.theretirementgroup.com/featured-article/5448097/owens-corning-employees-can-chatgpt-help-with-your-budget\n",
      "sent extraction over\n",
      "Response call\n"
     ]
    },
    {
     "name": "stderr",
     "output_type": "stream",
     "text": [
      "Your max_length is set to 50, but your input_length is only 3. Since this is a summarization task, where outputs shorter than the input are typically wanted, you might consider decreasing max_length manually, e.g. summarizer('...', max_length=1)\n"
     ]
    },
    {
     "name": "stdout",
     "output_type": "stream",
     "text": [
      "https://www.lightwaveonline.com/home/article/14303457/ai-and-fiber-a-new-and-necessary-marriage\n",
      "sent extraction over\n",
      "Response call\n",
      "https://www.linkedin.com/posts/charles-philip-9833b31_driving-the-future-of-semiconductors-cornings-activity-7099907713911906304-MYcQ\n",
      "sent extraction over\n",
      "Response call\n",
      "Failed to retrieve https://twitter.com/CPCalbany/status/1690040127895089170: Status code 400\n"
     ]
    },
    {
     "name": "stderr",
     "output_type": "stream",
     "text": [
      "Your max_length is set to 50, but your input_length is only 3. Since this is a summarization task, where outputs shorter than the input are typically wanted, you might consider decreasing max_length manually, e.g. summarizer('...', max_length=1)\n"
     ]
    },
    {
     "name": "stdout",
     "output_type": "stream",
     "text": [
      "sent extraction over\n",
      "Done\n",
      "Republic Services\n",
      "Calling the search\n",
      "Search complete\n",
      "Response call\n",
      "https://www.theretirementgroup.com/featured-article/5448097/republic-services-employees-can-chatgpt-help-with-your-budget\n",
      "sent extraction over\n",
      "Response call\n"
     ]
    },
    {
     "name": "stderr",
     "output_type": "stream",
     "text": [
      "Your max_length is set to 50, but your input_length is only 3. Since this is a summarization task, where outputs shorter than the input are typically wanted, you might consider decreasing max_length manually, e.g. summarizer('...', max_length=1)\n"
     ]
    },
    {
     "name": "stdout",
     "output_type": "stream",
     "text": [
      "https://investorplace.com/2023/12/waste-management-wonders-3-stocks-cleaning-up-profitably/\n",
      "sent extraction over\n",
      "Response call\n",
      "Request timed out for https://www.nasdaq.com/articles/heres-why-republic-services-rsg-is-a-strong-growth-stock-2. Attempting with Selenium.\n",
      "sent extraction over\n",
      "Response call\n"
     ]
    },
    {
     "name": "stderr",
     "output_type": "stream",
     "text": [
      "Your max_length is set to 50, but your input_length is only 3. Since this is a summarization task, where outputs shorter than the input are typically wanted, you might consider decreasing max_length manually, e.g. summarizer('...', max_length=1)\n"
     ]
    },
    {
     "name": "stdout",
     "output_type": "stream",
     "text": [
      "https://finimize.com/content/5000-returns-why-one-mans-trash-firm-could-be-your-stock-treasure\n",
      "sent extraction over\n",
      "Response call\n",
      "Failed to retrieve https://medium.com/evolve/republic-services-unveils-their-latest-fully-electric-waste-collection-trucks-40d9bbe4872f: Status code 403\n"
     ]
    },
    {
     "name": "stderr",
     "output_type": "stream",
     "text": [
      "Your max_length is set to 50, but your input_length is only 3. Since this is a summarization task, where outputs shorter than the input are typically wanted, you might consider decreasing max_length manually, e.g. summarizer('...', max_length=1)\n"
     ]
    },
    {
     "name": "stdout",
     "output_type": "stream",
     "text": [
      "sent extraction over\n",
      "Response call\n",
      "Request timed out for https://www.nasdaq.com/articles/republic-services-rsg-reports-q2-earnings:-what-key-metrics-have-to-say. Attempting with Selenium.\n",
      "sent extraction over\n",
      "Response call\n",
      "Failed to retrieve https://www.tipranks.com/news/article/republic-services-stock-3-reasons-to-hold-it-1-to-avoid-it: Status code 503\n"
     ]
    },
    {
     "name": "stderr",
     "output_type": "stream",
     "text": [
      "Your max_length is set to 50, but your input_length is only 3. Since this is a summarization task, where outputs shorter than the input are typically wanted, you might consider decreasing max_length manually, e.g. summarizer('...', max_length=1)\n"
     ]
    },
    {
     "name": "stdout",
     "output_type": "stream",
     "text": [
      "sent extraction over\n",
      "Response call\n"
     ]
    },
    {
     "name": "stderr",
     "output_type": "stream",
     "text": [
      "Your max_length is set to 50, but your input_length is only 3. Since this is a summarization task, where outputs shorter than the input are typically wanted, you might consider decreasing max_length manually, e.g. summarizer('...', max_length=1)\n"
     ]
    },
    {
     "name": "stdout",
     "output_type": "stream",
     "text": [
      "https://www.pymnts.com/cpi_posts/doj-requires-republic-services-to-divest-assets-for-santek-buy/\n",
      "sent extraction over\n",
      "Done\n",
      "Alcoa\n",
      "Calling the search\n",
      "Search complete\n",
      "Response call\n",
      "https://www.theretirementgroup.com/featured-article/5448095/alcoa-employees-can-chatgpt-help-with-your-budget\n",
      "sent extraction over\n",
      "Response call\n",
      "Failed to retrieve https://medium.com/@shivpharma2016/alcoa-principles-in-data-integrity-pioneering-excellence-in-the-digital-era-21098529c64b: Status code 403\n"
     ]
    },
    {
     "name": "stderr",
     "output_type": "stream",
     "text": [
      "Your max_length is set to 50, but your input_length is only 3. Since this is a summarization task, where outputs shorter than the input are typically wanted, you might consider decreasing max_length manually, e.g. summarizer('...', max_length=1)\n"
     ]
    },
    {
     "name": "stdout",
     "output_type": "stream",
     "text": [
      "sent extraction over\n",
      "Response call\n",
      "https://www.reddit.com/r/chemhelp/comments/139v51z/how_do_you_use_chatgpt_for_chemistry/\n",
      "sent extraction over\n",
      "Response call\n",
      "https://investorplace.com/2011/04/alcoa-shares-3-pros-3-cons/\n",
      "sent extraction over\n",
      "Response call\n"
     ]
    },
    {
     "name": "stderr",
     "output_type": "stream",
     "text": [
      "Your max_length is set to 50, but your input_length is only 3. Since this is a summarization task, where outputs shorter than the input are typically wanted, you might consider decreasing max_length manually, e.g. summarizer('...', max_length=1)\n"
     ]
    },
    {
     "name": "stdout",
     "output_type": "stream",
     "text": [
      "https://www.bnamericas.com/en/news/Alcoa_invests_US*500,000_in_B2B_portal\n",
      "sent extraction over\n",
      "Response call\n",
      "https://www.linkedin.com/posts/galit-dint_dataintegrity-chatgpt-alcoa-activity-7080845929716604928-cCRp\n",
      "sent extraction over\n",
      "Response call\n",
      "Failed to retrieve https://medium.com/@ankur1857/what-is-alcoa-63ec6187afb3: Status code 403\n"
     ]
    },
    {
     "name": "stderr",
     "output_type": "stream",
     "text": [
      "Your max_length is set to 50, but your input_length is only 3. Since this is a summarization task, where outputs shorter than the input are typically wanted, you might consider decreasing max_length manually, e.g. summarizer('...', max_length=1)\n"
     ]
    },
    {
     "name": "stdout",
     "output_type": "stream",
     "text": [
      "sent extraction over\n",
      "Response call\n",
      "Failed to retrieve https://www.nasdaq.com/articles/alcoa-aa-stock-dips-while-market-gains:-key-facts: Status code 403\n",
      "sent extraction over\n",
      "Done\n",
      "Fidelity National Information Services\n",
      "Calling the search\n",
      "Search complete\n",
      "Response call\n",
      "https://www.theretirementgroup.com/featured-article/5448097/fidelity-national-information-services-employees-can-chatgpt-help-with-your-budget\n",
      "sent extraction over\n",
      "Response call\n",
      "https://www.linkedin.com/posts/data-analytics-mike_how-chatgpt-is-changing-businesses-activity-7020107214199676928-EvTl\n",
      "sent extraction over\n",
      "Response call\n",
      "Request timed out for https://www.nasdaq.com/articles/fidelity-national-information-services-fis-sees-a-more-significant-dip-than-broader-market. Attempting with Selenium.\n",
      "sent extraction over\n",
      "Response call\n"
     ]
    },
    {
     "name": "stderr",
     "output_type": "stream",
     "text": [
      "Your max_length is set to 50, but your input_length is only 3. Since this is a summarization task, where outputs shorter than the input are typically wanted, you might consider decreasing max_length manually, e.g. summarizer('...', max_length=1)\n"
     ]
    },
    {
     "name": "stdout",
     "output_type": "stream",
     "text": [
      "https://www.marketingdive.com/ex/mobilemarketer/cms/news/banking-payments/1031.html\n",
      "sent extraction over\n",
      "Response call\n",
      "Request timed out for https://www.nasdaq.com/articles/is-fidelity-national-information-services-fis-outperforming-other-business-services-stocks. Attempting with Selenium.\n",
      "sent extraction over\n",
      "Response call\n",
      "https://www.linkedin.com/posts/santosh-kamra-74722b19_banking-on-chatgpt-why-generative-ai-will-activity-7072203236027318273-bPVI\n",
      "sent extraction over\n",
      "Response call\n"
     ]
    },
    {
     "name": "stderr",
     "output_type": "stream",
     "text": [
      "Your max_length is set to 50, but your input_length is only 3. Since this is a summarization task, where outputs shorter than the input are typically wanted, you might consider decreasing max_length manually, e.g. summarizer('...', max_length=1)\n"
     ]
    },
    {
     "name": "stdout",
     "output_type": "stream",
     "text": [
      "https://techcrunch.com/2023/11/22/fidelity-national-financial-shuts-down-network-in-wake-of-cybersecurity-incident/\n",
      "sent extraction over\n",
      "Response call\n"
     ]
    },
    {
     "name": "stderr",
     "output_type": "stream",
     "text": [
      "Your max_length is set to 50, but your input_length is only 3. Since this is a summarization task, where outputs shorter than the input are typically wanted, you might consider decreasing max_length manually, e.g. summarizer('...', max_length=1)\n"
     ]
    },
    {
     "name": "stdout",
     "output_type": "stream",
     "text": [
      "https://www.marketbeat.com/instant-alerts/nyse-fis-initiated-coverage-2024-02-29/\n",
      "sent extraction over\n",
      "Done\n",
      "Pacific Life\n",
      "Calling the search\n",
      "Search complete\n",
      "Response call\n",
      "Failed to retrieve https://pradeeparadhya-1729.medium.com/chatgpt-as-insurance-saleperson-db23c8e37a35: Status code 403\n",
      "sent extraction over\n",
      "Response call\n"
     ]
    },
    {
     "name": "stderr",
     "output_type": "stream",
     "text": [
      "Your max_length is set to 50, but your input_length is only 3. Since this is a summarization task, where outputs shorter than the input are typically wanted, you might consider decreasing max_length manually, e.g. summarizer('...', max_length=1)\n"
     ]
    },
    {
     "name": "stdout",
     "output_type": "stream",
     "text": [
      "https://www.pacificlife.com/\n",
      "sent extraction over\n",
      "Response call\n"
     ]
    },
    {
     "name": "stderr",
     "output_type": "stream",
     "text": [
      "Your max_length is set to 50, but your input_length is only 3. Since this is a summarization task, where outputs shorter than the input are typically wanted, you might consider decreasing max_length manually, e.g. summarizer('...', max_length=1)\n"
     ]
    },
    {
     "name": "stdout",
     "output_type": "stream",
     "text": [
      "https://www.marketwatch.com/guides/insurance-services/pacific-life-insurance-review/\n",
      "sent extraction over\n",
      "Response call\n"
     ]
    },
    {
     "name": "stderr",
     "output_type": "stream",
     "text": [
      "Your max_length is set to 50, but your input_length is only 3. Since this is a summarization task, where outputs shorter than the input are typically wanted, you might consider decreasing max_length manually, e.g. summarizer('...', max_length=1)\n"
     ]
    },
    {
     "name": "stdout",
     "output_type": "stream",
     "text": [
      "https://aimresearch.co/leadership-moves/brian-durkin-appointed-as-chief-data-officer-at-pacific-life\n",
      "sent extraction over\n",
      "Response call\n",
      "https://www.linkedin.com/posts/edmundjohnson_pacific-life-case-study-activity-6968272668064190464-RBYs?trk=public_profile_like_view\n",
      "sent extraction over\n",
      "Response call\n"
     ]
    },
    {
     "name": "stderr",
     "output_type": "stream",
     "text": [
      "Your max_length is set to 50, but your input_length is only 3. Since this is a summarization task, where outputs shorter than the input are typically wanted, you might consider decreasing max_length manually, e.g. summarizer('...', max_length=1)\n"
     ]
    },
    {
     "name": "stdout",
     "output_type": "stream",
     "text": [
      "https://citywire.com/pro-buyer/news/pacific-life-replaces-invesco-with-jpm-on-1bn-strategy/a2383459\n",
      "sent extraction over\n",
      "Response call\n",
      "Failed to retrieve https://nodeflair.com/companies/pacific-life-re: Status code 403\n",
      "sent extraction over\n",
      "Done\n",
      "SunTrust Banks\n",
      "Calling the search\n",
      "Search complete\n",
      "Response call\n",
      "Failed to retrieve https://www.americanbanker.com/news/in-brief-suntrust-crestar-complete-95b-merger: Status code 403\n"
     ]
    },
    {
     "name": "stderr",
     "output_type": "stream",
     "text": [
      "Your max_length is set to 50, but your input_length is only 3. Since this is a summarization task, where outputs shorter than the input are typically wanted, you might consider decreasing max_length manually, e.g. summarizer('...', max_length=1)\n"
     ]
    },
    {
     "name": "stdout",
     "output_type": "stream",
     "text": [
      "sent extraction over\n",
      "Response call\n",
      "https://en.wikipedia.org/wiki/Truist_Financial\n"
     ]
    },
    {
     "name": "stderr",
     "output_type": "stream",
     "text": [
      "Your max_length is set to 50, but your input_length is only 3. Since this is a summarization task, where outputs shorter than the input are typically wanted, you might consider decreasing max_length manually, e.g. summarizer('...', max_length=1)\n"
     ]
    },
    {
     "name": "stdout",
     "output_type": "stream",
     "text": [
      "sent extraction over\n"
     ]
    },
    {
     "name": "stderr",
     "output_type": "stream",
     "text": [
      "Your max_length is set to 50, but your input_length is only 3. Since this is a summarization task, where outputs shorter than the input are typically wanted, you might consider decreasing max_length manually, e.g. summarizer('...', max_length=1)\n"
     ]
    },
    {
     "name": "stdout",
     "output_type": "stream",
     "text": [
      "Response call\n",
      "https://en.wikipedia.org/wiki/SunTrust_Banks\n",
      "sent extraction over\n",
      "Response call\n"
     ]
    },
    {
     "name": "stderr",
     "output_type": "stream",
     "text": [
      "Your max_length is set to 50, but your input_length is only 3. Since this is a summarization task, where outputs shorter than the input are typically wanted, you might consider decreasing max_length manually, e.g. summarizer('...', max_length=1)\n"
     ]
    },
    {
     "name": "stdout",
     "output_type": "stream",
     "text": [
      "https://vault.com/company-profiles/commercial-banking-and-investment-banking/truist-bank\n",
      "sent extraction over\n",
      "Response call\n"
     ]
    },
    {
     "name": "stderr",
     "output_type": "stream",
     "text": [
      "Your max_length is set to 50, but your input_length is only 3. Since this is a summarization task, where outputs shorter than the input are typically wanted, you might consider decreasing max_length manually, e.g. summarizer('...', max_length=1)\n"
     ]
    },
    {
     "name": "stdout",
     "output_type": "stream",
     "text": [
      "https://www.cbn.gov.ng/Supervision/fi.asp?name=SunTrust%20Bank%20Nigeria%20Limited&institutetype=Commercial%20Bank\n",
      "sent extraction over\n",
      "Response call\n",
      "Failed to retrieve https://www.americanbanker.com/news/former-suntrust-employee-said-to-have-stolen-customer-data: Status code 403\n"
     ]
    },
    {
     "name": "stderr",
     "output_type": "stream",
     "text": [
      "Your max_length is set to 50, but your input_length is only 3. Since this is a summarization task, where outputs shorter than the input are typically wanted, you might consider decreasing max_length manually, e.g. summarizer('...', max_length=1)\n"
     ]
    },
    {
     "name": "stdout",
     "output_type": "stream",
     "text": [
      "sent extraction over\n",
      "Response call\n",
      "Failed to retrieve https://www.tipranks.com/news/company-announcements/suntrust-banks-adopts-new-governance-framework: Status code 503\n"
     ]
    },
    {
     "name": "stderr",
     "output_type": "stream",
     "text": [
      "Your max_length is set to 50, but your input_length is only 3. Since this is a summarization task, where outputs shorter than the input are typically wanted, you might consider decreasing max_length manually, e.g. summarizer('...', max_length=1)\n"
     ]
    },
    {
     "name": "stdout",
     "output_type": "stream",
     "text": [
      "sent extraction over\n",
      "Response call\n"
     ]
    },
    {
     "name": "stderr",
     "output_type": "stream",
     "text": [
      "Your max_length is set to 50, but your input_length is only 3. Since this is a summarization task, where outputs shorter than the input are typically wanted, you might consider decreasing max_length manually, e.g. summarizer('...', max_length=1)\n"
     ]
    },
    {
     "name": "stdout",
     "output_type": "stream",
     "text": [
      "https://www.linkedin.com/pulse/bank-ma-data-driven-insights-karen-suber\n",
      "sent extraction over\n",
      "Done\n",
      "LKQ\n",
      "Calling the search\n",
      "Search complete\n",
      "Response call\n",
      "https://pe.linkedin.com/posts/aldosilva_chatgpt-businessmodelcanvas-lkq-activity-7039710441110917120-lZQy\n",
      "sent extraction over\n",
      "Response call\n",
      "Request timed out for https://www.nasdaq.com/articles/lkq-q4-earnings-surpass-expectations-revenues-rise-y-y. Attempting with Selenium.\n",
      "sent extraction over\n",
      "Response call\n",
      "Request timed out for https://www.nasdaq.com/articles/lkq-lkq-q4-earnings-beat-estimates. Attempting with Selenium.\n",
      "sent extraction over\n",
      "Response call\n",
      "https://aeonlaw.com/trademark-denied-for-chatgpt/\n",
      "sent extraction over\n",
      "Response call\n",
      "Failed to retrieve https://finance.yahoo.com/news/lkq-corporations-nasdaq-lkq-stocks-114335941.html: Status code 404\n"
     ]
    },
    {
     "name": "stderr",
     "output_type": "stream",
     "text": [
      "Your max_length is set to 50, but your input_length is only 3. Since this is a summarization task, where outputs shorter than the input are typically wanted, you might consider decreasing max_length manually, e.g. summarizer('...', max_length=1)\n"
     ]
    },
    {
     "name": "stdout",
     "output_type": "stream",
     "text": [
      "sent extraction over\n",
      "Response call\n"
     ]
    },
    {
     "name": "stderr",
     "output_type": "stream",
     "text": [
      "Your max_length is set to 50, but your input_length is only 3. Since this is a summarization task, where outputs shorter than the input are typically wanted, you might consider decreasing max_length manually, e.g. summarizer('...', max_length=1)\n"
     ]
    },
    {
     "name": "stdout",
     "output_type": "stream",
     "text": [
      "https://www.youtube.com/watch?v=w9lxIyKPnlw\n",
      "sent extraction over\n",
      "Response call\n",
      "https://www.linkedin.com/posts/pradeep-krishnamurthy-b7ab974b_how-to-actually-use-chatgpt-to-its-full-activity-7021732082280251393-cFpH\n",
      "sent extraction over\n",
      "Response call\n",
      "Failed to retrieve https://yourstory.com/enterprise-story/2023/12/infosys-bags-five-year-it-deal-from-lkq-europe: Status code 403\n",
      "sent extraction over\n",
      "Done\n",
      "BorgWarner\n",
      "Calling the search\n",
      "Search complete\n",
      "Response call\n",
      "https://www.theretirementgroup.com/featured-article/5448097/borgwarner-employees-can-chatgpt-help-with-your-budget\n",
      "sent extraction over\n",
      "Response call\n",
      "Failed to retrieve https://stnonline.com/partner-updates/pontiac-school-district-partners-with-borgwarner-for-dc-fast-charger-solution/: Status code 403\n",
      "sent extraction over\n",
      "Response call\n",
      "Request timed out for https://www.nasdaq.com/articles/borgwarner-bwa-rises-higher-than-market:-key-facts-0. Attempting with Selenium.\n",
      "sent extraction over\n",
      "Response call\n",
      "Failed to retrieve https://stnonline.com/industry-releases/borgwarner-acquires-rhombus-energy-solutions/: Status code 403\n",
      "sent extraction over\n",
      "Response call\n",
      "Request timed out for https://www.nasdaq.com/articles/borgwarner-bwa-expected-to-beat-earnings-estimates:-what-to-know-ahead-of-q4-release. Attempting with Selenium.\n",
      "sent extraction over\n",
      "Response call\n"
     ]
    },
    {
     "name": "stderr",
     "output_type": "stream",
     "text": [
      "Your max_length is set to 50, but your input_length is only 3. Since this is a summarization task, where outputs shorter than the input are typically wanted, you might consider decreasing max_length manually, e.g. summarizer('...', max_length=1)\n"
     ]
    },
    {
     "name": "stdout",
     "output_type": "stream",
     "text": [
      "https://www.linkedin.com/posts/rickmossbv_synop-and-borgwarner-partnership-offers-fleet-activity-7046877378987397120-7Dse?trk=public_profile_share_view\n",
      "sent extraction over\n",
      "Response call\n"
     ]
    },
    {
     "name": "stderr",
     "output_type": "stream",
     "text": [
      "Your max_length is set to 50, but your input_length is only 3. Since this is a summarization task, where outputs shorter than the input are typically wanted, you might consider decreasing max_length manually, e.g. summarizer('...', max_length=1)\n"
     ]
    },
    {
     "name": "stdout",
     "output_type": "stream",
     "text": [
      "https://altindex.com/ticker/bwa/ai-stock-analysis\n",
      "sent extraction over\n",
      "Response call\n",
      "Request timed out for https://www.natlawreview.com/article/mexican-competition-authority-sanctions-borgwarner-and-remy-holdings-gun-jumping. Attempting with Selenium.\n"
     ]
    },
    {
     "name": "stderr",
     "output_type": "stream",
     "text": [
      "Your max_length is set to 50, but your input_length is only 3. Since this is a summarization task, where outputs shorter than the input are typically wanted, you might consider decreasing max_length manually, e.g. summarizer('...', max_length=1)\n"
     ]
    },
    {
     "name": "stdout",
     "output_type": "stream",
     "text": [
      "sent extraction over\n",
      "Done\n",
      "Ball\n",
      "Calling the search\n",
      "Search complete\n",
      "Response call\n",
      "https://caseguard.com/articles/chatgpt-is-this-the-new-magic-8-ball/\n",
      "sent extraction over\n",
      "Response call\n",
      "Failed to retrieve https://www.eweek.com/artificial-intelligence/gpt-4-vs-chatgpt/: Status code 406\n",
      "sent extraction over\n",
      "Response call\n",
      "https://www.deepbrain.io/tech-and-ai-explained/who-owns-chat-gpt\n",
      "sent extraction over\n",
      "Response call\n"
     ]
    },
    {
     "name": "stderr",
     "output_type": "stream",
     "text": [
      "Your max_length is set to 50, but your input_length is only 27. Since this is a summarization task, where outputs shorter than the input are typically wanted, you might consider decreasing max_length manually, e.g. summarizer('...', max_length=13)\n"
     ]
    },
    {
     "name": "stdout",
     "output_type": "stream",
     "text": [
      "https://lighthouseguild.org/what-is-chat-gpt/\n",
      "sent extraction over\n",
      "Response call\n",
      "https://www.linkedin.com/pulse/chat-gpt-4-worth-20-awesome-analytics-5tj5f\n",
      "sent extraction over\n",
      "Response call\n"
     ]
    },
    {
     "name": "stderr",
     "output_type": "stream",
     "text": [
      "Your max_length is set to 50, but your input_length is only 3. Since this is a summarization task, where outputs shorter than the input are typically wanted, you might consider decreasing max_length manually, e.g. summarizer('...', max_length=1)\n"
     ]
    },
    {
     "name": "stdout",
     "output_type": "stream",
     "text": [
      "https://www.reddit.com/r/Bowling/comments/125sew5/thinking_about_3rd_ball_chat_gpt_suggests/\n",
      "sent extraction over\n",
      "Response call\n",
      "Failed to retrieve https://macherb.medium.com/chatgpt-and-the-magic-8-ball-33406a3580ae: Status code 403\n",
      "sent extraction over\n",
      "Response call\n",
      "https://www.ballstatedaily.com/article/2023/08/ball-state-news-chatgpt-has-made-its-way-to-ball-state-daily-news\n",
      "sent extraction over\n",
      "Done\n",
      "CST Brands\n",
      "Calling the search\n",
      "Search complete\n",
      "Response call\n"
     ]
    },
    {
     "name": "stderr",
     "output_type": "stream",
     "text": [
      "Your max_length is set to 50, but your input_length is only 3. Since this is a summarization task, where outputs shorter than the input are typically wanted, you might consider decreasing max_length manually, e.g. summarizer('...', max_length=1)\n"
     ]
    },
    {
     "name": "stdout",
     "output_type": "stream",
     "text": [
      "https://fortune.com/videos/watch/how-cst-brands'-ceo-went-from-lawyer-to-c-suite/26ced1fb-4023-4bca-972e-b241541d8206\n",
      "sent extraction over\n",
      "Response call\n",
      "Failed to retrieve https://www.glassdoor.com/Interview/Cigars-International-Interview-Questions-E489701.htm: Status code 403\n"
     ]
    },
    {
     "name": "stderr",
     "output_type": "stream",
     "text": [
      "Your max_length is set to 50, but your input_length is only 49. Since this is a summarization task, where outputs shorter than the input are typically wanted, you might consider decreasing max_length manually, e.g. summarizer('...', max_length=24)\n"
     ]
    },
    {
     "name": "stdout",
     "output_type": "stream",
     "text": [
      "sent extraction over\n",
      "Response call\n"
     ]
    },
    {
     "name": "stderr",
     "output_type": "stream",
     "text": [
      "Your max_length is set to 50, but your input_length is only 3. Since this is a summarization task, where outputs shorter than the input are typically wanted, you might consider decreasing max_length manually, e.g. summarizer('...', max_length=1)\n"
     ]
    },
    {
     "name": "stdout",
     "output_type": "stream",
     "text": [
      "https://www.theglobeandmail.com/investing/markets/stocks/ACA-N/pressreleases/3409974/arcosa-inc-announces-appointment-of-kimberly-lubel-as-a-new-director/\n",
      "sent extraction over\n",
      "Response call\n"
     ]
    },
    {
     "name": "stderr",
     "output_type": "stream",
     "text": [
      "Your max_length is set to 50, but your input_length is only 3. Since this is a summarization task, where outputs shorter than the input are typically wanted, you might consider decreasing max_length manually, e.g. summarizer('...', max_length=1)\n"
     ]
    },
    {
     "name": "stdout",
     "output_type": "stream",
     "text": [
      "https://fortune.com/videos/watch/amazon-cant-compete-with-convenience-stores/f2bc1d22-e887-4bd5-b25b-a8695141902a\n",
      "sent extraction over\n",
      "Response call\n"
     ]
    },
    {
     "name": "stderr",
     "output_type": "stream",
     "text": [
      "Your max_length is set to 50, but your input_length is only 3. Since this is a summarization task, where outputs shorter than the input are typically wanted, you might consider decreasing max_length manually, e.g. summarizer('...', max_length=1)\n"
     ]
    },
    {
     "name": "stdout",
     "output_type": "stream",
     "text": [
      "https://www.bloomberg.com/press-releases/2019-05-22/crossamerica-partners-alimentation-couche-tard-and-crossamerica-announce-the-closing-of-the-first-tranche-in-a-series-of-asset\n",
      "sent extraction over\n",
      "Response call\n",
      "Failed to retrieve https://www.glassdoor.co.uk/Overview/Working-at-Cigars-International-EI_IE489701.11,31.htm: Status code 403\n"
     ]
    },
    {
     "name": "stderr",
     "output_type": "stream",
     "text": [
      "Your max_length is set to 50, but your input_length is only 3. Since this is a summarization task, where outputs shorter than the input are typically wanted, you might consider decreasing max_length manually, e.g. summarizer('...', max_length=1)\n"
     ]
    },
    {
     "name": "stdout",
     "output_type": "stream",
     "text": [
      "sent extraction over\n",
      "Response call\n",
      "Failed to retrieve https://www.inc.com/jessica-stillman/a-journalist-who-interviewed-585-ceos-says-they-all-have-these-3-things-in-common.html: Status code 403\n"
     ]
    },
    {
     "name": "stderr",
     "output_type": "stream",
     "text": [
      "Your max_length is set to 50, but your input_length is only 3. Since this is a summarization task, where outputs shorter than the input are typically wanted, you might consider decreasing max_length manually, e.g. summarizer('...', max_length=1)\n"
     ]
    },
    {
     "name": "stdout",
     "output_type": "stream",
     "text": [
      "sent extraction over\n",
      "Response call\n"
     ]
    },
    {
     "name": "stderr",
     "output_type": "stream",
     "text": [
      "Your max_length is set to 50, but your input_length is only 3. Since this is a summarization task, where outputs shorter than the input are typically wanted, you might consider decreasing max_length manually, e.g. summarizer('...', max_length=1)\n"
     ]
    },
    {
     "name": "stdout",
     "output_type": "stream",
     "text": [
      "https://in.linkedin.com/in/mohd-akram-43a6bb16\n",
      "sent extraction over\n",
      "Done\n",
      "Public Service Enterprise Group\n",
      "Calling the search\n",
      "Search complete\n",
      "Response call\n",
      "https://www.theretirementgroup.com/featured-article/5448097/public-service-enterprise-group-incorporated-employees-can-chatgpt-help-with-your-budget\n",
      "sent extraction over\n",
      "Response call\n",
      "https://www.linkedin.com/posts/subroto-mukherjee_generative-ai-explained-how-chatgpt-will-activity-7056038195565580288-_5p_\n",
      "sent extraction over\n",
      "Response call\n",
      "Request timed out for https://www.nasdaq.com/articles/pseg-peg-rewards-shareholders-with-5.3-dividend-hike. Attempting with Selenium.\n"
     ]
    },
    {
     "name": "stderr",
     "output_type": "stream",
     "text": [
      "Your max_length is set to 50, but your input_length is only 42. Since this is a summarization task, where outputs shorter than the input are typically wanted, you might consider decreasing max_length manually, e.g. summarizer('...', max_length=21)\n"
     ]
    },
    {
     "name": "stdout",
     "output_type": "stream",
     "text": [
      "sent extraction over\n",
      "Response call\n",
      "Failed to retrieve https://techunited.co/techunitednj-and-pseg-double-down-on-creating-a-betterplanet-and-launch-the-second-annual-techunitedbetterplanet-challenge/: Status code 403\n",
      "sent extraction over\n",
      "Response call\n",
      "Request timed out for https://www.nasdaq.com/articles/pseg-peg-to-report-q4-earnings:-heres-what-to-expect. Attempting with Selenium.\n",
      "sent extraction over\n",
      "Response call\n",
      "Failed to retrieve https://www.spglobal.com/commodityinsights/en/market-insights/latest-news/electric-power/101623-power-of-ai-wild-predictions-of-power-demand-from-ai-put-industry-on-edge: Status code 403\n",
      "sent extraction over\n",
      "Response call\n",
      "Failed to retrieve https://www.tipranks.com/stocks/peg/forecast: Status code 503\n"
     ]
    },
    {
     "name": "stderr",
     "output_type": "stream",
     "text": [
      "Your max_length is set to 50, but your input_length is only 3. Since this is a summarization task, where outputs shorter than the input are typically wanted, you might consider decreasing max_length manually, e.g. summarizer('...', max_length=1)\n"
     ]
    },
    {
     "name": "stdout",
     "output_type": "stream",
     "text": [
      "sent extraction over\n",
      "Response call\n"
     ]
    },
    {
     "name": "stderr",
     "output_type": "stream",
     "text": [
      "Your max_length is set to 50, but your input_length is only 3. Since this is a summarization task, where outputs shorter than the input are typically wanted, you might consider decreasing max_length manually, e.g. summarizer('...', max_length=1)\n"
     ]
    },
    {
     "name": "stdout",
     "output_type": "stream",
     "text": [
      "https://www.marketbeat.com/instant-alerts/nyse-peg-52-week-high-2024-03-08/\n",
      "sent extraction over\n",
      "Done\n",
      "Eastman Chemical\n",
      "Calling the search\n",
      "Search complete\n",
      "Response call\n",
      "Failed to retrieve https://www.wsj.com/articles/chatgpt-and-possible-cyber-benefits-4cbc2d39: Status code 403\n",
      "sent extraction over\n",
      "Response call\n",
      "Request timed out for https://www.nasdaq.com/articles/eastman-chemical-emn-q4-earnings-and-revenues-top-estimates. Attempting with Selenium.\n",
      "sent extraction over\n",
      "Response call\n",
      "Request timed out for https://www.nasdaq.com/articles/eastman-chemical-emn-q4-earnings:-taking-a-look-at-key-metrics-versus-estimates. Attempting with Selenium.\n",
      "sent extraction over\n",
      "Response call\n",
      "Failed to retrieve https://medium.com/@astha.ganjre123/eastman-chemical-company-us-and-exxonmobil-us-are-leading-players-in-heat-transfer-fluids-56c601abddab: Status code 403\n"
     ]
    },
    {
     "name": "stderr",
     "output_type": "stream",
     "text": [
      "Your max_length is set to 50, but your input_length is only 3. Since this is a summarization task, where outputs shorter than the input are typically wanted, you might consider decreasing max_length manually, e.g. summarizer('...', max_length=1)\n"
     ]
    },
    {
     "name": "stdout",
     "output_type": "stream",
     "text": [
      "sent extraction over\n",
      "Response call\n"
     ]
    },
    {
     "name": "stderr",
     "output_type": "stream",
     "text": [
      "Your max_length is set to 50, but your input_length is only 3. Since this is a summarization task, where outputs shorter than the input are typically wanted, you might consider decreasing max_length manually, e.g. summarizer('...', max_length=1)\n"
     ]
    },
    {
     "name": "stdout",
     "output_type": "stream",
     "text": [
      "https://www.oreilly.com/library/view/pricing-done-right/9781119183198/bapp03.xhtml\n",
      "sent extraction over\n",
      "Response call\n"
     ]
    },
    {
     "name": "stderr",
     "output_type": "stream",
     "text": [
      "Your max_length is set to 50, but your input_length is only 3. Since this is a summarization task, where outputs shorter than the input are typically wanted, you might consider decreasing max_length manually, e.g. summarizer('...', max_length=1)\n"
     ]
    },
    {
     "name": "stdout",
     "output_type": "stream",
     "text": [
      "https://www.computerworld.com/article/2578085/eastman-it-keeps-customers-happy.html\n",
      "sent extraction over\n",
      "Response call\n"
     ]
    },
    {
     "name": "stderr",
     "output_type": "stream",
     "text": [
      "Your max_length is set to 50, but your input_length is only 3. Since this is a summarization task, where outputs shorter than the input are typically wanted, you might consider decreasing max_length manually, e.g. summarizer('...', max_length=1)\n"
     ]
    },
    {
     "name": "stdout",
     "output_type": "stream",
     "text": [
      "https://www.linkedin.com/posts/kevinderman_eastman-ai-driven-transformation-activity-7122588790656839680-5GQa\n",
      "sent extraction over\n",
      "Response call\n"
     ]
    },
    {
     "name": "stderr",
     "output_type": "stream",
     "text": [
      "Your max_length is set to 50, but your input_length is only 3. Since this is a summarization task, where outputs shorter than the input are typically wanted, you might consider decreasing max_length manually, e.g. summarizer('...', max_length=1)\n"
     ]
    },
    {
     "name": "stdout",
     "output_type": "stream",
     "text": [
      "https://heraldcourier.com/news/local/eastman-chemical-co-to-add-300-jobs-invest-1-6-billion/article_23460c52-c8b8-11e2-80a8-0019bb30f31a.html\n",
      "sent extraction over\n",
      "Done\n",
      "eBay\n",
      "Calling the search\n",
      "Search complete\n",
      "Response call\n"
     ]
    },
    {
     "name": "stderr",
     "output_type": "stream",
     "text": [
      "Your max_length is set to 50, but your input_length is only 31. Since this is a summarization task, where outputs shorter than the input are typically wanted, you might consider decreasing max_length manually, e.g. summarizer('...', max_length=15)\n"
     ]
    },
    {
     "name": "stdout",
     "output_type": "stream",
     "text": [
      "https://typeshare.co/homeworkinghenry/posts/-NUi2_3BggDsCsLPhAsm\n",
      "sent extraction over\n",
      "Response call\n",
      "https://community.ebay.com/t5/Selling/ChatGPT-AI-Description-Generator-Now-Available-In-eBay-App/td-p/33765523\n",
      "sent extraction over\n",
      "Response call\n"
     ]
    },
    {
     "name": "stderr",
     "output_type": "stream",
     "text": [
      "Your max_length is set to 50, but your input_length is only 46. Since this is a summarization task, where outputs shorter than the input are typically wanted, you might consider decreasing max_length manually, e.g. summarizer('...', max_length=23)\n"
     ]
    },
    {
     "name": "stdout",
     "output_type": "stream",
     "text": [
      "https://www.reddit.com/r/eBaySellerAdvice/comments/11f4o31/psa_use_chatgpt_to_create_ebay_listings/\n",
      "sent extraction over\n",
      "Response call\n",
      "https://community.ebay.com/t5/Selling/Has-anyone-played-around-with-using-ChatGPT-to-make-listing/td-p/33523257\n",
      "sent extraction over\n",
      "Response call\n",
      "https://www.reddit.com/r/Ebay/comments/17z2jjv/so_when_you_sell_on_ebay_ebay_gives_the_option/\n",
      "sent extraction over\n",
      "Response call\n"
     ]
    },
    {
     "name": "stderr",
     "output_type": "stream",
     "text": [
      "Your max_length is set to 50, but your input_length is only 3. Since this is a summarization task, where outputs shorter than the input are typically wanted, you might consider decreasing max_length manually, e.g. summarizer('...', max_length=1)\n"
     ]
    },
    {
     "name": "stdout",
     "output_type": "stream",
     "text": [
      "https://www.youtube.com/watch?v=KqHaZjsJIvk\n",
      "sent extraction over\n",
      "Response call\n",
      "https://community.ebay.com/t5/Selling/ChatGPT-AI-Description-Generator-Now-Available-In-eBay-App/td-p/33765523/page/3\n",
      "sent extraction over\n",
      "Response call\n"
     ]
    },
    {
     "name": "stderr",
     "output_type": "stream",
     "text": [
      "Your max_length is set to 50, but your input_length is only 21. Since this is a summarization task, where outputs shorter than the input are typically wanted, you might consider decreasing max_length manually, e.g. summarizer('...', max_length=10)\n"
     ]
    },
    {
     "name": "stdout",
     "output_type": "stream",
     "text": [
      "https://www.youtube.com/watch?v=hJO4jGXFia0\n",
      "sent extraction over\n",
      "Done\n",
      "Mohawk Industries\n",
      "Calling the search\n",
      "Search complete\n",
      "Response call\n",
      "Request timed out for https://www.nasdaq.com/articles/mohawk-industries-mhk-reports-next-week:-wall-street-expects-earnings-growth. Attempting with Selenium.\n",
      "sent extraction over\n",
      "Response call\n"
     ]
    },
    {
     "name": "stderr",
     "output_type": "stream",
     "text": [
      "Your max_length is set to 50, but your input_length is only 3. Since this is a summarization task, where outputs shorter than the input are typically wanted, you might consider decreasing max_length manually, e.g. summarizer('...', max_length=1)\n"
     ]
    },
    {
     "name": "stdout",
     "output_type": "stream",
     "text": [
      "https://companiesmarketcap.com/mohawk-industries/pe-ratio/\n",
      "sent extraction over\n",
      "Response call\n"
     ]
    },
    {
     "name": "stderr",
     "output_type": "stream",
     "text": [
      "Your max_length is set to 50, but your input_length is only 3. Since this is a summarization task, where outputs shorter than the input are typically wanted, you might consider decreasing max_length manually, e.g. summarizer('...', max_length=1)\n"
     ]
    },
    {
     "name": "stdout",
     "output_type": "stream",
     "text": [
      "https://finance.yahoo.com/quote/MHK/\n",
      "sent extraction over\n",
      "Response call\n",
      "Request timed out for https://www.nasdaq.com/articles/mohawk-industries-mhk-q1-earnings-and-revenues-surpass-estimates. Attempting with Selenium.\n",
      "sent extraction over\n",
      "Response call\n"
     ]
    },
    {
     "name": "stderr",
     "output_type": "stream",
     "text": [
      "Your max_length is set to 50, but your input_length is only 3. Since this is a summarization task, where outputs shorter than the input are typically wanted, you might consider decreasing max_length manually, e.g. summarizer('...', max_length=1)\n"
     ]
    },
    {
     "name": "stdout",
     "output_type": "stream",
     "text": [
      "https://altindex.com/ticker/mhk/ai-stock-analysis\n",
      "sent extraction over\n",
      "Response call\n"
     ]
    },
    {
     "name": "stderr",
     "output_type": "stream",
     "text": [
      "Your max_length is set to 50, but your input_length is only 3. Since this is a summarization task, where outputs shorter than the input are typically wanted, you might consider decreasing max_length manually, e.g. summarizer('...', max_length=1)\n"
     ]
    },
    {
     "name": "stdout",
     "output_type": "stream",
     "text": [
      "https://www.marketbeat.com/instant-alerts/nyse-mhk-sec-filing-2024-03-09/\n",
      "sent extraction over\n",
      "Response call\n",
      "Failed to retrieve https://medium.com/@luxuryvinylplanking/mohawk-industries-inc-complete-guide-luxury-vinyl-planking-5d44b621f061: Status code 403\n",
      "An error occurred while processing Mohawk Industries: Message: Navigation timed out after 300000 ms\n",
      "Stacktrace:\n",
      "RemoteError@chrome://remote/content/shared/RemoteError.sys.mjs:8:8\n",
      "WebDriverError@chrome://remote/content/shared/webdriver/Errors.sys.mjs:192:5\n",
      "TimeoutError@chrome://remote/content/shared/webdriver/Errors.sys.mjs:739:5\n",
      "bail@chrome://remote/content/marionette/sync.sys.mjs:211:19\n",
      "\n",
      "Oneok\n",
      "Calling the search\n",
      "Search complete\n",
      "Response call\n",
      "An error occurred while processing Oneok: cannot access local variable 'response' where it is not associated with a value\n",
      "Frontier Communications\n",
      "Calling the search\n",
      "Search complete\n",
      "Response call\n",
      "Failed to retrieve https://blog.frontier.com/2023/10/how-do-i-know-which-ai-platform-to-use/: Status code 403\n",
      "sent extraction over\n",
      "Response call\n",
      "Failed to retrieve https://gadgetmates.com/what-does-gpt-stand-for: Status code 403\n",
      "sent extraction over\n",
      "Response call\n",
      "https://www.techtarget.com/whatis/definition/ChatGPT\n",
      "sent extraction over\n",
      "Response call\n",
      "Failed to retrieve https://blog.frontier.com/2024/03/how-ai-can-help-you-work-better-from-home/: Status code 403\n",
      "sent extraction over\n",
      "Response call\n",
      "Failed to retrieve https://blog.frontier.com/2023/07/how-can-i-use-ai-to-plan-my-vacation/: Status code 403\n",
      "sent extraction over\n",
      "Response call\n",
      "https://www.cnbc.com/video/2023/09/14/chatgpt-democratized-ai-and-made-it-available-for-everyone-to-use-says-docusigns-wilderotter.html\n",
      "sent extraction over\n",
      "Response call\n",
      "https://lb.linkedin.com/posts/nick-jeffery-frontier_red-loves-green-frontier-newsroom-activity-7071531780780032000-x8P0\n",
      "sent extraction over\n",
      "Response call\n",
      "Request timed out for https://www.nasdaq.com/articles/why-frontier-communications-fybr-could-beat-earnings-estimates-again. Attempting with Selenium.\n",
      "sent extraction over\n",
      "Done\n",
      "Netflix\n",
      "Calling the search\n",
      "Search complete\n",
      "Response call\n",
      "https://github.com/MadhavSahi/Netflix-ChatGPT\n",
      "sent extraction over\n",
      "Response call\n"
     ]
    },
    {
     "name": "stderr",
     "output_type": "stream",
     "text": [
      "Your max_length is set to 50, but your input_length is only 3. Since this is a summarization task, where outputs shorter than the input are typically wanted, you might consider decreasing max_length manually, e.g. summarizer('...', max_length=1)\n"
     ]
    },
    {
     "name": "stdout",
     "output_type": "stream",
     "text": [
      "https://www.quora.com/What-are-the-information-systems-used-by-Netflix\n",
      "sent extraction over\n",
      "Response call\n",
      "https://www.wired.com/story/netflix-data-tracking-privacy/\n"
     ]
    },
    {
     "name": "stderr",
     "output_type": "stream",
     "text": [
      "Your max_length is set to 50, but your input_length is only 3. Since this is a summarization task, where outputs shorter than the input are typically wanted, you might consider decreasing max_length manually, e.g. summarizer('...', max_length=1)\n"
     ]
    },
    {
     "name": "stdout",
     "output_type": "stream",
     "text": [
      "sent extraction over\n",
      "Response call\n",
      "Failed to retrieve https://venturebeat.com/ai/analyzing-netflix-viewership-hours-with-chatgpt/: Status code 403\n",
      "sent extraction over\n",
      "Response call\n",
      "https://deadline.com/2023/06/black-mirror-creator-chatgpt-write-episode-netflix-series-1235410038/\n",
      "sent extraction over\n",
      "Response call\n",
      "https://www.reddit.com/r/ChatGPT/comments/17x2e5q/i_swapped_netflix_for_chatgpt/\n",
      "sent extraction over\n",
      "Response call\n",
      "https://www.pcmag.com/news/chatgpt-rakes-in-more-monthly-users-than-netflix-and-twitch\n",
      "sent extraction over\n",
      "Response call\n",
      "https://www.missioncriticalmagazine.com/articles/94939-chatgpt-overtakes-netflix-in-web-traffic\n",
      "sent extraction over\n",
      "Done\n",
      "American Family Insurance Group\n",
      "Calling the search\n",
      "Search complete\n",
      "Response call\n",
      "Failed to retrieve https://medium.com/amfam/i-can-really-be-myself-here-b89f5919796e: Status code 403\n"
     ]
    },
    {
     "name": "stderr",
     "output_type": "stream",
     "text": [
      "Your max_length is set to 50, but your input_length is only 3. Since this is a summarization task, where outputs shorter than the input are typically wanted, you might consider decreasing max_length manually, e.g. summarizer('...', max_length=1)\n"
     ]
    },
    {
     "name": "stdout",
     "output_type": "stream",
     "text": [
      "sent extraction over\n",
      "Response call\n",
      "https://www.linkedin.com/posts/stephaniepennington_steam-dream-phoenix-american-family-insurance-activity-7066793147124588545-hwB6\n",
      "sent extraction over\n",
      "Response call\n"
     ]
    },
    {
     "name": "stderr",
     "output_type": "stream",
     "text": [
      "Your max_length is set to 50, but your input_length is only 29. Since this is a summarization task, where outputs shorter than the input are typically wanted, you might consider decreasing max_length manually, e.g. summarizer('...', max_length=14)\n"
     ]
    },
    {
     "name": "stdout",
     "output_type": "stream",
     "text": [
      "https://www.linkedin.com/posts/randibgreenberg_american-family-ranks-no-71-on-fast-company-activity-7084622364423909376-iaHl\n",
      "sent extraction over\n",
      "Response call\n",
      "Failed to retrieve https://pndblog.typepad.com/pndblog/2020/04/corporations-ramp-up-support-for-covid-19-response-efforts-april-1-15-2020.html: Status code 403\n"
     ]
    },
    {
     "name": "stderr",
     "output_type": "stream",
     "text": [
      "Your max_length is set to 50, but your input_length is only 3. Since this is a summarization task, where outputs shorter than the input are typically wanted, you might consider decreasing max_length manually, e.g. summarizer('...', max_length=1)\n"
     ]
    },
    {
     "name": "stdout",
     "output_type": "stream",
     "text": [
      "sent extraction over\n",
      "Response call\n"
     ]
    },
    {
     "name": "stderr",
     "output_type": "stream",
     "text": [
      "Your max_length is set to 50, but your input_length is only 3. Since this is a summarization task, where outputs shorter than the input are typically wanted, you might consider decreasing max_length manually, e.g. summarizer('...', max_length=1)\n"
     ]
    },
    {
     "name": "stdout",
     "output_type": "stream",
     "text": [
      "https://www.law.com/insurance-coverage-law-center/2019/10/09/american-family-closes-purchase-of-ameriprise-auto-home-names-jessie-stauffacher-as-its-president-and-ceo/\n",
      "sent extraction over\n",
      "Response call\n"
     ]
    },
    {
     "name": "stderr",
     "output_type": "stream",
     "text": [
      "Your max_length is set to 50, but your input_length is only 3. Since this is a summarization task, where outputs shorter than the input are typically wanted, you might consider decreasing max_length manually, e.g. summarizer('...', max_length=1)\n"
     ]
    },
    {
     "name": "stdout",
     "output_type": "stream",
     "text": [
      "https://www.law.com/2014/06/12/heshion-motors-inc-v-trinity-universal-insurance-co/\n",
      "sent extraction over\n",
      "Response call\n",
      "Failed to retrieve https://issuu.com/insurancejournal/docs/insurancejournal_west_2023.06.19: Status code 406\n"
     ]
    },
    {
     "name": "stderr",
     "output_type": "stream",
     "text": [
      "Your max_length is set to 50, but your input_length is only 3. Since this is a summarization task, where outputs shorter than the input are typically wanted, you might consider decreasing max_length manually, e.g. summarizer('...', max_length=1)\n"
     ]
    },
    {
     "name": "stdout",
     "output_type": "stream",
     "text": [
      "sent extraction over\n",
      "Response call\n"
     ]
    },
    {
     "name": "stderr",
     "output_type": "stream",
     "text": [
      "Your max_length is set to 50, but your input_length is only 3. Since this is a summarization task, where outputs shorter than the input are typically wanted, you might consider decreasing max_length manually, e.g. summarizer('...', max_length=1)\n"
     ]
    },
    {
     "name": "stdout",
     "output_type": "stream",
     "text": [
      "https://www.alamy.com/stock-photo/american-financial-group-logo.html?page=7\n",
      "sent extraction over\n",
      "Done\n",
      "Thrivent Financial for Lutherans\n",
      "Calling the search\n",
      "Search complete\n",
      "Response call\n"
     ]
    },
    {
     "name": "stderr",
     "output_type": "stream",
     "text": [
      "Your max_length is set to 50, but your input_length is only 3. Since this is a summarization task, where outputs shorter than the input are typically wanted, you might consider decreasing max_length manually, e.g. summarizer('...', max_length=1)\n"
     ]
    },
    {
     "name": "stdout",
     "output_type": "stream",
     "text": [
      "https://www.bankingdive.com/news/thrivent-becomes-2nd-nonbank-in-a-week-to-eye-ilc-charter/595705/\n",
      "sent extraction over\n",
      "Response call\n"
     ]
    },
    {
     "name": "stderr",
     "output_type": "stream",
     "text": [
      "Your max_length is set to 50, but your input_length is only 3. Since this is a summarization task, where outputs shorter than the input are typically wanted, you might consider decreasing max_length manually, e.g. summarizer('...', max_length=1)\n"
     ]
    },
    {
     "name": "stdout",
     "output_type": "stream",
     "text": [
      "https://www.thrivent.com/about-us/history\n",
      "sent extraction over\n",
      "Response call\n",
      "https://en.wikipedia.org/wiki/Thrivent\n"
     ]
    },
    {
     "name": "stderr",
     "output_type": "stream",
     "text": [
      "Your max_length is set to 50, but your input_length is only 3. Since this is a summarization task, where outputs shorter than the input are typically wanted, you might consider decreasing max_length manually, e.g. summarizer('...', max_length=1)\n"
     ]
    },
    {
     "name": "stdout",
     "output_type": "stream",
     "text": [
      "sent extraction over\n",
      "Response call\n"
     ]
    },
    {
     "name": "stderr",
     "output_type": "stream",
     "text": [
      "Your max_length is set to 50, but your input_length is only 3. Since this is a summarization task, where outputs shorter than the input are typically wanted, you might consider decreasing max_length manually, e.g. summarizer('...', max_length=1)\n"
     ]
    },
    {
     "name": "stdout",
     "output_type": "stream",
     "text": [
      "https://www.thrivent.com/about-us\n",
      "sent extraction over\n",
      "Response call\n",
      "https://www.linkedin.com/posts/gretchen-franti_fintech-roboetfs-chatgpt-activity-7023697500268105728-odll\n",
      "sent extraction over\n",
      "Response call\n",
      "Request timed out for https://money.usnews.com/financial-advisors/advisor/kirk-perry-2600185. Attempting with Selenium.\n"
     ]
    },
    {
     "name": "stderr",
     "output_type": "stream",
     "text": [
      "Your max_length is set to 50, but your input_length is only 3. Since this is a summarization task, where outputs shorter than the input are typically wanted, you might consider decreasing max_length manually, e.g. summarizer('...', max_length=1)\n"
     ]
    },
    {
     "name": "stdout",
     "output_type": "stream",
     "text": [
      "sent extraction over\n",
      "Done\n",
      "Expedia\n",
      "Calling the search\n",
      "Search complete\n",
      "Response call\n",
      "Failed to retrieve https://www.travelweekly.com/Travel-News/Travel-Technology/Expedia-deploying-ChatGPT-early-and-often: Status code 405\n",
      "sent extraction over\n",
      "Response call\n",
      "Failed to retrieve https://www.expedia.com/newsroom/expedia-launched-chatgpt/: Status code 403\n",
      "sent extraction over\n",
      "Response call\n",
      "Failed to retrieve https://www.expediagroup.com/investors/news-and-events/financial-releases/news/news-details/2023/Chatgpt-Wrote-This-Press-Release--No-It-Didnt-But-It-Can-Now-Assist-With-Travel-Planning-In-The-Expedia-App/default.aspx: Status code 403\n",
      "sent extraction over\n",
      "Response call\n",
      "https://www.forbes.com/sites/bernardmarr/2023/05/01/the-amazing-ways-expedia-is-using-chatgpt-to-simplify-travel-arrangements/\n",
      "sent extraction over\n",
      "Response call\n",
      "https://mashable.com/article/expedia-chatgpt-in-app-travel-booking\n",
      "sent extraction over\n",
      "Response call\n",
      "https://chatonai.org/expedia-chatgpt-plugin\n",
      "sent extraction over\n",
      "Response call\n",
      "https://chatonai.org/expedia-chatgpt-plugin#part-1\n",
      "sent extraction over\n",
      "Response call\n",
      "https://chatonai.org/expedia-chatgpt-plugin#part-2\n",
      "sent extraction over\n",
      "Done\n",
      "Lithia Motors\n",
      "Calling the search\n",
      "Search complete\n",
      "Response call\n",
      "https://www.theretirementgroup.com/featured-article/5448097/lithia-motors-employees-can-chatgpt-help-with-your-budget\n",
      "sent extraction over\n",
      "Response call\n",
      "Request timed out for https://www.nasdaq.com/articles/heres-what-key-metrics-tell-us-about-lithia-motors-lad-q4-earnings. Attempting with Selenium.\n",
      "sent extraction over\n",
      "Response call\n",
      "https://www.linkedin.com/posts/cbt-news_how-chatgpt-is-transforming-the-way-dealers-activity-7054511193742315520-EoUe\n",
      "sent extraction over\n",
      "Response call\n",
      "Request timed out for https://www.nasdaq.com/articles/lithia-lad-acquires-carousel-motor-to-expand-footprint. Attempting with Selenium.\n",
      "sent extraction over\n",
      "Response call\n"
     ]
    },
    {
     "name": "stderr",
     "output_type": "stream",
     "text": [
      "Your max_length is set to 50, but your input_length is only 3. Since this is a summarization task, where outputs shorter than the input are typically wanted, you might consider decreasing max_length manually, e.g. summarizer('...', max_length=1)\n"
     ]
    },
    {
     "name": "stdout",
     "output_type": "stream",
     "text": [
      "https://altindex.com/ticker/lad/ai-stock-analysis\n",
      "sent extraction over\n",
      "Response call\n"
     ]
    },
    {
     "name": "stderr",
     "output_type": "stream",
     "text": [
      "Your max_length is set to 50, but your input_length is only 3. Since this is a summarization task, where outputs shorter than the input are typically wanted, you might consider decreasing max_length manually, e.g. summarizer('...', max_length=1)\n"
     ]
    },
    {
     "name": "stdout",
     "output_type": "stream",
     "text": [
      "https://www.linkedin.com/posts/automotive-news_lithia-could-soon-be-no-1-dealership-group-activity-6916776941924601856-jg6w?trk=public_profile\n",
      "sent extraction over\n",
      "Response call\n",
      "Failed to retrieve https://www.zacks.com/amp/stock/news/2127756/lithia-motors-lad-q2-earnings-taking-a-look-at-key-metrics-versus-estimates: Status code 500\n",
      "sent extraction over\n",
      "Response call\n"
     ]
    },
    {
     "name": "stderr",
     "output_type": "stream",
     "text": [
      "Your max_length is set to 50, but your input_length is only 3. Since this is a summarization task, where outputs shorter than the input are typically wanted, you might consider decreasing max_length manually, e.g. summarizer('...', max_length=1)\n"
     ]
    },
    {
     "name": "stdout",
     "output_type": "stream",
     "text": [
      "https://www.defenseworld.net/2024/03/08/lithia-motors-inc-nyselad-holdings-raised-by-hsbc-holdings-plc.html\n",
      "sent extraction over\n",
      "Done\n",
      "Avis Budget Group\n",
      "Calling the search\n",
      "Search complete\n",
      "Response call\n",
      "https://www.theretirementgroup.com/featured-article/5448097/avis-budget-group-employees-can-chatgpt-help-with-your-budget\n",
      "sent extraction over\n",
      "Response call\n",
      "Request timed out for https://www.nasdaq.com/articles/avis-budget-car-gains-from-its-ability-to-serve-the-market. Attempting with Selenium.\n",
      "sent extraction over\n",
      "Response call\n"
     ]
    },
    {
     "name": "stderr",
     "output_type": "stream",
     "text": [
      "Your max_length is set to 50, but your input_length is only 3. Since this is a summarization task, where outputs shorter than the input are typically wanted, you might consider decreasing max_length manually, e.g. summarizer('...', max_length=1)\n"
     ]
    },
    {
     "name": "stdout",
     "output_type": "stream",
     "text": [
      "https://www.digitaltrends.com/cars/avis-ai-technology-scans-rental-cars-for-damage/\n",
      "sent extraction over\n",
      "Response call\n",
      "https://www.linkedin.com/posts/avis-budget-group_canadas-best-employers-2021-activity-6631198767196499968-vZ-O\n",
      "sent extraction over\n",
      "Response call\n",
      "Request timed out for https://www.nasdaq.com/articles/earnings-preview:-avis-budget-group-car-q4-earnings-expected-to-decline. Attempting with Selenium.\n",
      "sent extraction over\n",
      "Response call\n"
     ]
    },
    {
     "name": "stderr",
     "output_type": "stream",
     "text": [
      "Your max_length is set to 50, but your input_length is only 3. Since this is a summarization task, where outputs shorter than the input are typically wanted, you might consider decreasing max_length manually, e.g. summarizer('...', max_length=1)\n"
     ]
    },
    {
     "name": "stdout",
     "output_type": "stream",
     "text": [
      "http://www.mi-3.com.au/13-09-2021/avis-driven-better-new-brand-platform\n",
      "sent extraction over\n",
      "Response call\n",
      "Failed to retrieve https://www.wsj.com/market-data/quotes/CAR/company-people/executive-profile/145628909: Status code 403\n"
     ]
    },
    {
     "name": "stderr",
     "output_type": "stream",
     "text": [
      "Your max_length is set to 50, but your input_length is only 3. Since this is a summarization task, where outputs shorter than the input are typically wanted, you might consider decreasing max_length manually, e.g. summarizer('...', max_length=1)\n"
     ]
    },
    {
     "name": "stdout",
     "output_type": "stream",
     "text": [
      "sent extraction over\n",
      "Response call\n",
      "https://hospitalitytech.com/chatgpt-comes-travel-planning-what-could-go-wrong\n",
      "sent extraction over\n",
      "Done\n",
      "Reliance Steel & Aluminum\n",
      "Calling the search\n",
      "Search complete\n",
      "Response call\n",
      "Request timed out for https://www.nasdaq.com/articles/reliance-steel-aluminum-rs-buys-cooksey-iron-metal. Attempting with Selenium.\n",
      "sent extraction over\n",
      "Response call\n"
     ]
    },
    {
     "name": "stderr",
     "output_type": "stream",
     "text": [
      "Your max_length is set to 50, but your input_length is only 3. Since this is a summarization task, where outputs shorter than the input are typically wanted, you might consider decreasing max_length manually, e.g. summarizer('...', max_length=1)\n"
     ]
    },
    {
     "name": "stdout",
     "output_type": "stream",
     "text": [
      "https://altindex.com/ticker/rs/ai-stock-analysis\n",
      "sent extraction over\n",
      "Response call\n",
      "Request timed out for https://www.nasdaq.com/articles/reliance-steel-rs-gains-on-demand-strength-acquisitions-1. Attempting with Selenium.\n",
      "sent extraction over\n",
      "Response call\n"
     ]
    },
    {
     "name": "stderr",
     "output_type": "stream",
     "text": [
      "Your max_length is set to 50, but your input_length is only 3. Since this is a summarization task, where outputs shorter than the input are typically wanted, you might consider decreasing max_length manually, e.g. summarizer('...', max_length=1)\n"
     ]
    },
    {
     "name": "stdout",
     "output_type": "stream",
     "text": [
      "https://www.pymnts.com/cpi_posts/us-steel-firm-wins-millions-in-anti-collusion-lawsuit/\n",
      "sent extraction over\n",
      "Response call\n"
     ]
    },
    {
     "name": "stderr",
     "output_type": "stream",
     "text": [
      "Your max_length is set to 50, but your input_length is only 3. Since this is a summarization task, where outputs shorter than the input are typically wanted, you might consider decreasing max_length manually, e.g. summarizer('...', max_length=1)\n"
     ]
    },
    {
     "name": "stdout",
     "output_type": "stream",
     "text": [
      "https://www.marketbeat.com/originals/reliance-steel-going-for-new-highs-and-record-profits/\n",
      "sent extraction over\n",
      "Response call\n",
      "Failed to retrieve https://www.tipranks.com/news/company-announcements/reliance-steel-aluminum-rebrands-as-reliance-inc: Status code 503\n"
     ]
    },
    {
     "name": "stderr",
     "output_type": "stream",
     "text": [
      "Your max_length is set to 50, but your input_length is only 3. Since this is a summarization task, where outputs shorter than the input are typically wanted, you might consider decreasing max_length manually, e.g. summarizer('...', max_length=1)\n"
     ]
    },
    {
     "name": "stdout",
     "output_type": "stream",
     "text": [
      "sent extraction over\n",
      "Response call\n",
      "https://www.linkedin.com/posts/dan-hilliard-76118a110_if-you-arent-up-on-what-chatgpt-and-other-activity-7023996634439041024-JIww?trk=public_profile_like_view\n",
      "sent extraction over\n",
      "Response call\n"
     ]
    },
    {
     "name": "stderr",
     "output_type": "stream",
     "text": [
      "Your max_length is set to 50, but your input_length is only 3. Since this is a summarization task, where outputs shorter than the input are typically wanted, you might consider decreasing max_length manually, e.g. summarizer('...', max_length=1)\n"
     ]
    },
    {
     "name": "stdout",
     "output_type": "stream",
     "text": [
      "https://www.marketbeat.com/instant-alerts/nyse-rs-sec-filing-2024-03-09/\n",
      "sent extraction over\n",
      "Done\n",
      "GameStop\n",
      "Calling the search\n",
      "Search complete\n",
      "Response call\n"
     ]
    },
    {
     "name": "stderr",
     "output_type": "stream",
     "text": [
      "Your max_length is set to 50, but your input_length is only 3. Since this is a summarization task, where outputs shorter than the input are typically wanted, you might consider decreasing max_length manually, e.g. summarizer('...', max_length=1)\n"
     ]
    },
    {
     "name": "stdout",
     "output_type": "stream",
     "text": [
      "https://www.reddit.com/r/GameStop/comments/11l94xn/i_asked_ai_chatgpt_to_write_an_essay_on_why_gs_is/\n",
      "sent extraction over\n",
      "Response call\n"
     ]
    },
    {
     "name": "stderr",
     "output_type": "stream",
     "text": [
      "Your max_length is set to 50, but your input_length is only 3. Since this is a summarization task, where outputs shorter than the input are typically wanted, you might consider decreasing max_length manually, e.g. summarizer('...', max_length=1)\n"
     ]
    },
    {
     "name": "stdout",
     "output_type": "stream",
     "text": [
      "https://news.gamestop.com/static-files/a07563a1-de5d-43d0-bb11-d6bfd309dacd\n",
      "sent extraction over\n",
      "Response call\n",
      "Failed to retrieve https://www.tipranks.com/stocks/gme/ownership: Status code 503\n"
     ]
    },
    {
     "name": "stderr",
     "output_type": "stream",
     "text": [
      "Your max_length is set to 50, but your input_length is only 3. Since this is a summarization task, where outputs shorter than the input are typically wanted, you might consider decreasing max_length manually, e.g. summarizer('...', max_length=1)\n"
     ]
    },
    {
     "name": "stdout",
     "output_type": "stream",
     "text": [
      "sent extraction over\n",
      "Response call\n",
      "https://en.wikipedia.org/wiki/GameStop\n"
     ]
    },
    {
     "name": "stderr",
     "output_type": "stream",
     "text": [
      "Your max_length is set to 50, but your input_length is only 3. Since this is a summarization task, where outputs shorter than the input are typically wanted, you might consider decreasing max_length manually, e.g. summarizer('...', max_length=1)\n"
     ]
    },
    {
     "name": "stdout",
     "output_type": "stream",
     "text": [
      "sent extraction over\n",
      "Response call\n"
     ]
    },
    {
     "name": "stderr",
     "output_type": "stream",
     "text": [
      "Your max_length is set to 50, but your input_length is only 3. Since this is a summarization task, where outputs shorter than the input are typically wanted, you might consider decreasing max_length manually, e.g. summarizer('...', max_length=1)\n"
     ]
    },
    {
     "name": "stdout",
     "output_type": "stream",
     "text": [
      "https://english.elpais.com/economy-and-business/2023-10-06/what-happened-to-gamestop-the-company-that-made-wall-street-tremble.html\n",
      "sent extraction over\n",
      "Response call\n"
     ]
    },
    {
     "name": "stderr",
     "output_type": "stream",
     "text": [
      "Your max_length is set to 50, but your input_length is only 3. Since this is a summarization task, where outputs shorter than the input are typically wanted, you might consider decreasing max_length manually, e.g. summarizer('...', max_length=1)\n"
     ]
    },
    {
     "name": "stdout",
     "output_type": "stream",
     "text": [
      "https://www.reddit.com/r/Superstonk/comments/11ja8dh/chatgpt_predicts_gme_stock_price/\n",
      "sent extraction over\n",
      "Response call\n",
      "https://www.theretirementgroup.com/featured-article/5448097/gamestop-employees-can-chatgpt-help-with-your-budget\n",
      "sent extraction over\n",
      "Response call\n",
      "https://github.com/fonckchain/gamestop-chatgpt-retrieval\n",
      "sent extraction over\n",
      "Done\n",
      "Tenneco\n",
      "Calling the search\n",
      "Search complete\n",
      "Response call\n"
     ]
    },
    {
     "name": "stderr",
     "output_type": "stream",
     "text": [
      "Your max_length is set to 50, but your input_length is only 3. Since this is a summarization task, where outputs shorter than the input are typically wanted, you might consider decreasing max_length manually, e.g. summarizer('...', max_length=1)\n"
     ]
    },
    {
     "name": "stdout",
     "output_type": "stream",
     "text": [
      "https://www.wardsauto.com/tenneco-identifies-new-ford-emissions-business\n",
      "sent extraction over\n",
      "Response call\n",
      "https://www.linkedin.com/posts/ashleyrecruitstalent_how-chatgpt-can-aid-in-your-job-search-activity-7028808249202130944-cYX8\n",
      "sent extraction over\n",
      "Response call\n"
     ]
    },
    {
     "name": "stderr",
     "output_type": "stream",
     "text": [
      "Your max_length is set to 50, but your input_length is only 3. Since this is a summarization task, where outputs shorter than the input are typically wanted, you might consider decreasing max_length manually, e.g. summarizer('...', max_length=1)\n"
     ]
    },
    {
     "name": "stdout",
     "output_type": "stream",
     "text": [
      "https://edinn.com/home-2-2-2-2-2/?lang=en\n",
      "sent extraction over\n",
      "Response call\n",
      "https://www.linkedin.com/posts/oana-stan-167b8a4a_ai-technology-chatgpt-activity-7085204525896081408-xX5H?trk=public_profile_share_view\n",
      "sent extraction over\n",
      "Response call\n"
     ]
    },
    {
     "name": "stderr",
     "output_type": "stream",
     "text": [
      "Your max_length is set to 50, but your input_length is only 3. Since this is a summarization task, where outputs shorter than the input are typically wanted, you might consider decreasing max_length manually, e.g. summarizer('...', max_length=1)\n"
     ]
    },
    {
     "name": "stdout",
     "output_type": "stream",
     "text": [
      "https://www.youtube.com/watch?v=ggK3IovUWBs\n",
      "sent extraction over\n",
      "Response call\n",
      "Failed to retrieve https://www.tipranks.com/stocks/ten/financials/income-statement: Status code 503\n"
     ]
    },
    {
     "name": "stderr",
     "output_type": "stream",
     "text": [
      "Your max_length is set to 50, but your input_length is only 3. Since this is a summarization task, where outputs shorter than the input are typically wanted, you might consider decreasing max_length manually, e.g. summarizer('...', max_length=1)\n"
     ]
    },
    {
     "name": "stdout",
     "output_type": "stream",
     "text": [
      "sent extraction over\n",
      "Response call\n"
     ]
    },
    {
     "name": "stderr",
     "output_type": "stream",
     "text": [
      "Your max_length is set to 50, but your input_length is only 3. Since this is a summarization task, where outputs shorter than the input are typically wanted, you might consider decreasing max_length manually, e.g. summarizer('...', max_length=1)\n"
     ]
    },
    {
     "name": "stdout",
     "output_type": "stream",
     "text": [
      "https://www.zdnet.com/article/reinventing-the-wheel-with-modular-electric-vehicle-development/\n",
      "sent extraction over\n",
      "Response call\n",
      "Failed to retrieve https://siouxcityjournal.com/news/tenneco-closure-won-t-affect-other-neb-plants/article_8f3eb56c-ca83-5f0f-afb1-e290e3dfeedc.html: Status code 429\n"
     ]
    },
    {
     "name": "stderr",
     "output_type": "stream",
     "text": [
      "Your max_length is set to 50, but your input_length is only 3. Since this is a summarization task, where outputs shorter than the input are typically wanted, you might consider decreasing max_length manually, e.g. summarizer('...', max_length=1)\n"
     ]
    },
    {
     "name": "stdout",
     "output_type": "stream",
     "text": [
      "sent extraction over\n",
      "Done\n",
      "O’Reilly Automotive\n",
      "Calling the search\n",
      "Search complete\n",
      "Response call\n",
      "https://www.theretirementgroup.com/featured-article/5448097/oreilly-automotive-employees-can-chatgpt-help-with-your-budget\n",
      "sent extraction over\n",
      "Response call\n",
      "https://www.linkedin.com/posts/george-esteller_chatgpt-nickelback-activity-7038657105154777088-3Ssy\n",
      "sent extraction over\n",
      "Response call\n"
     ]
    },
    {
     "name": "stderr",
     "output_type": "stream",
     "text": [
      "Your max_length is set to 50, but your input_length is only 3. Since this is a summarization task, where outputs shorter than the input are typically wanted, you might consider decreasing max_length manually, e.g. summarizer('...', max_length=1)\n"
     ]
    },
    {
     "name": "stdout",
     "output_type": "stream",
     "text": [
      "https://www.linkedin.com/posts/codyledbetter_oreilly-automotive-application-for-employment-activity-7118585855925002240-FGej?trk=public_profile_like_view\n",
      "sent extraction over\n",
      "Response call\n",
      "Request timed out for https://www.nasdaq.com/articles/oreilly-orly-to-report-q4-earnings:-whats-in-the-cards-0. Attempting with Selenium.\n",
      "sent extraction over\n",
      "Response call\n",
      "Failed to retrieve http://sbj.net/stories/untangled-web-data-show-stock-surge-at-oreilly-automotive-since-pandemic,92994: Status code 403\n",
      "sent extraction over\n",
      "Response call\n",
      "Failed to retrieve https://www.tipranks.com/news/article/oreilly-automotive-competitive-advantage-supports-profitability: Status code 503\n"
     ]
    },
    {
     "name": "stderr",
     "output_type": "stream",
     "text": [
      "Your max_length is set to 50, but your input_length is only 3. Since this is a summarization task, where outputs shorter than the input are typically wanted, you might consider decreasing max_length manually, e.g. summarizer('...', max_length=1)\n"
     ]
    },
    {
     "name": "stdout",
     "output_type": "stream",
     "text": [
      "sent extraction over\n",
      "Response call\n",
      "Request timed out for https://www.nasdaq.com/articles/oreilly-orly-to-enter-canada-with-groupe-del-vasto-buyout. Attempting with Selenium.\n",
      "sent extraction over\n",
      "Response call\n",
      "https://investorplace.com/2024/03/3-consumer-stocks-to-snatch-up-while-the-market-snoozes/\n"
     ]
    },
    {
     "name": "stderr",
     "output_type": "stream",
     "text": [
      "Your max_length is set to 50, but your input_length is only 3. Since this is a summarization task, where outputs shorter than the input are typically wanted, you might consider decreasing max_length manually, e.g. summarizer('...', max_length=1)\n"
     ]
    },
    {
     "name": "stdout",
     "output_type": "stream",
     "text": [
      "sent extraction over\n",
      "Done\n",
      "Peter Kiewit Sons’\n",
      "Calling the search\n",
      "Search complete\n",
      "Response call\n",
      "https://www.theretirementgroup.com/featured-article/5448097/peter-kiewit-sons-employees-can-chatgpt-help-with-your-budget\n",
      "sent extraction over\n",
      "Response call\n"
     ]
    },
    {
     "name": "stderr",
     "output_type": "stream",
     "text": [
      "Your max_length is set to 50, but your input_length is only 3. Since this is a summarization task, where outputs shorter than the input are typically wanted, you might consider decreasing max_length manually, e.g. summarizer('...', max_length=1)\n"
     ]
    },
    {
     "name": "stdout",
     "output_type": "stream",
     "text": [
      "https://informationgovernance101.com/2012/06/\n",
      "sent extraction over\n",
      "Response call\n",
      "Failed to retrieve https://nptelegraph.com/news/state/kiewit-jr-blazed-own-trail/article_05ba5a85-aaaa-5c39-b8fb-e95b443ad52d.html: Status code 429\n"
     ]
    },
    {
     "name": "stderr",
     "output_type": "stream",
     "text": [
      "Your max_length is set to 50, but your input_length is only 3. Since this is a summarization task, where outputs shorter than the input are typically wanted, you might consider decreasing max_length manually, e.g. summarizer('...', max_length=1)\n"
     ]
    },
    {
     "name": "stdout",
     "output_type": "stream",
     "text": [
      "sent extraction over\n",
      "Response call\n",
      "Failed to retrieve https://nptelegraph.com/news/state-and-regional/nebraska/article_4e063dbf-e44d-5526-887a-cd117399081c.html: Status code 429\n"
     ]
    },
    {
     "name": "stderr",
     "output_type": "stream",
     "text": [
      "Your max_length is set to 50, but your input_length is only 3. Since this is a summarization task, where outputs shorter than the input are typically wanted, you might consider decreasing max_length manually, e.g. summarizer('...', max_length=1)\n"
     ]
    },
    {
     "name": "stdout",
     "output_type": "stream",
     "text": [
      "sent extraction over\n",
      "Response call\n",
      "Failed to retrieve https://journalstar.com/news/state-and-regional/article_1df2e8e7-fd59-5295-9795-361e18fff57d.html: Status code 429\n"
     ]
    },
    {
     "name": "stderr",
     "output_type": "stream",
     "text": [
      "Your max_length is set to 50, but your input_length is only 3. Since this is a summarization task, where outputs shorter than the input are typically wanted, you might consider decreasing max_length manually, e.g. summarizer('...', max_length=1)\n"
     ]
    },
    {
     "name": "stdout",
     "output_type": "stream",
     "text": [
      "sent extraction over\n",
      "Response call\n"
     ]
    },
    {
     "name": "stderr",
     "output_type": "stream",
     "text": [
      "Your max_length is set to 50, but your input_length is only 3. Since this is a summarization task, where outputs shorter than the input are typically wanted, you might consider decreasing max_length manually, e.g. summarizer('...', max_length=1)\n"
     ]
    },
    {
     "name": "stdout",
     "output_type": "stream",
     "text": [
      "https://bc.ctvnews.ca/financing-falls-through-for-2-4-billion-port-mann-1.374469?cache=yes%3FclipId%3D68597\n",
      "sent extraction over\n",
      "Response call\n"
     ]
    },
    {
     "name": "stderr",
     "output_type": "stream",
     "text": [
      "Your max_length is set to 50, but your input_length is only 3. Since this is a summarization task, where outputs shorter than the input are typically wanted, you might consider decreasing max_length manually, e.g. summarizer('...', max_length=1)\n"
     ]
    },
    {
     "name": "stdout",
     "output_type": "stream",
     "text": [
      "https://www.bloomberg.com/profile/company/309990Z:US\n",
      "sent extraction over\n",
      "Response call\n"
     ]
    },
    {
     "name": "stderr",
     "output_type": "stream",
     "text": [
      "Your max_length is set to 50, but your input_length is only 3. Since this is a summarization task, where outputs shorter than the input are typically wanted, you might consider decreasing max_length manually, e.g. summarizer('...', max_length=1)\n"
     ]
    },
    {
     "name": "stdout",
     "output_type": "stream",
     "text": [
      "https://websites.ca/listing/SLEl5qVud-/Peter-Kiewit-Sons-ULC-Burnaby-British-Columbia\n",
      "sent extraction over\n",
      "Done\n",
      "United Natural Foods\n",
      "Calling the search\n",
      "Search complete\n",
      "Response call\n"
     ]
    },
    {
     "name": "stderr",
     "output_type": "stream",
     "text": [
      "Your max_length is set to 50, but your input_length is only 3. Since this is a summarization task, where outputs shorter than the input are typically wanted, you might consider decreasing max_length manually, e.g. summarizer('...', max_length=1)\n"
     ]
    },
    {
     "name": "stdout",
     "output_type": "stream",
     "text": [
      "https://www.marketbeat.com/instant-alerts/nyse-unfi-downgrade-2024-03-08/\n",
      "sent extraction over\n",
      "Response call\n",
      "Failed to retrieve https://www.digitalcommerce360.com/2023/10/02/united-natural-foods-digital-transformation/: Status code 403\n"
     ]
    },
    {
     "name": "stderr",
     "output_type": "stream",
     "text": [
      "Your max_length is set to 50, but your input_length is only 3. Since this is a summarization task, where outputs shorter than the input are typically wanted, you might consider decreasing max_length manually, e.g. summarizer('...', max_length=1)\n"
     ]
    },
    {
     "name": "stdout",
     "output_type": "stream",
     "text": [
      "sent extraction over\n",
      "Response call\n",
      "Request timed out for https://www.nasdaq.com/articles/united-natural-unfi-stock-down-more-than-45-ytd:-heres-why. Attempting with Selenium.\n",
      "sent extraction over\n",
      "Response call\n",
      "Failed to retrieve https://seekingalpha.com/news/3945246-united-natural-foods-reports-mixed-q2-earnings-withdrawn-its-long-term-2024-financial-targets-and-updates-fy23-guidance: Status code 403\n"
     ]
    },
    {
     "name": "stderr",
     "output_type": "stream",
     "text": [
      "Your max_length is set to 50, but your input_length is only 3. Since this is a summarization task, where outputs shorter than the input are typically wanted, you might consider decreasing max_length manually, e.g. summarizer('...', max_length=1)\n"
     ]
    },
    {
     "name": "stdout",
     "output_type": "stream",
     "text": [
      "sent extraction over\n",
      "Response call\n",
      "Request timed out for https://www.nasdaq.com/articles/what-to-note-ahead-of-united-natural-unfi-in-q3-earnings. Attempting with Selenium.\n",
      "sent extraction over\n",
      "Response call\n",
      "https://www.marketbeat.com/instant-alerts/nyse-unfi-earnings-guidance-2024-03-06/\n",
      "sent extraction over\n",
      "Response call\n"
     ]
    },
    {
     "name": "stderr",
     "output_type": "stream",
     "text": [
      "Your max_length is set to 50, but your input_length is only 3. Since this is a summarization task, where outputs shorter than the input are typically wanted, you might consider decreasing max_length manually, e.g. summarizer('...', max_length=1)\n"
     ]
    },
    {
     "name": "stdout",
     "output_type": "stream",
     "text": [
      "https://markets.businessinsider.com/news/stocks/unfi-stock-earnings-united-natural-foods-for-q2-of-2024-1033138724\n",
      "sent extraction over\n",
      "Response call\n",
      "Failed to retrieve https://finance.yahoo.com/news/united-natural-foods-signs-definitive-200721392.html: Status code 404\n"
     ]
    },
    {
     "name": "stderr",
     "output_type": "stream",
     "text": [
      "Your max_length is set to 50, but your input_length is only 3. Since this is a summarization task, where outputs shorter than the input are typically wanted, you might consider decreasing max_length manually, e.g. summarizer('...', max_length=1)\n"
     ]
    },
    {
     "name": "stdout",
     "output_type": "stream",
     "text": [
      "sent extraction over\n",
      "Done\n",
      "salesforce.com\n",
      "Calling the search\n",
      "Search complete\n",
      "Response call\n",
      "https://www.salesforce.com/news/press-releases/2023/03/07/einstein-generative-ai/\n",
      "sent extraction over\n",
      "Response call\n",
      "https://www.theskyplanner.com/10-ways-to-use-chatgpt-in-salesforce/\n",
      "sent extraction over\n",
      "Response call\n",
      "https://www.salesforceben.com/understanding-how-to-apply-openai-to-salesforce-an-admins-guide/\n",
      "sent extraction over\n",
      "Response call\n",
      "https://www.salesforceben.com/the-definitive-guide-to-einstein-gpt-salesforce-ai/\n",
      "sent extraction over\n",
      "Response call\n",
      "https://www.apexhours.com/power-of-salesforce-generative-ai/\n",
      "sent extraction over\n",
      "Response call\n",
      "https://www.salesforce.com/news/stories/sales-gpt-service-gpt-ga/\n",
      "sent extraction over\n",
      "Response call\n"
     ]
    },
    {
     "name": "stderr",
     "output_type": "stream",
     "text": [
      "Your max_length is set to 50, but your input_length is only 3. Since this is a summarization task, where outputs shorter than the input are typically wanted, you might consider decreasing max_length manually, e.g. summarizer('...', max_length=1)\n"
     ]
    },
    {
     "name": "stdout",
     "output_type": "stream",
     "text": [
      "https://trailhead.salesforce.com/trailblazer-community/feed/0D54V00007X6fUFSAZ\n",
      "sent extraction over\n",
      "Response call\n",
      "https://www.cnbc.com/2023/03/07/salesforce-launches-chatgpt-slack-app-einstein-gpt-for-sales-service.html\n",
      "sent extraction over\n",
      "Done\n",
      "Boston Scientific\n",
      "Calling the search\n",
      "Search complete\n",
      "Response call\n",
      "https://www.linkedin.com/posts/carmodyjohn_chatgpt-and-how-ai-disrupts-industries-activity-7018144431107100672-Ahlm\n",
      "sent extraction over\n",
      "Response call\n",
      "https://jobs.bostonscientific.com/job/Washington-Sr_-Analyst%2C-Global-Government-Affairs-Washington%2C-DC-DC-20001/1139325800/\n",
      "sent extraction over\n",
      "Response call\n",
      "Request timed out for https://www.nasdaq.com/articles/heres-why-you-should-retain-boston-scientific-bsx-now-1. Attempting with Selenium.\n",
      "sent extraction over\n",
      "Response call\n"
     ]
    },
    {
     "name": "stderr",
     "output_type": "stream",
     "text": [
      "Your max_length is set to 50, but your input_length is only 3. Since this is a summarization task, where outputs shorter than the input are typically wanted, you might consider decreasing max_length manually, e.g. summarizer('...', max_length=1)\n"
     ]
    },
    {
     "name": "stdout",
     "output_type": "stream",
     "text": [
      "https://www.diagnosticimaging.com/view/boston-scientific-builds-intravascular-ultrasound-labs\n",
      "sent extraction over\n",
      "Response call\n",
      "Request timed out for https://www.nasdaq.com/articles/heres-why-you-should-retain-boston-scientific-bsx-now-2. Attempting with Selenium.\n",
      "sent extraction over\n",
      "Response call\n",
      "https://www.linkedin.com/pulse/can-you-tell-whether-linkedin-post-drafted-me-chat-gpt4-brand-mba\n",
      "sent extraction over\n",
      "Response call\n"
     ]
    },
    {
     "name": "stderr",
     "output_type": "stream",
     "text": [
      "Your max_length is set to 50, but your input_length is only 3. Since this is a summarization task, where outputs shorter than the input are typically wanted, you might consider decreasing max_length manually, e.g. summarizer('...', max_length=1)\n"
     ]
    },
    {
     "name": "stdout",
     "output_type": "stream",
     "text": [
      "https://www.mobihealthnews.com/16645/boston-scientific-taps-vodafone-att-for-mobile-patient-monitoring\n",
      "sent extraction over\n",
      "Response call\n",
      "Failed to retrieve https://medium.com/@wlc3/wonderful-week-one-at-boston-scientific-bdaf494e5bf: Status code 403\n"
     ]
    },
    {
     "name": "stderr",
     "output_type": "stream",
     "text": [
      "Your max_length is set to 50, but your input_length is only 3. Since this is a summarization task, where outputs shorter than the input are typically wanted, you might consider decreasing max_length manually, e.g. summarizer('...', max_length=1)\n"
     ]
    },
    {
     "name": "stdout",
     "output_type": "stream",
     "text": [
      "sent extraction over\n",
      "Done\n",
      "Newmont Mining\n",
      "Calling the search\n",
      "Search complete\n",
      "Response call\n"
     ]
    },
    {
     "name": "stderr",
     "output_type": "stream",
     "text": [
      "Your max_length is set to 50, but your input_length is only 3. Since this is a summarization task, where outputs shorter than the input are typically wanted, you might consider decreasing max_length manually, e.g. summarizer('...', max_length=1)\n"
     ]
    },
    {
     "name": "stdout",
     "output_type": "stream",
     "text": [
      "https://www.youtube.com/watch?v=-EXrO6UfP-o\n",
      "sent extraction over\n",
      "Response call\n",
      "Failed to retrieve https://www.newmont.com/about-us/strategy/default.aspx: Status code 403\n"
     ]
    },
    {
     "name": "stderr",
     "output_type": "stream",
     "text": [
      "Your max_length is set to 50, but your input_length is only 3. Since this is a summarization task, where outputs shorter than the input are typically wanted, you might consider decreasing max_length manually, e.g. summarizer('...', max_length=1)\n"
     ]
    },
    {
     "name": "stdout",
     "output_type": "stream",
     "text": [
      "sent extraction over\n",
      "Response call\n",
      "Failed to retrieve https://www.aaii.com/investingideas/article/25544-which-is-a-better-investment-barrick-gold-corp-or-newmont-corporation-stock: Status code 403\n"
     ]
    },
    {
     "name": "stderr",
     "output_type": "stream",
     "text": [
      "Your max_length is set to 50, but your input_length is only 3. Since this is a summarization task, where outputs shorter than the input are typically wanted, you might consider decreasing max_length manually, e.g. summarizer('...', max_length=1)\n"
     ]
    },
    {
     "name": "stdout",
     "output_type": "stream",
     "text": [
      "sent extraction over\n",
      "Response call\n",
      "Failed to retrieve https://www.comparably.com/companies/newmont-mining/competitors: Status code 403\n"
     ]
    },
    {
     "name": "stderr",
     "output_type": "stream",
     "text": [
      "Your max_length is set to 50, but your input_length is only 3. Since this is a summarization task, where outputs shorter than the input are typically wanted, you might consider decreasing max_length manually, e.g. summarizer('...', max_length=1)\n"
     ]
    },
    {
     "name": "stdout",
     "output_type": "stream",
     "text": [
      "sent extraction over\n",
      "Response call\n",
      "Failed to retrieve https://stockinvest.us/stock/NEM: Status code 403\n"
     ]
    },
    {
     "name": "stderr",
     "output_type": "stream",
     "text": [
      "Your max_length is set to 50, but your input_length is only 3. Since this is a summarization task, where outputs shorter than the input are typically wanted, you might consider decreasing max_length manually, e.g. summarizer('...', max_length=1)\n"
     ]
    },
    {
     "name": "stdout",
     "output_type": "stream",
     "text": [
      "sent extraction over\n",
      "Response call\n",
      "Failed to retrieve https://www.tipranks.com/news/company-announcements/bad-news-for-newmont-mining-stock-this-new-risk-has-been-added: Status code 503\n"
     ]
    },
    {
     "name": "stderr",
     "output_type": "stream",
     "text": [
      "Your max_length is set to 50, but your input_length is only 3. Since this is a summarization task, where outputs shorter than the input are typically wanted, you might consider decreasing max_length manually, e.g. summarizer('...', max_length=1)\n"
     ]
    },
    {
     "name": "stdout",
     "output_type": "stream",
     "text": [
      "sent extraction over\n",
      "Response call\n",
      "https://investorplace.com/2011/04/newmont-mining-shares-3-pros-3-cons/\n",
      "sent extraction over\n",
      "Response call\n"
     ]
    },
    {
     "name": "stderr",
     "output_type": "stream",
     "text": [
      "Your max_length is set to 50, but your input_length is only 3. Since this is a summarization task, where outputs shorter than the input are typically wanted, you might consider decreasing max_length manually, e.g. summarizer('...', max_length=1)\n"
     ]
    },
    {
     "name": "stdout",
     "output_type": "stream",
     "text": [
      "https://www.forconstructionpros.com/construction-technology/news/21903824/strategic-alliance-seeks-to-deliver-a-fully-connected-autonomous-netzero-mining-system\n",
      "sent extraction over\n",
      "Done\n",
      "Genworth Financial\n",
      "Calling the search\n",
      "Search complete\n",
      "Response call\n"
     ]
    },
    {
     "name": "stderr",
     "output_type": "stream",
     "text": [
      "Your max_length is set to 50, but your input_length is only 3. Since this is a summarization task, where outputs shorter than the input are typically wanted, you might consider decreasing max_length manually, e.g. summarizer('...', max_length=1)\n"
     ]
    },
    {
     "name": "stdout",
     "output_type": "stream",
     "text": [
      "https://www.cybersecuritydive.com/news/moveit-breaches-pwc-ey-genworth/653821/\n",
      "sent extraction over\n",
      "Response call\n"
     ]
    },
    {
     "name": "stderr",
     "output_type": "stream",
     "text": [
      "Your max_length is set to 50, but your input_length is only 3. Since this is a summarization task, where outputs shorter than the input are typically wanted, you might consider decreasing max_length manually, e.g. summarizer('...', max_length=1)\n"
     ]
    },
    {
     "name": "stdout",
     "output_type": "stream",
     "text": [
      "https://m.economictimes.com/tech/technology/moveit-hack-claims-calpers-and-genworth-as-millions-more-victims-impacted/articleshow/101218729.cms\n",
      "sent extraction over\n",
      "Response call\n",
      "Failed to retrieve https://www.securityweek.com/2-5m-genworth-policyholders-and-769k-retired-california-workers-and-beneficiaries-affected-by-hack/: Status code 403\n",
      "sent extraction over\n",
      "Response call\n"
     ]
    },
    {
     "name": "stderr",
     "output_type": "stream",
     "text": [
      "Your max_length is set to 50, but your input_length is only 3. Since this is a summarization task, where outputs shorter than the input are typically wanted, you might consider decreasing max_length manually, e.g. summarizer('...', max_length=1)\n"
     ]
    },
    {
     "name": "stdout",
     "output_type": "stream",
     "text": [
      "https://www.zdnet.com/article/genworth-financial-xkoto-customer-profile/\n",
      "sent extraction over\n",
      "Response call\n"
     ]
    },
    {
     "name": "stderr",
     "output_type": "stream",
     "text": [
      "Your max_length is set to 50, but your input_length is only 3. Since this is a summarization task, where outputs shorter than the input are typically wanted, you might consider decreasing max_length manually, e.g. summarizer('...', max_length=1)\n"
     ]
    },
    {
     "name": "stdout",
     "output_type": "stream",
     "text": [
      "https://ediscoverytoday.com/2023/07/05/moveit-transfer-zero-day-vulnerability-exposes-4-75-million-records-cybersecurity-trends/\n",
      "sent extraction over\n",
      "Response call\n"
     ]
    },
    {
     "name": "stderr",
     "output_type": "stream",
     "text": [
      "Your max_length is set to 50, but your input_length is only 3. Since this is a summarization task, where outputs shorter than the input are typically wanted, you might consider decreasing max_length manually, e.g. summarizer('...', max_length=1)\n"
     ]
    },
    {
     "name": "stdout",
     "output_type": "stream",
     "text": [
      "https://www.benefitspro.com/2013/03/22/genworth-elects-former-sen-conrad-to-board/\n",
      "sent extraction over\n",
      "Response call\n"
     ]
    },
    {
     "name": "stderr",
     "output_type": "stream",
     "text": [
      "Your max_length is set to 50, but your input_length is only 3. Since this is a summarization task, where outputs shorter than the input are typically wanted, you might consider decreasing max_length manually, e.g. summarizer('...', max_length=1)\n"
     ]
    },
    {
     "name": "stdout",
     "output_type": "stream",
     "text": [
      "https://www.moomoo.com/news/post/19506763/genworth-financial--nyse-gnw--posts-earnings-results\n",
      "sent extraction over\n",
      "Response call\n",
      "Failed to retrieve https://medium.com/@tiffany.ramirez/insurance-tends-to-be-one-of-the-most-challenging-customer-service-industries-ab793d6fc102: Status code 403\n"
     ]
    },
    {
     "name": "stderr",
     "output_type": "stream",
     "text": [
      "Your max_length is set to 50, but your input_length is only 3. Since this is a summarization task, where outputs shorter than the input are typically wanted, you might consider decreasing max_length manually, e.g. summarizer('...', max_length=1)\n"
     ]
    },
    {
     "name": "stdout",
     "output_type": "stream",
     "text": [
      "sent extraction over\n",
      "Done\n",
      "Live Nation Entertainment\n",
      "Calling the search\n",
      "Search complete\n",
      "Response call\n"
     ]
    },
    {
     "name": "stderr",
     "output_type": "stream",
     "text": [
      "Your max_length is set to 50, but your input_length is only 3. Since this is a summarization task, where outputs shorter than the input are typically wanted, you might consider decreasing max_length manually, e.g. summarizer('...', max_length=1)\n"
     ]
    },
    {
     "name": "stdout",
     "output_type": "stream",
     "text": [
      "https://glarity.app/chatai/What-is-Live-Nation-Entertainment--and-what-does-it-do\n",
      "sent extraction over\n",
      "Response call\n"
     ]
    },
    {
     "name": "stderr",
     "output_type": "stream",
     "text": [
      "Your max_length is set to 50, but your input_length is only 3. Since this is a summarization task, where outputs shorter than the input are typically wanted, you might consider decreasing max_length manually, e.g. summarizer('...', max_length=1)\n"
     ]
    },
    {
     "name": "stdout",
     "output_type": "stream",
     "text": [
      "https://bclawreview.bc.edu/articles/3106\n",
      "sent extraction over\n",
      "Response call\n",
      "https://en.wikipedia.org/wiki/Live_Nation_Entertainment\n"
     ]
    },
    {
     "name": "stderr",
     "output_type": "stream",
     "text": [
      "Your max_length is set to 50, but your input_length is only 3. Since this is a summarization task, where outputs shorter than the input are typically wanted, you might consider decreasing max_length manually, e.g. summarizer('...', max_length=1)\n"
     ]
    },
    {
     "name": "stdout",
     "output_type": "stream",
     "text": [
      "sent extraction over\n",
      "Response call\n"
     ]
    },
    {
     "name": "stderr",
     "output_type": "stream",
     "text": [
      "Your max_length is set to 50, but your input_length is only 3. Since this is a summarization task, where outputs shorter than the input are typically wanted, you might consider decreasing max_length manually, e.g. summarizer('...', max_length=1)\n"
     ]
    },
    {
     "name": "stdout",
     "output_type": "stream",
     "text": [
      "https://investors.livenationentertainment.com/corporate-governance/board-of-directors\n",
      "sent extraction over\n",
      "Response call\n"
     ]
    },
    {
     "name": "stderr",
     "output_type": "stream",
     "text": [
      "Your max_length is set to 50, but your input_length is only 3. Since this is a summarization task, where outputs shorter than the input are typically wanted, you might consider decreasing max_length manually, e.g. summarizer('...', max_length=1)\n"
     ]
    },
    {
     "name": "stdout",
     "output_type": "stream",
     "text": [
      "https://investors.livenationentertainment.com/sec-filings/annual-reports/content/0001193125-08-043193/dex211.htm?TB_iframe=true&height=auto&width=auto&preload=false\n",
      "sent extraction over\n",
      "Response call\n"
     ]
    },
    {
     "name": "stderr",
     "output_type": "stream",
     "text": [
      "Your max_length is set to 50, but your input_length is only 3. Since this is a summarization task, where outputs shorter than the input are typically wanted, you might consider decreasing max_length manually, e.g. summarizer('...', max_length=1)\n"
     ]
    },
    {
     "name": "stdout",
     "output_type": "stream",
     "text": [
      "https://glarity.app/chatai/What-is-Live-Nation\n",
      "sent extraction over\n",
      "Response call\n",
      "Request timed out for https://www.nasdaq.com/articles/the-zacks-analyst-blog-highlights-live-nation-entertainment-carrols-restaurant-group-el. Attempting with Selenium.\n",
      "sent extraction over\n",
      "Response call\n",
      "Failed to retrieve https://medium.com/@andreimoore/live-nation-entertainment-f2960d8d065f: Status code 403\n"
     ]
    },
    {
     "name": "stderr",
     "output_type": "stream",
     "text": [
      "Your max_length is set to 50, but your input_length is only 3. Since this is a summarization task, where outputs shorter than the input are typically wanted, you might consider decreasing max_length manually, e.g. summarizer('...', max_length=1)\n"
     ]
    },
    {
     "name": "stdout",
     "output_type": "stream",
     "text": [
      "sent extraction over\n",
      "Done\n",
      "Veritiv\n",
      "Calling the search\n",
      "Search complete\n",
      "Response call\n",
      "https://www.theretirementgroup.com/featured-article/5448097/veritiv-employees-can-chatgpt-help-with-your-budget\n",
      "sent extraction over\n",
      "Response call\n",
      "Request timed out for https://www.nasdaq.com/articles/veritiv-vrtv-q1-earnings-beat-estimates-revenues-dip-y-y. Attempting with Selenium.\n",
      "sent extraction over\n",
      "Response call\n",
      "https://www.linkedin.com/posts/scott-mars-a06783_retails-chatbots-are-evolving-and-bringing-activity-7032108893178654721-A_xF\n",
      "sent extraction over\n",
      "Response call\n"
     ]
    },
    {
     "name": "stderr",
     "output_type": "stream",
     "text": [
      "Your max_length is set to 50, but your input_length is only 3. Since this is a summarization task, where outputs shorter than the input are typically wanted, you might consider decreasing max_length manually, e.g. summarizer('...', max_length=1)\n"
     ]
    },
    {
     "name": "stdout",
     "output_type": "stream",
     "text": [
      "https://www.theglobeandmail.com/investing/markets/stocks/VRTV/pressreleases/2795383/\n",
      "sent extraction over\n",
      "Response call\n"
     ]
    },
    {
     "name": "stderr",
     "output_type": "stream",
     "text": [
      "Your max_length is set to 50, but your input_length is only 3. Since this is a summarization task, where outputs shorter than the input are typically wanted, you might consider decreasing max_length manually, e.g. summarizer('...', max_length=1)\n"
     ]
    },
    {
     "name": "stdout",
     "output_type": "stream",
     "text": [
      "https://fortune.com/videos/watch/how-veritiv-made-it-on-the-fortune-500/b4a4a3b2-3d7d-46a6-a190-8da6c8e5d07a\n",
      "sent extraction over\n",
      "Response call\n",
      "Failed to retrieve https://www.tipranks.com/stocks/vrtv: Status code 503\n"
     ]
    },
    {
     "name": "stderr",
     "output_type": "stream",
     "text": [
      "Your max_length is set to 50, but your input_length is only 3. Since this is a summarization task, where outputs shorter than the input are typically wanted, you might consider decreasing max_length manually, e.g. summarizer('...', max_length=1)\n"
     ]
    },
    {
     "name": "stdout",
     "output_type": "stream",
     "text": [
      "sent extraction over\n",
      "Response call\n"
     ]
    },
    {
     "name": "stderr",
     "output_type": "stream",
     "text": [
      "Your max_length is set to 50, but your input_length is only 3. Since this is a summarization task, where outputs shorter than the input are typically wanted, you might consider decreasing max_length manually, e.g. summarizer('...', max_length=1)\n"
     ]
    },
    {
     "name": "stdout",
     "output_type": "stream",
     "text": [
      "https://www.linkedin.com/posts/christina-nawrocki-12a77546_and-im-proud-to-be-an-american-where-at-activity-6937030714269843456-oMUc?trk=public_profile_like_view\n",
      "sent extraction over\n",
      "Response call\n",
      "https://inside-packaging.nridigital.com/inside_packaging_may23/latest_news_cloud_in_packaging\n",
      "sent extraction over\n",
      "Done\n",
      "News Corp.\n",
      "Calling the search\n",
      "Search complete\n",
      "Response call\n",
      "https://www.crikey.com.au/2023/08/09/news-corp-ai-articles-journalism/\n",
      "sent extraction over\n",
      "Response call\n",
      "https://www.afr.com/companies/media-and-marketing/news-corp-encourages-staff-to-try-chatgpt-forms-ai-taskforce-20230307-p5cq5e\n",
      "sent extraction over\n",
      "Response call\n",
      "https://www.theguardian.com/media/2024/feb/08/news-corp-in-advanced-negotiations-with-ai-companies-over-access-to-content-ceo-says\n",
      "sent extraction over\n",
      "Response call\n",
      "https://theshovel.com.au/2023/08/01/news-corp-is-using-ai-to-write-articles-chatgpt-prompts/\n",
      "sent extraction over\n",
      "Response call\n"
     ]
    },
    {
     "name": "stderr",
     "output_type": "stream",
     "text": [
      "Your max_length is set to 50, but your input_length is only 3. Since this is a summarization task, where outputs shorter than the input are typically wanted, you might consider decreasing max_length manually, e.g. summarizer('...', max_length=1)\n"
     ]
    },
    {
     "name": "stdout",
     "output_type": "stream",
     "text": [
      "https://www.reddit.com/r/CryptoCurrency/comments/12abfxk/chatgpt_and_ai_must_pay_for_the_news_it_consumes/\n",
      "sent extraction over\n",
      "Response call\n",
      "https://www.hcamag.com/au/specialisation/hr-technology/news-corp-encourages-australian-staff-to-use-chatgpt/438858\n",
      "sent extraction over\n",
      "Response call\n",
      "Failed to retrieve https://www.reuters.com/business/media-telecom/news-corp-negotiations-with-ai-companies-over-content-usage-ceo-2023-09-07/: Status code 401\n",
      "sent extraction over\n",
      "Response call\n",
      "Failed to retrieve https://cointelegraph.com/news/chatgpt-and-ai-must-pay-for-the-news-it-consumes-news-corp-australia-ceo: Status code 403\n",
      "sent extraction over\n",
      "Done\n",
      "Crown Holdings\n",
      "Calling the search\n",
      "Search complete\n",
      "Response call\n",
      "Request timed out for https://www.nasdaq.com/articles/crown-holdings-cck-misses-q4-earnings-and-revenue-estimates. Attempting with Selenium.\n",
      "sent extraction over\n",
      "Response call\n",
      "Request timed out for https://www.nasdaq.com/articles/crown-holdings-cck-q3-earnings-and-revenues-lag-estimates. Attempting with Selenium.\n",
      "sent extraction over\n",
      "Response call\n",
      "https://www.marketbeat.com/instant-alerts/nyse-cck-sec-filing-2024-03-03/\n",
      "sent extraction over\n",
      "Response call\n",
      "https://sg.linkedin.com/posts/madison-reidy-0b962b120_markets-with-madison-chatgpt-coming-for-activity-7045846486122692608-uaOV\n",
      "sent extraction over\n",
      "Response call\n",
      "Failed to retrieve https://www.tipranks.com/stocks/cck/forecast: Status code 503\n"
     ]
    },
    {
     "name": "stderr",
     "output_type": "stream",
     "text": [
      "Your max_length is set to 50, but your input_length is only 3. Since this is a summarization task, where outputs shorter than the input are typically wanted, you might consider decreasing max_length manually, e.g. summarizer('...', max_length=1)\n"
     ]
    },
    {
     "name": "stdout",
     "output_type": "stream",
     "text": [
      "sent extraction over\n",
      "Response call\n",
      "https://www.marketbeat.com/instant-alerts/nyse-cck-sec-filing-2024-03-06/\n",
      "sent extraction over\n",
      "Response call\n",
      "Failed to retrieve https://www.tipranks.com/stocks/cck: Status code 503\n"
     ]
    },
    {
     "name": "stderr",
     "output_type": "stream",
     "text": [
      "Your max_length is set to 50, but your input_length is only 3. Since this is a summarization task, where outputs shorter than the input are typically wanted, you might consider decreasing max_length manually, e.g. summarizer('...', max_length=1)\n"
     ]
    },
    {
     "name": "stdout",
     "output_type": "stream",
     "text": [
      "sent extraction over\n",
      "Response call\n"
     ]
    },
    {
     "name": "stderr",
     "output_type": "stream",
     "text": [
      "Your max_length is set to 50, but your input_length is only 3. Since this is a summarization task, where outputs shorter than the input are typically wanted, you might consider decreasing max_length manually, e.g. summarizer('...', max_length=1)\n"
     ]
    },
    {
     "name": "stdout",
     "output_type": "stream",
     "text": [
      "https://www.doclrogers.com/blog/2023-01-29-AI-Profoundly-Material-Technology-Extraction-Data-Labor-Natural-Resources.html\n",
      "sent extraction over\n",
      "Done\n",
      "Global Partners\n",
      "Calling the search\n",
      "Search complete\n",
      "Response call\n",
      "https://www.linkedin.com/pulse/5-ways-your-business-can-benefit-from-chatgpt-gus-global-partners\n",
      "sent extraction over\n",
      "Response call\n",
      "https://www.theretirementgroup.com/featured-article/5448097/global-partners-employees-can-chatgpt-help-with-your-budget\n",
      "sent extraction over\n",
      "Response call\n",
      "https://techdigest.ng/openai-invites-global-partners/\n",
      "sent extraction over\n",
      "Response call\n",
      "https://www.linkedin.com/posts/ascent-global-partners_chatgpt-tech-to-be-adopted-by-japan-government-activity-7094150231788814336-0DG8?trk=public_profile_like_view\n",
      "sent extraction over\n",
      "Response call\n",
      "Request timed out for https://www.nasdaq.com/articles/fast-paced-momentum-stock-global-partners-lp-glp-is-still-trading-at-a-bargain-0. Attempting with Selenium.\n",
      "sent extraction over\n",
      "Response call\n"
     ]
    },
    {
     "name": "stderr",
     "output_type": "stream",
     "text": [
      "Your max_length is set to 50, but your input_length is only 3. Since this is a summarization task, where outputs shorter than the input are typically wanted, you might consider decreasing max_length manually, e.g. summarizer('...', max_length=1)\n"
     ]
    },
    {
     "name": "stdout",
     "output_type": "stream",
     "text": [
      "https://www.67bricks.com/track-record-global-partners-with-67-bricks-to-bring-enhanced-solutions-for-their-users/\n",
      "sent extraction over\n",
      "Response call\n",
      "https://gocrossbridge.com/about/\n",
      "sent extraction over\n",
      "Response call\n",
      "Failed to retrieve https://medium.com/quadrantprotocol/global-partners-announced-913ade9ff3d6: Status code 403\n"
     ]
    },
    {
     "name": "stderr",
     "output_type": "stream",
     "text": [
      "Your max_length is set to 50, but your input_length is only 3. Since this is a summarization task, where outputs shorter than the input are typically wanted, you might consider decreasing max_length manually, e.g. summarizer('...', max_length=1)\n"
     ]
    },
    {
     "name": "stdout",
     "output_type": "stream",
     "text": [
      "sent extraction over\n",
      "Done\n",
      "PVH\n",
      "Calling the search\n",
      "Search complete\n",
      "Response call\n",
      "https://www.theretirementgroup.com/featured-article/5448097/pvh-employees-can-chatgpt-help-with-your-budget\n",
      "sent extraction over\n",
      "Response call\n",
      "Request timed out for https://www.nasdaq.com/articles/will-pvh-pvh-beat-estimates-again-in-its-next-earnings-report-0. Attempting with Selenium.\n",
      "sent extraction over\n",
      "Response call\n"
     ]
    },
    {
     "name": "stderr",
     "output_type": "stream",
     "text": [
      "Your max_length is set to 50, but your input_length is only 3. Since this is a summarization task, where outputs shorter than the input are typically wanted, you might consider decreasing max_length manually, e.g. summarizer('...', max_length=1)\n"
     ]
    },
    {
     "name": "stdout",
     "output_type": "stream",
     "text": [
      "https://m.facebook.com/indiaretailing/posts/1872009569601340/\n",
      "sent extraction over\n",
      "Response call\n",
      "Request timed out for https://www.nasdaq.com/articles/why-fast-paced-mover-pvh-pvh-is-a-great-choice-for-value-investors-0. Attempting with Selenium.\n",
      "sent extraction over\n",
      "Response call\n",
      "https://www.linkedin.com/posts/m-science-llc_edtech-chatgpt-ai-activity-7089250346690101248-gKoX\n",
      "sent extraction over\n",
      "Response call\n"
     ]
    },
    {
     "name": "stderr",
     "output_type": "stream",
     "text": [
      "Your max_length is set to 50, but your input_length is only 3. Since this is a summarization task, where outputs shorter than the input are typically wanted, you might consider decreasing max_length manually, e.g. summarizer('...', max_length=1)\n"
     ]
    },
    {
     "name": "stdout",
     "output_type": "stream",
     "text": [
      "https://www.pymnts.com/news/retail/2021/pvh-corp-raises-full-year-outlook-after-q2-results/\n",
      "sent extraction over\n",
      "Response call\n",
      "https://sg.news.yahoo.com/tiktokers-turn-chatgpt-colour-analysis-162810021.html\n",
      "sent extraction over\n",
      "Response call\n",
      "https://markets.businessinsider.com/news/stocks/pvh-corp-ralph-lauren-get-upgrades-from-goldman-sachs-here-s-why-the-retailers-trading-at-52-week-highs-get-love-into-2024-1032898755\n",
      "sent extraction over\n",
      "Done\n",
      "Level 3 Communications\n",
      "Calling the search\n",
      "Search complete\n",
      "Response call\n"
     ]
    },
    {
     "name": "stderr",
     "output_type": "stream",
     "text": [
      "Your max_length is set to 50, but your input_length is only 3. Since this is a summarization task, where outputs shorter than the input are typically wanted, you might consider decreasing max_length manually, e.g. summarizer('...', max_length=1)\n"
     ]
    },
    {
     "name": "stdout",
     "output_type": "stream",
     "text": [
      "https://www.denverpost.com/2016/02/04/level-3-communications-profit-revenue-rise/\n",
      "sent extraction over\n",
      "Response call\n",
      "https://en.wikipedia.org/wiki/Level_3_Communications\n"
     ]
    },
    {
     "name": "stderr",
     "output_type": "stream",
     "text": [
      "Your max_length is set to 50, but your input_length is only 3. Since this is a summarization task, where outputs shorter than the input are typically wanted, you might consider decreasing max_length manually, e.g. summarizer('...', max_length=1)\n"
     ]
    },
    {
     "name": "stdout",
     "output_type": "stream",
     "text": [
      "sent extraction over\n",
      "Response call\n",
      "Failed to retrieve https://connecthere.com/t1-service-providers/level-3/: Status code 406\n"
     ]
    },
    {
     "name": "stderr",
     "output_type": "stream",
     "text": [
      "Your max_length is set to 50, but your input_length is only 3. Since this is a summarization task, where outputs shorter than the input are typically wanted, you might consider decreasing max_length manually, e.g. summarizer('...', max_length=1)\n"
     ]
    },
    {
     "name": "stdout",
     "output_type": "stream",
     "text": [
      "sent extraction over\n",
      "Response call\n"
     ]
    },
    {
     "name": "stderr",
     "output_type": "stream",
     "text": [
      "Your max_length is set to 50, but your input_length is only 3. Since this is a summarization task, where outputs shorter than the input are typically wanted, you might consider decreasing max_length manually, e.g. summarizer('...', max_length=1)\n"
     ]
    },
    {
     "name": "stdout",
     "output_type": "stream",
     "text": [
      "https://rocketreach.co/level-3-communications-profile_b5c61f8bf42e0c48\n",
      "sent extraction over\n",
      "Response call\n"
     ]
    },
    {
     "name": "stderr",
     "output_type": "stream",
     "text": [
      "Your max_length is set to 50, but your input_length is only 3. Since this is a summarization task, where outputs shorter than the input are typically wanted, you might consider decreasing max_length manually, e.g. summarizer('...', max_length=1)\n"
     ]
    },
    {
     "name": "stdout",
     "output_type": "stream",
     "text": [
      "https://en.wikipedia.org/wiki/Telcove\n",
      "sent extraction over\n",
      "Response call\n"
     ]
    },
    {
     "name": "stderr",
     "output_type": "stream",
     "text": [
      "Your max_length is set to 50, but your input_length is only 3. Since this is a summarization task, where outputs shorter than the input are typically wanted, you might consider decreasing max_length manually, e.g. summarizer('...', max_length=1)\n"
     ]
    },
    {
     "name": "stdout",
     "output_type": "stream",
     "text": [
      "https://www.computerworld.com/article/2555059/level-3-to-acquire-telcove-for--1-2b.html\n",
      "sent extraction over\n",
      "Response call\n"
     ]
    },
    {
     "name": "stderr",
     "output_type": "stream",
     "text": [
      "Your max_length is set to 50, but your input_length is only 3. Since this is a summarization task, where outputs shorter than the input are typically wanted, you might consider decreasing max_length manually, e.g. summarizer('...', max_length=1)\n"
     ]
    },
    {
     "name": "stdout",
     "output_type": "stream",
     "text": [
      "https://www.denverpost.com/2010/11/30/level-3-called-non-neutral/\n",
      "sent extraction over\n",
      "Response call\n"
     ]
    },
    {
     "name": "stderr",
     "output_type": "stream",
     "text": [
      "Your max_length is set to 50, but your input_length is only 3. Since this is a summarization task, where outputs shorter than the input are typically wanted, you might consider decreasing max_length manually, e.g. summarizer('...', max_length=1)\n"
     ]
    },
    {
     "name": "stdout",
     "output_type": "stream",
     "text": [
      "https://www.zdnet.com/home-and-office/networking/level-3-accuses-major-isps-of-forcing-internet-traffic-into-the-slow-lane/\n",
      "sent extraction over\n",
      "Done\n",
      "Navistar International\n",
      "Calling the search\n",
      "Search complete\n",
      "Response call\n",
      "Failed to retrieve https://www.reuters.com/business/sustainable-business/navistar-collaborate-with-gm-others-hydrogen-fuel-cell-commercial-trucks-2021-01-27/: Status code 401\n"
     ]
    },
    {
     "name": "stderr",
     "output_type": "stream",
     "text": [
      "Your max_length is set to 50, but your input_length is only 3. Since this is a summarization task, where outputs shorter than the input are typically wanted, you might consider decreasing max_length manually, e.g. summarizer('...', max_length=1)\n"
     ]
    },
    {
     "name": "stdout",
     "output_type": "stream",
     "text": [
      "sent extraction over\n",
      "Response call\n",
      "Failed to retrieve https://stnonline.com/industry-releases/ic-bus-reinforces-commitment-to-safety-technology-and-electrification-through-flagship-ce-series/: Status code 403\n",
      "sent extraction over\n",
      "Response call\n"
     ]
    },
    {
     "name": "stderr",
     "output_type": "stream",
     "text": [
      "Your max_length is set to 50, but your input_length is only 3. Since this is a summarization task, where outputs shorter than the input are typically wanted, you might consider decreasing max_length manually, e.g. summarizer('...', max_length=1)\n"
     ]
    },
    {
     "name": "stdout",
     "output_type": "stream",
     "text": [
      "https://techcrunch.com/2020/07/15/navistar-teams-up-with-tusimple-to-produce-self-driving-trucks-by-2024/\n",
      "sent extraction over\n",
      "Response call\n"
     ]
    },
    {
     "name": "stderr",
     "output_type": "stream",
     "text": [
      "Your max_length is set to 50, but your input_length is only 3. Since this is a summarization task, where outputs shorter than the input are typically wanted, you might consider decreasing max_length manually, e.g. summarizer('...', max_length=1)\n"
     ]
    },
    {
     "name": "stdout",
     "output_type": "stream",
     "text": [
      "https://im-mining.com/2019/10/29/navistar-offer-scania-mining-solutions-incluing-xt-truck-canada/\n",
      "sent extraction over\n",
      "Response call\n",
      "Failed to retrieve https://stnonline.com/industry-releases/navistar-unveils-uptime-centric-vision-for-growing-renewed-r-reman-brand-expands-fleetrite-r-private-label-parts-brand/: Status code 403\n",
      "sent extraction over\n",
      "Response call\n"
     ]
    },
    {
     "name": "stderr",
     "output_type": "stream",
     "text": [
      "Your max_length is set to 50, but your input_length is only 3. Since this is a summarization task, where outputs shorter than the input are typically wanted, you might consider decreasing max_length manually, e.g. summarizer('...', max_length=1)\n"
     ]
    },
    {
     "name": "stdout",
     "output_type": "stream",
     "text": [
      "https://www.forconstructionpros.com/business/article/22885765/powering-americas-commercial-transportation-pact-coalition-is-initiated-to-advance-zeroemission-vehicle-infrastructure-deployment\n",
      "sent extraction over\n",
      "Response call\n",
      "Failed to retrieve https://medium.com/embark-trucks/embark-uses-nvidia-drive-to-power-its-embark-universal-interface-for-the-autonomous-trucking-72bf9d217c5e: Status code 403\n"
     ]
    },
    {
     "name": "stderr",
     "output_type": "stream",
     "text": [
      "Your max_length is set to 50, but your input_length is only 3. Since this is a summarization task, where outputs shorter than the input are typically wanted, you might consider decreasing max_length manually, e.g. summarizer('...', max_length=1)\n"
     ]
    },
    {
     "name": "stdout",
     "output_type": "stream",
     "text": [
      "sent extraction over\n",
      "Response call\n",
      "https://www.fleetequipmentmag.com/talking-artificial-intelligence-truck-data/\n",
      "sent extraction over\n",
      "Done\n",
      "Univar\n",
      "Calling the search\n",
      "Search complete\n",
      "Response call\n",
      "Request timed out for https://www.nasdaq.com/articles/univar-unvr-boosts-food-ingredients-portfolio-with-cfs-deal. Attempting with Selenium.\n",
      "sent extraction over\n",
      "Response call\n"
     ]
    },
    {
     "name": "stderr",
     "output_type": "stream",
     "text": [
      "Your max_length is set to 50, but your input_length is only 3. Since this is a summarization task, where outputs shorter than the input are typically wanted, you might consider decreasing max_length manually, e.g. summarizer('...', max_length=1)\n"
     ]
    },
    {
     "name": "stdout",
     "output_type": "stream",
     "text": [
      "https://www.linkedin.com/posts/univarsolutions_destinationinnovation-formulations-ai-activity-7078024035715989504-yqmI?trk=public_profile_like_view\n",
      "sent extraction over\n",
      "Response call\n",
      "Request timed out for https://www.nasdaq.com/articles/univar-solutions-unvr-broadens-food-ingredients-portfolio. Attempting with Selenium.\n",
      "sent extraction over\n",
      "Response call\n",
      "https://www.icis.com/explore/resources/news/2023/06/26/10899523/insight-ai-helps-chemicals-measure-and-predict-demand-patterns/\n",
      "sent extraction over\n",
      "Response call\n",
      "Failed to retrieve https://www.digitalcommerce360.com/2022/06/07/univar-solutions-goes-more-digital-to-please-customers/: Status code 403\n"
     ]
    },
    {
     "name": "stderr",
     "output_type": "stream",
     "text": [
      "Your max_length is set to 50, but your input_length is only 3. Since this is a summarization task, where outputs shorter than the input are typically wanted, you might consider decreasing max_length manually, e.g. summarizer('...', max_length=1)\n"
     ]
    },
    {
     "name": "stdout",
     "output_type": "stream",
     "text": [
      "sent extraction over\n",
      "Response call\n"
     ]
    },
    {
     "name": "stderr",
     "output_type": "stream",
     "text": [
      "Your max_length is set to 50, but your input_length is only 3. Since this is a summarization task, where outputs shorter than the input are typically wanted, you might consider decreasing max_length manually, e.g. summarizer('...', max_length=1)\n"
     ]
    },
    {
     "name": "stdout",
     "output_type": "stream",
     "text": [
      "https://www.youtube.com/watch?v=A2C-txauwuk\n",
      "sent extraction over\n",
      "Response call\n",
      "Failed to retrieve https://www.digitalcommerce360.com/2022/05/20/speaker-spotlight-steve-martinez-of-univar-solutions-on-complex-products-ecommerce-strategy/: Status code 403\n"
     ]
    },
    {
     "name": "stderr",
     "output_type": "stream",
     "text": [
      "Your max_length is set to 50, but your input_length is only 3. Since this is a summarization task, where outputs shorter than the input are typically wanted, you might consider decreasing max_length manually, e.g. summarizer('...', max_length=1)\n"
     ]
    },
    {
     "name": "stdout",
     "output_type": "stream",
     "text": [
      "sent extraction over\n",
      "Response call\n"
     ]
    },
    {
     "name": "stderr",
     "output_type": "stream",
     "text": [
      "Your max_length is set to 50, but your input_length is only 3. Since this is a summarization task, where outputs shorter than the input are typically wanted, you might consider decreasing max_length manually, e.g. summarizer('...', max_length=1)\n"
     ]
    },
    {
     "name": "stdout",
     "output_type": "stream",
     "text": [
      "https://www.linkedin.com/posts/wendysong_check-out-the-latest-episode-of-the-chemical-activity-6980871281336336384-UNBc\n",
      "sent extraction over\n",
      "Done\n",
      "Campbell Soup\n",
      "Calling the search\n",
      "Search complete\n",
      "Response call\n",
      "https://www.theretirementgroup.com/featured-article/5448097/campbell-soup-employees-can-chatgpt-help-with-your-budget\n",
      "sent extraction over\n",
      "Response call\n"
     ]
    },
    {
     "name": "stderr",
     "output_type": "stream",
     "text": [
      "Your max_length is set to 50, but your input_length is only 3. Since this is a summarization task, where outputs shorter than the input are typically wanted, you might consider decreasing max_length manually, e.g. summarizer('...', max_length=1)\n"
     ]
    },
    {
     "name": "stdout",
     "output_type": "stream",
     "text": [
      "https://www.linkedin.com/pulse/how-campbell-soup-uses-ai-target-customers-offer-denys-holovatyi\n",
      "sent extraction over\n",
      "Response call\n"
     ]
    },
    {
     "name": "stderr",
     "output_type": "stream",
     "text": [
      "Your max_length is set to 50, but your input_length is only 3. Since this is a summarization task, where outputs shorter than the input are typically wanted, you might consider decreasing max_length manually, e.g. summarizer('...', max_length=1)\n"
     ]
    },
    {
     "name": "stdout",
     "output_type": "stream",
     "text": [
      "https://www.cybersecuritydive.com/news/campbell-soup-cyberattack-limited-impact/694758/\n",
      "sent extraction over\n",
      "Response call\n",
      "Failed to retrieve https://www.barrons.com/articles/ai-stocks-campbells-soup-cc8058dd: Status code 403\n"
     ]
    },
    {
     "name": "stderr",
     "output_type": "stream",
     "text": [
      "Your max_length is set to 50, but your input_length is only 3. Since this is a summarization task, where outputs shorter than the input are typically wanted, you might consider decreasing max_length manually, e.g. summarizer('...', max_length=1)\n"
     ]
    },
    {
     "name": "stdout",
     "output_type": "stream",
     "text": [
      "sent extraction over\n",
      "Response call\n",
      "Request timed out for https://www.nasdaq.com/articles/campbell-soup-cpb-shows-strategic-resilience-amid-challenges. Attempting with Selenium.\n",
      "sent extraction over\n",
      "Response call\n",
      "https://nealwoodson.net/2023/03/14/how-about-less-gpt-and-more-tlc/comment-page-1/\n",
      "sent extraction over\n",
      "Response call\n"
     ]
    },
    {
     "name": "stderr",
     "output_type": "stream",
     "text": [
      "Your max_length is set to 50, but your input_length is only 3. Since this is a summarization task, where outputs shorter than the input are typically wanted, you might consider decreasing max_length manually, e.g. summarizer('...', max_length=1)\n"
     ]
    },
    {
     "name": "stdout",
     "output_type": "stream",
     "text": [
      "https://www.chartr.co/stories/2022-12-09-2-campbell-soup-hasnt-grown-much-in-30-years\n",
      "sent extraction over\n",
      "Response call\n",
      "Failed to retrieve https://medium.com/swlh/soups-down-how-tired-brands-can-refresh-through-story-2c1e9bbdf790: Status code 403\n"
     ]
    },
    {
     "name": "stderr",
     "output_type": "stream",
     "text": [
      "Your max_length is set to 50, but your input_length is only 3. Since this is a summarization task, where outputs shorter than the input are typically wanted, you might consider decreasing max_length manually, e.g. summarizer('...', max_length=1)\n"
     ]
    },
    {
     "name": "stdout",
     "output_type": "stream",
     "text": [
      "sent extraction over\n",
      "Done\n",
      "Dick’s Sporting Goods\n",
      "Calling the search\n",
      "Search complete\n",
      "Response call\n",
      "https://www.theretirementgroup.com/featured-article/5448097/dicks-sporting-goods-employees-can-chatgpt-help-with-your-budget\n",
      "sent extraction over\n",
      "Response call\n"
     ]
    },
    {
     "name": "stderr",
     "output_type": "stream",
     "text": [
      "Your max_length is set to 50, but your input_length is only 3. Since this is a summarization task, where outputs shorter than the input are typically wanted, you might consider decreasing max_length manually, e.g. summarizer('...', max_length=1)\n"
     ]
    },
    {
     "name": "stdout",
     "output_type": "stream",
     "text": [
      "https://www.brandcredential.com/post/uncovering-dick-s-sporting-goods-winning-marketing-strategy\n",
      "sent extraction over\n",
      "Response call\n",
      "Request timed out for https://www.nasdaq.com/articles/dicks-sporting-dks-up-on-business-strength-risks-persist. Attempting with Selenium.\n",
      "sent extraction over\n",
      "Response call\n"
     ]
    },
    {
     "name": "stderr",
     "output_type": "stream",
     "text": [
      "Your max_length is set to 50, but your input_length is only 44. Since this is a summarization task, where outputs shorter than the input are typically wanted, you might consider decreasing max_length manually, e.g. summarizer('...', max_length=22)\n"
     ]
    },
    {
     "name": "stdout",
     "output_type": "stream",
     "text": [
      "https://alankent.me/2023/02/07/what-does-ai-chat-hold-in-store-for-ecommerce/\n",
      "sent extraction over\n",
      "Response call\n",
      "https://www.linkedin.com/posts/b2brain_dicks-sporting-goods-insights-for-sales-activity-7056907258558910464-OtlH\n",
      "sent extraction over\n",
      "Response call\n",
      "Failed to retrieve https://geniuslink.com/blog/dicks-sports-affiliate-program/: Status code 403\n"
     ]
    },
    {
     "name": "stderr",
     "output_type": "stream",
     "text": [
      "Your max_length is set to 50, but your input_length is only 3. Since this is a summarization task, where outputs shorter than the input are typically wanted, you might consider decreasing max_length manually, e.g. summarizer('...', max_length=1)\n"
     ]
    },
    {
     "name": "stdout",
     "output_type": "stream",
     "text": [
      "sent extraction over\n",
      "Response call\n"
     ]
    },
    {
     "name": "stderr",
     "output_type": "stream",
     "text": [
      "Your max_length is set to 50, but your input_length is only 3. Since this is a summarization task, where outputs shorter than the input are typically wanted, you might consider decreasing max_length manually, e.g. summarizer('...', max_length=1)\n"
     ]
    },
    {
     "name": "stdout",
     "output_type": "stream",
     "text": [
      "https://glarity.app/chatai/What-are-some-key-insights-about-Dick-s-Sporting-Goods-based-on-information-from-the-Los-Angeles-Times\n",
      "sent extraction over\n",
      "Response call\n"
     ]
    },
    {
     "name": "stderr",
     "output_type": "stream",
     "text": [
      "Your max_length is set to 50, but your input_length is only 3. Since this is a summarization task, where outputs shorter than the input are typically wanted, you might consider decreasing max_length manually, e.g. summarizer('...', max_length=1)\n"
     ]
    },
    {
     "name": "stdout",
     "output_type": "stream",
     "text": [
      "https://www.ciodive.com/news/how-dicks-sporting-goods-cto-is-revamping-athletic-e-commerce/551809/\n",
      "sent extraction over\n",
      "Done\n",
      "Weyerhaeuser\n",
      "Calling the search\n",
      "Search complete\n",
      "Response call\n"
     ]
    },
    {
     "name": "stderr",
     "output_type": "stream",
     "text": [
      "Your max_length is set to 50, but your input_length is only 3. Since this is a summarization task, where outputs shorter than the input are typically wanted, you might consider decreasing max_length manually, e.g. summarizer('...', max_length=1)\n"
     ]
    },
    {
     "name": "stdout",
     "output_type": "stream",
     "text": [
      "https://altindex.com/ticker/wy/ai-stock-analysis\n",
      "sent extraction over\n",
      "Response call\n"
     ]
    },
    {
     "name": "stderr",
     "output_type": "stream",
     "text": [
      "Your max_length is set to 50, but your input_length is only 3. Since this is a summarization task, where outputs shorter than the input are typically wanted, you might consider decreasing max_length manually, e.g. summarizer('...', max_length=1)\n"
     ]
    },
    {
     "name": "stdout",
     "output_type": "stream",
     "text": [
      "https://www.linkedin.com/posts/people-tech-group-inc_washington-peopletechgroup-weyerhaeuser-activity-7069297492135186432-SFLX\n",
      "sent extraction over\n",
      "Response call\n",
      "Request timed out for https://www.nasdaq.com/articles/weyerhaeuser-wy-partners-with-ascc-aias-be-pro-be-proud. Attempting with Selenium.\n",
      "sent extraction over\n",
      "Response call\n",
      "Failed to retrieve https://medium.com/green-river-web-mobile-developers/joseph-igama-talks-life-as-an-it-intern-at-weyerhaeuser-3d21dc7d3400: Status code 403\n"
     ]
    },
    {
     "name": "stderr",
     "output_type": "stream",
     "text": [
      "Your max_length is set to 50, but your input_length is only 3. Since this is a summarization task, where outputs shorter than the input are typically wanted, you might consider decreasing max_length manually, e.g. summarizer('...', max_length=1)\n"
     ]
    },
    {
     "name": "stdout",
     "output_type": "stream",
     "text": [
      "sent extraction over\n",
      "Response call\n",
      "https://www.linkedin.com/pulse/ai-machine-learning-disrupts-supply-chains-kelroy-james-\n",
      "sent extraction over\n",
      "Response call\n",
      "Request timed out for https://www.nasdaq.com/articles/factors-setting-the-tone-for-weyerhaeusers-wy-q2-earnings. Attempting with Selenium.\n",
      "sent extraction over\n",
      "Response call\n"
     ]
    },
    {
     "name": "stderr",
     "output_type": "stream",
     "text": [
      "Your max_length is set to 50, but your input_length is only 3. Since this is a summarization task, where outputs shorter than the input are typically wanted, you might consider decreasing max_length manually, e.g. summarizer('...', max_length=1)\n"
     ]
    },
    {
     "name": "stdout",
     "output_type": "stream",
     "text": [
      "https://www.oreilly.com/library/view/business-graphics/9781592533206/chapter-72.html\n",
      "sent extraction over\n",
      "Response call\n",
      "Failed to retrieve https://finance.yahoo.com/news/weyerhaeuser-co-senior-vice-president-161142380.html: Status code 404\n"
     ]
    },
    {
     "name": "stderr",
     "output_type": "stream",
     "text": [
      "Your max_length is set to 50, but your input_length is only 3. Since this is a summarization task, where outputs shorter than the input are typically wanted, you might consider decreasing max_length manually, e.g. summarizer('...', max_length=1)\n"
     ]
    },
    {
     "name": "stdout",
     "output_type": "stream",
     "text": [
      "sent extraction over\n",
      "Done\n",
      "Mutual of Omaha Insurance\n",
      "Calling the search\n",
      "Search complete\n",
      "Response call\n"
     ]
    },
    {
     "name": "stderr",
     "output_type": "stream",
     "text": [
      "Your max_length is set to 50, but your input_length is only 3. Since this is a summarization task, where outputs shorter than the input are typically wanted, you might consider decreasing max_length manually, e.g. summarizer('...', max_length=1)\n"
     ]
    },
    {
     "name": "stdout",
     "output_type": "stream",
     "text": [
      "https://www.law.com/insurance-coverage-law-center/2019/12/03/mutual-of-omaha-offering-private-plan-product-for-massachusetts-paid-family-and-medical-leave/\n",
      "sent extraction over\n",
      "Response call\n"
     ]
    },
    {
     "name": "stderr",
     "output_type": "stream",
     "text": [
      "Your max_length is set to 50, but your input_length is only 3. Since this is a summarization task, where outputs shorter than the input are typically wanted, you might consider decreasing max_length manually, e.g. summarizer('...', max_length=1)\n"
     ]
    },
    {
     "name": "stdout",
     "output_type": "stream",
     "text": [
      "https://www.law.com/2019/01/14/insurer-settles-with-massachusetts-attorney-general-over-allegations-it-denied-policies-to-consumers-using-hiv-prevention-medication-423-503/\n",
      "sent extraction over\n",
      "Response call\n",
      "https://www.linkedin.com/posts/markamontgomery_jpmorgan-is-developing-a-chatgpt-like-ai-activity-7067836255966822403-OI7G\n",
      "sent extraction over\n",
      "Response call\n",
      "https://om.linkedin.com/posts/eduardo-c%C3%A9sar-garrido-merch%C3%A1n-390691166_jpmorgan-is-developing-a-chatgpt-like-ai-activity-7067749562735636480-d66K\n",
      "sent extraction over\n",
      "Response call\n"
     ]
    },
    {
     "name": "stderr",
     "output_type": "stream",
     "text": [
      "Your max_length is set to 50, but your input_length is only 3. Since this is a summarization task, where outputs shorter than the input are typically wanted, you might consider decreasing max_length manually, e.g. summarizer('...', max_length=1)\n"
     ]
    },
    {
     "name": "stdout",
     "output_type": "stream",
     "text": [
      "https://www.facebook.com/tjhuddlestonmutualofomaha/\n",
      "sent extraction over\n",
      "Response call\n"
     ]
    },
    {
     "name": "stderr",
     "output_type": "stream",
     "text": [
      "Your max_length is set to 50, but your input_length is only 3. Since this is a summarization task, where outputs shorter than the input are typically wanted, you might consider decreasing max_length manually, e.g. summarizer('...', max_length=1)\n"
     ]
    },
    {
     "name": "stdout",
     "output_type": "stream",
     "text": [
      "https://www.computerworld.com/article/2579792/suchindran-s--chatterjee.html\n",
      "sent extraction over\n",
      "Response call\n",
      "https://raikes.unl.edu/design-studio/\n",
      "sent extraction over\n",
      "Response call\n"
     ]
    },
    {
     "name": "stderr",
     "output_type": "stream",
     "text": [
      "Your max_length is set to 50, but your input_length is only 3. Since this is a summarization task, where outputs shorter than the input are typically wanted, you might consider decreasing max_length manually, e.g. summarizer('...', max_length=1)\n"
     ]
    },
    {
     "name": "stdout",
     "output_type": "stream",
     "text": [
      "https://financeinsights.net/2QE4fDkQGuAD2vrF5q3m3hNjzjq\n",
      "sent extraction over\n",
      "Done\n",
      "Chesapeake Energy\n",
      "Calling the search\n",
      "Search complete\n",
      "Response call\n"
     ]
    },
    {
     "name": "stderr",
     "output_type": "stream",
     "text": [
      "Your max_length is set to 50, but your input_length is only 3. Since this is a summarization task, where outputs shorter than the input are typically wanted, you might consider decreasing max_length manually, e.g. summarizer('...', max_length=1)\n"
     ]
    },
    {
     "name": "stdout",
     "output_type": "stream",
     "text": [
      "https://investorplace.com/2024/01/chk-stock-alert-the-7-4-billion-reason-chesapeake-energy-is-up-today/\n",
      "sent extraction over\n"
     ]
    },
    {
     "name": "stderr",
     "output_type": "stream",
     "text": [
      "Your max_length is set to 50, but your input_length is only 3. Since this is a summarization task, where outputs shorter than the input are typically wanted, you might consider decreasing max_length manually, e.g. summarizer('...', max_length=1)\n"
     ]
    },
    {
     "name": "stdout",
     "output_type": "stream",
     "text": [
      "Response call\n",
      "https://www.forbes.com/sites/tylerroush/2024/01/11/chesapeake-energy-merges-with-southwestern-for-74-billion-becomes-largest-natural-gas-producer-in-us/\n",
      "sent extraction over\n",
      "Response call\n",
      "https://en.wikipedia.org/wiki/Chesapeake_Energy\n"
     ]
    },
    {
     "name": "stderr",
     "output_type": "stream",
     "text": [
      "Your max_length is set to 50, but your input_length is only 3. Since this is a summarization task, where outputs shorter than the input are typically wanted, you might consider decreasing max_length manually, e.g. summarizer('...', max_length=1)\n"
     ]
    },
    {
     "name": "stdout",
     "output_type": "stream",
     "text": [
      "sent extraction over\n",
      "Response call\n"
     ]
    },
    {
     "name": "stderr",
     "output_type": "stream",
     "text": [
      "Your max_length is set to 50, but your input_length is only 3. Since this is a summarization task, where outputs shorter than the input are typically wanted, you might consider decreasing max_length manually, e.g. summarizer('...', max_length=1)\n"
     ]
    },
    {
     "name": "stdout",
     "output_type": "stream",
     "text": [
      "https://plotly.com/user-stories/chesapeake-energy/\n",
      "sent extraction over\n",
      "Response call\n",
      "Request timed out for https://www.nasdaq.com/articles/chesapeake-energy-chk-tops-q1-earnings-and-revenue-estimates. Attempting with Selenium.\n",
      "sent extraction over\n",
      "Response call\n",
      "https://www.linkedin.com/posts/chesapeake-energy_ceraweek-activity-6908160653618507776-nUUp?trk=public_profile_like_view\n",
      "sent extraction over\n",
      "Response call\n",
      "Request timed out for https://www.nasdaq.com/articles/analysts-estimate-chesapeake-energy-chk-to-report-a-decline-in-earnings:-what-to-look-0. Attempting with Selenium.\n",
      "sent extraction over\n",
      "Response call\n",
      "https://investorplace.com/2020/03/chesapeake-energy-stock-goes-to-defcon-1/\n",
      "sent extraction over\n",
      "Done\n",
      "Anadarko Petroleum\n",
      "Calling the search\n",
      "Search complete\n",
      "Response call\n",
      "https://www.linkedin.com/posts/alan-lindsey_a-shout-out-to-anadarko-petroleum-i-talked-activity-6424017821147156480-TEH2?trk=public_profile_like_view\n",
      "sent extraction over\n",
      "Response call\n",
      "Failed to retrieve https://medium.com/denodo-data-virtualization/anadarko-petroleum-corporation-transforms-analytics-with-data-virtualization-8ebe2f2307ef: Status code 403\n",
      "An error occurred while processing Anadarko Petroleum: Message: Navigation timed out after 300000 ms\n",
      "Stacktrace:\n",
      "RemoteError@chrome://remote/content/shared/RemoteError.sys.mjs:8:8\n",
      "WebDriverError@chrome://remote/content/shared/webdriver/Errors.sys.mjs:192:5\n",
      "TimeoutError@chrome://remote/content/shared/webdriver/Errors.sys.mjs:739:5\n",
      "bail@chrome://remote/content/marionette/sync.sys.mjs:211:19\n",
      "\n",
      "Interpublic Group\n",
      "Calling the search\n",
      "Search complete\n",
      "Response call\n",
      "https://www.thedrum.com/news/2024/02/29/ipg-teams-up-with-adobe-bring-ai-powered-content-development-clients\n",
      "sent extraction over\n",
      "Response call\n",
      "Failed to retrieve https://adage.com/article/digital-marketing-ad-tech-news/ipg-mediabrands-will-use-googles-generative-ai-models-brands/2511701: Status code 403\n",
      "sent extraction over\n",
      "Response call\n",
      "https://www.marketing-interactive.com/ipg-golin-launches-ai-incubator-spark-to-move-towards-creative-intelligence\n",
      "sent extraction over\n",
      "Response call\n",
      "Request timed out for https://www.nasdaq.com/articles/heres-why-you-should-retain-interpublic-ipg-stock-for-now-2. Attempting with Selenium.\n",
      "sent extraction over\n",
      "Response call\n",
      "Failed to retrieve https://netography.com/insights-from-security-mavericks-interpublic-group-fico-and-mercury/: Status code 403\n",
      "sent extraction over\n",
      "Response call\n",
      "https://www.linkedin.com/posts/danielbrackins_pfizer-picks-interpublic-group-to-handle-activity-7072310079772917761-MeqG?trk=public_profile_like_view\n",
      "sent extraction over\n",
      "Response call\n"
     ]
    },
    {
     "name": "stderr",
     "output_type": "stream",
     "text": [
      "Your max_length is set to 50, but your input_length is only 3. Since this is a summarization task, where outputs shorter than the input are typically wanted, you might consider decreasing max_length manually, e.g. summarizer('...', max_length=1)\n"
     ]
    },
    {
     "name": "stdout",
     "output_type": "stream",
     "text": [
      "https://altindex.com/ticker/ipg/ai-stock-analysis\n",
      "sent extraction over\n",
      "Response call\n"
     ]
    },
    {
     "name": "stderr",
     "output_type": "stream",
     "text": [
      "Your max_length is set to 50, but your input_length is only 3. Since this is a summarization task, where outputs shorter than the input are typically wanted, you might consider decreasing max_length manually, e.g. summarizer('...', max_length=1)\n"
     ]
    },
    {
     "name": "stdout",
     "output_type": "stream",
     "text": [
      "https://www.marketingdive.com/news/ipg-adopts-analytics-tool-to-measure-tv-streaming-diversity-benchmarks/607114/\n",
      "sent extraction over\n",
      "Done\n",
      "J.M. Smucker\n",
      "Calling the search\n",
      "Search complete\n",
      "Response call\n",
      "https://www.theretirementgroup.com/featured-article/5448097/jm-smucker-employees-can-chatgpt-help-with-your-budget\n",
      "sent extraction over\n",
      "Response call\n",
      "Failed to retrieve https://medium.com/the-ai-education-project/partner-spotlight-the-j-m-smucker-co-228a95c985aa: Status code 403\n"
     ]
    },
    {
     "name": "stderr",
     "output_type": "stream",
     "text": [
      "Your max_length is set to 50, but your input_length is only 3. Since this is a summarization task, where outputs shorter than the input are typically wanted, you might consider decreasing max_length manually, e.g. summarizer('...', max_length=1)\n"
     ]
    },
    {
     "name": "stdout",
     "output_type": "stream",
     "text": [
      "sent extraction over\n",
      "Response call\n",
      "Failed to retrieve https://www.chat2invest.com/ticker/us/nyse/stock/SJM: Status code 403\n"
     ]
    },
    {
     "name": "stderr",
     "output_type": "stream",
     "text": [
      "Your max_length is set to 50, but your input_length is only 3. Since this is a summarization task, where outputs shorter than the input are typically wanted, you might consider decreasing max_length manually, e.g. summarizer('...', max_length=1)\n"
     ]
    },
    {
     "name": "stdout",
     "output_type": "stream",
     "text": [
      "sent extraction over\n",
      "Response call\n",
      "Request timed out for https://www.nasdaq.com/articles/j.m.-smucker-sjm-focused-on-core-priorities-amid-high-costs. Attempting with Selenium.\n",
      "sent extraction over\n",
      "Response call\n"
     ]
    },
    {
     "name": "stderr",
     "output_type": "stream",
     "text": [
      "Your max_length is set to 50, but your input_length is only 3. Since this is a summarization task, where outputs shorter than the input are typically wanted, you might consider decreasing max_length manually, e.g. summarizer('...', max_length=1)\n"
     ]
    },
    {
     "name": "stdout",
     "output_type": "stream",
     "text": [
      "https://www.youtube.com/watch?v=jl3cSxeZZtE\n",
      "sent extraction over\n",
      "Response call\n"
     ]
    },
    {
     "name": "stderr",
     "output_type": "stream",
     "text": [
      "Your max_length is set to 50, but your input_length is only 3. Since this is a summarization task, where outputs shorter than the input are typically wanted, you might consider decreasing max_length manually, e.g. summarizer('...', max_length=1)\n"
     ]
    },
    {
     "name": "stdout",
     "output_type": "stream",
     "text": [
      "https://altindex.com/ticker/sjm/ai-stock-analysis\n",
      "sent extraction over\n",
      "Response call\n",
      "Failed to retrieve https://wizardsourcer.com/15-recruiting-chatgpt-prompt-questions-to-review/: Status code 406\n",
      "sent extraction over\n",
      "Response call\n"
     ]
    },
    {
     "name": "stderr",
     "output_type": "stream",
     "text": [
      "Your max_length is set to 50, but your input_length is only 3. Since this is a summarization task, where outputs shorter than the input are typically wanted, you might consider decreasing max_length manually, e.g. summarizer('...', max_length=1)\n"
     ]
    },
    {
     "name": "stdout",
     "output_type": "stream",
     "text": [
      "https://trademarklawyermagazine.com/local-minneapolis-startup-in-a-jam-with-smuckers-over-its-crustless-sandwich-launch/\n",
      "sent extraction over\n",
      "Done\n",
      "Steel Dynamics\n",
      "Calling the search\n",
      "Search complete\n",
      "Response call\n",
      "Request timed out for https://www.nasdaq.com/articles/steel-dynamics-stld-laps-the-stock-market:-heres-why. Attempting with Selenium.\n",
      "sent extraction over\n",
      "Response call\n"
     ]
    },
    {
     "name": "stderr",
     "output_type": "stream",
     "text": [
      "Your max_length is set to 50, but your input_length is only 3. Since this is a summarization task, where outputs shorter than the input are typically wanted, you might consider decreasing max_length manually, e.g. summarizer('...', max_length=1)\n"
     ]
    },
    {
     "name": "stdout",
     "output_type": "stream",
     "text": [
      "https://altindex.com/ticker/stld/ai-stock-analysis\n",
      "sent extraction over\n",
      "Response call\n",
      "Request timed out for https://www.nasdaq.com/articles/steel-dynamics-stld-declares-$1.5b-share-buyback-authorization. Attempting with Selenium.\n",
      "sent extraction over\n",
      "Response call\n",
      "Failed to retrieve https://www.chat2invest.com/ticker/us/nasdaq/stock/STLD: Status code 403\n"
     ]
    },
    {
     "name": "stderr",
     "output_type": "stream",
     "text": [
      "Your max_length is set to 50, but your input_length is only 3. Since this is a summarization task, where outputs shorter than the input are typically wanted, you might consider decreasing max_length manually, e.g. summarizer('...', max_length=1)\n"
     ]
    },
    {
     "name": "stdout",
     "output_type": "stream",
     "text": [
      "sent extraction over\n",
      "Response call\n",
      "https://www.marketbeat.com/instant-alerts/nasdaq-stld-sec-filing-2024-03-03/\n",
      "sent extraction over\n",
      "Response call\n"
     ]
    },
    {
     "name": "stderr",
     "output_type": "stream",
     "text": [
      "Your max_length is set to 50, but your input_length is only 3. Since this is a summarization task, where outputs shorter than the input are typically wanted, you might consider decreasing max_length manually, e.g. summarizer('...', max_length=1)\n"
     ]
    },
    {
     "name": "stdout",
     "output_type": "stream",
     "text": [
      "https://www.rttnews.com/3332992/steel-dynamics-to-replace-abiomed-in-s-p-500.aspx\n",
      "sent extraction over\n",
      "Response call\n",
      "Failed to retrieve https://www.cybertruckownersclub.com/cybertrucks-stainless-steel-supplier-to-start-operations-by-fall-2021/: Status code 403\n",
      "sent extraction over\n",
      "Response call\n"
     ]
    },
    {
     "name": "stderr",
     "output_type": "stream",
     "text": [
      "Your max_length is set to 50, but your input_length is only 3. Since this is a summarization task, where outputs shorter than the input are typically wanted, you might consider decreasing max_length manually, e.g. summarizer('...', max_length=1)\n"
     ]
    },
    {
     "name": "stdout",
     "output_type": "stream",
     "text": [
      "https://www.wardsauto.com/steel-dynamics-says-gm-withdraws-breach-suit-appeal\n",
      "sent extraction over\n",
      "Done\n",
      "Foot Locker\n",
      "Calling the search\n",
      "Search complete\n",
      "Response call\n",
      "https://www.theretirementgroup.com/featured-article/5448097/foot-locker-employees-can-chatgpt-help-with-your-budget\n",
      "sent extraction over\n",
      "Response call\n"
     ]
    },
    {
     "name": "stderr",
     "output_type": "stream",
     "text": [
      "Your max_length is set to 50, but your input_length is only 3. Since this is a summarization task, where outputs shorter than the input are typically wanted, you might consider decreasing max_length manually, e.g. summarizer('...', max_length=1)\n"
     ]
    },
    {
     "name": "stdout",
     "output_type": "stream",
     "text": [
      "https://www.tiktok.com/@midlhq/video/7196033214505422126\n",
      "sent extraction over\n",
      "Response call\n",
      "https://www.linkedin.com/posts/jasmine-chen-2a4507248_foot-locker-analyzes-customer-feedback-with-activity-7087305495685861376-R8D9\n",
      "sent extraction over\n",
      "Response call\n",
      "https://www.linkedin.com/posts/destiny-flaherty_foot-locker-image-seo-case-study-228-increase-activity-7091628439178285056-6_Pg\n",
      "sent extraction over\n",
      "Response call\n",
      "Failed to retrieve https://www.dataiq.global/dataiq100-usa-2023/dataiq100-usa-2023/10-matt-giunipero-global-head-of-data-analytics-and-insights-foot-locker-inc-23: Status code 429\n"
     ]
    },
    {
     "name": "stderr",
     "output_type": "stream",
     "text": [
      "Your max_length is set to 50, but your input_length is only 3. Since this is a summarization task, where outputs shorter than the input are typically wanted, you might consider decreasing max_length manually, e.g. summarizer('...', max_length=1)\n"
     ]
    },
    {
     "name": "stdout",
     "output_type": "stream",
     "text": [
      "sent extraction over\n",
      "Response call\n",
      "Failed to retrieve https://bootcamp.uxdesign.cc/shopping-will-be-transformed-with-chatgpt-generative-ai-60281f42a037: Status code 403\n",
      "sent extraction over\n",
      "Response call\n"
     ]
    },
    {
     "name": "stderr",
     "output_type": "stream",
     "text": [
      "Your max_length is set to 50, but your input_length is only 3. Since this is a summarization task, where outputs shorter than the input are typically wanted, you might consider decreasing max_length manually, e.g. summarizer('...', max_length=1)\n"
     ]
    },
    {
     "name": "stdout",
     "output_type": "stream",
     "text": [
      "https://www.mycustomer.com/community/blogs/andrew-hall/chatgpt-creating-stronger-customer-relationships\n",
      "sent extraction over\n",
      "Response call\n"
     ]
    },
    {
     "name": "stderr",
     "output_type": "stream",
     "text": [
      "Your max_length is set to 50, but your input_length is only 3. Since this is a summarization task, where outputs shorter than the input are typically wanted, you might consider decreasing max_length manually, e.g. summarizer('...', max_length=1)\n"
     ]
    },
    {
     "name": "stdout",
     "output_type": "stream",
     "text": [
      "https://www.reddit.com/r/Sneakers/comments/11hb9mv/foot_locker_notification_said_raffle_entries_open/\n",
      "sent extraction over\n",
      "Done\n",
      "Western Refining\n",
      "Calling the search\n",
      "Search complete\n",
      "Response call\n"
     ]
    },
    {
     "name": "stderr",
     "output_type": "stream",
     "text": [
      "Your max_length is set to 50, but your input_length is only 3. Since this is a summarization task, where outputs shorter than the input are typically wanted, you might consider decreasing max_length manually, e.g. summarizer('...', max_length=1)\n"
     ]
    },
    {
     "name": "stdout",
     "output_type": "stream",
     "text": [
      "https://acquirersmultiple.com/2015/06/western-refining-inc-nysewnr/\n",
      "sent extraction over\n",
      "Response call\n",
      "Failed to retrieve https://www.latimes.com/archives/la-xpm-2006-aug-29-fi-western29-story.html: Status code 403\n"
     ]
    },
    {
     "name": "stderr",
     "output_type": "stream",
     "text": [
      "Your max_length is set to 50, but your input_length is only 3. Since this is a summarization task, where outputs shorter than the input are typically wanted, you might consider decreasing max_length manually, e.g. summarizer('...', max_length=1)\n"
     ]
    },
    {
     "name": "stdout",
     "output_type": "stream",
     "text": [
      "sent extraction over\n",
      "Response call\n",
      "Failed to retrieve https://golden.com/wiki/Western_Refining-VE8AGK: Status code 403\n"
     ]
    },
    {
     "name": "stderr",
     "output_type": "stream",
     "text": [
      "Your max_length is set to 50, but your input_length is only 3. Since this is a summarization task, where outputs shorter than the input are typically wanted, you might consider decreasing max_length manually, e.g. summarizer('...', max_length=1)\n"
     ]
    },
    {
     "name": "stdout",
     "output_type": "stream",
     "text": [
      "sent extraction over\n",
      "Response call\n"
     ]
    },
    {
     "name": "stderr",
     "output_type": "stream",
     "text": [
      "Your max_length is set to 50, but your input_length is only 3. Since this is a summarization task, where outputs shorter than the input are typically wanted, you might consider decreasing max_length manually, e.g. summarizer('...', max_length=1)\n"
     ]
    },
    {
     "name": "stdout",
     "output_type": "stream",
     "text": [
      "https://www.bloomberg.com/news/articles/2010-12-28/western-refining-extends-maturity-on-800-million-of-revolving-credit-line\n",
      "sent extraction over\n",
      "Response call\n"
     ]
    },
    {
     "name": "stderr",
     "output_type": "stream",
     "text": [
      "Your max_length is set to 50, but your input_length is only 3. Since this is a summarization task, where outputs shorter than the input are typically wanted, you might consider decreasing max_length manually, e.g. summarizer('...', max_length=1)\n"
     ]
    },
    {
     "name": "stdout",
     "output_type": "stream",
     "text": [
      "https://investorplace.com/2015/09/hottest-energy-stocks-now-rig-wpx-wnr-exh-rig-wpx-wnr/\n",
      "sent extraction over\n",
      "Response call\n"
     ]
    },
    {
     "name": "stderr",
     "output_type": "stream",
     "text": [
      "Your max_length is set to 50, but your input_length is only 3. Since this is a summarization task, where outputs shorter than the input are typically wanted, you might consider decreasing max_length manually, e.g. summarizer('...', max_length=1)\n"
     ]
    },
    {
     "name": "stdout",
     "output_type": "stream",
     "text": [
      "https://www.law.com/2018/06/12/texas-supreme-court-rejects-insurers-interpretation-of-subrogation-waiver-in-workers-comp-policy/\n",
      "sent extraction over\n",
      "Response call\n"
     ]
    },
    {
     "name": "stderr",
     "output_type": "stream",
     "text": [
      "Your max_length is set to 50, but your input_length is only 3. Since this is a summarization task, where outputs shorter than the input are typically wanted, you might consider decreasing max_length manually, e.g. summarizer('...', max_length=1)\n"
     ]
    },
    {
     "name": "stdout",
     "output_type": "stream",
     "text": [
      "https://investorplace.com/2015/05/hottest-energy-stocks-now-orig-sdrl-cie-kos-orig-sdrl-cie/\n",
      "sent extraction over\n",
      "Response call\n",
      "Failed to retrieve https://www.reuters.com/article/idUSKCN0YO2U3/: Status code 401\n"
     ]
    },
    {
     "name": "stderr",
     "output_type": "stream",
     "text": [
      "Your max_length is set to 50, but your input_length is only 3. Since this is a summarization task, where outputs shorter than the input are typically wanted, you might consider decreasing max_length manually, e.g. summarizer('...', max_length=1)\n"
     ]
    },
    {
     "name": "stdout",
     "output_type": "stream",
     "text": [
      "sent extraction over\n",
      "Done\n",
      "SpartanNash\n",
      "Calling the search\n",
      "Search complete\n",
      "Response call\n",
      "https://www.theretirementgroup.com/featured-article/5448097/spartannash-employees-can-chatgpt-help-with-your-budget\n",
      "sent extraction over\n",
      "Response call\n",
      "https://www.supermarketnews.com/technology/podcast-grocery-hard-ai-and-chatgpt-can-help\n",
      "sent extraction over\n",
      "Response call\n",
      "Failed to retrieve https://create.nrn.com/captivate-podcast/grocery-is-hard-ai-and-chatgpt-can-help/: Status code 403\n",
      "sent extraction over\n",
      "Response call\n"
     ]
    },
    {
     "name": "stderr",
     "output_type": "stream",
     "text": [
      "Your max_length is set to 50, but your input_length is only 18. Since this is a summarization task, where outputs shorter than the input are typically wanted, you might consider decreasing max_length manually, e.g. summarizer('...', max_length=9)\n"
     ]
    },
    {
     "name": "stdout",
     "output_type": "stream",
     "text": [
      "https://www.youtube.com/watch?v=btf2WWg2OZE\n",
      "sent extraction over\n",
      "Response call\n"
     ]
    },
    {
     "name": "stderr",
     "output_type": "stream",
     "text": [
      "Your max_length is set to 50, but your input_length is only 3. Since this is a summarization task, where outputs shorter than the input are typically wanted, you might consider decreasing max_length manually, e.g. summarizer('...', max_length=1)\n"
     ]
    },
    {
     "name": "stdout",
     "output_type": "stream",
     "text": [
      "https://www.linkedin.com/posts/supermarketnews_spartannash-implements-new-food-traceability-activity-7155303340015304704-ADbB\n",
      "sent extraction over\n",
      "Response call\n",
      "Failed to retrieve https://www.listennotes.com/podcasts/sn-off-the-shelf/grocery-is-hard-ai-and-pHGSMYtNz5r/: Status code 403\n",
      "sent extraction over\n",
      "Response call\n",
      "Request timed out for https://www.nasdaq.com/articles/spartannash-sptn-unifies-retail-banners-under-family-fare. Attempting with Selenium.\n",
      "sent extraction over\n",
      "Response call\n"
     ]
    },
    {
     "name": "stderr",
     "output_type": "stream",
     "text": [
      "Your max_length is set to 50, but your input_length is only 3. Since this is a summarization task, where outputs shorter than the input are typically wanted, you might consider decreasing max_length manually, e.g. summarizer('...', max_length=1)\n"
     ]
    },
    {
     "name": "stdout",
     "output_type": "stream",
     "text": [
      "https://www.linkedin.com/posts/supermarketnews_spartannash-unveils-new-premium-private-label-activity-7165833909346254848-6KQU\n",
      "sent extraction over\n",
      "Done\n",
      "Dean Foods\n",
      "Calling the search\n",
      "Search complete\n",
      "Response call\n"
     ]
    },
    {
     "name": "stderr",
     "output_type": "stream",
     "text": [
      "Your max_length is set to 50, but your input_length is only 3. Since this is a summarization task, where outputs shorter than the input are typically wanted, you might consider decreasing max_length manually, e.g. summarizer('...', max_length=1)\n"
     ]
    },
    {
     "name": "stdout",
     "output_type": "stream",
     "text": [
      "https://www.youtube.com/watch?v=z2zfH3j2xF8\n",
      "sent extraction over\n",
      "Response call\n",
      "Failed to retrieve https://www.atomicdc.com/news/dean-foods-selects-atomic-for-hr-intranet/: Status code 403\n"
     ]
    },
    {
     "name": "stderr",
     "output_type": "stream",
     "text": [
      "Your max_length is set to 50, but your input_length is only 3. Since this is a summarization task, where outputs shorter than the input are typically wanted, you might consider decreasing max_length manually, e.g. summarizer('...', max_length=1)\n"
     ]
    },
    {
     "name": "stdout",
     "output_type": "stream",
     "text": [
      "sent extraction over\n",
      "Response call\n"
     ]
    },
    {
     "name": "stderr",
     "output_type": "stream",
     "text": [
      "Your max_length is set to 50, but your input_length is only 3. Since this is a summarization task, where outputs shorter than the input are typically wanted, you might consider decreasing max_length manually, e.g. summarizer('...', max_length=1)\n"
     ]
    },
    {
     "name": "stdout",
     "output_type": "stream",
     "text": [
      "https://www.foodprocessing.com/editors-plate/article/11308251/editors-plate-why-does-dean-foods-market-cap-pale-next-to-beyond-meats\n",
      "sent extraction over\n",
      "Response call\n",
      "Failed to retrieve https://www.wsj.com/articles/SB124506978475715051: Status code 403\n"
     ]
    },
    {
     "name": "stderr",
     "output_type": "stream",
     "text": [
      "Your max_length is set to 50, but your input_length is only 3. Since this is a summarization task, where outputs shorter than the input are typically wanted, you might consider decreasing max_length manually, e.g. summarizer('...', max_length=1)\n"
     ]
    },
    {
     "name": "stdout",
     "output_type": "stream",
     "text": [
      "sent extraction over\n",
      "Response call\n"
     ]
    },
    {
     "name": "stderr",
     "output_type": "stream",
     "text": [
      "Your max_length is set to 50, but your input_length is only 3. Since this is a summarization task, where outputs shorter than the input are typically wanted, you might consider decreasing max_length manually, e.g. summarizer('...', max_length=1)\n"
     ]
    },
    {
     "name": "stdout",
     "output_type": "stream",
     "text": [
      "https://www.bloomberg.com/profile/company/0458626D:US\n",
      "sent extraction over\n",
      "Response call\n"
     ]
    },
    {
     "name": "stderr",
     "output_type": "stream",
     "text": [
      "Your max_length is set to 50, but your input_length is only 3. Since this is a summarization task, where outputs shorter than the input are typically wanted, you might consider decreasing max_length manually, e.g. summarizer('...', max_length=1)\n"
     ]
    },
    {
     "name": "stdout",
     "output_type": "stream",
     "text": [
      "https://dealbook.nytimes.com/2009/06/16/dean-foods-snaps-up-alpro-belgium-soy-leader/\n",
      "sent extraction over\n",
      "Response call\n"
     ]
    },
    {
     "name": "stderr",
     "output_type": "stream",
     "text": [
      "Your max_length is set to 50, but your input_length is only 3. Since this is a summarization task, where outputs shorter than the input are typically wanted, you might consider decreasing max_length manually, e.g. summarizer('...', max_length=1)\n"
     ]
    },
    {
     "name": "stdout",
     "output_type": "stream",
     "text": [
      "https://www.bloomberg.com/news/articles/2016-10-13/in-testament-to-healthy-milk-boom-dean-raises-dairypure-prices\n",
      "sent extraction over\n",
      "Response call\n"
     ]
    },
    {
     "name": "stderr",
     "output_type": "stream",
     "text": [
      "Your max_length is set to 50, but your input_length is only 3. Since this is a summarization task, where outputs shorter than the input are typically wanted, you might consider decreasing max_length manually, e.g. summarizer('...', max_length=1)\n"
     ]
    },
    {
     "name": "stdout",
     "output_type": "stream",
     "text": [
      "https://www.linkedin.com/posts/robtrice_americas-largest-milk-producer-files-for-activity-6600431943504977920-60nh?trk=public_profile_like_view\n",
      "sent extraction over\n",
      "Done\n",
      "Zimmer Biomet Holdings\n",
      "Calling the search\n",
      "Search complete\n",
      "Response call\n",
      "https://investorplace.com/2023/05/3-stocks-that-are-reshaping-the-future/\n",
      "sent extraction over\n",
      "Response call\n",
      "Request timed out for https://www.nasdaq.com/articles/heres-why-you-should-retain-zimmer-biomet-zbh-for-now-0. Attempting with Selenium.\n",
      "sent extraction over\n",
      "Response call\n",
      "Request timed out for https://www.nasdaq.com/articles/heres-why-zimmer-biomet-zbh-is-a-strong-value-stock. Attempting with Selenium.\n",
      "sent extraction over\n",
      "Response call\n",
      "https://www.marketbeat.com/instant-alerts/nyse-zbh-sec-filing-2024-03-07/\n",
      "sent extraction over\n",
      "Response call\n",
      "Failed to retrieve https://www.tipranks.com/stocks/de:zim/forecast: Status code 503\n"
     ]
    },
    {
     "name": "stderr",
     "output_type": "stream",
     "text": [
      "Your max_length is set to 50, but your input_length is only 3. Since this is a summarization task, where outputs shorter than the input are typically wanted, you might consider decreasing max_length manually, e.g. summarizer('...', max_length=1)\n"
     ]
    },
    {
     "name": "stdout",
     "output_type": "stream",
     "text": [
      "sent extraction over\n",
      "Response call\n"
     ]
    },
    {
     "name": "stderr",
     "output_type": "stream",
     "text": [
      "Your max_length is set to 50, but your input_length is only 3. Since this is a summarization task, where outputs shorter than the input are typically wanted, you might consider decreasing max_length manually, e.g. summarizer('...', max_length=1)\n"
     ]
    },
    {
     "name": "stdout",
     "output_type": "stream",
     "text": [
      "https://investorplace.com/2024/03/7-robotic-surgery-stocks-to-buy-for-the-future-of-healthcare/\n",
      "sent extraction over\n",
      "Response call\n",
      "https://www.marketbeat.com/instant-alerts/nyse-zbh-sec-filing-2024-03-11/\n",
      "sent extraction over\n",
      "Response call\n",
      "Failed to retrieve https://www.tipranks.com/stocks/zbh/forecast: Status code 503\n"
     ]
    },
    {
     "name": "stderr",
     "output_type": "stream",
     "text": [
      "Your max_length is set to 50, but your input_length is only 3. Since this is a summarization task, where outputs shorter than the input are typically wanted, you might consider decreasing max_length manually, e.g. summarizer('...', max_length=1)\n"
     ]
    },
    {
     "name": "stdout",
     "output_type": "stream",
     "text": [
      "sent extraction over\n",
      "Done\n",
      "PulteGroup\n",
      "Calling the search\n",
      "Search complete\n",
      "Response call\n",
      "Request timed out for https://www.nasdaq.com/articles/why-is-pultegroup-phm-trending-better-than-its-industry-ytd. Attempting with Selenium.\n",
      "sent extraction over\n",
      "Response call\n",
      "https://investorplace.com/2013/07/should-i-buy-pultegroup-3-pros-3-cons/\n",
      "sent extraction over\n",
      "Response call\n",
      "Request timed out for https://www.nasdaq.com/articles/pultegroup-phm-to-perform-strongly-in-2h23:-heres-why. Attempting with Selenium.\n",
      "sent extraction over\n",
      "Response call\n",
      "https://www.marketbeat.com/originals/pultegroup-can-set-a-new-high-in-2024/\n",
      "sent extraction over\n",
      "Response call\n"
     ]
    },
    {
     "name": "stderr",
     "output_type": "stream",
     "text": [
      "Your max_length is set to 50, but your input_length is only 3. Since this is a summarization task, where outputs shorter than the input are typically wanted, you might consider decreasing max_length manually, e.g. summarizer('...', max_length=1)\n"
     ]
    },
    {
     "name": "stdout",
     "output_type": "stream",
     "text": [
      "https://altindex.com/ticker/phm/ai-stock-analysis\n",
      "sent extraction over\n",
      "Response call\n",
      "Failed to retrieve https://www.tipranks.com/stocks/phm/forecast: Status code 503\n"
     ]
    },
    {
     "name": "stderr",
     "output_type": "stream",
     "text": [
      "Your max_length is set to 50, but your input_length is only 3. Since this is a summarization task, where outputs shorter than the input are typically wanted, you might consider decreasing max_length manually, e.g. summarizer('...', max_length=1)\n"
     ]
    },
    {
     "name": "stdout",
     "output_type": "stream",
     "text": [
      "sent extraction over\n",
      "Response call\n"
     ]
    },
    {
     "name": "stderr",
     "output_type": "stream",
     "text": [
      "Your max_length is set to 50, but your input_length is only 3. Since this is a summarization task, where outputs shorter than the input are typically wanted, you might consider decreasing max_length manually, e.g. summarizer('...', max_length=1)\n"
     ]
    },
    {
     "name": "stdout",
     "output_type": "stream",
     "text": [
      "https://investorplace.com/2023/09/3-homebuilder-stocks-to-sell-in-september-before-they-crash-burn/\n",
      "sent extraction over\n",
      "Response call\n"
     ]
    },
    {
     "name": "stderr",
     "output_type": "stream",
     "text": [
      "Your max_length is set to 50, but your input_length is only 3. Since this is a summarization task, where outputs shorter than the input are typically wanted, you might consider decreasing max_length manually, e.g. summarizer('...', max_length=1)\n"
     ]
    },
    {
     "name": "stdout",
     "output_type": "stream",
     "text": [
      "https://lbbonline.com/news/pultegroups-del-webb-spot-makes-it-easy-to-say-yes-to-a-retirement-community-home\n",
      "sent extraction over\n",
      "Done\n",
      "W.R. Berkley\n",
      "Calling the search\n",
      "Search complete\n",
      "Response call\n",
      "Request timed out for https://www.nasdaq.com/articles/heres-why-w.r.-berkley-wrb-is-a-strong-growth-stock-0. Attempting with Selenium.\n",
      "sent extraction over\n",
      "Response call\n",
      "https://www.carriermanagement.com/news/2024/03/04/259399.htm\n",
      "sent extraction over\n",
      "Response call\n",
      "Request timed out for https://www.nasdaq.com/articles/why-investors-should-retain-w.r.-berkley-wrb-stock-now. Attempting with Selenium.\n",
      "sent extraction over\n",
      "Response call\n"
     ]
    },
    {
     "name": "stderr",
     "output_type": "stream",
     "text": [
      "Your max_length is set to 50, but your input_length is only 3. Since this is a summarization task, where outputs shorter than the input are typically wanted, you might consider decreasing max_length manually, e.g. summarizer('...', max_length=1)\n"
     ]
    },
    {
     "name": "stdout",
     "output_type": "stream",
     "text": [
      "https://www.law.com/2017/06/08/w-r-berkley-establishes-berkley-entertainment-sports-and-berkley-environmental-as-independent-operating-units/\n",
      "sent extraction over\n",
      "Response call\n",
      "https://www.linkedin.com/posts/devin-strickland-34197962_singlestone-chatgpt-and-copilot-tools-activity-7055226026435452928-73gP\n",
      "sent extraction over\n",
      "Response call\n"
     ]
    },
    {
     "name": "stderr",
     "output_type": "stream",
     "text": [
      "Your max_length is set to 50, but your input_length is only 30. Since this is a summarization task, where outputs shorter than the input are typically wanted, you might consider decreasing max_length manually, e.g. summarizer('...', max_length=15)\n"
     ]
    },
    {
     "name": "stdout",
     "output_type": "stream",
     "text": [
      "https://www.stockgumshoe.com/2023/07/friday-file-season-opens-whats-up-with-intuitive-w-r-berkley-teqnion-and-the-rest/\n",
      "sent extraction over\n",
      "Response call\n",
      "Failed to retrieve https://www.thestreet.com/quote/WRB: Status code 403\n"
     ]
    },
    {
     "name": "stderr",
     "output_type": "stream",
     "text": [
      "Your max_length is set to 50, but your input_length is only 3. Since this is a summarization task, where outputs shorter than the input are typically wanted, you might consider decreasing max_length manually, e.g. summarizer('...', max_length=1)\n"
     ]
    },
    {
     "name": "stdout",
     "output_type": "stream",
     "text": [
      "sent extraction over\n",
      "Done\n",
      "Quanta Services\n",
      "Calling the search\n",
      "Search complete\n",
      "Response call\n",
      "Request timed out for https://www.nasdaq.com/articles/quanta-services-pwr-q4-earnings-and-revenues-surpass-estimates. Attempting with Selenium.\n",
      "sent extraction over\n",
      "Response call\n",
      "https://investorplace.com/market360/4-stocks-make-you-millionaire/\n",
      "sent extraction over\n",
      "Response call\n",
      "Request timed out for https://www.nasdaq.com/articles/quanta-pwr-stock-rises-21.7-ytd:-whats-driving-it. Attempting with Selenium.\n",
      "sent extraction over\n",
      "Response call\n"
     ]
    },
    {
     "name": "stderr",
     "output_type": "stream",
     "text": [
      "Your max_length is set to 50, but your input_length is only 3. Since this is a summarization task, where outputs shorter than the input are typically wanted, you might consider decreasing max_length manually, e.g. summarizer('...', max_length=1)\n"
     ]
    },
    {
     "name": "stdout",
     "output_type": "stream",
     "text": [
      "https://altindex.com/ticker/pwr/ai-stock-analysis\n",
      "sent extraction over\n",
      "Response call\n",
      "https://www.marketbeat.com/instant-alerts/nyse-pwr-sec-filing-2024-03-10/\n",
      "sent extraction over\n",
      "Response call\n",
      "https://investorplace.com/4-stocks-our-ai-says-can-make-you-the-millionaire-next-door/\n",
      "sent extraction over\n",
      "Response call\n",
      "Failed to retrieve https://www.tipranks.com/stocks/pwr/ownership: Status code 503\n"
     ]
    },
    {
     "name": "stderr",
     "output_type": "stream",
     "text": [
      "Your max_length is set to 50, but your input_length is only 3. Since this is a summarization task, where outputs shorter than the input are typically wanted, you might consider decreasing max_length manually, e.g. summarizer('...', max_length=1)\n"
     ]
    },
    {
     "name": "stdout",
     "output_type": "stream",
     "text": [
      "sent extraction over\n",
      "Response call\n"
     ]
    },
    {
     "name": "stderr",
     "output_type": "stream",
     "text": [
      "Your max_length is set to 50, but your input_length is only 3. Since this is a summarization task, where outputs shorter than the input are typically wanted, you might consider decreasing max_length manually, e.g. summarizer('...', max_length=1)\n"
     ]
    },
    {
     "name": "stdout",
     "output_type": "stream",
     "text": [
      "https://coincodex.com/stocks/how-to-buy-PWR/\n",
      "sent extraction over\n",
      "Done\n",
      "EOG Resources\n",
      "Calling the search\n",
      "Search complete\n",
      "Response call\n",
      "https://www.theretirementgroup.com/featured-article/5448097/eog-resources-employees-can-chatgpt-help-with-your-budget\n",
      "sent extraction over\n",
      "Response call\n",
      "Failed to retrieve https://www.tipranks.com/stocks/eog/forecast: Status code 503\n"
     ]
    },
    {
     "name": "stderr",
     "output_type": "stream",
     "text": [
      "Your max_length is set to 50, but your input_length is only 3. Since this is a summarization task, where outputs shorter than the input are typically wanted, you might consider decreasing max_length manually, e.g. summarizer('...', max_length=1)\n"
     ]
    },
    {
     "name": "stdout",
     "output_type": "stream",
     "text": [
      "sent extraction over\n",
      "Response call\n"
     ]
    },
    {
     "name": "stderr",
     "output_type": "stream",
     "text": [
      "Your max_length is set to 50, but your input_length is only 3. Since this is a summarization task, where outputs shorter than the input are typically wanted, you might consider decreasing max_length manually, e.g. summarizer('...', max_length=1)\n"
     ]
    },
    {
     "name": "stdout",
     "output_type": "stream",
     "text": [
      "https://www.cnbc.com/quotes/EOG\n",
      "sent extraction over\n",
      "Response call\n",
      "https://investorplace.com/2023/07/3-energy-stocks-that-ai-is-loving-in-july/\n",
      "sent extraction over\n",
      "Response call\n",
      "Request timed out for https://www.nasdaq.com/articles/heres-why-eog-resources-eog-is-a-solid-investment-bet. Attempting with Selenium.\n",
      "sent extraction over\n",
      "Response call\n",
      "Request timed out for https://www.nasdaq.com/articles/heres-why-eog-resources-eog-is-an-attractive-investment-bet-1. Attempting with Selenium.\n",
      "sent extraction over\n",
      "Response call\n",
      "Failed to retrieve https://medium.com/@sakthivel04sakthi/why-eog-resources-share-price-declined-b5d0c0d40f51: Status code 403\n"
     ]
    },
    {
     "name": "stderr",
     "output_type": "stream",
     "text": [
      "Your max_length is set to 50, but your input_length is only 3. Since this is a summarization task, where outputs shorter than the input are typically wanted, you might consider decreasing max_length manually, e.g. summarizer('...', max_length=1)\n"
     ]
    },
    {
     "name": "stdout",
     "output_type": "stream",
     "text": [
      "sent extraction over\n",
      "Response call\n",
      "https://markets.businessinsider.com/news/stocks/3-energy-stocks-that-ai-is-loving-in-july-1032444664\n",
      "sent extraction over\n",
      "Done\n",
      "Charles Schwab\n",
      "Calling the search\n",
      "Search complete\n",
      "Response call\n",
      "Failed to retrieve https://www.aboutschwab.com/mss/story/its-people-and-ai-not-people-vs-ai: Status code 403\n",
      "sent extraction over\n",
      "Response call\n"
     ]
    },
    {
     "name": "stderr",
     "output_type": "stream",
     "text": [
      "Your max_length is set to 50, but your input_length is only 3. Since this is a summarization task, where outputs shorter than the input are typically wanted, you might consider decreasing max_length manually, e.g. summarizer('...', max_length=1)\n"
     ]
    },
    {
     "name": "stdout",
     "output_type": "stream",
     "text": [
      "https://www.schwab.com/learn/story/investing-artificial-intelligence-ai\n",
      "sent extraction over\n",
      "Response call\n"
     ]
    },
    {
     "name": "stderr",
     "output_type": "stream",
     "text": [
      "Your max_length is set to 50, but your input_length is only 3. Since this is a summarization task, where outputs shorter than the input are typically wanted, you might consider decreasing max_length manually, e.g. summarizer('...', max_length=1)\n"
     ]
    },
    {
     "name": "stdout",
     "output_type": "stream",
     "text": [
      "https://citywire.com/ria/news/using-ai-is-now-table-stakes-for-advisors-schwab-panel-says/a2428980\n",
      "sent extraction over\n",
      "Response call\n",
      "https://www.fsisac.com/insights/podcast/bashar-abouseido-risks-threats-opportunities-of-chatgpt\n",
      "sent extraction over\n",
      "Response call\n",
      "https://www.advisorengine.com/action-magazine/articles/artificial-intelligence-in-spotlight-at-schwab-impact-2023-conference\n",
      "sent extraction over\n",
      "Response call\n",
      "https://www.linkedin.com/posts/andrew-salesky-b504813_its-people-and-ai-not-people-vs-ai-charles-activity-7054876438797164544-Djph\n",
      "sent extraction over\n",
      "Response call\n"
     ]
    },
    {
     "name": "stderr",
     "output_type": "stream",
     "text": [
      "Your max_length is set to 50, but your input_length is only 3. Since this is a summarization task, where outputs shorter than the input are typically wanted, you might consider decreasing max_length manually, e.g. summarizer('...', max_length=1)\n"
     ]
    },
    {
     "name": "stdout",
     "output_type": "stream",
     "text": [
      "https://www.mathaware.org/charles-schwab-launches-ai-that-could-replace-your-broker/\n",
      "sent extraction over\n",
      "Done\n",
      "Eversource Energy\n",
      "Calling the search\n",
      "Search complete\n",
      "Response call\n",
      "https://www.theretirementgroup.com/featured-article/5448097/eversource-energy-employees-can-chatgpt-help-with-your-budget\n",
      "sent extraction over\n",
      "Response call\n",
      "Request timed out for https://www.nasdaq.com/articles/eversource-energy-es-q4-earnings-and-revenues-lag-estimates. Attempting with Selenium.\n",
      "sent extraction over\n",
      "Response call\n"
     ]
    },
    {
     "name": "stderr",
     "output_type": "stream",
     "text": [
      "Your max_length is set to 50, but your input_length is only 3. Since this is a summarization task, where outputs shorter than the input are typically wanted, you might consider decreasing max_length manually, e.g. summarizer('...', max_length=1)\n"
     ]
    },
    {
     "name": "stdout",
     "output_type": "stream",
     "text": [
      "https://altindex.com/ticker/es/ai-stock-analysis\n",
      "sent extraction over\n",
      "Response call\n",
      "Request timed out for https://www.nasdaq.com/articles/eversource-es-q3-earnings-and-revenues-miss-estimates. Attempting with Selenium.\n",
      "sent extraction over\n",
      "Response call\n"
     ]
    },
    {
     "name": "stderr",
     "output_type": "stream",
     "text": [
      "Your max_length is set to 50, but your input_length is only 3. Since this is a summarization task, where outputs shorter than the input are typically wanted, you might consider decreasing max_length manually, e.g. summarizer('...', max_length=1)\n"
     ]
    },
    {
     "name": "stdout",
     "output_type": "stream",
     "text": [
      "https://www.aol.com/news/does-eversource-energys-debt-look-130431932.html\n",
      "sent extraction over\n",
      "Response call\n",
      "Failed to retrieve https://www.zacks.com/amp/stock/news/2148206/are-options-traders-betting-on-a-big-move-in-eversource-energy-es-stock: Status code 500\n",
      "sent extraction over\n",
      "Response call\n",
      "https://www.linkedin.com/posts/kathy-laflash-b3496318_chatgpt-aiwizard-activity-7089778503700602880-rtOr?trk=public_profile_share_view\n",
      "sent extraction over\n",
      "Response call\n"
     ]
    },
    {
     "name": "stderr",
     "output_type": "stream",
     "text": [
      "Your max_length is set to 50, but your input_length is only 3. Since this is a summarization task, where outputs shorter than the input are typically wanted, you might consider decreasing max_length manually, e.g. summarizer('...', max_length=1)\n"
     ]
    },
    {
     "name": "stdout",
     "output_type": "stream",
     "text": [
      "https://investorplace.com/2023/08/the-3-most-undervalued-utilities-stocks-to-buy-now-august-2023/\n",
      "sent extraction over\n",
      "Done\n",
      "Anixter International\n",
      "Calling the search\n",
      "Search complete\n",
      "Response call\n",
      "Failed to retrieve https://julian-34159.medium.com/live-from-the-trading-desk-the-anixter-bidding-war-57397c12665a: Status code 403\n"
     ]
    },
    {
     "name": "stderr",
     "output_type": "stream",
     "text": [
      "Your max_length is set to 50, but your input_length is only 3. Since this is a summarization task, where outputs shorter than the input are typically wanted, you might consider decreasing max_length manually, e.g. summarizer('...', max_length=1)\n"
     ]
    },
    {
     "name": "stdout",
     "output_type": "stream",
     "text": [
      "sent extraction over\n",
      "Response call\n"
     ]
    },
    {
     "name": "stderr",
     "output_type": "stream",
     "text": [
      "Your max_length is set to 50, but your input_length is only 3. Since this is a summarization task, where outputs shorter than the input are typically wanted, you might consider decreasing max_length manually, e.g. summarizer('...', max_length=1)\n"
     ]
    },
    {
     "name": "stdout",
     "output_type": "stream",
     "text": [
      "https://investorplace.com/2014/08/biggest-movers-in-technology-stocks-now-intc-rfmd-cavm-pay-intc-rfmd-cavm/\n",
      "sent extraction over\n",
      "Response call\n",
      "https://www.marketbeat.com/stocks/NYSE/AXE/short-interest/\n",
      "sent extraction over\n",
      "Response call\n"
     ]
    },
    {
     "name": "stderr",
     "output_type": "stream",
     "text": [
      "Your max_length is set to 50, but your input_length is only 3. Since this is a summarization task, where outputs shorter than the input are typically wanted, you might consider decreasing max_length manually, e.g. summarizer('...', max_length=1)\n"
     ]
    },
    {
     "name": "stdout",
     "output_type": "stream",
     "text": [
      "https://www.post-gazette.com/business/pittsburgh-company-news/2020/03/11/Wesco-Anixter-acquisition-financing/stories/202003100119\n",
      "sent extraction over\n",
      "Response call\n",
      "Failed to retrieve https://www.glassdoor.com/Salary/Lester-and-Rosalie-Anixter-Center-Benefits-Manager-Salaries-E291384_D_KO34,50.htm: Status code 403\n"
     ]
    },
    {
     "name": "stderr",
     "output_type": "stream",
     "text": [
      "Your max_length is set to 50, but your input_length is only 3. Since this is a summarization task, where outputs shorter than the input are typically wanted, you might consider decreasing max_length manually, e.g. summarizer('...', max_length=1)\n"
     ]
    },
    {
     "name": "stdout",
     "output_type": "stream",
     "text": [
      "sent extraction over\n",
      "Response call\n",
      "https://www.marketbeat.com/stocks/NYSE/AXE/\n",
      "sent extraction over\n",
      "Response call\n"
     ]
    },
    {
     "name": "stderr",
     "output_type": "stream",
     "text": [
      "Your max_length is set to 50, but your input_length is only 3. Since this is a summarization task, where outputs shorter than the input are typically wanted, you might consider decreasing max_length manually, e.g. summarizer('...', max_length=1)\n"
     ]
    },
    {
     "name": "stdout",
     "output_type": "stream",
     "text": [
      "https://securitytoday.com/articles/2019/06/13/global-perimeter-security-market-expected-to-experience-large-growth.aspx\n",
      "sent extraction over\n",
      "Response call\n"
     ]
    },
    {
     "name": "stderr",
     "output_type": "stream",
     "text": [
      "Your max_length is set to 50, but your input_length is only 3. Since this is a summarization task, where outputs shorter than the input are typically wanted, you might consider decreasing max_length manually, e.g. summarizer('...', max_length=1)\n"
     ]
    },
    {
     "name": "stdout",
     "output_type": "stream",
     "text": [
      "https://www.bloomberg.com/press-releases/2016-10-27/anixter-to-present-at-upcoming-conferences\n",
      "sent extraction over\n",
      "Done\n",
      "EMCOR Group\n",
      "Calling the search\n",
      "Search complete\n",
      "Response call\n",
      "Request timed out for https://www.nasdaq.com/articles/heres-why-emcor-group-eme-is-a-strong-growth-stock-1. Attempting with Selenium.\n",
      "sent extraction over\n",
      "Response call\n"
     ]
    },
    {
     "name": "stderr",
     "output_type": "stream",
     "text": [
      "Your max_length is set to 50, but your input_length is only 3. Since this is a summarization task, where outputs shorter than the input are typically wanted, you might consider decreasing max_length manually, e.g. summarizer('...', max_length=1)\n"
     ]
    },
    {
     "name": "stdout",
     "output_type": "stream",
     "text": [
      "https://finance.yahoo.com/news/emcor-group-eme-stock-outpacing-144012768.html\n",
      "sent extraction over\n",
      "Response call\n",
      "Failed to retrieve https://www.zacks.com/stock/research/EME/stock-style-scores: Status code 500\n"
     ]
    },
    {
     "name": "stderr",
     "output_type": "stream",
     "text": [
      "Your max_length is set to 50, but your input_length is only 3. Since this is a summarization task, where outputs shorter than the input are typically wanted, you might consider decreasing max_length manually, e.g. summarizer('...', max_length=1)\n"
     ]
    },
    {
     "name": "stdout",
     "output_type": "stream",
     "text": [
      "sent extraction over\n",
      "Response call\n",
      "Failed to retrieve https://www.zacks.com/style-scores-education/: Status code 500\n"
     ]
    },
    {
     "name": "stderr",
     "output_type": "stream",
     "text": [
      "Your max_length is set to 50, but your input_length is only 3. Since this is a summarization task, where outputs shorter than the input are typically wanted, you might consider decreasing max_length manually, e.g. summarizer('...', max_length=1)\n"
     ]
    },
    {
     "name": "stdout",
     "output_type": "stream",
     "text": [
      "sent extraction over\n",
      "Response call\n",
      "Request timed out for https://www.nasdaq.com/articles/emcor-eme-q4-earnings-and-revenues-beat-estimates-stock-up-0. Attempting with Selenium.\n",
      "sent extraction over\n",
      "Response call\n"
     ]
    },
    {
     "name": "stderr",
     "output_type": "stream",
     "text": [
      "Your max_length is set to 50, but your input_length is only 3. Since this is a summarization task, where outputs shorter than the input are typically wanted, you might consider decreasing max_length manually, e.g. summarizer('...', max_length=1)\n"
     ]
    },
    {
     "name": "stdout",
     "output_type": "stream",
     "text": [
      "https://uk.finance.yahoo.com/news/why-emcor-group-eme-top-134508315.html\n",
      "sent extraction over\n",
      "Response call\n"
     ]
    },
    {
     "name": "stderr",
     "output_type": "stream",
     "text": [
      "Your max_length is set to 50, but your input_length is only 3. Since this is a summarization task, where outputs shorter than the input are typically wanted, you might consider decreasing max_length manually, e.g. summarizer('...', max_length=1)\n"
     ]
    },
    {
     "name": "stdout",
     "output_type": "stream",
     "text": [
      "https://www.youtube.com/watch?v=jORlkYKQKEU\n",
      "sent extraction over\n",
      "Response call\n",
      "https://www.marketbeat.com/instant-alerts/nyse-eme-options-data-report-2024-03-03/\n",
      "sent extraction over\n",
      "Done\n",
      "Assurant\n",
      "Calling the search\n",
      "Search complete\n",
      "Response call\n",
      "https://www.theretirementgroup.com/featured-article/5448097/assurant-employees-can-chatgpt-help-with-your-budget\n",
      "sent extraction over\n",
      "Response call\n"
     ]
    },
    {
     "name": "stderr",
     "output_type": "stream",
     "text": [
      "Your max_length is set to 50, but your input_length is only 3. Since this is a summarization task, where outputs shorter than the input are typically wanted, you might consider decreasing max_length manually, e.g. summarizer('...', max_length=1)\n"
     ]
    },
    {
     "name": "stdout",
     "output_type": "stream",
     "text": [
      "https://aithority.com/technology/guidewire-and-assurant-partner-to-streamline-insurance-processes-and-improve-customer-experience/\n",
      "sent extraction over\n",
      "Response call\n",
      "https://www.reddit.com/r/BPOinPH/comments/11sln3z/would_chatgpt_be_able_to_replace_agents/\n",
      "sent extraction over\n",
      "Response call\n",
      "Failed to retrieve https://customerthink.com/purposefully-designed-experiences-dont-happen-by-accident-interview-with-deborah-battaglia-of-assurant/: Status code 403\n"
     ]
    },
    {
     "name": "stderr",
     "output_type": "stream",
     "text": [
      "Your max_length is set to 50, but your input_length is only 3. Since this is a summarization task, where outputs shorter than the input are typically wanted, you might consider decreasing max_length manually, e.g. summarizer('...', max_length=1)\n"
     ]
    },
    {
     "name": "stdout",
     "output_type": "stream",
     "text": [
      "sent extraction over\n",
      "Response call\n",
      "Request timed out for https://www.nasdaq.com/articles/why-assurant-aiz-is-a-top-dividend-stock-for-your-portfolio. Attempting with Selenium.\n",
      "sent extraction over\n",
      "Response call\n"
     ]
    },
    {
     "name": "stderr",
     "output_type": "stream",
     "text": [
      "Your max_length is set to 50, but your input_length is only 3. Since this is a summarization task, where outputs shorter than the input are typically wanted, you might consider decreasing max_length manually, e.g. summarizer('...', max_length=1)\n"
     ]
    },
    {
     "name": "stdout",
     "output_type": "stream",
     "text": [
      "https://www.linkedin.com/posts/john-p-noonan_assurant-launches-abilitiesassurant-erg-activity-7120781267846995969-Fr6S?trk=public_profile_like_view\n",
      "sent extraction over\n",
      "Response call\n"
     ]
    },
    {
     "name": "stderr",
     "output_type": "stream",
     "text": [
      "Your max_length is set to 50, but your input_length is only 3. Since this is a summarization task, where outputs shorter than the input are typically wanted, you might consider decreasing max_length manually, e.g. summarizer('...', max_length=1)\n"
     ]
    },
    {
     "name": "stdout",
     "output_type": "stream",
     "text": [
      "https://www.theglobeandmail.com/investing/markets/stocks/AIZ-N/pressreleases/7140082/assurant-affirms-commitment-to-sustainability-environmental-transparency/\n",
      "sent extraction over\n",
      "Response call\n"
     ]
    },
    {
     "name": "stderr",
     "output_type": "stream",
     "text": [
      "Your max_length is set to 50, but your input_length is only 3. Since this is a summarization task, where outputs shorter than the input are typically wanted, you might consider decreasing max_length manually, e.g. summarizer('...', max_length=1)\n"
     ]
    },
    {
     "name": "stdout",
     "output_type": "stream",
     "text": [
      "https://www.stockoptionschannel.com/article/202312/agree-to-purchase-assurant-at-150-earn-5-annualized-using-options-aiz-AIZ12202023poptn.htm/\n",
      "sent extraction over\n",
      "Done\n",
      "CenterPoint Energy\n",
      "Calling the search\n",
      "Search complete\n",
      "Response call\n",
      "https://www.theretirementgroup.com/featured-article/5448097/centerpoint-energy-employees-can-chatgpt-help-with-your-budget\n",
      "sent extraction over\n",
      "Response call\n"
     ]
    },
    {
     "name": "stderr",
     "output_type": "stream",
     "text": [
      "Your max_length is set to 50, but your input_length is only 3. Since this is a summarization task, where outputs shorter than the input are typically wanted, you might consider decreasing max_length manually, e.g. summarizer('...', max_length=1)\n"
     ]
    },
    {
     "name": "stdout",
     "output_type": "stream",
     "text": [
      "https://www.askhandle.com/blog/how-to-contact-centerpoint-energy-customer-service\n",
      "sent extraction over\n",
      "Response call\n",
      "Request timed out for https://www.nasdaq.com/articles/heres-why-centerpoint-energy-cnp-is-a-strong-value-stock-1. Attempting with Selenium.\n",
      "sent extraction over\n",
      "Response call\n",
      "Request timed out for https://www.nasdaq.com/articles/centerpoint-energy-cnp-q1-earnings-beat-revenues-up-y-y. Attempting with Selenium.\n",
      "sent extraction over\n",
      "Response call\n"
     ]
    },
    {
     "name": "stderr",
     "output_type": "stream",
     "text": [
      "Your max_length is set to 50, but your input_length is only 3. Since this is a summarization task, where outputs shorter than the input are typically wanted, you might consider decreasing max_length manually, e.g. summarizer('...', max_length=1)\n"
     ]
    },
    {
     "name": "stdout",
     "output_type": "stream",
     "text": [
      "https://www.youtube.com/watch?v=HImhNA5TAy8\n",
      "sent extraction over\n",
      "Response call\n",
      "Failed to retrieve https://www.tipranks.com/news/centerpoint-energy-inc-is-worried-about-this-should-you-be-worried-too: Status code 503\n"
     ]
    },
    {
     "name": "stderr",
     "output_type": "stream",
     "text": [
      "Your max_length is set to 50, but your input_length is only 3. Since this is a summarization task, where outputs shorter than the input are typically wanted, you might consider decreasing max_length manually, e.g. summarizer('...', max_length=1)\n"
     ]
    },
    {
     "name": "stdout",
     "output_type": "stream",
     "text": [
      "sent extraction over\n",
      "Response call\n",
      "Request timed out for https://money.usnews.com/investing/news/articles/2023-10-26/centerpoint-energy-raises-full-year-profit-outlook-ceo-to-retire. Attempting with Selenium.\n"
     ]
    },
    {
     "name": "stderr",
     "output_type": "stream",
     "text": [
      "Your max_length is set to 50, but your input_length is only 3. Since this is a summarization task, where outputs shorter than the input are typically wanted, you might consider decreasing max_length manually, e.g. summarizer('...', max_length=1)\n"
     ]
    },
    {
     "name": "stdout",
     "output_type": "stream",
     "text": [
      "sent extraction over\n",
      "Response call\n",
      "Failed to retrieve https://www.spglobal.com/commodityinsights/en/market-insights/latest-news/electric-power/101623-power-of-ai-wild-predictions-of-power-demand-from-ai-put-industry-on-edge: Status code 403\n",
      "sent extraction over\n",
      "Done\n",
      "Harris\n",
      "Calling the search\n",
      "Search complete\n",
      "Response call\n",
      "Failed to retrieve https://www.startlandnews.com/2023/05/rider-harris-gobananas/: Status code 403\n",
      "sent extraction over\n",
      "Response call\n",
      "https://www.washingtonexaminer.com/opinion/952240/chatgpt-or-kamala-harris-you-decide/\n",
      "sent extraction over\n",
      "Response call\n",
      "https://keithharrishistory.com/keith-harris-history/chatgpt\n",
      "sent extraction over\n",
      "Response call\n",
      "https://keithharrishistory.com/keith-harris-history/2022/12/24/on-cheating-and-chatgpt\n",
      "sent extraction over\n",
      "Response call\n",
      "https://www.deseret.com/2023/5/4/23711104/white-house-kamala-harris-meets-with-google-microsoft-chatgpt-ai-artificial-intelligence-dangers/\n",
      "sent extraction over\n",
      "Response call\n"
     ]
    },
    {
     "name": "stderr",
     "output_type": "stream",
     "text": [
      "Your max_length is set to 50, but your input_length is only 18. Since this is a summarization task, where outputs shorter than the input are typically wanted, you might consider decreasing max_length manually, e.g. summarizer('...', max_length=9)\n"
     ]
    },
    {
     "name": "stdout",
     "output_type": "stream",
     "text": [
      "https://www.youtube.com/watch?v=GmlrEgLGozw\n",
      "sent extraction over\n",
      "Response call\n",
      "https://www.linkedin.com/posts/ainsleyharris_openai-unveils-new-gpt-4-language-model-that-activity-7041485731189456896-JoKQ?trk=public_profile_like_view\n",
      "sent extraction over\n",
      "Response call\n"
     ]
    },
    {
     "name": "stderr",
     "output_type": "stream",
     "text": [
      "Your max_length is set to 50, but your input_length is only 3. Since this is a summarization task, where outputs shorter than the input are typically wanted, you might consider decreasing max_length manually, e.g. summarizer('...', max_length=1)\n"
     ]
    },
    {
     "name": "stdout",
     "output_type": "stream",
     "text": [
      "https://www.reddit.com/r/samharris/comments/zbo6q7/chatgpt_write_a_script_where_sam_harris_explains/\n",
      "sent extraction over\n",
      "Done\n",
      "HD Supply Holdings\n",
      "Calling the search\n",
      "Search complete\n",
      "Response call\n"
     ]
    },
    {
     "name": "stderr",
     "output_type": "stream",
     "text": [
      "Your max_length is set to 50, but your input_length is only 3. Since this is a summarization task, where outputs shorter than the input are typically wanted, you might consider decreasing max_length manually, e.g. summarizer('...', max_length=1)\n"
     ]
    },
    {
     "name": "stdout",
     "output_type": "stream",
     "text": [
      "https://www.dividendchannel.com/symbol/hds/\n",
      "sent extraction over\n",
      "Response call\n",
      "Failed to retrieve https://www.digitalcommerce360.com/2020/11/16/home-depot-buys-back-hd-supply-for-about-8-billion/: Status code 403\n"
     ]
    },
    {
     "name": "stderr",
     "output_type": "stream",
     "text": [
      "Your max_length is set to 50, but your input_length is only 3. Since this is a summarization task, where outputs shorter than the input are typically wanted, you might consider decreasing max_length manually, e.g. summarizer('...', max_length=1)\n"
     ]
    },
    {
     "name": "stdout",
     "output_type": "stream",
     "text": [
      "sent extraction over\n",
      "Response call\n"
     ]
    },
    {
     "name": "stderr",
     "output_type": "stream",
     "text": [
      "Your max_length is set to 50, but your input_length is only 3. Since this is a summarization task, where outputs shorter than the input are typically wanted, you might consider decreasing max_length manually, e.g. summarizer('...', max_length=1)\n"
     ]
    },
    {
     "name": "stdout",
     "output_type": "stream",
     "text": [
      "https://www.bloomberg.com/opinion/articles/2020-11-20/home-depot-hd-supply-deal-is-the-kind-warren-buffett-saw-coming/1000\n",
      "sent extraction over\n",
      "Response call\n"
     ]
    },
    {
     "name": "stderr",
     "output_type": "stream",
     "text": [
      "Your max_length is set to 50, but your input_length is only 3. Since this is a summarization task, where outputs shorter than the input are typically wanted, you might consider decreasing max_length manually, e.g. summarizer('...', max_length=1)\n"
     ]
    },
    {
     "name": "stdout",
     "output_type": "stream",
     "text": [
      "https://www.bloomberg.com/news/articles/2013-06-27/hd-supply-cdw-mixed-in-debuts-after-ipos-price-at-lower-end\n",
      "sent extraction over\n",
      "Response call\n"
     ]
    },
    {
     "name": "stderr",
     "output_type": "stream",
     "text": [
      "Your max_length is set to 50, but your input_length is only 3. Since this is a summarization task, where outputs shorter than the input are typically wanted, you might consider decreasing max_length manually, e.g. summarizer('...', max_length=1)\n"
     ]
    },
    {
     "name": "stdout",
     "output_type": "stream",
     "text": [
      "https://presentationpoint.com/blog/category/reporting/\n",
      "sent extraction over\n",
      "Response call\n"
     ]
    },
    {
     "name": "stderr",
     "output_type": "stream",
     "text": [
      "Your max_length is set to 50, but your input_length is only 3. Since this is a summarization task, where outputs shorter than the input are typically wanted, you might consider decreasing max_length manually, e.g. summarizer('...', max_length=1)\n"
     ]
    },
    {
     "name": "stdout",
     "output_type": "stream",
     "text": [
      "https://www.euronews.com/next/2022/11/15/envestnet-impactivecapital\n",
      "sent extraction over\n",
      "Response call\n"
     ]
    },
    {
     "name": "stderr",
     "output_type": "stream",
     "text": [
      "Your max_length is set to 50, but your input_length is only 3. Since this is a summarization task, where outputs shorter than the input are typically wanted, you might consider decreasing max_length manually, e.g. summarizer('...', max_length=1)\n"
     ]
    },
    {
     "name": "stdout",
     "output_type": "stream",
     "text": [
      "https://presentationpoint.com/blog/category/aviation/\n",
      "sent extraction over\n",
      "Response call\n"
     ]
    },
    {
     "name": "stderr",
     "output_type": "stream",
     "text": [
      "Your max_length is set to 50, but your input_length is only 3. Since this is a summarization task, where outputs shorter than the input are typically wanted, you might consider decreasing max_length manually, e.g. summarizer('...', max_length=1)\n"
     ]
    },
    {
     "name": "stdout",
     "output_type": "stream",
     "text": [
      "https://www.theglobeandmail.com/investing/markets/stocks/VRT/pressreleases/10520616/\n",
      "sent extraction over\n",
      "Done\n",
      "PPL\n",
      "Calling the search\n",
      "Search complete\n",
      "Response call\n",
      "https://www.reddit.com/r/flying/comments/11fofd1/chatgpt_to_practice_for_ppl_written_and_check/\n",
      "sent extraction over\n",
      "Response call\n",
      "https://www.reddit.com/r/ChatGPTPro/comments/17xmjrt/i_have_created_a_community_dedicated_for_ppl_to/\n",
      "sent extraction over\n",
      "Response call\n",
      "https://www.linkedin.com/posts/leoson-hoay_chatgpt-checkride-examiner-faa-ppl-activity-7149842806096678912-4XLU\n",
      "sent extraction over\n",
      "Response call\n",
      "https://www.gptshunter.com/gpt-store/NTYyYzAzMzcxMDM4MzYwNzBk\n",
      "sent extraction over\n",
      "Response call\n",
      "https://www.instagram.com/brand.nat/reel/CxKP0TosGnj/\n",
      "sent extraction over\n",
      "Response call\n"
     ]
    },
    {
     "name": "stderr",
     "output_type": "stream",
     "text": [
      "Your max_length is set to 50, but your input_length is only 3. Since this is a summarization task, where outputs shorter than the input are typically wanted, you might consider decreasing max_length manually, e.g. summarizer('...', max_length=1)\n"
     ]
    },
    {
     "name": "stdout",
     "output_type": "stream",
     "text": [
      "https://www.tiktok.com/@joepopelas/video/7191663575218326790\n",
      "sent extraction over\n",
      "Response call\n",
      "https://www.theretirementgroup.com/featured-article/5448097/ppl-employees-can-chatgpt-help-with-your-budget\n",
      "sent extraction over\n",
      "Response call\n",
      "https://www.youtube.com/watch?v=yh_Ysctptyc\n",
      "sent extraction over\n",
      "Done\n",
      "Quest Diagnostics\n",
      "Calling the search\n",
      "Search complete\n",
      "Response call\n",
      "https://www.theretirementgroup.com/featured-article/5448097/quest-diagnostics-employees-can-chatgpt-help-with-your-budget\n",
      "sent extraction over\n",
      "Response call\n"
     ]
    },
    {
     "name": "stderr",
     "output_type": "stream",
     "text": [
      "Your max_length is set to 50, but your input_length is only 3. Since this is a summarization task, where outputs shorter than the input are typically wanted, you might consider decreasing max_length manually, e.g. summarizer('...', max_length=1)\n"
     ]
    },
    {
     "name": "stdout",
     "output_type": "stream",
     "text": [
      "https://www.zdnet.com/article/quest-diagnostics-explores-blockchain-as-a-way-to-improve-data-quality-and-sharing/\n",
      "sent extraction over\n",
      "Response call\n",
      "https://www.linkedin.com/posts/pack-health_download-the-white-paper-find-balance-between-activity-7126417775530516480-RLKb\n",
      "sent extraction over\n",
      "Response call\n",
      "Failed to retrieve https://mobile.twitter.com/Pack_Health/status/1622378292052361217: Status code 400\n"
     ]
    },
    {
     "name": "stderr",
     "output_type": "stream",
     "text": [
      "Your max_length is set to 50, but your input_length is only 3. Since this is a summarization task, where outputs shorter than the input are typically wanted, you might consider decreasing max_length manually, e.g. summarizer('...', max_length=1)\n"
     ]
    },
    {
     "name": "stdout",
     "output_type": "stream",
     "text": [
      "sent extraction over\n",
      "Response call\n",
      "https://www.news-medical.net/news/20130412/Matrix-Bio-Quest-Diagnostics-enter-global-licensing-agreement-for-metabolomic-biomarkers.aspx\n",
      "sent extraction over\n",
      "Response call\n"
     ]
    },
    {
     "name": "stderr",
     "output_type": "stream",
     "text": [
      "Your max_length is set to 50, but your input_length is only 3. Since this is a summarization task, where outputs shorter than the input are typically wanted, you might consider decreasing max_length manually, e.g. summarizer('...', max_length=1)\n"
     ]
    },
    {
     "name": "stdout",
     "output_type": "stream",
     "text": [
      "https://www.jdsupra.com/legalnews/quest-diagnostics-investments-llc-v-7799466/\n",
      "sent extraction over\n",
      "Response call\n"
     ]
    },
    {
     "name": "stderr",
     "output_type": "stream",
     "text": [
      "Your max_length is set to 50, but your input_length is only 3. Since this is a summarization task, where outputs shorter than the input are typically wanted, you might consider decreasing max_length manually, e.g. summarizer('...', max_length=1)\n"
     ]
    },
    {
     "name": "stdout",
     "output_type": "stream",
     "text": [
      "https://www.mobihealthnews.com/content/quest-diagnostics-mobile-app-compromised-breach-34000-records\n",
      "sent extraction over\n",
      "Response call\n",
      "Failed to retrieve https://www.insideprecisionmedicine.com/news-and-features/quest-to-partner-with-paige-ai-to-develop-ai-driven-digital-pathology-cancer-diagnostics/: Status code 403\n"
     ]
    },
    {
     "name": "stderr",
     "output_type": "stream",
     "text": [
      "Your max_length is set to 50, but your input_length is only 3. Since this is a summarization task, where outputs shorter than the input are typically wanted, you might consider decreasing max_length manually, e.g. summarizer('...', max_length=1)\n"
     ]
    },
    {
     "name": "stdout",
     "output_type": "stream",
     "text": [
      "sent extraction over\n",
      "Done\n",
      "Williams\n",
      "Calling the search\n",
      "Search complete\n",
      "Response call\n",
      "https://williamsrecord.com/463014/features/a-very-solid-and-admirable-c-instructors-respond-to-the-use-of-chatgpt-at-the-college/\n",
      "sent extraction over\n",
      "Response call\n"
     ]
    },
    {
     "name": "stderr",
     "output_type": "stream",
     "text": [
      "Your max_length is set to 50, but your input_length is only 48. Since this is a summarization task, where outputs shorter than the input are typically wanted, you might consider decreasing max_length manually, e.g. summarizer('...', max_length=24)\n"
     ]
    },
    {
     "name": "stdout",
     "output_type": "stream",
     "text": [
      "https://www.reddit.com/r/sherwinwilliams/comments/135vaat/sherwin_williams_bans_all_use_of_chatgpt_what_do/\n",
      "sent extraction over\n",
      "Response call\n",
      "https://williamsrecord.com/465431/news/honor-and-discipline-committee-college-contend-with-rising-ai-cases/\n",
      "sent extraction over\n",
      "Response call\n",
      "Failed to retrieve https://matthewkaras.medium.com/the-limitations-of-chatgpt-two-related-observations-williams-syndrome-and-wittgenstein-on-meaning-81fcea7d9d0: Status code 403\n",
      "sent extraction over\n",
      "Response call\n",
      "https://www.williamscommerce.com/chatgpt-power-session/\n",
      "sent extraction over\n",
      "Response call\n",
      "https://bm.linkedin.com/posts/noah-williams-6a03562b_everyone-is-using-chatgpt-and-it-does-a-activity-7006334180674412544-rUG_\n",
      "sent extraction over\n",
      "Response call\n",
      "https://jfwco.com/insights/from-jim-williams-ai-and-chatgpt\n",
      "sent extraction over\n",
      "Response call\n",
      "https://www.linkedin.com/posts/jeff-williams-developer_chatgpt-skeptical-analyst-activity-7157688443030958080-Mfo5\n",
      "sent extraction over\n",
      "Done\n",
      "WEC Energy Group\n",
      "Calling the search\n",
      "Search complete\n",
      "Response call\n",
      "https://www.theretirementgroup.com/featured-article/5448097/wec-energy-group-employees-can-chatgpt-help-with-your-budget\n",
      "sent extraction over\n",
      "Response call\n"
     ]
    },
    {
     "name": "stderr",
     "output_type": "stream",
     "text": [
      "Your max_length is set to 50, but your input_length is only 3. Since this is a summarization task, where outputs shorter than the input are typically wanted, you might consider decreasing max_length manually, e.g. summarizer('...', max_length=1)\n"
     ]
    },
    {
     "name": "stdout",
     "output_type": "stream",
     "text": [
      "https://altindex.com/ticker/wec/ai-stock-analysis\n",
      "sent extraction over\n",
      "Response call\n",
      "Request timed out for https://www.nasdaq.com/articles/wec-energy-group-wec-matches-q4-earnings-estimates. Attempting with Selenium.\n",
      "sent extraction over\n",
      "Response call\n"
     ]
    },
    {
     "name": "stderr",
     "output_type": "stream",
     "text": [
      "Your max_length is set to 50, but your input_length is only 3. Since this is a summarization task, where outputs shorter than the input are typically wanted, you might consider decreasing max_length manually, e.g. summarizer('...', max_length=1)\n"
     ]
    },
    {
     "name": "stdout",
     "output_type": "stream",
     "text": [
      "https://coincodex.com/stocks/how-to-buy-WEC\n",
      "sent extraction over\n",
      "Response call\n",
      "Failed to retrieve https://www.tipranks.com/news/company-announcements/wec-energy-group-enhances-investor-relations-with-meetings: Status code 503\n"
     ]
    },
    {
     "name": "stderr",
     "output_type": "stream",
     "text": [
      "Your max_length is set to 50, but your input_length is only 3. Since this is a summarization task, where outputs shorter than the input are typically wanted, you might consider decreasing max_length manually, e.g. summarizer('...', max_length=1)\n"
     ]
    },
    {
     "name": "stdout",
     "output_type": "stream",
     "text": [
      "sent extraction over\n",
      "Response call\n"
     ]
    },
    {
     "name": "stderr",
     "output_type": "stream",
     "text": [
      "Your max_length is set to 50, but your input_length is only 3. Since this is a summarization task, where outputs shorter than the input are typically wanted, you might consider decreasing max_length manually, e.g. summarizer('...', max_length=1)\n"
     ]
    },
    {
     "name": "stdout",
     "output_type": "stream",
     "text": [
      "https://www.marketbeat.com/instant-alerts/nyse-wec-sec-filing-2024-03-09/\n",
      "sent extraction over\n",
      "Response call\n",
      "Request timed out for https://www.nasdaq.com/articles/analysts-estimate-wec-energy-group-wec-to-report-a-decline-in-earnings:-what-to-look-out-3. Attempting with Selenium.\n",
      "sent extraction over\n",
      "Response call\n"
     ]
    },
    {
     "name": "stderr",
     "output_type": "stream",
     "text": [
      "Your max_length is set to 50, but your input_length is only 3. Since this is a summarization task, where outputs shorter than the input are typically wanted, you might consider decreasing max_length manually, e.g. summarizer('...', max_length=1)\n"
     ]
    },
    {
     "name": "stdout",
     "output_type": "stream",
     "text": [
      "https://wisconsintechnologycouncil.com/newsroom/page/47/?ID=2477&et_blog\n",
      "sent extraction over\n",
      "Done\n",
      "Hershey\n",
      "Calling the search\n",
      "Search complete\n",
      "Response call\n",
      "Failed to retrieve https://xtalks.com/hersheys-new-plant-based-reeses-and-chocolate-bar-ai-and-chatgpt-in-the-food-industry-xtalks-life-food-podcast-ep-101/: Status code 403\n",
      "sent extraction over\n",
      "Response call\n",
      "https://www.theretirementgroup.com/featured-article/5448097/hershey-employees-can-chatgpt-help-with-your-budget\n",
      "sent extraction over\n",
      "Response call\n",
      "Failed to retrieve https://www.techrepublic.com/article/how-hershey-used-the-cloud-to-deploy-iot-and-machine-learning-without-a-data-scientist/: Status code 406\n"
     ]
    },
    {
     "name": "stderr",
     "output_type": "stream",
     "text": [
      "Your max_length is set to 50, but your input_length is only 3. Since this is a summarization task, where outputs shorter than the input are typically wanted, you might consider decreasing max_length manually, e.g. summarizer('...', max_length=1)\n"
     ]
    },
    {
     "name": "stdout",
     "output_type": "stream",
     "text": [
      "sent extraction over\n",
      "Response call\n",
      "https://www.linkedin.com/posts/matthewdaniell_chatgpt-released-their-agents-called-gpt-activity-7127799319050522624-RXiF\n",
      "sent extraction over\n",
      "Response call\n",
      "https://neptune.ai/blog/future-of-mlops-and-gpt-3-with-david-hershey\n",
      "sent extraction over\n",
      "Response call\n"
     ]
    },
    {
     "name": "stderr",
     "output_type": "stream",
     "text": [
      "Your max_length is set to 50, but your input_length is only 3. Since this is a summarization task, where outputs shorter than the input are typically wanted, you might consider decreasing max_length manually, e.g. summarizer('...', max_length=1)\n"
     ]
    },
    {
     "name": "stdout",
     "output_type": "stream",
     "text": [
      "https://www.ciodive.com/news/Hershey-appoints-CTO-Deepak-Bhatia/694144/\n",
      "sent extraction over\n",
      "Response call\n",
      "https://www.linkedin.com/posts/melinda-hershey_how-to-actually-use-chatgpt-to-its-full-activity-7020102663753146368-znkq\n",
      "sent extraction over\n",
      "Response call\n",
      "Failed to retrieve https://xtalks.com/hershey-launches-plant-based-peanut-butter-cups-and-chocolate-bars-3399/: Status code 403\n"
     ]
    },
    {
     "name": "stderr",
     "output_type": "stream",
     "text": [
      "Your max_length is set to 50, but your input_length is only 3. Since this is a summarization task, where outputs shorter than the input are typically wanted, you might consider decreasing max_length manually, e.g. summarizer('...', max_length=1)\n"
     ]
    },
    {
     "name": "stdout",
     "output_type": "stream",
     "text": [
      "sent extraction over\n",
      "Done\n",
      "AGCO\n",
      "Calling the search\n",
      "Search complete\n",
      "Response call\n",
      "https://www.theretirementgroup.com/featured-article/5448097/agco-employees-can-chatgpt-help-with-your-budget\n",
      "sent extraction over\n",
      "Response call\n",
      "https://www.agriculture.com/slug-placeholder-8405144\n",
      "sent extraction over\n",
      "Response call\n",
      "https://tippie.uiowa.edu/news/2024/02/ai-optimists\n",
      "sent extraction over\n",
      "Response call\n"
     ]
    },
    {
     "name": "stderr",
     "output_type": "stream",
     "text": [
      "Your max_length is set to 50, but your input_length is only 3. Since this is a summarization task, where outputs shorter than the input are typically wanted, you might consider decreasing max_length manually, e.g. summarizer('...', max_length=1)\n"
     ]
    },
    {
     "name": "stdout",
     "output_type": "stream",
     "text": [
      "https://altindex.com/ticker/agco/ai-stock-analysis\n",
      "sent extraction over\n",
      "Response call\n"
     ]
    },
    {
     "name": "stderr",
     "output_type": "stream",
     "text": [
      "Your max_length is set to 50, but your input_length is only 3. Since this is a summarization task, where outputs shorter than the input are typically wanted, you might consider decreasing max_length manually, e.g. summarizer('...', max_length=1)\n"
     ]
    },
    {
     "name": "stdout",
     "output_type": "stream",
     "text": [
      "https://www.linkedin.com/posts/kassem_artificialintelligence-chatgpt-activity-7029947121902514176-6hyK\n",
      "sent extraction over\n",
      "Response call\n"
     ]
    },
    {
     "name": "stderr",
     "output_type": "stream",
     "text": [
      "Your max_length is set to 50, but your input_length is only 3. Since this is a summarization task, where outputs shorter than the input are typically wanted, you might consider decreasing max_length manually, e.g. summarizer('...', max_length=1)\n"
     ]
    },
    {
     "name": "stdout",
     "output_type": "stream",
     "text": [
      "https://www.aglaw.us/janzenaglaw/tag/AGCO\n",
      "sent extraction over\n",
      "Response call\n"
     ]
    },
    {
     "name": "stderr",
     "output_type": "stream",
     "text": [
      "Your max_length is set to 50, but your input_length is only 3. Since this is a summarization task, where outputs shorter than the input are typically wanted, you might consider decreasing max_length manually, e.g. summarizer('...', max_length=1)\n"
     ]
    },
    {
     "name": "stdout",
     "output_type": "stream",
     "text": [
      "https://www.msn.com/en-us/money/news/what-to-know-about-goldman-sachss-downgrade-of-agco/ar-AA19qvqp\n",
      "sent extraction over\n",
      "Response call\n"
     ]
    },
    {
     "name": "stderr",
     "output_type": "stream",
     "text": [
      "Your max_length is set to 50, but your input_length is only 3. Since this is a summarization task, where outputs shorter than the input are typically wanted, you might consider decreasing max_length manually, e.g. summarizer('...', max_length=1)\n"
     ]
    },
    {
     "name": "stdout",
     "output_type": "stream",
     "text": [
      "https://www.youtube.com/watch?v=snpJGcFL0eg\n",
      "sent extraction over\n",
      "Done\n",
      "Ralph Lauren\n",
      "Calling the search\n",
      "Search complete\n",
      "Response call\n",
      "https://www.theretirementgroup.com/featured-article/5448097/ralph-lauren-employees-can-chatgpt-help-with-your-budget\n",
      "sent extraction over\n",
      "Response call\n",
      "https://logicinfo.com/ralph-lauren-maurices-and-bealls-execs-tackle-ai-for-retail-2/\n",
      "sent extraction over\n",
      "Response call\n",
      "Request timed out for https://www.nasdaq.com/articles/heres-why-ralph-lauren-rl-is-rallying-ahead-of-the-industry. Attempting with Selenium.\n",
      "sent extraction over\n",
      "Response call\n",
      "https://www.linkedin.com/posts/martinswant_ralph-lauren-is-now-selling-digital-apparel-activity-6836432175424962560-k1gM\n",
      "sent extraction over\n",
      "Response call\n",
      "https://investorplace.com/2011/04/polo-ralph-lauren-3-pros-3-cons/\n",
      "sent extraction over\n",
      "Response call\n"
     ]
    },
    {
     "name": "stderr",
     "output_type": "stream",
     "text": [
      "Your max_length is set to 50, but your input_length is only 3. Since this is a summarization task, where outputs shorter than the input are typically wanted, you might consider decreasing max_length manually, e.g. summarizer('...', max_length=1)\n"
     ]
    },
    {
     "name": "stdout",
     "output_type": "stream",
     "text": [
      "https://www.designboom.com/technology/ralph-lauren-tech-polo-biometrics-us-open/\n",
      "sent extraction over\n",
      "Response call\n",
      "https://www.linkedin.com/posts/ashibhat_ralph-laurens-ceo-points-to-two-key-investment-activity-7100653437733769216-HQQ1\n",
      "sent extraction over\n",
      "Response call\n"
     ]
    },
    {
     "name": "stderr",
     "output_type": "stream",
     "text": [
      "Your max_length is set to 50, but your input_length is only 3. Since this is a summarization task, where outputs shorter than the input are typically wanted, you might consider decreasing max_length manually, e.g. summarizer('...', max_length=1)\n"
     ]
    },
    {
     "name": "stdout",
     "output_type": "stream",
     "text": [
      "https://www.youtube.com/watch?v=EdN8SR44YM4\n",
      "sent extraction over\n",
      "Done\n",
      "Masco\n",
      "Calling the search\n",
      "Search complete\n",
      "Response call\n"
     ]
    },
    {
     "name": "stderr",
     "output_type": "stream",
     "text": [
      "Your max_length is set to 50, but your input_length is only 3. Since this is a summarization task, where outputs shorter than the input are typically wanted, you might consider decreasing max_length manually, e.g. summarizer('...', max_length=1)\n"
     ]
    },
    {
     "name": "stdout",
     "output_type": "stream",
     "text": [
      "https://altindex.com/ticker/mas/ai-stock-analysis\n",
      "sent extraction over\n",
      "Response call\n",
      "https://www.theretirementgroup.com/featured-article/5448097/masco-employees-can-chatgpt-help-with-your-budget\n",
      "sent extraction over\n",
      "Response call\n",
      "Request timed out for https://www.nasdaq.com/articles/why-masco-mas-is-a-top-growth-stock-for-the-long-term. Attempting with Selenium.\n",
      "sent extraction over\n",
      "Response call\n",
      "Request timed out for https://www.nasdaq.com/articles/masco-mas-earnings-expected-to-grow:-should-you-buy. Attempting with Selenium.\n",
      "sent extraction over\n",
      "Response call\n",
      "Failed to retrieve https://medium.com/touchdownvc/masco-launches-50-million-corporate-venture-capital-fund-2eda742636b8: Status code 403\n"
     ]
    },
    {
     "name": "stderr",
     "output_type": "stream",
     "text": [
      "Your max_length is set to 50, but your input_length is only 3. Since this is a summarization task, where outputs shorter than the input are typically wanted, you might consider decreasing max_length manually, e.g. summarizer('...', max_length=1)\n"
     ]
    },
    {
     "name": "stdout",
     "output_type": "stream",
     "text": [
      "sent extraction over\n",
      "Response call\n",
      "https://investorplace.com/2011/06/shorts-sprint-masco-office-depot-mas-s-wmt-odp-spls-vz/\n",
      "sent extraction over\n",
      "Response call\n",
      "https://www.linkedin.com/posts/saviovadakkan_chatgpt-google-chatgptai-activity-7028475360656691200-kRrG\n",
      "sent extraction over\n",
      "Response call\n"
     ]
    },
    {
     "name": "stderr",
     "output_type": "stream",
     "text": [
      "Your max_length is set to 50, but your input_length is only 3. Since this is a summarization task, where outputs shorter than the input are typically wanted, you might consider decreasing max_length manually, e.g. summarizer('...', max_length=1)\n"
     ]
    },
    {
     "name": "stdout",
     "output_type": "stream",
     "text": [
      "https://www.scamadviser.com/check-website/masco.com\n",
      "sent extraction over\n",
      "Done\n",
      "WESCO International\n",
      "Calling the search\n",
      "Search complete\n",
      "Response call\n",
      "https://www.theretirementgroup.com/featured-article/5448097/wesco-international-employees-can-chatgpt-help-with-your-budget\n",
      "sent extraction over\n",
      "Response call\n",
      "Request timed out for https://www.nasdaq.com/articles/wesco-international-wcc-beats-q1-earnings-and-revenue-estimates. Attempting with Selenium.\n",
      "sent extraction over\n",
      "Response call\n",
      "Request timed out for https://www.nasdaq.com/articles/wesco-wcc-q4-earnings-lag-estimates-revenues-dip-y-y. Attempting with Selenium.\n",
      "sent extraction over\n",
      "Response call\n",
      "Failed to retrieve https://electricaltrends.com/2022/05/18/wesco-rockwell-sell-cyber-security-services/: Status code 406\n"
     ]
    },
    {
     "name": "stderr",
     "output_type": "stream",
     "text": [
      "Your max_length is set to 50, but your input_length is only 3. Since this is a summarization task, where outputs shorter than the input are typically wanted, you might consider decreasing max_length manually, e.g. summarizer('...', max_length=1)\n"
     ]
    },
    {
     "name": "stdout",
     "output_type": "stream",
     "text": [
      "sent extraction over\n",
      "Response call\n",
      "https://www.wesco.com/us/en/knowledge-hub/articles/tech-in-2024-predictions-and-wild-guesses.html\n",
      "sent extraction over\n",
      "Response call\n"
     ]
    },
    {
     "name": "stderr",
     "output_type": "stream",
     "text": [
      "Your max_length is set to 50, but your input_length is only 3. Since this is a summarization task, where outputs shorter than the input are typically wanted, you might consider decreasing max_length manually, e.g. summarizer('...', max_length=1)\n"
     ]
    },
    {
     "name": "stdout",
     "output_type": "stream",
     "text": [
      "https://www.marketbeat.com/instant-alerts/nyse-wcc-analyst-earnings-estimates-2024-03-08/\n",
      "sent extraction over\n",
      "Response call\n",
      "https://www.arkansasonline.com/news/2023/may/04/walmart-now-using-ai-for-some-vendor-deals/\n",
      "sent extraction over\n",
      "Response call\n",
      "Failed to retrieve https://electricaltrends.com/tag/wesco/: Status code 406\n"
     ]
    },
    {
     "name": "stderr",
     "output_type": "stream",
     "text": [
      "Your max_length is set to 50, but your input_length is only 3. Since this is a summarization task, where outputs shorter than the input are typically wanted, you might consider decreasing max_length manually, e.g. summarizer('...', max_length=1)\n"
     ]
    },
    {
     "name": "stdout",
     "output_type": "stream",
     "text": [
      "sent extraction over\n",
      "Done\n",
      "LifePoint Health\n",
      "Calling the search\n",
      "Search complete\n",
      "Response call\n",
      "Failed to retrieve https://www.beckershospitalreview.com/digital-health/intermountain-lifepoint-trinity-health-what-the-top-ranked-systems-for-digital-health-do-differently.html: Status code 403\n"
     ]
    },
    {
     "name": "stderr",
     "output_type": "stream",
     "text": [
      "Your max_length is set to 50, but your input_length is only 3. Since this is a summarization task, where outputs shorter than the input are typically wanted, you might consider decreasing max_length manually, e.g. summarizer('...', max_length=1)\n"
     ]
    },
    {
     "name": "stdout",
     "output_type": "stream",
     "text": [
      "sent extraction over\n",
      "Response call\n",
      "Failed to retrieve https://www.beckershospitalreview.com/digital-health/intermountain-lifepoint-trinity-health-what-the-top-ranked-systems-for-digital-health-do-differently: Status code 403\n"
     ]
    },
    {
     "name": "stderr",
     "output_type": "stream",
     "text": [
      "Your max_length is set to 50, but your input_length is only 3. Since this is a summarization task, where outputs shorter than the input are typically wanted, you might consider decreasing max_length manually, e.g. summarizer('...', max_length=1)\n"
     ]
    },
    {
     "name": "stdout",
     "output_type": "stream",
     "text": [
      "sent extraction over\n",
      "Response call\n"
     ]
    },
    {
     "name": "stderr",
     "output_type": "stream",
     "text": [
      "Your max_length is set to 50, but your input_length is only 3. Since this is a summarization task, where outputs shorter than the input are typically wanted, you might consider decreasing max_length manually, e.g. summarizer('...', max_length=1)\n"
     ]
    },
    {
     "name": "stdout",
     "output_type": "stream",
     "text": [
      "https://www.linkedin.com/posts/griffinderek_lifepoint-health-and-ascension-saint-thomas-activity-7137831193374314497-mmWY\n",
      "sent extraction over\n",
      "Response call\n",
      "https://www.linkedin.com/posts/stephgeissinger_loyal-introduces-innovative-multi-experience-activity-6858467972948787200-Eba9\n",
      "sent extraction over\n",
      "Response call\n",
      "https://evidence.care/chatgpt-in-healthcare/\n",
      "sent extraction over\n",
      "Response call\n",
      "https://aiin.healthcare/newsletter/2023-06-20/ai-takes-difficult-diagnoses-ai-newsmakers\n",
      "sent extraction over\n",
      "Response call\n",
      "Failed to retrieve https://healthitanalytics.com/news/google-shares-health-ai-large-language-model-research-updates: Status code 403\n",
      "sent extraction over\n",
      "Response call\n",
      "Failed to retrieve https://www.fiercehealthcare.com/ai-and-machine-learning/cvs-mayo-clinic-spark-capital-back-abridges-30m-round-scale-generative-ai: Status code 403\n",
      "sent extraction over\n",
      "Done\n",
      "National Oilwell Varco\n",
      "Calling the search\n",
      "Search complete\n",
      "Response call\n",
      "https://mu.linkedin.com/posts/graham-h-1550082a_chatgpt-and-plc-programming-activity-7029172595216318464-mLs5\n",
      "sent extraction over\n",
      "Response call\n",
      "Failed to retrieve https://venturebeat.com/security/how-enterprises-are-using-gen-ai-to-protect-against-chatgpt-leaks/: Status code 403\n",
      "sent extraction over\n",
      "Response call\n",
      "Failed to retrieve https://venturebeat.com/security/protecting-data-in-the-era-of-generative-ai-nightfall-ai-launches-innovative-security-platform/: Status code 403\n",
      "sent extraction over\n",
      "Response call\n",
      "https://aicenter.ai/blogs/ai-business-use-case-in-human-resource-employee-training-and-development\n",
      "sent extraction over\n",
      "Response call\n"
     ]
    },
    {
     "name": "stderr",
     "output_type": "stream",
     "text": [
      "Your max_length is set to 50, but your input_length is only 3. Since this is a summarization task, where outputs shorter than the input are typically wanted, you might consider decreasing max_length manually, e.g. summarizer('...', max_length=1)\n"
     ]
    },
    {
     "name": "stdout",
     "output_type": "stream",
     "text": [
      "https://www.stockgumshoe.com/2014/03/p-s-i-just-bought-a-few-shares/\n",
      "sent extraction over\n",
      "Response call\n",
      "https://www.linkedin.com/posts/sakets_the-success-of-chatgpt-has-many-companies-activity-7048309651423072256-DuxV\n",
      "sent extraction over\n",
      "Response call\n",
      "Failed to retrieve https://www.hklaw.com/en/insights/publications/2016/05/state-supreme-court-protects-trade-secrets-from-di: Status code 403\n"
     ]
    },
    {
     "name": "stderr",
     "output_type": "stream",
     "text": [
      "Your max_length is set to 50, but your input_length is only 3. Since this is a summarization task, where outputs shorter than the input are typically wanted, you might consider decreasing max_length manually, e.g. summarizer('...', max_length=1)\n"
     ]
    },
    {
     "name": "stdout",
     "output_type": "stream",
     "text": [
      "sent extraction over\n",
      "Response call\n"
     ]
    },
    {
     "name": "stderr",
     "output_type": "stream",
     "text": [
      "Your max_length is set to 50, but your input_length is only 3. Since this is a summarization task, where outputs shorter than the input are typically wanted, you might consider decreasing max_length manually, e.g. summarizer('...', max_length=1)\n"
     ]
    },
    {
     "name": "stdout",
     "output_type": "stream",
     "text": [
      "https://www.lexology.com/library/detail.aspx?g=355ff450-66a9-46fe-a1b8-9bbf00c50370\n",
      "sent extraction over\n",
      "Done\n",
      "Kindred Healthcare\n",
      "Calling the search\n",
      "Search complete\n",
      "Response call\n"
     ]
    },
    {
     "name": "stderr",
     "output_type": "stream",
     "text": [
      "Your max_length is set to 50, but your input_length is only 3. Since this is a summarization task, where outputs shorter than the input are typically wanted, you might consider decreasing max_length manually, e.g. summarizer('...', max_length=1)\n"
     ]
    },
    {
     "name": "stdout",
     "output_type": "stream",
     "text": [
      "https://www.linkedin.com/posts/brian-lebanion-a746171b_ux-lessons-from-chatgpt-activity-7141580908796530688-B4gV\n",
      "sent extraction over\n",
      "Response call\n",
      "Failed to retrieve https://www.tatlerasia.com/gen-t/innovation/kindred-celebrates-its-first-anniversary-by-launching-an-app: Status code 403\n",
      "sent extraction over\n",
      "Response call\n"
     ]
    },
    {
     "name": "stderr",
     "output_type": "stream",
     "text": [
      "Your max_length is set to 50, but your input_length is only 3. Since this is a summarization task, where outputs shorter than the input are typically wanted, you might consider decreasing max_length manually, e.g. summarizer('...', max_length=1)\n"
     ]
    },
    {
     "name": "stdout",
     "output_type": "stream",
     "text": [
      "https://www.linkedin.com/posts/bryanpowrozek_ux-lessons-from-chatgpt-activity-7140843384969113600-DWTp\n",
      "sent extraction over\n",
      "Response call\n",
      "Failed to retrieve https://medium.com/@cloudingo/how-to-integrate-salesforce-with-external-systems-and-keep-things-in-sync-c564650aaa7d: Status code 403\n"
     ]
    },
    {
     "name": "stderr",
     "output_type": "stream",
     "text": [
      "Your max_length is set to 50, but your input_length is only 3. Since this is a summarization task, where outputs shorter than the input are typically wanted, you might consider decreasing max_length manually, e.g. summarizer('...', max_length=1)\n"
     ]
    },
    {
     "name": "stdout",
     "output_type": "stream",
     "text": [
      "sent extraction over\n",
      "Response call\n"
     ]
    },
    {
     "name": "stderr",
     "output_type": "stream",
     "text": [
      "Your max_length is set to 50, but your input_length is only 3. Since this is a summarization task, where outputs shorter than the input are typically wanted, you might consider decreasing max_length manually, e.g. summarizer('...', max_length=1)\n"
     ]
    },
    {
     "name": "stdout",
     "output_type": "stream",
     "text": [
      "https://investorplace.com/2014/08/hottest-healthcare-stocks-now-cldx-knd-pdli-mnkd-cldx-knd-pdli/\n",
      "sent extraction over\n",
      "Response call\n",
      "https://www.lexology.com/library/detail.aspx?g=f0ddcb00-4031-4e04-a341-3878f4a5dc85\n",
      "sent extraction over\n",
      "Response call\n",
      "https://www.fticonsulting.com/insights/articles/evolution-primary-care-delivery\n",
      "sent extraction over\n",
      "Response call\n",
      "Failed to retrieve https://ehealthcarestrategy.com/author/matt-humphrey/: Status code 403\n"
     ]
    },
    {
     "name": "stderr",
     "output_type": "stream",
     "text": [
      "Your max_length is set to 50, but your input_length is only 3. Since this is a summarization task, where outputs shorter than the input are typically wanted, you might consider decreasing max_length manually, e.g. summarizer('...', max_length=1)\n"
     ]
    },
    {
     "name": "stdout",
     "output_type": "stream",
     "text": [
      "sent extraction over\n",
      "Done\n",
      "Mosaic\n",
      "Calling the search\n",
      "Search complete\n",
      "Response call\n",
      "Failed to retrieve https://education.virginia.edu/research-initiatives/research-centers-labs/research-labs/supporting-teachers-through-coaching-observations-and-multimedia-education-students-disabilities/project-mosaic: Status code 403\n",
      "sent extraction over\n",
      "Response call\n"
     ]
    },
    {
     "name": "stderr",
     "output_type": "stream",
     "text": [
      "Your max_length is set to 50, but your input_length is only 48. Since this is a summarization task, where outputs shorter than the input are typically wanted, you might consider decreasing max_length manually, e.g. summarizer('...', max_length=24)\n"
     ]
    },
    {
     "name": "stdout",
     "output_type": "stream",
     "text": [
      "https://chat.openai.com/g/g-WH9hhPtFd-mosaic-explorer\n",
      "sent extraction over\n",
      "Response call\n",
      "https://diginomica.com/microsoft-build-past-present-and-future-chatgpt-show-microsofts-mosaic-moment-takes-center-stage\n",
      "sent extraction over\n",
      "Response call\n"
     ]
    },
    {
     "name": "stderr",
     "output_type": "stream",
     "text": [
      "Your max_length is set to 50, but your input_length is only 24. Since this is a summarization task, where outputs shorter than the input are typically wanted, you might consider decreasing max_length manually, e.g. summarizer('...', max_length=12)\n"
     ]
    },
    {
     "name": "stdout",
     "output_type": "stream",
     "text": [
      "https://www.youtube.com/watch?v=--xn7CKkSpk\n",
      "sent extraction over\n",
      "Response call\n",
      "https://www.solunacomputing.com/blog/chatgpt-mosaic/\n",
      "sent extraction over\n",
      "Response call\n",
      "https://zapier.com/apps/mosaic/integrations/chatgpt\n",
      "sent extraction over\n",
      "Response call\n",
      "https://chat.openai.com/g/g-AeEPpdIcT-image-mosaic\n",
      "sent extraction over\n",
      "Response call\n",
      "https://www.theretirementgroup.com/featured-article/5448097/mosaic-employees-can-chatgpt-help-with-your-budget\n",
      "sent extraction over\n",
      "Done\n",
      "Alliance Data Systems\n",
      "Calling the search\n",
      "Search complete\n",
      "Response call\n"
     ]
    },
    {
     "name": "stderr",
     "output_type": "stream",
     "text": [
      "Your max_length is set to 50, but your input_length is only 3. Since this is a summarization task, where outputs shorter than the input are typically wanted, you might consider decreasing max_length manually, e.g. summarizer('...', max_length=1)\n"
     ]
    },
    {
     "name": "stdout",
     "output_type": "stream",
     "text": [
      "https://chiefmarketer.com/alliance-data-systems-buys-frequency-marketing/\n",
      "sent extraction over\n",
      "Response call\n"
     ]
    },
    {
     "name": "stderr",
     "output_type": "stream",
     "text": [
      "Your max_length is set to 50, but your input_length is only 3. Since this is a summarization task, where outputs shorter than the input are typically wanted, you might consider decreasing max_length manually, e.g. summarizer('...', max_length=1)\n"
     ]
    },
    {
     "name": "stdout",
     "output_type": "stream",
     "text": [
      "https://chiefmarketer.com/alliance-data-austin-extend-contract/\n",
      "sent extraction over\n",
      "Response call\n",
      "https://www.crmbuyer.com/story/blackstone-snags-alliance-data-for-7-8b-57434.html?cat_id=76\n",
      "sent extraction over\n",
      "Response call\n",
      "Failed to retrieve https://finance.yahoo.com/quote/BFH/reports/: Status code 404\n"
     ]
    },
    {
     "name": "stderr",
     "output_type": "stream",
     "text": [
      "Your max_length is set to 50, but your input_length is only 3. Since this is a summarization task, where outputs shorter than the input are typically wanted, you might consider decreasing max_length manually, e.g. summarizer('...', max_length=1)\n"
     ]
    },
    {
     "name": "stdout",
     "output_type": "stream",
     "text": [
      "sent extraction over\n",
      "Response call\n"
     ]
    },
    {
     "name": "stderr",
     "output_type": "stream",
     "text": [
      "Your max_length is set to 50, but your input_length is only 3. Since this is a summarization task, where outputs shorter than the input are typically wanted, you might consider decreasing max_length manually, e.g. summarizer('...', max_length=1)\n"
     ]
    },
    {
     "name": "stdout",
     "output_type": "stream",
     "text": [
      "https://www.bloomberg.com/news/articles/2014-09-11/alliance-data-to-buy-conversant-for-advertising-technology\n",
      "sent extraction over\n",
      "Response call\n",
      "Failed to retrieve https://www.tipranks.com/stocks/ads/forecast: Status code 503\n"
     ]
    },
    {
     "name": "stderr",
     "output_type": "stream",
     "text": [
      "Your max_length is set to 50, but your input_length is only 3. Since this is a summarization task, where outputs shorter than the input are typically wanted, you might consider decreasing max_length manually, e.g. summarizer('...', max_length=1)\n"
     ]
    },
    {
     "name": "stdout",
     "output_type": "stream",
     "text": [
      "sent extraction over\n",
      "Response call\n"
     ]
    },
    {
     "name": "stderr",
     "output_type": "stream",
     "text": [
      "Your max_length is set to 50, but your input_length is only 3. Since this is a summarization task, where outputs shorter than the input are typically wanted, you might consider decreasing max_length manually, e.g. summarizer('...', max_length=1)\n"
     ]
    },
    {
     "name": "stdout",
     "output_type": "stream",
     "text": [
      "https://www.zdnet.com/article/nielsen-global-connect-buys-loyalty-analytics-platform-precima/\n",
      "sent extraction over\n",
      "Response call\n"
     ]
    },
    {
     "name": "stderr",
     "output_type": "stream",
     "text": [
      "Your max_length is set to 50, but your input_length is only 3. Since this is a summarization task, where outputs shorter than the input are typically wanted, you might consider decreasing max_length manually, e.g. summarizer('...', max_length=1)\n"
     ]
    },
    {
     "name": "stdout",
     "output_type": "stream",
     "text": [
      "https://fortune.com/videos/watch/alliance-data-ceo%3A-you-can-tell-a-lot-about-someone-by-how-they-handle-failure/670170a6-4f4f-4566-afca-340c58774ada\n",
      "sent extraction over\n",
      "Done\n",
      "Computer Sciences\n",
      "Calling the search\n",
      "Search complete\n",
      "Response call\n",
      "https://arxiv.org/html/2402.01640v1\n",
      "sent extraction over\n",
      "Response call\n",
      "https://www.mdpi.com/2227-7390/12/5/629\n",
      "sent extraction over\n",
      "Response call\n",
      "https://www.mdpi.com/2227-7102/13/9/924\n",
      "sent extraction over\n",
      "Response call\n",
      "https://www.linkedin.com/posts/manning-cics_highereducation-ai-computerscience-activity-7115082341466664960-wZbx\n",
      "sent extraction over\n",
      "Response call\n",
      "Failed to retrieve https://techxplore.com/news/2023-02-scientist-discusses-pros-cons-chatgpt.html: Status code 400\n",
      "sent extraction over\n",
      "Response call\n"
     ]
    },
    {
     "name": "stderr",
     "output_type": "stream",
     "text": [
      "Your max_length is set to 50, but your input_length is only 3. Since this is a summarization task, where outputs shorter than the input are typically wanted, you might consider decreasing max_length manually, e.g. summarizer('...', max_length=1)\n"
     ]
    },
    {
     "name": "stdout",
     "output_type": "stream",
     "text": [
      "https://www.reddit.com/r/AskComputerScience/comments/1952qp5/general_doubt/\n",
      "sent extraction over\n",
      "Response call\n",
      "Failed to retrieve https://ashishlkatuwal.medium.com/i-took-a-course-about-chat-gpt-on-data-camp-a7ae6f3282a1: Status code 403\n",
      "sent extraction over\n",
      "Response call\n",
      "https://www.cs.wisc.edu/2023/08/01/chatgpt-explained/\n",
      "sent extraction over\n",
      "Done\n",
      "Huntington Ingalls Industries\n",
      "Calling the search\n",
      "Search complete\n",
      "Response call\n",
      "Request timed out for https://www.nasdaq.com/articles/why-huntington-ingalls-hii-is-a-top-stock-for-the-long-term. Attempting with Selenium.\n",
      "sent extraction over\n",
      "Response call\n",
      "Failed to retrieve https://www.glassdoor.com/Interview/Huntington-Ingalls-Industries-Interview-Questions-E398616.htm: Status code 403\n"
     ]
    },
    {
     "name": "stderr",
     "output_type": "stream",
     "text": [
      "Your max_length is set to 50, but your input_length is only 3. Since this is a summarization task, where outputs shorter than the input are typically wanted, you might consider decreasing max_length manually, e.g. summarizer('...', max_length=1)\n"
     ]
    },
    {
     "name": "stdout",
     "output_type": "stream",
     "text": [
      "sent extraction over\n",
      "Response call\n"
     ]
    },
    {
     "name": "stderr",
     "output_type": "stream",
     "text": [
      "Your max_length is set to 50, but your input_length is only 3. Since this is a summarization task, where outputs shorter than the input are typically wanted, you might consider decreasing max_length manually, e.g. summarizer('...', max_length=1)\n"
     ]
    },
    {
     "name": "stdout",
     "output_type": "stream",
     "text": [
      "https://altindex.com/ticker/hii/ai-stock-analysis\n",
      "sent extraction over\n",
      "Response call\n",
      "Failed to retrieve https://www.glassdoor.com/Interview/HII-Interview-Questions-E398616.htm: Status code 403\n"
     ]
    },
    {
     "name": "stderr",
     "output_type": "stream",
     "text": [
      "Your max_length is set to 50, but your input_length is only 3. Since this is a summarization task, where outputs shorter than the input are typically wanted, you might consider decreasing max_length manually, e.g. summarizer('...', max_length=1)\n"
     ]
    },
    {
     "name": "stdout",
     "output_type": "stream",
     "text": [
      "sent extraction over\n",
      "Response call\n",
      "Request timed out for https://www.nasdaq.com/articles/huntington-ingalls-hii-q4-earnings-beat-revenues-rise-y-y. Attempting with Selenium.\n",
      "sent extraction over\n",
      "Response call\n",
      "Failed to retrieve https://www.tipranks.com/stocks/hii/etf-exposure: Status code 503\n"
     ]
    },
    {
     "name": "stderr",
     "output_type": "stream",
     "text": [
      "Your max_length is set to 50, but your input_length is only 3. Since this is a summarization task, where outputs shorter than the input are typically wanted, you might consider decreasing max_length manually, e.g. summarizer('...', max_length=1)\n"
     ]
    },
    {
     "name": "stdout",
     "output_type": "stream",
     "text": [
      "sent extraction over\n",
      "Response call\n",
      "https://www.linkedin.com/posts/amandagarry_3-ways-hackers-use-chatgpt-to-cause-security-activity-7076688352824958976-S3t5\n",
      "sent extraction over\n",
      "Response call\n",
      "Failed to retrieve https://roanoke.com/news/state-and-regional/huntington-ingalls-wins-273m-5-year-navy-maintenance-contract/article_b7970e89-7f74-5c72-b234-27ac345bd380.html: Status code 429\n"
     ]
    },
    {
     "name": "stderr",
     "output_type": "stream",
     "text": [
      "Your max_length is set to 50, but your input_length is only 3. Since this is a summarization task, where outputs shorter than the input are typically wanted, you might consider decreasing max_length manually, e.g. summarizer('...', max_length=1)\n"
     ]
    },
    {
     "name": "stdout",
     "output_type": "stream",
     "text": [
      "sent extraction over\n",
      "Done\n",
      "Leidos Holdings\n",
      "Calling the search\n",
      "Search complete\n",
      "Response call\n",
      "https://www.theretirementgroup.com/featured-article/5448097/leidos-holdings-employees-can-chatgpt-help-with-your-budget\n",
      "sent extraction over\n",
      "Response call\n",
      "Failed to retrieve https://seekingalpha.com/article/4578188-leidos-holdings-inc-ldos-q4-2022-earnings-call-transcript: Status code 403\n"
     ]
    },
    {
     "name": "stderr",
     "output_type": "stream",
     "text": [
      "Your max_length is set to 50, but your input_length is only 3. Since this is a summarization task, where outputs shorter than the input are typically wanted, you might consider decreasing max_length manually, e.g. summarizer('...', max_length=1)\n"
     ]
    },
    {
     "name": "stdout",
     "output_type": "stream",
     "text": [
      "sent extraction over\n",
      "Response call\n",
      "Failed to retrieve https://finance.yahoo.com/news/intrinsic-calculation-leidos-holdings-inc-125258372.html: Status code 404\n"
     ]
    },
    {
     "name": "stderr",
     "output_type": "stream",
     "text": [
      "Your max_length is set to 50, but your input_length is only 3. Since this is a summarization task, where outputs shorter than the input are typically wanted, you might consider decreasing max_length manually, e.g. summarizer('...', max_length=1)\n"
     ]
    },
    {
     "name": "stdout",
     "output_type": "stream",
     "text": [
      "sent extraction over\n",
      "Response call\n",
      "Request timed out for https://www.nasdaq.com/articles/leidos-holdings-ldos-q1-earnings-miss-revenues-rise-y-y. Attempting with Selenium.\n",
      "sent extraction over\n",
      "Response call\n",
      "Failed to retrieve https://www.reuters.com/article/idUSFWN1AZ0QI/: Status code 401\n",
      "sent extraction over\n",
      "Response call\n",
      "Request timed out for https://www.nasdaq.com/articles/is-leidos-ldos-stock-undervalued-right-now. Attempting with Selenium.\n",
      "sent extraction over\n",
      "Response call\n"
     ]
    },
    {
     "name": "stderr",
     "output_type": "stream",
     "text": [
      "Your max_length is set to 50, but your input_length is only 3. Since this is a summarization task, where outputs shorter than the input are typically wanted, you might consider decreasing max_length manually, e.g. summarizer('...', max_length=1)\n"
     ]
    },
    {
     "name": "stdout",
     "output_type": "stream",
     "text": [
      "https://www.insidermonkey.com/blog/leidos-holdings-inc-nyseldos-q4-2022-earnings-call-transcript-1120785/3\n",
      "sent extraction over\n",
      "Response call\n"
     ]
    },
    {
     "name": "stderr",
     "output_type": "stream",
     "text": [
      "Your max_length is set to 50, but your input_length is only 3. Since this is a summarization task, where outputs shorter than the input are typically wanted, you might consider decreasing max_length manually, e.g. summarizer('...', max_length=1)\n"
     ]
    },
    {
     "name": "stdout",
     "output_type": "stream",
     "text": [
      "https://www.marketbeat.com/instant-alerts/nyse-ldos-sec-filing-2024-03-03/\n",
      "sent extraction over\n",
      "Done\n",
      "Erie Insurance Group\n",
      "Calling the search\n",
      "Search complete\n",
      "Response call\n",
      "https://www.linkedin.com/posts/amanda-mark-cpcu-b3172333_ai-education-future-activity-7062651346033790976-AQrP\n",
      "sent extraction over\n",
      "Response call\n",
      "Failed to retrieve https://badassinsuranceleads.com/best-insurance-companies-for-independent-agents/: Status code 403\n"
     ]
    },
    {
     "name": "stderr",
     "output_type": "stream",
     "text": [
      "Your max_length is set to 50, but your input_length is only 3. Since this is a summarization task, where outputs shorter than the input are typically wanted, you might consider decreasing max_length manually, e.g. summarizer('...', max_length=1)\n"
     ]
    },
    {
     "name": "stdout",
     "output_type": "stream",
     "text": [
      "sent extraction over\n"
     ]
    },
    {
     "name": "stderr",
     "output_type": "stream",
     "text": [
      "Your max_length is set to 50, but your input_length is only 3. Since this is a summarization task, where outputs shorter than the input are typically wanted, you might consider decreasing max_length manually, e.g. summarizer('...', max_length=1)\n"
     ]
    },
    {
     "name": "stdout",
     "output_type": "stream",
     "text": [
      "Response call\n",
      "https://www.linkedin.com/in/zacharyalexgray\n",
      "sent extraction over\n",
      "Response call\n",
      "Failed to retrieve http://www.webrtcworld.com/news/2006/jan/1272138.htm: Status code 403\n"
     ]
    },
    {
     "name": "stderr",
     "output_type": "stream",
     "text": [
      "Your max_length is set to 50, but your input_length is only 3. Since this is a summarization task, where outputs shorter than the input are typically wanted, you might consider decreasing max_length manually, e.g. summarizer('...', max_length=1)\n"
     ]
    },
    {
     "name": "stdout",
     "output_type": "stream",
     "text": [
      "sent extraction over\n",
      "Response call\n"
     ]
    },
    {
     "name": "stderr",
     "output_type": "stream",
     "text": [
      "Your max_length is set to 50, but your input_length is only 3. Since this is a summarization task, where outputs shorter than the input are typically wanted, you might consider decreasing max_length manually, e.g. summarizer('...', max_length=1)\n"
     ]
    },
    {
     "name": "stdout",
     "output_type": "stream",
     "text": [
      "https://www.law.com/insurance-coverage-law-center/2019/10/22/brian-w-bolash-is-new-general-counsel-at-erie-indemnity/\n",
      "sent extraction over\n",
      "Response call\n",
      "Failed to retrieve https://medium.com/@quiklaws/best-no1-ideas-in-erie-insurance-c62f3753a878: Status code 403\n"
     ]
    },
    {
     "name": "stderr",
     "output_type": "stream",
     "text": [
      "Your max_length is set to 50, but your input_length is only 3. Since this is a summarization task, where outputs shorter than the input are typically wanted, you might consider decreasing max_length manually, e.g. summarizer('...', max_length=1)\n"
     ]
    },
    {
     "name": "stdout",
     "output_type": "stream",
     "text": [
      "sent extraction over\n",
      "Response call\n"
     ]
    },
    {
     "name": "stderr",
     "output_type": "stream",
     "text": [
      "Your max_length is set to 50, but your input_length is only 3. Since this is a summarization task, where outputs shorter than the input are typically wanted, you might consider decreasing max_length manually, e.g. summarizer('...', max_length=1)\n"
     ]
    },
    {
     "name": "stdout",
     "output_type": "stream",
     "text": [
      "https://www.law.com/2017/09/18/discovery-sanction-may-include-dismissing-insurance-coverage-complaint-maryland-appeals-court-confirms/\n",
      "sent extraction over\n",
      "Response call\n",
      "Failed to retrieve https://issuu.com/iiaofil/docs/may-wwrapnon-member: Status code 406\n"
     ]
    },
    {
     "name": "stderr",
     "output_type": "stream",
     "text": [
      "Your max_length is set to 50, but your input_length is only 3. Since this is a summarization task, where outputs shorter than the input are typically wanted, you might consider decreasing max_length manually, e.g. summarizer('...', max_length=1)\n"
     ]
    },
    {
     "name": "stdout",
     "output_type": "stream",
     "text": [
      "sent extraction over\n",
      "Done\n",
      "Tesla\n",
      "Calling the search\n",
      "Search complete\n",
      "Response call\n",
      "https://analyticsindiamag.com/why-did-tesla-build-a-chatgpt-for-vehicles/\n",
      "sent extraction over\n",
      "Response call\n",
      "https://fortune.com/2024/01/19/elon-musk-ai-startup-funding-1-billion-investors/\n",
      "sent extraction over\n",
      "Response call\n"
     ]
    },
    {
     "name": "stderr",
     "output_type": "stream",
     "text": [
      "Your max_length is set to 50, but your input_length is only 3. Since this is a summarization task, where outputs shorter than the input are typically wanted, you might consider decreasing max_length manually, e.g. summarizer('...', max_length=1)\n"
     ]
    },
    {
     "name": "stdout",
     "output_type": "stream",
     "text": [
      "https://www.linkedin.com/pulse/teslas-use-ai-revolutionary-approach-car-technology-alexander-stahl\n",
      "sent extraction over\n",
      "Response call\n",
      "https://tech.co/news/who-owns-chatgpt-and-openai\n",
      "sent extraction over\n",
      "Response call\n",
      "Failed to retrieve https://www.wsj.com/tech/ai/elon-musks-x-leans-on-his-ai-startup-9038380d: Status code 403\n",
      "sent extraction over\n",
      "Response call\n",
      "Failed to retrieve https://finance.yahoo.com/news/elon-musk-promised-tesla-very-131119992.html: Status code 404\n",
      "sent extraction over\n",
      "Response call\n",
      "Failed to retrieve https://yourstory.com/2023/05/chatgpt-in-tesla-heres-what-elon-musk-has-to-say: Status code 403\n",
      "sent extraction over\n",
      "Response call\n"
     ]
    },
    {
     "name": "stderr",
     "output_type": "stream",
     "text": [
      "Your max_length is set to 50, but your input_length is only 38. Since this is a summarization task, where outputs shorter than the input are typically wanted, you might consider decreasing max_length manually, e.g. summarizer('...', max_length=19)\n"
     ]
    },
    {
     "name": "stdout",
     "output_type": "stream",
     "text": [
      "https://www.youtube.com/watch?v=xeHOACJyBqM\n",
      "sent extraction over\n",
      "Done\n",
      "Ascena Retail Group\n",
      "Calling the search\n",
      "Search complete\n",
      "Response call\n"
     ]
    },
    {
     "name": "stderr",
     "output_type": "stream",
     "text": [
      "Your max_length is set to 50, but your input_length is only 3. Since this is a summarization task, where outputs shorter than the input are typically wanted, you might consider decreasing max_length manually, e.g. summarizer('...', max_length=1)\n"
     ]
    },
    {
     "name": "stdout",
     "output_type": "stream",
     "text": [
      "https://www.askhandle.com/blog/ascena-retail-group-customer-service-and-return-policy\n",
      "sent extraction over\n"
     ]
    },
    {
     "name": "stderr",
     "output_type": "stream",
     "text": [
      "Your max_length is set to 50, but your input_length is only 3. Since this is a summarization task, where outputs shorter than the input are typically wanted, you might consider decreasing max_length manually, e.g. summarizer('...', max_length=1)\n"
     ]
    },
    {
     "name": "stdout",
     "output_type": "stream",
     "text": [
      "Response call\n",
      "https://www.coursehero.com/file/65952406/Case-33-Ascena-Team3-Week-6docx/\n",
      "sent extraction over\n",
      "Response call\n",
      "https://ro.linkedin.com/posts/cyrilreinhard_merchandising-sitecorediscover-sitecore-activity-7049621846681382912-Hr8o\n",
      "sent extraction over\n",
      "Response call\n",
      "Failed to retrieve https://www.digitalcommerce360.com/2023/09/22/gen-z-online-shopping-ai/: Status code 403\n",
      "sent extraction over\n",
      "Response call\n"
     ]
    },
    {
     "name": "stderr",
     "output_type": "stream",
     "text": [
      "Your max_length is set to 50, but your input_length is only 3. Since this is a summarization task, where outputs shorter than the input are typically wanted, you might consider decreasing max_length manually, e.g. summarizer('...', max_length=1)\n"
     ]
    },
    {
     "name": "stdout",
     "output_type": "stream",
     "text": [
      "https://www.retailtouchpoints.com/tag/bloomberg\n",
      "sent extraction over\n",
      "Response call\n"
     ]
    },
    {
     "name": "stderr",
     "output_type": "stream",
     "text": [
      "Your max_length is set to 50, but your input_length is only 3. Since this is a summarization task, where outputs shorter than the input are typically wanted, you might consider decreasing max_length manually, e.g. summarizer('...', max_length=1)\n"
     ]
    },
    {
     "name": "stdout",
     "output_type": "stream",
     "text": [
      "https://investorplace.com/2015/10/biggest-movers-in-retail-trade-stocks-now-cab-sah-bios-asna/\n",
      "sent extraction over\n",
      "Response call\n"
     ]
    },
    {
     "name": "stderr",
     "output_type": "stream",
     "text": [
      "Your max_length is set to 50, but your input_length is only 3. Since this is a summarization task, where outputs shorter than the input are typically wanted, you might consider decreasing max_length manually, e.g. summarizer('...', max_length=1)\n"
     ]
    },
    {
     "name": "stdout",
     "output_type": "stream",
     "text": [
      "https://in.linkedin.com/in/himanshu-nath-shekhar-220793\n",
      "sent extraction over\n",
      "Response call\n"
     ]
    },
    {
     "name": "stderr",
     "output_type": "stream",
     "text": [
      "Your max_length is set to 50, but your input_length is only 3. Since this is a summarization task, where outputs shorter than the input are typically wanted, you might consider decreasing max_length manually, e.g. summarizer('...', max_length=1)\n"
     ]
    },
    {
     "name": "stdout",
     "output_type": "stream",
     "text": [
      "https://www.bloomberg.com/opinion/articles/2019-10-04/ann-taylor-s-corporate-parent-is-a-failed-retail-experiment?srnd=opinion&leadSource=uverify%20wall\n",
      "sent extraction over\n",
      "Done\n",
      "Darden Restaurants\n",
      "Calling the search\n",
      "Search complete\n",
      "Response call\n",
      "Request timed out for https://www.nasdaq.com/articles/heres-why-you-should-buy-darden-restaurants-dri-stock-now. Attempting with Selenium.\n",
      "sent extraction over\n",
      "Response call\n",
      "Failed to retrieve https://www.earnestanalytics.com/dardens-pending-acquisition-complements-its-fine-dining-portfolio/: Status code 403\n"
     ]
    },
    {
     "name": "stderr",
     "output_type": "stream",
     "text": [
      "Your max_length is set to 50, but your input_length is only 3. Since this is a summarization task, where outputs shorter than the input are typically wanted, you might consider decreasing max_length manually, e.g. summarizer('...', max_length=1)\n"
     ]
    },
    {
     "name": "stdout",
     "output_type": "stream",
     "text": [
      "sent extraction over\n",
      "Response call\n",
      "https://investorplace.com/2023/06/7-restaurant-stocks-sizzling-with-potential-in-june-2023/\n",
      "sent extraction over\n",
      "Response call\n",
      "Request timed out for https://www.nasdaq.com/articles/heres-why-darden-restaurants-dri-is-a-strong-growth-stock-0. Attempting with Selenium.\n",
      "sent extraction over\n",
      "Response call\n"
     ]
    },
    {
     "name": "stderr",
     "output_type": "stream",
     "text": [
      "Your max_length is set to 50, but your input_length is only 3. Since this is a summarization task, where outputs shorter than the input are typically wanted, you might consider decreasing max_length manually, e.g. summarizer('...', max_length=1)\n"
     ]
    },
    {
     "name": "stdout",
     "output_type": "stream",
     "text": [
      "https://thecorporatemagazine.com/olive-gardens-parent-company-purchases-the-hospitality-group-of-ruth-for-almost-715-million/\n",
      "sent extraction over\n",
      "Response call\n",
      "Failed to retrieve https://akmaier.medium.com/olive-garden-lettuce-problem-costs-owner-millions-f395a387b0af: Status code 403\n",
      "An error occurred while processing Darden Restaurants: Message: Navigation timed out after 300000 ms\n",
      "Stacktrace:\n",
      "RemoteError@chrome://remote/content/shared/RemoteError.sys.mjs:8:8\n",
      "WebDriverError@chrome://remote/content/shared/webdriver/Errors.sys.mjs:192:5\n",
      "TimeoutError@chrome://remote/content/shared/webdriver/Errors.sys.mjs:739:5\n",
      "bail@chrome://remote/content/marionette/sync.sys.mjs:211:19\n",
      "\n",
      "Harman International Industries\n",
      "Calling the search\n",
      "Search complete\n",
      "Response call\n"
     ]
    },
    {
     "name": "stderr",
     "output_type": "stream",
     "text": [
      "Your max_length is set to 50, but your input_length is only 3. Since this is a summarization task, where outputs shorter than the input are typically wanted, you might consider decreasing max_length manually, e.g. summarizer('...', max_length=1)\n"
     ]
    },
    {
     "name": "stdout",
     "output_type": "stream",
     "text": [
      "https://www.denverpost.com/2016/11/14/samsung-buy-auto-parts-supplier-harman/\n",
      "sent extraction over\n",
      "Response call\n",
      "https://en.wikipedia.org/wiki/Harman_International\n"
     ]
    },
    {
     "name": "stderr",
     "output_type": "stream",
     "text": [
      "Your max_length is set to 50, but your input_length is only 3. Since this is a summarization task, where outputs shorter than the input are typically wanted, you might consider decreasing max_length manually, e.g. summarizer('...', max_length=1)\n"
     ]
    },
    {
     "name": "stdout",
     "output_type": "stream",
     "text": [
      "sent extraction over\n",
      "Response call\n"
     ]
    },
    {
     "name": "stderr",
     "output_type": "stream",
     "text": [
      "Your max_length is set to 50, but your input_length is only 3. Since this is a summarization task, where outputs shorter than the input are typically wanted, you might consider decreasing max_length manually, e.g. summarizer('...', max_length=1)\n"
     ]
    },
    {
     "name": "stdout",
     "output_type": "stream",
     "text": [
      "https://www.quora.com/What-is-difference-between-Harman-connected-services-and-Harman-international\n",
      "sent extraction over\n",
      "Response call\n"
     ]
    },
    {
     "name": "stderr",
     "output_type": "stream",
     "text": [
      "Your max_length is set to 50, but your input_length is only 3. Since this is a summarization task, where outputs shorter than the input are typically wanted, you might consider decreasing max_length manually, e.g. summarizer('...', max_length=1)\n"
     ]
    },
    {
     "name": "stdout",
     "output_type": "stream",
     "text": [
      "https://en.wikipedia.org/wiki/Harman_Kardon\n",
      "sent extraction over\n",
      "Response call\n"
     ]
    },
    {
     "name": "stderr",
     "output_type": "stream",
     "text": [
      "Your max_length is set to 50, but your input_length is only 3. Since this is a summarization task, where outputs shorter than the input are typically wanted, you might consider decreasing max_length manually, e.g. summarizer('...', max_length=1)\n"
     ]
    },
    {
     "name": "stdout",
     "output_type": "stream",
     "text": [
      "https://www.itsinternational.com/its10/news/research-ranks-bosch-harman-and-continental-leading-tier-one-connected-car-vendors\n",
      "sent extraction over\n",
      "Response call\n"
     ]
    },
    {
     "name": "stderr",
     "output_type": "stream",
     "text": [
      "Your max_length is set to 50, but your input_length is only 3. Since this is a summarization task, where outputs shorter than the input are typically wanted, you might consider decreasing max_length manually, e.g. summarizer('...', max_length=1)\n"
     ]
    },
    {
     "name": "stdout",
     "output_type": "stream",
     "text": [
      "https://techcrunch.com/2018/03/13/samsung-turns-to-harman-to-further-smartthings-development/\n",
      "sent extraction over\n",
      "Response call\n"
     ]
    },
    {
     "name": "stderr",
     "output_type": "stream",
     "text": [
      "Your max_length is set to 50, but your input_length is only 3. Since this is a summarization task, where outputs shorter than the input are typically wanted, you might consider decreasing max_length manually, e.g. summarizer('...', max_length=1)\n"
     ]
    },
    {
     "name": "stdout",
     "output_type": "stream",
     "text": [
      "https://www.wardsauto.com/interiors/harman-s-bedazzling-user-experiences\n",
      "sent extraction over\n",
      "Response call\n"
     ]
    },
    {
     "name": "stderr",
     "output_type": "stream",
     "text": [
      "Your max_length is set to 50, but your input_length is only 3. Since this is a summarization task, where outputs shorter than the input are typically wanted, you might consider decreasing max_length manually, e.g. summarizer('...', max_length=1)\n"
     ]
    },
    {
     "name": "stdout",
     "output_type": "stream",
     "text": [
      "https://www.zdnet.com/article/samsung-to-acquire-us-automotive-firm-harman-for-8-billion/\n",
      "sent extraction over\n",
      "Done\n",
      "Nvidia\n",
      "Calling the search\n",
      "Search complete\n",
      "Response call\n"
     ]
    },
    {
     "name": "stderr",
     "output_type": "stream",
     "text": [
      "Your max_length is set to 50, but your input_length is only 21. Since this is a summarization task, where outputs shorter than the input are typically wanted, you might consider decreasing max_length manually, e.g. summarizer('...', max_length=10)\n"
     ]
    },
    {
     "name": "stdout",
     "output_type": "stream",
     "text": [
      "https://www.quora.com/How-does-OpenAIs-ChatGPT-use-Nvidias-GPUs\n",
      "sent extraction over\n",
      "Response call\n",
      "https://developer.nvidia.com/blog/new-video-what-runs-chatgpt/\n",
      "sent extraction over\n",
      "Response call\n",
      "https://blogs.nvidia.com/blog/chat-with-rtx-available-now/\n",
      "sent extraction over\n",
      "Response call\n"
     ]
    },
    {
     "name": "stderr",
     "output_type": "stream",
     "text": [
      "Your max_length is set to 50, but your input_length is only 27. Since this is a summarization task, where outputs shorter than the input are typically wanted, you might consider decreasing max_length manually, e.g. summarizer('...', max_length=13)\n"
     ]
    },
    {
     "name": "stdout",
     "output_type": "stream",
     "text": [
      "https://www.quora.com/What-role-did-Nvidia-play-in-building-OpenAIs-ChatGPT-and-how-did-it-impact-their-success\n",
      "sent extraction over\n",
      "Response call\n"
     ]
    },
    {
     "name": "stderr",
     "output_type": "stream",
     "text": [
      "Your max_length is set to 50, but your input_length is only 3. Since this is a summarization task, where outputs shorter than the input are typically wanted, you might consider decreasing max_length manually, e.g. summarizer('...', max_length=1)\n"
     ]
    },
    {
     "name": "stdout",
     "output_type": "stream",
     "text": [
      "https://www.bloomberg.com/news/features/2023-06-15/nvidia-s-ai-chips-power-chatgpt-and-multibillion-dollar-surge\n",
      "sent extraction over\n",
      "Response call\n",
      "https://arstechnica.com/information-technology/2024/02/nvidias-chat-with-rtx-is-a-chatgpt-style-app-that-runs-on-your-own-gpu/\n",
      "sent extraction over\n",
      "Response call\n",
      "https://www.digitaltrends.com/computing/microsoft-explains-thousands-nvidia-gpus-built-chatgpt/\n",
      "sent extraction over\n",
      "Response call\n",
      "https://www.tomshardware.com/news/chatgpt-nvidia-30000-gpus\n",
      "sent extraction over\n",
      "Done\n",
      "R.R. Donnelley & Sons\n",
      "Calling the search\n",
      "Search complete\n",
      "Response call\n",
      "https://www.theretirementgroup.com/featured-article/5448097/rr-donnelley-sons-employees-can-chatgpt-help-with-your-budget\n",
      "sent extraction over\n",
      "Response call\n",
      "Failed to retrieve https://medium.com/@martech-edge/rrd-enhances-direct-marketing-platform-to-help-clients-drive-optimized-performance-db15e7913bd4: Status code 403\n"
     ]
    },
    {
     "name": "stderr",
     "output_type": "stream",
     "text": [
      "Your max_length is set to 50, but your input_length is only 3. Since this is a summarization task, where outputs shorter than the input are typically wanted, you might consider decreasing max_length manually, e.g. summarizer('...', max_length=1)\n"
     ]
    },
    {
     "name": "stdout",
     "output_type": "stream",
     "text": [
      "sent extraction over\n",
      "Response call\n"
     ]
    },
    {
     "name": "stderr",
     "output_type": "stream",
     "text": [
      "Your max_length is set to 50, but your input_length is only 3. Since this is a summarization task, where outputs shorter than the input are typically wanted, you might consider decreasing max_length manually, e.g. summarizer('...', max_length=1)\n"
     ]
    },
    {
     "name": "stdout",
     "output_type": "stream",
     "text": [
      "https://www.piworld.com/article/rr-donnelley-awarded-25-million-agreement-parke-bell-print-catalog/all/\n",
      "sent extraction over\n",
      "Response call\n"
     ]
    },
    {
     "name": "stderr",
     "output_type": "stream",
     "text": [
      "Your max_length is set to 50, but your input_length is only 3. Since this is a summarization task, where outputs shorter than the input are typically wanted, you might consider decreasing max_length manually, e.g. summarizer('...', max_length=1)\n"
     ]
    },
    {
     "name": "stdout",
     "output_type": "stream",
     "text": [
      "https://aithority.com/technology/rrd-expands-diagnostic-test-kits-solution-to-meet-accelerated-demand-for-at-home-testing/\n",
      "sent extraction over\n",
      "Response call\n"
     ]
    },
    {
     "name": "stderr",
     "output_type": "stream",
     "text": [
      "Your max_length is set to 50, but your input_length is only 3. Since this is a summarization task, where outputs shorter than the input are typically wanted, you might consider decreasing max_length manually, e.g. summarizer('...', max_length=1)\n"
     ]
    },
    {
     "name": "stdout",
     "output_type": "stream",
     "text": [
      "https://www.piworld.com/article/rr-donnelley-produce-digitally-printed-books-penguin-group-using-inkjet-presses-pi-news/all/\n",
      "sent extraction over\n",
      "Response call\n"
     ]
    },
    {
     "name": "stderr",
     "output_type": "stream",
     "text": [
      "Your max_length is set to 50, but your input_length is only 3. Since this is a summarization task, where outputs shorter than the input are typically wanted, you might consider decreasing max_length manually, e.g. summarizer('...', max_length=1)\n"
     ]
    },
    {
     "name": "stdout",
     "output_type": "stream",
     "text": [
      "https://chiefmarketer.com/r-r-donnelley-acquires-freight-systems/\n",
      "sent extraction over\n",
      "Response call\n"
     ]
    },
    {
     "name": "stderr",
     "output_type": "stream",
     "text": [
      "Your max_length is set to 50, but your input_length is only 3. Since this is a summarization task, where outputs shorter than the input are typically wanted, you might consider decreasing max_length manually, e.g. summarizer('...', max_length=1)\n"
     ]
    },
    {
     "name": "stdout",
     "output_type": "stream",
     "text": [
      "https://glarity.app/chatai/Parent-Company-for-RR\n",
      "sent extraction over\n",
      "Response call\n"
     ]
    },
    {
     "name": "stderr",
     "output_type": "stream",
     "text": [
      "Your max_length is set to 50, but your input_length is only 3. Since this is a summarization task, where outputs shorter than the input are typically wanted, you might consider decreasing max_length manually, e.g. summarizer('...', max_length=1)\n"
     ]
    },
    {
     "name": "stdout",
     "output_type": "stream",
     "text": [
      "https://www.youtube.com/watch?v=wFirK2biwrQ\n",
      "sent extraction over\n",
      "Done\n",
      "Fifth Third Bancorp\n",
      "Calling the search\n",
      "Search complete\n",
      "Response call\n",
      "Request timed out for https://www.nasdaq.com/articles/5-reasons-to-add-fifth-third-fitb-stock-to-your-portfolio. Attempting with Selenium.\n",
      "sent extraction over\n",
      "Response call\n"
     ]
    },
    {
     "name": "stderr",
     "output_type": "stream",
     "text": [
      "Your max_length is set to 50, but your input_length is only 3. Since this is a summarization task, where outputs shorter than the input are typically wanted, you might consider decreasing max_length manually, e.g. summarizer('...', max_length=1)\n"
     ]
    },
    {
     "name": "stdout",
     "output_type": "stream",
     "text": [
      "https://www.bankinfosecurity.com/two-new-bank-breaches-reported-a-2333\n",
      "sent extraction over\n",
      "Response call\n"
     ]
    },
    {
     "name": "stderr",
     "output_type": "stream",
     "text": [
      "Your max_length is set to 50, but your input_length is only 3. Since this is a summarization task, where outputs shorter than the input are typically wanted, you might consider decreasing max_length manually, e.g. summarizer('...', max_length=1)\n"
     ]
    },
    {
     "name": "stdout",
     "output_type": "stream",
     "text": [
      "https://www.53.com/content/fifth-third/en/personal-banking/bank/online-mobile-banking/account-alerts.html\n",
      "sent extraction over\n"
     ]
    },
    {
     "name": "stderr",
     "output_type": "stream",
     "text": [
      "Your max_length is set to 50, but your input_length is only 3. Since this is a summarization task, where outputs shorter than the input are typically wanted, you might consider decreasing max_length manually, e.g. summarizer('...', max_length=1)\n"
     ]
    },
    {
     "name": "stdout",
     "output_type": "stream",
     "text": [
      "Response call\n",
      "https://www.53.com/content/fifth-third/en/customer-service/other-banking-faqs.html\n",
      "sent extraction over\n",
      "Response call\n"
     ]
    },
    {
     "name": "stderr",
     "output_type": "stream",
     "text": [
      "Your max_length is set to 50, but your input_length is only 3. Since this is a summarization task, where outputs shorter than the input are typically wanted, you might consider decreasing max_length manually, e.g. summarizer('...', max_length=1)\n"
     ]
    },
    {
     "name": "stdout",
     "output_type": "stream",
     "text": [
      "https://www.forbes.com/advisor/banking/fifth-third-bank-review/\n",
      "sent extraction over\n",
      "Response call\n",
      "Failed to retrieve https://www.americanbanker.com/news/its-time-to-be-cautious-fifth-third-ceo: Status code 403\n"
     ]
    },
    {
     "name": "stderr",
     "output_type": "stream",
     "text": [
      "Your max_length is set to 50, but your input_length is only 3. Since this is a summarization task, where outputs shorter than the input are typically wanted, you might consider decreasing max_length manually, e.g. summarizer('...', max_length=1)\n"
     ]
    },
    {
     "name": "stdout",
     "output_type": "stream",
     "text": [
      "sent extraction over\n",
      "Response call\n",
      "Request timed out for https://www.nasdaq.com/articles/fifth-third-fitb-announces-a-6-hike-in-quarterly-dividend. Attempting with Selenium.\n",
      "sent extraction over\n",
      "Response call\n",
      "https://linas.substack.com/p/fintechpulse461\n",
      "sent extraction over\n",
      "Done\n",
      "Quintiles IMS Holdings\n",
      "Calling the search\n",
      "Search complete\n",
      "Response call\n"
     ]
    },
    {
     "name": "stderr",
     "output_type": "stream",
     "text": [
      "Your max_length is set to 50, but your input_length is only 3. Since this is a summarization task, where outputs shorter than the input are typically wanted, you might consider decreasing max_length manually, e.g. summarizer('...', max_length=1)\n"
     ]
    },
    {
     "name": "stdout",
     "output_type": "stream",
     "text": [
      "https://www.zdnet.com/article/quintiles-ims-health-merge-in-9-billion-deal-create-healthcare-analytics-it-giant/\n",
      "sent extraction over\n",
      "Response call\n"
     ]
    },
    {
     "name": "stderr",
     "output_type": "stream",
     "text": [
      "Your max_length is set to 50, but your input_length is only 3. Since this is a summarization task, where outputs shorter than the input are typically wanted, you might consider decreasing max_length manually, e.g. summarizer('...', max_length=1)\n"
     ]
    },
    {
     "name": "stdout",
     "output_type": "stream",
     "text": [
      "https://www.envoy.cirrus.bloomberg.com/profile/person/16589376\n",
      "sent extraction over\n",
      "Response call\n",
      "http://fernfortuniversity.com/term-papers/pestelrusukr/c/443-windstream-holdings.php\n",
      "sent extraction over\n",
      "Response call\n",
      "http://fernfortuniversity.com/term-papers/pestelrusukr/c/452-j-m--smucker.php\n",
      "sent extraction over\n",
      "Response call\n",
      "Failed to retrieve https://gitnux.org/contract-research-organization-industry-statistics/: Status code 503\n"
     ]
    },
    {
     "name": "stderr",
     "output_type": "stream",
     "text": [
      "Your max_length is set to 50, but your input_length is only 3. Since this is a summarization task, where outputs shorter than the input are typically wanted, you might consider decreasing max_length manually, e.g. summarizer('...', max_length=1)\n"
     ]
    },
    {
     "name": "stdout",
     "output_type": "stream",
     "text": [
      "sent extraction over\n",
      "Response call\n",
      "Failed to retrieve https://medium.com/@gpranjaly8/united-states-bioequivalence-studies-market-size-2024-2030-market-share-market-analysis-05fb33fb85f5: Status code 403\n"
     ]
    },
    {
     "name": "stderr",
     "output_type": "stream",
     "text": [
      "Your max_length is set to 50, but your input_length is only 3. Since this is a summarization task, where outputs shorter than the input are typically wanted, you might consider decreasing max_length manually, e.g. summarizer('...', max_length=1)\n"
     ]
    },
    {
     "name": "stdout",
     "output_type": "stream",
     "text": [
      "sent extraction over\n",
      "Response call\n",
      "Failed to retrieve https://medium.com/@ajinkyaa1995/a-contract-research-organization-cro-provides-support-to-clients-for-specific-services-on-a-bbc4dbb1daef: Status code 403\n"
     ]
    },
    {
     "name": "stderr",
     "output_type": "stream",
     "text": [
      "Your max_length is set to 50, but your input_length is only 3. Since this is a summarization task, where outputs shorter than the input are typically wanted, you might consider decreasing max_length manually, e.g. summarizer('...', max_length=1)\n"
     ]
    },
    {
     "name": "stdout",
     "output_type": "stream",
     "text": [
      "sent extraction over\n",
      "Response call\n"
     ]
    },
    {
     "name": "stderr",
     "output_type": "stream",
     "text": [
      "Your max_length is set to 50, but your input_length is only 3. Since this is a summarization task, where outputs shorter than the input are typically wanted, you might consider decreasing max_length manually, e.g. summarizer('...', max_length=1)\n"
     ]
    },
    {
     "name": "stdout",
     "output_type": "stream",
     "text": [
      "https://brandpalettes.com/\n",
      "sent extraction over\n",
      "Done\n",
      "Jones Lang LaSalle\n",
      "Calling the search\n",
      "Search complete\n",
      "Response call\n",
      "https://www.us.jll.com/en/views/jll-gpt-and-the-new-era-of-ai-for-commercial-real-estate\n",
      "sent extraction over\n",
      "Response call\n",
      "Failed to retrieve https://www.jllt.com/blog/jll-gpt-human-led-ai-powered-purpose-built-cre-technology/: Status code 403\n",
      "sent extraction over\n",
      "Response call\n",
      "https://www.us.jll.com/en/newsroom/jll-unveils-first-gpt-model-for-commercial-real-estate\n",
      "sent extraction over\n",
      "Response call\n",
      "https://renx.ca/jll-launch-first-gpt-commercial-real-estate-data\n",
      "sent extraction over\n",
      "Response call\n",
      "https://www.linkedin.com/posts/christopherychan_jll-unveils-first-gpt-model-for-commercial-activity-7094607815712894979-4gue?trk=public_profile_like_view\n",
      "sent extraction over\n",
      "Response call\n",
      "Failed to retrieve https://spark.jllt.com/press_news/real-estate-companies-put-power-of-chatgpt-to-the-test/: Status code 403\n",
      "sent extraction over\n",
      "Response call\n",
      "https://www.us.jll.com/en/trends-and-insights/research/artificial-intelligence-and-its-implications-for-real-estate\n",
      "sent extraction over\n",
      "Response call\n",
      "https://www.prnewswire.com/news-releases/jll-unveils-first-gpt-model-for-commercial-real-estate-301890405.html\n",
      "sent extraction over\n",
      "Done\n",
      "Dover\n",
      "Calling the search\n",
      "Search complete\n",
      "Response call\n",
      "https://www.whatplugin.ai/plugins/dover-assistant\n",
      "sent extraction over\n",
      "Response call\n",
      "https://www.theretirementgroup.com/featured-article/5448097/dover-employees-can-chatgpt-help-with-your-budget\n",
      "sent extraction over\n",
      "Response call\n",
      "https://gptstore.ai/chat/outreach-plugin-dover-io\n",
      "sent extraction over\n",
      "Response call\n"
     ]
    },
    {
     "name": "stderr",
     "output_type": "stream",
     "text": [
      "Your max_length is set to 50, but your input_length is only 22. Since this is a summarization task, where outputs shorter than the input are typically wanted, you might consider decreasing max_length manually, e.g. summarizer('...', max_length=11)\n"
     ]
    },
    {
     "name": "stdout",
     "output_type": "stream",
     "text": [
      "https://askgpt.ai/product/gpt-3-job-description-rewriter-by-dover/\n",
      "sent extraction over\n",
      "Response call\n",
      "https://www.dover.com/blog/should-you-be-hiring-ai-engineers\n",
      "sent extraction over\n",
      "Response call\n",
      "https://www.toolify.ai/ai-news/testing-doverai-gpt3-job-description-generator-review-977212\n",
      "sent extraction over\n",
      "Response call\n",
      "https://www.aigrowthpad.com/chatgpt-plugins/dover-assistant\n",
      "sent extraction over\n",
      "Response call\n",
      "https://www.linkedin.com/posts/anvisha_ai-recruiting-chatgpt-activity-7054537622680936448-hS8Z\n",
      "sent extraction over\n",
      "Done\n",
      "Spirit AeroSystems Holdings\n",
      "Calling the search\n",
      "Search complete\n",
      "Response call\n",
      "Failed to retrieve https://www.axios.com/2023/11/29/chat-gpt-health-care-medicine-clinical-diagnosis: Status code 403\n",
      "sent extraction over\n",
      "Response call\n",
      "Request timed out for https://www.nasdaq.com/articles/spirit-aerosystems-spr-q1-earnings-lag-revenues-rise-y-y. Attempting with Selenium.\n",
      "sent extraction over\n",
      "Response call\n"
     ]
    },
    {
     "name": "stderr",
     "output_type": "stream",
     "text": [
      "Your max_length is set to 50, but your input_length is only 3. Since this is a summarization task, where outputs shorter than the input are typically wanted, you might consider decreasing max_length manually, e.g. summarizer('...', max_length=1)\n"
     ]
    },
    {
     "name": "stdout",
     "output_type": "stream",
     "text": [
      "https://www.marketbeat.com/instant-alerts/nyse-spr-volume-advance-2024-03-01/\n",
      "sent extraction over\n",
      "Response call\n"
     ]
    },
    {
     "name": "stderr",
     "output_type": "stream",
     "text": [
      "Your max_length is set to 50, but your input_length is only 3. Since this is a summarization task, where outputs shorter than the input are typically wanted, you might consider decreasing max_length manually, e.g. summarizer('...', max_length=1)\n"
     ]
    },
    {
     "name": "stdout",
     "output_type": "stream",
     "text": [
      "https://coincodex.com/stocks/how-to-buy-SPR/\n",
      "sent extraction over\n",
      "Response call\n"
     ]
    },
    {
     "name": "stderr",
     "output_type": "stream",
     "text": [
      "Your max_length is set to 50, but your input_length is only 3. Since this is a summarization task, where outputs shorter than the input are typically wanted, you might consider decreasing max_length manually, e.g. summarizer('...', max_length=1)\n"
     ]
    },
    {
     "name": "stdout",
     "output_type": "stream",
     "text": [
      "https://markets.businessinsider.com/news/stocks/spr-stock-alert-spirit-aerosystems-soars-on-potential-boeing-acquisition-1033125242\n",
      "sent extraction over\n",
      "Response call\n",
      "Failed to retrieve https://www.axios.com/2024/01/11/bill-gates-sam-altman-interview-chatgpt: Status code 403\n",
      "sent extraction over\n",
      "Response call\n",
      "https://www.linkedin.com/posts/loganabbott_ok-so-chatgpt-just-debugged-my-code-for-activity-7119384786292391936-cwaB\n",
      "sent extraction over\n",
      "Response call\n"
     ]
    },
    {
     "name": "stderr",
     "output_type": "stream",
     "text": [
      "Your max_length is set to 50, but your input_length is only 3. Since this is a summarization task, where outputs shorter than the input are typically wanted, you might consider decreasing max_length manually, e.g. summarizer('...', max_length=1)\n"
     ]
    },
    {
     "name": "stdout",
     "output_type": "stream",
     "text": [
      "https://www.marketbeat.com/originals/spirit-aerosystems-goes-airborne-after-inking-a-boeing-deal/\n",
      "sent extraction over\n",
      "Done\n",
      "Ryder System\n",
      "Calling the search\n",
      "Search complete\n",
      "Response call\n",
      "https://www.ryder.com/en-us/insights/blogs/logistics/generative-ai-in-logistics\n",
      "sent extraction over\n",
      "Response call\n",
      "https://www.ryder.com/en-us/insights/blogs/logistics/7-strategies-for-ai-this-holiday-season\n",
      "sent extraction over\n",
      "Response call\n",
      "https://www.ryder.com/es-mx/insights/blogs/logistics/generative-ai-in-logistics\n",
      "sent extraction over\n",
      "Response call\n",
      "https://www.ryder.com/en-us/insights/blogs/e-comm/product-discover-on-social-media\n",
      "sent extraction over\n",
      "Response call\n",
      "https://www.linkedin.com/posts/bhendrick_what-runs-chatgpt-inside-microsofts-ai-activity-7071982081660104704-s2ji\n",
      "sent extraction over\n",
      "Response call\n",
      "Request timed out for https://www.nasdaq.com/articles/5-reasons-why-investors-should-bet-on-ryder-r-stock-now-1. Attempting with Selenium.\n",
      "sent extraction over\n",
      "Response call\n"
     ]
    },
    {
     "name": "stderr",
     "output_type": "stream",
     "text": [
      "Your max_length is set to 50, but your input_length is only 3. Since this is a summarization task, where outputs shorter than the input are typically wanted, you might consider decreasing max_length manually, e.g. summarizer('...', max_length=1)\n"
     ]
    },
    {
     "name": "stdout",
     "output_type": "stream",
     "text": [
      "https://altindex.com/ticker/r/ai-stock-analysis\n",
      "sent extraction over\n",
      "Response call\n",
      "https://www.linkedin.com/posts/bhendrick_chatgpts-explosive-popularity-makes-it-the-activity-7027429393861922816-T0JR\n",
      "sent extraction over\n",
      "Done\n",
      "A-Mark Precious Metals\n",
      "Calling the search\n",
      "Search complete\n",
      "Response call\n",
      "https://www.theretirementgroup.com/featured-article/5448097/amark-precious-metals-employees-can-chatgpt-help-with-your-budget\n",
      "sent extraction over\n",
      "Response call\n",
      "Failed to retrieve https://www.chat2invest.com/ticker/us/nasdaq/stock/AMRK: Status code 403\n"
     ]
    },
    {
     "name": "stderr",
     "output_type": "stream",
     "text": [
      "Your max_length is set to 50, but your input_length is only 3. Since this is a summarization task, where outputs shorter than the input are typically wanted, you might consider decreasing max_length manually, e.g. summarizer('...', max_length=1)\n"
     ]
    },
    {
     "name": "stdout",
     "output_type": "stream",
     "text": [
      "sent extraction over\n",
      "Response call\n"
     ]
    },
    {
     "name": "stderr",
     "output_type": "stream",
     "text": [
      "Your max_length is set to 50, but your input_length is only 3. Since this is a summarization task, where outputs shorter than the input are typically wanted, you might consider decreasing max_length manually, e.g. summarizer('...', max_length=1)\n"
     ]
    },
    {
     "name": "stdout",
     "output_type": "stream",
     "text": [
      "https://www.youtube.com/watch?v=nOYyTlQGWgQ\n",
      "sent extraction over\n",
      "Response call\n",
      "Failed to retrieve https://www.tipranks.com/stocks/amrk/forecast: Status code 503\n"
     ]
    },
    {
     "name": "stderr",
     "output_type": "stream",
     "text": [
      "Your max_length is set to 50, but your input_length is only 3. Since this is a summarization task, where outputs shorter than the input are typically wanted, you might consider decreasing max_length manually, e.g. summarizer('...', max_length=1)\n"
     ]
    },
    {
     "name": "stdout",
     "output_type": "stream",
     "text": [
      "sent extraction over\n",
      "Response call\n",
      "Failed to retrieve https://www.tipranks.com/stocks/amrk/ownership: Status code 503\n"
     ]
    },
    {
     "name": "stderr",
     "output_type": "stream",
     "text": [
      "Your max_length is set to 50, but your input_length is only 3. Since this is a summarization task, where outputs shorter than the input are typically wanted, you might consider decreasing max_length manually, e.g. summarizer('...', max_length=1)\n"
     ]
    },
    {
     "name": "stdout",
     "output_type": "stream",
     "text": [
      "sent extraction over\n",
      "Response call\n"
     ]
    },
    {
     "name": "stderr",
     "output_type": "stream",
     "text": [
      "Your max_length is set to 50, but your input_length is only 3. Since this is a summarization task, where outputs shorter than the input are typically wanted, you might consider decreasing max_length manually, e.g. summarizer('...', max_length=1)\n"
     ]
    },
    {
     "name": "stdout",
     "output_type": "stream",
     "text": [
      "https://www.marketbeat.com/instant-alerts/nasdaq-amrk-sec-filing-2024-03-10/\n",
      "sent extraction over\n",
      "Response call\n"
     ]
    },
    {
     "name": "stderr",
     "output_type": "stream",
     "text": [
      "Your max_length is set to 50, but your input_length is only 3. Since this is a summarization task, where outputs shorter than the input are typically wanted, you might consider decreasing max_length manually, e.g. summarizer('...', max_length=1)\n"
     ]
    },
    {
     "name": "stdout",
     "output_type": "stream",
     "text": [
      "https://www.linkedin.com/in/robert-miske-69101b90\n",
      "sent extraction over\n",
      "Response call\n",
      "http://fernfortuniversity.com/term-papers/pestelrusukr/c/426-a-mark-precious-metals.php\n",
      "sent extraction over\n",
      "Done\n",
      "Tractor Supply\n",
      "Calling the search\n",
      "Search complete\n",
      "Response call\n",
      "https://www.theretirementgroup.com/featured-article/5448097/tractor-supply-employees-can-chatgpt-help-with-your-budget\n",
      "sent extraction over\n",
      "Response call\n"
     ]
    },
    {
     "name": "stderr",
     "output_type": "stream",
     "text": [
      "Your max_length is set to 50, but your input_length is only 3. Since this is a summarization task, where outputs shorter than the input are typically wanted, you might consider decreasing max_length manually, e.g. summarizer('...', max_length=1)\n"
     ]
    },
    {
     "name": "stdout",
     "output_type": "stream",
     "text": [
      "https://www.linkedin.com/posts/ami-stephens_thanks-for-the-continued-partnership-tractor-activity-7118029085200564224-GA74?trk=public_profile_like_view\n",
      "sent extraction over\n",
      "Response call\n",
      "Request timed out for https://www.nasdaq.com/articles/tractor-supply-tsco-q4-earnings-beat-sales-lag-on-soft-comps. Attempting with Selenium.\n",
      "sent extraction over\n",
      "Response call\n"
     ]
    },
    {
     "name": "stderr",
     "output_type": "stream",
     "text": [
      "Your max_length is set to 50, but your input_length is only 3. Since this is a summarization task, where outputs shorter than the input are typically wanted, you might consider decreasing max_length manually, e.g. summarizer('...', max_length=1)\n"
     ]
    },
    {
     "name": "stdout",
     "output_type": "stream",
     "text": [
      "https://altindex.com/ticker/tsco/ai-stock-analysis\n",
      "sent extraction over\n",
      "Response call\n"
     ]
    },
    {
     "name": "stderr",
     "output_type": "stream",
     "text": [
      "Your max_length is set to 50, but your input_length is only 3. Since this is a summarization task, where outputs shorter than the input are typically wanted, you might consider decreasing max_length manually, e.g. summarizer('...', max_length=1)\n"
     ]
    },
    {
     "name": "stdout",
     "output_type": "stream",
     "text": [
      "https://www.reddit.com/r/mildlyinteresting/comments/191qqui/i_bought_a_roleplaying_game_from_tractor_supply_co/\n",
      "sent extraction over\n",
      "Response call\n",
      "https://www.linkedin.com/posts/hundredx_trust-in-chatgpt-is-wavering-amid-plagiarism-activity-7094416703249334272-x_3w\n",
      "sent extraction over\n",
      "Response call\n",
      "Failed to retrieve https://www.digitalcommerce360.com/2020/01/13/how-tractor-supply-is-upping-its-omnichannel-game/: Status code 403\n"
     ]
    },
    {
     "name": "stderr",
     "output_type": "stream",
     "text": [
      "Your max_length is set to 50, but your input_length is only 3. Since this is a summarization task, where outputs shorter than the input are typically wanted, you might consider decreasing max_length manually, e.g. summarizer('...', max_length=1)\n"
     ]
    },
    {
     "name": "stdout",
     "output_type": "stream",
     "text": [
      "sent extraction over\n",
      "Response call\n",
      "https://www.reddit.com/r/ChatGPTPromptGenius/comments/1an19gc/can_chatgpt_write_a_cover_letter/\n",
      "sent extraction over\n",
      "Done\n",
      "Sealed Air\n",
      "Calling the search\n",
      "Search complete\n",
      "Response call\n",
      "https://www.theretirementgroup.com/featured-article/5448097/sealed-air-employees-can-chatgpt-help-with-your-budget\n",
      "sent extraction over\n",
      "Response call\n",
      "Request timed out for https://www.nasdaq.com/articles/sealed-air-see-to-report-q4-earnings:-what-to-expect. Attempting with Selenium.\n",
      "sent extraction over\n",
      "Response call\n"
     ]
    },
    {
     "name": "stderr",
     "output_type": "stream",
     "text": [
      "Your max_length is set to 50, but your input_length is only 3. Since this is a summarization task, where outputs shorter than the input are typically wanted, you might consider decreasing max_length manually, e.g. summarizer('...', max_length=1)\n"
     ]
    },
    {
     "name": "stdout",
     "output_type": "stream",
     "text": [
      "https://mytechdecisions.com/project-of-the-week/sealed-air-collaboration/\n",
      "sent extraction over\n",
      "Response call\n",
      "https://www.linkedin.com/posts/annadibello_so-i-went-to-try-chatgpt-and-i-this-is-my-activity-7019573374787997696-U7t_\n",
      "sent extraction over\n",
      "Response call\n",
      "Request timed out for https://www.nasdaq.com/articles/sealed-air-see-q1-earnings-revenues-miss-estimates-down-y-y. Attempting with Selenium.\n",
      "sent extraction over\n",
      "Response call\n",
      "Failed to retrieve https://finance.yahoo.com/news/buy-drop-3-stocks-snag-202602705.html: Status code 404\n"
     ]
    },
    {
     "name": "stderr",
     "output_type": "stream",
     "text": [
      "Your max_length is set to 50, but your input_length is only 3. Since this is a summarization task, where outputs shorter than the input are typically wanted, you might consider decreasing max_length manually, e.g. summarizer('...', max_length=1)\n"
     ]
    },
    {
     "name": "stdout",
     "output_type": "stream",
     "text": [
      "sent extraction over\n",
      "Response call\n",
      "https://www.goingconcern.com/auditor-swap-bubble-popped-on-eys-engagement-with-sealed-air-corp/\n",
      "sent extraction over\n",
      "Response call\n"
     ]
    },
    {
     "name": "stderr",
     "output_type": "stream",
     "text": [
      "Your max_length is set to 50, but your input_length is only 3. Since this is a summarization task, where outputs shorter than the input are typically wanted, you might consider decreasing max_length manually, e.g. summarizer('...', max_length=1)\n"
     ]
    },
    {
     "name": "stdout",
     "output_type": "stream",
     "text": [
      "https://www.marketbeat.com/earnings/transcripts/101467/\n",
      "sent extraction over\n",
      "Done\n",
      "Auto-Owners Insurance\n",
      "Calling the search\n",
      "Search complete\n",
      "Response call\n",
      "https://www.linkedin.com/posts/kiri-hood-6a082bbb_council-post-4-ways-chatgpt-can-bolster-activity-7077829773980274688-p7KX\n",
      "sent extraction over\n",
      "Response call\n",
      "https://rejolut.com/blog/chatgpt-in-insurance/\n",
      "sent extraction over\n",
      "Response call\n",
      "Failed to retrieve https://wallethub.com/answers/ci/auto-owners-naic-number-1000286-2140741206/: Status code 403\n"
     ]
    },
    {
     "name": "stderr",
     "output_type": "stream",
     "text": [
      "Your max_length is set to 50, but your input_length is only 3. Since this is a summarization task, where outputs shorter than the input are typically wanted, you might consider decreasing max_length manually, e.g. summarizer('...', max_length=1)\n"
     ]
    },
    {
     "name": "stdout",
     "output_type": "stream",
     "text": [
      "sent extraction over\n",
      "Response call\n",
      "https://www.law360.com/articles/1584438/using-chatgpt-to-handle-insurance-claims-is-a-risky-move\n",
      "sent extraction over\n",
      "Response call\n"
     ]
    },
    {
     "name": "stderr",
     "output_type": "stream",
     "text": [
      "Your max_length is set to 50, but your input_length is only 3. Since this is a summarization task, where outputs shorter than the input are typically wanted, you might consider decreasing max_length manually, e.g. summarizer('...', max_length=1)\n"
     ]
    },
    {
     "name": "stdout",
     "output_type": "stream",
     "text": [
      "https://www.law.com/2014/06/11/bly-v-auto-owners-insurance-company\n",
      "sent extraction over\n",
      "Response call\n"
     ]
    },
    {
     "name": "stderr",
     "output_type": "stream",
     "text": [
      "Your max_length is set to 50, but your input_length is only 3. Since this is a summarization task, where outputs shorter than the input are typically wanted, you might consider decreasing max_length manually, e.g. summarizer('...', max_length=1)\n"
     ]
    },
    {
     "name": "stdout",
     "output_type": "stream",
     "text": [
      "https://hackernoon.com/company/auto-ownersinsurance\n",
      "sent extraction over\n",
      "Response call\n"
     ]
    },
    {
     "name": "stderr",
     "output_type": "stream",
     "text": [
      "Your max_length is set to 50, but your input_length is only 3. Since this is a summarization task, where outputs shorter than the input are typically wanted, you might consider decreasing max_length manually, e.g. summarizer('...', max_length=1)\n"
     ]
    },
    {
     "name": "stdout",
     "output_type": "stream",
     "text": [
      "https://www.law.com/2014/06/12/auto-owners-insurance-co-v-allen\n",
      "sent extraction over\n",
      "Response call\n",
      "https://www.linkedin.com/posts/fullerinsurance_httpslmsafecobbvd-activity-7150467562009411585-ecA6\n",
      "sent extraction over\n",
      "Done\n",
      "Yum China Holdings\n",
      "Calling the search\n",
      "Search complete\n",
      "Response call\n",
      "https://www.theretirementgroup.com/featured-article/5448097/yum-china-holdings-employees-can-chatgpt-help-with-your-budget\n",
      "sent extraction over\n",
      "Response call\n",
      "Request timed out for https://www.nasdaq.com/articles/yum-china-holdings-yumc-beats-q2-earnings-and-revenue-estimates. Attempting with Selenium.\n",
      "sent extraction over\n",
      "Response call\n"
     ]
    },
    {
     "name": "stderr",
     "output_type": "stream",
     "text": [
      "Your max_length is set to 50, but your input_length is only 3. Since this is a summarization task, where outputs shorter than the input are typically wanted, you might consider decreasing max_length manually, e.g. summarizer('...', max_length=1)\n"
     ]
    },
    {
     "name": "stdout",
     "output_type": "stream",
     "text": [
      "https://www.marketbeat.com/instant-alerts/nyse-yumc-lower-price-target-2024-03-06/\n",
      "sent extraction over\n",
      "Response call\n",
      "Request timed out for https://www.nasdaq.com/articles/yum-china-holdings-yumc-q1-earnings-and-revenues-top-estimates. Attempting with Selenium.\n",
      "sent extraction over\n",
      "Response call\n",
      "Failed to retrieve https://www.tipranks.com/stocks/yumc/ownership: Status code 503\n"
     ]
    },
    {
     "name": "stderr",
     "output_type": "stream",
     "text": [
      "Your max_length is set to 50, but your input_length is only 3. Since this is a summarization task, where outputs shorter than the input are typically wanted, you might consider decreasing max_length manually, e.g. summarizer('...', max_length=1)\n"
     ]
    },
    {
     "name": "stdout",
     "output_type": "stream",
     "text": [
      "sent extraction over\n",
      "Response call\n"
     ]
    },
    {
     "name": "stderr",
     "output_type": "stream",
     "text": [
      "Your max_length is set to 50, but your input_length is only 3. Since this is a summarization task, where outputs shorter than the input are typically wanted, you might consider decreasing max_length manually, e.g. summarizer('...', max_length=1)\n"
     ]
    },
    {
     "name": "stdout",
     "output_type": "stream",
     "text": [
      "https://coincodex.com/stocks/how-to-buy-YUMC/\n",
      "sent extraction over\n",
      "Response call\n"
     ]
    },
    {
     "name": "stderr",
     "output_type": "stream",
     "text": [
      "Your max_length is set to 50, but your input_length is only 3. Since this is a summarization task, where outputs shorter than the input are typically wanted, you might consider decreasing max_length manually, e.g. summarizer('...', max_length=1)\n"
     ]
    },
    {
     "name": "stdout",
     "output_type": "stream",
     "text": [
      "https://investorplace.com/2017/12/yum-brands-inc-stock-will-continue-to-deliver-as-india-stores-double/\n",
      "sent extraction over\n",
      "Response call\n"
     ]
    },
    {
     "name": "stderr",
     "output_type": "stream",
     "text": [
      "Your max_length is set to 50, but your input_length is only 3. Since this is a summarization task, where outputs shorter than the input are typically wanted, you might consider decreasing max_length manually, e.g. summarizer('...', max_length=1)\n"
     ]
    },
    {
     "name": "stdout",
     "output_type": "stream",
     "text": [
      "https://www.marketbeat.com/instant-alerts/nyse-yumc-consensus-analyst-rating-2024-03-12/\n",
      "sent extraction over\n",
      "Done\n",
      "Calpine\n",
      "Calling the search\n",
      "Search complete\n",
      "Response call\n",
      "Failed to retrieve https://www.latimes.com/archives/la-xpm-2005-aug-04-fi-calearns4-story.html: Status code 403\n"
     ]
    },
    {
     "name": "stderr",
     "output_type": "stream",
     "text": [
      "Your max_length is set to 50, but your input_length is only 3. Since this is a summarization task, where outputs shorter than the input are typically wanted, you might consider decreasing max_length manually, e.g. summarizer('...', max_length=1)\n"
     ]
    },
    {
     "name": "stdout",
     "output_type": "stream",
     "text": [
      "sent extraction over\n",
      "Response call\n",
      "https://www.linkedin.com/posts/sarah-d-ardenne_calpines-sutter-decarbonization-project-activity-7141166326600843264-y3mV\n",
      "sent extraction over\n",
      "Response call\n"
     ]
    },
    {
     "name": "stderr",
     "output_type": "stream",
     "text": [
      "Your max_length is set to 50, but your input_length is only 3. Since this is a summarization task, where outputs shorter than the input are typically wanted, you might consider decreasing max_length manually, e.g. summarizer('...', max_length=1)\n"
     ]
    },
    {
     "name": "stdout",
     "output_type": "stream",
     "text": [
      "https://www.computerworld.com/article/2575096/influence----dennis-fishback.html\n",
      "sent extraction over\n",
      "Response call\n",
      "https://promptbase.com/prompt/industry-analysis\n",
      "sent extraction over\n",
      "Response call\n",
      "https://www.linkedin.com/posts/joseph-a-selzle-pe_chatgpt-in-structural-engineering-activity-7155918184796114945-H8mA\n",
      "sent extraction over\n",
      "Response call\n"
     ]
    },
    {
     "name": "stderr",
     "output_type": "stream",
     "text": [
      "Your max_length is set to 50, but your input_length is only 3. Since this is a summarization task, where outputs shorter than the input are typically wanted, you might consider decreasing max_length manually, e.g. summarizer('...', max_length=1)\n"
     ]
    },
    {
     "name": "stdout",
     "output_type": "stream",
     "text": [
      "https://www.scamadviser.com/check-website/calpine.tap.edcor.com\n",
      "sent extraction over\n",
      "Response call\n"
     ]
    },
    {
     "name": "stderr",
     "output_type": "stream",
     "text": [
      "Your max_length is set to 50, but your input_length is only 3. Since this is a summarization task, where outputs shorter than the input are typically wanted, you might consider decreasing max_length manually, e.g. summarizer('...', max_length=1)\n"
     ]
    },
    {
     "name": "stdout",
     "output_type": "stream",
     "text": [
      "https://www.digitaljournal.com/pr/geothermal-energy-market-is-expected-to-boom-hyundai-calpine-corporation-aboitiz-power-corporation\n",
      "sent extraction over\n",
      "Response call\n"
     ]
    },
    {
     "name": "stderr",
     "output_type": "stream",
     "text": [
      "Your max_length is set to 50, but your input_length is only 3. Since this is a summarization task, where outputs shorter than the input are typically wanted, you might consider decreasing max_length manually, e.g. summarizer('...', max_length=1)\n"
     ]
    },
    {
     "name": "stdout",
     "output_type": "stream",
     "text": [
      "https://investorplace.com/2014/10/5-stocks-with-bad-earnings-momentum-fnbn-gyro-pnx-cpn-shld-fnbn-gyro-pnx-6/\n",
      "sent extraction over\n",
      "Done\n",
      "Owens-Illinois\n",
      "Calling the search\n",
      "Search complete\n",
      "Response call\n",
      "https://behavioralvalueinvestor.substack.com/p/beyond-hype-the-real-benefits-of\n",
      "sent extraction over\n",
      "Response call\n"
     ]
    },
    {
     "name": "stderr",
     "output_type": "stream",
     "text": [
      "Your max_length is set to 50, but your input_length is only 3. Since this is a summarization task, where outputs shorter than the input are typically wanted, you might consider decreasing max_length manually, e.g. summarizer('...', max_length=1)\n"
     ]
    },
    {
     "name": "stdout",
     "output_type": "stream",
     "text": [
      "https://www.bgdailynews.com/news/bottle-maker-o-i-glass-coming-to-transpark/article_681c2766-bf36-584a-9573-69edcf89730b.html\n",
      "sent extraction over\n",
      "Response call\n"
     ]
    },
    {
     "name": "stderr",
     "output_type": "stream",
     "text": [
      "Your max_length is set to 50, but your input_length is only 3. Since this is a summarization task, where outputs shorter than the input are typically wanted, you might consider decreasing max_length manually, e.g. summarizer('...', max_length=1)\n"
     ]
    },
    {
     "name": "stdout",
     "output_type": "stream",
     "text": [
      "https://montreal.ctvnews.ca/hundreds-of-workers-at-owens-illinois-glass-plant-in-montreal-go-on-strike-1.6394741?cache=ncyvrizdfixvnk%3FclipId%3D89619\n",
      "sent extraction over\n",
      "Response call\n"
     ]
    },
    {
     "name": "stderr",
     "output_type": "stream",
     "text": [
      "Your max_length is set to 50, but your input_length is only 3. Since this is a summarization task, where outputs shorter than the input are typically wanted, you might consider decreasing max_length manually, e.g. summarizer('...', max_length=1)\n"
     ]
    },
    {
     "name": "stdout",
     "output_type": "stream",
     "text": [
      "https://www.facebook.com/wacotrib/posts/waco-has-a-new-glass-recycling-program-up-and-running-just-a-few-months-after-th/784318333715229/\n",
      "sent extraction over\n",
      "Response call\n",
      "https://montreal.ctvnews.ca/hundreds-of-workers-at-owens-illinois-glass-plant-in-montreal-go-on-strike-1.6394741?cache=yes%3FautoPlay%3FclipId%3D89926%3Fot%3DAjaxLayout%3FautoPlay%3Dtrue\n"
     ]
    },
    {
     "name": "stderr",
     "output_type": "stream",
     "text": [
      "Your max_length is set to 50, but your input_length is only 3. Since this is a summarization task, where outputs shorter than the input are typically wanted, you might consider decreasing max_length manually, e.g. summarizer('...', max_length=1)\n"
     ]
    },
    {
     "name": "stdout",
     "output_type": "stream",
     "text": [
      "sent extraction over\n",
      "Response call\n"
     ]
    },
    {
     "name": "stderr",
     "output_type": "stream",
     "text": [
      "Your max_length is set to 50, but your input_length is only 40. Since this is a summarization task, where outputs shorter than the input are typically wanted, you might consider decreasing max_length manually, e.g. summarizer('...', max_length=20)\n"
     ]
    },
    {
     "name": "stdout",
     "output_type": "stream",
     "text": [
      "https://en.wikipedia.org/wiki/Wikipedia:Reference_desk/Archives/Humanities/2023_January_15\n",
      "sent extraction over\n",
      "Response call\n",
      "Failed to retrieve https://wacotrib.com/news/national/chatgpt-bot-channels-history-to-pen-state-of-union-speech/article_4f102cde-f24e-595d-a0dd-14f84a059a65.html: Status code 429\n"
     ]
    },
    {
     "ename": "KeyboardInterrupt",
     "evalue": "",
     "output_type": "error",
     "traceback": [
      "\u001b[0;31m---------------------------------------------------------------------------\u001b[0m",
      "\u001b[0;31mHTTPError\u001b[0m                                 Traceback (most recent call last)",
      "Cell \u001b[0;32mIn[20], line 58\u001b[0m, in \u001b[0;36mfetch_and_summarize_company_ai_usage\u001b[0;34m(company_name, country, Supersector, lang)\u001b[0m\n\u001b[1;32m     57\u001b[0m response \u001b[38;5;241m=\u001b[39m requests\u001b[38;5;241m.\u001b[39mget(url, timeout\u001b[38;5;241m=\u001b[39m\u001b[38;5;241m10\u001b[39m)\n\u001b[0;32m---> 58\u001b[0m \u001b[43mresponse\u001b[49m\u001b[38;5;241;43m.\u001b[39;49m\u001b[43mraise_for_status\u001b[49m\u001b[43m(\u001b[49m\u001b[43m)\u001b[49m  \u001b[38;5;66;03m# This will directly raise an exception for HTTP errors\u001b[39;00m\n\u001b[1;32m     59\u001b[0m page_source \u001b[38;5;241m=\u001b[39m response\u001b[38;5;241m.\u001b[39mtext\n",
      "File \u001b[0;32m~/anaconda3/envs/oxford_new/lib/python3.12/site-packages/requests/models.py:1021\u001b[0m, in \u001b[0;36mResponse.raise_for_status\u001b[0;34m(self)\u001b[0m\n\u001b[1;32m   1020\u001b[0m \u001b[38;5;28;01mif\u001b[39;00m http_error_msg:\n\u001b[0;32m-> 1021\u001b[0m     \u001b[38;5;28;01mraise\u001b[39;00m HTTPError(http_error_msg, response\u001b[38;5;241m=\u001b[39m\u001b[38;5;28mself\u001b[39m)\n",
      "\u001b[0;31mHTTPError\u001b[0m: 429 Client Error: Too Many Requests for url: https://wacotrib.com/news/national/chatgpt-bot-channels-history-to-pen-state-of-union-speech/article_4f102cde-f24e-595d-a0dd-14f84a059a65.html",
      "\nDuring handling of the above exception, another exception occurred:\n",
      "\u001b[0;31mKeyboardInterrupt\u001b[0m                         Traceback (most recent call last)",
      "Cell \u001b[0;32mIn[24], line 6\u001b[0m\n\u001b[1;32m      3\u001b[0m \u001b[38;5;28;01mfor\u001b[39;00m index, row \u001b[38;5;129;01min\u001b[39;00m Companies_list\u001b[38;5;241m.\u001b[39miloc[\u001b[38;5;241m274\u001b[39m:]\u001b[38;5;241m.\u001b[39miterrows():\n\u001b[1;32m      4\u001b[0m     \u001b[38;5;28;01mtry\u001b[39;00m:\n\u001b[1;32m      5\u001b[0m         \u001b[38;5;66;03m# Fetch and summarize data for the current company\u001b[39;00m\n\u001b[0;32m----> 6\u001b[0m         company_result \u001b[38;5;241m=\u001b[39m \u001b[43mfetch_and_summarize_company_ai_usage\u001b[49m\u001b[43m(\u001b[49m\u001b[43mrow\u001b[49m\u001b[43m[\u001b[49m\u001b[38;5;124;43m'\u001b[39;49m\u001b[38;5;124;43mname\u001b[39;49m\u001b[38;5;124;43m'\u001b[39;49m\u001b[43m]\u001b[49m\u001b[43m,\u001b[49m\u001b[43m \u001b[49m\u001b[43mrow\u001b[49m\u001b[43m[\u001b[49m\u001b[38;5;124;43m'\u001b[39;49m\u001b[38;5;124;43mCountry\u001b[39;49m\u001b[38;5;124;43m'\u001b[39;49m\u001b[43m]\u001b[49m\u001b[43m,\u001b[49m\u001b[43m \u001b[49m\u001b[43mrow\u001b[49m\u001b[43m[\u001b[49m\u001b[38;5;124;43m'\u001b[39;49m\u001b[38;5;124;43mSector\u001b[39;49m\u001b[38;5;124;43m'\u001b[39;49m\u001b[43m]\u001b[49m\u001b[43m,\u001b[49m\u001b[43m \u001b[49m\u001b[43mrow\u001b[49m\u001b[43m[\u001b[49m\u001b[38;5;124;43m'\u001b[39;49m\u001b[38;5;124;43mLanguage Code\u001b[39;49m\u001b[38;5;124;43m'\u001b[39;49m\u001b[43m]\u001b[49m\u001b[43m)\u001b[49m\n\u001b[1;32m      7\u001b[0m         results\u001b[38;5;241m.\u001b[39mappend(company_result)\n\u001b[1;32m      8\u001b[0m         \u001b[38;5;28mprint\u001b[39m(\u001b[38;5;124m'\u001b[39m\u001b[38;5;124mDone\u001b[39m\u001b[38;5;124m'\u001b[39m)\n",
      "Cell \u001b[0;32mIn[20], line 75\u001b[0m, in \u001b[0;36mfetch_and_summarize_company_ai_usage\u001b[0;34m(company_name, country, Supersector, lang)\u001b[0m\n\u001b[1;32m     72\u001b[0m \u001b[38;5;28mprint\u001b[39m(\u001b[38;5;124mf\u001b[39m\u001b[38;5;124m\"\u001b[39m\u001b[38;5;124mFailed to retrieve \u001b[39m\u001b[38;5;132;01m{\u001b[39;00murl\u001b[38;5;132;01m}\u001b[39;00m\u001b[38;5;124m: Status code \u001b[39m\u001b[38;5;132;01m{\u001b[39;00mresponse\u001b[38;5;241m.\u001b[39mstatus_code\u001b[38;5;132;01m}\u001b[39;00m\u001b[38;5;124m\"\u001b[39m)\n\u001b[1;32m     74\u001b[0m \u001b[38;5;66;03m#Here I call the selium function to run it \u001b[39;00m\n\u001b[0;32m---> 75\u001b[0m \u001b[43mdriver\u001b[49m\u001b[38;5;241;43m.\u001b[39;49m\u001b[43mget\u001b[49m\u001b[43m(\u001b[49m\u001b[43murl\u001b[49m\u001b[43m)\u001b[49m\n\u001b[1;32m     76\u001b[0m page_source \u001b[38;5;241m=\u001b[39m driver\u001b[38;5;241m.\u001b[39mpage_source\n\u001b[1;32m     77\u001b[0m time\u001b[38;5;241m.\u001b[39msleep(\u001b[38;5;241m10\u001b[39m)\n",
      "File \u001b[0;32m~/anaconda3/envs/oxford_new/lib/python3.12/site-packages/selenium/webdriver/remote/webdriver.py:356\u001b[0m, in \u001b[0;36mWebDriver.get\u001b[0;34m(self, url)\u001b[0m\n\u001b[1;32m    354\u001b[0m \u001b[38;5;28;01mdef\u001b[39;00m \u001b[38;5;21mget\u001b[39m(\u001b[38;5;28mself\u001b[39m, url: \u001b[38;5;28mstr\u001b[39m) \u001b[38;5;241m-\u001b[39m\u001b[38;5;241m>\u001b[39m \u001b[38;5;28;01mNone\u001b[39;00m:\n\u001b[1;32m    355\u001b[0m \u001b[38;5;250m    \u001b[39m\u001b[38;5;124;03m\"\"\"Loads a web page in the current browser session.\"\"\"\u001b[39;00m\n\u001b[0;32m--> 356\u001b[0m     \u001b[38;5;28;43mself\u001b[39;49m\u001b[38;5;241;43m.\u001b[39;49m\u001b[43mexecute\u001b[49m\u001b[43m(\u001b[49m\u001b[43mCommand\u001b[49m\u001b[38;5;241;43m.\u001b[39;49m\u001b[43mGET\u001b[49m\u001b[43m,\u001b[49m\u001b[43m \u001b[49m\u001b[43m{\u001b[49m\u001b[38;5;124;43m\"\u001b[39;49m\u001b[38;5;124;43murl\u001b[39;49m\u001b[38;5;124;43m\"\u001b[39;49m\u001b[43m:\u001b[49m\u001b[43m \u001b[49m\u001b[43murl\u001b[49m\u001b[43m}\u001b[49m\u001b[43m)\u001b[49m\n",
      "File \u001b[0;32m~/anaconda3/envs/oxford_new/lib/python3.12/site-packages/selenium/webdriver/remote/webdriver.py:345\u001b[0m, in \u001b[0;36mWebDriver.execute\u001b[0;34m(self, driver_command, params)\u001b[0m\n\u001b[1;32m    342\u001b[0m     \u001b[38;5;28;01melif\u001b[39;00m \u001b[38;5;124m\"\u001b[39m\u001b[38;5;124msessionId\u001b[39m\u001b[38;5;124m\"\u001b[39m \u001b[38;5;129;01mnot\u001b[39;00m \u001b[38;5;129;01min\u001b[39;00m params:\n\u001b[1;32m    343\u001b[0m         params[\u001b[38;5;124m\"\u001b[39m\u001b[38;5;124msessionId\u001b[39m\u001b[38;5;124m\"\u001b[39m] \u001b[38;5;241m=\u001b[39m \u001b[38;5;28mself\u001b[39m\u001b[38;5;241m.\u001b[39msession_id\n\u001b[0;32m--> 345\u001b[0m response \u001b[38;5;241m=\u001b[39m \u001b[38;5;28;43mself\u001b[39;49m\u001b[38;5;241;43m.\u001b[39;49m\u001b[43mcommand_executor\u001b[49m\u001b[38;5;241;43m.\u001b[39;49m\u001b[43mexecute\u001b[49m\u001b[43m(\u001b[49m\u001b[43mdriver_command\u001b[49m\u001b[43m,\u001b[49m\u001b[43m \u001b[49m\u001b[43mparams\u001b[49m\u001b[43m)\u001b[49m\n\u001b[1;32m    346\u001b[0m \u001b[38;5;28;01mif\u001b[39;00m response:\n\u001b[1;32m    347\u001b[0m     \u001b[38;5;28mself\u001b[39m\u001b[38;5;241m.\u001b[39merror_handler\u001b[38;5;241m.\u001b[39mcheck_response(response)\n",
      "File \u001b[0;32m~/anaconda3/envs/oxford_new/lib/python3.12/site-packages/selenium/webdriver/remote/remote_connection.py:302\u001b[0m, in \u001b[0;36mRemoteConnection.execute\u001b[0;34m(self, command, params)\u001b[0m\n\u001b[1;32m    300\u001b[0m trimmed \u001b[38;5;241m=\u001b[39m \u001b[38;5;28mself\u001b[39m\u001b[38;5;241m.\u001b[39m_trim_large_entries(params)\n\u001b[1;32m    301\u001b[0m LOGGER\u001b[38;5;241m.\u001b[39mdebug(\u001b[38;5;124m\"\u001b[39m\u001b[38;5;132;01m%s\u001b[39;00m\u001b[38;5;124m \u001b[39m\u001b[38;5;132;01m%s\u001b[39;00m\u001b[38;5;124m \u001b[39m\u001b[38;5;132;01m%s\u001b[39;00m\u001b[38;5;124m\"\u001b[39m, command_info[\u001b[38;5;241m0\u001b[39m], url, \u001b[38;5;28mstr\u001b[39m(trimmed))\n\u001b[0;32m--> 302\u001b[0m \u001b[38;5;28;01mreturn\u001b[39;00m \u001b[38;5;28;43mself\u001b[39;49m\u001b[38;5;241;43m.\u001b[39;49m\u001b[43m_request\u001b[49m\u001b[43m(\u001b[49m\u001b[43mcommand_info\u001b[49m\u001b[43m[\u001b[49m\u001b[38;5;241;43m0\u001b[39;49m\u001b[43m]\u001b[49m\u001b[43m,\u001b[49m\u001b[43m \u001b[49m\u001b[43murl\u001b[49m\u001b[43m,\u001b[49m\u001b[43m \u001b[49m\u001b[43mbody\u001b[49m\u001b[38;5;241;43m=\u001b[39;49m\u001b[43mdata\u001b[49m\u001b[43m)\u001b[49m\n",
      "File \u001b[0;32m~/anaconda3/envs/oxford_new/lib/python3.12/site-packages/selenium/webdriver/remote/remote_connection.py:322\u001b[0m, in \u001b[0;36mRemoteConnection._request\u001b[0;34m(self, method, url, body)\u001b[0m\n\u001b[1;32m    319\u001b[0m     body \u001b[38;5;241m=\u001b[39m \u001b[38;5;28;01mNone\u001b[39;00m\n\u001b[1;32m    321\u001b[0m \u001b[38;5;28;01mif\u001b[39;00m \u001b[38;5;28mself\u001b[39m\u001b[38;5;241m.\u001b[39mkeep_alive:\n\u001b[0;32m--> 322\u001b[0m     response \u001b[38;5;241m=\u001b[39m \u001b[38;5;28;43mself\u001b[39;49m\u001b[38;5;241;43m.\u001b[39;49m\u001b[43m_conn\u001b[49m\u001b[38;5;241;43m.\u001b[39;49m\u001b[43mrequest\u001b[49m\u001b[43m(\u001b[49m\u001b[43mmethod\u001b[49m\u001b[43m,\u001b[49m\u001b[43m \u001b[49m\u001b[43murl\u001b[49m\u001b[43m,\u001b[49m\u001b[43m \u001b[49m\u001b[43mbody\u001b[49m\u001b[38;5;241;43m=\u001b[39;49m\u001b[43mbody\u001b[49m\u001b[43m,\u001b[49m\u001b[43m \u001b[49m\u001b[43mheaders\u001b[49m\u001b[38;5;241;43m=\u001b[39;49m\u001b[43mheaders\u001b[49m\u001b[43m)\u001b[49m\n\u001b[1;32m    323\u001b[0m     statuscode \u001b[38;5;241m=\u001b[39m response\u001b[38;5;241m.\u001b[39mstatus\n\u001b[1;32m    324\u001b[0m \u001b[38;5;28;01melse\u001b[39;00m:\n",
      "File \u001b[0;32m~/anaconda3/envs/oxford_new/lib/python3.12/site-packages/urllib3/_request_methods.py:144\u001b[0m, in \u001b[0;36mRequestMethods.request\u001b[0;34m(self, method, url, body, fields, headers, json, **urlopen_kw)\u001b[0m\n\u001b[1;32m    136\u001b[0m     \u001b[38;5;28;01mreturn\u001b[39;00m \u001b[38;5;28mself\u001b[39m\u001b[38;5;241m.\u001b[39mrequest_encode_url(\n\u001b[1;32m    137\u001b[0m         method,\n\u001b[1;32m    138\u001b[0m         url,\n\u001b[0;32m   (...)\u001b[0m\n\u001b[1;32m    141\u001b[0m         \u001b[38;5;241m*\u001b[39m\u001b[38;5;241m*\u001b[39murlopen_kw,\n\u001b[1;32m    142\u001b[0m     )\n\u001b[1;32m    143\u001b[0m \u001b[38;5;28;01melse\u001b[39;00m:\n\u001b[0;32m--> 144\u001b[0m     \u001b[38;5;28;01mreturn\u001b[39;00m \u001b[38;5;28;43mself\u001b[39;49m\u001b[38;5;241;43m.\u001b[39;49m\u001b[43mrequest_encode_body\u001b[49m\u001b[43m(\u001b[49m\n\u001b[1;32m    145\u001b[0m \u001b[43m        \u001b[49m\u001b[43mmethod\u001b[49m\u001b[43m,\u001b[49m\u001b[43m \u001b[49m\u001b[43murl\u001b[49m\u001b[43m,\u001b[49m\u001b[43m \u001b[49m\u001b[43mfields\u001b[49m\u001b[38;5;241;43m=\u001b[39;49m\u001b[43mfields\u001b[49m\u001b[43m,\u001b[49m\u001b[43m \u001b[49m\u001b[43mheaders\u001b[49m\u001b[38;5;241;43m=\u001b[39;49m\u001b[43mheaders\u001b[49m\u001b[43m,\u001b[49m\u001b[43m \u001b[49m\u001b[38;5;241;43m*\u001b[39;49m\u001b[38;5;241;43m*\u001b[39;49m\u001b[43murlopen_kw\u001b[49m\n\u001b[1;32m    146\u001b[0m \u001b[43m    \u001b[49m\u001b[43m)\u001b[49m\n",
      "File \u001b[0;32m~/anaconda3/envs/oxford_new/lib/python3.12/site-packages/urllib3/_request_methods.py:279\u001b[0m, in \u001b[0;36mRequestMethods.request_encode_body\u001b[0;34m(self, method, url, fields, headers, encode_multipart, multipart_boundary, **urlopen_kw)\u001b[0m\n\u001b[1;32m    275\u001b[0m     extra_kw[\u001b[38;5;124m\"\u001b[39m\u001b[38;5;124mheaders\u001b[39m\u001b[38;5;124m\"\u001b[39m]\u001b[38;5;241m.\u001b[39msetdefault(\u001b[38;5;124m\"\u001b[39m\u001b[38;5;124mContent-Type\u001b[39m\u001b[38;5;124m\"\u001b[39m, content_type)\n\u001b[1;32m    277\u001b[0m extra_kw\u001b[38;5;241m.\u001b[39mupdate(urlopen_kw)\n\u001b[0;32m--> 279\u001b[0m \u001b[38;5;28;01mreturn\u001b[39;00m \u001b[38;5;28;43mself\u001b[39;49m\u001b[38;5;241;43m.\u001b[39;49m\u001b[43murlopen\u001b[49m\u001b[43m(\u001b[49m\u001b[43mmethod\u001b[49m\u001b[43m,\u001b[49m\u001b[43m \u001b[49m\u001b[43murl\u001b[49m\u001b[43m,\u001b[49m\u001b[43m \u001b[49m\u001b[38;5;241;43m*\u001b[39;49m\u001b[38;5;241;43m*\u001b[39;49m\u001b[43mextra_kw\u001b[49m\u001b[43m)\u001b[49m\n",
      "File \u001b[0;32m~/anaconda3/envs/oxford_new/lib/python3.12/site-packages/urllib3/poolmanager.py:444\u001b[0m, in \u001b[0;36mPoolManager.urlopen\u001b[0;34m(self, method, url, redirect, **kw)\u001b[0m\n\u001b[1;32m    442\u001b[0m     response \u001b[38;5;241m=\u001b[39m conn\u001b[38;5;241m.\u001b[39murlopen(method, url, \u001b[38;5;241m*\u001b[39m\u001b[38;5;241m*\u001b[39mkw)\n\u001b[1;32m    443\u001b[0m \u001b[38;5;28;01melse\u001b[39;00m:\n\u001b[0;32m--> 444\u001b[0m     response \u001b[38;5;241m=\u001b[39m \u001b[43mconn\u001b[49m\u001b[38;5;241;43m.\u001b[39;49m\u001b[43murlopen\u001b[49m\u001b[43m(\u001b[49m\u001b[43mmethod\u001b[49m\u001b[43m,\u001b[49m\u001b[43m \u001b[49m\u001b[43mu\u001b[49m\u001b[38;5;241;43m.\u001b[39;49m\u001b[43mrequest_uri\u001b[49m\u001b[43m,\u001b[49m\u001b[43m \u001b[49m\u001b[38;5;241;43m*\u001b[39;49m\u001b[38;5;241;43m*\u001b[39;49m\u001b[43mkw\u001b[49m\u001b[43m)\u001b[49m\n\u001b[1;32m    446\u001b[0m redirect_location \u001b[38;5;241m=\u001b[39m redirect \u001b[38;5;129;01mand\u001b[39;00m response\u001b[38;5;241m.\u001b[39mget_redirect_location()\n\u001b[1;32m    447\u001b[0m \u001b[38;5;28;01mif\u001b[39;00m \u001b[38;5;129;01mnot\u001b[39;00m redirect_location:\n",
      "File \u001b[0;32m~/anaconda3/envs/oxford_new/lib/python3.12/site-packages/urllib3/connectionpool.py:793\u001b[0m, in \u001b[0;36mHTTPConnectionPool.urlopen\u001b[0;34m(self, method, url, body, headers, retries, redirect, assert_same_host, timeout, pool_timeout, release_conn, chunked, body_pos, preload_content, decode_content, **response_kw)\u001b[0m\n\u001b[1;32m    790\u001b[0m response_conn \u001b[38;5;241m=\u001b[39m conn \u001b[38;5;28;01mif\u001b[39;00m \u001b[38;5;129;01mnot\u001b[39;00m release_conn \u001b[38;5;28;01melse\u001b[39;00m \u001b[38;5;28;01mNone\u001b[39;00m\n\u001b[1;32m    792\u001b[0m \u001b[38;5;66;03m# Make the request on the HTTPConnection object\u001b[39;00m\n\u001b[0;32m--> 793\u001b[0m response \u001b[38;5;241m=\u001b[39m \u001b[38;5;28;43mself\u001b[39;49m\u001b[38;5;241;43m.\u001b[39;49m\u001b[43m_make_request\u001b[49m\u001b[43m(\u001b[49m\n\u001b[1;32m    794\u001b[0m \u001b[43m    \u001b[49m\u001b[43mconn\u001b[49m\u001b[43m,\u001b[49m\n\u001b[1;32m    795\u001b[0m \u001b[43m    \u001b[49m\u001b[43mmethod\u001b[49m\u001b[43m,\u001b[49m\n\u001b[1;32m    796\u001b[0m \u001b[43m    \u001b[49m\u001b[43murl\u001b[49m\u001b[43m,\u001b[49m\n\u001b[1;32m    797\u001b[0m \u001b[43m    \u001b[49m\u001b[43mtimeout\u001b[49m\u001b[38;5;241;43m=\u001b[39;49m\u001b[43mtimeout_obj\u001b[49m\u001b[43m,\u001b[49m\n\u001b[1;32m    798\u001b[0m \u001b[43m    \u001b[49m\u001b[43mbody\u001b[49m\u001b[38;5;241;43m=\u001b[39;49m\u001b[43mbody\u001b[49m\u001b[43m,\u001b[49m\n\u001b[1;32m    799\u001b[0m \u001b[43m    \u001b[49m\u001b[43mheaders\u001b[49m\u001b[38;5;241;43m=\u001b[39;49m\u001b[43mheaders\u001b[49m\u001b[43m,\u001b[49m\n\u001b[1;32m    800\u001b[0m \u001b[43m    \u001b[49m\u001b[43mchunked\u001b[49m\u001b[38;5;241;43m=\u001b[39;49m\u001b[43mchunked\u001b[49m\u001b[43m,\u001b[49m\n\u001b[1;32m    801\u001b[0m \u001b[43m    \u001b[49m\u001b[43mretries\u001b[49m\u001b[38;5;241;43m=\u001b[39;49m\u001b[43mretries\u001b[49m\u001b[43m,\u001b[49m\n\u001b[1;32m    802\u001b[0m \u001b[43m    \u001b[49m\u001b[43mresponse_conn\u001b[49m\u001b[38;5;241;43m=\u001b[39;49m\u001b[43mresponse_conn\u001b[49m\u001b[43m,\u001b[49m\n\u001b[1;32m    803\u001b[0m \u001b[43m    \u001b[49m\u001b[43mpreload_content\u001b[49m\u001b[38;5;241;43m=\u001b[39;49m\u001b[43mpreload_content\u001b[49m\u001b[43m,\u001b[49m\n\u001b[1;32m    804\u001b[0m \u001b[43m    \u001b[49m\u001b[43mdecode_content\u001b[49m\u001b[38;5;241;43m=\u001b[39;49m\u001b[43mdecode_content\u001b[49m\u001b[43m,\u001b[49m\n\u001b[1;32m    805\u001b[0m \u001b[43m    \u001b[49m\u001b[38;5;241;43m*\u001b[39;49m\u001b[38;5;241;43m*\u001b[39;49m\u001b[43mresponse_kw\u001b[49m\u001b[43m,\u001b[49m\n\u001b[1;32m    806\u001b[0m \u001b[43m\u001b[49m\u001b[43m)\u001b[49m\n\u001b[1;32m    808\u001b[0m \u001b[38;5;66;03m# Everything went great!\u001b[39;00m\n\u001b[1;32m    809\u001b[0m clean_exit \u001b[38;5;241m=\u001b[39m \u001b[38;5;28;01mTrue\u001b[39;00m\n",
      "File \u001b[0;32m~/anaconda3/envs/oxford_new/lib/python3.12/site-packages/urllib3/connectionpool.py:537\u001b[0m, in \u001b[0;36mHTTPConnectionPool._make_request\u001b[0;34m(self, conn, method, url, body, headers, retries, timeout, chunked, response_conn, preload_content, decode_content, enforce_content_length)\u001b[0m\n\u001b[1;32m    535\u001b[0m \u001b[38;5;66;03m# Receive the response from the server\u001b[39;00m\n\u001b[1;32m    536\u001b[0m \u001b[38;5;28;01mtry\u001b[39;00m:\n\u001b[0;32m--> 537\u001b[0m     response \u001b[38;5;241m=\u001b[39m \u001b[43mconn\u001b[49m\u001b[38;5;241;43m.\u001b[39;49m\u001b[43mgetresponse\u001b[49m\u001b[43m(\u001b[49m\u001b[43m)\u001b[49m\n\u001b[1;32m    538\u001b[0m \u001b[38;5;28;01mexcept\u001b[39;00m (BaseSSLError, \u001b[38;5;167;01mOSError\u001b[39;00m) \u001b[38;5;28;01mas\u001b[39;00m e:\n\u001b[1;32m    539\u001b[0m     \u001b[38;5;28mself\u001b[39m\u001b[38;5;241m.\u001b[39m_raise_timeout(err\u001b[38;5;241m=\u001b[39me, url\u001b[38;5;241m=\u001b[39murl, timeout_value\u001b[38;5;241m=\u001b[39mread_timeout)\n",
      "File \u001b[0;32m~/anaconda3/envs/oxford_new/lib/python3.12/site-packages/urllib3/connection.py:466\u001b[0m, in \u001b[0;36mHTTPConnection.getresponse\u001b[0;34m(self)\u001b[0m\n\u001b[1;32m    463\u001b[0m \u001b[38;5;28;01mfrom\u001b[39;00m \u001b[38;5;21;01m.\u001b[39;00m\u001b[38;5;21;01mresponse\u001b[39;00m \u001b[38;5;28;01mimport\u001b[39;00m HTTPResponse\n\u001b[1;32m    465\u001b[0m \u001b[38;5;66;03m# Get the response from http.client.HTTPConnection\u001b[39;00m\n\u001b[0;32m--> 466\u001b[0m httplib_response \u001b[38;5;241m=\u001b[39m \u001b[38;5;28;43msuper\u001b[39;49m\u001b[43m(\u001b[49m\u001b[43m)\u001b[49m\u001b[38;5;241;43m.\u001b[39;49m\u001b[43mgetresponse\u001b[49m\u001b[43m(\u001b[49m\u001b[43m)\u001b[49m\n\u001b[1;32m    468\u001b[0m \u001b[38;5;28;01mtry\u001b[39;00m:\n\u001b[1;32m    469\u001b[0m     assert_header_parsing(httplib_response\u001b[38;5;241m.\u001b[39mmsg)\n",
      "File \u001b[0;32m~/anaconda3/envs/oxford_new/lib/python3.12/http/client.py:1419\u001b[0m, in \u001b[0;36mHTTPConnection.getresponse\u001b[0;34m(self)\u001b[0m\n\u001b[1;32m   1417\u001b[0m \u001b[38;5;28;01mtry\u001b[39;00m:\n\u001b[1;32m   1418\u001b[0m     \u001b[38;5;28;01mtry\u001b[39;00m:\n\u001b[0;32m-> 1419\u001b[0m         \u001b[43mresponse\u001b[49m\u001b[38;5;241;43m.\u001b[39;49m\u001b[43mbegin\u001b[49m\u001b[43m(\u001b[49m\u001b[43m)\u001b[49m\n\u001b[1;32m   1420\u001b[0m     \u001b[38;5;28;01mexcept\u001b[39;00m \u001b[38;5;167;01mConnectionError\u001b[39;00m:\n\u001b[1;32m   1421\u001b[0m         \u001b[38;5;28mself\u001b[39m\u001b[38;5;241m.\u001b[39mclose()\n",
      "File \u001b[0;32m~/anaconda3/envs/oxford_new/lib/python3.12/http/client.py:331\u001b[0m, in \u001b[0;36mHTTPResponse.begin\u001b[0;34m(self)\u001b[0m\n\u001b[1;32m    329\u001b[0m \u001b[38;5;66;03m# read until we get a non-100 response\u001b[39;00m\n\u001b[1;32m    330\u001b[0m \u001b[38;5;28;01mwhile\u001b[39;00m \u001b[38;5;28;01mTrue\u001b[39;00m:\n\u001b[0;32m--> 331\u001b[0m     version, status, reason \u001b[38;5;241m=\u001b[39m \u001b[38;5;28;43mself\u001b[39;49m\u001b[38;5;241;43m.\u001b[39;49m\u001b[43m_read_status\u001b[49m\u001b[43m(\u001b[49m\u001b[43m)\u001b[49m\n\u001b[1;32m    332\u001b[0m     \u001b[38;5;28;01mif\u001b[39;00m status \u001b[38;5;241m!=\u001b[39m CONTINUE:\n\u001b[1;32m    333\u001b[0m         \u001b[38;5;28;01mbreak\u001b[39;00m\n",
      "File \u001b[0;32m~/anaconda3/envs/oxford_new/lib/python3.12/http/client.py:292\u001b[0m, in \u001b[0;36mHTTPResponse._read_status\u001b[0;34m(self)\u001b[0m\n\u001b[1;32m    291\u001b[0m \u001b[38;5;28;01mdef\u001b[39;00m \u001b[38;5;21m_read_status\u001b[39m(\u001b[38;5;28mself\u001b[39m):\n\u001b[0;32m--> 292\u001b[0m     line \u001b[38;5;241m=\u001b[39m \u001b[38;5;28mstr\u001b[39m(\u001b[38;5;28;43mself\u001b[39;49m\u001b[38;5;241;43m.\u001b[39;49m\u001b[43mfp\u001b[49m\u001b[38;5;241;43m.\u001b[39;49m\u001b[43mreadline\u001b[49m\u001b[43m(\u001b[49m\u001b[43m_MAXLINE\u001b[49m\u001b[43m \u001b[49m\u001b[38;5;241;43m+\u001b[39;49m\u001b[43m \u001b[49m\u001b[38;5;241;43m1\u001b[39;49m\u001b[43m)\u001b[49m, \u001b[38;5;124m\"\u001b[39m\u001b[38;5;124miso-8859-1\u001b[39m\u001b[38;5;124m\"\u001b[39m)\n\u001b[1;32m    293\u001b[0m     \u001b[38;5;28;01mif\u001b[39;00m \u001b[38;5;28mlen\u001b[39m(line) \u001b[38;5;241m>\u001b[39m _MAXLINE:\n\u001b[1;32m    294\u001b[0m         \u001b[38;5;28;01mraise\u001b[39;00m LineTooLong(\u001b[38;5;124m\"\u001b[39m\u001b[38;5;124mstatus line\u001b[39m\u001b[38;5;124m\"\u001b[39m)\n",
      "File \u001b[0;32m~/anaconda3/envs/oxford_new/lib/python3.12/socket.py:707\u001b[0m, in \u001b[0;36mSocketIO.readinto\u001b[0;34m(self, b)\u001b[0m\n\u001b[1;32m    705\u001b[0m \u001b[38;5;28;01mwhile\u001b[39;00m \u001b[38;5;28;01mTrue\u001b[39;00m:\n\u001b[1;32m    706\u001b[0m     \u001b[38;5;28;01mtry\u001b[39;00m:\n\u001b[0;32m--> 707\u001b[0m         \u001b[38;5;28;01mreturn\u001b[39;00m \u001b[38;5;28;43mself\u001b[39;49m\u001b[38;5;241;43m.\u001b[39;49m\u001b[43m_sock\u001b[49m\u001b[38;5;241;43m.\u001b[39;49m\u001b[43mrecv_into\u001b[49m\u001b[43m(\u001b[49m\u001b[43mb\u001b[49m\u001b[43m)\u001b[49m\n\u001b[1;32m    708\u001b[0m     \u001b[38;5;28;01mexcept\u001b[39;00m timeout:\n\u001b[1;32m    709\u001b[0m         \u001b[38;5;28mself\u001b[39m\u001b[38;5;241m.\u001b[39m_timeout_occurred \u001b[38;5;241m=\u001b[39m \u001b[38;5;28;01mTrue\u001b[39;00m\n",
      "\u001b[0;31mKeyboardInterrupt\u001b[0m: "
     ]
    }
   ],
   "source": [
    "results = []  # This will hold the results from all companies\n",
    "\n",
    "for index, row in Companies_list.iloc[274:].iterrows():\n",
    "    try:\n",
    "        # Fetch and summarize data for the current company\n",
    "        company_result = fetch_and_summarize_company_ai_usage(row['name'], row['Country'], row['Sector'], row['Language Code'])\n",
    "        results.append(company_result)\n",
    "        print('Done')\n",
    "\n",
    "        # Convert the list of results to a DataFrame\n",
    "        interim_results_df = pd.concat(results, ignore_index=True)\n",
    "\n",
    "        # Save the interim results to a file after each successful iteration\n",
    "        # You can choose a different format like Excel (to_excel) or a database\n",
    "        interim_results_df.to_csv('interim_results_gpt_14.csv', index=False)\n",
    "        \n",
    "        delay = random.randint(45,65)\n",
    "        time.sleep(delay)\n",
    "    \n",
    "    except Exception as e:\n",
    "        print(f\"An error occurred while processing {row['name']}: {e}\")\n",
    "        # You can choose to log the error or perform other error handling here\n",
    "\n",
    "# Once the loop is complete, load the saved data\n",
    "final_results_df = pd.read_csv('final_results_gpt_1.csv')"
   ]
  },
  {
   "cell_type": "code",
   "execution_count": null,
   "id": "9c7159c4-97d8-4183-b266-fb95cf54a1ff",
   "metadata": {},
   "outputs": [],
   "source": [
    "#Foundational model generators code: "
   ]
  },
  {
   "cell_type": "code",
   "execution_count": 30,
   "id": "f3cea676-97c5-4367-b626-df53a8301ed8",
   "metadata": {},
   "outputs": [],
   "source": []
  },
  {
   "cell_type": "code",
   "execution_count": 50,
   "id": "8b43cae1-4bb6-4548-b2be-0b30baf8eaff",
   "metadata": {
    "collapsed": true,
    "jupyter": {
     "outputs_hidden": true
    }
   },
   "outputs": [
    {
     "name": "stdout",
     "output_type": "stream",
     "text": [
      "Microsoft Corp.(MSFT)\n",
      "Calling the search\n",
      "Search complete\n"
     ]
    },
    {
     "ename": "KeyboardInterrupt",
     "evalue": "",
     "output_type": "error",
     "traceback": [
      "\u001b[0;31m---------------------------------------------------------------------------\u001b[0m",
      "\u001b[0;31mKeyboardInterrupt\u001b[0m                         Traceback (most recent call last)",
      "Cell \u001b[0;32mIn[50], line 1\u001b[0m\n\u001b[0;32m----> 1\u001b[0m company_result \u001b[38;5;241m=\u001b[39m \u001b[43mfetch_and_summarize_company_ai_usage\u001b[49m\u001b[43m(\u001b[49m\u001b[43mrow\u001b[49m\u001b[43m[\u001b[49m\u001b[38;5;124;43m'\u001b[39;49m\u001b[38;5;124;43mName\u001b[39;49m\u001b[38;5;124;43m'\u001b[39;49m\u001b[43m]\u001b[49m\u001b[43m,\u001b[49m\u001b[43m \u001b[49m\u001b[43mrow\u001b[49m\u001b[43m[\u001b[49m\u001b[38;5;124;43m'\u001b[39;49m\u001b[38;5;124;43mCountry\u001b[39;49m\u001b[38;5;124;43m'\u001b[39;49m\u001b[43m]\u001b[49m\u001b[43m,\u001b[49m\u001b[43m \u001b[49m\u001b[43mrow\u001b[49m\u001b[43m[\u001b[49m\u001b[38;5;124;43m'\u001b[39;49m\u001b[38;5;124;43mSuperSector\u001b[39;49m\u001b[38;5;124;43m'\u001b[39;49m\u001b[43m]\u001b[49m\u001b[43m,\u001b[49m\u001b[43m \u001b[49m\u001b[43mrow\u001b[49m\u001b[43m[\u001b[49m\u001b[38;5;124;43m'\u001b[39;49m\u001b[38;5;124;43mLanguage Code\u001b[39;49m\u001b[38;5;124;43m'\u001b[39;49m\u001b[43m]\u001b[49m\u001b[43m)\u001b[49m\n",
      "Cell \u001b[0;32mIn[49], line 59\u001b[0m, in \u001b[0;36mfetch_and_summarize_company_ai_usage\u001b[0;34m(company_name, country, Supersector, lang)\u001b[0m\n\u001b[1;32m     54\u001b[0m     \u001b[38;5;28;01mcontinue\u001b[39;00m  \u001b[38;5;66;03m# Skip PDF files  \u001b[39;00m\n\u001b[1;32m     56\u001b[0m \u001b[38;5;28;01mtry\u001b[39;00m:\n\u001b[1;32m     57\u001b[0m     \u001b[38;5;66;03m#print(\"Response call\")\u001b[39;00m\n\u001b[0;32m---> 59\u001b[0m     response \u001b[38;5;241m=\u001b[39m \u001b[43mrequests\u001b[49m\u001b[38;5;241;43m.\u001b[39;49m\u001b[43mget\u001b[49m\u001b[43m(\u001b[49m\u001b[43murl\u001b[49m\u001b[43m)\u001b[49m\n\u001b[1;32m     60\u001b[0m     response\u001b[38;5;241m.\u001b[39mraise_for_status()  \u001b[38;5;66;03m# This will directly raise an exception for HTTP errors\u001b[39;00m\n\u001b[1;32m     61\u001b[0m     page_source \u001b[38;5;241m=\u001b[39m response\u001b[38;5;241m.\u001b[39mtext\n",
      "File \u001b[0;32m~/anaconda3/envs/oxford_new/lib/python3.12/site-packages/requests/api.py:73\u001b[0m, in \u001b[0;36mget\u001b[0;34m(url, params, **kwargs)\u001b[0m\n\u001b[1;32m     62\u001b[0m \u001b[38;5;28;01mdef\u001b[39;00m \u001b[38;5;21mget\u001b[39m(url, params\u001b[38;5;241m=\u001b[39m\u001b[38;5;28;01mNone\u001b[39;00m, \u001b[38;5;241m*\u001b[39m\u001b[38;5;241m*\u001b[39mkwargs):\n\u001b[1;32m     63\u001b[0m \u001b[38;5;250m    \u001b[39m\u001b[38;5;124mr\u001b[39m\u001b[38;5;124;03m\"\"\"Sends a GET request.\u001b[39;00m\n\u001b[1;32m     64\u001b[0m \n\u001b[1;32m     65\u001b[0m \u001b[38;5;124;03m    :param url: URL for the new :class:`Request` object.\u001b[39;00m\n\u001b[0;32m   (...)\u001b[0m\n\u001b[1;32m     70\u001b[0m \u001b[38;5;124;03m    :rtype: requests.Response\u001b[39;00m\n\u001b[1;32m     71\u001b[0m \u001b[38;5;124;03m    \"\"\"\u001b[39;00m\n\u001b[0;32m---> 73\u001b[0m     \u001b[38;5;28;01mreturn\u001b[39;00m \u001b[43mrequest\u001b[49m\u001b[43m(\u001b[49m\u001b[38;5;124;43m\"\u001b[39;49m\u001b[38;5;124;43mget\u001b[39;49m\u001b[38;5;124;43m\"\u001b[39;49m\u001b[43m,\u001b[49m\u001b[43m \u001b[49m\u001b[43murl\u001b[49m\u001b[43m,\u001b[49m\u001b[43m \u001b[49m\u001b[43mparams\u001b[49m\u001b[38;5;241;43m=\u001b[39;49m\u001b[43mparams\u001b[49m\u001b[43m,\u001b[49m\u001b[43m \u001b[49m\u001b[38;5;241;43m*\u001b[39;49m\u001b[38;5;241;43m*\u001b[39;49m\u001b[43mkwargs\u001b[49m\u001b[43m)\u001b[49m\n",
      "File \u001b[0;32m~/anaconda3/envs/oxford_new/lib/python3.12/site-packages/requests/api.py:59\u001b[0m, in \u001b[0;36mrequest\u001b[0;34m(method, url, **kwargs)\u001b[0m\n\u001b[1;32m     55\u001b[0m \u001b[38;5;66;03m# By using the 'with' statement we are sure the session is closed, thus we\u001b[39;00m\n\u001b[1;32m     56\u001b[0m \u001b[38;5;66;03m# avoid leaving sockets open which can trigger a ResourceWarning in some\u001b[39;00m\n\u001b[1;32m     57\u001b[0m \u001b[38;5;66;03m# cases, and look like a memory leak in others.\u001b[39;00m\n\u001b[1;32m     58\u001b[0m \u001b[38;5;28;01mwith\u001b[39;00m sessions\u001b[38;5;241m.\u001b[39mSession() \u001b[38;5;28;01mas\u001b[39;00m session:\n\u001b[0;32m---> 59\u001b[0m     \u001b[38;5;28;01mreturn\u001b[39;00m \u001b[43msession\u001b[49m\u001b[38;5;241;43m.\u001b[39;49m\u001b[43mrequest\u001b[49m\u001b[43m(\u001b[49m\u001b[43mmethod\u001b[49m\u001b[38;5;241;43m=\u001b[39;49m\u001b[43mmethod\u001b[49m\u001b[43m,\u001b[49m\u001b[43m \u001b[49m\u001b[43murl\u001b[49m\u001b[38;5;241;43m=\u001b[39;49m\u001b[43murl\u001b[49m\u001b[43m,\u001b[49m\u001b[43m \u001b[49m\u001b[38;5;241;43m*\u001b[39;49m\u001b[38;5;241;43m*\u001b[39;49m\u001b[43mkwargs\u001b[49m\u001b[43m)\u001b[49m\n",
      "File \u001b[0;32m~/anaconda3/envs/oxford_new/lib/python3.12/site-packages/requests/sessions.py:589\u001b[0m, in \u001b[0;36mSession.request\u001b[0;34m(self, method, url, params, data, headers, cookies, files, auth, timeout, allow_redirects, proxies, hooks, stream, verify, cert, json)\u001b[0m\n\u001b[1;32m    584\u001b[0m send_kwargs \u001b[38;5;241m=\u001b[39m {\n\u001b[1;32m    585\u001b[0m     \u001b[38;5;124m\"\u001b[39m\u001b[38;5;124mtimeout\u001b[39m\u001b[38;5;124m\"\u001b[39m: timeout,\n\u001b[1;32m    586\u001b[0m     \u001b[38;5;124m\"\u001b[39m\u001b[38;5;124mallow_redirects\u001b[39m\u001b[38;5;124m\"\u001b[39m: allow_redirects,\n\u001b[1;32m    587\u001b[0m }\n\u001b[1;32m    588\u001b[0m send_kwargs\u001b[38;5;241m.\u001b[39mupdate(settings)\n\u001b[0;32m--> 589\u001b[0m resp \u001b[38;5;241m=\u001b[39m \u001b[38;5;28;43mself\u001b[39;49m\u001b[38;5;241;43m.\u001b[39;49m\u001b[43msend\u001b[49m\u001b[43m(\u001b[49m\u001b[43mprep\u001b[49m\u001b[43m,\u001b[49m\u001b[43m \u001b[49m\u001b[38;5;241;43m*\u001b[39;49m\u001b[38;5;241;43m*\u001b[39;49m\u001b[43msend_kwargs\u001b[49m\u001b[43m)\u001b[49m\n\u001b[1;32m    591\u001b[0m \u001b[38;5;28;01mreturn\u001b[39;00m resp\n",
      "File \u001b[0;32m~/anaconda3/envs/oxford_new/lib/python3.12/site-packages/requests/sessions.py:703\u001b[0m, in \u001b[0;36mSession.send\u001b[0;34m(self, request, **kwargs)\u001b[0m\n\u001b[1;32m    700\u001b[0m start \u001b[38;5;241m=\u001b[39m preferred_clock()\n\u001b[1;32m    702\u001b[0m \u001b[38;5;66;03m# Send the request\u001b[39;00m\n\u001b[0;32m--> 703\u001b[0m r \u001b[38;5;241m=\u001b[39m \u001b[43madapter\u001b[49m\u001b[38;5;241;43m.\u001b[39;49m\u001b[43msend\u001b[49m\u001b[43m(\u001b[49m\u001b[43mrequest\u001b[49m\u001b[43m,\u001b[49m\u001b[43m \u001b[49m\u001b[38;5;241;43m*\u001b[39;49m\u001b[38;5;241;43m*\u001b[39;49m\u001b[43mkwargs\u001b[49m\u001b[43m)\u001b[49m\n\u001b[1;32m    705\u001b[0m \u001b[38;5;66;03m# Total elapsed time of the request (approximately)\u001b[39;00m\n\u001b[1;32m    706\u001b[0m elapsed \u001b[38;5;241m=\u001b[39m preferred_clock() \u001b[38;5;241m-\u001b[39m start\n",
      "File \u001b[0;32m~/anaconda3/envs/oxford_new/lib/python3.12/site-packages/requests/adapters.py:486\u001b[0m, in \u001b[0;36mHTTPAdapter.send\u001b[0;34m(self, request, stream, timeout, verify, cert, proxies)\u001b[0m\n\u001b[1;32m    483\u001b[0m     timeout \u001b[38;5;241m=\u001b[39m TimeoutSauce(connect\u001b[38;5;241m=\u001b[39mtimeout, read\u001b[38;5;241m=\u001b[39mtimeout)\n\u001b[1;32m    485\u001b[0m \u001b[38;5;28;01mtry\u001b[39;00m:\n\u001b[0;32m--> 486\u001b[0m     resp \u001b[38;5;241m=\u001b[39m \u001b[43mconn\u001b[49m\u001b[38;5;241;43m.\u001b[39;49m\u001b[43murlopen\u001b[49m\u001b[43m(\u001b[49m\n\u001b[1;32m    487\u001b[0m \u001b[43m        \u001b[49m\u001b[43mmethod\u001b[49m\u001b[38;5;241;43m=\u001b[39;49m\u001b[43mrequest\u001b[49m\u001b[38;5;241;43m.\u001b[39;49m\u001b[43mmethod\u001b[49m\u001b[43m,\u001b[49m\n\u001b[1;32m    488\u001b[0m \u001b[43m        \u001b[49m\u001b[43murl\u001b[49m\u001b[38;5;241;43m=\u001b[39;49m\u001b[43murl\u001b[49m\u001b[43m,\u001b[49m\n\u001b[1;32m    489\u001b[0m \u001b[43m        \u001b[49m\u001b[43mbody\u001b[49m\u001b[38;5;241;43m=\u001b[39;49m\u001b[43mrequest\u001b[49m\u001b[38;5;241;43m.\u001b[39;49m\u001b[43mbody\u001b[49m\u001b[43m,\u001b[49m\n\u001b[1;32m    490\u001b[0m \u001b[43m        \u001b[49m\u001b[43mheaders\u001b[49m\u001b[38;5;241;43m=\u001b[39;49m\u001b[43mrequest\u001b[49m\u001b[38;5;241;43m.\u001b[39;49m\u001b[43mheaders\u001b[49m\u001b[43m,\u001b[49m\n\u001b[1;32m    491\u001b[0m \u001b[43m        \u001b[49m\u001b[43mredirect\u001b[49m\u001b[38;5;241;43m=\u001b[39;49m\u001b[38;5;28;43;01mFalse\u001b[39;49;00m\u001b[43m,\u001b[49m\n\u001b[1;32m    492\u001b[0m \u001b[43m        \u001b[49m\u001b[43massert_same_host\u001b[49m\u001b[38;5;241;43m=\u001b[39;49m\u001b[38;5;28;43;01mFalse\u001b[39;49;00m\u001b[43m,\u001b[49m\n\u001b[1;32m    493\u001b[0m \u001b[43m        \u001b[49m\u001b[43mpreload_content\u001b[49m\u001b[38;5;241;43m=\u001b[39;49m\u001b[38;5;28;43;01mFalse\u001b[39;49;00m\u001b[43m,\u001b[49m\n\u001b[1;32m    494\u001b[0m \u001b[43m        \u001b[49m\u001b[43mdecode_content\u001b[49m\u001b[38;5;241;43m=\u001b[39;49m\u001b[38;5;28;43;01mFalse\u001b[39;49;00m\u001b[43m,\u001b[49m\n\u001b[1;32m    495\u001b[0m \u001b[43m        \u001b[49m\u001b[43mretries\u001b[49m\u001b[38;5;241;43m=\u001b[39;49m\u001b[38;5;28;43mself\u001b[39;49m\u001b[38;5;241;43m.\u001b[39;49m\u001b[43mmax_retries\u001b[49m\u001b[43m,\u001b[49m\n\u001b[1;32m    496\u001b[0m \u001b[43m        \u001b[49m\u001b[43mtimeout\u001b[49m\u001b[38;5;241;43m=\u001b[39;49m\u001b[43mtimeout\u001b[49m\u001b[43m,\u001b[49m\n\u001b[1;32m    497\u001b[0m \u001b[43m        \u001b[49m\u001b[43mchunked\u001b[49m\u001b[38;5;241;43m=\u001b[39;49m\u001b[43mchunked\u001b[49m\u001b[43m,\u001b[49m\n\u001b[1;32m    498\u001b[0m \u001b[43m    \u001b[49m\u001b[43m)\u001b[49m\n\u001b[1;32m    500\u001b[0m \u001b[38;5;28;01mexcept\u001b[39;00m (ProtocolError, \u001b[38;5;167;01mOSError\u001b[39;00m) \u001b[38;5;28;01mas\u001b[39;00m err:\n\u001b[1;32m    501\u001b[0m     \u001b[38;5;28;01mraise\u001b[39;00m \u001b[38;5;167;01mConnectionError\u001b[39;00m(err, request\u001b[38;5;241m=\u001b[39mrequest)\n",
      "File \u001b[0;32m~/anaconda3/envs/oxford_new/lib/python3.12/site-packages/urllib3/connectionpool.py:793\u001b[0m, in \u001b[0;36mHTTPConnectionPool.urlopen\u001b[0;34m(self, method, url, body, headers, retries, redirect, assert_same_host, timeout, pool_timeout, release_conn, chunked, body_pos, preload_content, decode_content, **response_kw)\u001b[0m\n\u001b[1;32m    790\u001b[0m response_conn \u001b[38;5;241m=\u001b[39m conn \u001b[38;5;28;01mif\u001b[39;00m \u001b[38;5;129;01mnot\u001b[39;00m release_conn \u001b[38;5;28;01melse\u001b[39;00m \u001b[38;5;28;01mNone\u001b[39;00m\n\u001b[1;32m    792\u001b[0m \u001b[38;5;66;03m# Make the request on the HTTPConnection object\u001b[39;00m\n\u001b[0;32m--> 793\u001b[0m response \u001b[38;5;241m=\u001b[39m \u001b[38;5;28;43mself\u001b[39;49m\u001b[38;5;241;43m.\u001b[39;49m\u001b[43m_make_request\u001b[49m\u001b[43m(\u001b[49m\n\u001b[1;32m    794\u001b[0m \u001b[43m    \u001b[49m\u001b[43mconn\u001b[49m\u001b[43m,\u001b[49m\n\u001b[1;32m    795\u001b[0m \u001b[43m    \u001b[49m\u001b[43mmethod\u001b[49m\u001b[43m,\u001b[49m\n\u001b[1;32m    796\u001b[0m \u001b[43m    \u001b[49m\u001b[43murl\u001b[49m\u001b[43m,\u001b[49m\n\u001b[1;32m    797\u001b[0m \u001b[43m    \u001b[49m\u001b[43mtimeout\u001b[49m\u001b[38;5;241;43m=\u001b[39;49m\u001b[43mtimeout_obj\u001b[49m\u001b[43m,\u001b[49m\n\u001b[1;32m    798\u001b[0m \u001b[43m    \u001b[49m\u001b[43mbody\u001b[49m\u001b[38;5;241;43m=\u001b[39;49m\u001b[43mbody\u001b[49m\u001b[43m,\u001b[49m\n\u001b[1;32m    799\u001b[0m \u001b[43m    \u001b[49m\u001b[43mheaders\u001b[49m\u001b[38;5;241;43m=\u001b[39;49m\u001b[43mheaders\u001b[49m\u001b[43m,\u001b[49m\n\u001b[1;32m    800\u001b[0m \u001b[43m    \u001b[49m\u001b[43mchunked\u001b[49m\u001b[38;5;241;43m=\u001b[39;49m\u001b[43mchunked\u001b[49m\u001b[43m,\u001b[49m\n\u001b[1;32m    801\u001b[0m \u001b[43m    \u001b[49m\u001b[43mretries\u001b[49m\u001b[38;5;241;43m=\u001b[39;49m\u001b[43mretries\u001b[49m\u001b[43m,\u001b[49m\n\u001b[1;32m    802\u001b[0m \u001b[43m    \u001b[49m\u001b[43mresponse_conn\u001b[49m\u001b[38;5;241;43m=\u001b[39;49m\u001b[43mresponse_conn\u001b[49m\u001b[43m,\u001b[49m\n\u001b[1;32m    803\u001b[0m \u001b[43m    \u001b[49m\u001b[43mpreload_content\u001b[49m\u001b[38;5;241;43m=\u001b[39;49m\u001b[43mpreload_content\u001b[49m\u001b[43m,\u001b[49m\n\u001b[1;32m    804\u001b[0m \u001b[43m    \u001b[49m\u001b[43mdecode_content\u001b[49m\u001b[38;5;241;43m=\u001b[39;49m\u001b[43mdecode_content\u001b[49m\u001b[43m,\u001b[49m\n\u001b[1;32m    805\u001b[0m \u001b[43m    \u001b[49m\u001b[38;5;241;43m*\u001b[39;49m\u001b[38;5;241;43m*\u001b[39;49m\u001b[43mresponse_kw\u001b[49m\u001b[43m,\u001b[49m\n\u001b[1;32m    806\u001b[0m \u001b[43m\u001b[49m\u001b[43m)\u001b[49m\n\u001b[1;32m    808\u001b[0m \u001b[38;5;66;03m# Everything went great!\u001b[39;00m\n\u001b[1;32m    809\u001b[0m clean_exit \u001b[38;5;241m=\u001b[39m \u001b[38;5;28;01mTrue\u001b[39;00m\n",
      "File \u001b[0;32m~/anaconda3/envs/oxford_new/lib/python3.12/site-packages/urllib3/connectionpool.py:537\u001b[0m, in \u001b[0;36mHTTPConnectionPool._make_request\u001b[0;34m(self, conn, method, url, body, headers, retries, timeout, chunked, response_conn, preload_content, decode_content, enforce_content_length)\u001b[0m\n\u001b[1;32m    535\u001b[0m \u001b[38;5;66;03m# Receive the response from the server\u001b[39;00m\n\u001b[1;32m    536\u001b[0m \u001b[38;5;28;01mtry\u001b[39;00m:\n\u001b[0;32m--> 537\u001b[0m     response \u001b[38;5;241m=\u001b[39m \u001b[43mconn\u001b[49m\u001b[38;5;241;43m.\u001b[39;49m\u001b[43mgetresponse\u001b[49m\u001b[43m(\u001b[49m\u001b[43m)\u001b[49m\n\u001b[1;32m    538\u001b[0m \u001b[38;5;28;01mexcept\u001b[39;00m (BaseSSLError, \u001b[38;5;167;01mOSError\u001b[39;00m) \u001b[38;5;28;01mas\u001b[39;00m e:\n\u001b[1;32m    539\u001b[0m     \u001b[38;5;28mself\u001b[39m\u001b[38;5;241m.\u001b[39m_raise_timeout(err\u001b[38;5;241m=\u001b[39me, url\u001b[38;5;241m=\u001b[39murl, timeout_value\u001b[38;5;241m=\u001b[39mread_timeout)\n",
      "File \u001b[0;32m~/anaconda3/envs/oxford_new/lib/python3.12/site-packages/urllib3/connection.py:466\u001b[0m, in \u001b[0;36mHTTPConnection.getresponse\u001b[0;34m(self)\u001b[0m\n\u001b[1;32m    463\u001b[0m \u001b[38;5;28;01mfrom\u001b[39;00m \u001b[38;5;21;01m.\u001b[39;00m\u001b[38;5;21;01mresponse\u001b[39;00m \u001b[38;5;28;01mimport\u001b[39;00m HTTPResponse\n\u001b[1;32m    465\u001b[0m \u001b[38;5;66;03m# Get the response from http.client.HTTPConnection\u001b[39;00m\n\u001b[0;32m--> 466\u001b[0m httplib_response \u001b[38;5;241m=\u001b[39m \u001b[38;5;28;43msuper\u001b[39;49m\u001b[43m(\u001b[49m\u001b[43m)\u001b[49m\u001b[38;5;241;43m.\u001b[39;49m\u001b[43mgetresponse\u001b[49m\u001b[43m(\u001b[49m\u001b[43m)\u001b[49m\n\u001b[1;32m    468\u001b[0m \u001b[38;5;28;01mtry\u001b[39;00m:\n\u001b[1;32m    469\u001b[0m     assert_header_parsing(httplib_response\u001b[38;5;241m.\u001b[39mmsg)\n",
      "File \u001b[0;32m~/anaconda3/envs/oxford_new/lib/python3.12/http/client.py:1419\u001b[0m, in \u001b[0;36mHTTPConnection.getresponse\u001b[0;34m(self)\u001b[0m\n\u001b[1;32m   1417\u001b[0m \u001b[38;5;28;01mtry\u001b[39;00m:\n\u001b[1;32m   1418\u001b[0m     \u001b[38;5;28;01mtry\u001b[39;00m:\n\u001b[0;32m-> 1419\u001b[0m         \u001b[43mresponse\u001b[49m\u001b[38;5;241;43m.\u001b[39;49m\u001b[43mbegin\u001b[49m\u001b[43m(\u001b[49m\u001b[43m)\u001b[49m\n\u001b[1;32m   1420\u001b[0m     \u001b[38;5;28;01mexcept\u001b[39;00m \u001b[38;5;167;01mConnectionError\u001b[39;00m:\n\u001b[1;32m   1421\u001b[0m         \u001b[38;5;28mself\u001b[39m\u001b[38;5;241m.\u001b[39mclose()\n",
      "File \u001b[0;32m~/anaconda3/envs/oxford_new/lib/python3.12/http/client.py:331\u001b[0m, in \u001b[0;36mHTTPResponse.begin\u001b[0;34m(self)\u001b[0m\n\u001b[1;32m    329\u001b[0m \u001b[38;5;66;03m# read until we get a non-100 response\u001b[39;00m\n\u001b[1;32m    330\u001b[0m \u001b[38;5;28;01mwhile\u001b[39;00m \u001b[38;5;28;01mTrue\u001b[39;00m:\n\u001b[0;32m--> 331\u001b[0m     version, status, reason \u001b[38;5;241m=\u001b[39m \u001b[38;5;28;43mself\u001b[39;49m\u001b[38;5;241;43m.\u001b[39;49m\u001b[43m_read_status\u001b[49m\u001b[43m(\u001b[49m\u001b[43m)\u001b[49m\n\u001b[1;32m    332\u001b[0m     \u001b[38;5;28;01mif\u001b[39;00m status \u001b[38;5;241m!=\u001b[39m CONTINUE:\n\u001b[1;32m    333\u001b[0m         \u001b[38;5;28;01mbreak\u001b[39;00m\n",
      "File \u001b[0;32m~/anaconda3/envs/oxford_new/lib/python3.12/http/client.py:292\u001b[0m, in \u001b[0;36mHTTPResponse._read_status\u001b[0;34m(self)\u001b[0m\n\u001b[1;32m    291\u001b[0m \u001b[38;5;28;01mdef\u001b[39;00m \u001b[38;5;21m_read_status\u001b[39m(\u001b[38;5;28mself\u001b[39m):\n\u001b[0;32m--> 292\u001b[0m     line \u001b[38;5;241m=\u001b[39m \u001b[38;5;28mstr\u001b[39m(\u001b[38;5;28;43mself\u001b[39;49m\u001b[38;5;241;43m.\u001b[39;49m\u001b[43mfp\u001b[49m\u001b[38;5;241;43m.\u001b[39;49m\u001b[43mreadline\u001b[49m\u001b[43m(\u001b[49m\u001b[43m_MAXLINE\u001b[49m\u001b[43m \u001b[49m\u001b[38;5;241;43m+\u001b[39;49m\u001b[43m \u001b[49m\u001b[38;5;241;43m1\u001b[39;49m\u001b[43m)\u001b[49m, \u001b[38;5;124m\"\u001b[39m\u001b[38;5;124miso-8859-1\u001b[39m\u001b[38;5;124m\"\u001b[39m)\n\u001b[1;32m    293\u001b[0m     \u001b[38;5;28;01mif\u001b[39;00m \u001b[38;5;28mlen\u001b[39m(line) \u001b[38;5;241m>\u001b[39m _MAXLINE:\n\u001b[1;32m    294\u001b[0m         \u001b[38;5;28;01mraise\u001b[39;00m LineTooLong(\u001b[38;5;124m\"\u001b[39m\u001b[38;5;124mstatus line\u001b[39m\u001b[38;5;124m\"\u001b[39m)\n",
      "File \u001b[0;32m~/anaconda3/envs/oxford_new/lib/python3.12/socket.py:707\u001b[0m, in \u001b[0;36mSocketIO.readinto\u001b[0;34m(self, b)\u001b[0m\n\u001b[1;32m    705\u001b[0m \u001b[38;5;28;01mwhile\u001b[39;00m \u001b[38;5;28;01mTrue\u001b[39;00m:\n\u001b[1;32m    706\u001b[0m     \u001b[38;5;28;01mtry\u001b[39;00m:\n\u001b[0;32m--> 707\u001b[0m         \u001b[38;5;28;01mreturn\u001b[39;00m \u001b[38;5;28;43mself\u001b[39;49m\u001b[38;5;241;43m.\u001b[39;49m\u001b[43m_sock\u001b[49m\u001b[38;5;241;43m.\u001b[39;49m\u001b[43mrecv_into\u001b[49m\u001b[43m(\u001b[49m\u001b[43mb\u001b[49m\u001b[43m)\u001b[49m\n\u001b[1;32m    708\u001b[0m     \u001b[38;5;28;01mexcept\u001b[39;00m timeout:\n\u001b[1;32m    709\u001b[0m         \u001b[38;5;28mself\u001b[39m\u001b[38;5;241m.\u001b[39m_timeout_occurred \u001b[38;5;241m=\u001b[39m \u001b[38;5;28;01mTrue\u001b[39;00m\n",
      "File \u001b[0;32m~/anaconda3/envs/oxford_new/lib/python3.12/ssl.py:1253\u001b[0m, in \u001b[0;36mSSLSocket.recv_into\u001b[0;34m(self, buffer, nbytes, flags)\u001b[0m\n\u001b[1;32m   1249\u001b[0m     \u001b[38;5;28;01mif\u001b[39;00m flags \u001b[38;5;241m!=\u001b[39m \u001b[38;5;241m0\u001b[39m:\n\u001b[1;32m   1250\u001b[0m         \u001b[38;5;28;01mraise\u001b[39;00m \u001b[38;5;167;01mValueError\u001b[39;00m(\n\u001b[1;32m   1251\u001b[0m           \u001b[38;5;124m\"\u001b[39m\u001b[38;5;124mnon-zero flags not allowed in calls to recv_into() on \u001b[39m\u001b[38;5;132;01m%s\u001b[39;00m\u001b[38;5;124m\"\u001b[39m \u001b[38;5;241m%\u001b[39m\n\u001b[1;32m   1252\u001b[0m           \u001b[38;5;28mself\u001b[39m\u001b[38;5;241m.\u001b[39m\u001b[38;5;18m__class__\u001b[39m)\n\u001b[0;32m-> 1253\u001b[0m     \u001b[38;5;28;01mreturn\u001b[39;00m \u001b[38;5;28;43mself\u001b[39;49m\u001b[38;5;241;43m.\u001b[39;49m\u001b[43mread\u001b[49m\u001b[43m(\u001b[49m\u001b[43mnbytes\u001b[49m\u001b[43m,\u001b[49m\u001b[43m \u001b[49m\u001b[43mbuffer\u001b[49m\u001b[43m)\u001b[49m\n\u001b[1;32m   1254\u001b[0m \u001b[38;5;28;01melse\u001b[39;00m:\n\u001b[1;32m   1255\u001b[0m     \u001b[38;5;28;01mreturn\u001b[39;00m \u001b[38;5;28msuper\u001b[39m()\u001b[38;5;241m.\u001b[39mrecv_into(buffer, nbytes, flags)\n",
      "File \u001b[0;32m~/anaconda3/envs/oxford_new/lib/python3.12/ssl.py:1105\u001b[0m, in \u001b[0;36mSSLSocket.read\u001b[0;34m(self, len, buffer)\u001b[0m\n\u001b[1;32m   1103\u001b[0m \u001b[38;5;28;01mtry\u001b[39;00m:\n\u001b[1;32m   1104\u001b[0m     \u001b[38;5;28;01mif\u001b[39;00m buffer \u001b[38;5;129;01mis\u001b[39;00m \u001b[38;5;129;01mnot\u001b[39;00m \u001b[38;5;28;01mNone\u001b[39;00m:\n\u001b[0;32m-> 1105\u001b[0m         \u001b[38;5;28;01mreturn\u001b[39;00m \u001b[38;5;28;43mself\u001b[39;49m\u001b[38;5;241;43m.\u001b[39;49m\u001b[43m_sslobj\u001b[49m\u001b[38;5;241;43m.\u001b[39;49m\u001b[43mread\u001b[49m\u001b[43m(\u001b[49m\u001b[38;5;28;43mlen\u001b[39;49m\u001b[43m,\u001b[49m\u001b[43m \u001b[49m\u001b[43mbuffer\u001b[49m\u001b[43m)\u001b[49m\n\u001b[1;32m   1106\u001b[0m     \u001b[38;5;28;01melse\u001b[39;00m:\n\u001b[1;32m   1107\u001b[0m         \u001b[38;5;28;01mreturn\u001b[39;00m \u001b[38;5;28mself\u001b[39m\u001b[38;5;241m.\u001b[39m_sslobj\u001b[38;5;241m.\u001b[39mread(\u001b[38;5;28mlen\u001b[39m)\n",
      "\u001b[0;31mKeyboardInterrupt\u001b[0m: "
     ]
    }
   ],
   "source": [
    "company_result = fetch_and_summarize_company_ai_usage(row['Name'], row['Country'], row['SuperSector'], row['Language Code'])"
   ]
  },
  {
   "cell_type": "code",
   "execution_count": 92,
   "id": "9c0fa9e6-4c54-43bf-907a-2db9986a5ea3",
   "metadata": {},
   "outputs": [],
   "source": [
    "company_name = \"Amazon.com Inc.(AMZN)\""
   ]
  },
  {
   "cell_type": "code",
   "execution_count": 93,
   "id": "3eacb0d6-30e1-4404-86e6-3625dafddb06",
   "metadata": {},
   "outputs": [],
   "source": [
    "search_query = f'\"{company_name}\" usage of generative AI'"
   ]
  },
  {
   "cell_type": "code",
   "execution_count": 96,
   "id": "d6cb30e4-5fa4-4826-96ef-1e02816000ab",
   "metadata": {},
   "outputs": [
    {
     "data": {
      "text/plain": [
       "'Mozilla/5.0 (Windows NT 6.1; Win64; x64; rv:2.2a1pre) Gecko/20110323 Firefox/4.2a1pre'"
      ]
     },
     "execution_count": 96,
     "metadata": {},
     "output_type": "execute_result"
    }
   ],
   "source": [
    "#Initalize the search client\n",
    "client = yagooglesearch.SearchClient(\n",
    "search_query,\n",
    "max_search_result_urls_to_return = 5,\n",
    "http_429_cool_off_time_in_minutes=45,\n",
    "http_429_cool_off_factor=1.5,\n",
    "verbosity=1,\n",
    "verbose_output=False,  # False (only URLs) or True (rank, title, description, and URL)\n",
    ")\n",
    "client.assign_random_user_agent()"
   ]
  },
  {
   "cell_type": "code",
   "execution_count": 97,
   "id": "425521b2-b8b2-4b8b-9cc2-94101da9bb58",
   "metadata": {},
   "outputs": [],
   "source": [
    "urls = client.search()"
   ]
  },
  {
   "cell_type": "code",
   "execution_count": 98,
   "id": "a5d17e58-6696-4e60-93a6-2c5e90f02584",
   "metadata": {},
   "outputs": [
    {
     "data": {
      "text/plain": [
       "['https://finance.yahoo.com/news/amazons-amzn-generative-ai-efforts-155700037.html',\n",
       " 'https://risnews.com/how-amazon-leverages-generative-ai-boost-customer-engagement-and-store-experience',\n",
       " 'https://technologymagazine.com/articles/how-amazon-uses-ai-to-help-customers-shop-with-confidence',\n",
       " 'https://www.zdnet.com/article/alexa-just-got-three-new-generative-ai-skills-heres-how-to-try-them/',\n",
       " 'https://aws.amazon.com/lex/']"
      ]
     },
     "execution_count": 98,
     "metadata": {},
     "output_type": "execute_result"
    }
   ],
   "source": [
    "urls"
   ]
  },
  {
   "cell_type": "code",
   "execution_count": 21,
   "id": "d6a63020-6aa8-49c8-9cbd-142ada1e1247",
   "metadata": {},
   "outputs": [
    {
     "ename": "IndentationError",
     "evalue": "expected an indented block after function definition on line 16 (1990074514.py, line 17)",
     "output_type": "error",
     "traceback": [
      "\u001b[0;36m  Cell \u001b[0;32mIn[21], line 17\u001b[0;36m\u001b[0m\n\u001b[0;31m    with ThreadPoolExecutor(max_workers=1) as executor:\u001b[0m\n\u001b[0m    ^\u001b[0m\n\u001b[0;31mIndentationError\u001b[0m\u001b[0;31m:\u001b[0m expected an indented block after function definition on line 16\n"
     ]
    }
   ],
   "source": [
    "#Function to take a funciton and summarize the AI usage \n",
    "def Foundation_model_partners(company_name, products):\n",
    "    \"\"\"\n",
    "    Fetch web pages related to the company's AI usage and print a summary of the content.\n",
    "    \n",
    "    :param company_name: The name of the company to search for.\n",
    "    \"\"\"\n",
    "    results = []  # List to store result dictionaries\n",
    "\n",
    "    #Generate a random proxy \n",
    "    proxy = get_random_proxy()\n",
    "    \n",
    "    search_query = f\"Users or companies or partners or collaborators of {company_name} {products} list\"\n",
    "\n",
    "    #Search with timeout\n",
    "    def search_with_timeout(search_query, num_results, proxy, timeout, sleep_interval):\n",
    "    with ThreadPoolExecutor(max_workers=1) as executor:\n",
    "        future = executor.submit(search, search_query, num_results=num_results, proxy=proxy, timeout=timeout, sleep_interval=sleep_interval)\n",
    "        try:\n",
    "            return future.result(timeout=40)  \n",
    "        except TimeoutError:\n",
    "            print(\"Search function timed out\")\n",
    "            return None\n",
    "    \n",
    "    #Calling search function\n",
    "    search_results = search_with_timeout(search_query, num_results=4, proxy=proxy, timeout=10, sleep_interval=20)\n",
    "    \n",
    "    \n",
    "    for url in search_results:\n",
    "        try:\n",
    "            response = requests.get(url)\n",
    "            response.raise_for_status()  # This will directly raise an exception for HTTP errors\n",
    "            page_source = response.text\n",
    "\n",
    "            #print(url)\n",
    "\n",
    "        #Raising the selinium exception logic\n",
    "        except requests.exceptions.RequestException:\n",
    "            print(f\"Failed to retrieve {url}: Status code {response.status_code}\")\n",
    "            \n",
    "            #Here I call the selium function to run it \n",
    "            driver.get(url)\n",
    "            page_source = driver.page_source\n",
    "            page_source = response.text\n",
    "\n",
    "            #print(url)\n",
    "            \n",
    "        #Regular runtime with the requests logic libary \n",
    "        page_source = response.text\n",
    "        soup = BeautifulSoup(page_source, 'html.parser')\n",
    "\n",
    "        #Inital cleaning\n",
    "        for a_tag in soup.find_all('a'):\n",
    "            a_tag.decompose()  # This removes the tag and its content\n",
    "            \n",
    "        # Extract text from the modified BeautifulSoup object\n",
    "        text = soup.get_text(strip=True)\n",
    "\n",
    "        #Calling the summarization function\n",
    "        summarized_text = summarize_and_extract(text, target_phrases, summarizer, max_length=50, min_length=5, do_sample=False)\n",
    "        \n",
    "        # Append result to the list\n",
    "        results.append({'URL': url, 'Summary': summarized_text, 'Company': company_name})\n",
    "    \n",
    "        results_df = pd.DataFrame(results)\n",
    "    \n",
    "    return results_df    "
   ]
  },
  {
   "cell_type": "code",
   "execution_count": 22,
   "id": "0ff885c1-fc9f-47f0-87ca-5c44356579dd",
   "metadata": {},
   "outputs": [],
   "source": [
    "company_name = \"Stability AI\"\n",
    "products = \"Stable Diffusion 2\""
   ]
  },
  {
   "cell_type": "code",
   "execution_count": 23,
   "id": "0b267f68-7a68-4c30-9251-3daf4b2a2c4e",
   "metadata": {
    "scrolled": true
   },
   "outputs": [
    {
     "name": "stderr",
     "output_type": "stream",
     "text": [
      "Token indices sequence length is longer than the specified maximum sequence length for this model (643 > 512). Running this sequence through the model will result in indexing errors\n"
     ]
    },
    {
     "name": "stdout",
     "output_type": "stream",
     "text": [
      "https://stability.ai/news/stable-diffusion-v2-release\n",
      "https://github.com/Stability-AI/stablediffusion\n",
      "https://www.forbes.com/sites/kenrickcai/2023/06/04/stable-diffusion-emad-mostaque-stability-ai-exaggeration/\n",
      "https://www.assemblyai.com/blog/stable-diffusion-1-vs-2-what-you-need-to-know/\n",
      "Failed to retrieve https://www.cbinsights.com/investor/stability-ai: Status code 403\n"
     ]
    },
    {
     "name": "stderr",
     "output_type": "stream",
     "text": [
      "Your max_length is set to 50, but your input_length is only 3. Since this is a summarization task, where outputs shorter than the input are typically wanted, you might consider decreasing max_length manually, e.g. summarizer('...', max_length=1)\n"
     ]
    },
    {
     "name": "stdout",
     "output_type": "stream",
     "text": [
      "https://www.cbinsights.com/investor/stability-ai\n",
      "https://techcrunch.com/2023/07/26/stability-ai-releases-its-latest-image-generating-model-stable-diffusion-xl-1-0/\n"
     ]
    },
    {
     "name": "stderr",
     "output_type": "stream",
     "text": [
      "Your max_length is set to 50, but your input_length is only 3. Since this is a summarization task, where outputs shorter than the input are typically wanted, you might consider decreasing max_length manually, e.g. summarizer('...', max_length=1)\n"
     ]
    },
    {
     "name": "stdout",
     "output_type": "stream",
     "text": [
      "https://stability.ai/partners\n"
     ]
    }
   ],
   "source": [
    "results_df = Foundation_model_partners(company_name, products)"
   ]
  },
  {
   "cell_type": "code",
   "execution_count": null,
   "id": "5d840ff1-2d01-4c60-bad7-1447f11f181c",
   "metadata": {},
   "outputs": [],
   "source": [
    "#Company Site searching method\n",
    "\n",
    "#Get a list of all company emails \n",
    "\n",
    "#Extract all text and move it through as a dictionary \n",
    "\n",
    "#Extract all the links and move it as a dictionary \n",
    "\n",
    "\n",
    "\n",
    "\n"
   ]
  },
  {
   "cell_type": "code",
   "execution_count": 89,
   "id": "82bead21-987c-4868-8ca1-1af1e8459426",
   "metadata": {},
   "outputs": [
    {
     "data": {
      "text/plain": [
       "'Stable Diffusion 2.0 Release24 NovWritten ByWe are pleased to announce the open-source release of.The originalled bychanged the nature of open source AI models and spawned hundreds of other models and innovations worldwide'"
      ]
     },
     "execution_count": 89,
     "metadata": {},
     "output_type": "execute_result"
    }
   ],
   "source": [
    "results_df['Summary'][0]"
   ]
  },
  {
   "cell_type": "code",
   "execution_count": 90,
   "id": "abd28e29-ca7f-4fd5-88b8-26557b0b45f0",
   "metadata": {},
   "outputs": [
    {
     "data": {
      "text/plain": [
       "'https://stability.ai/news/stable-diffusion-v2-release'"
      ]
     },
     "execution_count": 90,
     "metadata": {},
     "output_type": "execute_result"
    }
   ],
   "source": [
    "results_df['URL'][0]"
   ]
  },
  {
   "cell_type": "code",
   "execution_count": 91,
   "id": "4e201e83-79aa-4bf0-89d1-225a6ef38bb6",
   "metadata": {},
   "outputs": [],
   "source": [
    "#final_df = pd.DataFrame()"
   ]
  },
  {
   "cell_type": "code",
   "execution_count": 92,
   "id": "b7920d37-3e2e-4f42-bb0a-d48628be65e4",
   "metadata": {},
   "outputs": [],
   "source": [
    "#Concating to the final output \n",
    "final_df = pd.concat([results_df, final_df], axis = 0)\n",
    "final_df.reset_index(inplace =True, drop = True)"
   ]
  },
  {
   "cell_type": "code",
   "execution_count": 93,
   "id": "e23be270-d50b-4be2-a15a-212055aece3e",
   "metadata": {},
   "outputs": [],
   "source": [
    "#Writing the final data out\n",
    "final_df.to_csv('output_final_new_2.csv', index=False)"
   ]
  }
 ],
 "metadata": {
  "kernelspec": {
   "display_name": "Python 3 (ipykernel)",
   "language": "python",
   "name": "python3"
  },
  "language_info": {
   "codemirror_mode": {
    "name": "ipython",
    "version": 3
   },
   "file_extension": ".py",
   "mimetype": "text/x-python",
   "name": "python",
   "nbconvert_exporter": "python",
   "pygments_lexer": "ipython3",
   "version": "3.12.1"
  }
 },
 "nbformat": 4,
 "nbformat_minor": 5
}
