{
 "cells": [
  {
   "cell_type": "code",
   "execution_count": 1,
   "id": "cdebbb2d-017f-4771-a3ab-13f3bbc84de3",
   "metadata": {
    "scrolled": true
   },
   "outputs": [],
   "source": [
    "#driver.close()"
   ]
  },
  {
   "cell_type": "code",
   "execution_count": 2,
   "id": "779f78cf-bc86-4646-9992-26fe1e12e8ff",
   "metadata": {},
   "outputs": [],
   "source": [
    "from selenium import webdriver\n",
    "from selenium.webdriver.firefox.service import Service\n",
    "from webdriver_manager.firefox import GeckoDriverManager\n",
    "from selenium.webdriver.firefox.options import Options as FirefoxOptions\n",
    "from requests.exceptions import Timeout, HTTPError\n",
    "\n",
    "\n",
    "# Initialize Firefox Options\n",
    "firefox_options = FirefoxOptions()\n",
    "\n",
    "# Create a new Firefox Profile for your extensions\n",
    "firefox_profile = webdriver.FirefoxProfile()\n",
    "\n",
    "# Convert the profile to a base64 string and add it to the options\n",
    "firefox_options.profile = firefox_profile"
   ]
  },
  {
   "cell_type": "code",
   "execution_count": 3,
   "id": "2c43447b-a3a5-49c8-a222-623cdfc1c1e7",
   "metadata": {},
   "outputs": [
    {
     "name": "stderr",
     "output_type": "stream",
     "text": [
      "[nltk_data] Downloading package punkt to\n",
      "[nltk_data]     /Users/allensunny/nltk_data...\n",
      "[nltk_data]   Package punkt is already up-to-date!\n"
     ]
    },
    {
     "data": {
      "text/plain": [
       "True"
      ]
     },
     "execution_count": 3,
     "metadata": {},
     "output_type": "execute_result"
    }
   ],
   "source": [
    "import nltk\n",
    "from nltk.tokenize import sent_tokenize\n",
    "nltk.download('punkt')"
   ]
  },
  {
   "cell_type": "code",
   "execution_count": 4,
   "id": "cdbdd281-6755-4302-9dda-2d2a14e12155",
   "metadata": {},
   "outputs": [],
   "source": [
    "import sys\n",
    "import yagooglesearch"
   ]
  },
  {
   "cell_type": "code",
   "execution_count": 5,
   "id": "6af5afcb-209d-47ab-a0ab-38547f80584a",
   "metadata": {},
   "outputs": [],
   "source": [
    "from concurrent.futures import ThreadPoolExecutor, TimeoutError"
   ]
  },
  {
   "cell_type": "code",
   "execution_count": 6,
   "id": "9a93393e-4cdc-461b-82b6-9d9bbdb6cedc",
   "metadata": {},
   "outputs": [
    {
     "data": {
      "text/plain": [
       "'magnolia@12.34'"
      ]
     },
     "execution_count": 6,
     "metadata": {},
     "output_type": "execute_result"
    }
   ],
   "source": [
    "# Set up the service with GeckoDriverManager\n",
    "service = Service(GeckoDriverManager().install())\n",
    "driver = webdriver.Firefox(service=service, options=firefox_options)\n",
    "\n",
    "driver.install_addon('/Users/allensunny/Downloads/Mozilla Scraper Tools/uBlock0_1.55.0.firefox.signed.xpi',  temporary=True)\n",
    "driver.install_addon('/Users/allensunny/Downloads/Mozilla Scraper Tools/bypass_paywalls_clean-3.5.5.0.xpi', temporary=True)"
   ]
  },
  {
   "cell_type": "code",
   "execution_count": 7,
   "id": "13498a62-0540-4724-a181-9cecac7cd4c1",
   "metadata": {},
   "outputs": [],
   "source": [
    "#Webscrpaing and request parsing \n",
    "import requests\n",
    "from bs4 import BeautifulSoup, Comment\n",
    "import time\n",
    "\n",
    "from lxml import etree\n",
    "from lxml.html import fromstring"
   ]
  },
  {
   "cell_type": "code",
   "execution_count": 8,
   "id": "6943639d-5433-4f47-839c-22574ab1eb7b",
   "metadata": {},
   "outputs": [
    {
     "name": "stderr",
     "output_type": "stream",
     "text": [
      "/Users/allensunny/anaconda3/envs/oxford_new/lib/python3.12/site-packages/tqdm/auto.py:21: TqdmWarning: IProgress not found. Please update jupyter and ipywidgets. See https://ipywidgets.readthedocs.io/en/stable/user_install.html\n",
      "  from .autonotebook import tqdm as notebook_tqdm\n"
     ]
    }
   ],
   "source": [
    "#Text summarizer intialization \n",
    "from transformers import pipeline\n",
    "summarizer = pipeline(\"summarization\", model=\"Falconsai/text_summarization\")"
   ]
  },
  {
   "cell_type": "code",
   "execution_count": 9,
   "id": "f4a64a11-85d8-40f9-a242-67502c6af8b3",
   "metadata": {},
   "outputs": [],
   "source": [
    "#Setting the toeknizer parallizsm explicityl \n",
    "import os\n",
    "# Enable parallelism in tokenizers for improved performance\n",
    "os.environ[\"TOKENIZERS_PARALLELISM\"] = \"true\""
   ]
  },
  {
   "cell_type": "code",
   "execution_count": 10,
   "id": "46aea03d-cccb-4979-9308-bcaaddd7b57d",
   "metadata": {},
   "outputs": [],
   "source": [
    "import time\n",
    "import re\n",
    "import random"
   ]
  },
  {
   "cell_type": "code",
   "execution_count": 11,
   "id": "0a71bb6a-3515-4607-8da3-bed4d836b1ba",
   "metadata": {},
   "outputs": [],
   "source": [
    "#Druid database dump\n",
    "import pydruid"
   ]
  },
  {
   "cell_type": "code",
   "execution_count": 12,
   "id": "c32ed46f-614f-4b65-943a-0868a75155f4",
   "metadata": {},
   "outputs": [
    {
     "name": "stderr",
     "output_type": "stream",
     "text": [
      "/var/folders/jq/vkbby4bd33xbf6kks2_zrswh0000gn/T/ipykernel_77001/3073400958.py:2: DeprecationWarning: \n",
      "Pyarrow will become a required dependency of pandas in the next major release of pandas (pandas 3.0),\n",
      "(to allow more performant data types, such as the Arrow string type, and better interoperability with other libraries)\n",
      "but was not found to be installed on your system.\n",
      "If this would cause problems for you,\n",
      "please provide us feedback at https://github.com/pandas-dev/pandas/issues/54466\n",
      "        \n",
      "  import pandas as pd\n"
     ]
    }
   ],
   "source": [
    "#Basic packages installation\n",
    "import pandas as pd\n",
    "import numpy as np"
   ]
  },
  {
   "cell_type": "code",
   "execution_count": 13,
   "id": "fd6d303e-1d35-4955-8b32-e2c4f45ffc2f",
   "metadata": {},
   "outputs": [],
   "source": [
    "import random\n",
    "import os"
   ]
  },
  {
   "cell_type": "code",
   "execution_count": 14,
   "id": "63bc50b1-8efa-45d6-bc6c-7a977c94207f",
   "metadata": {},
   "outputs": [],
   "source": [
    "#Proxy Function extraction \n",
    "def get_random_proxy():\n",
    "    return random.choice(proxies)"
   ]
  },
  {
   "cell_type": "code",
   "execution_count": 15,
   "id": "c5fde006-80aa-4573-8d5f-6f637f46c3a7",
   "metadata": {},
   "outputs": [],
   "source": [
    "#Consutructing the proxy farm \n",
    "with open('/Users/allensunny/Downloads/http.txt', 'r') as file:\n",
    "    content = file.read()\n",
    "\n",
    "#Converting to a list of proxies to fetch data\n",
    "proxies = content.strip().split('\\n')"
   ]
  },
  {
   "cell_type": "code",
   "execution_count": 16,
   "id": "47f8bcf9-3d66-4302-8ad7-2cfda3a92a3f",
   "metadata": {},
   "outputs": [],
   "source": [
    "#Reading the language file \n",
    "lang_df = pd.read_csv(\"Lang_lookup.csv\")"
   ]
  },
  {
   "cell_type": "code",
   "execution_count": 17,
   "id": "b7df7515-bdd5-4099-8740-a0c0d03caf7e",
   "metadata": {},
   "outputs": [],
   "source": [
    "def search_with_timeout(search_query, num_results, proxy, timeout, sleep_interval):\n",
    "    with ThreadPoolExecutor(max_workers=1) as executor:\n",
    "        future = executor.submit(search, search_query, num_results=num_results, proxy=proxy, timeout=timeout, sleep_interval=sleep_interval)\n",
    "        try:\n",
    "            return future.result(timeout=10)  \n",
    "        except TimeoutError:\n",
    "            print(\"Search function timed out\")\n",
    "            return None"
   ]
  },
  {
   "cell_type": "code",
   "execution_count": 18,
   "id": "569181d0-fae8-4796-81ce-291031c240e8",
   "metadata": {},
   "outputs": [],
   "source": [
    "#Companies list \n",
    "Companies_list = pd.read_csv('Fortune 500 2017 - Fortune 500 v2.csv')"
   ]
  },
  {
   "cell_type": "code",
   "execution_count": 19,
   "id": "dbe7c3f8-f2a4-4877-9068-e4e2e43f3b1f",
   "metadata": {},
   "outputs": [],
   "source": [
    "target_phrases = [\"OpenAI\", \"Chatbot\", \"Generative AI\", \"LLM\", \"ChatGPT\", \"Llama-2\", \"BLOOMZ\", \"GPT-4\", \"GPT4\", \"Stable Diffusion 2\", \"PaLM 2\", \"Claude 2\", \"Jurrasic-2\", \"Inflection-1\", \"Titan Text\"]"
   ]
  },
  {
   "cell_type": "code",
   "execution_count": 20,
   "id": "5b23a6bb-f175-4bfb-abd0-5e986613a7f7",
   "metadata": {},
   "outputs": [],
   "source": [
    "#Function to take a funciton and summarize the AI usage \n",
    "def fetch_and_summarize_company_ai_usage(company_name, country, Supersector, lang):\n",
    "    \"\"\"\n",
    "    Fetch web pages related to the company's AI usage and print a summary of the content.\n",
    "\n",
    "    :param company_name: The name of the company to search for.\n",
    "    \"\"\"\n",
    "    results = []  # List to store result dictionaries\n",
    "    #Generate a random proxy \n",
    "    proxy = get_random_proxy()\n",
    "    \n",
    "    search_query =  f'Does \"{company_name}\" use chatGPT or GPT'\n",
    "    #print(company_name)\n",
    "\n",
    "    #Initalize the search client\n",
    "    client = yagooglesearch.SearchClient(\n",
    "    search_query,\n",
    "    max_search_result_urls_to_return = 8,\n",
    "    http_429_cool_off_time_in_minutes=45,\n",
    "    http_429_cool_off_factor=1.5,\n",
    "    verbosity=0,\n",
    "    verbose_output=False,\n",
    "    lang_result=lang\n",
    "    # False (only URLs) or True (rank, title, description, and URL)\n",
    "    )\n",
    "    client.assign_random_user_agent()\n",
    "\n",
    "    try:\n",
    "        print(\"Calling the search\")\n",
    "        #Calling search function\n",
    "        #search_results = search_with_timeout(search_query, num_results=4, proxy=proxy, timeout=10, sleep_interval=20)\n",
    "        urls = client.search()\n",
    "        #print(\"Search complete\")\n",
    "    \n",
    "    except Exception as e:\n",
    "        #print(f\"Search failed for {company_name} with error: {e}\")\n",
    "        return pd.DataFrame([{\n",
    "            'URL': None,\n",
    "            'Company': company_name,\n",
    "            'Summary': 'Search failed or timed out',\n",
    "            'Keywords': [],\n",
    "            'Country': country,\n",
    "            'SuperSector': Supersector,\n",
    "            'Search Keywords': target_phrases\n",
    "        }])\n",
    "\n",
    "    #Creating a random delay\n",
    "    for url in urls:\n",
    "        \n",
    "        time.sleep(10)\n",
    "        if url.endswith('.pdf'):\n",
    "            continue  # Skip PDF files  \n",
    "        \n",
    "        try:\n",
    "            #print(\"Response call\")\n",
    "\n",
    "            response = requests.get(url, timeout=10)\n",
    "            response.raise_for_status()  # This will directly raise an exception for HTTP errors\n",
    "            page_source = response.text\n",
    "            print(url)\n",
    "\n",
    "        except requests.exceptions.Timeout:\n",
    "            print(f\"Request timed out for {url}. Attempting with Selenium.\")\n",
    "            \n",
    "            # Initialize the driver and use Selenium as a fallback\n",
    "            driver.get(url)\n",
    "            page_source = driver.page_source\n",
    "            time.sleep(10)\n",
    "\n",
    "        #Raising the selinium exception logic \n",
    "        except requests.exceptions.RequestException:\n",
    "            print(f\"Failed to retrieve {url}: Status code {response.status_code}\")\n",
    "            \n",
    "            #Here I call the selium function to run it \n",
    "            driver.get(url)\n",
    "            page_source = driver.page_source\n",
    "            time.sleep(10)\n",
    "\n",
    "            #print(url)\n",
    "            \n",
    "        #Regular runtime with the requests logic libary \n",
    "        soup = BeautifulSoup(page_source, 'html.parser')\n",
    "\n",
    "        #Inital cleaning\n",
    "        for a_tag in soup.find_all('a'):\n",
    "            a_tag.decompose()  # This removes the tag and its content\n",
    "            \n",
    "        # Extract text from the modifiedBeautifulSoup object\n",
    "        text = soup.get_text(strip=True)\n",
    "\n",
    "        #Calling the summarization function\n",
    "        summarized_text, extracted_keywords = summarize_and_extract(text, target_phrases, summarizer, max_length=50, min_length=5, do_sample=False)\n",
    "        #print('Summarization over')\n",
    "        \n",
    "        # Append result to the list\n",
    "        results.append({\n",
    "            'URL': url,\n",
    "            'Company': company_name,\n",
    "            'Summary': summarized_text,\n",
    "            'Keywords': extracted_keywords,\n",
    "            'Country': country,\n",
    "            'SuperSector': Supersector,\n",
    "            'Search Keywords': target_phrases\n",
    "        })\n",
    "\n",
    "        \n",
    "        results_df = pd.DataFrame(results)\n",
    "        #print('Results over')\n",
    "    \n",
    "    return results_df        "
   ]
  },
  {
   "cell_type": "code",
   "execution_count": 21,
   "id": "862e4644-584f-4a93-bc19-9dc0574be3c4",
   "metadata": {},
   "outputs": [],
   "source": [
    "#Text keyword summarizer\n",
    "def summarize_and_extract(text, target_phrases, summarizer, max_length=100, min_length=5, do_sample=True):\n",
    "    \"\"\"\n",
    "    Summarize the given text and then extract sentences containing any of the target phrases.\n",
    "    \n",
    "    :param text: The text to summarize and extract sentences from.\n",
    "    :param target_phrases: A list of phrases to look for in the summarized text.\n",
    "    :param summarizer: The summarization function to use.\n",
    "    :param max_length: The maximum length of the summary.\n",
    "    :param min_length: The minimum length of the summary.\n",
    "    :param do_sample: Whether or not to sample in the summarization process.\n",
    "    :return: A string containing the extracted sentences from the summarized text.\n",
    "    \"\"\"\n",
    "    #Perform the text preprocessing \n",
    "    find_text = find_sentences_with_keywords(text, target_phrases)\n",
    "\n",
    "    # Extract only the sentences from the first tuple\n",
    "    extracted_sentences, keywords = find_text    \n",
    "    \n",
    "    # Join extracted sentences into a cohesive summary\n",
    "    extracted_summary = \" \".join(extracted_sentences)\n",
    "\n",
    "    # Perform summarization\n",
    "    summarized = summarizer(extracted_summary, max_length=max_length, min_length=min_length, do_sample=do_sample, early_stopping=True)\n",
    "    summarized_text = summarized[0]['summary_text']  # Assuming the summarizer returns a list of dictionariess\n",
    "    #print('extraction over')\n",
    "\n",
    "    return summarized_text, keywords"
   ]
  },
  {
   "cell_type": "code",
   "execution_count": 22,
   "id": "fce72e6c-c514-450f-bef8-ed33dd4fe67b",
   "metadata": {},
   "outputs": [],
   "source": [
    "#I like how this system takes the sentences, but Iwould like to improve the process by hitting the previous and next sentences to give the system more\n",
    "#Context \n",
    "\n",
    "#Key word extraction function \n",
    "def find_sentences_with_keywords(sentence_text, keywords):\n",
    "    \n",
    "    # Tokenize the text into sentences\n",
    "    sentences = sent_tokenize(sentence_text)\n",
    "    \n",
    "    sentence_list = []\n",
    "    keywords_set = set()  # Use a set to avoid duplicates\n",
    "    \n",
    "    # Loop through sentences\n",
    "    for sentence in sentences:\n",
    "        \n",
    "        # Find all keywords present as whole words in the sentence\n",
    "        found_keywords = [keyword for keyword in keywords if re.search(r'\\b' + re.escape(keyword) + r'\\b', sentence, re.IGNORECASE)]\n",
    "        \n",
    "        if found_keywords:\n",
    "            # Append the sentence to the sentence list\n",
    "            sentence_list.append(sentence)\n",
    "            # Add the found keywords to the set\n",
    "            keywords_set.update(found_keywords)\n",
    "    \n",
    "    # Convert the set to a tuple to remove duplicates\n",
    "    keywords_tuple = tuple(keywords_set)\n",
    "    print('sent extraction over')\n",
    "\n",
    "    return tuple(sentence_list), keywords_tuple"
   ]
  },
  {
   "cell_type": "code",
   "execution_count": 23,
   "id": "f755863f-09a9-4f2b-a926-bdc3a99e6016",
   "metadata": {},
   "outputs": [],
   "source": [
    "Companies_list['Country'] = \"United States\"\n",
    "Companies_list['Language Code'] = \"lang_en\""
   ]
  },
  {
   "cell_type": "code",
   "execution_count": 24,
   "id": "d8d730ab-8071-44ad-928a-bef8832a1ccc",
   "metadata": {
    "scrolled": true
   },
   "outputs": [
    {
     "name": "stdout",
     "output_type": "stream",
     "text": [
      "S&P Global\n",
      "Calling the search\n",
      "Search complete\n",
      "Response call\n",
      "Failed to retrieve https://www.spglobal.com/en/research-insights/featured/artificial-intelligence-insights: Status code 403\n"
     ]
    },
    {
     "name": "stderr",
     "output_type": "stream",
     "text": [
      "Token indices sequence length is longer than the specified maximum sequence length for this model (782 > 512). Running this sequence through the model will result in indexing errors\n"
     ]
    },
    {
     "name": "stdout",
     "output_type": "stream",
     "text": [
      "sent extraction over\n",
      "Response call\n",
      "Failed to retrieve https://www.spglobal.com/marketintelligence/en/events/webinars/the-natural-language-processing-nlp-revolution-and-chatgpt-an-introduction-to-the-field-our-latest-research-and-how-kensho-is-em: Status code 403\n",
      "sent extraction over\n",
      "Response call\n",
      "Failed to retrieve https://www.spglobal.com/en/research-insights/articles/making-sense-of-artificial-intelligence: Status code 403\n",
      "sent extraction over\n",
      "Response call\n",
      "https://www.linkedin.com/posts/spglobal_artificial-intelligence-and-alternative-data-activity-7118279233616891905-Ks7v\n",
      "sent extraction over\n",
      "Response call\n"
     ]
    },
    {
     "name": "stderr",
     "output_type": "stream",
     "text": [
      "Your max_length is set to 50, but your input_length is only 3. Since this is a summarization task, where outputs shorter than the input are typically wanted, you might consider decreasing max_length manually, e.g. summarizer('...', max_length=1)\n"
     ]
    },
    {
     "name": "stdout",
     "output_type": "stream",
     "text": [
      "https://www.warc.com/content/feed/how-sp-global-is-using-ai-for-personalisation-in-b2b/9248\n",
      "sent extraction over\n",
      "Response call\n",
      "Failed to retrieve https://www.spglobal.com/marketintelligence/en/media-center/press-release/generative-ai-software-market-forecast-to-expand-near-10-times-by-2028-to-36-billion-sp-global-market-intelligence-says: Status code 403\n",
      "sent extraction over\n",
      "Response call\n",
      "Failed to retrieve https://blog.kensho.com/introducing-s-p-global-marketplace-generative-ai-search-ebf3ce69d2fb: Status code 403\n",
      "sent extraction over\n",
      "Response call\n",
      "Failed to retrieve https://www.spglobal.com/en/research-insights/featured/special-editorial/language-modeling-the-fundamentals: Status code 403\n",
      "sent extraction over\n",
      "Done\n",
      "Markel\n",
      "Calling the search\n",
      "Search complete\n",
      "Response call\n",
      "https://www.theretirementgroup.com/featured-article/5448097/markel-employees-can-chatgpt-help-with-your-budget\n",
      "sent extraction over\n",
      "Response call\n",
      "https://www.kern.ai/resources/case-studies/markel\n",
      "sent extraction over\n",
      "Response call\n",
      "https://www.linkedin.com/posts/markeluk_article-how-will-ai-affect-the-job-market-activity-7109800792974348288-HYf1\n",
      "sent extraction over\n",
      "Response call\n",
      "Request timed out for https://www.nasdaq.com/articles/heres-why-hold-strategy-is-apt-for-markel-group-mkl-now. Attempting with Selenium.\n",
      "sent extraction over\n",
      "Response call\n",
      "https://www.linkedin.com/posts/markeluk_how-smes-are-learning-to-leverage-ai-opportunities-activity-7114874222639755265--lUE\n",
      "sent extraction over\n",
      "Response call\n",
      "https://www.enterprisesoftware.blog/esd-episodes/ep-9-evolving-impacts-of-ai-on-security-with-markel-ciso-and-chief-privacy-officer-patti-titus\n",
      "sent extraction over\n",
      "Done\n",
      "Wyndham Worldwide\n",
      "Calling the search\n",
      "Search complete\n",
      "Response call\n",
      "Failed to retrieve https://www.securityweek.com/wyndham-settles-ftc-charges-without-paying-fine/: Status code 403\n",
      "sent extraction over\n",
      "Response call\n",
      "Failed to retrieve https://www.armstrongteasdale.com/thought-leadership/wyndham-ruling-questions-ftcs-past-approach-to-data-security-regulation/: Status code 403\n"
     ]
    },
    {
     "name": "stderr",
     "output_type": "stream",
     "text": [
      "Your max_length is set to 50, but your input_length is only 3. Since this is a summarization task, where outputs shorter than the input are typically wanted, you might consider decreasing max_length manually, e.g. summarizer('...', max_length=1)\n"
     ]
    },
    {
     "name": "stdout",
     "output_type": "stream",
     "text": [
      "sent extraction over\n",
      "Response call\n",
      "Failed to retrieve https://www.hotel-online.com/press_releases/release/from-bad-to-worse-for-wyndham/: Status code 403\n"
     ]
    },
    {
     "name": "stderr",
     "output_type": "stream",
     "text": [
      "Your max_length is set to 50, but your input_length is only 3. Since this is a summarization task, where outputs shorter than the input are typically wanted, you might consider decreasing max_length manually, e.g. summarizer('...', max_length=1)\n"
     ]
    },
    {
     "name": "stdout",
     "output_type": "stream",
     "text": [
      "sent extraction over\n",
      "Response call\n"
     ]
    },
    {
     "name": "stderr",
     "output_type": "stream",
     "text": [
      "Your max_length is set to 50, but your input_length is only 3. Since this is a summarization task, where outputs shorter than the input are typically wanted, you might consider decreasing max_length manually, e.g. summarizer('...', max_length=1)\n"
     ]
    },
    {
     "name": "stdout",
     "output_type": "stream",
     "text": [
      "https://www.hospitalitynet.org/news/4059021.html\n",
      "sent extraction over\n",
      "Response call\n"
     ]
    },
    {
     "name": "stderr",
     "output_type": "stream",
     "text": [
      "Your max_length is set to 50, but your input_length is only 3. Since this is a summarization task, where outputs shorter than the input are typically wanted, you might consider decreasing max_length manually, e.g. summarizer('...', max_length=1)\n"
     ]
    },
    {
     "name": "stdout",
     "output_type": "stream",
     "text": [
      "https://www.coursehero.com/file/23341991/Wyndham-Case-analysis/\n",
      "sent extraction over\n",
      "Response call\n"
     ]
    },
    {
     "name": "stderr",
     "output_type": "stream",
     "text": [
      "Your max_length is set to 50, but your input_length is only 3. Since this is a summarization task, where outputs shorter than the input are typically wanted, you might consider decreasing max_length manually, e.g. summarizer('...', max_length=1)\n"
     ]
    },
    {
     "name": "stdout",
     "output_type": "stream",
     "text": [
      "https://www.chiefmarketer.com/wyndham-hotel-group-elevates-marketing-departments/\n",
      "sent extraction over\n",
      "Response call\n"
     ]
    },
    {
     "name": "stderr",
     "output_type": "stream",
     "text": [
      "Your max_length is set to 50, but your input_length is only 3. Since this is a summarization task, where outputs shorter than the input are typically wanted, you might consider decreasing max_length manually, e.g. summarizer('...', max_length=1)\n"
     ]
    },
    {
     "name": "stdout",
     "output_type": "stream",
     "text": [
      "https://techcrunch.com/2017/07/31/wyndham-hotel-group-buys-love-home-swap-for-53m/\n",
      "sent extraction over\n",
      "Response call\n"
     ]
    },
    {
     "name": "stderr",
     "output_type": "stream",
     "text": [
      "Your max_length is set to 50, but your input_length is only 3. Since this is a summarization task, where outputs shorter than the input are typically wanted, you might consider decreasing max_length manually, e.g. summarizer('...', max_length=1)\n"
     ]
    },
    {
     "name": "stdout",
     "output_type": "stream",
     "text": [
      "https://www.pymnts.com/news/2015/court-upholds-ftc-power-over-lax-cybersecurity/\n",
      "sent extraction over\n",
      "Done\n",
      "Arthur J. Gallagher\n",
      "Calling the search\n",
      "Search complete\n",
      "Response call\n",
      "https://www.ajg.com/us/news-and-insights/2023/apr/explore-chatgpt-for-recruiting-but-proceed-with-caution/\n",
      "sent extraction over\n",
      "Response call\n",
      "https://www.ajg.com/uk/news-and-insights/2023/april/chatgpt-a-useful-new-tool-for-cyber-attackers/\n",
      "sent extraction over\n",
      "Response call\n",
      "https://corpgov.com/replay-ai-security-risk-management-join-virtual-panel/\n",
      "sent extraction over\n",
      "Response call\n",
      "https://www.linkedin.com/posts/brian-tolbert-70a568a_chatgpteverything-you-need-to-know-bernieportal-activity-7041365893032894465-k6-g\n",
      "sent extraction over\n",
      "Response call\n",
      "Request timed out for https://www.nasdaq.com/articles/arthur-j.-gallagher-ajg-reports-next-week:-wall-street-expects-earnings-growth-4. Attempting with Selenium.\n",
      "sent extraction over\n",
      "Response call\n",
      "https://ipo-edge.com/replay-ai-security-risk-management-join-virtual-panel-may-10-at-1-pm-est/\n",
      "sent extraction over\n",
      "Response call\n"
     ]
    },
    {
     "name": "stderr",
     "output_type": "stream",
     "text": [
      "Your max_length is set to 50, but your input_length is only 3. Since this is a summarization task, where outputs shorter than the input are typically wanted, you might consider decreasing max_length manually, e.g. summarizer('...', max_length=1)\n"
     ]
    },
    {
     "name": "stdout",
     "output_type": "stream",
     "text": [
      "https://altindex.com/ticker/ajg/ai-stock-analysis\n",
      "sent extraction over\n",
      "Response call\n",
      "Request timed out for https://www.nasdaq.com/articles/arthur-j.-gallaghers-ajg-acquisitions-to-boost-core-business. Attempting with Selenium.\n",
      "sent extraction over\n",
      "Done\n",
      "Burlington Stores\n",
      "Calling the search\n",
      "Search complete\n",
      "Response call\n",
      "https://www.theretirementgroup.com/featured-article/5448097/burlington-stores-employees-can-chatgpt-help-with-your-budget\n",
      "sent extraction over\n",
      "Response call\n",
      "Request timed out for https://www.nasdaq.com/articles/burlington-stores-burl-gains-70-in-6-months:-heres-why. Attempting with Selenium.\n",
      "sent extraction over\n",
      "Response call\n",
      "https://www.linkedin.com/posts/piersfawkes_burlington-stores-inc-analysis-on-the-psfk-activity-7134696155799543808-9Dha?trk=public_profile_share_view\n",
      "sent extraction over\n",
      "Response call\n",
      "Request timed out for https://www.nasdaq.com/articles/burlington-stores-burl-2.0-store-growth-efforts-look-good. Attempting with Selenium.\n",
      "sent extraction over\n",
      "Response call\n"
     ]
    },
    {
     "name": "stderr",
     "output_type": "stream",
     "text": [
      "Your max_length is set to 50, but your input_length is only 3. Since this is a summarization task, where outputs shorter than the input are typically wanted, you might consider decreasing max_length manually, e.g. summarizer('...', max_length=1)\n"
     ]
    },
    {
     "name": "stdout",
     "output_type": "stream",
     "text": [
      "https://www.marketbeat.com/instant-alerts/nyse-burl-earnings-guidance-2024-03-07/\n",
      "sent extraction over\n",
      "Response call\n"
     ]
    },
    {
     "name": "stderr",
     "output_type": "stream",
     "text": [
      "Your max_length is set to 50, but your input_length is only 3. Since this is a summarization task, where outputs shorter than the input are typically wanted, you might consider decreasing max_length manually, e.g. summarizer('...', max_length=1)\n"
     ]
    },
    {
     "name": "stdout",
     "output_type": "stream",
     "text": [
      "https://news.bloomberglaw.com/litigation/burlington-workers-get-collective-status-after-failed-wage-deal\n",
      "sent extraction over\n",
      "Response call\n"
     ]
    },
    {
     "name": "stderr",
     "output_type": "stream",
     "text": [
      "Your max_length is set to 50, but your input_length is only 3. Since this is a summarization task, where outputs shorter than the input are typically wanted, you might consider decreasing max_length manually, e.g. summarizer('...', max_length=1)\n"
     ]
    },
    {
     "name": "stdout",
     "output_type": "stream",
     "text": [
      "https://www.linkedin.com/posts/cnbc_these-retailers-will-take-over-bed-bath-activity-7080209818350706688-6_Oh\n",
      "sent extraction over\n",
      "Response call\n",
      "Failed to retrieve https://llsusa.medium.com/burlington-launches-point-of-sale-campaign-to-benefit-lls-september-december-3202e919f0: Status code 403\n"
     ]
    },
    {
     "name": "stderr",
     "output_type": "stream",
     "text": [
      "Your max_length is set to 50, but your input_length is only 3. Since this is a summarization task, where outputs shorter than the input are typically wanted, you might consider decreasing max_length manually, e.g. summarizer('...', max_length=1)\n"
     ]
    },
    {
     "name": "stdout",
     "output_type": "stream",
     "text": [
      "sent extraction over\n",
      "Done\n",
      "First American Financial\n",
      "Calling the search\n",
      "Search complete\n",
      "Response call\n",
      "https://www.cybersecuritydive.com/news/first-american-financial-encrypted-data/703411/\n",
      "sent extraction over\n",
      "Response call\n",
      "https://www.cybersecuritydive.com/news/first-american-financial-offline-cyber-incident/703262/\n",
      "sent extraction over\n",
      "Response call\n",
      "Failed to retrieve https://www.securityweek.com/cyberattack-disrupts-operations-of-first-american-subsidiaries/: Status code 403\n",
      "sent extraction over\n",
      "Response call\n"
     ]
    },
    {
     "name": "stderr",
     "output_type": "stream",
     "text": [
      "Your max_length is set to 50, but your input_length is only 3. Since this is a summarization task, where outputs shorter than the input are typically wanted, you might consider decreasing max_length manually, e.g. summarizer('...', max_length=1)\n"
     ]
    },
    {
     "name": "stdout",
     "output_type": "stream",
     "text": [
      "https://www.linkedin.com/posts/nelsonjason1_first-american-financial-corp-leaked-hundreds-activity-7136003555856969729-qahx?trk=public_profile_like_view\n",
      "sent extraction over\n",
      "Response call\n"
     ]
    },
    {
     "name": "stderr",
     "output_type": "stream",
     "text": [
      "Your max_length is set to 50, but your input_length is only 3. Since this is a summarization task, where outputs shorter than the input are typically wanted, you might consider decreasing max_length manually, e.g. summarizer('...', max_length=1)\n"
     ]
    },
    {
     "name": "stdout",
     "output_type": "stream",
     "text": [
      "https://gbhackers.com/first-american-leaked-885-million-most-sensitive-financial-data-online/\n",
      "sent extraction over\n",
      "Response call\n"
     ]
    },
    {
     "name": "stderr",
     "output_type": "stream",
     "text": [
      "Your max_length is set to 50, but your input_length is only 3. Since this is a summarization task, where outputs shorter than the input are typically wanted, you might consider decreasing max_length manually, e.g. summarizer('...', max_length=1)\n"
     ]
    },
    {
     "name": "stdout",
     "output_type": "stream",
     "text": [
      "https://www.techradar.com/news/first-american-financial-aftershock-and-the-need-for-cyber-resilience\n",
      "sent extraction over\n",
      "Response call\n",
      "Request timed out for https://www.nasdaq.com/articles/reasons-why-first-american-faf-stock-is-an-attractive-pick. Attempting with Selenium.\n",
      "sent extraction over\n",
      "Done\n",
      "Symantec\n",
      "Calling the search\n",
      "Search complete\n",
      "Response call\n",
      "https://techdocs.broadcom.com/us/en/symantec-security-software/information-security/symantec-cloudsoc/cloud/gateway-home/full-gatelet/chatgpt.html\n",
      "sent extraction over\n",
      "Response call\n",
      "https://symantec-enterprise-blogs.security.com/blogs/feature-stories/secure-adoption-generative-ai-apps\n",
      "sent extraction over\n",
      "Response call\n",
      "https://symantec-enterprise-blogs.security.com/blogs/feature-stories-broadcom-software/generative-ai-and-transformation-everything\n",
      "sent extraction over\n",
      "Response call\n",
      "https://www.linkedin.com/pulse/chatgpt-down-our-confidential-data-up-discussion-chen-yang\n",
      "sent extraction over\n",
      "Response call\n"
     ]
    },
    {
     "name": "stderr",
     "output_type": "stream",
     "text": [
      "Your max_length is set to 50, but your input_length is only 11. Since this is a summarization task, where outputs shorter than the input are typically wanted, you might consider decreasing max_length manually, e.g. summarizer('...', max_length=5)\n"
     ]
    },
    {
     "name": "stdout",
     "output_type": "stream",
     "text": [
      "https://www.broadcom.com/support/security-center/protection-bulletin/chatgpt-themed-android-malware\n",
      "sent extraction over\n",
      "Response call\n"
     ]
    },
    {
     "name": "stderr",
     "output_type": "stream",
     "text": [
      "Your max_length is set to 50, but your input_length is only 20. Since this is a summarization task, where outputs shorter than the input are typically wanted, you might consider decreasing max_length manually, e.g. summarizer('...', max_length=10)\n"
     ]
    },
    {
     "name": "stdout",
     "output_type": "stream",
     "text": [
      "https://www.youtube.com/watch?v=3ibL46lfQOE\n",
      "sent extraction over\n",
      "Response call\n"
     ]
    },
    {
     "name": "stderr",
     "output_type": "stream",
     "text": [
      "Your max_length is set to 50, but your input_length is only 3. Since this is a summarization task, where outputs shorter than the input are typically wanted, you might consider decreasing max_length manually, e.g. summarizer('...', max_length=1)\n"
     ]
    },
    {
     "name": "stdout",
     "output_type": "stream",
     "text": [
      "https://www.linkedin.com/posts/symantec_how-to-delete-your-data-from-chatgpt-activity-7065340466933731328-q2lD\n",
      "sent extraction over\n",
      "Response call\n",
      "https://www.tenable.com/blog/openai-chatgpt-and-gpt-4-used-as-lure-in-phishing-scams-to-promote-fake-token-airdrop\n",
      "sent extraction over\n",
      "Done\n",
      "Patterson\n",
      "Calling the search\n",
      "Search complete\n",
      "Response call\n",
      "https://arielesieling.com/blog/2023/lets-talk-about-chatgpt-and-other-text-generative-ai\n",
      "sent extraction over\n",
      "Response call\n",
      "https://www.theretirementgroup.com/featured-article/5448097/patterson-employees-can-chatgpt-help-with-your-budget\n",
      "sent extraction over\n",
      "Response call\n",
      "https://vocal.media/futurism/chat-gpt-to-help-with-your-novel\n",
      "sent extraction over\n",
      "Response call\n",
      "https://www.linkedin.com/posts/jo-patterson-2a6a5516_chatgpt-wont-take-your-job-but-gpt-4-might-activity-7041800177719857152-qBRf\n",
      "sent extraction over\n",
      "Response call\n",
      "Failed to retrieve https://mornepatterson.medium.com/morne-patterson-chat-gpt-your-very-own-budget-friendly-personal-assistant-2e6044b86b91?source=rss-------1: Status code 403\n"
     ]
    },
    {
     "name": "stderr",
     "output_type": "stream",
     "text": [
      "Your max_length is set to 50, but your input_length is only 3. Since this is a summarization task, where outputs shorter than the input are typically wanted, you might consider decreasing max_length manually, e.g. summarizer('...', max_length=1)\n"
     ]
    },
    {
     "name": "stdout",
     "output_type": "stream",
     "text": [
      "sent extraction over\n",
      "Response call\n",
      "https://www.usatoday.com/story/entertainment/books/2023/10/22/james-patterson-coauthor-process-mike-lupica-bill-clinton-dolly-parton/71247415007/\n",
      "sent extraction over\n",
      "Response call\n",
      "https://www.bostonmagazine.com/arts-entertainment/2023/03/28/chatgpt-human-writing-better/\n",
      "sent extraction over\n",
      "Response call\n",
      "https://killzoneblog.com/2023/05/lets-chat-about-chatgpt.html\n",
      "sent extraction over\n",
      "Done\n",
      "Olin\n",
      "Calling the search\n",
      "Search complete\n",
      "Response call\n",
      "https://www.linkedin.com/posts/josholin_generativeai-ai-chatgpt-activity-7108467444544901121-ds0g\n",
      "sent extraction over\n",
      "Response call\n"
     ]
    },
    {
     "name": "stderr",
     "output_type": "stream",
     "text": [
      "Your max_length is set to 50, but your input_length is only 27. Since this is a summarization task, where outputs shorter than the input are typically wanted, you might consider decreasing max_length manually, e.g. summarizer('...', max_length=13)\n"
     ]
    },
    {
     "name": "stdout",
     "output_type": "stream",
     "text": [
      "https://lighthouseguild.org/what-is-chat-gpt/\n",
      "sent extraction over\n",
      "Response call\n",
      "https://www.techtarget.com/whatis/definition/ChatGPT\n",
      "sent extraction over\n",
      "Response call\n",
      "Failed to retrieve https://medium.com/@JD_2020/how-to-use-a-i-to-automate-almost-any-task-introducing-webgpt-4d118fc83b59: Status code 403\n",
      "sent extraction over\n",
      "Response call\n",
      "Failed to retrieve https://twitter.com/JD_2020/status/1668038987758333958: Status code 400\n"
     ]
    },
    {
     "name": "stderr",
     "output_type": "stream",
     "text": [
      "Your max_length is set to 50, but your input_length is only 3. Since this is a summarization task, where outputs shorter than the input are typically wanted, you might consider decreasing max_length manually, e.g. summarizer('...', max_length=1)\n"
     ]
    },
    {
     "name": "stdout",
     "output_type": "stream",
     "text": [
      "sent extraction over\n",
      "Response call\n",
      "https://www.linkedin.com/posts/josholin_generativeai-generativeai-activity-7141563985467719681-LIpo\n",
      "sent extraction over\n",
      "Response call\n",
      "https://www.bostonglobe.com/2023/06/10/business/how-couple-olin-college-students-helped-spark-ai-chatbot-revolution/\n",
      "sent extraction over\n",
      "Done\n",
      "NetApp\n",
      "Calling the search\n",
      "Search complete\n",
      "Response call\n",
      "https://docs.netapp.com/us-en/netapp-solutions/ai/wp-genai.html\n",
      "sent extraction over\n",
      "Response call\n",
      "https://docs.netapp.com/us-en/netapp-solutions/ai/wp-genai.html#executive-summary\n",
      "sent extraction over\n",
      "Response call\n",
      "https://docs.netapp.com/us-en/netapp-solutions/ai/wp-genai.html#what-is-generative-ai\n",
      "sent extraction over\n",
      "Response call\n",
      "https://docs.netapp.com/us-en/netapp-solutions/ai/wp-genai.html#customer-scenario-and-netapp\n",
      "sent extraction over\n",
      "Response call\n",
      "https://docs.netapp.com/us-en/contribute/ai-policy.html\n",
      "sent extraction over\n",
      "Response call\n",
      "https://community.netapp.com/t5/Tech-ONTAP-Blogs/Secure-Generative-AI-RAG-with-Private-Business-Data/ba-p/451433\n",
      "sent extraction over\n",
      "Response call\n",
      "https://www.theretirementgroup.com/featured-article/5448097/netapp-employees-can-chatgpt-help-with-your-budget\n",
      "sent extraction over\n",
      "Response call\n",
      "https://www.linkedin.com/posts/wattsmatt_ai-chatgpt-netapp-activity-7089597582556946433-Rmz6\n",
      "sent extraction over\n",
      "Done\n",
      "Raymond James Financial\n",
      "Calling the search\n",
      "Search complete\n",
      "Response call\n",
      "https://www.raymondjames.com/neworleans-branch/commentary-and-insights/2023/10/18/the-record-breaking-rise-of-chatgpt\n",
      "sent extraction over\n",
      "Response call\n",
      "https://www.raymondjames.com/accompanywealth/resources/2023/10/18/the-record-breaking-rise-of-chatgpt\n",
      "sent extraction over\n",
      "Response call\n",
      "https://www.raymondjames.com/irwin/resources/2023/10/18/the-record-breaking-rise-of-chatgpt\n",
      "sent extraction over\n",
      "Response call\n",
      "https://www.linkedin.com/posts/raymond-james-investment-services_the-record-breaking-rise-of-chatgpt-raymond-activity-7141038464426307586-CA6Q\n",
      "sent extraction over\n",
      "Response call\n",
      "https://www.raymondjames.com/cedarrapids/resources/2023/10/18/the-record-breaking-rise-of-chatgpt\n",
      "sent extraction over\n",
      "Response call\n",
      "https://www.raymondjames.com/easterlingpwp/resources/2023/04/20/will-chatgpt-and-the-ai-behind-it-revolutionize-our-lives\n",
      "sent extraction over\n",
      "Response call\n",
      "https://www.raymondjames.com/thesilvermangroup/client-center/2023/10/18/the-record-breaking-rise-of-chatgpt\n",
      "sent extraction over\n",
      "Response call\n",
      "https://www.raymondjames.com/sovereignwsg/resources/2023/10/18/the-record-breaking-rise-of-chatgpt\n",
      "sent extraction over\n",
      "Done\n",
      "TravelCenters of America\n",
      "Calling the search\n",
      "Search complete\n",
      "Response call\n",
      "https://www.theretirementgroup.com/featured-article/5448097/travelcenters-of-america-employees-can-chatgpt-help-with-your-budget\n",
      "sent extraction over\n",
      "Response call\n"
     ]
    },
    {
     "name": "stderr",
     "output_type": "stream",
     "text": [
      "Your max_length is set to 50, but your input_length is only 3. Since this is a summarization task, where outputs shorter than the input are typically wanted, you might consider decreasing max_length manually, e.g. summarizer('...', max_length=1)\n"
     ]
    },
    {
     "name": "stdout",
     "output_type": "stream",
     "text": [
      "https://www.linkedin.com/posts/aaronsorrellknowledgemanagementpro_bp-agrees-to-purchase-leading-travel-center-activity-7031994957636788224-r2Sq?trk=public_profile_like_view\n",
      "sent extraction over\n",
      "Response call\n",
      "https://www.linkedin.com/posts/bruce-gebhardt-9ab47522_7-key-lessons-i-learned-on-my-1500-mile-activity-7033791312017379331-awwC\n",
      "sent extraction over\n",
      "Response call\n"
     ]
    },
    {
     "name": "stderr",
     "output_type": "stream",
     "text": [
      "Your max_length is set to 50, but your input_length is only 3. Since this is a summarization task, where outputs shorter than the input are typically wanted, you might consider decreasing max_length manually, e.g. summarizer('...', max_length=1)\n"
     ]
    },
    {
     "name": "stdout",
     "output_type": "stream",
     "text": [
      "https://www.biggerlawfirm.com/insider-trading-case-highlights-work-from-home-risks-for-lawyers/\n",
      "sent extraction over\n",
      "Response call\n",
      "https://www.goingconcern.com/lpt-dont-eavesdrop-on-your-partners-wfh-calls-and-inside-trade-on-what-you-hear/\n",
      "sent extraction over\n",
      "Response call\n",
      "https://janewells.substack.com/p/dumb-and-dumber-eavesdropping-on\n",
      "sent extraction over\n",
      "Response call\n",
      "Failed to retrieve https://www.tipranks.com/stocks/ta/forecast: Status code 503\n"
     ]
    },
    {
     "name": "stderr",
     "output_type": "stream",
     "text": [
      "Your max_length is set to 50, but your input_length is only 3. Since this is a summarization task, where outputs shorter than the input are typically wanted, you might consider decreasing max_length manually, e.g. summarizer('...', max_length=1)\n"
     ]
    },
    {
     "name": "stdout",
     "output_type": "stream",
     "text": [
      "sent extraction over\n",
      "Response call\n",
      "Failed to retrieve https://www.indeed.com/cmp/Travelcenters-of-America/salaries/High-School-Teacher: Status code 403\n"
     ]
    },
    {
     "name": "stderr",
     "output_type": "stream",
     "text": [
      "Your max_length is set to 50, but your input_length is only 3. Since this is a summarization task, where outputs shorter than the input are typically wanted, you might consider decreasing max_length manually, e.g. summarizer('...', max_length=1)\n"
     ]
    },
    {
     "name": "stdout",
     "output_type": "stream",
     "text": [
      "sent extraction over\n",
      "Done\n",
      "Fiserv\n",
      "Calling the search\n",
      "Search complete\n",
      "Response call\n",
      "https://www.fiserv.com/en/about-fiserv/resource-center/videos/what-chatgpt-is---and-what-it-s-not.html\n",
      "sent extraction over\n",
      "Response call\n",
      "https://www.fiserv.com/en/about-fiserv/resource-center/videos/how-is-fiserv-using-ai-.html\n",
      "sent extraction over\n",
      "Response call\n",
      "https://www.fiserv.com/en/insights/articles-and-blogs/accelerating-the-pace-of-innovation.html\n",
      "sent extraction over\n",
      "Response call\n",
      "https://www.linkedin.com/posts/fiserv_more-than-half-of-people-who-use-generative-activity-7132487844782108672-RjcC\n",
      "sent extraction over\n",
      "Response call\n",
      "https://www.fiserv.com/en/insights/articles-and-blogs/understanding-the-ai-industrial-revolution.html\n",
      "sent extraction over\n",
      "Response call\n",
      "https://www.theretirementgroup.com/featured-article/5448097/fiserv-employees-can-chatgpt-help-with-your-budget\n",
      "sent extraction over\n",
      "Response call\n"
     ]
    },
    {
     "name": "stderr",
     "output_type": "stream",
     "text": [
      "Your max_length is set to 50, but your input_length is only 3. Since this is a summarization task, where outputs shorter than the input are typically wanted, you might consider decreasing max_length manually, e.g. summarizer('...', max_length=1)\n"
     ]
    },
    {
     "name": "stdout",
     "output_type": "stream",
     "text": [
      "https://www.youtube.com/watch?v=JBd-nuGGpyY\n",
      "sent extraction over\n",
      "Response call\n",
      "https://www.fiserv.com/en/insights/articles-and-blogs/smarter-money-management.html\n",
      "sent extraction over\n",
      "Done\n",
      "Host Hotels & Resorts\n",
      "Calling the search\n",
      "Search complete\n",
      "Response call\n",
      "https://www.theretirementgroup.com/featured-article/5448097/host-hotels-resorts-employees-can-chatgpt-help-with-your-budget\n",
      "sent extraction over\n",
      "Response call\n"
     ]
    },
    {
     "name": "stderr",
     "output_type": "stream",
     "text": [
      "Your max_length is set to 50, but your input_length is only 3. Since this is a summarization task, where outputs shorter than the input are typically wanted, you might consider decreasing max_length manually, e.g. summarizer('...', max_length=1)\n"
     ]
    },
    {
     "name": "stdout",
     "output_type": "stream",
     "text": [
      "https://altindex.com/ticker/hst/ai-stock-analysis\n",
      "sent extraction over\n",
      "Response call\n",
      "Request timed out for https://www.nasdaq.com/articles/host-hotels-hst-q4-ffo-meets-estimates-occupancy-up-y-y. Attempting with Selenium.\n",
      "sent extraction over\n",
      "Response call\n",
      "Request timed out for https://www.nasdaq.com/articles/host-hotels-hst-q1-ffo-revenues-beat-23-view-raised. Attempting with Selenium.\n",
      "sent extraction over\n",
      "Response call\n",
      "Failed to retrieve https://medium.com/@asiantrader21/noble-group-partners-with-host-hotels-resorts-to-explore-new-opportunities-b2b2938b6593: Status code 403\n"
     ]
    },
    {
     "name": "stderr",
     "output_type": "stream",
     "text": [
      "Your max_length is set to 50, but your input_length is only 3. Since this is a summarization task, where outputs shorter than the input are typically wanted, you might consider decreasing max_length manually, e.g. summarizer('...', max_length=1)\n"
     ]
    },
    {
     "name": "stdout",
     "output_type": "stream",
     "text": [
      "sent extraction over\n",
      "Response call\n"
     ]
    },
    {
     "name": "stderr",
     "output_type": "stream",
     "text": [
      "Your max_length is set to 50, but your input_length is only 3. Since this is a summarization task, where outputs shorter than the input are typically wanted, you might consider decreasing max_length manually, e.g. summarizer('...', max_length=1)\n"
     ]
    },
    {
     "name": "stdout",
     "output_type": "stream",
     "text": [
      "https://www.marketbeat.com/instant-alerts/nasdaq-hst-consensus-analyst-rating-2024-03-11/\n",
      "sent extraction over\n",
      "Response call\n",
      "Failed to retrieve https://www.tipranks.com/stocks/hst/forecast: Status code 503\n"
     ]
    },
    {
     "name": "stderr",
     "output_type": "stream",
     "text": [
      "Your max_length is set to 50, but your input_length is only 3. Since this is a summarization task, where outputs shorter than the input are typically wanted, you might consider decreasing max_length manually, e.g. summarizer('...', max_length=1)\n"
     ]
    },
    {
     "name": "stdout",
     "output_type": "stream",
     "text": [
      "sent extraction over\n",
      "Response call\n",
      "https://aiolux.com/reports/analytics-technical-indicators?symbol=HST&tab_name=atr\n",
      "sent extraction over\n",
      "Done\n",
      "Insight Enterprises\n",
      "Calling the search\n",
      "Search complete\n",
      "Response call\n",
      "https://www.arnnet.com.au/article/1253140/insight-enterprises-suits-up-ai-chatbot-for-south-australian-education.html\n",
      "sent extraction over\n",
      "Response call\n"
     ]
    },
    {
     "name": "stderr",
     "output_type": "stream",
     "text": [
      "Your max_length is set to 50, but your input_length is only 3. Since this is a summarization task, where outputs shorter than the input are typically wanted, you might consider decreasing max_length manually, e.g. summarizer('...', max_length=1)\n"
     ]
    },
    {
     "name": "stdout",
     "output_type": "stream",
     "text": [
      "https://www.greatplacetowork.com/certified-company/1237014\n",
      "sent extraction over\n",
      "Response call\n"
     ]
    },
    {
     "name": "stderr",
     "output_type": "stream",
     "text": [
      "Your max_length is set to 50, but your input_length is only 42. Since this is a summarization task, where outputs shorter than the input are typically wanted, you might consider decreasing max_length manually, e.g. summarizer('...', max_length=21)\n"
     ]
    },
    {
     "name": "stdout",
     "output_type": "stream",
     "text": [
      "https://www.linkedin.com/pulse/ai-general-purpose-technology-act-accordingly-frank-t-young\n",
      "sent extraction over\n",
      "Response call\n",
      "https://www.coursera.org/articles/what-is-artificial-intelligence\n",
      "sent extraction over\n",
      "Response call\n",
      "Failed to retrieve https://www.digital-adoption.com/artificial-intelligence-general-purpose-technology/: Status code 403\n",
      "sent extraction over\n",
      "Response call\n"
     ]
    },
    {
     "name": "stderr",
     "output_type": "stream",
     "text": [
      "Your max_length is set to 50, but your input_length is only 32. Since this is a summarization task, where outputs shorter than the input are typically wanted, you might consider decreasing max_length manually, e.g. summarizer('...', max_length=16)\n"
     ]
    },
    {
     "name": "stdout",
     "output_type": "stream",
     "text": [
      "https://www.vectorvest.com/blog/hot-stocks/insight-enterprises-foray-into-artificial-intelligence-propels-stock-to-all-time-high/\n",
      "sent extraction over\n",
      "Done\n",
      "Mattel\n",
      "Calling the search\n",
      "Search complete\n",
      "Response call\n",
      "Failed to retrieve https://www.wsj.com/articles/mattel-experiments-with-chatgpt-in-cybersecurity-c80a0965: Status code 403\n",
      "sent extraction over\n",
      "Response call\n",
      "https://www.immuniweb.com/media/mattel-experiments-with-chatgpt-in-cybersecurity.html\n",
      "sent extraction over\n",
      "Response call\n",
      "https://genaigazette.com/mattel-tests-chatgpt-in-cybersecurity-2-9/\n",
      "sent extraction over\n",
      "Response call\n",
      "https://fortune.com/2023/03/08/coca-cola-mattel-snapchat-adopting-ai-despite-expert-warning/\n",
      "sent extraction over\n",
      "Response call\n",
      "https://www.ethanjone.com/mattel\n",
      "sent extraction over\n",
      "Response call\n",
      "https://www.theretirementgroup.com/featured-article/5448097/mattel-employees-can-chatgpt-help-with-your-budget\n",
      "sent extraction over\n",
      "Response call\n",
      "https://www.linkedin.com/posts/jerrymasseur2020_mattel-experiments-with-chatgpt-in-cybersecurity-activity-7082114801195175937--Tuo\n",
      "sent extraction over\n",
      "Response call\n",
      "https://www.linkedin.com/posts/steverosenbush_mattel-experiments-with-chatgpt-in-cybersecurity-activity-7072674682612674560-PrBR\n",
      "sent extraction over\n",
      "Done\n",
      "AmTrust Financial Services\n",
      "Calling the search\n",
      "Search complete\n",
      "Response call\n"
     ]
    },
    {
     "name": "stderr",
     "output_type": "stream",
     "text": [
      "Your max_length is set to 50, but your input_length is only 3. Since this is a summarization task, where outputs shorter than the input are typically wanted, you might consider decreasing max_length manually, e.g. summarizer('...', max_length=1)\n"
     ]
    },
    {
     "name": "stdout",
     "output_type": "stream",
     "text": [
      "https://www.law.com/insurance-coverage-law-center/2013/10/03/amtrust-financial-services-announces-its-intent-to-acquire-the-insco-dico-group/\n",
      "sent extraction over\n",
      "Response call\n",
      "https://www.linkedin.com/posts/chandra-sharma-542a461_amtrustlife-teamamtrust-activity-7064250065539788800-enj1\n",
      "sent extraction over\n",
      "Response call\n",
      "Failed to retrieve https://golden.com/wiki/AmTrust_Financial_Services-J5M8EX: Status code 403\n"
     ]
    },
    {
     "name": "stderr",
     "output_type": "stream",
     "text": [
      "Your max_length is set to 50, but your input_length is only 3. Since this is a summarization task, where outputs shorter than the input are typically wanted, you might consider decreasing max_length manually, e.g. summarizer('...', max_length=1)\n"
     ]
    },
    {
     "name": "stdout",
     "output_type": "stream",
     "text": [
      "sent extraction over\n",
      "Response call\n"
     ]
    },
    {
     "name": "stderr",
     "output_type": "stream",
     "text": [
      "Your max_length is set to 50, but your input_length is only 3. Since this is a summarization task, where outputs shorter than the input are typically wanted, you might consider decreasing max_length manually, e.g. summarizer('...', max_length=1)\n"
     ]
    },
    {
     "name": "stdout",
     "output_type": "stream",
     "text": [
      "https://www.law.com/2013/04/17/amtrust-financial-to-acquire-cppna-holdings/\n",
      "sent extraction over\n",
      "Response call\n",
      "https://www.linkedin.com/posts/courtney-brace_amtrust25-activity-7034537197185748992-LZRW?trk=public_profile_like_view\n",
      "sent extraction over\n",
      "Response call\n",
      "https://www.goingconcern.com/amtrust-accounting-geoinvesting-sec/\n",
      "sent extraction over\n",
      "Response call\n"
     ]
    },
    {
     "name": "stderr",
     "output_type": "stream",
     "text": [
      "Your max_length is set to 50, but your input_length is only 3. Since this is a summarization task, where outputs shorter than the input are typically wanted, you might consider decreasing max_length manually, e.g. summarizer('...', max_length=1)\n"
     ]
    },
    {
     "name": "stdout",
     "output_type": "stream",
     "text": [
      "https://riseprofessionals.com/building-success-brick-by-brick-lds-supportive-role-in-organizations/\n",
      "sent extraction over\n",
      "Response call\n"
     ]
    },
    {
     "name": "stderr",
     "output_type": "stream",
     "text": [
      "Your max_length is set to 50, but your input_length is only 3. Since this is a summarization task, where outputs shorter than the input are typically wanted, you might consider decreasing max_length manually, e.g. summarizer('...', max_length=1)\n"
     ]
    },
    {
     "name": "stdout",
     "output_type": "stream",
     "text": [
      "https://investorplace.com/2017/02/why-tesla-inc-tsla-amtrust-financial-services-inc-afsi-and-servicenow-inc-now-are-3-of-todays-worst-stocks/\n",
      "sent extraction over\n",
      "Done\n",
      "Cincinnati Financial\n",
      "Calling the search\n",
      "Search complete\n",
      "Response call\n",
      "Request timed out for https://www.nasdaq.com/articles/heres-why-cincinnati-financial-cinf-is-an-investor-favorite. Attempting with Selenium.\n",
      "sent extraction over\n",
      "Response call\n",
      "Request timed out for https://www.nasdaq.com/articles/why-cincinnati-financial-cinf-is-poised-to-beat-earnings-estimates-again. Attempting with Selenium.\n",
      "sent extraction over\n",
      "Response call\n"
     ]
    },
    {
     "name": "stderr",
     "output_type": "stream",
     "text": [
      "Your max_length is set to 50, but your input_length is only 3. Since this is a summarization task, where outputs shorter than the input are typically wanted, you might consider decreasing max_length manually, e.g. summarizer('...', max_length=1)\n"
     ]
    },
    {
     "name": "stdout",
     "output_type": "stream",
     "text": [
      "https://altindex.com/best-stocks/chat-gpt-stocks\n",
      "sent extraction over\n",
      "Response call\n",
      "Failed to retrieve https://www.barchart.com/story/news/16394525/cincinnati-financial-cinf-surpasses-q1-earnings-and-revenue-estimates: Status code 403\n",
      "sent extraction over\n",
      "Response call\n"
     ]
    },
    {
     "name": "stderr",
     "output_type": "stream",
     "text": [
      "Your max_length is set to 50, but your input_length is only 3. Since this is a summarization task, where outputs shorter than the input are typically wanted, you might consider decreasing max_length manually, e.g. summarizer('...', max_length=1)\n"
     ]
    },
    {
     "name": "stdout",
     "output_type": "stream",
     "text": [
      "https://www.linkedin.com/posts/vianews_cincinnati-financial-and-4-other-stocks-have-activity-7075991591252893696-HjhD\n",
      "sent extraction over\n",
      "Response call\n"
     ]
    },
    {
     "name": "stderr",
     "output_type": "stream",
     "text": [
      "Your max_length is set to 50, but your input_length is only 3. Since this is a summarization task, where outputs shorter than the input are typically wanted, you might consider decreasing max_length manually, e.g. summarizer('...', max_length=1)\n"
     ]
    },
    {
     "name": "stdout",
     "output_type": "stream",
     "text": [
      "https://www.marketbeat.com/instant-alerts/nasdaq-cinf-sec-filing-2024-03-12/\n",
      "sent extraction over\n",
      "Response call\n"
     ]
    },
    {
     "name": "stderr",
     "output_type": "stream",
     "text": [
      "Your max_length is set to 50, but your input_length is only 3. Since this is a summarization task, where outputs shorter than the input are typically wanted, you might consider decreasing max_length manually, e.g. summarizer('...', max_length=1)\n"
     ]
    },
    {
     "name": "stdout",
     "output_type": "stream",
     "text": [
      "https://www.theglobeandmail.com/investing/markets/stocks/CINF/pressreleases/14622762/\n",
      "sent extraction over\n",
      "Response call\n",
      "Failed to retrieve https://www.tipranks.com/stocks/cinf/forecast: Status code 503\n"
     ]
    },
    {
     "name": "stderr",
     "output_type": "stream",
     "text": [
      "Your max_length is set to 50, but your input_length is only 3. Since this is a summarization task, where outputs shorter than the input are typically wanted, you might consider decreasing max_length manually, e.g. summarizer('...', max_length=1)\n"
     ]
    },
    {
     "name": "stdout",
     "output_type": "stream",
     "text": [
      "sent extraction over\n",
      "Done\n",
      "Simon Property Group\n",
      "Calling the search\n",
      "Search complete\n",
      "Response call\n",
      "https://investors.simon.com/news-releases/news-release-details/simonr-takes-holiday-shopping-new-level-thanks-ai\n",
      "sent extraction over\n",
      "Response call\n",
      "https://www.prnewswire.com/news-releases/simon-takes-holiday-shopping-to-a-new-level-thanks-to-ai-301991103.html\n",
      "sent extraction over\n",
      "Response call\n",
      "https://www.retaildive.com/news/simon-mall-ai-holiday-shopping-tool/700133/\n",
      "sent extraction over\n",
      "Response call\n",
      "https://www.theretirementgroup.com/featured-article/5448097/simon-property-group-employees-can-chatgpt-help-with-your-budget\n",
      "sent extraction over\n",
      "Response call\n",
      "Failed to retrieve https://traded.co/blog/simon-property-group-employs-ai-for-personal-shopping-assistance/: Status code 403\n",
      "sent extraction over\n",
      "Response call\n"
     ]
    },
    {
     "name": "stderr",
     "output_type": "stream",
     "text": [
      "Your max_length is set to 50, but your input_length is only 3. Since this is a summarization task, where outputs shorter than the input are typically wanted, you might consider decreasing max_length manually, e.g. summarizer('...', max_length=1)\n"
     ]
    },
    {
     "name": "stdout",
     "output_type": "stream",
     "text": [
      "https://chainstoreage.com/simon-offers-free-personal-shoppers-help-ai\n",
      "sent extraction over\n",
      "Response call\n",
      "Failed to retrieve https://finance.yahoo.com/news/simon-introduces-ai-driven-holiday-112800987.html: Status code 404\n",
      "sent extraction over\n",
      "Response call\n",
      "https://www.retailtouchpoints.com/tag/simon-property-group\n",
      "sent extraction over\n",
      "Done\n",
      "Western Union\n",
      "Calling the search\n",
      "Search complete\n",
      "Response call\n",
      "https://www.theretirementgroup.com/featured-article/5448097/western-union-employees-can-chatgpt-help-with-your-budget\n",
      "sent extraction over\n",
      "Response call\n"
     ]
    },
    {
     "name": "stderr",
     "output_type": "stream",
     "text": [
      "Your max_length is set to 50, but your input_length is only 3. Since this is a summarization task, where outputs shorter than the input are typically wanted, you might consider decreasing max_length manually, e.g. summarizer('...', max_length=1)\n"
     ]
    },
    {
     "name": "stdout",
     "output_type": "stream",
     "text": [
      "https://techcrunch.com/2016/02/04/check-the-exchange-rate/\n",
      "sent extraction over\n",
      "Response call\n"
     ]
    },
    {
     "name": "stderr",
     "output_type": "stream",
     "text": [
      "Your max_length is set to 50, but your input_length is only 3. Since this is a summarization task, where outputs shorter than the input are typically wanted, you might consider decreasing max_length manually, e.g. summarizer('...', max_length=1)\n"
     ]
    },
    {
     "name": "stdout",
     "output_type": "stream",
     "text": [
      "https://glarity.app/chatai/What-is-Western-Union-and-what-services-does-it-offer\n",
      "sent extraction over\n",
      "Response call\n"
     ]
    },
    {
     "name": "stderr",
     "output_type": "stream",
     "text": [
      "Your max_length is set to 50, but your input_length is only 3. Since this is a summarization task, where outputs shorter than the input are typically wanted, you might consider decreasing max_length manually, e.g. summarizer('...', max_length=1)\n"
     ]
    },
    {
     "name": "stdout",
     "output_type": "stream",
     "text": [
      "https://mytechdecisions.com/project-of-the-week/western-union-avocor/\n",
      "sent extraction over\n",
      "Response call\n"
     ]
    },
    {
     "name": "stderr",
     "output_type": "stream",
     "text": [
      "Your max_length is set to 50, but your input_length is only 3. Since this is a summarization task, where outputs shorter than the input are typically wanted, you might consider decreasing max_length manually, e.g. summarizer('...', max_length=1)\n"
     ]
    },
    {
     "name": "stdout",
     "output_type": "stream",
     "text": [
      "https://www.pymnts.com/mastercard/2021/western-union-expands-mastercard-partnership-to-advance-global-services/\n",
      "sent extraction over\n",
      "Response call\n",
      "https://www.linkedin.com/posts/asharma1115_digitaltransformation-wu-paymentservices-activity-6650036393110237184-tFpT?trk=public_profile_like_view\n",
      "sent extraction over\n",
      "Response call\n"
     ]
    },
    {
     "name": "stderr",
     "output_type": "stream",
     "text": [
      "Your max_length is set to 50, but your input_length is only 3. Since this is a summarization task, where outputs shorter than the input are typically wanted, you might consider decreasing max_length manually, e.g. summarizer('...', max_length=1)\n"
     ]
    },
    {
     "name": "stdout",
     "output_type": "stream",
     "text": [
      "https://stackoverflow.com/questions/6196897/money-transfer-via-western-union\n",
      "sent extraction over\n",
      "Response call\n"
     ]
    },
    {
     "name": "stderr",
     "output_type": "stream",
     "text": [
      "Your max_length is set to 50, but your input_length is only 3. Since this is a summarization task, where outputs shorter than the input are typically wanted, you might consider decreasing max_length manually, e.g. summarizer('...', max_length=1)\n"
     ]
    },
    {
     "name": "stdout",
     "output_type": "stream",
     "text": [
      "https://www.youtube.com/watch?v=VtqtZ7l5cfY\n",
      "sent extraction over\n",
      "Done\n",
      "KeyCorp\n",
      "Calling the search\n",
      "Search complete\n",
      "Response call\n",
      "Request timed out for https://www.key.com/businesses-institutions/business-expertise/articles/chatgpt-finally-gives-ai-its-moment-in-the-sun.html. Attempting with Selenium.\n",
      "sent extraction over\n",
      "Response call\n",
      "Request timed out for https://www.key.com/businesses-institutions/business-expertise/tech-trends.html. Attempting with Selenium.\n",
      "sent extraction over\n",
      "Response call\n",
      "Request timed out for https://www.nasdaq.com/articles/keycorp-key-surpasses-q4-earnings-and-revenue-estimates. Attempting with Selenium.\n",
      "sent extraction over\n",
      "Response call\n"
     ]
    },
    {
     "name": "stderr",
     "output_type": "stream",
     "text": [
      "Your max_length is set to 50, but your input_length is only 3. Since this is a summarization task, where outputs shorter than the input are typically wanted, you might consider decreasing max_length manually, e.g. summarizer('...', max_length=1)\n"
     ]
    },
    {
     "name": "stdout",
     "output_type": "stream",
     "text": [
      "https://investorplace.com/2023/07/looking-for-a-bargain-3-bank-stocks-to-buy-that-are-down-at-least-25-in-2023/\n",
      "sent extraction over\n",
      "Response call\n",
      "https://mq.linkedin.com/posts/dean-kontul-0047423_digging-into-keybanks-conversational-ai-activity-6997930007524245504-lQS0\n",
      "sent extraction over\n",
      "Response call\n"
     ]
    },
    {
     "name": "stderr",
     "output_type": "stream",
     "text": [
      "Your max_length is set to 50, but your input_length is only 3. Since this is a summarization task, where outputs shorter than the input are typically wanted, you might consider decreasing max_length manually, e.g. summarizer('...', max_length=1)\n"
     ]
    },
    {
     "name": "stdout",
     "output_type": "stream",
     "text": [
      "https://www.bankingdive.com/news/us-bank-keybank-whatsapp-penalty-covid-19-unemployment-prepaid-card-benefits/698838/\n",
      "sent extraction over\n",
      "Response call\n",
      "Request timed out for https://www.nasdaq.com/articles/keycorp-key-slides-despite-q4-earnings-beat-revenues-down. Attempting with Selenium.\n",
      "sent extraction over\n",
      "Response call\n",
      "https://www.linkedin.com/posts/alison-altre-kerber-4ab402_keycorp-issues-2022-environmental-social-activity-7057878914534141952-QlXK\n",
      "sent extraction over\n",
      "Done\n",
      "Delek US Holdings\n",
      "Calling the search\n",
      "Search complete\n",
      "Response call\n",
      "Request timed out for https://www.nasdaq.com/articles/delek-us-holdings-dk-up-24.3-since-last-earnings-report:-can-it-continue. Attempting with Selenium.\n",
      "sent extraction over\n",
      "Response call\n",
      "Failed to retrieve https://delekus.com/about/: Status code 403\n"
     ]
    },
    {
     "name": "stderr",
     "output_type": "stream",
     "text": [
      "Your max_length is set to 50, but your input_length is only 3. Since this is a summarization task, where outputs shorter than the input are typically wanted, you might consider decreasing max_length manually, e.g. summarizer('...', max_length=1)\n"
     ]
    },
    {
     "name": "stdout",
     "output_type": "stream",
     "text": [
      "sent extraction over\n",
      "Response call\n"
     ]
    },
    {
     "name": "stderr",
     "output_type": "stream",
     "text": [
      "Your max_length is set to 50, but your input_length is only 3. Since this is a summarization task, where outputs shorter than the input are typically wanted, you might consider decreasing max_length manually, e.g. summarizer('...', max_length=1)\n"
     ]
    },
    {
     "name": "stdout",
     "output_type": "stream",
     "text": [
      "https://markets.businessinsider.com/stocks/dk-stock\n",
      "sent extraction over\n",
      "Response call\n",
      "Request timed out for https://www.nasdaq.com/articles/will-delek-us-holdings-dk-beat-estimates-again-in-its-next-earnings-report. Attempting with Selenium.\n",
      "sent extraction over\n",
      "Response call\n"
     ]
    },
    {
     "name": "stderr",
     "output_type": "stream",
     "text": [
      "Your max_length is set to 50, but your input_length is only 3. Since this is a summarization task, where outputs shorter than the input are typically wanted, you might consider decreasing max_length manually, e.g. summarizer('...', max_length=1)\n"
     ]
    },
    {
     "name": "stdout",
     "output_type": "stream",
     "text": [
      "https://www.cdomagazine.tech/events-announcements/article_d379ee10-1744-11ed-a62c-df940813c14e.html\n",
      "sent extraction over\n",
      "Response call\n",
      "Failed to retrieve https://www.zacks.com/amp/stock/news/2247538/delek-us-holdings-dk-up-243-since-last-earnings-report-can-it-continue: Status code 500\n",
      "sent extraction over\n",
      "Response call\n"
     ]
    },
    {
     "name": "stderr",
     "output_type": "stream",
     "text": [
      "Your max_length is set to 50, but your input_length is only 3. Since this is a summarization task, where outputs shorter than the input are typically wanted, you might consider decreasing max_length manually, e.g. summarizer('...', max_length=1)\n"
     ]
    },
    {
     "name": "stdout",
     "output_type": "stream",
     "text": [
      "https://www.youtube.com/watch?v=1LgabG3zX9w\n",
      "sent extraction over\n",
      "Response call\n",
      "Failed to retrieve https://www.barchart.com/story/news/16681694/compared-to-estimates-delek-us-holdings-dk-q1-earnings-a-look-at-key-metrics: Status code 403\n",
      "sent extraction over\n",
      "Done\n",
      "Booz Allen Hamilton Holding\n",
      "Calling the search\n",
      "Search complete\n",
      "Response call\n",
      "https://www.theretirementgroup.com/featured-article/5448097/booz-allen-hamilton-holding-employees-can-chatgpt-help-with-your-budget\n",
      "sent extraction over\n",
      "Response call\n",
      "Request timed out for https://www.nasdaq.com/articles/why-booz-allen-hamilton-bah-is-a-top-growth-stock-for-the-long-term. Attempting with Selenium.\n",
      "sent extraction over\n",
      "Response call\n",
      "Request timed out for https://www.nasdaq.com/articles/heres-why-booz-allen-hamilton-bah-stock-is-a-great-pick-0. Attempting with Selenium.\n",
      "sent extraction over\n",
      "Response call\n"
     ]
    },
    {
     "name": "stderr",
     "output_type": "stream",
     "text": [
      "Your max_length is set to 50, but your input_length is only 3. Since this is a summarization task, where outputs shorter than the input are typically wanted, you might consider decreasing max_length manually, e.g. summarizer('...', max_length=1)\n"
     ]
    },
    {
     "name": "stdout",
     "output_type": "stream",
     "text": [
      "https://www.marketbeat.com/instant-alerts/nyse-bah-sec-filing-2024-03-03/\n",
      "sent extraction over\n",
      "Response call\n",
      "https://dailyhodl.com/2023/06/02/27000-traders-bet-17500000-on-chatgpt-stock-picks-chasing-500-returns/\n",
      "sent extraction over\n",
      "Response call\n",
      "https://cryptonews.net/news/other/21088320/\n",
      "sent extraction over\n",
      "Response call\n"
     ]
    },
    {
     "name": "stderr",
     "output_type": "stream",
     "text": [
      "Your max_length is set to 50, but your input_length is only 3. Since this is a summarization task, where outputs shorter than the input are typically wanted, you might consider decreasing max_length manually, e.g. summarizer('...', max_length=1)\n"
     ]
    },
    {
     "name": "stdout",
     "output_type": "stream",
     "text": [
      "https://www.marketbeat.com/instant-alerts/nyse-bah-sec-filing-2024-03-10/\n",
      "sent extraction over\n",
      "Response call\n",
      "https://www.theglobeandmail.com/investing/markets/stocks/BAH-N/pressreleases/13621087/ai-education-summit-convenes-education-leaders-to-ready-students-for-ai-revolution/\n",
      "sent extraction over\n",
      "Done\n",
      "Chemours\n",
      "Calling the search\n",
      "Search complete\n",
      "Response call\n",
      "https://www.theretirementgroup.com/featured-article/5448097/chemours-employees-can-chatgpt-help-with-your-budget\n",
      "sent extraction over\n",
      "Response call\n",
      "https://www.acr-news.com/chatgpt--a-new-oracle\n",
      "sent extraction over\n",
      "Response call\n",
      "Request timed out for https://www.nasdaq.com/articles/chemours-cc-q4-earnings-beat-revenue-miss-estimates. Attempting with Selenium.\n",
      "sent extraction over\n",
      "Response call\n",
      "Failed to retrieve https://www.reuters.com/business/chatgpt-owner-launches-imperfect-tool-detect-ai-generated-text-2023-01-31/: Status code 401\n",
      "sent extraction over\n",
      "Response call\n"
     ]
    },
    {
     "name": "stderr",
     "output_type": "stream",
     "text": [
      "Your max_length is set to 50, but your input_length is only 3. Since this is a summarization task, where outputs shorter than the input are typically wanted, you might consider decreasing max_length manually, e.g. summarizer('...', max_length=1)\n"
     ]
    },
    {
     "name": "stdout",
     "output_type": "stream",
     "text": [
      "https://im-mining.com/2021/07/13/chemours-deploying-mineral-technologies-mobile-mining-units-trail-ridge-south-mineral-sands-mine/\n",
      "sent extraction over\n",
      "Response call\n",
      "https://www.linkedin.com/posts/halgaryn_sam-altman-ousted-as-ceo-of-chatgpt-parent-activity-7131649355366707200-2QdP\n",
      "sent extraction over\n",
      "Response call\n",
      "Request timed out for https://www.nasdaq.com/articles/strength-seen-in-chemours-cc:-can-its-24.1-jump-turn-into-more-strength. Attempting with Selenium.\n",
      "sent extraction over\n",
      "Response call\n"
     ]
    },
    {
     "name": "stderr",
     "output_type": "stream",
     "text": [
      "Your max_length is set to 50, but your input_length is only 3. Since this is a summarization task, where outputs shorter than the input are typically wanted, you might consider decreasing max_length manually, e.g. summarizer('...', max_length=1)\n"
     ]
    },
    {
     "name": "stdout",
     "output_type": "stream",
     "text": [
      "https://www.linkedin.com/posts/data-meaning-services-group_alteryxinspire23-chemours-datameaning-activity-7069659081778569217-zyvP?trk=public_profile_like_view\n",
      "sent extraction over\n",
      "Done\n",
      "Western & Southern Financial Group\n",
      "Calling the search\n",
      "Search complete\n",
      "Response call\n",
      "https://www.westernsouthern.com/fortwashington/insights/the-generative-ai-productivity-boom-is-coming\n",
      "sent extraction over\n",
      "Response call\n",
      "https://www.westernsouthern.com/touchstone/about/practice-management/the-whole-truth-podcast/65-how-is-artificial-intelligence-changing-investment-business\n",
      "sent extraction over\n",
      "Response call\n"
     ]
    },
    {
     "name": "stderr",
     "output_type": "stream",
     "text": [
      "Your max_length is set to 50, but your input_length is only 3. Since this is a summarization task, where outputs shorter than the input are typically wanted, you might consider decreasing max_length manually, e.g. summarizer('...', max_length=1)\n"
     ]
    },
    {
     "name": "stdout",
     "output_type": "stream",
     "text": [
      "https://www.linkedin.com/pulse/can-midwest-cities-like-cincinnati-lead-nation-you-bet-pete-blackshaw\n",
      "sent extraction over\n",
      "Response call\n"
     ]
    },
    {
     "name": "stderr",
     "output_type": "stream",
     "text": [
      "Your max_length is set to 50, but your input_length is only 3. Since this is a summarization task, where outputs shorter than the input are typically wanted, you might consider decreasing max_length manually, e.g. summarizer('...', max_length=1)\n"
     ]
    },
    {
     "name": "stdout",
     "output_type": "stream",
     "text": [
      "https://www.cdomagazine.tech/events-announcements/article_db8e4bd4-7553-11ec-99d9-bf54e778f2a8.html\n",
      "sent extraction over\n",
      "Response call\n",
      "https://itexpo.live/2023/research/60/\n",
      "sent extraction over\n",
      "Response call\n",
      "Failed to retrieve https://golden.com/wiki/Western_%26_Southern_Financial_Group-M6XJAW: Status code 403\n"
     ]
    },
    {
     "name": "stderr",
     "output_type": "stream",
     "text": [
      "Your max_length is set to 50, but your input_length is only 3. Since this is a summarization task, where outputs shorter than the input are typically wanted, you might consider decreasing max_length manually, e.g. summarizer('...', max_length=1)\n"
     ]
    },
    {
     "name": "stdout",
     "output_type": "stream",
     "text": [
      "sent extraction over\n",
      "Response call\n"
     ]
    },
    {
     "name": "stderr",
     "output_type": "stream",
     "text": [
      "Your max_length is set to 50, but your input_length is only 3. Since this is a summarization task, where outputs shorter than the input are typically wanted, you might consider decreasing max_length manually, e.g. summarizer('...', max_length=1)\n"
     ]
    },
    {
     "name": "stdout",
     "output_type": "stream",
     "text": [
      "https://www.cdomagazine.tech/cybersecurity/us-canada-video-culture-of-security-awareness-is-our-greatest-asset-western-southern-financial-group-ciso\n",
      "sent extraction over\n",
      "Response call\n"
     ]
    },
    {
     "name": "stderr",
     "output_type": "stream",
     "text": [
      "Your max_length is set to 50, but your input_length is only 3. Since this is a summarization task, where outputs shorter than the input are typically wanted, you might consider decreasing max_length manually, e.g. summarizer('...', max_length=1)\n"
     ]
    },
    {
     "name": "stdout",
     "output_type": "stream",
     "text": [
      "https://www.linkedin.com/pulse/five-midwest-fintechs-watch-pete-blackshaw\n",
      "sent extraction over\n",
      "Done\n",
      "Celanese\n",
      "Calling the search\n",
      "Search complete\n",
      "Response call\n",
      "Request timed out for https://www.nasdaq.com/articles/celanese-ce-scales-52-week-high:-whats-driving-the-stock. Attempting with Selenium.\n",
      "sent extraction over\n",
      "Response call\n"
     ]
    },
    {
     "name": "stderr",
     "output_type": "stream",
     "text": [
      "Your max_length is set to 50, but your input_length is only 3. Since this is a summarization task, where outputs shorter than the input are typically wanted, you might consider decreasing max_length manually, e.g. summarizer('...', max_length=1)\n"
     ]
    },
    {
     "name": "stdout",
     "output_type": "stream",
     "text": [
      "https://altindex.com/ticker/ce/ai-stock-analysis\n",
      "sent extraction over\n",
      "Response call\n",
      "Request timed out for https://www.nasdaq.com/articles/celanese-ce-up-15-in-3-months:-whats-driving-the-stock. Attempting with Selenium.\n",
      "sent extraction over\n",
      "Response call\n",
      "Failed to retrieve https://www.gadgetsgigabytesandgoodwill.com/2024/03/celanese-v-itc-exploring-the-crossroads-of-trade-secrets-and-patent-rights-post-aia/: Status code 403\n"
     ]
    },
    {
     "name": "stderr",
     "output_type": "stream",
     "text": [
      "Your max_length is set to 50, but your input_length is only 3. Since this is a summarization task, where outputs shorter than the input are typically wanted, you might consider decreasing max_length manually, e.g. summarizer('...', max_length=1)\n"
     ]
    },
    {
     "name": "stdout",
     "output_type": "stream",
     "text": [
      "sent extraction over\n",
      "Response call\n",
      "https://mt.linkedin.com/posts/patentlyo_openai-plans-to-up-the-ante-in-techs-ai-activity-7041564775352328192-t6Sa\n",
      "sent extraction over\n",
      "Response call\n",
      "https://www.forbes.com/sites/sap/2023/09/07/what-to-know-about-chatgpt-and-the-chemical-industry/\n",
      "sent extraction over\n",
      "Response call\n",
      "https://www.linkedin.com/posts/fredrik-h-a823211_celanese-how-celanese-uses-cognite-data-activity-7018611673607393280-B18J\n",
      "sent extraction over\n",
      "Response call\n",
      "https://www.smartindustry.com/artificial-intelligence/article/33038506/looking-to-implement-ai-powered-remote-operations-this-is-what-you-must-know\n",
      "sent extraction over\n",
      "Done\n",
      "Windstream Holdings\n",
      "Calling the search\n",
      "Search complete\n",
      "Response call\n",
      "https://www.theretirementgroup.com/featured-article/5448097/windstream-holdings-employees-can-chatgpt-help-with-your-budget\n",
      "sent extraction over\n",
      "Response call\n"
     ]
    },
    {
     "name": "stderr",
     "output_type": "stream",
     "text": [
      "Your max_length is set to 50, but your input_length is only 3. Since this is a summarization task, where outputs shorter than the input are typically wanted, you might consider decreasing max_length manually, e.g. summarizer('...', max_length=1)\n"
     ]
    },
    {
     "name": "stdout",
     "output_type": "stream",
     "text": [
      "https://www.reddit.com/r/Windstream/comments/15n0h5l/anyone_with_kinetic_fiber_in_sw_pa/\n",
      "sent extraction over\n",
      "Response call\n",
      "Failed to retrieve https://telecomreseller.com/2023/04/17/windstream-named-vets-indexes-5-star-employer-for-third-consecutive-year/: Status code 403\n"
     ]
    },
    {
     "name": "stderr",
     "output_type": "stream",
     "text": [
      "Your max_length is set to 50, but your input_length is only 3. Since this is a summarization task, where outputs shorter than the input are typically wanted, you might consider decreasing max_length manually, e.g. summarizer('...', max_length=1)\n"
     ]
    },
    {
     "name": "stdout",
     "output_type": "stream",
     "text": [
      "sent extraction over\n",
      "Response call\n",
      "https://ca.movies.yahoo.com/glean-wants-beat-chatgpt-own-130004148.html\n",
      "sent extraction over\n",
      "Response call\n",
      "https://www.invoca.com/blog/examples-ai-contact-center\n",
      "sent extraction over\n",
      "Response call\n"
     ]
    },
    {
     "name": "stderr",
     "output_type": "stream",
     "text": [
      "Your max_length is set to 50, but your input_length is only 3. Since this is a summarization task, where outputs shorter than the input are typically wanted, you might consider decreasing max_length manually, e.g. summarizer('...', max_length=1)\n"
     ]
    },
    {
     "name": "stdout",
     "output_type": "stream",
     "text": [
      "https://www.reddit.com/r/Windstream/comments/193whcw/internet_has_been_completely_out_going_on_2_days/\n",
      "sent extraction over\n",
      "Response call\n"
     ]
    },
    {
     "name": "stderr",
     "output_type": "stream",
     "text": [
      "Your max_length is set to 50, but your input_length is only 3. Since this is a summarization task, where outputs shorter than the input are typically wanted, you might consider decreasing max_length manually, e.g. summarizer('...', max_length=1)\n"
     ]
    },
    {
     "name": "stdout",
     "output_type": "stream",
     "text": [
      "https://www.bloomberg.com/press-releases/2016-10-11/windstream-to-expand-fixed-wireless-technology-in-40-markets-using-cbnl-equipment-and-straight-path-spectrum\n",
      "sent extraction over\n",
      "Response call\n",
      "https://www.invoca.com/uk/blog/examples-ai-contact-center\n",
      "sent extraction over\n",
      "Done\n",
      "Seaboard\n",
      "Calling the search\n",
      "Search complete\n",
      "Response call\n",
      "https://roli.com/stories/can-ai-make-you-a-better-musician\n",
      "sent extraction over\n",
      "Response call\n"
     ]
    },
    {
     "name": "stderr",
     "output_type": "stream",
     "text": [
      "Your max_length is set to 50, but your input_length is only 3. Since this is a summarization task, where outputs shorter than the input are typically wanted, you might consider decreasing max_length manually, e.g. summarizer('...', max_length=1)\n"
     ]
    },
    {
     "name": "stdout",
     "output_type": "stream",
     "text": [
      "https://www.youtube.com/watch?v=sJy7L9Ra-i0\n",
      "sent extraction over\n",
      "Response call\n",
      "https://musictech.com/news/music/chatgpt-sound-design-taetro-roli/\n",
      "sent extraction over\n",
      "Response call\n"
     ]
    },
    {
     "name": "stderr",
     "output_type": "stream",
     "text": [
      "Your max_length is set to 50, but your input_length is only 3. Since this is a summarization task, where outputs shorter than the input are typically wanted, you might consider decreasing max_length manually, e.g. summarizer('...', max_length=1)\n"
     ]
    },
    {
     "name": "stdout",
     "output_type": "stream",
     "text": [
      "https://www.youtube.com/watch?v=HQaAE5FLbdQ\n",
      "sent extraction over\n",
      "Response call\n"
     ]
    },
    {
     "name": "stderr",
     "output_type": "stream",
     "text": [
      "Your max_length is set to 50, but your input_length is only 3. Since this is a summarization task, where outputs shorter than the input are typically wanted, you might consider decreasing max_length manually, e.g. summarizer('...', max_length=1)\n"
     ]
    },
    {
     "name": "stdout",
     "output_type": "stream",
     "text": [
      "https://roli.com/stories/how-to-get-started-with-the-seaboard-rise-2-as-a-strings-player\n",
      "sent extraction over\n",
      "Response call\n",
      "https://www.reddit.com/r/OpenAI/comments/18yfulg/how_does_free_35_gpt_compare_to_alts_like_13b/\n",
      "sent extraction over\n",
      "Response call\n",
      "Failed to retrieve https://www.magneticmag.com/2024/02/the-power-of-ai-and-seaboard-rise-2-in-film-scoring/: Status code 403\n",
      "sent extraction over\n",
      "Response call\n",
      "Failed to retrieve https://forum.pianoworld.com/ubbthreads.php/topics/3365687/pianogpt.html: Status code 406\n",
      "sent extraction over\n",
      "Done\n",
      "Essendant\n",
      "Calling the search\n",
      "Search complete\n",
      "Response call\n",
      "Failed to retrieve https://www.bleepingcomputer.com/news/security/lockbit-ransomware-claims-essendant-attack-company-says-network-outage-/: Status code 403\n"
     ]
    },
    {
     "name": "stderr",
     "output_type": "stream",
     "text": [
      "Your max_length is set to 50, but your input_length is only 3. Since this is a summarization task, where outputs shorter than the input are typically wanted, you might consider decreasing max_length manually, e.g. summarizer('...', max_length=1)\n"
     ]
    },
    {
     "name": "stdout",
     "output_type": "stream",
     "text": [
      "sent extraction over\n",
      "Response call\n"
     ]
    },
    {
     "name": "stderr",
     "output_type": "stream",
     "text": [
      "Your max_length is set to 50, but your input_length is only 3. Since this is a summarization task, where outputs shorter than the input are typically wanted, you might consider decreasing max_length manually, e.g. summarizer('...', max_length=1)\n"
     ]
    },
    {
     "name": "stdout",
     "output_type": "stream",
     "text": [
      "https://www.linkedin.com/posts/essendant_our-experts-are-ready-to-provide-11-consultations-activity-7072558046983426049-NzcU\n",
      "sent extraction over\n",
      "Response call\n",
      "Failed to retrieve https://www.digitalcommerce360.com/2019/12/03/how-essendant-is-levelling-the-playing-field-for-resellers/: Status code 403\n"
     ]
    },
    {
     "name": "stderr",
     "output_type": "stream",
     "text": [
      "Your max_length is set to 50, but your input_length is only 3. Since this is a summarization task, where outputs shorter than the input are typically wanted, you might consider decreasing max_length manually, e.g. summarizer('...', max_length=1)\n"
     ]
    },
    {
     "name": "stdout",
     "output_type": "stream",
     "text": [
      "sent extraction over\n",
      "Response call\n",
      "Failed to retrieve https://www.digitalcommerce360.com/2019/01/31/staples-and-essendant-finalize-merger/: Status code 403\n"
     ]
    },
    {
     "name": "stderr",
     "output_type": "stream",
     "text": [
      "Your max_length is set to 50, but your input_length is only 3. Since this is a summarization task, where outputs shorter than the input are typically wanted, you might consider decreasing max_length manually, e.g. summarizer('...', max_length=1)\n"
     ]
    },
    {
     "name": "stdout",
     "output_type": "stream",
     "text": [
      "sent extraction over\n",
      "Response call\n",
      "Failed to retrieve https://www.bleepingcomputer.com/news/security/staples-owned-essendant-facing-multi-day-outage-orders-frozen/: Status code 403\n"
     ]
    },
    {
     "name": "stderr",
     "output_type": "stream",
     "text": [
      "Your max_length is set to 50, but your input_length is only 3. Since this is a summarization task, where outputs shorter than the input are typically wanted, you might consider decreasing max_length manually, e.g. summarizer('...', max_length=1)\n"
     ]
    },
    {
     "name": "stdout",
     "output_type": "stream",
     "text": [
      "sent extraction over\n",
      "Response call\n",
      "https://www.linkedin.com/posts/jcooperseo_how-chatgpt-and-bard-performed-as-my-executive-activity-7046869029814218753-pE7j\n",
      "sent extraction over\n",
      "Response call\n",
      "https://www.theofficetechtap.com/the-latest-in-tech-from-outages-to-ink-wars/\n",
      "sent extraction over\n",
      "Response call\n",
      "https://www.blackarrowcyber.com/blog/tag/essendant\n",
      "sent extraction over\n",
      "Done\n",
      "Apache\n",
      "Calling the search\n",
      "Search complete\n",
      "Response call\n",
      "Failed to retrieve https://medium.com/@madtopcoder/chatgpt-apache-spark-and-apache-ignite-96128f7c3223: Status code 403\n",
      "sent extraction over\n",
      "Response call\n",
      "https://community.openai.com/t/good-day-please-advice-if-some-how-i-can-run-chat-gpt-4-or-3-on-apache-solr/622874\n",
      "sent extraction over\n",
      "Response call\n",
      "https://www.linkedin.com/pulse/apache-kafka-meets-chatgpt-paul-brebner\n",
      "sent extraction over\n",
      "Response call\n",
      "Failed to retrieve https://imply.io/podcast/decoding-emotions-leveraging-chatgpt-and-apache-druid-for-sentiment-analysis/: Status code 403\n",
      "sent extraction over\n",
      "Response call\n",
      "Failed to retrieve https://medium.com/apache-airflow/chatgpt-operator-for-airflow-the-operator-that-wrote-itself-2ce9e14c0537: Status code 403\n",
      "sent extraction over\n",
      "Response call\n"
     ]
    },
    {
     "name": "stderr",
     "output_type": "stream",
     "text": [
      "Your max_length is set to 50, but your input_length is only 27. Since this is a summarization task, where outputs shorter than the input are typically wanted, you might consider decreasing max_length manually, e.g. summarizer('...', max_length=13)\n"
     ]
    },
    {
     "name": "stdout",
     "output_type": "stream",
     "text": [
      "https://www.youtube.com/watch?v=dMvMD_fWvNw\n",
      "sent extraction over\n",
      "Response call\n",
      "https://preset.io/blog/gpt-x-superset/\n",
      "sent extraction over\n",
      "Response call\n",
      "https://www.listendata.com/2023/03/open-source-chatgpt-models-step-by-step.html\n",
      "sent extraction over\n",
      "Done\n",
      "Airgas\n",
      "Calling the search\n",
      "Search complete\n"
     ]
    },
    {
     "name": "stderr",
     "output_type": "stream",
     "text": [
      "Your max_length is set to 50, but your input_length is only 3. Since this is a summarization task, where outputs shorter than the input are typically wanted, you might consider decreasing max_length manually, e.g. summarizer('...', max_length=1)\n"
     ]
    },
    {
     "name": "stdout",
     "output_type": "stream",
     "text": [
      "Response call\n",
      "https://www.linkedin.com/in/wwscottiii\n",
      "sent extraction over\n",
      "Response call\n"
     ]
    },
    {
     "name": "stderr",
     "output_type": "stream",
     "text": [
      "Your max_length is set to 50, but your input_length is only 3. Since this is a summarization task, where outputs shorter than the input are typically wanted, you might consider decreasing max_length manually, e.g. summarizer('...', max_length=1)\n"
     ]
    },
    {
     "name": "stdout",
     "output_type": "stream",
     "text": [
      "https://dealbook.nytimes.com/2010/09/01/airgas-novel-question/\n",
      "sent extraction over\n",
      "Response call\n"
     ]
    },
    {
     "name": "stderr",
     "output_type": "stream",
     "text": [
      "Your max_length is set to 50, but your input_length is only 3. Since this is a summarization task, where outputs shorter than the input are typically wanted, you might consider decreasing max_length manually, e.g. summarizer('...', max_length=1)\n"
     ]
    },
    {
     "name": "stdout",
     "output_type": "stream",
     "text": [
      "https://m.facebook.com/story.php/?story_fbid=1057043962354907&id=100040696398537\n",
      "sent extraction over\n",
      "Response call\n"
     ]
    },
    {
     "name": "stderr",
     "output_type": "stream",
     "text": [
      "Your max_length is set to 50, but your input_length is only 3. Since this is a summarization task, where outputs shorter than the input are typically wanted, you might consider decreasing max_length manually, e.g. summarizer('...', max_length=1)\n"
     ]
    },
    {
     "name": "stdout",
     "output_type": "stream",
     "text": [
      "https://www.irmagazine.com/careers/airgas-honors-iro-takeover-defense\n",
      "sent extraction over\n",
      "Response call\n"
     ]
    },
    {
     "name": "stderr",
     "output_type": "stream",
     "text": [
      "Your max_length is set to 50, but your input_length is only 3. Since this is a summarization task, where outputs shorter than the input are typically wanted, you might consider decreasing max_length manually, e.g. summarizer('...', max_length=1)\n"
     ]
    },
    {
     "name": "stdout",
     "output_type": "stream",
     "text": [
      "https://www.oreilly.com/library/view/risk-arbitrage-2nd/9780470379745/bapp02.xhtml\n",
      "sent extraction over\n",
      "Response call\n"
     ]
    },
    {
     "name": "stderr",
     "output_type": "stream",
     "text": [
      "Your max_length is set to 50, but your input_length is only 40. Since this is a summarization task, where outputs shorter than the input are typically wanted, you might consider decreasing max_length manually, e.g. summarizer('...', max_length=20)\n"
     ]
    },
    {
     "name": "stdout",
     "output_type": "stream",
     "text": [
      "https://buyersguide.gawdamedia.com/general/p:71\n",
      "sent extraction over\n",
      "Response call\n"
     ]
    },
    {
     "name": "stderr",
     "output_type": "stream",
     "text": [
      "Your max_length is set to 50, but your input_length is only 3. Since this is a summarization task, where outputs shorter than the input are typically wanted, you might consider decreasing max_length manually, e.g. summarizer('...', max_length=1)\n"
     ]
    },
    {
     "name": "stdout",
     "output_type": "stream",
     "text": [
      "https://www.scamadviser.com/check-website/airgas-eurasia.com\n",
      "sent extraction over\n",
      "Response call\n"
     ]
    },
    {
     "name": "stderr",
     "output_type": "stream",
     "text": [
      "Your max_length is set to 50, but your input_length is only 3. Since this is a summarization task, where outputs shorter than the input are typically wanted, you might consider decreasing max_length manually, e.g. summarizer('...', max_length=1)\n"
     ]
    },
    {
     "name": "stdout",
     "output_type": "stream",
     "text": [
      "https://dealbook.nytimes.com/2010/09/09/airgas-gets-mixed-bag-from-proxy-advisers/\n",
      "sent extraction over\n",
      "Done\n",
      "Kelly Services\n",
      "Calling the search\n",
      "Search complete\n",
      "Response call\n",
      "Failed to retrieve https://www.tipranks.com/news/article/why-kelly-services-stock-nasdaqkelya-is-an-anti-ai-investment: Status code 503\n",
      "sent extraction over\n",
      "Response call\n",
      "https://markets.businessinsider.com/news/stocks/kelly-services-stock-nasdaq-kelya-a-contrarian-anti-ai-investment-1032338368\n",
      "sent extraction over\n",
      "Response call\n",
      "Request timed out for https://www.nasdaq.com/articles/kelly-services-stock-nasdaq:kelya:-a-contrarian-anti-ai-investment. Attempting with Selenium.\n",
      "sent extraction over\n",
      "Response call\n",
      "Failed to retrieve https://www.kellyservices.nl/can-generative-ai-help-you-generate-your-next-job: Status code 403\n",
      "sent extraction over\n",
      "Response call\n"
     ]
    },
    {
     "name": "stderr",
     "output_type": "stream",
     "text": [
      "Your max_length is set to 50, but your input_length is only 3. Since this is a summarization task, where outputs shorter than the input are typically wanted, you might consider decreasing max_length manually, e.g. summarizer('...', max_length=1)\n"
     ]
    },
    {
     "name": "stdout",
     "output_type": "stream",
     "text": [
      "https://forum.uipath.com/t/kelly-launches-recruitment-platform-for-ai-and-automation-talent/632531\n",
      "sent extraction over\n",
      "Response call\n",
      "https://www.persolkelly.com.hk/news/the-future-of-digital-recruitment-chatgpt/60018/\n",
      "sent extraction over\n",
      "Response call\n"
     ]
    },
    {
     "name": "stderr",
     "output_type": "stream",
     "text": [
      "Your max_length is set to 50, but your input_length is only 3. Since this is a summarization task, where outputs shorter than the input are typically wanted, you might consider decreasing max_length manually, e.g. summarizer('...', max_length=1)\n"
     ]
    },
    {
     "name": "stdout",
     "output_type": "stream",
     "text": [
      "https://www.persolkelly.com/\n",
      "sent extraction over\n",
      "Response call\n",
      "Failed to retrieve https://www.kellyservices.nl/ai-powered-tools-to-polish-your-cv: Status code 403\n",
      "sent extraction over\n",
      "Done\n",
      "Liberty Media\n",
      "Calling the search\n",
      "Search complete\n",
      "Response call\n"
     ]
    },
    {
     "name": "stderr",
     "output_type": "stream",
     "text": [
      "Your max_length is set to 50, but your input_length is only 3. Since this is a summarization task, where outputs shorter than the input are typically wanted, you might consider decreasing max_length manually, e.g. summarizer('...', max_length=1)\n"
     ]
    },
    {
     "name": "stdout",
     "output_type": "stream",
     "text": [
      "https://www.reddit.com/r/ValueInvesting/comments/14sc48q/how_does_tracking_stocks_work_liberty_media/\n",
      "sent extraction over\n",
      "Response call\n",
      "https://www.linkedin.com/posts/forbes-magazine_liberty-medias-most-valuable-sports-property-activity-7156426037164171264-6CY-\n",
      "sent extraction over\n",
      "Response call\n"
     ]
    },
    {
     "name": "stderr",
     "output_type": "stream",
     "text": [
      "Your max_length is set to 50, but your input_length is only 3. Since this is a summarization task, where outputs shorter than the input are typically wanted, you might consider decreasing max_length manually, e.g. summarizer('...', max_length=1)\n"
     ]
    },
    {
     "name": "stdout",
     "output_type": "stream",
     "text": [
      "https://www.reddit.com/r/ValueInvesting/comments/18yyhwd/berkshire_buys_more_liberty_siriusxm_tracking/\n",
      "sent extraction over\n",
      "Response call\n",
      "Failed to retrieve https://www.listennotes.com/podcasts/reformed/chatgpt-app-store-temu-46Mf0JZWtHP/: Status code 403\n",
      "sent extraction over\n",
      "Response call\n"
     ]
    },
    {
     "name": "stderr",
     "output_type": "stream",
     "text": [
      "Your max_length is set to 50, but your input_length is only 3. Since this is a summarization task, where outputs shorter than the input are typically wanted, you might consider decreasing max_length manually, e.g. summarizer('...', max_length=1)\n"
     ]
    },
    {
     "name": "stdout",
     "output_type": "stream",
     "text": [
      "https://www.denverpost.com/2015/12/09/liberty-media-not-focused-on-possible-yahoo-sale-says-ceo-greg-maffei/\n",
      "sent extraction over\n",
      "Response call\n",
      "Request timed out for https://www.nasdaq.com/articles/is-a-surprise-coming-for-liberty-media-fwonk-this-earnings-season. Attempting with Selenium.\n",
      "sent extraction over\n",
      "Response call\n"
     ]
    },
    {
     "name": "stderr",
     "output_type": "stream",
     "text": [
      "Your max_length is set to 50, but your input_length is only 3. Since this is a summarization task, where outputs shorter than the input are typically wanted, you might consider decreasing max_length manually, e.g. summarizer('...', max_length=1)\n"
     ]
    },
    {
     "name": "stdout",
     "output_type": "stream",
     "text": [
      "https://ca.investing.com/news/stock-market-news/sirius-xm-and-liberty-media-merger-triggers-mixed-market-response-93CH-3118708\n",
      "sent extraction over\n",
      "Response call\n",
      "https://www.linkedin.com/posts/forbes-magazine_liberty-medias-most-valuable-sports-property-activity-7156410921119064065-ratX\n",
      "sent extraction over\n",
      "Done\n",
      "Rockwell Collins\n",
      "Calling the search\n",
      "Search complete\n",
      "Response call\n",
      "https://booleanstrings.com/2022/12/27/boolean-of-target-companies-with-chatgpt/\n",
      "sent extraction over\n",
      "Response call\n",
      "https://www.linkedin.com/posts/kkopheim_airshows-collinsaerospace-careerreflections-activity-7097202682561527808-DEFb\n",
      "sent extraction over\n",
      "Response call\n",
      "Failed to retrieve https://www.reuters.com/article/honeywell-boeing-idUSL3E8MF2J820121115: Status code 401\n"
     ]
    },
    {
     "name": "stderr",
     "output_type": "stream",
     "text": [
      "Your max_length is set to 50, but your input_length is only 3. Since this is a summarization task, where outputs shorter than the input are typically wanted, you might consider decreasing max_length manually, e.g. summarizer('...', max_length=1)\n"
     ]
    },
    {
     "name": "stdout",
     "output_type": "stream",
     "text": [
      "sent extraction over\n",
      "Response call\n"
     ]
    },
    {
     "name": "stderr",
     "output_type": "stream",
     "text": [
      "Your max_length is set to 50, but your input_length is only 3. Since this is a summarization task, where outputs shorter than the input are typically wanted, you might consider decreasing max_length manually, e.g. summarizer('...', max_length=1)\n"
     ]
    },
    {
     "name": "stdout",
     "output_type": "stream",
     "text": [
      "https://www.pymnts.com/cpi_posts/us-senator-unsure-if-antitrust-issues-will-impact-sale-of-rockwell-collins/\n",
      "sent extraction over\n",
      "Response call\n"
     ]
    },
    {
     "name": "stderr",
     "output_type": "stream",
     "text": [
      "Your max_length is set to 50, but your input_length is only 3. Since this is a summarization task, where outputs shorter than the input are typically wanted, you might consider decreasing max_length manually, e.g. summarizer('...', max_length=1)\n"
     ]
    },
    {
     "name": "stdout",
     "output_type": "stream",
     "text": [
      "https://www.reddit.com/r/avionics/comments/13s3wj4/getting_into_avionics_as_a_computer_science/\n",
      "sent extraction over\n",
      "Response call\n",
      "https://jm.linkedin.com/posts/alex-gunn-15287047_how-is-chatgpt-going-to-effect-the-future-activity-7029441219755692033-9Bw7\n",
      "sent extraction over\n",
      "Response call\n",
      "https://www.bradcleveland.com/how-generative-ai-will-transform-contact-centers-and-shape-your-career/\n",
      "sent extraction over\n",
      "Response call\n",
      "Failed to retrieve https://medium.com/@pranali.pawar/aircraft-synthetic-vision-systems-market-is-driven-by-increasing-situational-awareness-and-2dded05eeebc: Status code 403\n"
     ]
    },
    {
     "name": "stderr",
     "output_type": "stream",
     "text": [
      "Your max_length is set to 50, but your input_length is only 3. Since this is a summarization task, where outputs shorter than the input are typically wanted, you might consider decreasing max_length manually, e.g. summarizer('...', max_length=1)\n"
     ]
    },
    {
     "name": "stdout",
     "output_type": "stream",
     "text": [
      "sent extraction over\n",
      "Done\n",
      "Robert Half International\n",
      "Calling the search\n",
      "Search complete\n",
      "Response call\n",
      "https://www.roberthalf.com/au/en/insights/research/how-ai-changing-workplace\n",
      "sent extraction over\n",
      "Response call\n",
      "https://www.roberthalf.com/au/en/about/press/new-data-shows-how-generative-ai-affecting-australian-businesses-hiring-trends-workplace\n",
      "sent extraction over\n",
      "Response call\n",
      "https://investorplace.com/2023/04/the-3-most-surprising-ai-stocks-to-watch-in-2023/\n",
      "sent extraction over\n",
      "Response call\n",
      "Failed to retrieve https://medium.com/@jamespanty2/what-is-robert-half-6801a5c7cc05: Status code 403\n"
     ]
    },
    {
     "name": "stderr",
     "output_type": "stream",
     "text": [
      "Your max_length is set to 50, but your input_length is only 3. Since this is a summarization task, where outputs shorter than the input are typically wanted, you might consider decreasing max_length manually, e.g. summarizer('...', max_length=1)\n"
     ]
    },
    {
     "name": "stdout",
     "output_type": "stream",
     "text": [
      "sent extraction over\n",
      "Response call\n"
     ]
    },
    {
     "name": "stderr",
     "output_type": "stream",
     "text": [
      "Your max_length is set to 50, but your input_length is only 3. Since this is a summarization task, where outputs shorter than the input are typically wanted, you might consider decreasing max_length manually, e.g. summarizer('...', max_length=1)\n"
     ]
    },
    {
     "name": "stdout",
     "output_type": "stream",
     "text": [
      "https://www.reddit.com/r/stocks/comments/13hsswy/rhi_robert_half_international/\n",
      "sent extraction over\n",
      "Response call\n",
      "https://news.alphastreet.com/robert-half-international-inc-rhi-q1-2023-earnings-call-transcript/\n",
      "sent extraction over\n",
      "Done\n",
      "CH2M Hill\n",
      "Calling the search\n",
      "Search complete\n",
      "Response call\n"
     ]
    },
    {
     "name": "stderr",
     "output_type": "stream",
     "text": [
      "Your max_length is set to 50, but your input_length is only 3. Since this is a summarization task, where outputs shorter than the input are typically wanted, you might consider decreasing max_length manually, e.g. summarizer('...', max_length=1)\n"
     ]
    },
    {
     "name": "stdout",
     "output_type": "stream",
     "text": [
      "https://www.askhandle.com/blog/employee-owned-companies\n",
      "sent extraction over\n",
      "Response call\n"
     ]
    },
    {
     "name": "stderr",
     "output_type": "stream",
     "text": [
      "Your max_length is set to 50, but your input_length is only 3. Since this is a summarization task, where outputs shorter than the input are typically wanted, you might consider decreasing max_length manually, e.g. summarizer('...', max_length=1)\n"
     ]
    },
    {
     "name": "stdout",
     "output_type": "stream",
     "text": [
      "https://whyy.org/articles/ch2m-hill-donates-bikes-to-delaware-children/\n",
      "sent extraction over\n",
      "Response call\n",
      "https://www.pmmag.com/articles/105211-mechanical-contractors-need-to-embrace-new-technology-or-get-left-behind\n",
      "sent extraction over\n",
      "Response call\n"
     ]
    },
    {
     "name": "stderr",
     "output_type": "stream",
     "text": [
      "Your max_length is set to 50, but your input_length is only 3. Since this is a summarization task, where outputs shorter than the input are typically wanted, you might consider decreasing max_length manually, e.g. summarizer('...', max_length=1)\n"
     ]
    },
    {
     "name": "stdout",
     "output_type": "stream",
     "text": [
      "https://www.linkedin.com/pulse/five-ways-stop-reply-all-responses-tracks-marie-gettel-gilmartin\n",
      "sent extraction over\n",
      "Response call\n",
      "Failed to retrieve https://medium.com/@allcity/navys-pick-to-review-shipyard-cleanup-fraud-also-faked-data-127b9e87c35f: Status code 403\n"
     ]
    },
    {
     "name": "stderr",
     "output_type": "stream",
     "text": [
      "Your max_length is set to 50, but your input_length is only 3. Since this is a summarization task, where outputs shorter than the input are typically wanted, you might consider decreasing max_length manually, e.g. summarizer('...', max_length=1)\n"
     ]
    },
    {
     "name": "stdout",
     "output_type": "stream",
     "text": [
      "sent extraction over\n",
      "Response call\n",
      "Failed to retrieve https://www.lusha.com/business/7765bf68ec71ed36/: Status code 403\n"
     ]
    },
    {
     "name": "stderr",
     "output_type": "stream",
     "text": [
      "Your max_length is set to 50, but your input_length is only 3. Since this is a summarization task, where outputs shorter than the input are typically wanted, you might consider decreasing max_length manually, e.g. summarizer('...', max_length=1)\n"
     ]
    },
    {
     "name": "stdout",
     "output_type": "stream",
     "text": [
      "sent extraction over\n",
      "Response call\n"
     ]
    },
    {
     "name": "stderr",
     "output_type": "stream",
     "text": [
      "Your max_length is set to 50, but your input_length is only 3. Since this is a summarization task, where outputs shorter than the input are typically wanted, you might consider decreasing max_length manually, e.g. summarizer('...', max_length=1)\n"
     ]
    },
    {
     "name": "stdout",
     "output_type": "stream",
     "text": [
      "https://www.computerworld.com/article/2564758/sidebar--cmms--eam-or-itam-.html\n",
      "sent extraction over\n",
      "Response call\n"
     ]
    },
    {
     "name": "stderr",
     "output_type": "stream",
     "text": [
      "Your max_length is set to 50, but your input_length is only 3. Since this is a summarization task, where outputs shorter than the input are typically wanted, you might consider decreasing max_length manually, e.g. summarizer('...', max_length=1)\n"
     ]
    },
    {
     "name": "stdout",
     "output_type": "stream",
     "text": [
      "https://www.denverpost.com/2013/10/01/ch2m-hill-gets-6-4-million-pact-to-repair-navy-yard-shooting-site/\n",
      "sent extraction over\n",
      "Done\n",
      "Big Lots\n",
      "Calling the search\n",
      "Search complete\n",
      "Response call\n",
      "https://www.theretirementgroup.com/featured-article/5448097/big-lots-employees-can-chatgpt-help-with-your-budget\n",
      "sent extraction over\n",
      "Response call\n",
      "https://www.reddit.com/r/stocks/comments/1b3szt8/why_i_think_big_lots_big_is_very_undervalued/\n",
      "sent extraction over\n",
      "Response call\n",
      "https://investorplace.com/2011/08/big-lots-3-pros-3-cons/\n",
      "sent extraction over\n",
      "Response call\n",
      "Request timed out for https://www.nasdaq.com/articles/big-lots-big-may-report-negative-earnings:-know-the-trend-ahead-of-next-weeks-release. Attempting with Selenium.\n",
      "sent extraction over\n",
      "Response call\n"
     ]
    },
    {
     "name": "stderr",
     "output_type": "stream",
     "text": [
      "Your max_length is set to 50, but your input_length is only 3. Since this is a summarization task, where outputs shorter than the input are typically wanted, you might consider decreasing max_length manually, e.g. summarizer('...', max_length=1)\n"
     ]
    },
    {
     "name": "stdout",
     "output_type": "stream",
     "text": [
      "https://www.linkedin.com/posts/brianriffle_at-big-lots-we-are-excited-to-share-our-activity-7153508931871358976-WhsB\n",
      "sent extraction over\n",
      "Response call\n",
      "Request timed out for https://www.nasdaq.com/articles/big-lots-big-q1-earnings-coming-up:-whats-in-the-cards. Attempting with Selenium.\n",
      "sent extraction over\n",
      "Response call\n",
      "Failed to retrieve https://www.tipranks.com/stocks/big/financials: Status code 503\n"
     ]
    },
    {
     "name": "stderr",
     "output_type": "stream",
     "text": [
      "Your max_length is set to 50, but your input_length is only 3. Since this is a summarization task, where outputs shorter than the input are typically wanted, you might consider decreasing max_length manually, e.g. summarizer('...', max_length=1)\n"
     ]
    },
    {
     "name": "stdout",
     "output_type": "stream",
     "text": [
      "sent extraction over\n",
      "Response call\n",
      "https://www.portada-online.com/more-from-portada/big-lots-launches-celebra-big-holidays-campaign-featuring-el-chavo/\n",
      "sent extraction over\n",
      "Done\n",
      "Michaels Cos.\n",
      "Calling the search\n",
      "Search complete\n",
      "Response call\n",
      "Failed to retrieve https://www.digitalcommerce360.com/2019/10/08/michaels-adds-ups-access-point-services-to-more-than-1100-stores/: Status code 403\n"
     ]
    },
    {
     "name": "stderr",
     "output_type": "stream",
     "text": [
      "Your max_length is set to 50, but your input_length is only 3. Since this is a summarization task, where outputs shorter than the input are typically wanted, you might consider decreasing max_length manually, e.g. summarizer('...', max_length=1)\n"
     ]
    },
    {
     "name": "stdout",
     "output_type": "stream",
     "text": [
      "sent extraction over\n",
      "Response call\n",
      "Failed to retrieve https://www.wsj.com/articles/u-s-stock-futures-edge-lower-1403871647: Status code 403\n"
     ]
    },
    {
     "name": "stderr",
     "output_type": "stream",
     "text": [
      "Your max_length is set to 50, but your input_length is only 3. Since this is a summarization task, where outputs shorter than the input are typically wanted, you might consider decreasing max_length manually, e.g. summarizer('...', max_length=1)\n"
     ]
    },
    {
     "name": "stdout",
     "output_type": "stream",
     "text": [
      "sent extraction over\n",
      "Response call\n",
      "http://edgar.secdatabase.com/1040/119312523290576/filing-main.htm\n",
      "sent extraction over\n",
      "Response call\n",
      "Failed to retrieve https://www.digitalcommerce360.com/2020/03/26/during-the-coronavirus-crisis-the-curbside-replaces-the-store-for-some-retailers/: Status code 403\n"
     ]
    },
    {
     "name": "stderr",
     "output_type": "stream",
     "text": [
      "Your max_length is set to 50, but your input_length is only 3. Since this is a summarization task, where outputs shorter than the input are typically wanted, you might consider decreasing max_length manually, e.g. summarizer('...', max_length=1)\n"
     ]
    },
    {
     "name": "stdout",
     "output_type": "stream",
     "text": [
      "sent extraction over\n",
      "Response call\n"
     ]
    },
    {
     "name": "stderr",
     "output_type": "stream",
     "text": [
      "Your max_length is set to 50, but your input_length is only 3. Since this is a summarization task, where outputs shorter than the input are typically wanted, you might consider decreasing max_length manually, e.g. summarizer('...', max_length=1)\n"
     ]
    },
    {
     "name": "stdout",
     "output_type": "stream",
     "text": [
      "https://m.youtube.com/watch?v=0IZRLt2RPlQ\n",
      "sent extraction over\n",
      "Response call\n",
      "http://fernfortuniversity.com/term-papers/pestelrusukr/c/520-northern-trust.php\n",
      "sent extraction over\n",
      "Done\n",
      "Toll Brothers\n",
      "Calling the search\n",
      "Search complete\n",
      "Response call\n",
      "https://www.theretirementgroup.com/featured-article/5448097/toll-brothers-employees-can-chatgpt-help-with-your-budget\n",
      "sent extraction over\n",
      "Response call\n",
      "Request timed out for https://www.nasdaq.com/articles/toll-brothers-tol-suffers-a-larger-drop-than-the-general-market:-key-insights. Attempting with Selenium.\n",
      "sent extraction over\n",
      "Response call\n",
      "Request timed out for https://www.nasdaq.com/articles/toll-brothers-tol-ascends-but-remains-behind-market:-some-facts-to-note. Attempting with Selenium.\n",
      "sent extraction over\n",
      "Response call\n"
     ]
    },
    {
     "name": "stderr",
     "output_type": "stream",
     "text": [
      "Your max_length is set to 50, but your input_length is only 3. Since this is a summarization task, where outputs shorter than the input are typically wanted, you might consider decreasing max_length manually, e.g. summarizer('...', max_length=1)\n"
     ]
    },
    {
     "name": "stdout",
     "output_type": "stream",
     "text": [
      "https://altindex.com/ticker/tol/ai-stock-analysis\n",
      "sent extraction over\n",
      "Response call\n"
     ]
    },
    {
     "name": "stderr",
     "output_type": "stream",
     "text": [
      "Your max_length is set to 50, but your input_length is only 3. Since this is a summarization task, where outputs shorter than the input are typically wanted, you might consider decreasing max_length manually, e.g. summarizer('...', max_length=1)\n"
     ]
    },
    {
     "name": "stdout",
     "output_type": "stream",
     "text": [
      "https://www.law360.com/connecticut/articles/1782362/judge-trims-12m-toll-brothers-suit-against-security-co-\n",
      "sent extraction over\n",
      "Response call\n",
      "https://www.linkedin.com/posts/karalbreazeale_chatgpt-is-already-affecting-how-real-estate-activity-7031311686619787264-T7R-\n",
      "sent extraction over\n",
      "Response call\n",
      "Failed to retrieve https://www.zacks.com/amp/stock/news/2088355/are-you-looking-for-a-top-momentum-pick-why-toll-brothers-tol-is-a-great-choice: Status code 500\n",
      "sent extraction over\n",
      "Response call\n"
     ]
    },
    {
     "name": "stderr",
     "output_type": "stream",
     "text": [
      "Your max_length is set to 50, but your input_length is only 3. Since this is a summarization task, where outputs shorter than the input are typically wanted, you might consider decreasing max_length manually, e.g. summarizer('...', max_length=1)\n"
     ]
    },
    {
     "name": "stdout",
     "output_type": "stream",
     "text": [
      "https://ca.finance.yahoo.com/news/toll-brothers-tol-lures-investors-141500243.html\n",
      "sent extraction over\n",
      "Done\n",
      "Yahoo\n",
      "Calling the search\n",
      "Search complete\n",
      "Response call\n",
      "https://www.reddit.com/r/ChatGPT/comments/167rrsv/yahoo_is_using_chatgpt_to_generate_a_writeup/\n",
      "sent extraction over\n",
      "Response call\n",
      "https://www.mirror.co.uk/tech/yahoo-chatgpt-ai-google-email-30825387\n",
      "sent extraction over\n",
      "Response call\n",
      "https://www.toolify.ai/gpts/transform-your-yahoo-mail-with-chatgpt-mail-extension-140555\n",
      "sent extraction over\n",
      "Response call\n",
      "Failed to retrieve https://finance.yahoo.com/news/now-customize-chatgpt-181515124.html: Status code 404\n",
      "sent extraction over\n",
      "Response call\n"
     ]
    },
    {
     "name": "stderr",
     "output_type": "stream",
     "text": [
      "Your max_length is set to 50, but your input_length is only 40. Since this is a summarization task, where outputs shorter than the input are typically wanted, you might consider decreasing max_length manually, e.g. summarizer('...', max_length=20)\n"
     ]
    },
    {
     "name": "stdout",
     "output_type": "stream",
     "text": [
      "https://www.youtube.com/watch?v=F8CdpGCh3u0\n",
      "sent extraction over\n",
      "Response call\n",
      "Failed to retrieve https://finance.yahoo.com/news/despite-free-access-gpt-4-165821066.html: Status code 404\n",
      "sent extraction over\n",
      "Response call\n",
      "Failed to retrieve https://finance.yahoo.com/news/gpt-4-turbo-is-openais-most-powerful-large-language-model-yet-211956553.html: Status code 404\n",
      "sent extraction over\n",
      "Response call\n",
      "Failed to retrieve https://finance.yahoo.com/news/openai-gives-chatgpt-ability-remember-181513712.html: Status code 404\n",
      "sent extraction over\n",
      "Done\n",
      "Vistra Energy\n",
      "Calling the search\n",
      "Search complete\n",
      "Response call\n",
      "Request timed out for https://www.nasdaq.com/articles/vistra-energy-vst-to-post-q3-earnings:-whats-in-the-cards. Attempting with Selenium.\n",
      "sent extraction over\n",
      "Response call\n",
      "Failed to retrieve https://www.chat2invest.com/ticker/us/nyse/stock/VST: Status code 403\n"
     ]
    },
    {
     "name": "stderr",
     "output_type": "stream",
     "text": [
      "Your max_length is set to 50, but your input_length is only 3. Since this is a summarization task, where outputs shorter than the input are typically wanted, you might consider decreasing max_length manually, e.g. summarizer('...', max_length=1)\n"
     ]
    },
    {
     "name": "stdout",
     "output_type": "stream",
     "text": [
      "sent extraction over\n",
      "Response call\n"
     ]
    },
    {
     "name": "stderr",
     "output_type": "stream",
     "text": [
      "Your max_length is set to 50, but your input_length is only 3. Since this is a summarization task, where outputs shorter than the input are typically wanted, you might consider decreasing max_length manually, e.g. summarizer('...', max_length=1)\n"
     ]
    },
    {
     "name": "stdout",
     "output_type": "stream",
     "text": [
      "https://www.pymnts.com/cpi_posts/us-energy-giants-vistra-and-dynegy-close-to-merger-deal/\n",
      "sent extraction over\n",
      "Response call\n",
      "Failed to retrieve https://www.tipranks.com/stocks/vst/forecast: Status code 503\n"
     ]
    },
    {
     "name": "stderr",
     "output_type": "stream",
     "text": [
      "Your max_length is set to 50, but your input_length is only 3. Since this is a summarization task, where outputs shorter than the input are typically wanted, you might consider decreasing max_length manually, e.g. summarizer('...', max_length=1)\n"
     ]
    },
    {
     "name": "stdout",
     "output_type": "stream",
     "text": [
      "sent extraction over\n",
      "Response call\n",
      "Failed to retrieve https://www.tipranks.com/news/company-announcements/vistra-energy-expands-with-energy-harbor-merger-and-new-leadership: Status code 503\n"
     ]
    },
    {
     "name": "stderr",
     "output_type": "stream",
     "text": [
      "Your max_length is set to 50, but your input_length is only 3. Since this is a summarization task, where outputs shorter than the input are typically wanted, you might consider decreasing max_length manually, e.g. summarizer('...', max_length=1)\n"
     ]
    },
    {
     "name": "stdout",
     "output_type": "stream",
     "text": [
      "sent extraction over\n",
      "Response call\n"
     ]
    },
    {
     "name": "stderr",
     "output_type": "stream",
     "text": [
      "Your max_length is set to 50, but your input_length is only 3. Since this is a summarization task, where outputs shorter than the input are typically wanted, you might consider decreasing max_length manually, e.g. summarizer('...', max_length=1)\n"
     ]
    },
    {
     "name": "stdout",
     "output_type": "stream",
     "text": [
      "https://www.linkedin.com/posts/nthouda_it-has-been-5-years-since-i-had-an-opportunity-activity-7084580159164465152-WUED\n",
      "sent extraction over\n",
      "Response call\n",
      "https://qz.com/emails/daily-brief/1850993858/x-marks-the-chatbot\n",
      "sent extraction over\n",
      "Response call\n",
      "https://www.linkedin.com/posts/kimberly-bates-phd-cpa-44a11011b_we-had-chatgpt-take-the-cpa-exam-and-it-activity-7061447457527758849-2wFB?trk=public_profile_like_view\n",
      "sent extraction over\n",
      "Done\n",
      "ABM Industries\n",
      "Calling the search\n",
      "Search complete\n",
      "Response call\n",
      "https://www.theretirementgroup.com/featured-article/5448097/abm-industries-employees-can-chatgpt-help-with-your-budget\n",
      "sent extraction over\n",
      "Response call\n"
     ]
    },
    {
     "name": "stderr",
     "output_type": "stream",
     "text": [
      "Your max_length is set to 50, but your input_length is only 3. Since this is a summarization task, where outputs shorter than the input are typically wanted, you might consider decreasing max_length manually, e.g. summarizer('...', max_length=1)\n"
     ]
    },
    {
     "name": "stdout",
     "output_type": "stream",
     "text": [
      "https://www.linkedin.com/posts/austin-peters-107563240_how-to-utilize-chat-gpt-to-give-you-a-learning-activity-7111465478203592704-tOKQ\n",
      "sent extraction over\n",
      "Response call\n"
     ]
    },
    {
     "name": "stderr",
     "output_type": "stream",
     "text": [
      "Your max_length is set to 50, but your input_length is only 3. Since this is a summarization task, where outputs shorter than the input are typically wanted, you might consider decreasing max_length manually, e.g. summarizer('...', max_length=1)\n"
     ]
    },
    {
     "name": "stdout",
     "output_type": "stream",
     "text": [
      "https://www.marketbeat.com/instant-alerts/nyse-abm-consensus-analyst-rating-2024-03-04/\n",
      "sent extraction over\n",
      "Response call\n",
      "Request timed out for https://www.nasdaq.com/articles/should-value-investors-buy-abm-industries-abm-stock-1. Attempting with Selenium.\n",
      "sent extraction over\n",
      "Response call\n"
     ]
    },
    {
     "name": "stderr",
     "output_type": "stream",
     "text": [
      "Your max_length is set to 50, but your input_length is only 3. Since this is a summarization task, where outputs shorter than the input are typically wanted, you might consider decreasing max_length manually, e.g. summarizer('...', max_length=1)\n"
     ]
    },
    {
     "name": "stdout",
     "output_type": "stream",
     "text": [
      "https://investorplace.com/2023/12/forever-favorites-7-dividend-stocks-to-buy-and-never-sell/\n",
      "sent extraction over\n",
      "Response call\n"
     ]
    },
    {
     "name": "stderr",
     "output_type": "stream",
     "text": [
      "Your max_length is set to 50, but your input_length is only 3. Since this is a summarization task, where outputs shorter than the input are typically wanted, you might consider decreasing max_length manually, e.g. summarizer('...', max_length=1)\n"
     ]
    },
    {
     "name": "stdout",
     "output_type": "stream",
     "text": [
      "https://sales-demand.com/5-steps-to-turbocharge-your-abm-strategy/\n",
      "sent extraction over\n",
      "Response call\n",
      "https://www.linkedin.com/posts/ernie-gomez-1792b711_top-charging-services-provider-abm-announces-activity-7077656605504278528-5MUK\n",
      "sent extraction over\n",
      "Response call\n"
     ]
    },
    {
     "name": "stderr",
     "output_type": "stream",
     "text": [
      "Your max_length is set to 50, but your input_length is only 3. Since this is a summarization task, where outputs shorter than the input are typically wanted, you might consider decreasing max_length manually, e.g. summarizer('...', max_length=1)\n"
     ]
    },
    {
     "name": "stdout",
     "output_type": "stream",
     "text": [
      "https://www.marketbeat.com/instant-alerts/nyse-abm-sec-filing-2024-03-08/\n",
      "sent extraction over\n",
      "Done\n"
     ]
    },
    {
     "ename": "FileNotFoundError",
     "evalue": "[Errno 2] No such file or directory: 'final_results_gpt_1.csv'",
     "output_type": "error",
     "traceback": [
      "\u001b[0;31m---------------------------------------------------------------------------\u001b[0m",
      "\u001b[0;31mFileNotFoundError\u001b[0m                         Traceback (most recent call last)",
      "Cell \u001b[0;32mIn[24], line 25\u001b[0m\n\u001b[1;32m     21\u001b[0m         \u001b[38;5;28mprint\u001b[39m(\u001b[38;5;124mf\u001b[39m\u001b[38;5;124m\"\u001b[39m\u001b[38;5;124mAn error occurred while processing \u001b[39m\u001b[38;5;132;01m{\u001b[39;00mrow[\u001b[38;5;124m'\u001b[39m\u001b[38;5;124mname\u001b[39m\u001b[38;5;124m'\u001b[39m]\u001b[38;5;132;01m}\u001b[39;00m\u001b[38;5;124m: \u001b[39m\u001b[38;5;132;01m{\u001b[39;00me\u001b[38;5;132;01m}\u001b[39;00m\u001b[38;5;124m\"\u001b[39m)\n\u001b[1;32m     22\u001b[0m         \u001b[38;5;66;03m# You can choose to log the error or perform other error handling here\u001b[39;00m\n\u001b[1;32m     23\u001b[0m \n\u001b[1;32m     24\u001b[0m \u001b[38;5;66;03m# Once the loop is complete, load the saved data\u001b[39;00m\n\u001b[0;32m---> 25\u001b[0m final_results_df \u001b[38;5;241m=\u001b[39m \u001b[43mpd\u001b[49m\u001b[38;5;241;43m.\u001b[39;49m\u001b[43mread_csv\u001b[49m\u001b[43m(\u001b[49m\u001b[38;5;124;43m'\u001b[39;49m\u001b[38;5;124;43mfinal_results_gpt_1.csv\u001b[39;49m\u001b[38;5;124;43m'\u001b[39;49m\u001b[43m)\u001b[49m\n",
      "File \u001b[0;32m~/anaconda3/envs/oxford_new/lib/python3.12/site-packages/pandas/io/parsers/readers.py:1024\u001b[0m, in \u001b[0;36mread_csv\u001b[0;34m(filepath_or_buffer, sep, delimiter, header, names, index_col, usecols, dtype, engine, converters, true_values, false_values, skipinitialspace, skiprows, skipfooter, nrows, na_values, keep_default_na, na_filter, verbose, skip_blank_lines, parse_dates, infer_datetime_format, keep_date_col, date_parser, date_format, dayfirst, cache_dates, iterator, chunksize, compression, thousands, decimal, lineterminator, quotechar, quoting, doublequote, escapechar, comment, encoding, encoding_errors, dialect, on_bad_lines, delim_whitespace, low_memory, memory_map, float_precision, storage_options, dtype_backend)\u001b[0m\n\u001b[1;32m   1011\u001b[0m kwds_defaults \u001b[38;5;241m=\u001b[39m _refine_defaults_read(\n\u001b[1;32m   1012\u001b[0m     dialect,\n\u001b[1;32m   1013\u001b[0m     delimiter,\n\u001b[0;32m   (...)\u001b[0m\n\u001b[1;32m   1020\u001b[0m     dtype_backend\u001b[38;5;241m=\u001b[39mdtype_backend,\n\u001b[1;32m   1021\u001b[0m )\n\u001b[1;32m   1022\u001b[0m kwds\u001b[38;5;241m.\u001b[39mupdate(kwds_defaults)\n\u001b[0;32m-> 1024\u001b[0m \u001b[38;5;28;01mreturn\u001b[39;00m \u001b[43m_read\u001b[49m\u001b[43m(\u001b[49m\u001b[43mfilepath_or_buffer\u001b[49m\u001b[43m,\u001b[49m\u001b[43m \u001b[49m\u001b[43mkwds\u001b[49m\u001b[43m)\u001b[49m\n",
      "File \u001b[0;32m~/anaconda3/envs/oxford_new/lib/python3.12/site-packages/pandas/io/parsers/readers.py:618\u001b[0m, in \u001b[0;36m_read\u001b[0;34m(filepath_or_buffer, kwds)\u001b[0m\n\u001b[1;32m    615\u001b[0m _validate_names(kwds\u001b[38;5;241m.\u001b[39mget(\u001b[38;5;124m\"\u001b[39m\u001b[38;5;124mnames\u001b[39m\u001b[38;5;124m\"\u001b[39m, \u001b[38;5;28;01mNone\u001b[39;00m))\n\u001b[1;32m    617\u001b[0m \u001b[38;5;66;03m# Create the parser.\u001b[39;00m\n\u001b[0;32m--> 618\u001b[0m parser \u001b[38;5;241m=\u001b[39m \u001b[43mTextFileReader\u001b[49m\u001b[43m(\u001b[49m\u001b[43mfilepath_or_buffer\u001b[49m\u001b[43m,\u001b[49m\u001b[43m \u001b[49m\u001b[38;5;241;43m*\u001b[39;49m\u001b[38;5;241;43m*\u001b[39;49m\u001b[43mkwds\u001b[49m\u001b[43m)\u001b[49m\n\u001b[1;32m    620\u001b[0m \u001b[38;5;28;01mif\u001b[39;00m chunksize \u001b[38;5;129;01mor\u001b[39;00m iterator:\n\u001b[1;32m    621\u001b[0m     \u001b[38;5;28;01mreturn\u001b[39;00m parser\n",
      "File \u001b[0;32m~/anaconda3/envs/oxford_new/lib/python3.12/site-packages/pandas/io/parsers/readers.py:1618\u001b[0m, in \u001b[0;36mTextFileReader.__init__\u001b[0;34m(self, f, engine, **kwds)\u001b[0m\n\u001b[1;32m   1615\u001b[0m     \u001b[38;5;28mself\u001b[39m\u001b[38;5;241m.\u001b[39moptions[\u001b[38;5;124m\"\u001b[39m\u001b[38;5;124mhas_index_names\u001b[39m\u001b[38;5;124m\"\u001b[39m] \u001b[38;5;241m=\u001b[39m kwds[\u001b[38;5;124m\"\u001b[39m\u001b[38;5;124mhas_index_names\u001b[39m\u001b[38;5;124m\"\u001b[39m]\n\u001b[1;32m   1617\u001b[0m \u001b[38;5;28mself\u001b[39m\u001b[38;5;241m.\u001b[39mhandles: IOHandles \u001b[38;5;241m|\u001b[39m \u001b[38;5;28;01mNone\u001b[39;00m \u001b[38;5;241m=\u001b[39m \u001b[38;5;28;01mNone\u001b[39;00m\n\u001b[0;32m-> 1618\u001b[0m \u001b[38;5;28mself\u001b[39m\u001b[38;5;241m.\u001b[39m_engine \u001b[38;5;241m=\u001b[39m \u001b[38;5;28;43mself\u001b[39;49m\u001b[38;5;241;43m.\u001b[39;49m\u001b[43m_make_engine\u001b[49m\u001b[43m(\u001b[49m\u001b[43mf\u001b[49m\u001b[43m,\u001b[49m\u001b[43m \u001b[49m\u001b[38;5;28;43mself\u001b[39;49m\u001b[38;5;241;43m.\u001b[39;49m\u001b[43mengine\u001b[49m\u001b[43m)\u001b[49m\n",
      "File \u001b[0;32m~/anaconda3/envs/oxford_new/lib/python3.12/site-packages/pandas/io/parsers/readers.py:1878\u001b[0m, in \u001b[0;36mTextFileReader._make_engine\u001b[0;34m(self, f, engine)\u001b[0m\n\u001b[1;32m   1876\u001b[0m     \u001b[38;5;28;01mif\u001b[39;00m \u001b[38;5;124m\"\u001b[39m\u001b[38;5;124mb\u001b[39m\u001b[38;5;124m\"\u001b[39m \u001b[38;5;129;01mnot\u001b[39;00m \u001b[38;5;129;01min\u001b[39;00m mode:\n\u001b[1;32m   1877\u001b[0m         mode \u001b[38;5;241m+\u001b[39m\u001b[38;5;241m=\u001b[39m \u001b[38;5;124m\"\u001b[39m\u001b[38;5;124mb\u001b[39m\u001b[38;5;124m\"\u001b[39m\n\u001b[0;32m-> 1878\u001b[0m \u001b[38;5;28mself\u001b[39m\u001b[38;5;241m.\u001b[39mhandles \u001b[38;5;241m=\u001b[39m \u001b[43mget_handle\u001b[49m\u001b[43m(\u001b[49m\n\u001b[1;32m   1879\u001b[0m \u001b[43m    \u001b[49m\u001b[43mf\u001b[49m\u001b[43m,\u001b[49m\n\u001b[1;32m   1880\u001b[0m \u001b[43m    \u001b[49m\u001b[43mmode\u001b[49m\u001b[43m,\u001b[49m\n\u001b[1;32m   1881\u001b[0m \u001b[43m    \u001b[49m\u001b[43mencoding\u001b[49m\u001b[38;5;241;43m=\u001b[39;49m\u001b[38;5;28;43mself\u001b[39;49m\u001b[38;5;241;43m.\u001b[39;49m\u001b[43moptions\u001b[49m\u001b[38;5;241;43m.\u001b[39;49m\u001b[43mget\u001b[49m\u001b[43m(\u001b[49m\u001b[38;5;124;43m\"\u001b[39;49m\u001b[38;5;124;43mencoding\u001b[39;49m\u001b[38;5;124;43m\"\u001b[39;49m\u001b[43m,\u001b[49m\u001b[43m \u001b[49m\u001b[38;5;28;43;01mNone\u001b[39;49;00m\u001b[43m)\u001b[49m\u001b[43m,\u001b[49m\n\u001b[1;32m   1882\u001b[0m \u001b[43m    \u001b[49m\u001b[43mcompression\u001b[49m\u001b[38;5;241;43m=\u001b[39;49m\u001b[38;5;28;43mself\u001b[39;49m\u001b[38;5;241;43m.\u001b[39;49m\u001b[43moptions\u001b[49m\u001b[38;5;241;43m.\u001b[39;49m\u001b[43mget\u001b[49m\u001b[43m(\u001b[49m\u001b[38;5;124;43m\"\u001b[39;49m\u001b[38;5;124;43mcompression\u001b[39;49m\u001b[38;5;124;43m\"\u001b[39;49m\u001b[43m,\u001b[49m\u001b[43m \u001b[49m\u001b[38;5;28;43;01mNone\u001b[39;49;00m\u001b[43m)\u001b[49m\u001b[43m,\u001b[49m\n\u001b[1;32m   1883\u001b[0m \u001b[43m    \u001b[49m\u001b[43mmemory_map\u001b[49m\u001b[38;5;241;43m=\u001b[39;49m\u001b[38;5;28;43mself\u001b[39;49m\u001b[38;5;241;43m.\u001b[39;49m\u001b[43moptions\u001b[49m\u001b[38;5;241;43m.\u001b[39;49m\u001b[43mget\u001b[49m\u001b[43m(\u001b[49m\u001b[38;5;124;43m\"\u001b[39;49m\u001b[38;5;124;43mmemory_map\u001b[39;49m\u001b[38;5;124;43m\"\u001b[39;49m\u001b[43m,\u001b[49m\u001b[43m \u001b[49m\u001b[38;5;28;43;01mFalse\u001b[39;49;00m\u001b[43m)\u001b[49m\u001b[43m,\u001b[49m\n\u001b[1;32m   1884\u001b[0m \u001b[43m    \u001b[49m\u001b[43mis_text\u001b[49m\u001b[38;5;241;43m=\u001b[39;49m\u001b[43mis_text\u001b[49m\u001b[43m,\u001b[49m\n\u001b[1;32m   1885\u001b[0m \u001b[43m    \u001b[49m\u001b[43merrors\u001b[49m\u001b[38;5;241;43m=\u001b[39;49m\u001b[38;5;28;43mself\u001b[39;49m\u001b[38;5;241;43m.\u001b[39;49m\u001b[43moptions\u001b[49m\u001b[38;5;241;43m.\u001b[39;49m\u001b[43mget\u001b[49m\u001b[43m(\u001b[49m\u001b[38;5;124;43m\"\u001b[39;49m\u001b[38;5;124;43mencoding_errors\u001b[39;49m\u001b[38;5;124;43m\"\u001b[39;49m\u001b[43m,\u001b[49m\u001b[43m \u001b[49m\u001b[38;5;124;43m\"\u001b[39;49m\u001b[38;5;124;43mstrict\u001b[39;49m\u001b[38;5;124;43m\"\u001b[39;49m\u001b[43m)\u001b[49m\u001b[43m,\u001b[49m\n\u001b[1;32m   1886\u001b[0m \u001b[43m    \u001b[49m\u001b[43mstorage_options\u001b[49m\u001b[38;5;241;43m=\u001b[39;49m\u001b[38;5;28;43mself\u001b[39;49m\u001b[38;5;241;43m.\u001b[39;49m\u001b[43moptions\u001b[49m\u001b[38;5;241;43m.\u001b[39;49m\u001b[43mget\u001b[49m\u001b[43m(\u001b[49m\u001b[38;5;124;43m\"\u001b[39;49m\u001b[38;5;124;43mstorage_options\u001b[39;49m\u001b[38;5;124;43m\"\u001b[39;49m\u001b[43m,\u001b[49m\u001b[43m \u001b[49m\u001b[38;5;28;43;01mNone\u001b[39;49;00m\u001b[43m)\u001b[49m\u001b[43m,\u001b[49m\n\u001b[1;32m   1887\u001b[0m \u001b[43m\u001b[49m\u001b[43m)\u001b[49m\n\u001b[1;32m   1888\u001b[0m \u001b[38;5;28;01massert\u001b[39;00m \u001b[38;5;28mself\u001b[39m\u001b[38;5;241m.\u001b[39mhandles \u001b[38;5;129;01mis\u001b[39;00m \u001b[38;5;129;01mnot\u001b[39;00m \u001b[38;5;28;01mNone\u001b[39;00m\n\u001b[1;32m   1889\u001b[0m f \u001b[38;5;241m=\u001b[39m \u001b[38;5;28mself\u001b[39m\u001b[38;5;241m.\u001b[39mhandles\u001b[38;5;241m.\u001b[39mhandle\n",
      "File \u001b[0;32m~/anaconda3/envs/oxford_new/lib/python3.12/site-packages/pandas/io/common.py:873\u001b[0m, in \u001b[0;36mget_handle\u001b[0;34m(path_or_buf, mode, encoding, compression, memory_map, is_text, errors, storage_options)\u001b[0m\n\u001b[1;32m    868\u001b[0m \u001b[38;5;28;01melif\u001b[39;00m \u001b[38;5;28misinstance\u001b[39m(handle, \u001b[38;5;28mstr\u001b[39m):\n\u001b[1;32m    869\u001b[0m     \u001b[38;5;66;03m# Check whether the filename is to be opened in binary mode.\u001b[39;00m\n\u001b[1;32m    870\u001b[0m     \u001b[38;5;66;03m# Binary mode does not support 'encoding' and 'newline'.\u001b[39;00m\n\u001b[1;32m    871\u001b[0m     \u001b[38;5;28;01mif\u001b[39;00m ioargs\u001b[38;5;241m.\u001b[39mencoding \u001b[38;5;129;01mand\u001b[39;00m \u001b[38;5;124m\"\u001b[39m\u001b[38;5;124mb\u001b[39m\u001b[38;5;124m\"\u001b[39m \u001b[38;5;129;01mnot\u001b[39;00m \u001b[38;5;129;01min\u001b[39;00m ioargs\u001b[38;5;241m.\u001b[39mmode:\n\u001b[1;32m    872\u001b[0m         \u001b[38;5;66;03m# Encoding\u001b[39;00m\n\u001b[0;32m--> 873\u001b[0m         handle \u001b[38;5;241m=\u001b[39m \u001b[38;5;28;43mopen\u001b[39;49m\u001b[43m(\u001b[49m\n\u001b[1;32m    874\u001b[0m \u001b[43m            \u001b[49m\u001b[43mhandle\u001b[49m\u001b[43m,\u001b[49m\n\u001b[1;32m    875\u001b[0m \u001b[43m            \u001b[49m\u001b[43mioargs\u001b[49m\u001b[38;5;241;43m.\u001b[39;49m\u001b[43mmode\u001b[49m\u001b[43m,\u001b[49m\n\u001b[1;32m    876\u001b[0m \u001b[43m            \u001b[49m\u001b[43mencoding\u001b[49m\u001b[38;5;241;43m=\u001b[39;49m\u001b[43mioargs\u001b[49m\u001b[38;5;241;43m.\u001b[39;49m\u001b[43mencoding\u001b[49m\u001b[43m,\u001b[49m\n\u001b[1;32m    877\u001b[0m \u001b[43m            \u001b[49m\u001b[43merrors\u001b[49m\u001b[38;5;241;43m=\u001b[39;49m\u001b[43merrors\u001b[49m\u001b[43m,\u001b[49m\n\u001b[1;32m    878\u001b[0m \u001b[43m            \u001b[49m\u001b[43mnewline\u001b[49m\u001b[38;5;241;43m=\u001b[39;49m\u001b[38;5;124;43m\"\u001b[39;49m\u001b[38;5;124;43m\"\u001b[39;49m\u001b[43m,\u001b[49m\n\u001b[1;32m    879\u001b[0m \u001b[43m        \u001b[49m\u001b[43m)\u001b[49m\n\u001b[1;32m    880\u001b[0m     \u001b[38;5;28;01melse\u001b[39;00m:\n\u001b[1;32m    881\u001b[0m         \u001b[38;5;66;03m# Binary mode\u001b[39;00m\n\u001b[1;32m    882\u001b[0m         handle \u001b[38;5;241m=\u001b[39m \u001b[38;5;28mopen\u001b[39m(handle, ioargs\u001b[38;5;241m.\u001b[39mmode)\n",
      "\u001b[0;31mFileNotFoundError\u001b[0m: [Errno 2] No such file or directory: 'final_results_gpt_1.csv'"
     ]
    }
   ],
   "source": [
    "results = []  # This will hold the results from all companies\n",
    "\n",
    "#for index, row in Companies_list.iloc[458:].iterrows():\n",
    "for index, row in Companies_list:\n",
    "    try:\n",
    "        # Fetch and summarize data for the current company\n",
    "        company_result = fetch_and_summarize_company_ai_usage(row['name'], row['Country'], row['Sector'], row['Language Code'])\n",
    "        results.append(company_result)\n",
    "        print('Done')\n",
    "\n",
    "        # Convert the list of results to a DataFrame\n",
    "        interim_results_df = pd.concat(results, ignore_index=True)\n",
    "\n",
    "        # Save the interim results to a file after each successful iteration\n",
    "        # You can choose a different format like Excel (to_excel) or a database\n",
    "        interim_results_df.to_csv('interim_results_gpt_17.csv', index=False)\n",
    "        \n",
    "        delay = random.randint(45,65)\n",
    "        time.sleep(delay)\n",
    "    \n",
    "    except Exception as e:\n",
    "        print(f\"An error occurred while processing {row['name']}: {e}\")\n",
    "        # You can choose to log the error or perform other error handling here\n",
    "\n",
    "# Once the loop is complete, load the saved data\n",
    "final_results_df = pd.read_csv('final_results_gpt_1.csv')"
   ]
  }
 ],
 "metadata": {
  "kernelspec": {
   "display_name": "Python 3 (ipykernel)",
   "language": "python",
   "name": "python3"
  },
  "language_info": {
   "codemirror_mode": {
    "name": "ipython",
    "version": 3
   },
   "file_extension": ".py",
   "mimetype": "text/x-python",
   "name": "python",
   "nbconvert_exporter": "python",
   "pygments_lexer": "ipython3",
   "version": "3.12.1"
  }
 },
 "nbformat": 4,
 "nbformat_minor": 5
}
