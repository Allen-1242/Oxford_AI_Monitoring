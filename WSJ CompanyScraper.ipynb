{
 "cells": [
  {
   "cell_type": "code",
   "execution_count": 1,
   "id": "dd892c88-b9b6-40f4-868b-99ccbab75f1d",
   "metadata": {},
   "outputs": [
    {
     "ename": "NameError",
     "evalue": "name 'driver' is not defined",
     "output_type": "error",
     "traceback": [
      "\u001b[0;31m---------------------------------------------------------------------------\u001b[0m",
      "\u001b[0;31mNameError\u001b[0m                                 Traceback (most recent call last)",
      "Cell \u001b[0;32mIn[1], line 1\u001b[0m\n\u001b[0;32m----> 1\u001b[0m \u001b[43mdriver\u001b[49m\u001b[38;5;241m.\u001b[39mclose()\n",
      "\u001b[0;31mNameError\u001b[0m: name 'driver' is not defined"
     ]
    }
   ],
   "source": [
    "driver.close()"
   ]
  },
  {
   "cell_type": "code",
   "execution_count": 1,
   "id": "5fc0ac82-a3e8-4fe8-a95d-e82f68965f33",
   "metadata": {},
   "outputs": [],
   "source": [
    "from selenium import webdriver\n",
    "from selenium.webdriver.firefox.service import Service\n",
    "from webdriver_manager.firefox import GeckoDriverManager\n",
    "from selenium.webdriver.firefox.options import Options as FirefoxOptions\n",
    "\n",
    "from selenium import webdriver\n",
    "from selenium.webdriver.common.by import By\n",
    "from selenium.webdriver.support.ui import WebDriverWait\n",
    "from selenium.webdriver.support import expected_conditions as EC\n",
    "\n",
    "# Initialize Firefox Options\n",
    "firefox_options = FirefoxOptions()\n",
    "\n",
    "# Create a new Firefox Profile for your extensions\n",
    "firefox_profile = webdriver.FirefoxProfile()\n",
    "\n",
    "# Convert the profile to a base64 string and add it to the options\n",
    "firefox_options.profile = firefox_profile"
   ]
  },
  {
   "cell_type": "code",
   "execution_count": 2,
   "id": "1a09a019-b4b8-44cc-b045-49683a3fd2d9",
   "metadata": {},
   "outputs": [],
   "source": [
    "#Webscrpaing and request parsing \n",
    "import requests\n",
    "from bs4 import BeautifulSoup, Comment\n",
    "import time\n",
    "\n",
    "from lxml import etree\n",
    "from lxml.html import fromstring"
   ]
  },
  {
   "cell_type": "code",
   "execution_count": 3,
   "id": "94feed16-e47e-4917-8633-0377af97dde6",
   "metadata": {},
   "outputs": [],
   "source": [
    "from googlesearch import search"
   ]
  },
  {
   "cell_type": "code",
   "execution_count": 4,
   "id": "eecf109e-68d9-495c-8ba5-ab843709c43a",
   "metadata": {},
   "outputs": [
    {
     "name": "stderr",
     "output_type": "stream",
     "text": [
      "/var/folders/jq/vkbby4bd33xbf6kks2_zrswh0000gn/T/ipykernel_22961/581249992.py:1: DeprecationWarning: \n",
      "Pyarrow will become a required dependency of pandas in the next major release of pandas (pandas 3.0),\n",
      "(to allow more performant data types, such as the Arrow string type, and better interoperability with other libraries)\n",
      "but was not found to be installed on your system.\n",
      "If this would cause problems for you,\n",
      "please provide us feedback at https://github.com/pandas-dev/pandas/issues/54466\n",
      "        \n",
      "  import pandas as pd\n"
     ]
    }
   ],
   "source": [
    "import pandas as pd\n",
    "import re"
   ]
  },
  {
   "cell_type": "code",
   "execution_count": 5,
   "id": "532b2951-9f4c-4876-a3b0-eb044b0115c6",
   "metadata": {},
   "outputs": [
    {
     "data": {
      "text/plain": [
       "'magnolia@12.34'"
      ]
     },
     "execution_count": 5,
     "metadata": {},
     "output_type": "execute_result"
    }
   ],
   "source": [
    "# Set up the service with GeckoDriverManager\n",
    "service = Service(GeckoDriverManager().install())\n",
    "driver = webdriver.Firefox(service=service, options=firefox_options)\n",
    "\n",
    "driver.install_addon('/Users/allensunny/Downloads/Mozilla Scraper Tools/uBlock0_1.55.0.firefox.signed.xpi',  temporary=True)\n",
    "driver.install_addon('/Users/allensunny/Downloads/Mozilla Scraper Tools/bypass_paywalls_clean-3.5.5.0.xpi', temporary=True)"
   ]
  },
  {
   "cell_type": "code",
   "execution_count": 6,
   "id": "4cd1adf2-d492-4dfc-a990-2cf28780038b",
   "metadata": {},
   "outputs": [],
   "source": [
    "#Proxy set up\n",
    "#Consutructing the proxy farm \n",
    "with open('/Users/allensunny/Downloads/http.txt', 'r') as file:\n",
    "    content = file.read()\n",
    "\n",
    "#Converting to a list of proxies to fetch data\n",
    "proxies = content.strip().split('\\n')"
   ]
  },
  {
   "cell_type": "code",
   "execution_count": 7,
   "id": "f9c28b4d-4aa5-4d33-b005-36a89a860065",
   "metadata": {},
   "outputs": [],
   "source": [
    "#Proxy Function extraction \n",
    "def get_random_proxy():\n",
    "    return random.choice(proxies)"
   ]
  },
  {
   "cell_type": "code",
   "execution_count": null,
   "id": "39d013ed-e1cf-4f1e-b53c-c22a1b923c68",
   "metadata": {},
   "outputs": [],
   "source": [
    "#moving to the next page\n",
    "def click_next():\n",
    "    try:\n",
    "        # Wait for the \"Next\" button to be clickable\n",
    "        next_button = WebDriverWait(driver, 10).until(\n",
    "            EC.element_to_be_clickable((By.CSS_SELECTOR, \"li.next a\"))\n",
    "        )\n",
    "        # Click the \"Next\" button if it's found and clickable\n",
    "        next_button.click()\n",
    "        return True\n",
    "    except (TimeoutException, NoSuchElementException):\n",
    "        # Return False if the \"Next\" button isn't present or clickable\n",
    "        return False"
   ]
  },
  {
   "cell_type": "code",
   "execution_count": 8,
   "id": "36cd835e-a3ea-4537-9af6-2ff11b3a4dd5",
   "metadata": {},
   "outputs": [],
   "source": [
    "#Extracting from the wsj \n",
    "url = \"https://www.wsj.com/market-data/quotes/company-list\""
   ]
  },
  {
   "cell_type": "code",
   "execution_count": 9,
   "id": "10795c28-cbcc-43cb-8f49-791ea60bcbea",
   "metadata": {},
   "outputs": [],
   "source": [
    "# Navigate to the URL\n",
    "driver.get(url)\n",
    "\n",
    "# Wait for the h3 tag\n",
    "WebDriverWait(driver, 10).until(EC.presence_of_element_located((By.TAG_NAME, \"h3\")))\n",
    "\n",
    "# Pass the page source to BeautifulSoup\n",
    "soup = BeautifulSoup(driver.page_source, 'html.parser')\n",
    "\n",
    "# Find the h3 tag with 'Browse by Country'\n",
    "h3 = soup.find('h3', string=re.compile('Browse by Country', re.IGNORECASE))\n",
    "\n",
    "# Initialize an empty list to hold all URLs and country names\n",
    "country_data = []\n",
    "\n",
    "# If the h3 tag is found, find the related elements\n",
    "if h3:\n",
    "    next_ul = h3.find_next_sibling('ul')\n",
    "    if next_ul:\n",
    "        li_elements = next_ul.find_all('li')\n",
    "        for li in li_elements:\n",
    "            a_tag = li.find('a')\n",
    "            if a_tag:\n",
    "                # Store each URL and the country name in the list\n",
    "                country_data.append((a_tag['href'], a_tag.text))\n",
    "\n",
    "# Iterate through the list of URLs, navigate to each one, and extract table data\n",
    "Main_df = pd.DataFrame()\n",
    "for url, country_name in country_data:\n",
    "    driver.get(url)\n",
    "     \n",
    "    #Initalize the country wise dataframe\n",
    "    Country_df = pd.DataFrame()\n",
    "    while True:\n",
    "        WebDriverWait(driver, 10).until(EC.presence_of_element_located((By.TAG_NAME, \"table\")))\n",
    "        soup = BeautifulSoup(driver.page_source, 'html.parser')\n",
    "        \n",
    "        # Extract table data...\n",
    "        table = soup.find('table')\n",
    "        if table:\n",
    "            headers = [header.get_text(strip=True) for header in table.find_all('th')]\n",
    "            rows = []\n",
    "            for row in table.find_all('tr'):\n",
    "                cells = row.find_all('td')\n",
    "                if cells:\n",
    "                    rows.append([cell.get_text(strip=True) for cell in cells])\n",
    "\n",
    "            # Create a temporary DataFrame and append it to the main DataFrame\n",
    "        temp_df = pd.DataFrame(rows, columns=headers)\n",
    "        temp_df['Country'] = country_name  # Add the country name to each row\n",
    "\n",
    "        # Concatenate the temporary DataFrame with the main DataFrame\n",
    "        Country_df = pd.concat([Country_df, temp_df], ignore_index=True)\n",
    "        \n",
    "        # Check if the 'Next' button exists\n",
    "        next_button = driver.find_elements(By.CSS_SELECTOR, \"li.next a\")\n",
    "        if not next_button:\n",
    "            break  # No 'Next' button, exit the loop and proceed to the next URL\n",
    "\n",
    "        try:\n",
    "            # Try clicking the 'Next' button\n",
    "            next_button[0].click()\n",
    "            WebDriverWait(driver, 10).until(EC.staleness_of(next_button[0]))\n",
    "        except Exception as e:\n",
    "            #print(f\"Cannot click 'Next' button, moving to the next URL. Exception: {e}\")\n",
    "            break\n",
    "\n",
    "    #Append to the main df\n",
    "    Main_df = pd.concat([Main_df, Country_df], ignore_index=True)\n",
    "\n",
    "# Close the driver\n",
    "driver.quit()"
   ]
  },
  {
   "cell_type": "code",
   "execution_count": 10,
   "id": "288323a1-32b2-4d69-aeb9-403e8ed2132a",
   "metadata": {},
   "outputs": [
    {
     "data": {
      "text/html": [
       "<div>\n",
       "<style scoped>\n",
       "    .dataframe tbody tr th:only-of-type {\n",
       "        vertical-align: middle;\n",
       "    }\n",
       "\n",
       "    .dataframe tbody tr th {\n",
       "        vertical-align: top;\n",
       "    }\n",
       "\n",
       "    .dataframe thead th {\n",
       "        text-align: right;\n",
       "    }\n",
       "</style>\n",
       "<table border=\"1\" class=\"dataframe\">\n",
       "  <thead>\n",
       "    <tr style=\"text-align: right;\">\n",
       "      <th></th>\n",
       "      <th>Name</th>\n",
       "      <th>Exchange</th>\n",
       "      <th>SuperSector</th>\n",
       "      <th>Country</th>\n",
       "    </tr>\n",
       "  </thead>\n",
       "  <tbody>\n",
       "    <tr>\n",
       "      <th>0</th>\n",
       "      <td>01 Communique Laboratory Inc.(OONEF)</td>\n",
       "      <td>OOTC</td>\n",
       "      <td>Software</td>\n",
       "      <td>United States</td>\n",
       "    </tr>\n",
       "    <tr>\n",
       "      <th>1</th>\n",
       "      <td>10X Capital Venture Acquisition Corp. II Cl A(...</td>\n",
       "      <td>XNAS</td>\n",
       "      <td>Shell companies</td>\n",
       "      <td>United States</td>\n",
       "    </tr>\n",
       "    <tr>\n",
       "      <th>2</th>\n",
       "      <td>10X Capital Venture Acquisition Corp. II Un(VC...</td>\n",
       "      <td>XNAS</td>\n",
       "      <td>Shell companies</td>\n",
       "      <td>United States</td>\n",
       "    </tr>\n",
       "    <tr>\n",
       "      <th>3</th>\n",
       "      <td>10X Capital Venture Acquisition Corp. II Wt(VC...</td>\n",
       "      <td>XNAS</td>\n",
       "      <td></td>\n",
       "      <td>United States</td>\n",
       "    </tr>\n",
       "    <tr>\n",
       "      <th>4</th>\n",
       "      <td>10X Capital Venture Acquisition Corp. III(VCXB...</td>\n",
       "      <td>XNYS</td>\n",
       "      <td>Shell companies</td>\n",
       "      <td>United States</td>\n",
       "    </tr>\n",
       "    <tr>\n",
       "      <th>...</th>\n",
       "      <td>...</td>\n",
       "      <td>...</td>\n",
       "      <td>...</td>\n",
       "      <td>...</td>\n",
       "    </tr>\n",
       "    <tr>\n",
       "      <th>55158</th>\n",
       "      <td>Yukselen Celik A.S.(YKSLN.E)</td>\n",
       "      <td>XIST</td>\n",
       "      <td>Iron/Steel</td>\n",
       "      <td>Turkey</td>\n",
       "    </tr>\n",
       "    <tr>\n",
       "      <th>55159</th>\n",
       "      <td>Yunlu Sanayi ve Ticaret A.S.(YUNSA.E)</td>\n",
       "      <td>XIST</td>\n",
       "      <td>Clothing</td>\n",
       "      <td>Turkey</td>\n",
       "    </tr>\n",
       "    <tr>\n",
       "      <th>55160</th>\n",
       "      <td>Zedur Enerji Elektrik Uretim A.S.(ZEDUR.E)</td>\n",
       "      <td>XIST</td>\n",
       "      <td>Construction</td>\n",
       "      <td>Turkey</td>\n",
       "    </tr>\n",
       "    <tr>\n",
       "      <th>55161</th>\n",
       "      <td>Ziraat Gayrimenkul Yatirim Ortakligi A.S.(ZRGY...</td>\n",
       "      <td>XIST</td>\n",
       "      <td>Industrial/Office REITs</td>\n",
       "      <td>Turkey</td>\n",
       "    </tr>\n",
       "    <tr>\n",
       "      <th>55162</th>\n",
       "      <td>Zorlu Enerji Elektrik Uretim A.S.(ZOREN.E)</td>\n",
       "      <td>XIST</td>\n",
       "      <td>Multiutilities</td>\n",
       "      <td>Turkey</td>\n",
       "    </tr>\n",
       "  </tbody>\n",
       "</table>\n",
       "<p>55163 rows × 4 columns</p>\n",
       "</div>"
      ],
      "text/plain": [
       "                                                    Name Exchange  \\\n",
       "0                   01 Communique Laboratory Inc.(OONEF)     OOTC   \n",
       "1      10X Capital Venture Acquisition Corp. II Cl A(...     XNAS   \n",
       "2      10X Capital Venture Acquisition Corp. II Un(VC...     XNAS   \n",
       "3      10X Capital Venture Acquisition Corp. II Wt(VC...     XNAS   \n",
       "4      10X Capital Venture Acquisition Corp. III(VCXB...     XNYS   \n",
       "...                                                  ...      ...   \n",
       "55158                       Yukselen Celik A.S.(YKSLN.E)     XIST   \n",
       "55159              Yunlu Sanayi ve Ticaret A.S.(YUNSA.E)     XIST   \n",
       "55160         Zedur Enerji Elektrik Uretim A.S.(ZEDUR.E)     XIST   \n",
       "55161  Ziraat Gayrimenkul Yatirim Ortakligi A.S.(ZRGY...     XIST   \n",
       "55162         Zorlu Enerji Elektrik Uretim A.S.(ZOREN.E)     XIST   \n",
       "\n",
       "                   SuperSector        Country  \n",
       "0                     Software  United States  \n",
       "1              Shell companies  United States  \n",
       "2              Shell companies  United States  \n",
       "3                               United States  \n",
       "4              Shell companies  United States  \n",
       "...                        ...            ...  \n",
       "55158               Iron/Steel         Turkey  \n",
       "55159                 Clothing         Turkey  \n",
       "55160             Construction         Turkey  \n",
       "55161  Industrial/Office REITs         Turkey  \n",
       "55162           Multiutilities         Turkey  \n",
       "\n",
       "[55163 rows x 4 columns]"
      ]
     },
     "execution_count": 10,
     "metadata": {},
     "output_type": "execute_result"
    }
   ],
   "source": [
    "Main_df"
   ]
  },
  {
   "cell_type": "code",
   "execution_count": 15,
   "id": "22c8aa12-15ca-44ea-94f3-cd8e15ef9188",
   "metadata": {},
   "outputs": [],
   "source": [
    "Main_df.to_csv('Companies_list.csv', index=False)"
   ]
  }
 ],
 "metadata": {
  "kernelspec": {
   "display_name": "Python 3 (ipykernel)",
   "language": "python",
   "name": "python3"
  },
  "language_info": {
   "codemirror_mode": {
    "name": "ipython",
    "version": 3
   },
   "file_extension": ".py",
   "mimetype": "text/x-python",
   "name": "python",
   "nbconvert_exporter": "python",
   "pygments_lexer": "ipython3",
   "version": "3.12.1"
  }
 },
 "nbformat": 4,
 "nbformat_minor": 5
}
