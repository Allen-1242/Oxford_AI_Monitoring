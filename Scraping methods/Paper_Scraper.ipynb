{
 "cells": [
  {
   "cell_type": "code",
   "execution_count": null,
   "id": "8ea7d1b1-3b01-4b57-a00f-71d560429f35",
   "metadata": {},
   "outputs": [],
   "source": [
    "from paperscraper.arxiv import get_and_dump_arxiv_papers\n",
    "\n",
    "#Attaching the company name \n",
    "Company_Name = ['Edmunton Motors']\n",
    "ai = ['Artificial intelligence', 'Deep learning', 'Machine learning']\n",
    "#mi = ['Medical imaging']\n",
    "query = ['ai']\n",
    "\n",
    "get_and_dump_arxiv_papers(query, output_filepath='Google_Papers.jsonl')"
   ]
  }
 ],
 "metadata": {
  "kernelspec": {
   "display_name": "Python 3 (ipykernel)",
   "language": "python",
   "name": "python3"
  },
  "language_info": {
   "codemirror_mode": {
    "name": "ipython",
    "version": 3
   },
   "file_extension": ".py",
   "mimetype": "text/x-python",
   "name": "python",
   "nbconvert_exporter": "python",
   "pygments_lexer": "ipython3",
   "version": "3.12.1"
  }
 },
 "nbformat": 4,
 "nbformat_minor": 5
}
