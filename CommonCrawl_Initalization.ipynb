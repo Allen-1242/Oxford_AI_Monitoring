{
 "cells": [
  {
   "cell_type": "code",
   "execution_count": 1,
   "id": "88daba02-0fe9-4b49-8395-2089306ebeaf",
   "metadata": {},
   "outputs": [
    {
     "name": "stdout",
     "output_type": "stream",
     "text": [
      "Failed to fetch WARC file: 403\n"
     ]
    }
   ],
   "source": [
    "import requests\n",
    "from warcio.archiveiterator import ArchiveIterator\n",
    "\n",
    "def search_common_crawl(query, index_url):\n",
    "    response = requests.get(index_url, stream=True)\n",
    "    \n",
    "    # Check if the request was successful\n",
    "    if response.status_code != 200:\n",
    "        print(f\"Failed to fetch WARC file: {response.status_code}\")\n",
    "        return\n",
    "    \n",
    "    # Iterate over the records in the WARC file\n",
    "    for record in ArchiveIterator(response.raw):\n",
    "        if record.rec_type == 'response':\n",
    "            # Convert the record content to a string\n",
    "            content = record.content_stream().read().decode('utf-8')\n",
    "            \n",
    "            # Search for the query in the content\n",
    "            if query.lower() in content.lower():\n",
    "                print(f\"Found a match in {record.rec_headers.get_header('WARC-Target-URI')}\")\n",
    "                # Print the content or take any other action here\n",
    "                # For example, print(content)\n",
    "\n",
    "# Example URL for a Common Crawl index\n",
    "# You would need to find the actual WARC file URL that you want to search\n",
    "index_url = 'https://commoncrawl.s3.amazonaws.com/crawl-data/CC-MAIN-2023-05/warc.paths.gz'\n",
    "\n",
    "# The query to search for\n",
    "query = \"Ford usage of GPT4\"\n",
    "\n",
    "# Call the function to start the search\n",
    "search_common_crawl(query, index_url)"
   ]
  },
  {
   "cell_type": "code",
   "execution_count": 2,
   "id": "729a4975-ef8b-48d2-b6cb-14f51deca87d",
   "metadata": {},
   "outputs": [],
   "source": [
    "import requests\n",
    "from warcio.archiveiterator import ArchiveIterator"
   ]
  },
  {
   "cell_type": "code",
   "execution_count": 3,
   "id": "63da1d22-0650-47c9-9bb8-61a366f52bb3",
   "metadata": {
    "collapsed": true,
    "jupyter": {
     "outputs_hidden": true
    }
   },
   "outputs": [
    {
     "name": "stdout",
     "output_type": "stream",
     "text": [
      "Searching for occurrences of: Apple Company\n"
     ]
    },
    {
     "ename": "KeyboardInterrupt",
     "evalue": "",
     "output_type": "error",
     "traceback": [
      "\u001b[0;31m---------------------------------------------------------------------------\u001b[0m",
      "\u001b[0;31mKeyboardInterrupt\u001b[0m                         Traceback (most recent call last)",
      "Cell \u001b[0;32mIn[3], line 9\u001b[0m\n\u001b[1;32m      7\u001b[0m \u001b[38;5;28;01mtry\u001b[39;00m:\n\u001b[1;32m      8\u001b[0m     count \u001b[38;5;241m=\u001b[39m \u001b[38;5;241m0\u001b[39m\n\u001b[0;32m----> 9\u001b[0m     \u001b[38;5;28;01mfor\u001b[39;00m obj \u001b[38;5;129;01min\u001b[39;00m \u001b[43mcdx\u001b[49m\u001b[38;5;241;43m.\u001b[39;49m\u001b[43miter\u001b[49m\u001b[43m(\u001b[49m\u001b[43mquery\u001b[49m\u001b[43m,\u001b[49m\u001b[43m \u001b[49m\u001b[38;5;28;43mfilter\u001b[39;49m\u001b[38;5;241;43m=\u001b[39;49m\u001b[43m[\u001b[49m\u001b[38;5;124;43m'\u001b[39;49m\u001b[38;5;124;43mstatus:200\u001b[39;49m\u001b[38;5;124;43m'\u001b[39;49m\u001b[43m]\u001b[49m\u001b[43m,\u001b[49m\u001b[43m \u001b[49m\u001b[43mlimit\u001b[49m\u001b[38;5;241;43m=\u001b[39;49m\u001b[38;5;241;43m10\u001b[39;49m\u001b[43m)\u001b[49m:\n\u001b[1;32m     10\u001b[0m         \u001b[38;5;28mprint\u001b[39m(obj[\u001b[38;5;124m'\u001b[39m\u001b[38;5;124murl\u001b[39m\u001b[38;5;124m'\u001b[39m], obj[\u001b[38;5;124m'\u001b[39m\u001b[38;5;124mtimestamp\u001b[39m\u001b[38;5;124m'\u001b[39m])\n\u001b[1;32m     11\u001b[0m         count \u001b[38;5;241m+\u001b[39m\u001b[38;5;241m=\u001b[39m \u001b[38;5;241m1\u001b[39m\n",
      "File \u001b[0;32m~/anaconda3/envs/oxford_new/lib/python3.12/site-packages/cdx_toolkit/__init__.py:284\u001b[0m, in \u001b[0;36mCDXFetcher.iter\u001b[0;34m(self, url, **kwargs)\u001b[0m\n\u001b[1;32m    281\u001b[0m     apply_cc_defaults(params)\n\u001b[1;32m    283\u001b[0m index_list \u001b[38;5;241m=\u001b[39m \u001b[38;5;28mself\u001b[39m\u001b[38;5;241m.\u001b[39mcustomize_index_list(params)\n\u001b[0;32m--> 284\u001b[0m \u001b[38;5;28;01mreturn\u001b[39;00m \u001b[43mCDXFetcherIter\u001b[49m\u001b[43m(\u001b[49m\u001b[38;5;28;43mself\u001b[39;49m\u001b[43m,\u001b[49m\u001b[43m \u001b[49m\u001b[43mparams\u001b[49m\u001b[38;5;241;43m=\u001b[39;49m\u001b[43mparams\u001b[49m\u001b[43m,\u001b[49m\u001b[43m \u001b[49m\u001b[43mindex_list\u001b[49m\u001b[38;5;241;43m=\u001b[39;49m\u001b[43mindex_list\u001b[49m\u001b[43m)\u001b[49m\n",
      "File \u001b[0;32m~/anaconda3/envs/oxford_new/lib/python3.12/site-packages/cdx_toolkit/__init__.py:165\u001b[0m, in \u001b[0;36mCDXFetcherIter.__init__\u001b[0;34m(self, cdxfetcher, params, index_list)\u001b[0m\n\u001b[1;32m    162\u001b[0m \u001b[38;5;28mself\u001b[39m\u001b[38;5;241m.\u001b[39mcaptures \u001b[38;5;241m=\u001b[39m []\n\u001b[1;32m    163\u001b[0m \u001b[38;5;28mself\u001b[39m\u001b[38;5;241m.\u001b[39mindex_list \u001b[38;5;241m=\u001b[39m index_list\n\u001b[0;32m--> 165\u001b[0m \u001b[38;5;28;43mself\u001b[39;49m\u001b[38;5;241;43m.\u001b[39;49m\u001b[43mget_more\u001b[49m\u001b[43m(\u001b[49m\u001b[43m)\u001b[49m\n",
      "File \u001b[0;32m~/anaconda3/envs/oxford_new/lib/python3.12/site-packages/cdx_toolkit/__init__.py:174\u001b[0m, in \u001b[0;36mCDXFetcherIter.get_more\u001b[0;34m(self)\u001b[0m\n\u001b[1;32m    171\u001b[0m \u001b[38;5;28;01mif\u001b[39;00m \u001b[38;5;28mself\u001b[39m\u001b[38;5;241m.\u001b[39mpage \u001b[38;5;241m==\u001b[39m \u001b[38;5;241m0\u001b[39m \u001b[38;5;129;01mand\u001b[39;00m \u001b[38;5;28mlen\u001b[39m(\u001b[38;5;28mself\u001b[39m\u001b[38;5;241m.\u001b[39mindex_list) \u001b[38;5;241m>\u001b[39m \u001b[38;5;241m0\u001b[39m \u001b[38;5;129;01mand\u001b[39;00m \u001b[38;5;28mself\u001b[39m\u001b[38;5;241m.\u001b[39mendpoint \u001b[38;5;241m<\u001b[39m \u001b[38;5;28mlen\u001b[39m(\u001b[38;5;28mself\u001b[39m\u001b[38;5;241m.\u001b[39mindex_list):\n\u001b[1;32m    172\u001b[0m     LOGGER\u001b[38;5;241m.\u001b[39minfo(\u001b[38;5;124m'\u001b[39m\u001b[38;5;124mget_more: fetching cdx from \u001b[39m\u001b[38;5;132;01m%s\u001b[39;00m\u001b[38;5;124m'\u001b[39m, \u001b[38;5;28mself\u001b[39m\u001b[38;5;241m.\u001b[39mindex_list[\u001b[38;5;28mself\u001b[39m\u001b[38;5;241m.\u001b[39mendpoint])\n\u001b[0;32m--> 174\u001b[0m status, objs \u001b[38;5;241m=\u001b[39m \u001b[38;5;28;43mself\u001b[39;49m\u001b[38;5;241;43m.\u001b[39;49m\u001b[43mcdxfetcher\u001b[49m\u001b[38;5;241;43m.\u001b[39;49m\u001b[43mget_for_iter\u001b[49m\u001b[43m(\u001b[49m\u001b[38;5;28;43mself\u001b[39;49m\u001b[38;5;241;43m.\u001b[39;49m\u001b[43mendpoint\u001b[49m\u001b[43m,\u001b[49m\u001b[43m \u001b[49m\u001b[38;5;28;43mself\u001b[39;49m\u001b[38;5;241;43m.\u001b[39;49m\u001b[43mpage\u001b[49m\u001b[43m,\u001b[49m\n\u001b[1;32m    175\u001b[0m \u001b[43m                                            \u001b[49m\u001b[43mparams\u001b[49m\u001b[38;5;241;43m=\u001b[39;49m\u001b[38;5;28;43mself\u001b[39;49m\u001b[38;5;241;43m.\u001b[39;49m\u001b[43mparams\u001b[49m\u001b[43m,\u001b[49m\u001b[43m \u001b[49m\u001b[43mindex_list\u001b[49m\u001b[38;5;241;43m=\u001b[39;49m\u001b[38;5;28;43mself\u001b[39;49m\u001b[38;5;241;43m.\u001b[39;49m\u001b[43mindex_list\u001b[49m\u001b[43m)\u001b[49m\n\u001b[1;32m    176\u001b[0m \u001b[38;5;28;01mif\u001b[39;00m status \u001b[38;5;241m==\u001b[39m \u001b[38;5;124m'\u001b[39m\u001b[38;5;124mlast endpoint\u001b[39m\u001b[38;5;124m'\u001b[39m:\n\u001b[1;32m    177\u001b[0m     LOGGER\u001b[38;5;241m.\u001b[39mdebug(\u001b[38;5;124m'\u001b[39m\u001b[38;5;124mget_more: I have reached the end\u001b[39m\u001b[38;5;124m'\u001b[39m)\n",
      "File \u001b[0;32m~/anaconda3/envs/oxford_new/lib/python3.12/site-packages/cdx_toolkit/__init__.py:304\u001b[0m, in \u001b[0;36mCDXFetcher.get_for_iter\u001b[0;34m(self, endpoint, page, params, index_list)\u001b[0m\n\u001b[1;32m    302\u001b[0m endpoint \u001b[38;5;241m=\u001b[39m index_list[endpoint]\n\u001b[1;32m    303\u001b[0m params[\u001b[38;5;124m'\u001b[39m\u001b[38;5;124mpage\u001b[39m\u001b[38;5;124m'\u001b[39m] \u001b[38;5;241m=\u001b[39m page\n\u001b[0;32m--> 304\u001b[0m resp \u001b[38;5;241m=\u001b[39m \u001b[43mmyrequests_get\u001b[49m\u001b[43m(\u001b[49m\u001b[43mendpoint\u001b[49m\u001b[43m,\u001b[49m\u001b[43m \u001b[49m\u001b[43mparams\u001b[49m\u001b[38;5;241;43m=\u001b[39;49m\u001b[43mparams\u001b[49m\u001b[43m,\u001b[49m\u001b[43m \u001b[49m\u001b[43mcdx\u001b[49m\u001b[38;5;241;43m=\u001b[39;49m\u001b[38;5;28;43;01mTrue\u001b[39;49;00m\u001b[43m)\u001b[49m\n\u001b[1;32m    305\u001b[0m \u001b[38;5;28;01mif\u001b[39;00m resp\u001b[38;5;241m.\u001b[39mstatus_code \u001b[38;5;241m==\u001b[39m \u001b[38;5;241m400\u001b[39m:  \u001b[38;5;66;03m# pywb\u001b[39;00m\n\u001b[1;32m    306\u001b[0m     \u001b[38;5;28;01mreturn\u001b[39;00m \u001b[38;5;124m'\u001b[39m\u001b[38;5;124mlast page\u001b[39m\u001b[38;5;124m'\u001b[39m, []\n",
      "File \u001b[0;32m~/anaconda3/envs/oxford_new/lib/python3.12/site-packages/cdx_toolkit/myrequests.py:73\u001b[0m, in \u001b[0;36mmyrequests_get\u001b[0;34m(url, params, headers, cdx, allow404)\u001b[0m\n\u001b[1;32m     71\u001b[0m     \u001b[38;5;28;01mif\u001b[39;00m resp\u001b[38;5;241m.\u001b[39mtext:\n\u001b[1;32m     72\u001b[0m         LOGGER\u001b[38;5;241m.\u001b[39minfo(\u001b[38;5;124m'\u001b[39m\u001b[38;5;124mresponse body is \u001b[39m\u001b[38;5;132;01m%s\u001b[39;00m\u001b[38;5;124m'\u001b[39m, resp\u001b[38;5;241m.\u001b[39mtext)\n\u001b[0;32m---> 73\u001b[0m \u001b[43mtime\u001b[49m\u001b[38;5;241;43m.\u001b[39;49m\u001b[43msleep\u001b[49m\u001b[43m(\u001b[49m\u001b[43mretry_sec\u001b[49m\u001b[43m)\u001b[49m\n\u001b[1;32m     74\u001b[0m retry_sec \u001b[38;5;241m=\u001b[39m \u001b[38;5;28mmin\u001b[39m(retry_sec\u001b[38;5;241m*\u001b[39m\u001b[38;5;241m2\u001b[39m, retry_max_sec)\n\u001b[1;32m     75\u001b[0m \u001b[38;5;28;01mcontinue\u001b[39;00m\n",
      "\u001b[0;31mKeyboardInterrupt\u001b[0m: "
     ]
    }
   ],
   "source": [
    "import cdx_toolkit\n",
    "\n",
    "cdx = cdx_toolkit.CDXFetcher(source='cc')\n",
    "query = 'Apple Company'\n",
    "print(f\"Searching for occurrences of: {query}\")\n",
    "\n",
    "try:\n",
    "    count = 0\n",
    "    for obj in cdx.iter(query, filter=['status:200'], limit=10):\n",
    "        print(obj['url'], obj['timestamp'])\n",
    "        count += 1\n",
    "\n",
    "    if count == 0:\n",
    "        print(\"No results found. Consider adjusting the query or check network connectivity.\")\n",
    "except Exception as e:\n",
    "    print(f\"An error occurred: {e}\")"
   ]
  },
  {
   "cell_type": "code",
   "execution_count": 16,
   "id": "3b9bac5e-2f32-4b8b-94cc-abad07d75a7d",
   "metadata": {
    "scrolled": true
   },
   "outputs": [
    {
     "data": {
      "text/plain": [
       "[{'urlkey': 'org,commoncrawl)/',\n",
       "  'timestamp': '20200603175917',\n",
       "  'url': 'http://commoncrawl.org/',\n",
       "  'mime': 'text/html',\n",
       "  'mime-detected': 'text/html',\n",
       "  'status': '200',\n",
       "  'digest': 'CIBK2YFSVPNDFLXUHSKZG2SPN7UNN65W',\n",
       "  'length': '5448',\n",
       "  'offset': '27151522',\n",
       "  'filename': 'crawl-data/CC-MAIN-2020-24/segments/1590347435987.85/warc/CC-MAIN-20200603175139-20200603205139-00094.warc.gz',\n",
       "  'languages': 'eng',\n",
       "  'encoding': 'UTF-8'},\n",
       " {'urlkey': 'org,commoncrawl)/2010/10/slideshare-building-a-scalable-web-crawler-with-hadoop',\n",
       "  'timestamp': '20200607001248',\n",
       "  'url': 'https://commoncrawl.org/2010/10/slideshare-building-a-scalable-web-crawler-with-hadoop/',\n",
       "  'mime': 'text/html',\n",
       "  'mime-detected': 'text/html',\n",
       "  'status': '200',\n",
       "  'digest': 'SBLFUQLO3S5OR5ZUGKWSH3C7YTDOQXOJ',\n",
       "  'length': '5448',\n",
       "  'offset': '286036900',\n",
       "  'filename': 'crawl-data/CC-MAIN-2020-24/segments/1590348521325.84/warc/CC-MAIN-20200606222233-20200607012233-00196.warc.gz',\n",
       "  'languages': 'eng',\n",
       "  'encoding': 'UTF-8'},\n",
       " {'urlkey': 'org,commoncrawl)/2012/03/data-2-0-summit',\n",
       "  'timestamp': '20200607002827',\n",
       "  'url': 'http://commoncrawl.org/2012/03/data-2-0-summit/',\n",
       "  'mime': 'text/html',\n",
       "  'mime-detected': 'text/html',\n",
       "  'status': '200',\n",
       "  'digest': 'CP2BJHS2BRKT25GG3BXLIIQFEMKXBYDK',\n",
       "  'length': '7503',\n",
       "  'offset': '27155726',\n",
       "  'filename': 'crawl-data/CC-MAIN-2020-24/segments/1590348521325.84/warc/CC-MAIN-20200606222233-20200607012233-00089.warc.gz',\n",
       "  'languages': 'eng',\n",
       "  'encoding': 'UTF-8'},\n",
       " {'urlkey': 'org,commoncrawl)/2012/11/the-norvig-web-data-science-award',\n",
       "  'timestamp': '20200606223940',\n",
       "  'url': 'http://commoncrawl.org/2012/11/the-norvig-web-data-science-award/',\n",
       "  'mime': 'text/html',\n",
       "  'mime-detected': 'text/html',\n",
       "  'status': '200',\n",
       "  'digest': 'FRZBORBWWDNVMLJ3JHSURR3AJJV2HVBW',\n",
       "  'length': '6307',\n",
       "  'offset': '25681807',\n",
       "  'filename': 'crawl-data/CC-MAIN-2020-24/segments/1590348521325.84/warc/CC-MAIN-20200606222233-20200607012233-00244.warc.gz',\n",
       "  'languages': 'eng',\n",
       "  'encoding': 'UTF-8'},\n",
       " {'urlkey': 'org,commoncrawl)/2012/12/blekko-donates-search-data-to-common-crawl',\n",
       "  'timestamp': '20200606230846',\n",
       "  'url': 'https://commoncrawl.org/2012/12/blekko-donates-search-data-to-common-crawl/',\n",
       "  'mime': 'text/html',\n",
       "  'mime-detected': 'text/html',\n",
       "  'status': '200',\n",
       "  'digest': 'AU354RZVZ6VG32ULKTZM2UKYMLP54ZQ3',\n",
       "  'length': '6925',\n",
       "  'offset': '289331067',\n",
       "  'filename': 'crawl-data/CC-MAIN-2020-24/segments/1590348521325.84/warc/CC-MAIN-20200606222233-20200607012233-00181.warc.gz',\n",
       "  'languages': 'eng',\n",
       "  'encoding': 'UTF-8'}]"
      ]
     },
     "execution_count": 16,
     "metadata": {},
     "output_type": "execute_result"
    }
   ],
   "source": [
    "import cdx_toolkit\n",
    "cdx = cdx_toolkit.CDXFetcher(source='cc')\n",
    "\n",
    "objs = list(cdx.iter(url, from_ts='202002', to='202006', \n",
    "                     limit=5, filter='=status:200'))\n",
    "[o.data for o in objs]"
   ]
  },
  {
   "cell_type": "code",
   "execution_count": 36,
   "id": "c41bf5db-c917-4b7e-bfe6-92d5e79bb2d2",
   "metadata": {},
   "outputs": [
    {
     "ename": "ValueError",
     "evalue": "could not understand source",
     "output_type": "error",
     "traceback": [
      "\u001b[0;31m---------------------------------------------------------------------------\u001b[0m",
      "\u001b[0;31mValueError\u001b[0m                                Traceback (most recent call last)",
      "Cell \u001b[0;32mIn[36], line 3\u001b[0m\n\u001b[1;32m      1\u001b[0m \u001b[38;5;28;01mimport\u001b[39;00m \u001b[38;5;21;01mcdx_toolkit\u001b[39;00m\n\u001b[0;32m----> 3\u001b[0m cdx \u001b[38;5;241m=\u001b[39m \u001b[43mcdx_toolkit\u001b[49m\u001b[38;5;241;43m.\u001b[39;49m\u001b[43mCDXFetcher\u001b[49m\u001b[43m(\u001b[49m\u001b[43msource\u001b[49m\u001b[38;5;241;43m=\u001b[39;49m\u001b[38;5;124;43m'\u001b[39;49m\u001b[38;5;124;43mCC-MAIN-2024-10\u001b[39;49m\u001b[38;5;124;43m'\u001b[39;49m\u001b[43m)\u001b[49m\n\u001b[1;32m      4\u001b[0m query \u001b[38;5;241m=\u001b[39m \u001b[38;5;124m'\u001b[39m\u001b[38;5;124m*ford*\u001b[39m\u001b[38;5;124m'\u001b[39m  \u001b[38;5;66;03m# This will search for URLs containing both 'ford' and 'gpt4'\u001b[39;00m\n\u001b[1;32m      6\u001b[0m \u001b[38;5;28;01mfor\u001b[39;00m obj \u001b[38;5;129;01min\u001b[39;00m cdx\u001b[38;5;241m.\u001b[39miter(url\u001b[38;5;241m=\u001b[39mquery, from_timestamp\u001b[38;5;241m=\u001b[39m\u001b[38;5;124m'\u001b[39m\u001b[38;5;124m20230601000000\u001b[39m\u001b[38;5;124m'\u001b[39m, to_timestamp\u001b[38;5;241m=\u001b[39m\u001b[38;5;124m'\u001b[39m\u001b[38;5;124m20240101000000\u001b[39m\u001b[38;5;124m'\u001b[39m, \u001b[38;5;28mfilter\u001b[39m\u001b[38;5;241m=\u001b[39m[\u001b[38;5;124m'\u001b[39m\u001b[38;5;124mstatus:200\u001b[39m\u001b[38;5;124m'\u001b[39m, \u001b[38;5;124m'\u001b[39m\u001b[38;5;124mmime:text/html\u001b[39m\u001b[38;5;124m'\u001b[39m], limit\u001b[38;5;241m=\u001b[39m\u001b[38;5;241m10\u001b[39m):\n",
      "File \u001b[0;32m~/anaconda3/envs/oxford_new/lib/python3.12/site-packages/cdx_toolkit/__init__.py:227\u001b[0m, in \u001b[0;36mCDXFetcher.__init__\u001b[0;34m(self, source, wb, warc_download_prefix, cc_mirror, cc_sort, loglevel)\u001b[0m\n\u001b[1;32m    225\u001b[0m     \u001b[38;5;28mself\u001b[39m\u001b[38;5;241m.\u001b[39mindex_list \u001b[38;5;241m=\u001b[39m (source,)\n\u001b[1;32m    226\u001b[0m \u001b[38;5;28;01melse\u001b[39;00m:\n\u001b[0;32m--> 227\u001b[0m     \u001b[38;5;28;01mraise\u001b[39;00m \u001b[38;5;167;01mValueError\u001b[39;00m(\u001b[38;5;124m'\u001b[39m\u001b[38;5;124mcould not understand source\u001b[39m\u001b[38;5;124m'\u001b[39m)\n\u001b[1;32m    229\u001b[0m \u001b[38;5;28;01mif\u001b[39;00m loglevel:\n\u001b[1;32m    230\u001b[0m     LOGGER\u001b[38;5;241m.\u001b[39msetLevel(level\u001b[38;5;241m=\u001b[39mloglevel)\n",
      "\u001b[0;31mValueError\u001b[0m: could not understand source"
     ]
    }
   ],
   "source": [
    "import cdx_toolkit\n",
    "\n",
    "cdx = cdx_toolkit.CDXFetcher(source='CC-MAIN-2024-10')\n",
    "query = '*ford*'  # This will search for URLs containing both 'ford' and 'gpt4'\n",
    "\n",
    "for obj in cdx.iter(url=query, from_timestamp='20230601000000', to_timestamp='20240101000000', filter=['status:200', 'mime:text/html'], limit=10):\n",
    "    print(obj['url'], obj['timestamp'])"
   ]
  },
  {
   "cell_type": "code",
   "execution_count": null,
   "id": "6e5a973f-ae1a-4e7a-a2df-351906a78c20",
   "metadata": {},
   "outputs": [],
   "source": []
  }
 ],
 "metadata": {
  "kernelspec": {
   "display_name": "Python 3 (ipykernel)",
   "language": "python",
   "name": "python3"
  },
  "language_info": {
   "codemirror_mode": {
    "name": "ipython",
    "version": 3
   },
   "file_extension": ".py",
   "mimetype": "text/x-python",
   "name": "python",
   "nbconvert_exporter": "python",
   "pygments_lexer": "ipython3",
   "version": "3.12.1"
  }
 },
 "nbformat": 4,
 "nbformat_minor": 5
}
